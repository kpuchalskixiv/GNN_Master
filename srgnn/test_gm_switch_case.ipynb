{
 "cells": [
  {
   "cell_type": "markdown",
   "metadata": {},
   "source": [
    "# imports"
   ]
  },
  {
   "cell_type": "code",
   "execution_count": 1,
   "metadata": {},
   "outputs": [],
   "source": [
    "import pickle\n",
    "from srgnn_pl import SRGNN_model, SRGNN_Map_Dataset, SRGNN_sampler\n",
    "from utils import fake_parser\n",
    "import torch\n",
    "import os\n",
    "\n",
    "from torch.utils.data import DataLoader\n",
    "import pytorch_lightning as pl\n",
    "\n",
    "import numpy as np"
   ]
  },
  {
   "cell_type": "code",
   "execution_count": 2,
   "metadata": {},
   "outputs": [],
   "source": [
    "import matplotlib.pyplot as plt\n",
    "from tqdm import tqdm\n",
    "import pandas as pd\n",
    "import yaml\n",
    "from math import ceil\n",
    "from sklearn.mixture import GaussianMixture\n",
    "from IPython.display import clear_output"
   ]
  },
  {
   "cell_type": "markdown",
   "metadata": {},
   "source": [
    "# data loading"
   ]
  },
  {
   "cell_type": "code",
   "execution_count": 3,
   "metadata": {},
   "outputs": [],
   "source": [
    "torch.set_float32_matmul_precision('medium')"
   ]
  },
  {
   "cell_type": "code",
   "execution_count": 5,
   "metadata": {},
   "outputs": [],
   "source": [
    "global_run_id='run-20240209_162656-h23ej73g'"
   ]
  },
  {
   "cell_type": "code",
   "execution_count": 6,
   "metadata": {},
   "outputs": [
    {
     "name": "stdout",
     "output_type": "stream",
     "text": [
      "{'dataset': 'yoochoose_custom', 'batchSize': 128, 'hiddenSize': 64, 'epoch': 60, 'lr': 0.001, 'lr_dc': 0.1, 'lr_dc_step': 3, 'l2': 1e-05, 'step': 3, 'patience': 10, 'nonhybrid': False, 'validation': True, 'valid_portion': 0.2, 'pretrained_embedings': True, 'unfreeze_epoch': 1}\n"
     ]
    }
   ],
   "source": [
    "with open(f\"./wandb/{global_run_id}/files/config.yaml\", \"r\") as stream:\n",
    "        config=yaml.safe_load(stream)\n",
    "\n",
    "keys=list(config.keys())\n",
    "for k in keys:\n",
    "    if k not in fake_parser().__dict__.keys():\n",
    "        del config[k]\n",
    "    else:\n",
    "        config[k]=config[k]['value']\n",
    "\n",
    "opt=fake_parser(**config)\n",
    "print(opt.__dict__)\n",
    "\n",
    "model=SRGNN_model.load_from_checkpoint(f\"./GNN_master/{global_run_id.split('-')[-1]}/checkpoints/\"+\n",
    "                                       os.listdir(f\"./GNN_master/{global_run_id.split('-')[-1]}/checkpoints/\")[0], opt=opt)"
   ]
  },
  {
   "cell_type": "code",
   "execution_count": 7,
   "metadata": {},
   "outputs": [],
   "source": [
    "with open(f'./gmm_32_kmeans_{opt.hiddenSize}.gmm', 'rb') as gmm_file:\n",
    "    gm=pickle.load(gmm_file)\n",
    "#    session_labels=gm.predict(session_emb)"
   ]
  },
  {
   "cell_type": "code",
   "execution_count": 8,
   "metadata": {},
   "outputs": [
    {
     "name": "stdout",
     "output_type": "stream",
     "text": [
      "data masking start\n",
      "data masking 1\n",
      "data masking 2\n",
      "data masking 3\n",
      "done masking\n"
     ]
    }
   ],
   "source": [
    "test_data = pickle.load(open('../datasets/' + opt.dataset + '/test.txt', 'rb'))\n",
    "test_dataset=SRGNN_Map_Dataset(test_data, shuffle=False)\n",
    "test_dataloader=DataLoader(test_dataset, \n",
    "                            num_workers=os.cpu_count(),  \n",
    "                            sampler=SRGNN_sampler(test_dataset, opt.batchSize, shuffle=False, drop_last=False),\n",
    "                             drop_last=False\n",
    "                            )"
   ]
  },
  {
   "cell_type": "markdown",
   "metadata": {},
   "source": [
    "# global model results"
   ]
  },
  {
   "cell_type": "markdown",
   "metadata": {},
   "source": [
    "# evaluate each cluster model"
   ]
  },
  {
   "cell_type": "markdown",
   "metadata": {},
   "source": [
    "## all sessions"
   ]
  },
  {
   "cell_type": "code",
   "execution_count": 9,
   "metadata": {},
   "outputs": [
    {
     "name": "stderr",
     "output_type": "stream",
     "text": [
      "1214it [00:06, 176.86it/s]                          \n"
     ]
    }
   ],
   "source": [
    "session_emb=[]\n",
    "\n",
    "model.to('cuda')\n",
    "for batch in tqdm(test_dataloader, total=test_dataset.length//opt.batchSize):\n",
    "    batch=[b.to('cuda') for b in batch]\n",
    "    session_emb.append(model.get_session_embeddings(batch).cpu().detach().numpy())\n",
    "model.to('cpu')\n",
    "session_emb=np.concatenate(session_emb)"
   ]
  },
  {
   "cell_type": "code",
   "execution_count": 10,
   "metadata": {},
   "outputs": [
    {
     "name": "stderr",
     "output_type": "stream",
     "text": [
      "100%|██████████| 1214/1214 [00:01<00:00, 841.14it/s]\n"
     ]
    }
   ],
   "source": [
    "session_labels=[]\n",
    "for i in tqdm(range(ceil(session_emb.shape[0]/opt.batchSize))):\n",
    "    session_labels.append(gm.predict(session_emb[i*opt.batchSize: (i+1)*opt.batchSize]))\n",
    "session_labels=np.concatenate(session_labels)"
   ]
  },
  {
   "cell_type": "code",
   "execution_count": 12,
   "metadata": {},
   "outputs": [
    {
     "name": "stderr",
     "output_type": "stream",
     "text": [
      "1214it [00:44, 27.11it/s]                          \n"
     ]
    }
   ],
   "source": [
    "hit,mrr=[],[]\n",
    "model.to('cuda')\n",
    "for batch in tqdm(test_dataloader, total=test_dataset.length//opt.batchSize):\n",
    "    batch=[b.to('cuda') for b in batch]\n",
    "    sub_scores, targets=model.predict_step(batch)\n",
    "    targets=targets.flatten()\n",
    "    for score, target in zip(sub_scores, targets):\n",
    "        correct_pred=torch.isin(target - 1, score).cpu()\n",
    "        hit.append(correct_pred)\n",
    "        if not correct_pred:\n",
    "            mrr.append(0)\n",
    "        else:\n",
    "            mrr.append(1 / (torch.where(score == target - 1)[0][0] + 1).cpu())\n",
    "model.to('cpu')\n",
    "hit=np.array(hit)\n",
    "mrr=np.array(mrr)"
   ]
  },
  {
   "cell_type": "markdown",
   "metadata": {},
   "source": [
    "### finetuned"
   ]
  },
  {
   "cell_type": "code",
   "execution_count": null,
   "metadata": {},
   "outputs": [],
   "source": [
    "runs_df=pd.read_csv('./wandb_export_gm_finetune_runs.csv')\n",
    "runs_df['cluster']=runs_df.Name.map(lambda x: int(x.split('_')[-1]))"
   ]
  },
  {
   "cell_type": "markdown",
   "metadata": {},
   "source": [
    "### trained from scratch"
   ]
  },
  {
   "cell_type": "code",
   "execution_count": null,
   "metadata": {},
   "outputs": [],
   "source": [
    "runs_df=pd.read_csv('./wandb_export_gm_all_runs.csv')\n",
    "runs_df['cluster']=runs_df.Name.map(lambda x: int(x.split('_')[-1]))"
   ]
  },
  {
   "cell_type": "code",
   "execution_count": 13,
   "metadata": {},
   "outputs": [
    {
     "name": "stderr",
     "output_type": "stream",
     "text": [
      "GPU available: True (cuda), used: True\n",
      "TPU available: False, using: 0 TPU cores\n",
      "IPU available: False, using: 0 IPUs\n",
      "HPU available: False, using: 0 HPUs\n",
      "LOCAL_RANK: 0 - CUDA_VISIBLE_DEVICES: [0]\n"
     ]
    },
    {
     "name": "stdout",
     "output_type": "stream",
     "text": [
      "data masking start\n",
      "data masking 1\n",
      "data masking 2\n",
      "data masking 3\n",
      "done masking\n"
     ]
    },
    {
     "data": {
      "application/vnd.jupyter.widget-view+json": {
       "model_id": "81466c749d04476981ed7c9c0126450b",
       "version_major": 2,
       "version_minor": 0
      },
      "text/plain": [
       "Testing: 0it [00:00, ?it/s]"
      ]
     },
     "metadata": {},
     "output_type": "display_data"
    },
    {
     "data": {
      "text/html": [
       "<pre style=\"white-space:pre;overflow-x:auto;line-height:normal;font-family:Menlo,'DejaVu Sans Mono',consolas,'Courier New',monospace\">┏━━━━━━━━━━━━━━━━━━━━━━━━━━━┳━━━━━━━━━━━━━━━━━━━━━━━━━━━┓\n",
       "┃<span style=\"font-weight: bold\">   Runningstage.testing    </span>┃<span style=\"font-weight: bold\">                           </span>┃\n",
       "┃<span style=\"font-weight: bold\">          metric           </span>┃<span style=\"font-weight: bold\">       DataLoader 0        </span>┃\n",
       "┡━━━━━━━━━━━━━━━━━━━━━━━━━━━╇━━━━━━━━━━━━━━━━━━━━━━━━━━━┩\n",
       "│<span style=\"color: #008080; text-decoration-color: #008080\">         test_hit          </span>│<span style=\"color: #800080; text-decoration-color: #800080\">    0.36204269528388977    </span>│\n",
       "│<span style=\"color: #008080; text-decoration-color: #008080\">         test_loss         </span>│<span style=\"color: #800080; text-decoration-color: #800080\">    11.874570846557617     </span>│\n",
       "│<span style=\"color: #008080; text-decoration-color: #008080\">         test_mrr          </span>│<span style=\"color: #800080; text-decoration-color: #800080\">    0.04756525531411171    </span>│\n",
       "└───────────────────────────┴───────────────────────────┘\n",
       "</pre>\n"
      ],
      "text/plain": [
       "┏━━━━━━━━━━━━━━━━━━━━━━━━━━━┳━━━━━━━━━━━━━━━━━━━━━━━━━━━┓\n",
       "┃\u001b[1m \u001b[0m\u001b[1m  Runningstage.testing   \u001b[0m\u001b[1m \u001b[0m┃\u001b[1m                           \u001b[0m┃\n",
       "┃\u001b[1m \u001b[0m\u001b[1m         metric          \u001b[0m\u001b[1m \u001b[0m┃\u001b[1m \u001b[0m\u001b[1m      DataLoader 0       \u001b[0m\u001b[1m \u001b[0m┃\n",
       "┡━━━━━━━━━━━━━━━━━━━━━━━━━━━╇━━━━━━━━━━━━━━━━━━━━━━━━━━━┩\n",
       "│\u001b[36m \u001b[0m\u001b[36m        test_hit         \u001b[0m\u001b[36m \u001b[0m│\u001b[35m \u001b[0m\u001b[35m   0.36204269528388977   \u001b[0m\u001b[35m \u001b[0m│\n",
       "│\u001b[36m \u001b[0m\u001b[36m        test_loss        \u001b[0m\u001b[36m \u001b[0m│\u001b[35m \u001b[0m\u001b[35m   11.874570846557617    \u001b[0m\u001b[35m \u001b[0m│\n",
       "│\u001b[36m \u001b[0m\u001b[36m        test_mrr         \u001b[0m\u001b[36m \u001b[0m│\u001b[35m \u001b[0m\u001b[35m   0.04756525531411171   \u001b[0m\u001b[35m \u001b[0m│\n",
       "└───────────────────────────┴───────────────────────────┘\n"
      ]
     },
     "metadata": {},
     "output_type": "display_data"
    },
    {
     "name": "stderr",
     "output_type": "stream",
     "text": [
      "100%|██████████| 32/32 [01:11<00:00,  2.22s/it]\n"
     ]
    }
   ],
   "source": [
    "cluster_results=[]\n",
    "cluster_results.append(\n",
    "{'cluster':-1, \n",
    " 'test_loss': np.nan,\n",
    " 'test_hit': np.average(hit),\n",
    " 'test_mrr': np.average(mrr)})\n",
    "\n",
    "for c in tqdm(range(gm.n_components)):\n",
    "    clear_output(wait=True)\n",
    "    idxs=np.arange(len(test_data[0]))[session_labels==c]\n",
    "\n",
    "    cluster_sess=[test_data[0][i] for i in idxs]\n",
    "    cluster_targets=[test_data[1][i] for i in idxs]\n",
    "    cluster_data=(cluster_sess,cluster_targets)\n",
    "    cluster_dataset=SRGNN_Map_Dataset(cluster_data, shuffle=False)\n",
    "    cluster_dataloader=DataLoader(cluster_dataset, \n",
    "                            num_workers=os.cpu_count(),  \n",
    "                            sampler=SRGNN_sampler(cluster_dataset, opt.batchSize, shuffle=False, drop_last=False),\n",
    "                             drop_last=False\n",
    "                            )\n",
    "    run_id=runs_df.loc[runs_df.cluster==c].ID.item()\n",
    "    cluster_model=SRGNN_model.load_from_checkpoint(f\"./GNN_master/{run_id}/checkpoints/\"+\n",
    "                                       os.listdir(f\"./GNN_master/{run_id}/checkpoints/\")[0], opt=opt)\n",
    "    \n",
    "    trainer=pl.Trainer(limit_test_batches=ceil(cluster_dataset.length/opt.batchSize),limit_predict_batches=ceil(cluster_dataset.length/opt.batchSize))\n",
    "    metrics=trainer.test(cluster_model, cluster_dataloader)[0]#only one dataloader\n",
    "    metrics['cluster']=c\n",
    "    metrics['global_model_hit']=100*np.average(hit[idxs])\n",
    "    metrics['global_model_mrr']=100*np.average(mrr[idxs])\n",
    "    cluster_results.append(metrics)"
   ]
  },
  {
   "cell_type": "code",
   "execution_count": 14,
   "metadata": {},
   "outputs": [],
   "source": [
    "cluster_results=pd.DataFrame(cluster_results)"
   ]
  },
  {
   "cell_type": "code",
   "execution_count": 15,
   "metadata": {},
   "outputs": [
    {
     "data": {
      "text/html": [
       "<div>\n",
       "<style scoped>\n",
       "    .dataframe tbody tr th:only-of-type {\n",
       "        vertical-align: middle;\n",
       "    }\n",
       "\n",
       "    .dataframe tbody tr th {\n",
       "        vertical-align: top;\n",
       "    }\n",
       "\n",
       "    .dataframe thead th {\n",
       "        text-align: right;\n",
       "    }\n",
       "</style>\n",
       "<table border=\"1\" class=\"dataframe\">\n",
       "  <thead>\n",
       "    <tr style=\"text-align: right;\">\n",
       "      <th></th>\n",
       "      <th>cluster</th>\n",
       "      <th>test_loss</th>\n",
       "      <th>test_hit</th>\n",
       "      <th>test_mrr</th>\n",
       "      <th>global_model_hit</th>\n",
       "      <th>global_model_mrr</th>\n",
       "    </tr>\n",
       "  </thead>\n",
       "  <tbody>\n",
       "    <tr>\n",
       "      <th>0</th>\n",
       "      <td>-1</td>\n",
       "      <td>NaN</td>\n",
       "      <td>0.553531</td>\n",
       "      <td>0.248305</td>\n",
       "      <td>NaN</td>\n",
       "      <td>NaN</td>\n",
       "    </tr>\n",
       "    <tr>\n",
       "      <th>1</th>\n",
       "      <td>0</td>\n",
       "      <td>26.611471</td>\n",
       "      <td>0.831330</td>\n",
       "      <td>0.148933</td>\n",
       "      <td>55.021351</td>\n",
       "      <td>24.667072</td>\n",
       "    </tr>\n",
       "    <tr>\n",
       "      <th>2</th>\n",
       "      <td>1</td>\n",
       "      <td>10.883867</td>\n",
       "      <td>2.296442</td>\n",
       "      <td>0.890496</td>\n",
       "      <td>55.911824</td>\n",
       "      <td>32.335965</td>\n",
       "    </tr>\n",
       "    <tr>\n",
       "      <th>3</th>\n",
       "      <td>2</td>\n",
       "      <td>9.350189</td>\n",
       "      <td>7.946135</td>\n",
       "      <td>2.162092</td>\n",
       "      <td>54.569892</td>\n",
       "      <td>22.735172</td>\n",
       "    </tr>\n",
       "    <tr>\n",
       "      <th>4</th>\n",
       "      <td>3</td>\n",
       "      <td>10.921228</td>\n",
       "      <td>0.789494</td>\n",
       "      <td>0.171856</td>\n",
       "      <td>24.083590</td>\n",
       "      <td>9.477628</td>\n",
       "    </tr>\n",
       "    <tr>\n",
       "      <th>5</th>\n",
       "      <td>4</td>\n",
       "      <td>7.368024</td>\n",
       "      <td>36.409153</td>\n",
       "      <td>15.105134</td>\n",
       "      <td>50.296424</td>\n",
       "      <td>20.445324</td>\n",
       "    </tr>\n",
       "    <tr>\n",
       "      <th>6</th>\n",
       "      <td>5</td>\n",
       "      <td>11.659607</td>\n",
       "      <td>1.852679</td>\n",
       "      <td>0.428738</td>\n",
       "      <td>63.672922</td>\n",
       "      <td>27.894669</td>\n",
       "    </tr>\n",
       "    <tr>\n",
       "      <th>7</th>\n",
       "      <td>6</td>\n",
       "      <td>9.130525</td>\n",
       "      <td>4.165573</td>\n",
       "      <td>1.106665</td>\n",
       "      <td>62.656582</td>\n",
       "      <td>26.534482</td>\n",
       "    </tr>\n",
       "    <tr>\n",
       "      <th>8</th>\n",
       "      <td>7</td>\n",
       "      <td>10.206665</td>\n",
       "      <td>2.900764</td>\n",
       "      <td>0.830030</td>\n",
       "      <td>52.854974</td>\n",
       "      <td>26.665005</td>\n",
       "    </tr>\n",
       "    <tr>\n",
       "      <th>9</th>\n",
       "      <td>8</td>\n",
       "      <td>11.461602</td>\n",
       "      <td>0.746528</td>\n",
       "      <td>0.258960</td>\n",
       "      <td>59.394572</td>\n",
       "      <td>27.624812</td>\n",
       "    </tr>\n",
       "    <tr>\n",
       "      <th>10</th>\n",
       "      <td>9</td>\n",
       "      <td>6.553952</td>\n",
       "      <td>47.368011</td>\n",
       "      <td>20.587755</td>\n",
       "      <td>60.869565</td>\n",
       "      <td>25.456644</td>\n",
       "    </tr>\n",
       "    <tr>\n",
       "      <th>11</th>\n",
       "      <td>10</td>\n",
       "      <td>15.756034</td>\n",
       "      <td>2.095094</td>\n",
       "      <td>0.431658</td>\n",
       "      <td>53.409091</td>\n",
       "      <td>22.269886</td>\n",
       "    </tr>\n",
       "    <tr>\n",
       "      <th>12</th>\n",
       "      <td>11</td>\n",
       "      <td>6.690581</td>\n",
       "      <td>49.138721</td>\n",
       "      <td>19.572289</td>\n",
       "      <td>60.659157</td>\n",
       "      <td>24.812655</td>\n",
       "    </tr>\n",
       "    <tr>\n",
       "      <th>13</th>\n",
       "      <td>12</td>\n",
       "      <td>10.542349</td>\n",
       "      <td>0.580019</td>\n",
       "      <td>0.182831</td>\n",
       "      <td>44.777551</td>\n",
       "      <td>19.390092</td>\n",
       "    </tr>\n",
       "    <tr>\n",
       "      <th>14</th>\n",
       "      <td>13</td>\n",
       "      <td>10.910599</td>\n",
       "      <td>0.365208</td>\n",
       "      <td>0.029697</td>\n",
       "      <td>63.382851</td>\n",
       "      <td>27.012775</td>\n",
       "    </tr>\n",
       "    <tr>\n",
       "      <th>15</th>\n",
       "      <td>14</td>\n",
       "      <td>8.692710</td>\n",
       "      <td>7.118850</td>\n",
       "      <td>2.066070</td>\n",
       "      <td>71.828047</td>\n",
       "      <td>37.271284</td>\n",
       "    </tr>\n",
       "    <tr>\n",
       "      <th>16</th>\n",
       "      <td>15</td>\n",
       "      <td>10.665959</td>\n",
       "      <td>1.709559</td>\n",
       "      <td>0.298376</td>\n",
       "      <td>66.258919</td>\n",
       "      <td>28.286735</td>\n",
       "    </tr>\n",
       "    <tr>\n",
       "      <th>17</th>\n",
       "      <td>16</td>\n",
       "      <td>10.192840</td>\n",
       "      <td>3.192935</td>\n",
       "      <td>0.777042</td>\n",
       "      <td>55.672638</td>\n",
       "      <td>23.036644</td>\n",
       "    </tr>\n",
       "    <tr>\n",
       "      <th>18</th>\n",
       "      <td>17</td>\n",
       "      <td>11.664358</td>\n",
       "      <td>0.510817</td>\n",
       "      <td>0.069149</td>\n",
       "      <td>43.069007</td>\n",
       "      <td>15.262624</td>\n",
       "    </tr>\n",
       "    <tr>\n",
       "      <th>19</th>\n",
       "      <td>18</td>\n",
       "      <td>12.235468</td>\n",
       "      <td>0.055804</td>\n",
       "      <td>0.002790</td>\n",
       "      <td>63.130129</td>\n",
       "      <td>34.503448</td>\n",
       "    </tr>\n",
       "    <tr>\n",
       "      <th>20</th>\n",
       "      <td>19</td>\n",
       "      <td>7.509089</td>\n",
       "      <td>20.766977</td>\n",
       "      <td>5.762560</td>\n",
       "      <td>54.052063</td>\n",
       "      <td>23.929281</td>\n",
       "    </tr>\n",
       "    <tr>\n",
       "      <th>21</th>\n",
       "      <td>20</td>\n",
       "      <td>7.468207</td>\n",
       "      <td>36.289825</td>\n",
       "      <td>15.627373</td>\n",
       "      <td>55.248092</td>\n",
       "      <td>23.990247</td>\n",
       "    </tr>\n",
       "    <tr>\n",
       "      <th>22</th>\n",
       "      <td>21</td>\n",
       "      <td>10.379762</td>\n",
       "      <td>2.313702</td>\n",
       "      <td>0.295806</td>\n",
       "      <td>60.073937</td>\n",
       "      <td>27.785596</td>\n",
       "    </tr>\n",
       "    <tr>\n",
       "      <th>23</th>\n",
       "      <td>22</td>\n",
       "      <td>8.570292</td>\n",
       "      <td>21.147852</td>\n",
       "      <td>9.004901</td>\n",
       "      <td>42.015371</td>\n",
       "      <td>18.736849</td>\n",
       "    </tr>\n",
       "    <tr>\n",
       "      <th>24</th>\n",
       "      <td>23</td>\n",
       "      <td>41.295441</td>\n",
       "      <td>8.208333</td>\n",
       "      <td>1.743551</td>\n",
       "      <td>49.256329</td>\n",
       "      <td>20.730682</td>\n",
       "    </tr>\n",
       "    <tr>\n",
       "      <th>25</th>\n",
       "      <td>24</td>\n",
       "      <td>14.684633</td>\n",
       "      <td>10.909722</td>\n",
       "      <td>4.110821</td>\n",
       "      <td>63.268893</td>\n",
       "      <td>24.173545</td>\n",
       "    </tr>\n",
       "    <tr>\n",
       "      <th>26</th>\n",
       "      <td>25</td>\n",
       "      <td>10.025493</td>\n",
       "      <td>0.030048</td>\n",
       "      <td>0.005008</td>\n",
       "      <td>63.791009</td>\n",
       "      <td>26.348737</td>\n",
       "    </tr>\n",
       "    <tr>\n",
       "      <th>27</th>\n",
       "      <td>26</td>\n",
       "      <td>10.292048</td>\n",
       "      <td>0.944010</td>\n",
       "      <td>0.163982</td>\n",
       "      <td>60.331417</td>\n",
       "      <td>28.966172</td>\n",
       "    </tr>\n",
       "    <tr>\n",
       "      <th>28</th>\n",
       "      <td>27</td>\n",
       "      <td>10.084687</td>\n",
       "      <td>0.753348</td>\n",
       "      <td>0.151374</td>\n",
       "      <td>63.849900</td>\n",
       "      <td>27.244175</td>\n",
       "    </tr>\n",
       "    <tr>\n",
       "      <th>29</th>\n",
       "      <td>28</td>\n",
       "      <td>10.828115</td>\n",
       "      <td>0.485642</td>\n",
       "      <td>0.060325</td>\n",
       "      <td>52.048558</td>\n",
       "      <td>20.967476</td>\n",
       "    </tr>\n",
       "    <tr>\n",
       "      <th>30</th>\n",
       "      <td>29</td>\n",
       "      <td>8.301623</td>\n",
       "      <td>30.478598</td>\n",
       "      <td>13.552496</td>\n",
       "      <td>63.099631</td>\n",
       "      <td>28.160367</td>\n",
       "    </tr>\n",
       "    <tr>\n",
       "      <th>31</th>\n",
       "      <td>30</td>\n",
       "      <td>9.552964</td>\n",
       "      <td>2.149526</td>\n",
       "      <td>0.662041</td>\n",
       "      <td>69.834140</td>\n",
       "      <td>31.456691</td>\n",
       "    </tr>\n",
       "    <tr>\n",
       "      <th>32</th>\n",
       "      <td>31</td>\n",
       "      <td>11.874571</td>\n",
       "      <td>0.362043</td>\n",
       "      <td>0.047565</td>\n",
       "      <td>47.959379</td>\n",
       "      <td>19.321741</td>\n",
       "    </tr>\n",
       "  </tbody>\n",
       "</table>\n",
       "</div>"
      ],
      "text/plain": [
       "    cluster  test_loss   test_hit   test_mrr  global_model_hit  \\\n",
       "0        -1        NaN   0.553531   0.248305               NaN   \n",
       "1         0  26.611471   0.831330   0.148933         55.021351   \n",
       "2         1  10.883867   2.296442   0.890496         55.911824   \n",
       "3         2   9.350189   7.946135   2.162092         54.569892   \n",
       "4         3  10.921228   0.789494   0.171856         24.083590   \n",
       "5         4   7.368024  36.409153  15.105134         50.296424   \n",
       "6         5  11.659607   1.852679   0.428738         63.672922   \n",
       "7         6   9.130525   4.165573   1.106665         62.656582   \n",
       "8         7  10.206665   2.900764   0.830030         52.854974   \n",
       "9         8  11.461602   0.746528   0.258960         59.394572   \n",
       "10        9   6.553952  47.368011  20.587755         60.869565   \n",
       "11       10  15.756034   2.095094   0.431658         53.409091   \n",
       "12       11   6.690581  49.138721  19.572289         60.659157   \n",
       "13       12  10.542349   0.580019   0.182831         44.777551   \n",
       "14       13  10.910599   0.365208   0.029697         63.382851   \n",
       "15       14   8.692710   7.118850   2.066070         71.828047   \n",
       "16       15  10.665959   1.709559   0.298376         66.258919   \n",
       "17       16  10.192840   3.192935   0.777042         55.672638   \n",
       "18       17  11.664358   0.510817   0.069149         43.069007   \n",
       "19       18  12.235468   0.055804   0.002790         63.130129   \n",
       "20       19   7.509089  20.766977   5.762560         54.052063   \n",
       "21       20   7.468207  36.289825  15.627373         55.248092   \n",
       "22       21  10.379762   2.313702   0.295806         60.073937   \n",
       "23       22   8.570292  21.147852   9.004901         42.015371   \n",
       "24       23  41.295441   8.208333   1.743551         49.256329   \n",
       "25       24  14.684633  10.909722   4.110821         63.268893   \n",
       "26       25  10.025493   0.030048   0.005008         63.791009   \n",
       "27       26  10.292048   0.944010   0.163982         60.331417   \n",
       "28       27  10.084687   0.753348   0.151374         63.849900   \n",
       "29       28  10.828115   0.485642   0.060325         52.048558   \n",
       "30       29   8.301623  30.478598  13.552496         63.099631   \n",
       "31       30   9.552964   2.149526   0.662041         69.834140   \n",
       "32       31  11.874571   0.362043   0.047565         47.959379   \n",
       "\n",
       "    global_model_mrr  \n",
       "0                NaN  \n",
       "1          24.667072  \n",
       "2          32.335965  \n",
       "3          22.735172  \n",
       "4           9.477628  \n",
       "5          20.445324  \n",
       "6          27.894669  \n",
       "7          26.534482  \n",
       "8          26.665005  \n",
       "9          27.624812  \n",
       "10         25.456644  \n",
       "11         22.269886  \n",
       "12         24.812655  \n",
       "13         19.390092  \n",
       "14         27.012775  \n",
       "15         37.271284  \n",
       "16         28.286735  \n",
       "17         23.036644  \n",
       "18         15.262624  \n",
       "19         34.503448  \n",
       "20         23.929281  \n",
       "21         23.990247  \n",
       "22         27.785596  \n",
       "23         18.736849  \n",
       "24         20.730682  \n",
       "25         24.173545  \n",
       "26         26.348737  \n",
       "27         28.966172  \n",
       "28         27.244175  \n",
       "29         20.967476  \n",
       "30         28.160367  \n",
       "31         31.456691  \n",
       "32         19.321741  "
      ]
     },
     "execution_count": 15,
     "metadata": {},
     "output_type": "execute_result"
    }
   ],
   "source": [
    "cluster_results"
   ]
  },
  {
   "cell_type": "code",
   "execution_count": 80,
   "metadata": {},
   "outputs": [
    {
     "data": {
      "text/plain": [
       "False"
      ]
     },
     "execution_count": 80,
     "metadata": {},
     "output_type": "execute_result"
    }
   ],
   "source": [
    "(cluster_results.test_hit>cluster_results.global_model_hit).any()"
   ]
  },
  {
   "cell_type": "markdown",
   "metadata": {},
   "source": [
    "## full sessions"
   ]
  },
  {
   "cell_type": "code",
   "execution_count": 124,
   "metadata": {},
   "outputs": [
    {
     "name": "stderr",
     "output_type": "stream",
     "text": [
      "152it [00:13, 11.67it/s]                         \n"
     ]
    }
   ],
   "source": [
    "full_session_emb=[]\n",
    "full_sessions=[]\n",
    "for batch in tqdm(test_dataloader, total=test_dataset.length//opt.batchSize):\n",
    "    # use only original sessions\n",
    "    a=batch[3][0]\n",
    "    a=torch.vstack([torch.zeros(a.shape[1]), a])\n",
    "    idxs=torch.diff(a, dim=0).sum(axis=1)\n",
    "    for i in range(len(batch)):\n",
    "        batch[i]=batch[i][:,idxs>0]\n",
    "    #print(batch[0].shape)\n",
    "    #break\n",
    "    full_sessions.append(batch)\n",
    "    full_session_emb.append(model.get_session_embeddings(batch).detach().numpy())\n",
    "full_session_emb=np.concatenate(full_session_emb)"
   ]
  },
  {
   "cell_type": "code",
   "execution_count": 125,
   "metadata": {},
   "outputs": [],
   "source": [
    "full_session_labels=gm.predict(full_session_emb)"
   ]
  },
  {
   "cell_type": "code",
   "execution_count": 126,
   "metadata": {},
   "outputs": [
    {
     "data": {
      "text/plain": [
       "34034"
      ]
     },
     "execution_count": 126,
     "metadata": {},
     "output_type": "execute_result"
    }
   ],
   "source": [
    "len(full_session_labels)"
   ]
  },
  {
   "cell_type": "code",
   "execution_count": 127,
   "metadata": {},
   "outputs": [
    {
     "name": "stderr",
     "output_type": "stream",
     "text": [
      "100%|██████████| 152/152 [00:12<00:00, 12.41it/s]\n"
     ]
    }
   ],
   "source": [
    "hit,mrr=[],[]\n",
    "for batch in tqdm(full_sessions):\n",
    "    sub_scores, targets=model.predict_step(batch)\n",
    "    targets=targets.flatten()\n",
    "    for score, target in zip(sub_scores, targets):\n",
    "        correct_pred=torch.isin(target - 1, score)\n",
    "        hit.append(correct_pred)\n",
    "        if not correct_pred:\n",
    "            mrr.append(0)\n",
    "        else:\n",
    "            mrr.append(1 / (torch.where(score == target - 1)[0][0] + 1))\n",
    "hit=np.array(hit)\n",
    "mrr=np.array(mrr)"
   ]
  },
  {
   "cell_type": "code",
   "execution_count": 129,
   "metadata": {},
   "outputs": [
    {
     "name": "stderr",
     "output_type": "stream",
     "text": [
      "100%|██████████| 32/32 [00:16<00:00,  1.90it/s]\n"
     ]
    }
   ],
   "source": [
    "full_sess_results=[]\n",
    "full_sess_results.append(\n",
    "{'cluster':-1, \n",
    " 'global_model_hit': np.average(hit),\n",
    " 'global_model_mrr': np.average(mrr)})\n",
    "\n",
    "for c in tqdm(range(gm.n_components)):\n",
    "    clear_output(wait=True)\n",
    "    idxs=full_session_labels==c\n",
    "\n",
    "    run_id=runs_df.loc[runs_df.cluster==c].ID.item()\n",
    "    cluster_model=SRGNN_model.load_from_checkpoint(f\"./GNN_master/{run_id}/checkpoints/\"+\n",
    "                                       os.listdir(f\"./GNN_master/{run_id}/checkpoints/\")[0], opt=opt)\n",
    "    cluster_model.to('cpu')\n",
    "    \n",
    "    chit,cmrr=[],[]\n",
    "    counter=0\n",
    "    prev_batch=None\n",
    "    for batch in (full_sessions):\n",
    "        batch_idxs=idxs[counter:counter+batch[4].shape[-1]]\n",
    "        counter+=batch[4].shape[-1]\n",
    "\n",
    "        batch=[b[:, batch_idxs] for b in batch]\n",
    "        \n",
    "\n",
    "        sub_scores, targets=cluster_model.predict_step(batch)\n",
    "        targets=targets.flatten()\n",
    "        for score, target in zip(sub_scores, targets):\n",
    "            correct_pred=torch.isin(target - 1, score)\n",
    "            chit.append(correct_pred)\n",
    "            if not correct_pred:\n",
    "                cmrr.append(0)\n",
    "            else:\n",
    "                cmrr.append(1 / (torch.where(score == target - 1)[0][0] + 1))\n",
    "\n",
    "    metrics={}\n",
    "    metrics['cluster']=c\n",
    "    metrics['model_hit']=100*np.average(chit)\n",
    "    metrics['model_mrr']=100*np.average(cmrr)\n",
    "    metrics['global_model_hit']=100*np.average(hit[idxs])\n",
    "    metrics['global_model_mrr']=100*np.average(mrr[idxs])\n",
    "    full_sess_results.append(metrics)"
   ]
  },
  {
   "cell_type": "code",
   "execution_count": null,
   "metadata": {},
   "outputs": [],
   "source": []
  },
  {
   "cell_type": "code",
   "execution_count": 131,
   "metadata": {},
   "outputs": [],
   "source": [
    "full_sess_results=pd.DataFrame(full_sess_results)"
   ]
  },
  {
   "cell_type": "code",
   "execution_count": 136,
   "metadata": {},
   "outputs": [
    {
     "data": {
      "text/html": [
       "<div>\n",
       "<style scoped>\n",
       "    .dataframe tbody tr th:only-of-type {\n",
       "        vertical-align: middle;\n",
       "    }\n",
       "\n",
       "    .dataframe tbody tr th {\n",
       "        vertical-align: top;\n",
       "    }\n",
       "\n",
       "    .dataframe thead th {\n",
       "        text-align: right;\n",
       "    }\n",
       "</style>\n",
       "<table border=\"1\" class=\"dataframe\">\n",
       "  <thead>\n",
       "    <tr style=\"text-align: right;\">\n",
       "      <th></th>\n",
       "      <th>cluster</th>\n",
       "      <th>test_loss</th>\n",
       "      <th>test_hit</th>\n",
       "      <th>test_mrr</th>\n",
       "      <th>model_hit</th>\n",
       "      <th>model_mrr</th>\n",
       "      <th>global_model_hit</th>\n",
       "      <th>global_model_mrr</th>\n",
       "    </tr>\n",
       "  </thead>\n",
       "  <tbody>\n",
       "    <tr>\n",
       "      <th>10</th>\n",
       "      <td>9</td>\n",
       "      <td>NaN</td>\n",
       "      <td>NaN</td>\n",
       "      <td>NaN</td>\n",
       "      <td>61.501597</td>\n",
       "      <td>28.099945</td>\n",
       "      <td>62.616822</td>\n",
       "      <td>27.867965</td>\n",
       "    </tr>\n",
       "    <tr>\n",
       "      <th>15</th>\n",
       "      <td>14</td>\n",
       "      <td>NaN</td>\n",
       "      <td>NaN</td>\n",
       "      <td>NaN</td>\n",
       "      <td>68.902439</td>\n",
       "      <td>35.281173</td>\n",
       "      <td>68.471954</td>\n",
       "      <td>34.602202</td>\n",
       "    </tr>\n",
       "  </tbody>\n",
       "</table>\n",
       "</div>"
      ],
      "text/plain": [
       "    cluster  test_loss  test_hit  test_mrr  model_hit  model_mrr  \\\n",
       "10        9        NaN       NaN       NaN  61.501597  28.099945   \n",
       "15       14        NaN       NaN       NaN  68.902439  35.281173   \n",
       "\n",
       "    global_model_hit  global_model_mrr  \n",
       "10         62.616822         27.867965  \n",
       "15         68.471954         34.602202  "
      ]
     },
     "execution_count": 136,
     "metadata": {},
     "output_type": "execute_result"
    }
   ],
   "source": [
    "full_sess_results.iloc[(full_sess_results.model_mrr>full_sess_results.global_model_mrr).values]"
   ]
  },
  {
   "cell_type": "code",
   "execution_count": 135,
   "metadata": {},
   "outputs": [
    {
     "data": {
      "text/html": [
       "<div>\n",
       "<style scoped>\n",
       "    .dataframe tbody tr th:only-of-type {\n",
       "        vertical-align: middle;\n",
       "    }\n",
       "\n",
       "    .dataframe tbody tr th {\n",
       "        vertical-align: top;\n",
       "    }\n",
       "\n",
       "    .dataframe thead th {\n",
       "        text-align: right;\n",
       "    }\n",
       "</style>\n",
       "<table border=\"1\" class=\"dataframe\">\n",
       "  <thead>\n",
       "    <tr style=\"text-align: right;\">\n",
       "      <th></th>\n",
       "      <th>cluster</th>\n",
       "      <th>test_loss</th>\n",
       "      <th>test_hit</th>\n",
       "      <th>test_mrr</th>\n",
       "      <th>model_hit</th>\n",
       "      <th>model_mrr</th>\n",
       "      <th>global_model_hit</th>\n",
       "      <th>global_model_mrr</th>\n",
       "    </tr>\n",
       "  </thead>\n",
       "  <tbody>\n",
       "    <tr>\n",
       "      <th>15</th>\n",
       "      <td>14</td>\n",
       "      <td>NaN</td>\n",
       "      <td>NaN</td>\n",
       "      <td>NaN</td>\n",
       "      <td>68.902439</td>\n",
       "      <td>35.281173</td>\n",
       "      <td>68.471954</td>\n",
       "      <td>34.602202</td>\n",
       "    </tr>\n",
       "    <tr>\n",
       "      <th>26</th>\n",
       "      <td>25</td>\n",
       "      <td>NaN</td>\n",
       "      <td>NaN</td>\n",
       "      <td>NaN</td>\n",
       "      <td>63.004172</td>\n",
       "      <td>24.414224</td>\n",
       "      <td>62.054795</td>\n",
       "      <td>24.630326</td>\n",
       "    </tr>\n",
       "  </tbody>\n",
       "</table>\n",
       "</div>"
      ],
      "text/plain": [
       "    cluster  test_loss  test_hit  test_mrr  model_hit  model_mrr  \\\n",
       "15       14        NaN       NaN       NaN  68.902439  35.281173   \n",
       "26       25        NaN       NaN       NaN  63.004172  24.414224   \n",
       "\n",
       "    global_model_hit  global_model_mrr  \n",
       "15         68.471954         34.602202  \n",
       "26         62.054795         24.630326  "
      ]
     },
     "execution_count": 135,
     "metadata": {},
     "output_type": "execute_result"
    }
   ],
   "source": [
    "full_sess_results.iloc[(full_sess_results.model_hit>full_sess_results.global_model_hit).values]"
   ]
  }
 ],
 "metadata": {
  "kernelspec": {
   "display_name": "gpu_torch",
   "language": "python",
   "name": "python3"
  },
  "language_info": {
   "codemirror_mode": {
    "name": "ipython",
    "version": 3
   },
   "file_extension": ".py",
   "mimetype": "text/x-python",
   "name": "python",
   "nbconvert_exporter": "python",
   "pygments_lexer": "ipython3",
   "version": "3.11.4"
  }
 },
 "nbformat": 4,
 "nbformat_minor": 2
}
