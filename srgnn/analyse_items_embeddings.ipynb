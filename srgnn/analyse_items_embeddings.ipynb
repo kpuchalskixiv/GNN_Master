{
 "cells": [
  {
   "cell_type": "markdown",
   "metadata": {},
   "source": [
    "# imports"
   ]
  },
  {
   "cell_type": "code",
   "execution_count": 1,
   "metadata": {},
   "outputs": [],
   "source": [
    "import pickle\n",
    "from srgnn_pl import SRGNN_model, SRGNN_Map_Dataset, SRGNN_sampler\n",
    "from utils import fake_parser\n",
    "import torch\n",
    "import os\n",
    "\n",
    "from torch.utils.data import DataLoader\n",
    "import pytorch_lightning as pl\n",
    "\n",
    "import numpy as np"
   ]
  },
  {
   "cell_type": "code",
   "execution_count": 2,
   "metadata": {},
   "outputs": [],
   "source": [
    "import matplotlib.pyplot as plt\n",
    "from tqdm import tqdm, trange\n",
    "import pandas as pd\n",
    "import yaml\n",
    "from math import ceil\n",
    "from sklearn.mixture import GaussianMixture\n",
    "from IPython.display import clear_output"
   ]
  },
  {
   "cell_type": "code",
   "execution_count": 3,
   "metadata": {},
   "outputs": [],
   "source": [
    "from matplotlib.pyplot import figure\n",
    "from sklearn.manifold import TSNE\n",
    "import plotly.graph_objects as go\n"
   ]
  },
  {
   "cell_type": "code",
   "execution_count": 4,
   "metadata": {},
   "outputs": [],
   "source": [
    "torch.set_float32_matmul_precision('medium')"
   ]
  },
  {
   "cell_type": "markdown",
   "metadata": {},
   "source": [
    "# data loading"
   ]
  },
  {
   "cell_type": "code",
   "execution_count": 5,
   "metadata": {},
   "outputs": [],
   "source": [
    "run_id='run-20240404_162708-ekuo66ei'\n",
    "\n",
    "#finetuned_run_id='run-20240302_233004-xh5dmcet'\n",
    "global_run_id=run_id"
   ]
  },
  {
   "cell_type": "code",
   "execution_count": 6,
   "metadata": {},
   "outputs": [
    {
     "name": "stdout",
     "output_type": "stream",
     "text": [
      "{'dataset': 'diginetica', 'batchSize': 100, 'hiddenSize': 100, 'epoch': 60, 'lr': 0.001, 'lr_dc': 0.1, 'lr_dc_step': 3, 'l2': 1e-05, 'step': 3, 'patience': 10, 'nonhybrid': False, 'validation': True, 'valid_portion': 0.1, 'pretrained_embedings': False, 'unfreeze_epoch': 1}\n"
     ]
    }
   ],
   "source": [
    "with open(f\"./wandb/{global_run_id}/files/config.yaml\", \"r\") as stream:\n",
    "        config=yaml.safe_load(stream)\n",
    "\n",
    "keys=list(config.keys())\n",
    "for k in keys:\n",
    "    if k not in fake_parser().__dict__.keys():\n",
    "        del config[k]\n",
    "    else:\n",
    "        config[k]=config[k]['value']\n",
    "\n",
    "opt=fake_parser(**config)\n",
    "print(opt.__dict__)\n",
    "\n",
    "model=SRGNN_model.load_from_checkpoint(f\"./GNN_master/{global_run_id.split('-')[-1]}/checkpoints/\"+\n",
    "                                       os.listdir(f\"./GNN_master/{global_run_id.split('-')[-1]}/checkpoints/\")[0], opt=opt)"
   ]
  },
  {
   "cell_type": "code",
   "execution_count": 8,
   "metadata": {},
   "outputs": [
    {
     "name": "stdout",
     "output_type": "stream",
     "text": [
      "data masking start\n"
     ]
    },
    {
     "name": "stderr",
     "output_type": "stream",
     "text": [
      "  0%|          | 0/64 [00:00<?, ?it/s]"
     ]
    },
    {
     "name": "stderr",
     "output_type": "stream",
     "text": [
      "100%|██████████| 64/64 [00:00<00:00, 263.50it/s]"
     ]
    },
    {
     "name": "stdout",
     "output_type": "stream",
     "text": [
      "done masking\n"
     ]
    },
    {
     "name": "stderr",
     "output_type": "stream",
     "text": [
      "\n"
     ]
    }
   ],
   "source": [
    "test_data = pickle.load(open('../datasets/' + opt.dataset + '/test.txt', 'rb'))\n",
    "test_dataset=SRGNN_Map_Dataset(test_data, shuffle=False)\n",
    "test_dataloader=DataLoader(test_dataset, \n",
    "                            num_workers=os.cpu_count(),  \n",
    "                            sampler=SRGNN_sampler(test_dataset, opt.batchSize, shuffle=False, drop_last=False),\n",
    "                             drop_last=False\n",
    "                            )"
   ]
  },
  {
   "cell_type": "markdown",
   "metadata": {},
   "source": [
    "# Items data"
   ]
  },
  {
   "cell_type": "code",
   "execution_count": 9,
   "metadata": {},
   "outputs": [],
   "source": [
    "\n",
    "if 'yoochoose' in opt.dataset:\n",
    "    dfs=[]\n",
    "    for k in trange(33003945//int(1e6)):\n",
    "        df=pd.read_table('../datasets/yoochoose-clicks.dat', sep=',', dtype=str,\n",
    "                        nrows=int(1e6), skiprows=k*int(1e6),\n",
    "                        names=['session_id','timestamp','item_id','category'])\n",
    "        df=df[['item_id', 'category']].drop_duplicates()\n",
    "        dfs.append(df)\n",
    "\n",
    "    items_df=pd.concat(dfs).drop_duplicates()\n",
    "    items_df=items_df.iloc[1:].reset_index(drop=True)\n",
    "    del dfs\n",
    "    items_df=items_df.merge(pd.DataFrame(pickle.load(\n",
    "        # open('../datasets/yoochoose_itemdict_nonspecial.txt', 'rb')),\n",
    "        open('../datasets/yoochoose_itemdict_custom.txt', 'rb')),\n",
    "                                        index=[0]).T.reset_index().rename(columns={'index':'item_id', 0:'item_number'}),\n",
    "                on='item_id')\n",
    "    \n",
    "    ### optional for only 12 categories in dataset\n",
    "    items_df=items_df.loc[items_df.category.isin([str(c) for c in np.arange(1,13)])]\n",
    "    with open(f'../datasets/{opt.dataset}/yoo_df.txt', 'rb') as f:\n",
    "        yoo_df=pickle.load(f)\n",
    "        freq_df=pd.DataFrame(np.asarray(np.unique(yoo_df.item_id, return_counts=True)).T, columns=['item_id','frequency'])\n",
    "\n",
    "        items_df=items_df.merge(freq_df, on='item_id')\n",
    "        del yoo_df\n",
    "        del freq_df\n",
    "elif 'diginetica' in opt.dataset:\n",
    "    items_df=pd.read_csv('../datasets/diginetica/items.csv').drop(columns='Unnamed: 0')"
   ]
  },
  {
   "cell_type": "markdown",
   "metadata": {},
   "source": [
    "# session info"
   ]
  },
  {
   "cell_type": "code",
   "execution_count": 10,
   "metadata": {},
   "outputs": [],
   "source": [
    "test_sessions, test_targets, test_sids=test_data[:3]\n",
    "test_session_ids=set(map(int, test_sids))"
   ]
  },
  {
   "cell_type": "code",
   "execution_count": 11,
   "metadata": {},
   "outputs": [
    {
     "name": "stderr",
     "output_type": "stream",
     "text": [
      "609it [00:18, 32.07it/s]                         \n"
     ]
    },
    {
     "name": "stdout",
     "output_type": "stream",
     "text": [
      "hit  [ True False False ... False False  True] mrr  [0.125 0.    0.    ... 0.    0.    0.25 ]\n"
     ]
    }
   ],
   "source": [
    "hit,mrr=[],[]\n",
    "\n",
    "model.to('cuda')\n",
    "for batch in tqdm(test_dataloader, total=test_dataset.length//opt.batchSize):\n",
    "    batch=[b.to('cuda') for b in batch]\n",
    "\n",
    "    sub_scores, targets=model.predict_step(batch)\n",
    "    targets=targets.flatten()\n",
    "    for score, target in zip(sub_scores, targets):\n",
    "        correct_pred=torch.isin(target - 1, score).cpu()\n",
    "        hit.append(correct_pred)\n",
    "        if not correct_pred:\n",
    "            mrr.append(0)\n",
    "        else:\n",
    "            mrr.append(1 / (torch.where(score == target - 1)[0][0] + 1).cpu())\n",
    "\n",
    "model.to('cpu')\n",
    "hit=np.array(hit)\n",
    "mrr=np.array(mrr)\n",
    "print('hit ', hit, 'mrr ', mrr)"
   ]
  },
  {
   "cell_type": "code",
   "execution_count": 12,
   "metadata": {},
   "outputs": [
    {
     "name": "stderr",
     "output_type": "stream",
     "text": [
      "100%|██████████| 60858/60858 [00:46<00:00, 1320.23it/s]\n"
     ]
    }
   ],
   "source": [
    "session_len=[]\n",
    "session_frequency=[]\n",
    "session_categories=[]\n",
    "target_category=[]\n",
    "for idx in tqdm(range(len(test_sessions))):\n",
    "    sess_items_df=items_df.loc[items_df.item_number.isin(test_sessions[idx])]\n",
    "    session_len.append(len(test_sessions[idx]))\n",
    "    session_frequency.append(np.average(sess_items_df.frequency))\n",
    "    session_categories.append(sess_items_df.category.nunique())\n",
    "\n",
    "    sess_target_categories=items_df.loc[items_df.item_number==test_targets[idx]].category\n",
    "    target_category.append(any([c in sess_items_df.category.values for c in sess_target_categories]))\n",
    "\n",
    "session_len=np.array(session_len)\n",
    "session_frequency=np.array(session_frequency)\n",
    "session_categories=np.array(session_categories)\n",
    "target_category=np.array(target_category)"
   ]
  },
  {
   "cell_type": "code",
   "execution_count": 13,
   "metadata": {},
   "outputs": [],
   "source": [
    "session_df=pd.DataFrame(np.vstack([session_len, session_frequency, session_categories, target_category, test_targets, test_sids, hit, mrr]).T,\n",
    "                        columns=['length','frequency','no_categories','target_category','target','session_id', 'hit','mrr'],\n",
    "                        ).sort_values('session_id').reset_index(drop=True)\n",
    "session_df.session_id=session_df.session_id.astype(int)\n",
    "session_df.target=session_df.target.astype(int)"
   ]
  },
  {
   "cell_type": "code",
   "execution_count": 14,
   "metadata": {},
   "outputs": [
    {
     "data": {
      "text/html": [
       "<div>\n",
       "<style scoped>\n",
       "    .dataframe tbody tr th:only-of-type {\n",
       "        vertical-align: middle;\n",
       "    }\n",
       "\n",
       "    .dataframe tbody tr th {\n",
       "        vertical-align: top;\n",
       "    }\n",
       "\n",
       "    .dataframe thead th {\n",
       "        text-align: right;\n",
       "    }\n",
       "</style>\n",
       "<table border=\"1\" class=\"dataframe\">\n",
       "  <thead>\n",
       "    <tr style=\"text-align: right;\">\n",
       "      <th></th>\n",
       "      <th>length</th>\n",
       "      <th>frequency</th>\n",
       "      <th>no_categories</th>\n",
       "      <th>target_category</th>\n",
       "      <th>target</th>\n",
       "      <th>session_id</th>\n",
       "      <th>hit</th>\n",
       "      <th>mrr</th>\n",
       "    </tr>\n",
       "  </thead>\n",
       "  <tbody>\n",
       "    <tr>\n",
       "      <th>0</th>\n",
       "      <td>1</td>\n",
       "      <td>132.0</td>\n",
       "      <td>1</td>\n",
       "      <td>False</td>\n",
       "      <td>10091</td>\n",
       "      <td>100035</td>\n",
       "      <td>False</td>\n",
       "      <td>0.0</td>\n",
       "    </tr>\n",
       "    <tr>\n",
       "      <th>1</th>\n",
       "      <td>2</td>\n",
       "      <td>257.5</td>\n",
       "      <td>2</td>\n",
       "      <td>True</td>\n",
       "      <td>10091</td>\n",
       "      <td>100035</td>\n",
       "      <td>True</td>\n",
       "      <td>0.20000000298023224</td>\n",
       "    </tr>\n",
       "    <tr>\n",
       "      <th>2</th>\n",
       "      <td>3</td>\n",
       "      <td>257.5</td>\n",
       "      <td>2</td>\n",
       "      <td>False</td>\n",
       "      <td>5776</td>\n",
       "      <td>100035</td>\n",
       "      <td>False</td>\n",
       "      <td>0.0</td>\n",
       "    </tr>\n",
       "    <tr>\n",
       "      <th>3</th>\n",
       "      <td>4</td>\n",
       "      <td>177.66666666666666</td>\n",
       "      <td>3</td>\n",
       "      <td>True</td>\n",
       "      <td>5776</td>\n",
       "      <td>100035</td>\n",
       "      <td>False</td>\n",
       "      <td>0.0</td>\n",
       "    </tr>\n",
       "    <tr>\n",
       "      <th>4</th>\n",
       "      <td>5</td>\n",
       "      <td>177.66666666666666</td>\n",
       "      <td>3</td>\n",
       "      <td>True</td>\n",
       "      <td>38597</td>\n",
       "      <td>100035</td>\n",
       "      <td>False</td>\n",
       "      <td>0.0</td>\n",
       "    </tr>\n",
       "  </tbody>\n",
       "</table>\n",
       "</div>"
      ],
      "text/plain": [
       "  length           frequency no_categories target_category  target  \\\n",
       "0      1               132.0             1           False   10091   \n",
       "1      2               257.5             2            True   10091   \n",
       "2      3               257.5             2           False    5776   \n",
       "3      4  177.66666666666666             3            True    5776   \n",
       "4      5  177.66666666666666             3            True   38597   \n",
       "\n",
       "   session_id    hit                  mrr  \n",
       "0      100035  False                  0.0  \n",
       "1      100035   True  0.20000000298023224  \n",
       "2      100035  False                  0.0  \n",
       "3      100035  False                  0.0  \n",
       "4      100035  False                  0.0  "
      ]
     },
     "execution_count": 14,
     "metadata": {},
     "output_type": "execute_result"
    }
   ],
   "source": [
    "session_df.head()"
   ]
  },
  {
   "cell_type": "markdown",
   "metadata": {},
   "source": [
    "# items embeddings"
   ]
  },
  {
   "cell_type": "code",
   "execution_count": 15,
   "metadata": {},
   "outputs": [],
   "source": [
    "def get_items_embedding(model, item_ids: torch.tensor):\n",
    "    return model.model.embedding(item_ids)"
   ]
  },
  {
   "cell_type": "code",
   "execution_count": 16,
   "metadata": {},
   "outputs": [],
   "source": [
    "items_embeddings=get_items_embedding(model, torch.arange(items_df.item_number.nunique()+1, device=model.device)).cpu().detach().numpy()"
   ]
  },
  {
   "cell_type": "code",
   "execution_count": 17,
   "metadata": {},
   "outputs": [],
   "source": [
    "no_clusters=16\n",
    "gm=GaussianMixture(n_components=no_clusters, n_init=2, init_params='k-means++', weights_init=np.ones(no_clusters)/no_clusters)\n",
    "item_labels=gm.fit_predict(items_embeddings)"
   ]
  },
  {
   "cell_type": "code",
   "execution_count": 18,
   "metadata": {},
   "outputs": [
    {
     "data": {
      "text/plain": [
       "(array([ 0,  1,  2,  3,  4,  5,  6,  7,  8,  9, 10, 11, 12, 13, 14, 15]),\n",
       " array([1479, 2285, 1042, 3577, 2786, 2341, 8556, 1442, 1360,  465, 2026,\n",
       "        2554, 4276, 2013, 3095, 3801]))"
      ]
     },
     "execution_count": 18,
     "metadata": {},
     "output_type": "execute_result"
    }
   ],
   "source": [
    "np.unique(item_labels, return_counts=True)"
   ]
  },
  {
   "cell_type": "code",
   "execution_count": 69,
   "metadata": {},
   "outputs": [],
   "source": [
    "tsne=TSNE(2, init='random', early_exaggeration=32)\n",
    "tsne_items_embeddings=tsne.fit_transform(np.vstack([items_embeddings, gm.means_]))"
   ]
  },
  {
   "cell_type": "code",
   "execution_count": null,
   "metadata": {},
   "outputs": [],
   "source": [
    "fig = go.Figure()\n",
    "\n",
    "for label in np.unique(item_labels):\n",
    "    label_embedding=tsne_items_embeddings[:-gm.n_components][item_labels==label]\n",
    "    fig.add_trace(go.Scatter(x=label_embedding[:,0], y=label_embedding[:,1], name=str(label), mode='markers'))\n",
    "\n",
    "for c in range(gm.n_components):\n",
    "    fig.add_trace(go.Scatter(x=[tsne_items_embeddings[-gm.n_components+c, 0]], y=[tsne_items_embeddings[-gm.n_components+c, 1]], \n",
    "                             name=str(c), mode='markers', \n",
    "                             marker=dict(size=12,\n",
    "                                        line=dict(width=2,\n",
    "                                        color='DarkSlateGrey'))))\n",
    "\n",
    "\n",
    "fig.update_layout(title='TSNE reduced items embeddings with GM',\n",
    "                  margin=dict(l=40, r=40, t=40, b=40),\n",
    "                  width=1000, height=800)\n",
    "fig.write_html(f'./images/items_tsne{tsne.init}_{gm.n_components}_{gm.init_params}_{opt.dataset}_{opt.hiddenSize}_{global_run_id.split(\"-\")[-1]}.html')\n",
    "fig.show()"
   ]
  },
  {
   "cell_type": "markdown",
   "metadata": {},
   "source": [
    "# SERP info (diginetica only)"
   ]
  },
  {
   "cell_type": "code",
   "execution_count": 176,
   "metadata": {},
   "outputs": [
    {
     "name": "stderr",
     "output_type": "stream",
     "text": [
      "/tmp/ipykernel_8516/1821352848.py:4: DtypeWarning:\n",
      "\n",
      "Columns (6) have mixed types. Specify dtype option on import or set low_memory=False.\n",
      "\n"
     ]
    }
   ],
   "source": [
    "clicks_df=df=pd.read_csv('../datasets/train-item-views.csv', sep=';', \n",
    "                          names=['session_id','userId','item_id','timeframe','eventdate'], \n",
    "                          dtype={'item_id':str}).sort_values(by=['session_id','timeframe']).reset_index(drop=True)\n"
   ]
  },
  {
   "cell_type": "code",
   "execution_count": 19,
   "metadata": {},
   "outputs": [
    {
     "name": "stderr",
     "output_type": "stream",
     "text": [
      "/tmp/ipykernel_14788/3225500134.py:1: DtypeWarning: Columns (6) have mixed types. Specify dtype option on import or set low_memory=False.\n",
      "  qu_df=pd.read_csv('../datasets/train-queries.csv', sep=';').rename(columns={\n"
     ]
    }
   ],
   "source": [
    "qu_df=pd.read_csv('../datasets/train-queries.csv', sep=';').rename(columns={\n",
    "    'sessionId':'session_id','categoryId':'category','items':'serp', 'queryId':'query_id'\n",
    "}).sort_values(by=['session_id','timeframe','query_id']).reset_index(drop=True)"
   ]
  },
  {
   "cell_type": "code",
   "execution_count": 161,
   "metadata": {},
   "outputs": [
    {
     "data": {
      "text/html": [
       "<div>\n",
       "<style scoped>\n",
       "    .dataframe tbody tr th:only-of-type {\n",
       "        vertical-align: middle;\n",
       "    }\n",
       "\n",
       "    .dataframe tbody tr th {\n",
       "        vertical-align: top;\n",
       "    }\n",
       "\n",
       "    .dataframe thead th {\n",
       "        text-align: right;\n",
       "    }\n",
       "</style>\n",
       "<table border=\"1\" class=\"dataframe\">\n",
       "  <thead>\n",
       "    <tr style=\"text-align: right;\">\n",
       "      <th></th>\n",
       "      <th>item_id</th>\n",
       "      <th>pricelog2</th>\n",
       "      <th>product.name.tokens</th>\n",
       "      <th>category</th>\n",
       "      <th>item_number</th>\n",
       "      <th>frequency</th>\n",
       "    </tr>\n",
       "  </thead>\n",
       "  <tbody>\n",
       "    <tr>\n",
       "      <th>0</th>\n",
       "      <td>69585</td>\n",
       "      <td>6</td>\n",
       "      <td>7583,18117,41805,41805,2371</td>\n",
       "      <td>176</td>\n",
       "      <td>7556</td>\n",
       "      <td>45</td>\n",
       "    </tr>\n",
       "    <tr>\n",
       "      <th>1</th>\n",
       "      <td>90939</td>\n",
       "      <td>6</td>\n",
       "      <td>604,18117,41805,41805,2371</td>\n",
       "      <td>176</td>\n",
       "      <td>1245</td>\n",
       "      <td>10</td>\n",
       "    </tr>\n",
       "    <tr>\n",
       "      <th>2</th>\n",
       "      <td>69586</td>\n",
       "      <td>0</td>\n",
       "      <td>2936,18117,41805,41805,2371</td>\n",
       "      <td>176</td>\n",
       "      <td>15895</td>\n",
       "      <td>13</td>\n",
       "    </tr>\n",
       "    <tr>\n",
       "      <th>3</th>\n",
       "      <td>30029</td>\n",
       "      <td>7</td>\n",
       "      <td>4668,41805,41805,56652</td>\n",
       "      <td>176</td>\n",
       "      <td>5037</td>\n",
       "      <td>24</td>\n",
       "    </tr>\n",
       "    <tr>\n",
       "      <th>4</th>\n",
       "      <td>7492</td>\n",
       "      <td>9</td>\n",
       "      <td>3011,4632,10402,9562,9562,11721</td>\n",
       "      <td>684</td>\n",
       "      <td>9655</td>\n",
       "      <td>188</td>\n",
       "    </tr>\n",
       "  </tbody>\n",
       "</table>\n",
       "</div>"
      ],
      "text/plain": [
       "   item_id  pricelog2              product.name.tokens  category  item_number  \\\n",
       "0    69585          6      7583,18117,41805,41805,2371       176         7556   \n",
       "1    90939          6       604,18117,41805,41805,2371       176         1245   \n",
       "2    69586          0      2936,18117,41805,41805,2371       176        15895   \n",
       "3    30029          7           4668,41805,41805,56652       176         5037   \n",
       "4     7492          9  3011,4632,10402,9562,9562,11721       684         9655   \n",
       "\n",
       "   frequency  \n",
       "0         45  \n",
       "1         10  \n",
       "2         13  \n",
       "3         24  \n",
       "4        188  "
      ]
     },
     "execution_count": 161,
     "metadata": {},
     "output_type": "execute_result"
    }
   ],
   "source": [
    "items_df.head()"
   ]
  },
  {
   "cell_type": "code",
   "execution_count": 20,
   "metadata": {},
   "outputs": [],
   "source": [
    "def get_query_for_session_clicks(sid):\n",
    "    q=qu_df.loc[qu_df.session_id==sid]\n",
    "    s=clicks_df.loc[clicks_df.session_id==sid]\n",
    "    qids=[]\n",
    "    serps=[]\n",
    "    for timeframe in s.timeframe:\n",
    "        idxs=(q.timeframe<timeframe).values\n",
    "        vals=q.query_id.values[idxs]\n",
    "        s_vals=q.serp.values[idxs]\n",
    "        qid=np.nan\n",
    "        serp=np.nan\n",
    "        if len(vals):\n",
    "            qid=vals[-1]\n",
    "            serp=s_vals[-1]\n",
    "        qids.append(qid)\n",
    "        serps.append(serp)\n",
    "    return (sid, qids, serps)"
   ]
  },
  {
   "cell_type": "code",
   "execution_count": 185,
   "metadata": {},
   "outputs": [],
   "source": [
    "serp_df=pd.DataFrame([get_query_for_session_clicks(sid) for sid in clicks_df.session_id.unique()], columns=['session_id','query_id','serp'])"
   ]
  },
  {
   "cell_type": "code",
   "execution_count": 196,
   "metadata": {},
   "outputs": [],
   "source": [
    "clicks_df['query_id']=serp_df.explode(column=['query_id','serp']).query_id.values\n",
    "clicks_df['serp']=serp_df.explode(column=['query_id','serp']).serp.values"
   ]
  },
  {
   "cell_type": "code",
   "execution_count": 131,
   "metadata": {},
   "outputs": [
    {
     "data": {
      "text/html": [
       "<div>\n",
       "<style scoped>\n",
       "    .dataframe tbody tr th:only-of-type {\n",
       "        vertical-align: middle;\n",
       "    }\n",
       "\n",
       "    .dataframe tbody tr th {\n",
       "        vertical-align: top;\n",
       "    }\n",
       "\n",
       "    .dataframe thead th {\n",
       "        text-align: right;\n",
       "    }\n",
       "</style>\n",
       "<table border=\"1\" class=\"dataframe\">\n",
       "  <thead>\n",
       "    <tr style=\"text-align: right;\">\n",
       "      <th></th>\n",
       "      <th>session_id</th>\n",
       "      <th>userId</th>\n",
       "      <th>item_id</th>\n",
       "      <th>timeframe</th>\n",
       "      <th>eventdate</th>\n",
       "      <th>query_id</th>\n",
       "      <th>serp</th>\n",
       "      <th>serp_pos</th>\n",
       "      <th>serp_len</th>\n",
       "      <th>dist_from_serp</th>\n",
       "    </tr>\n",
       "  </thead>\n",
       "  <tbody>\n",
       "    <tr>\n",
       "      <th>0</th>\n",
       "      <td>1</td>\n",
       "      <td>NaN</td>\n",
       "      <td>9654</td>\n",
       "      <td>75848</td>\n",
       "      <td>2016-05-09</td>\n",
       "      <td>890364.0</td>\n",
       "      <td>7518,69648,71,30254,80775,30311,342,7837,81099...</td>\n",
       "      <td>0.065199</td>\n",
       "      <td>199.0</td>\n",
       "      <td>0.976442</td>\n",
       "    </tr>\n",
       "    <tr>\n",
       "      <th>1</th>\n",
       "      <td>1</td>\n",
       "      <td>NaN</td>\n",
       "      <td>33043</td>\n",
       "      <td>173912</td>\n",
       "      <td>2016-05-09</td>\n",
       "      <td>890364.0</td>\n",
       "      <td>7518,69648,71,30254,80775,30311,342,7837,81099...</td>\n",
       "      <td>0.093988</td>\n",
       "      <td>199.0</td>\n",
       "      <td>0.819720</td>\n",
       "    </tr>\n",
       "    <tr>\n",
       "      <th>2</th>\n",
       "      <td>1</td>\n",
       "      <td>NaN</td>\n",
       "      <td>32118</td>\n",
       "      <td>243569</td>\n",
       "      <td>2016-05-09</td>\n",
       "      <td>890364.0</td>\n",
       "      <td>7518,69648,71,30254,80775,30311,342,7837,81099...</td>\n",
       "      <td>0.062659</td>\n",
       "      <td>199.0</td>\n",
       "      <td>0.786291</td>\n",
       "    </tr>\n",
       "    <tr>\n",
       "      <th>3</th>\n",
       "      <td>1</td>\n",
       "      <td>NaN</td>\n",
       "      <td>12352</td>\n",
       "      <td>329870</td>\n",
       "      <td>2016-05-09</td>\n",
       "      <td>890364.0</td>\n",
       "      <td>7518,69648,71,30254,80775,30311,342,7837,81099...</td>\n",
       "      <td>0.132091</td>\n",
       "      <td>199.0</td>\n",
       "      <td>0.881767</td>\n",
       "    </tr>\n",
       "    <tr>\n",
       "      <th>4</th>\n",
       "      <td>1</td>\n",
       "      <td>NaN</td>\n",
       "      <td>35077</td>\n",
       "      <td>390072</td>\n",
       "      <td>2016-05-09</td>\n",
       "      <td>890364.0</td>\n",
       "      <td>7518,69648,71,30254,80775,30311,342,7837,81099...</td>\n",
       "      <td>0.136325</td>\n",
       "      <td>199.0</td>\n",
       "      <td>0.867209</td>\n",
       "    </tr>\n",
       "  </tbody>\n",
       "</table>\n",
       "</div>"
      ],
      "text/plain": [
       "   session_id  userId  item_id  timeframe   eventdate  query_id  \\\n",
       "0           1     NaN     9654      75848  2016-05-09  890364.0   \n",
       "1           1     NaN    33043     173912  2016-05-09  890364.0   \n",
       "2           1     NaN    32118     243569  2016-05-09  890364.0   \n",
       "3           1     NaN    12352     329870  2016-05-09  890364.0   \n",
       "4           1     NaN    35077     390072  2016-05-09  890364.0   \n",
       "\n",
       "                                                serp  serp_pos  serp_len  \\\n",
       "0  7518,69648,71,30254,80775,30311,342,7837,81099...  0.065199     199.0   \n",
       "1  7518,69648,71,30254,80775,30311,342,7837,81099...  0.093988     199.0   \n",
       "2  7518,69648,71,30254,80775,30311,342,7837,81099...  0.062659     199.0   \n",
       "3  7518,69648,71,30254,80775,30311,342,7837,81099...  0.132091     199.0   \n",
       "4  7518,69648,71,30254,80775,30311,342,7837,81099...  0.136325     199.0   \n",
       "\n",
       "   dist_from_serp  \n",
       "0        0.976442  \n",
       "1        0.819720  \n",
       "2        0.786291  \n",
       "3        0.881767  \n",
       "4        0.867209  "
      ]
     },
     "execution_count": 131,
     "metadata": {},
     "output_type": "execute_result"
    }
   ],
   "source": [
    "clicks_df.head()"
   ]
  },
  {
   "cell_type": "code",
   "execution_count": 219,
   "metadata": {},
   "outputs": [],
   "source": [
    "def item_pos_in_serp(row):\n",
    "    if row.query_id is np.nan:\n",
    "        return -1\n",
    "    serp=row.serp.split(',')\n",
    "    if str(row.item_id) in serp:\n",
    "        return serp.index(str(row.item_id))/len(row.serp)\n",
    "    else: return -1"
   ]
  },
  {
   "cell_type": "code",
   "execution_count": 229,
   "metadata": {},
   "outputs": [],
   "source": [
    "clicks_df['serp_pos']=clicks_df.apply(lambda r: item_pos_in_serp(r), axis=1, )\n",
    "clicks_df['serp_len']=clicks_df.apply(lambda r: np.nan if r.serp is np.nan else len(r.serp.split(',')), axis=1, )"
   ]
  },
  {
   "cell_type": "code",
   "execution_count": 231,
   "metadata": {},
   "outputs": [],
   "source": [
    "#clicks_df.to_csv('../datasets/diginetica/clicks_df.csv')"
   ]
  },
  {
   "cell_type": "code",
   "execution_count": 18,
   "metadata": {},
   "outputs": [],
   "source": [
    "#clicks_df=pd.read_csv('../datasets/diginetica/clicks_df.csv').drop(columns='Unnamed: 0')"
   ]
  },
  {
   "cell_type": "code",
   "execution_count": 22,
   "metadata": {},
   "outputs": [
    {
     "data": {
      "text/html": [
       "<div>\n",
       "<style scoped>\n",
       "    .dataframe tbody tr th:only-of-type {\n",
       "        vertical-align: middle;\n",
       "    }\n",
       "\n",
       "    .dataframe tbody tr th {\n",
       "        vertical-align: top;\n",
       "    }\n",
       "\n",
       "    .dataframe thead th {\n",
       "        text-align: right;\n",
       "    }\n",
       "</style>\n",
       "<table border=\"1\" class=\"dataframe\">\n",
       "  <thead>\n",
       "    <tr style=\"text-align: right;\">\n",
       "      <th></th>\n",
       "      <th>session_id</th>\n",
       "      <th>userId</th>\n",
       "      <th>item_id</th>\n",
       "      <th>timeframe</th>\n",
       "      <th>eventdate</th>\n",
       "      <th>query_id</th>\n",
       "      <th>serp</th>\n",
       "      <th>serp_pos</th>\n",
       "      <th>serp_len</th>\n",
       "    </tr>\n",
       "  </thead>\n",
       "  <tbody>\n",
       "    <tr>\n",
       "      <th>0</th>\n",
       "      <td>1</td>\n",
       "      <td>NaN</td>\n",
       "      <td>9654</td>\n",
       "      <td>75848</td>\n",
       "      <td>2016-05-09</td>\n",
       "      <td>890364.0</td>\n",
       "      <td>7518,69648,71,30254,80775,30311,342,7837,81099...</td>\n",
       "      <td>0.065199</td>\n",
       "      <td>199.0</td>\n",
       "    </tr>\n",
       "    <tr>\n",
       "      <th>1</th>\n",
       "      <td>1</td>\n",
       "      <td>NaN</td>\n",
       "      <td>33043</td>\n",
       "      <td>173912</td>\n",
       "      <td>2016-05-09</td>\n",
       "      <td>890364.0</td>\n",
       "      <td>7518,69648,71,30254,80775,30311,342,7837,81099...</td>\n",
       "      <td>0.093988</td>\n",
       "      <td>199.0</td>\n",
       "    </tr>\n",
       "    <tr>\n",
       "      <th>2</th>\n",
       "      <td>1</td>\n",
       "      <td>NaN</td>\n",
       "      <td>32118</td>\n",
       "      <td>243569</td>\n",
       "      <td>2016-05-09</td>\n",
       "      <td>890364.0</td>\n",
       "      <td>7518,69648,71,30254,80775,30311,342,7837,81099...</td>\n",
       "      <td>0.062659</td>\n",
       "      <td>199.0</td>\n",
       "    </tr>\n",
       "    <tr>\n",
       "      <th>3</th>\n",
       "      <td>1</td>\n",
       "      <td>NaN</td>\n",
       "      <td>12352</td>\n",
       "      <td>329870</td>\n",
       "      <td>2016-05-09</td>\n",
       "      <td>890364.0</td>\n",
       "      <td>7518,69648,71,30254,80775,30311,342,7837,81099...</td>\n",
       "      <td>0.132091</td>\n",
       "      <td>199.0</td>\n",
       "    </tr>\n",
       "    <tr>\n",
       "      <th>4</th>\n",
       "      <td>1</td>\n",
       "      <td>NaN</td>\n",
       "      <td>35077</td>\n",
       "      <td>390072</td>\n",
       "      <td>2016-05-09</td>\n",
       "      <td>890364.0</td>\n",
       "      <td>7518,69648,71,30254,80775,30311,342,7837,81099...</td>\n",
       "      <td>0.136325</td>\n",
       "      <td>199.0</td>\n",
       "    </tr>\n",
       "  </tbody>\n",
       "</table>\n",
       "</div>"
      ],
      "text/plain": [
       "   session_id  userId  item_id  timeframe   eventdate  query_id  \\\n",
       "0           1     NaN     9654      75848  2016-05-09  890364.0   \n",
       "1           1     NaN    33043     173912  2016-05-09  890364.0   \n",
       "2           1     NaN    32118     243569  2016-05-09  890364.0   \n",
       "3           1     NaN    12352     329870  2016-05-09  890364.0   \n",
       "4           1     NaN    35077     390072  2016-05-09  890364.0   \n",
       "\n",
       "                                                serp  serp_pos  serp_len  \n",
       "0  7518,69648,71,30254,80775,30311,342,7837,81099...  0.065199     199.0  \n",
       "1  7518,69648,71,30254,80775,30311,342,7837,81099...  0.093988     199.0  \n",
       "2  7518,69648,71,30254,80775,30311,342,7837,81099...  0.062659     199.0  \n",
       "3  7518,69648,71,30254,80775,30311,342,7837,81099...  0.132091     199.0  \n",
       "4  7518,69648,71,30254,80775,30311,342,7837,81099...  0.136325     199.0  "
      ]
     },
     "execution_count": 22,
     "metadata": {},
     "output_type": "execute_result"
    }
   ],
   "source": [
    "clicks_df.head()"
   ]
  },
  {
   "cell_type": "code",
   "execution_count": 130,
   "metadata": {},
   "outputs": [
    {
     "data": {
      "text/plain": [
       "962"
      ]
     },
     "execution_count": 130,
     "metadata": {},
     "output_type": "execute_result"
    }
   ],
   "source": [
    "print('Number of catagories in both queries and items: ', len(set(qu_df.category.unique()) & set(items_df.category.unique())))"
   ]
  },
  {
   "cell_type": "code",
   "execution_count": 66,
   "metadata": {},
   "outputs": [
    {
     "name": "stderr",
     "output_type": "stream",
     "text": [
      "43097it [00:01, 37597.05it/s]\n"
     ]
    }
   ],
   "source": [
    "item_dict={}\n",
    "for _, r in tqdm(items_df.iterrows()):\n",
    "    item_dict[r.item_id]=r.item_number"
   ]
  },
  {
   "cell_type": "code",
   "execution_count": 51,
   "metadata": {},
   "outputs": [],
   "source": [
    "def serp_center(qid, serp):\n",
    "    if serp is np.nan:\n",
    "        return (qid, np.nan)\n",
    "    items=[]\n",
    "    for i in serp.split(','):\n",
    "        if int(i) in item_dict.keys():\n",
    "            items.append(item_dict[int(i)])\n",
    "    if items:\n",
    "        embs=get_items_embedding(model, torch.tensor(items, device=model.device)).cpu().detach().numpy()\n",
    "        return (qid, np.average(embs, axis=0))\n",
    "    return (qid, np.nan)"
   ]
  },
  {
   "cell_type": "code",
   "execution_count": 58,
   "metadata": {},
   "outputs": [],
   "source": [
    "q_serp_dict=(clicks_df[['query_id', 'serp']].drop_duplicates().apply(lambda r: serp_center(r.query_id, r.serp), axis=1))\n",
    "q_serp_dict=dict([x for x in q_serp_dict])"
   ]
  },
  {
   "cell_type": "code",
   "execution_count": 122,
   "metadata": {},
   "outputs": [],
   "source": [
    "def get_dist_form_serp(r):\n",
    "    if (int(r.item_id) in item_dict.keys()) and not np.isnan(r.query_id):\n",
    "        return np.linalg.norm(items_embeddings[item_dict[int(r.item_id)]]-q_serp_dict[r.query_id]) \n",
    "    else: return np.nan"
   ]
  },
  {
   "cell_type": "code",
   "execution_count": 124,
   "metadata": {},
   "outputs": [],
   "source": [
    "dist_from_serp=clicks_df.apply(lambda r: get_dist_form_serp(r), axis=1).values"
   ]
  },
  {
   "cell_type": "code",
   "execution_count": 126,
   "metadata": {},
   "outputs": [],
   "source": [
    "clicks_df['dist_from_serp']=dist_from_serp"
   ]
  },
  {
   "cell_type": "code",
   "execution_count": 129,
   "metadata": {},
   "outputs": [
    {
     "data": {
      "image/png": "[encoded data removed]",
      "text/plain": [
       "<Figure size 640x480 with 1 Axes>"
      ]
     },
     "metadata": {},
     "output_type": "display_data"
    }
   ],
   "source": [
    "plt.hist(dist_from_serp, bins=100)\n",
    "plt.title('Distribution: Distance of item emb from SERP item embeddings center')\n",
    "plt.show()"
   ]
  },
  {
   "cell_type": "code",
   "execution_count": 246,
   "metadata": {},
   "outputs": [
    {
     "data": {
      "image/png": "[encoded data removed]",
      "text/plain": [
       "<Figure size 640x480 with 1 Axes>"
      ]
     },
     "metadata": {},
     "output_type": "display_data"
    }
   ],
   "source": [
    "plt.hist(clicks_df.loc[clicks_df.session_id.isin(test_session_ids)].dist_from_serp, bins=100)\n",
    "plt.title('Same but for test sessions only')\n",
    "plt.show()"
   ]
  },
  {
   "cell_type": "code",
   "execution_count": 155,
   "metadata": {},
   "outputs": [],
   "source": [
    "clicks_df['item_number']=clicks_df.item_id.map(lambda x: item_dict[int(x)] if int(x) in item_dict.keys() else -1)"
   ]
  },
  {
   "cell_type": "code",
   "execution_count": 186,
   "metadata": {},
   "outputs": [
    {
     "data": {
      "text/html": [
       "<div>\n",
       "<style scoped>\n",
       "    .dataframe tbody tr th:only-of-type {\n",
       "        vertical-align: middle;\n",
       "    }\n",
       "\n",
       "    .dataframe tbody tr th {\n",
       "        vertical-align: top;\n",
       "    }\n",
       "\n",
       "    .dataframe thead th {\n",
       "        text-align: right;\n",
       "    }\n",
       "</style>\n",
       "<table border=\"1\" class=\"dataframe\">\n",
       "  <thead>\n",
       "    <tr style=\"text-align: right;\">\n",
       "      <th></th>\n",
       "      <th>length</th>\n",
       "      <th>frequency</th>\n",
       "      <th>no_categories</th>\n",
       "      <th>target_category</th>\n",
       "      <th>target</th>\n",
       "      <th>session_id</th>\n",
       "      <th>hit</th>\n",
       "      <th>mrr</th>\n",
       "    </tr>\n",
       "  </thead>\n",
       "  <tbody>\n",
       "    <tr>\n",
       "      <th>5</th>\n",
       "      <td>3</td>\n",
       "      <td>269.0</td>\n",
       "      <td>1</td>\n",
       "      <td>False</td>\n",
       "      <td>23671</td>\n",
       "      <td>100083</td>\n",
       "      <td>False</td>\n",
       "      <td>0.0</td>\n",
       "    </tr>\n",
       "    <tr>\n",
       "      <th>6</th>\n",
       "      <td>1</td>\n",
       "      <td>502.0</td>\n",
       "      <td>1</td>\n",
       "      <td>True</td>\n",
       "      <td>36257</td>\n",
       "      <td>100083</td>\n",
       "      <td>True</td>\n",
       "      <td>0.3333333432674408</td>\n",
       "    </tr>\n",
       "    <tr>\n",
       "      <th>7</th>\n",
       "      <td>2</td>\n",
       "      <td>391.0</td>\n",
       "      <td>1</td>\n",
       "      <td>True</td>\n",
       "      <td>42615</td>\n",
       "      <td>100083</td>\n",
       "      <td>False</td>\n",
       "      <td>0.0</td>\n",
       "    </tr>\n",
       "  </tbody>\n",
       "</table>\n",
       "</div>"
      ],
      "text/plain": [
       "  length frequency no_categories target_category  target  session_id    hit  \\\n",
       "5      3     269.0             1           False   23671      100083  False   \n",
       "6      1     502.0             1            True   36257      100083   True   \n",
       "7      2     391.0             1            True   42615      100083  False   \n",
       "\n",
       "                  mrr  \n",
       "5                 0.0  \n",
       "6  0.3333333432674408  \n",
       "7                 0.0  "
      ]
     },
     "execution_count": 186,
     "metadata": {},
     "output_type": "execute_result"
    }
   ],
   "source": [
    "session_df.loc[session_df.session_id==100083]"
   ]
  },
  {
   "cell_type": "code",
   "execution_count": 191,
   "metadata": {},
   "outputs": [
    {
     "data": {
      "text/html": [
       "<div>\n",
       "<style scoped>\n",
       "    .dataframe tbody tr th:only-of-type {\n",
       "        vertical-align: middle;\n",
       "    }\n",
       "\n",
       "    .dataframe tbody tr th {\n",
       "        vertical-align: top;\n",
       "    }\n",
       "\n",
       "    .dataframe thead th {\n",
       "        text-align: right;\n",
       "    }\n",
       "</style>\n",
       "<table border=\"1\" class=\"dataframe\">\n",
       "  <thead>\n",
       "    <tr style=\"text-align: right;\">\n",
       "      <th></th>\n",
       "      <th>session_id</th>\n",
       "      <th>userId</th>\n",
       "      <th>item_id</th>\n",
       "      <th>timeframe</th>\n",
       "      <th>eventdate</th>\n",
       "      <th>query_id</th>\n",
       "      <th>serp</th>\n",
       "      <th>serp_pos</th>\n",
       "      <th>serp_len</th>\n",
       "      <th>dist_from_serp</th>\n",
       "      <th>item_number</th>\n",
       "    </tr>\n",
       "  </thead>\n",
       "  <tbody>\n",
       "    <tr>\n",
       "      <th>304116</th>\n",
       "      <td>100083</td>\n",
       "      <td>NaN</td>\n",
       "      <td>376301</td>\n",
       "      <td>11074</td>\n",
       "      <td>2016-05-26</td>\n",
       "      <td>617707.0</td>\n",
       "      <td>82598,39360,32775,176612,10557,33037,27802,155...</td>\n",
       "      <td>0.122050</td>\n",
       "      <td>189.0</td>\n",
       "      <td>1.083192</td>\n",
       "      <td>38882</td>\n",
       "    </tr>\n",
       "    <tr>\n",
       "      <th>304117</th>\n",
       "      <td>100083</td>\n",
       "      <td>NaN</td>\n",
       "      <td>181526</td>\n",
       "      <td>68526</td>\n",
       "      <td>2016-05-26</td>\n",
       "      <td>617707.0</td>\n",
       "      <td>82598,39360,32775,176612,10557,33037,27802,155...</td>\n",
       "      <td>0.049634</td>\n",
       "      <td>189.0</td>\n",
       "      <td>0.923520</td>\n",
       "      <td>36257</td>\n",
       "    </tr>\n",
       "    <tr>\n",
       "      <th>304118</th>\n",
       "      <td>100083</td>\n",
       "      <td>NaN</td>\n",
       "      <td>387877</td>\n",
       "      <td>146509</td>\n",
       "      <td>2016-05-26</td>\n",
       "      <td>617707.0</td>\n",
       "      <td>82598,39360,32775,176612,10557,33037,27802,155...</td>\n",
       "      <td>NaN</td>\n",
       "      <td>189.0</td>\n",
       "      <td>1.092544</td>\n",
       "      <td>42615</td>\n",
       "    </tr>\n",
       "    <tr>\n",
       "      <th>304119</th>\n",
       "      <td>100083</td>\n",
       "      <td>NaN</td>\n",
       "      <td>12459</td>\n",
       "      <td>376339</td>\n",
       "      <td>2016-05-26</td>\n",
       "      <td>737542.0</td>\n",
       "      <td>1646,129592,9125,31613,16335,9126,83278,83280,...</td>\n",
       "      <td>0.061086</td>\n",
       "      <td>136.0</td>\n",
       "      <td>0.792657</td>\n",
       "      <td>23671</td>\n",
       "    </tr>\n",
       "  </tbody>\n",
       "</table>\n",
       "</div>"
      ],
      "text/plain": [
       "        session_id  userId  item_id  timeframe   eventdate  query_id  \\\n",
       "304116      100083     NaN   376301      11074  2016-05-26  617707.0   \n",
       "304117      100083     NaN   181526      68526  2016-05-26  617707.0   \n",
       "304118      100083     NaN   387877     146509  2016-05-26  617707.0   \n",
       "304119      100083     NaN    12459     376339  2016-05-26  737542.0   \n",
       "\n",
       "                                                     serp  serp_pos  serp_len  \\\n",
       "304116  82598,39360,32775,176612,10557,33037,27802,155...  0.122050     189.0   \n",
       "304117  82598,39360,32775,176612,10557,33037,27802,155...  0.049634     189.0   \n",
       "304118  82598,39360,32775,176612,10557,33037,27802,155...       NaN     189.0   \n",
       "304119  1646,129592,9125,31613,16335,9126,83278,83280,...  0.061086     136.0   \n",
       "\n",
       "        dist_from_serp  item_number  \n",
       "304116        1.083192        38882  \n",
       "304117        0.923520        36257  \n",
       "304118        1.092544        42615  \n",
       "304119        0.792657        23671  "
      ]
     },
     "execution_count": 191,
     "metadata": {},
     "output_type": "execute_result"
    }
   ],
   "source": [
    "clicks_df.loc[clicks_df.session_id==100083]"
   ]
  },
  {
   "cell_type": "code",
   "execution_count": 190,
   "metadata": {},
   "outputs": [],
   "source": [
    "clicks_df.serp_pos=clicks_df.serp_pos.map(lambda x: x if x>=0 else np.nan)"
   ]
  },
  {
   "cell_type": "code",
   "execution_count": 157,
   "metadata": {},
   "outputs": [],
   "source": [
    "#clicks_df.to_csv('../datasets/diginetica/clicks_df.csv')"
   ]
  },
  {
   "cell_type": "code",
   "execution_count": 20,
   "metadata": {},
   "outputs": [],
   "source": [
    "clicks_df=pd.read_csv('../datasets/diginetica/clicks_df.csv').drop(columns='Unnamed: 0')"
   ]
  },
  {
   "cell_type": "markdown",
   "metadata": {},
   "source": [
    "## correlations"
   ]
  },
  {
   "cell_type": "code",
   "execution_count": 22,
   "metadata": {},
   "outputs": [],
   "source": [
    "corr_df=clicks_df[['session_id','item_id', 'serp_pos', 'dist_from_serp', 'item_number', 'serp_len']].merge(session_df, \n",
    "                                                                                       left_on=['session_id','item_number'], \n",
    "                                                                                       right_on=['session_id','target'])"
   ]
  },
  {
   "cell_type": "code",
   "execution_count": 23,
   "metadata": {},
   "outputs": [
    {
     "data": {
      "text/html": [
       "<div>\n",
       "<style scoped>\n",
       "    .dataframe tbody tr th:only-of-type {\n",
       "        vertical-align: middle;\n",
       "    }\n",
       "\n",
       "    .dataframe tbody tr th {\n",
       "        vertical-align: top;\n",
       "    }\n",
       "\n",
       "    .dataframe thead th {\n",
       "        text-align: right;\n",
       "    }\n",
       "</style>\n",
       "<table border=\"1\" class=\"dataframe\">\n",
       "  <thead>\n",
       "    <tr style=\"text-align: right;\">\n",
       "      <th></th>\n",
       "      <th>session_id</th>\n",
       "      <th>item_id</th>\n",
       "      <th>serp_pos</th>\n",
       "      <th>dist_from_serp</th>\n",
       "      <th>item_number</th>\n",
       "      <th>serp_len</th>\n",
       "      <th>length</th>\n",
       "      <th>frequency</th>\n",
       "      <th>no_categories</th>\n",
       "      <th>target_category</th>\n",
       "      <th>target</th>\n",
       "      <th>hit</th>\n",
       "      <th>mrr</th>\n",
       "    </tr>\n",
       "  </thead>\n",
       "  <tbody>\n",
       "    <tr>\n",
       "      <th>0</th>\n",
       "      <td>289</td>\n",
       "      <td>64068</td>\n",
       "      <td>-1.000000</td>\n",
       "      <td>1.109931</td>\n",
       "      <td>20071</td>\n",
       "      <td>19.0</td>\n",
       "      <td>1</td>\n",
       "      <td>10.0</td>\n",
       "      <td>1</td>\n",
       "      <td>False</td>\n",
       "      <td>20071</td>\n",
       "      <td>False</td>\n",
       "      <td>0.0</td>\n",
       "    </tr>\n",
       "    <tr>\n",
       "      <th>1</th>\n",
       "      <td>289</td>\n",
       "      <td>133346</td>\n",
       "      <td>-1.000000</td>\n",
       "      <td>1.130447</td>\n",
       "      <td>8762</td>\n",
       "      <td>19.0</td>\n",
       "      <td>2</td>\n",
       "      <td>20.0</td>\n",
       "      <td>2</td>\n",
       "      <td>False</td>\n",
       "      <td>8762</td>\n",
       "      <td>True</td>\n",
       "      <td>0.3333333432674408</td>\n",
       "    </tr>\n",
       "    <tr>\n",
       "      <th>2</th>\n",
       "      <td>289</td>\n",
       "      <td>438457</td>\n",
       "      <td>0.142643</td>\n",
       "      <td>0.683961</td>\n",
       "      <td>21566</td>\n",
       "      <td>198.0</td>\n",
       "      <td>5</td>\n",
       "      <td>18.4</td>\n",
       "      <td>4</td>\n",
       "      <td>True</td>\n",
       "      <td>21566</td>\n",
       "      <td>True</td>\n",
       "      <td>0.125</td>\n",
       "    </tr>\n",
       "    <tr>\n",
       "      <th>3</th>\n",
       "      <td>289</td>\n",
       "      <td>438457</td>\n",
       "      <td>0.142643</td>\n",
       "      <td>0.683961</td>\n",
       "      <td>21566</td>\n",
       "      <td>198.0</td>\n",
       "      <td>3</td>\n",
       "      <td>25.333333333333332</td>\n",
       "      <td>3</td>\n",
       "      <td>False</td>\n",
       "      <td>21566</td>\n",
       "      <td>False</td>\n",
       "      <td>0.0</td>\n",
       "    </tr>\n",
       "    <tr>\n",
       "      <th>4</th>\n",
       "      <td>289</td>\n",
       "      <td>198930</td>\n",
       "      <td>0.147147</td>\n",
       "      <td>0.538785</td>\n",
       "      <td>6381</td>\n",
       "      <td>198.0</td>\n",
       "      <td>4</td>\n",
       "      <td>20.5</td>\n",
       "      <td>4</td>\n",
       "      <td>True</td>\n",
       "      <td>6381</td>\n",
       "      <td>False</td>\n",
       "      <td>0.0</td>\n",
       "    </tr>\n",
       "    <tr>\n",
       "      <th>...</th>\n",
       "      <td>...</td>\n",
       "      <td>...</td>\n",
       "      <td>...</td>\n",
       "      <td>...</td>\n",
       "      <td>...</td>\n",
       "      <td>...</td>\n",
       "      <td>...</td>\n",
       "      <td>...</td>\n",
       "      <td>...</td>\n",
       "      <td>...</td>\n",
       "      <td>...</td>\n",
       "      <td>...</td>\n",
       "      <td>...</td>\n",
       "    </tr>\n",
       "    <tr>\n",
       "      <th>91269</th>\n",
       "      <td>600404</td>\n",
       "      <td>1168</td>\n",
       "      <td>0.002602</td>\n",
       "      <td>0.759773</td>\n",
       "      <td>19589</td>\n",
       "      <td>180.0</td>\n",
       "      <td>1</td>\n",
       "      <td>45.0</td>\n",
       "      <td>1</td>\n",
       "      <td>True</td>\n",
       "      <td>19589</td>\n",
       "      <td>True</td>\n",
       "      <td>0.25</td>\n",
       "    </tr>\n",
       "    <tr>\n",
       "      <th>91270</th>\n",
       "      <td>600608</td>\n",
       "      <td>1813</td>\n",
       "      <td>0.036515</td>\n",
       "      <td>0.789202</td>\n",
       "      <td>5820</td>\n",
       "      <td>200.0</td>\n",
       "      <td>1</td>\n",
       "      <td>197.0</td>\n",
       "      <td>1</td>\n",
       "      <td>True</td>\n",
       "      <td>5820</td>\n",
       "      <td>True</td>\n",
       "      <td>0.0714285746216774</td>\n",
       "    </tr>\n",
       "    <tr>\n",
       "      <th>91271</th>\n",
       "      <td>600608</td>\n",
       "      <td>31789</td>\n",
       "      <td>0.037344</td>\n",
       "      <td>0.938444</td>\n",
       "      <td>3600</td>\n",
       "      <td>200.0</td>\n",
       "      <td>2</td>\n",
       "      <td>152.0</td>\n",
       "      <td>1</td>\n",
       "      <td>True</td>\n",
       "      <td>3600</td>\n",
       "      <td>True</td>\n",
       "      <td>0.10000000149011612</td>\n",
       "    </tr>\n",
       "    <tr>\n",
       "      <th>91272</th>\n",
       "      <td>600674</td>\n",
       "      <td>1152</td>\n",
       "      <td>0.025381</td>\n",
       "      <td>0.700841</td>\n",
       "      <td>10040</td>\n",
       "      <td>185.0</td>\n",
       "      <td>1</td>\n",
       "      <td>64.0</td>\n",
       "      <td>1</td>\n",
       "      <td>True</td>\n",
       "      <td>10040</td>\n",
       "      <td>False</td>\n",
       "      <td>0.0</td>\n",
       "    </tr>\n",
       "    <tr>\n",
       "      <th>91273</th>\n",
       "      <td>600674</td>\n",
       "      <td>124642</td>\n",
       "      <td>0.036379</td>\n",
       "      <td>0.727637</td>\n",
       "      <td>42227</td>\n",
       "      <td>185.0</td>\n",
       "      <td>2</td>\n",
       "      <td>61.5</td>\n",
       "      <td>1</td>\n",
       "      <td>True</td>\n",
       "      <td>42227</td>\n",
       "      <td>False</td>\n",
       "      <td>0.0</td>\n",
       "    </tr>\n",
       "  </tbody>\n",
       "</table>\n",
       "<p>91274 rows × 13 columns</p>\n",
       "</div>"
      ],
      "text/plain": [
       "       session_id  item_id  serp_pos  dist_from_serp  item_number  serp_len  \\\n",
       "0             289    64068 -1.000000        1.109931        20071      19.0   \n",
       "1             289   133346 -1.000000        1.130447         8762      19.0   \n",
       "2             289   438457  0.142643        0.683961        21566     198.0   \n",
       "3             289   438457  0.142643        0.683961        21566     198.0   \n",
       "4             289   198930  0.147147        0.538785         6381     198.0   \n",
       "...           ...      ...       ...             ...          ...       ...   \n",
       "91269      600404     1168  0.002602        0.759773        19589     180.0   \n",
       "91270      600608     1813  0.036515        0.789202         5820     200.0   \n",
       "91271      600608    31789  0.037344        0.938444         3600     200.0   \n",
       "91272      600674     1152  0.025381        0.700841        10040     185.0   \n",
       "91273      600674   124642  0.036379        0.727637        42227     185.0   \n",
       "\n",
       "      length           frequency no_categories target_category  target    hit  \\\n",
       "0          1                10.0             1           False   20071  False   \n",
       "1          2                20.0             2           False    8762   True   \n",
       "2          5                18.4             4            True   21566   True   \n",
       "3          3  25.333333333333332             3           False   21566  False   \n",
       "4          4                20.5             4            True    6381  False   \n",
       "...      ...                 ...           ...             ...     ...    ...   \n",
       "91269      1                45.0             1            True   19589   True   \n",
       "91270      1               197.0             1            True    5820   True   \n",
       "91271      2               152.0             1            True    3600   True   \n",
       "91272      1                64.0             1            True   10040  False   \n",
       "91273      2                61.5             1            True   42227  False   \n",
       "\n",
       "                       mrr  \n",
       "0                      0.0  \n",
       "1       0.3333333432674408  \n",
       "2                    0.125  \n",
       "3                      0.0  \n",
       "4                      0.0  \n",
       "...                    ...  \n",
       "91269                 0.25  \n",
       "91270   0.0714285746216774  \n",
       "91271  0.10000000149011612  \n",
       "91272                  0.0  \n",
       "91273                  0.0  \n",
       "\n",
       "[91274 rows x 13 columns]"
      ]
     },
     "execution_count": 23,
     "metadata": {},
     "output_type": "execute_result"
    }
   ],
   "source": [
    "corr_df"
   ]
  },
  {
   "cell_type": "code",
   "execution_count": 24,
   "metadata": {},
   "outputs": [],
   "source": [
    "from scipy.stats import pearsonr, spearmanr"
   ]
  },
  {
   "cell_type": "code",
   "execution_count": 25,
   "metadata": {},
   "outputs": [],
   "source": [
    "corr_df.hit=corr_df.hit.map(lambda x: 1 if x else 0)\n",
    "corr_df.mrr=corr_df.mrr.astype(float)"
   ]
  },
  {
   "cell_type": "code",
   "execution_count": 32,
   "metadata": {},
   "outputs": [
    {
     "data": {
      "text/plain": [
       "dist_from_serp    float64\n",
       "serp_pos          float64\n",
       "hit                 int64\n",
       "mrr               float64\n",
       "serp_len          float64\n",
       "dtype: object"
      ]
     },
     "execution_count": 32,
     "metadata": {},
     "output_type": "execute_result"
    }
   ],
   "source": [
    "corr_df[['dist_from_serp','serp_pos','hit','mrr','serp_len']].dtypes"
   ]
  },
  {
   "cell_type": "code",
   "execution_count": 33,
   "metadata": {},
   "outputs": [
    {
     "data": {
      "text/plain": [
       "SignificanceResult(statistic=array([[ 1.        , -0.17637168,  0.15382035,  0.19972637],\n",
       "       [-0.17637168,  1.        ,  0.12060617,  0.04844716],\n",
       "       [ 0.15382035,  0.12060617,  1.        , -0.05057548],\n",
       "       [ 0.19972637,  0.04844716, -0.05057548,  1.        ]]), pvalue=array([[0.00000000e+000, 0.00000000e+000, 0.00000000e+000,\n",
       "        0.00000000e+000],\n",
       "       [0.00000000e+000, 0.00000000e+000, 4.37983404e-289,\n",
       "        5.73132069e-048],\n",
       "       [0.00000000e+000, 4.37983404e-289, 0.00000000e+000,\n",
       "        4.03576181e-052],\n",
       "       [0.00000000e+000, 5.73132069e-048, 4.03576181e-052,\n",
       "        0.00000000e+000]]))"
      ]
     },
     "execution_count": 33,
     "metadata": {},
     "output_type": "execute_result"
    }
   ],
   "source": [
    "spearmanr(corr_df[['dist_from_serp','serp_pos','mrr','serp_len']].dropna(), \n",
    "     #     corr_df[['dist_from_serp','serp_pos','hit','mrr','serp_len']].dropna(),\n",
    "          )"
   ]
  },
  {
   "cell_type": "markdown",
   "metadata": {},
   "source": [
    "## center/span of item embeddings"
   ]
  },
  {
   "cell_type": "code",
   "execution_count": 23,
   "metadata": {},
   "outputs": [],
   "source": [
    "# average center of embb space\n",
    "items_center=np.average(items_embeddings, axis=0)"
   ]
  },
  {
   "cell_type": "code",
   "execution_count": 27,
   "metadata": {},
   "outputs": [
    {
     "name": "stdout",
     "output_type": "stream",
     "text": [
      "Max distnace between any two items:  7.0398483\n"
     ]
    }
   ],
   "source": [
    "print('Max distnace between any two items: ', np.linalg.norm(np.max(items_embeddings, axis=0) - np.min(items_embeddings, axis=0)))"
   ]
  },
  {
   "cell_type": "markdown",
   "metadata": {},
   "source": [
    "## SERP vs Target clusters"
   ]
  },
  {
   "cell_type": "code",
   "execution_count": 228,
   "metadata": {},
   "outputs": [],
   "source": [
    "def is_search_query(qid):\n",
    "    st=qu_df.loc[qu_df.query_id==qid]['searchstring.tokens']\n",
    "    if st.shape[0]!=1:\n",
    "        return False\n",
    "    st=st.item()\n",
    "    if isinstance(st, float):\n",
    "        return False\n",
    "    return True"
   ]
  },
  {
   "cell_type": "code",
   "execution_count": null,
   "metadata": {},
   "outputs": [],
   "source": [
    "search_query_dict={}\n",
    "for qid in (clicks_df.query_id.unique()):#, total=clicks_df.query_id.nunique()):\n",
    "    search_query_dict[qid]=is_search_query(qid)\n",
    "\n",
    "sq_idxs=clicks_df.query_id.map(lambda x: x if np.isnan(x) else search_query_dict[x])"
   ]
  },
  {
   "cell_type": "code",
   "execution_count": 278,
   "metadata": {},
   "outputs": [],
   "source": [
    "clicks_df['search_query']=sq_idxs\n",
    "clicks_df['serp_abs_pos']=(clicks_df.serp_pos*clicks_df.serp_len).round()"
   ]
  },
  {
   "cell_type": "code",
   "execution_count": 253,
   "metadata": {},
   "outputs": [
    {
     "data": {
      "text/html": [
       "<div>\n",
       "<style scoped>\n",
       "    .dataframe tbody tr th:only-of-type {\n",
       "        vertical-align: middle;\n",
       "    }\n",
       "\n",
       "    .dataframe tbody tr th {\n",
       "        vertical-align: top;\n",
       "    }\n",
       "\n",
       "    .dataframe thead th {\n",
       "        text-align: right;\n",
       "    }\n",
       "</style>\n",
       "<table border=\"1\" class=\"dataframe\">\n",
       "  <thead>\n",
       "    <tr style=\"text-align: right;\">\n",
       "      <th></th>\n",
       "      <th>session_id</th>\n",
       "      <th>userId</th>\n",
       "      <th>item_id</th>\n",
       "      <th>timeframe</th>\n",
       "      <th>eventdate</th>\n",
       "      <th>query_id</th>\n",
       "      <th>serp</th>\n",
       "      <th>serp_pos</th>\n",
       "      <th>serp_len</th>\n",
       "      <th>dist_from_serp</th>\n",
       "      <th>item_number</th>\n",
       "      <th>no_clusters_serp</th>\n",
       "      <th>target_cluster_proportion</th>\n",
       "      <th>serp_abs_pos</th>\n",
       "    </tr>\n",
       "  </thead>\n",
       "  <tbody>\n",
       "    <tr>\n",
       "      <th>0</th>\n",
       "      <td>1</td>\n",
       "      <td>NaN</td>\n",
       "      <td>9654</td>\n",
       "      <td>75848</td>\n",
       "      <td>2016-05-09</td>\n",
       "      <td>890364.0</td>\n",
       "      <td>7518,69648,71,30254,80775,30311,342,7837,81099...</td>\n",
       "      <td>0.065199</td>\n",
       "      <td>199.0</td>\n",
       "      <td>0.976442</td>\n",
       "      <td>1890</td>\n",
       "      <td>6.0</td>\n",
       "      <td>0.892216</td>\n",
       "      <td>13.0</td>\n",
       "    </tr>\n",
       "    <tr>\n",
       "      <th>1</th>\n",
       "      <td>1</td>\n",
       "      <td>NaN</td>\n",
       "      <td>33043</td>\n",
       "      <td>173912</td>\n",
       "      <td>2016-05-09</td>\n",
       "      <td>890364.0</td>\n",
       "      <td>7518,69648,71,30254,80775,30311,342,7837,81099...</td>\n",
       "      <td>0.093988</td>\n",
       "      <td>199.0</td>\n",
       "      <td>0.819720</td>\n",
       "      <td>2460</td>\n",
       "      <td>6.0</td>\n",
       "      <td>0.892216</td>\n",
       "      <td>19.0</td>\n",
       "    </tr>\n",
       "    <tr>\n",
       "      <th>2</th>\n",
       "      <td>1</td>\n",
       "      <td>NaN</td>\n",
       "      <td>32118</td>\n",
       "      <td>243569</td>\n",
       "      <td>2016-05-09</td>\n",
       "      <td>890364.0</td>\n",
       "      <td>7518,69648,71,30254,80775,30311,342,7837,81099...</td>\n",
       "      <td>0.062659</td>\n",
       "      <td>199.0</td>\n",
       "      <td>0.786291</td>\n",
       "      <td>2558</td>\n",
       "      <td>6.0</td>\n",
       "      <td>0.892216</td>\n",
       "      <td>12.0</td>\n",
       "    </tr>\n",
       "    <tr>\n",
       "      <th>3</th>\n",
       "      <td>1</td>\n",
       "      <td>NaN</td>\n",
       "      <td>12352</td>\n",
       "      <td>329870</td>\n",
       "      <td>2016-05-09</td>\n",
       "      <td>890364.0</td>\n",
       "      <td>7518,69648,71,30254,80775,30311,342,7837,81099...</td>\n",
       "      <td>0.132091</td>\n",
       "      <td>199.0</td>\n",
       "      <td>0.881767</td>\n",
       "      <td>3012</td>\n",
       "      <td>6.0</td>\n",
       "      <td>0.892216</td>\n",
       "      <td>26.0</td>\n",
       "    </tr>\n",
       "    <tr>\n",
       "      <th>4</th>\n",
       "      <td>1</td>\n",
       "      <td>NaN</td>\n",
       "      <td>35077</td>\n",
       "      <td>390072</td>\n",
       "      <td>2016-05-09</td>\n",
       "      <td>890364.0</td>\n",
       "      <td>7518,69648,71,30254,80775,30311,342,7837,81099...</td>\n",
       "      <td>0.136325</td>\n",
       "      <td>199.0</td>\n",
       "      <td>0.867209</td>\n",
       "      <td>8171</td>\n",
       "      <td>6.0</td>\n",
       "      <td>0.892216</td>\n",
       "      <td>27.0</td>\n",
       "    </tr>\n",
       "  </tbody>\n",
       "</table>\n",
       "</div>"
      ],
      "text/plain": [
       "   session_id  userId  item_id  timeframe   eventdate  query_id  \\\n",
       "0           1     NaN     9654      75848  2016-05-09  890364.0   \n",
       "1           1     NaN    33043     173912  2016-05-09  890364.0   \n",
       "2           1     NaN    32118     243569  2016-05-09  890364.0   \n",
       "3           1     NaN    12352     329870  2016-05-09  890364.0   \n",
       "4           1     NaN    35077     390072  2016-05-09  890364.0   \n",
       "\n",
       "                                                serp  serp_pos  serp_len  \\\n",
       "0  7518,69648,71,30254,80775,30311,342,7837,81099...  0.065199     199.0   \n",
       "1  7518,69648,71,30254,80775,30311,342,7837,81099...  0.093988     199.0   \n",
       "2  7518,69648,71,30254,80775,30311,342,7837,81099...  0.062659     199.0   \n",
       "3  7518,69648,71,30254,80775,30311,342,7837,81099...  0.132091     199.0   \n",
       "4  7518,69648,71,30254,80775,30311,342,7837,81099...  0.136325     199.0   \n",
       "\n",
       "   dist_from_serp  item_number  no_clusters_serp  target_cluster_proportion  \\\n",
       "0        0.976442         1890               6.0                   0.892216   \n",
       "1        0.819720         2460               6.0                   0.892216   \n",
       "2        0.786291         2558               6.0                   0.892216   \n",
       "3        0.881767         3012               6.0                   0.892216   \n",
       "4        0.867209         8171               6.0                   0.892216   \n",
       "\n",
       "   serp_abs_pos  \n",
       "0          13.0  \n",
       "1          19.0  \n",
       "2          12.0  \n",
       "3          26.0  \n",
       "4          27.0  "
      ]
     },
     "execution_count": 253,
     "metadata": {},
     "output_type": "execute_result"
    }
   ],
   "source": [
    "clicks_df.head()"
   ]
  },
  {
   "cell_type": "code",
   "execution_count": 51,
   "metadata": {},
   "outputs": [],
   "source": [
    "clicks_df.serp_pos=clicks_df.serp_pos.map(lambda x: np.nan if x==-1 else x)"
   ]
  },
  {
   "cell_type": "code",
   "execution_count": 259,
   "metadata": {},
   "outputs": [
    {
     "data": {
      "image/png": "[encoded data removed]",
      "text/plain": [
       "<Figure size 640x480 with 1 Axes>"
      ]
     },
     "metadata": {},
     "output_type": "display_data"
    }
   ],
   "source": [
    "plt.hist(clicks_df[['session_id','serp_pos']].loc[clicks_df.session_id.isin(test_session_ids)]\\\n",
    "         .dropna().groupby('session_id').median('serp_pos').serp_pos, bins=100, label='median')\n",
    "plt.hist(clicks_df[['session_id','serp_pos']].loc[clicks_df.session_id.isin(test_session_ids)]\\\n",
    "         .dropna().groupby('session_id').mean('serp_pos').serp_pos, bins=100, alpha=0.5, label='mean')\n",
    "plt.title('Relative position in SERP ranking - lower is better')\n",
    "plt.legend()\n",
    "plt.show()"
   ]
  },
  {
   "cell_type": "code",
   "execution_count": 262,
   "metadata": {},
   "outputs": [
    {
     "data": {
      "image/png": "[encoded data removed]",
      "text/plain": [
       "<Figure size 640x480 with 1 Axes>"
      ]
     },
     "metadata": {},
     "output_type": "display_data"
    }
   ],
   "source": [
    "plt.hist(clicks_df[['session_id','serp_abs_pos']].loc[clicks_df.session_id.isin(test_session_ids)]\\\n",
    "         .dropna().groupby('session_id').median('serp_abs_pos').serp_abs_pos, bins=100, label='median')\n",
    "plt.hist(clicks_df[['session_id','serp_abs_pos']].loc[clicks_df.session_id.isin(test_session_ids)]\\\n",
    "         .dropna().groupby('session_id').mean('serp_abs_pos').serp_abs_pos, bins=100, alpha=0.7, label='mean')\n",
    "plt.title('Absolute position per Session in SERP ranking - lower is better')\n",
    "plt.legend()\n",
    "plt.show()"
   ]
  },
  {
   "cell_type": "markdown",
   "metadata": {},
   "source": [
    "### seperate search queries"
   ]
  },
  {
   "cell_type": "code",
   "execution_count": 283,
   "metadata": {},
   "outputs": [
    {
     "data": {
      "image/png": "[encoded data removed]",
      "text/plain": [
       "<Figure size 640x480 with 1 Axes>"
      ]
     },
     "metadata": {},
     "output_type": "display_data"
    },
    {
     "data": {
      "image/png": "[encoded data removed]",
      "text/plain": [
       "<Figure size 640x480 with 1 Axes>"
      ]
     },
     "metadata": {},
     "output_type": "display_data"
    }
   ],
   "source": [
    "plt.hist(clicks_df[['session_id','serp_pos']].loc[(clicks_df.session_id.isin(test_session_ids))\n",
    "                                                      &(clicks_df.search_query)]\\\n",
    "         .dropna().groupby('session_id').median('serp_pos').serp_pos, bins=100, label='median')\n",
    "plt.hist(clicks_df[['session_id','serp_pos']].loc[(clicks_df.session_id.isin(test_session_ids))\n",
    "                                                      &(clicks_df.search_query)]\\\n",
    "         .dropna().groupby('session_id').mean('serp_pos').serp_pos, bins=100, alpha=0.7, label='mean')\n",
    "plt.title('Absolute position in search tool Session in SERP ranking - lower is better')\n",
    "plt.legend()\n",
    "plt.show()\n",
    "\n",
    "plt.hist(clicks_df[['session_id','serp_pos']].loc[(clicks_df.session_id.isin(test_session_ids))\n",
    "                                                      &(clicks_df.search_query!=True)]\\\n",
    "         .dropna().groupby('session_id').median('serp_pos').serp_pos, bins=100, label='median')\n",
    "plt.hist(clicks_df[['session_id','serp_pos']].loc[(clicks_df.session_id.isin(test_session_ids))\n",
    "                                                      &(clicks_df.search_query!=True)]\\\n",
    "         .dropna().groupby('session_id').mean('serp_pos').serp_pos, bins=100, alpha=0.7, label='mean')\n",
    "plt.title('Absolute position in non-query Session in SERP ranking - lower is better')\n",
    "plt.legend()\n",
    "plt.show()"
   ]
  },
  {
   "cell_type": "code",
   "execution_count": 282,
   "metadata": {},
   "outputs": [
    {
     "data": {
      "image/png": "[encoded data removed]",
      "text/plain": [
       "<Figure size 640x480 with 1 Axes>"
      ]
     },
     "metadata": {},
     "output_type": "display_data"
    },
    {
     "data": {
      "image/png": "[encoded data removed]",
      "text/plain": [
       "<Figure size 640x480 with 1 Axes>"
      ]
     },
     "metadata": {},
     "output_type": "display_data"
    }
   ],
   "source": [
    "plt.hist(clicks_df[['session_id','serp_abs_pos']].loc[(clicks_df.session_id.isin(test_session_ids))\n",
    "                                                      &(clicks_df.search_query)]\\\n",
    "         .dropna().groupby('session_id').median('serp_abs_pos').serp_abs_pos, bins=100, label='median')\n",
    "plt.hist(clicks_df[['session_id','serp_abs_pos']].loc[(clicks_df.session_id.isin(test_session_ids))\n",
    "                                                      &(clicks_df.search_query)]\\\n",
    "         .dropna().groupby('session_id').mean('serp_abs_pos').serp_abs_pos, bins=100, alpha=0.7, label='mean')\n",
    "plt.title('Absolute position in search tool Session in SERP ranking - lower is better')\n",
    "plt.legend()\n",
    "plt.show()\n",
    "\n",
    "plt.hist(clicks_df[['session_id','serp_abs_pos']].loc[(clicks_df.session_id.isin(test_session_ids))\n",
    "                                                      &(clicks_df.search_query!=True)]\\\n",
    "         .dropna().groupby('session_id').median('serp_abs_pos').serp_abs_pos, bins=100, label='median')\n",
    "plt.hist(clicks_df[['session_id','serp_abs_pos']].loc[(clicks_df.session_id.isin(test_session_ids))\n",
    "                                                      &(clicks_df.search_query!=True)]\\\n",
    "         .dropna().groupby('session_id').mean('serp_abs_pos').serp_abs_pos, bins=100, alpha=0.7, label='mean')\n",
    "plt.title('Absolute position in non-query Session in SERP ranking - lower is better')\n",
    "plt.legend()\n",
    "plt.show()"
   ]
  },
  {
   "cell_type": "markdown",
   "metadata": {},
   "source": [
    "### distnace from SERP centre"
   ]
  },
  {
   "cell_type": "code",
   "execution_count": 58,
   "metadata": {},
   "outputs": [
    {
     "data": {
      "image/png": "[encoded data removed]",
      "text/plain": [
       "<Figure size 640x480 with 1 Axes>"
      ]
     },
     "metadata": {},
     "output_type": "display_data"
    }
   ],
   "source": [
    "plt.hist(clicks_df[['session_id','dist_from_serp']].loc[clicks_df.session_id.isin(test_session_ids)]\\\n",
    "         .groupby('session_id').median('dist_from_serp').dist_from_serp, bins=100)\n",
    "plt.title('Distance from SERP centre')\n",
    "plt.show()"
   ]
  },
  {
   "cell_type": "code",
   "execution_count": 207,
   "metadata": {},
   "outputs": [
    {
     "data": {
      "text/plain": [
       "session_id                                                                 289\n",
       "userId                                                                     NaN\n",
       "item_id                                                                 125013\n",
       "timeframe                                                                18301\n",
       "eventdate                                                           2016-05-26\n",
       "query_id                                                                 292.0\n",
       "serp                         126860,791,82380,72561,72562,125013,10240,4204...\n",
       "serp_pos                                                               0.04386\n",
       "serp_len                                                                  19.0\n",
       "dist_from_serp                                                        0.878109\n",
       "item_number                                                              21553\n",
       "no_clusters_serp                                                           8.0\n",
       "target_cluster_proportion                                             0.052632\n",
       "Name: 1044, dtype: object"
      ]
     },
     "execution_count": 207,
     "metadata": {},
     "output_type": "execute_result"
    }
   ],
   "source": [
    "# ciekawe przypadki\n",
    "# 2137, 10, 1488, 69\n",
    "\n",
    "\n",
    "sample=clicks_df.iloc[1044]\n",
    "sample"
   ]
  },
  {
   "cell_type": "code",
   "execution_count": 208,
   "metadata": {},
   "outputs": [
    {
     "data": {
      "application/vnd.plotly.v1+json": {
       "config": {
        "plotlyServerURL": "https://plot.ly"
       },
       "data": [
        {
         "mode": "markers",
         "name": "2",
         "type": "scatter",
         "x": [
          42.84181594848633
         ],
         "y": [
          -57.78225326538086
         ]
        },
        {
         "mode": "markers",
         "name": "4",
         "type": "scatter",
         "x": [
          40.57883834838867,
          39.16245651245117,
          38.67376708984375
         ],
         "y": [
          21.277652740478516,
          21.851449966430664,
          21.086421966552734
         ]
        },
        {
         "mode": "markers",
         "name": "6",
         "type": "scatter",
         "x": [
          -3.9285194873809814
         ],
         "y": [
          -9.36798095703125
         ]
        },
        {
         "mode": "markers",
         "name": "7",
         "type": "scatter",
         "x": [
          -35.03464889526367,
          -35.05671691894531,
          -31.86372947692871,
          -48.84548568725586,
          -40.10602951049805,
          -31.5636043548584,
          -37.22590255737305
         ],
         "y": [
          -39.518028259277344,
          -39.52509307861328,
          -49.223445892333984,
          -52.33268737792969,
          -55.154788970947266,
          -48.46424865722656,
          -42.07084274291992
         ]
        },
        {
         "mode": "markers",
         "name": "8",
         "type": "scatter",
         "x": [
          -6.894212245941162
         ],
         "y": [
          -9.246748924255371
         ]
        },
        {
         "mode": "markers",
         "name": "12",
         "type": "scatter",
         "x": [
          53.40909194946289,
          39.33768844604492,
          57.293277740478516,
          40.2669677734375
         ],
         "y": [
          -38.77924728393555,
          21.806190490722656,
          22.887632369995117,
          21.311962127685547
         ]
        },
        {
         "mode": "markers",
         "name": "14",
         "type": "scatter",
         "x": [
          27.160213470458984
         ],
         "y": [
          -11.119471549987793
         ]
        },
        {
         "mode": "markers",
         "name": "15",
         "type": "scatter",
         "x": [
          -4.3287577629089355
         ],
         "y": [
          55.295326232910156
         ]
        },
        {
         "marker": {
          "line": {
           "color": "DarkSlateGrey",
           "width": 2
          },
          "size": 12
         },
         "mode": "markers",
         "name": "target in 6",
         "type": "scatter",
         "x": [
          -3.9285194873809814
         ],
         "y": [
          -9.36798095703125
         ]
        }
       ],
       "layout": {
        "height": 800,
        "margin": {
         "b": 40,
         "l": 40,
         "r": 40,
         "t": 40
        },
        "template": {
         "data": {
          "bar": [
           {
            "error_x": {
             "color": "#2a3f5f"
            },
            "error_y": {
             "color": "#2a3f5f"
            },
            "marker": {
             "line": {
              "color": "#E5ECF6",
              "width": 0.5
             },
             "pattern": {
              "fillmode": "overlay",
              "size": 10,
              "solidity": 0.2
             }
            },
            "type": "bar"
           }
          ],
          "barpolar": [
           {
            "marker": {
             "line": {
              "color": "#E5ECF6",
              "width": 0.5
             },
             "pattern": {
              "fillmode": "overlay",
              "size": 10,
              "solidity": 0.2
             }
            },
            "type": "barpolar"
           }
          ],
          "carpet": [
           {
            "aaxis": {
             "endlinecolor": "#2a3f5f",
             "gridcolor": "white",
             "linecolor": "white",
             "minorgridcolor": "white",
             "startlinecolor": "#2a3f5f"
            },
            "baxis": {
             "endlinecolor": "#2a3f5f",
             "gridcolor": "white",
             "linecolor": "white",
             "minorgridcolor": "white",
             "startlinecolor": "#2a3f5f"
            },
            "type": "carpet"
           }
          ],
          "choropleth": [
           {
            "colorbar": {
             "outlinewidth": 0,
             "ticks": ""
            },
            "type": "choropleth"
           }
          ],
          "contour": [
           {
            "colorbar": {
             "outlinewidth": 0,
             "ticks": ""
            },
            "colorscale": [
             [
              0,
              "#0d0887"
             ],
             [
              0.1111111111111111,
              "#46039f"
             ],
             [
              0.2222222222222222,
              "#7201a8"
             ],
             [
              0.3333333333333333,
              "#9c179e"
             ],
             [
              0.4444444444444444,
              "#bd3786"
             ],
             [
              0.5555555555555556,
              "#d8576b"
             ],
             [
              0.6666666666666666,
              "#ed7953"
             ],
             [
              0.7777777777777778,
              "#fb9f3a"
             ],
             [
              0.8888888888888888,
              "#fdca26"
             ],
             [
              1,
              "#f0f921"
             ]
            ],
            "type": "contour"
           }
          ],
          "contourcarpet": [
           {
            "colorbar": {
             "outlinewidth": 0,
             "ticks": ""
            },
            "type": "contourcarpet"
           }
          ],
          "heatmap": [
           {
            "colorbar": {
             "outlinewidth": 0,
             "ticks": ""
            },
            "colorscale": [
             [
              0,
              "#0d0887"
             ],
             [
              0.1111111111111111,
              "#46039f"
             ],
             [
              0.2222222222222222,
              "#7201a8"
             ],
             [
              0.3333333333333333,
              "#9c179e"
             ],
             [
              0.4444444444444444,
              "#bd3786"
             ],
             [
              0.5555555555555556,
              "#d8576b"
             ],
             [
              0.6666666666666666,
              "#ed7953"
             ],
             [
              0.7777777777777778,
              "#fb9f3a"
             ],
             [
              0.8888888888888888,
              "#fdca26"
             ],
             [
              1,
              "#f0f921"
             ]
            ],
            "type": "heatmap"
           }
          ],
          "heatmapgl": [
           {
            "colorbar": {
             "outlinewidth": 0,
             "ticks": ""
            },
            "colorscale": [
             [
              0,
              "#0d0887"
             ],
             [
              0.1111111111111111,
              "#46039f"
             ],
             [
              0.2222222222222222,
              "#7201a8"
             ],
             [
              0.3333333333333333,
              "#9c179e"
             ],
             [
              0.4444444444444444,
              "#bd3786"
             ],
             [
              0.5555555555555556,
              "#d8576b"
             ],
             [
              0.6666666666666666,
              "#ed7953"
             ],
             [
              0.7777777777777778,
              "#fb9f3a"
             ],
             [
              0.8888888888888888,
              "#fdca26"
             ],
             [
              1,
              "#f0f921"
             ]
            ],
            "type": "heatmapgl"
           }
          ],
          "histogram": [
           {
            "marker": {
             "pattern": {
              "fillmode": "overlay",
              "size": 10,
              "solidity": 0.2
             }
            },
            "type": "histogram"
           }
          ],
          "histogram2d": [
           {
            "colorbar": {
             "outlinewidth": 0,
             "ticks": ""
            },
            "colorscale": [
             [
              0,
              "#0d0887"
             ],
             [
              0.1111111111111111,
              "#46039f"
             ],
             [
              0.2222222222222222,
              "#7201a8"
             ],
             [
              0.3333333333333333,
              "#9c179e"
             ],
             [
              0.4444444444444444,
              "#bd3786"
             ],
             [
              0.5555555555555556,
              "#d8576b"
             ],
             [
              0.6666666666666666,
              "#ed7953"
             ],
             [
              0.7777777777777778,
              "#fb9f3a"
             ],
             [
              0.8888888888888888,
              "#fdca26"
             ],
             [
              1,
              "#f0f921"
             ]
            ],
            "type": "histogram2d"
           }
          ],
          "histogram2dcontour": [
           {
            "colorbar": {
             "outlinewidth": 0,
             "ticks": ""
            },
            "colorscale": [
             [
              0,
              "#0d0887"
             ],
             [
              0.1111111111111111,
              "#46039f"
             ],
             [
              0.2222222222222222,
              "#7201a8"
             ],
             [
              0.3333333333333333,
              "#9c179e"
             ],
             [
              0.4444444444444444,
              "#bd3786"
             ],
             [
              0.5555555555555556,
              "#d8576b"
             ],
             [
              0.6666666666666666,
              "#ed7953"
             ],
             [
              0.7777777777777778,
              "#fb9f3a"
             ],
             [
              0.8888888888888888,
              "#fdca26"
             ],
             [
              1,
              "#f0f921"
             ]
            ],
            "type": "histogram2dcontour"
           }
          ],
          "mesh3d": [
           {
            "colorbar": {
             "outlinewidth": 0,
             "ticks": ""
            },
            "type": "mesh3d"
           }
          ],
          "parcoords": [
           {
            "line": {
             "colorbar": {
              "outlinewidth": 0,
              "ticks": ""
             }
            },
            "type": "parcoords"
           }
          ],
          "pie": [
           {
            "automargin": true,
            "type": "pie"
           }
          ],
          "scatter": [
           {
            "fillpattern": {
             "fillmode": "overlay",
             "size": 10,
             "solidity": 0.2
            },
            "type": "scatter"
           }
          ],
          "scatter3d": [
           {
            "line": {
             "colorbar": {
              "outlinewidth": 0,
              "ticks": ""
             }
            },
            "marker": {
             "colorbar": {
              "outlinewidth": 0,
              "ticks": ""
             }
            },
            "type": "scatter3d"
           }
          ],
          "scattercarpet": [
           {
            "marker": {
             "colorbar": {
              "outlinewidth": 0,
              "ticks": ""
             }
            },
            "type": "scattercarpet"
           }
          ],
          "scattergeo": [
           {
            "marker": {
             "colorbar": {
              "outlinewidth": 0,
              "ticks": ""
             }
            },
            "type": "scattergeo"
           }
          ],
          "scattergl": [
           {
            "marker": {
             "colorbar": {
              "outlinewidth": 0,
              "ticks": ""
             }
            },
            "type": "scattergl"
           }
          ],
          "scattermapbox": [
           {
            "marker": {
             "colorbar": {
              "outlinewidth": 0,
              "ticks": ""
             }
            },
            "type": "scattermapbox"
           }
          ],
          "scatterpolar": [
           {
            "marker": {
             "colorbar": {
              "outlinewidth": 0,
              "ticks": ""
             }
            },
            "type": "scatterpolar"
           }
          ],
          "scatterpolargl": [
           {
            "marker": {
             "colorbar": {
              "outlinewidth": 0,
              "ticks": ""
             }
            },
            "type": "scatterpolargl"
           }
          ],
          "scatterternary": [
           {
            "marker": {
             "colorbar": {
              "outlinewidth": 0,
              "ticks": ""
             }
            },
            "type": "scatterternary"
           }
          ],
          "surface": [
           {
            "colorbar": {
             "outlinewidth": 0,
             "ticks": ""
            },
            "colorscale": [
             [
              0,
              "#0d0887"
             ],
             [
              0.1111111111111111,
              "#46039f"
             ],
             [
              0.2222222222222222,
              "#7201a8"
             ],
             [
              0.3333333333333333,
              "#9c179e"
             ],
             [
              0.4444444444444444,
              "#bd3786"
             ],
             [
              0.5555555555555556,
              "#d8576b"
             ],
             [
              0.6666666666666666,
              "#ed7953"
             ],
             [
              0.7777777777777778,
              "#fb9f3a"
             ],
             [
              0.8888888888888888,
              "#fdca26"
             ],
             [
              1,
              "#f0f921"
             ]
            ],
            "type": "surface"
           }
          ],
          "table": [
           {
            "cells": {
             "fill": {
              "color": "#EBF0F8"
             },
             "line": {
              "color": "white"
             }
            },
            "header": {
             "fill": {
              "color": "#C8D4E3"
             },
             "line": {
              "color": "white"
             }
            },
            "type": "table"
           }
          ]
         },
         "layout": {
          "annotationdefaults": {
           "arrowcolor": "#2a3f5f",
           "arrowhead": 0,
           "arrowwidth": 1
          },
          "autotypenumbers": "strict",
          "coloraxis": {
           "colorbar": {
            "outlinewidth": 0,
            "ticks": ""
           }
          },
          "colorscale": {
           "diverging": [
            [
             0,
             "#8e0152"
            ],
            [
             0.1,
             "#c51b7d"
            ],
            [
             0.2,
             "#de77ae"
            ],
            [
             0.3,
             "#f1b6da"
            ],
            [
             0.4,
             "#fde0ef"
            ],
            [
             0.5,
             "#f7f7f7"
            ],
            [
             0.6,
             "#e6f5d0"
            ],
            [
             0.7,
             "#b8e186"
            ],
            [
             0.8,
             "#7fbc41"
            ],
            [
             0.9,
             "#4d9221"
            ],
            [
             1,
             "#276419"
            ]
           ],
           "sequential": [
            [
             0,
             "#0d0887"
            ],
            [
             0.1111111111111111,
             "#46039f"
            ],
            [
             0.2222222222222222,
             "#7201a8"
            ],
            [
             0.3333333333333333,
             "#9c179e"
            ],
            [
             0.4444444444444444,
             "#bd3786"
            ],
            [
             0.5555555555555556,
             "#d8576b"
            ],
            [
             0.6666666666666666,
             "#ed7953"
            ],
            [
             0.7777777777777778,
             "#fb9f3a"
            ],
            [
             0.8888888888888888,
             "#fdca26"
            ],
            [
             1,
             "#f0f921"
            ]
           ],
           "sequentialminus": [
            [
             0,
             "#0d0887"
            ],
            [
             0.1111111111111111,
             "#46039f"
            ],
            [
             0.2222222222222222,
             "#7201a8"
            ],
            [
             0.3333333333333333,
             "#9c179e"
            ],
            [
             0.4444444444444444,
             "#bd3786"
            ],
            [
             0.5555555555555556,
             "#d8576b"
            ],
            [
             0.6666666666666666,
             "#ed7953"
            ],
            [
             0.7777777777777778,
             "#fb9f3a"
            ],
            [
             0.8888888888888888,
             "#fdca26"
            ],
            [
             1,
             "#f0f921"
            ]
           ]
          },
          "colorway": [
           "#636efa",
           "#EF553B",
           "#00cc96",
           "#ab63fa",
           "#FFA15A",
           "#19d3f3",
           "#FF6692",
           "#B6E880",
           "#FF97FF",
           "#FECB52"
          ],
          "font": {
           "color": "#2a3f5f"
          },
          "geo": {
           "bgcolor": "white",
           "lakecolor": "white",
           "landcolor": "#E5ECF6",
           "showlakes": true,
           "showland": true,
           "subunitcolor": "white"
          },
          "hoverlabel": {
           "align": "left"
          },
          "hovermode": "closest",
          "mapbox": {
           "style": "light"
          },
          "paper_bgcolor": "white",
          "plot_bgcolor": "#E5ECF6",
          "polar": {
           "angularaxis": {
            "gridcolor": "white",
            "linecolor": "white",
            "ticks": ""
           },
           "bgcolor": "#E5ECF6",
           "radialaxis": {
            "gridcolor": "white",
            "linecolor": "white",
            "ticks": ""
           }
          },
          "scene": {
           "xaxis": {
            "backgroundcolor": "#E5ECF6",
            "gridcolor": "white",
            "gridwidth": 2,
            "linecolor": "white",
            "showbackground": true,
            "ticks": "",
            "zerolinecolor": "white"
           },
           "yaxis": {
            "backgroundcolor": "#E5ECF6",
            "gridcolor": "white",
            "gridwidth": 2,
            "linecolor": "white",
            "showbackground": true,
            "ticks": "",
            "zerolinecolor": "white"
           },
           "zaxis": {
            "backgroundcolor": "#E5ECF6",
            "gridcolor": "white",
            "gridwidth": 2,
            "linecolor": "white",
            "showbackground": true,
            "ticks": "",
            "zerolinecolor": "white"
           }
          },
          "shapedefaults": {
           "line": {
            "color": "#2a3f5f"
           }
          },
          "ternary": {
           "aaxis": {
            "gridcolor": "white",
            "linecolor": "white",
            "ticks": ""
           },
           "baxis": {
            "gridcolor": "white",
            "linecolor": "white",
            "ticks": ""
           },
           "bgcolor": "#E5ECF6",
           "caxis": {
            "gridcolor": "white",
            "linecolor": "white",
            "ticks": ""
           }
          },
          "title": {
           "x": 0.05
          },
          "xaxis": {
           "automargin": true,
           "gridcolor": "white",
           "linecolor": "white",
           "ticks": "",
           "title": {
            "standoff": 15
           },
           "zerolinecolor": "white",
           "zerolinewidth": 2
          },
          "yaxis": {
           "automargin": true,
           "gridcolor": "white",
           "linecolor": "white",
           "ticks": "",
           "title": {
            "standoff": 15
           },
           "zerolinecolor": "white",
           "zerolinewidth": 2
          }
         }
        },
        "title": {
         "text": "Single SERP items embeddings with GM clusters. Search Query = True"
        },
        "width": 1000
       }
      }
     },
     "metadata": {},
     "output_type": "display_data"
    }
   ],
   "source": [
    "fig = go.Figure()\n",
    "\n",
    "embs=[]\n",
    "labels=[]\n",
    "for iid in sample.serp.split(','):\n",
    "    try:\n",
    "        embs.append(tsne_items_embeddings[item_dict[int(iid)]])\n",
    "        labels.append(item_labels[item_dict[int(iid)]])\n",
    "    except KeyError:\n",
    "        continue\n",
    "\n",
    "embs=np.array(embs)\n",
    "labels=np.array(labels)\n",
    "for label in set(labels):\n",
    "    idxs=labels==label\n",
    "    label_embedding=embs[idxs]\n",
    "    fig.add_trace(go.Scatter(x=label_embedding[:,0], y=label_embedding[:,1], name=str(label), mode='markers'))\n",
    "\n",
    "fig.add_trace(go.Scatter(x=[tsne_items_embeddings[item_dict[sample.item_id], 0]], \n",
    "                            y=[tsne_items_embeddings[item_dict[sample.item_id], 1]], \n",
    "                            name=f'target in {item_labels[item_dict[sample.item_id]]}', mode='markers', \n",
    "                            marker=dict(size=12,\n",
    "                                    line=dict(width=2,\n",
    "                                    color='DarkSlateGrey'))))\n",
    "\n",
    "\n",
    "fig.update_layout(title=f'Single SERP items embeddings with GM clusters. Search Query = {is_search_query(sample.query_id)}',\n",
    "                  margin=dict(l=40, r=40, t=40, b=40),\n",
    "                  width=1000, height=800)\n",
    "fig.show()"
   ]
  },
  {
   "cell_type": "markdown",
   "metadata": {},
   "source": [
    "### aggregate above info"
   ]
  },
  {
   "cell_type": "code",
   "execution_count": null,
   "metadata": {},
   "outputs": [],
   "source": [
    "query_serp_clusters_dict={}\n",
    "for _,r in tqdm(clicks_df[['query_id','serp']].drop_duplicates().iterrows()):\n",
    "    labels=[]\n",
    "    if not r.serp is np.nan:\n",
    "        for iid in r.serp.split(','):\n",
    "            try:\n",
    "                labels.append(item_labels[item_dict[int(iid)]])\n",
    "            except KeyError:\n",
    "                continue\n",
    "        query_serp_clusters_dict[r.query_id]=np.unique(labels, return_counts=True)"
   ]
  },
  {
   "cell_type": "code",
   "execution_count": 178,
   "metadata": {},
   "outputs": [],
   "source": [
    "def get_serpXcluster_info(r):\n",
    "    if r.item_number<0:\n",
    "        return np.nan, np.nan\n",
    "    try:\n",
    "        vals,counts=query_serp_clusters_dict[r.query_id]\n",
    "        no_vals=vals.shape[0]\n",
    "        proportion=0\n",
    "        if item_labels[r.item_number] in vals:\n",
    "            i=vals.tolist().index(item_labels[r.item_number])\n",
    "            proportion=counts[i]/sum(counts)\n",
    "    except KeyError:\n",
    "        return (np.nan, np.nan)\n",
    "    return no_vals, proportion"
   ]
  },
  {
   "cell_type": "code",
   "execution_count": 179,
   "metadata": {},
   "outputs": [],
   "source": [
    "pom=clicks_df.apply(lambda r: get_serpXcluster_info(r), axis=1)\n",
    "clicks_df['no_clusters_serp']=[x[0] for x in pom]\n",
    "clicks_df['target_cluster_proportion']=[x[1] for x in pom]\n",
    "del pom"
   ]
  },
  {
   "cell_type": "code",
   "execution_count": 286,
   "metadata": {},
   "outputs": [],
   "source": [
    "#clicks_df.to_csv('../datasets/diginetica/clicks_df.csv')"
   ]
  },
  {
   "cell_type": "code",
   "execution_count": 220,
   "metadata": {},
   "outputs": [
    {
     "data": {
      "text/plain": [
       "0.5213398091658616"
      ]
     },
     "execution_count": 220,
     "metadata": {},
     "output_type": "execute_result"
    }
   ],
   "source": [
    "clicks_df.loc[(clicks_df.target_cluster_proportion>=0.7)\n",
    "              &(clicks_df.session_id.isin(test_session_ids))].shape[0]/clicks_df.loc[clicks_df.session_id.isin(test_session_ids)].target_cluster_proportion.dropna().shape[0]"
   ]
  },
  {
   "cell_type": "code",
   "execution_count": 240,
   "metadata": {},
   "outputs": [
    {
     "data": {
      "text/plain": [
       "array([890364.,  46555.,  46562., ..., 980490., 980493., 980503.])"
      ]
     },
     "execution_count": 240,
     "metadata": {},
     "output_type": "execute_result"
    }
   ],
   "source": [
    "clicks_df.query_id.unique()"
   ]
  },
  {
   "cell_type": "code",
   "execution_count": 224,
   "metadata": {},
   "outputs": [
    {
     "data": {
      "image/png": "[encoded data removed]",
      "text/plain": [
       "<Figure size 640x480 with 1 Axes>"
      ]
     },
     "metadata": {},
     "output_type": "display_data"
    }
   ],
   "source": [
    "plt.hist(clicks_df.loc[clicks_df.session_id.isin(test_session_ids)].target_cluster_proportion.dropna(), bins=100)\n",
    "plt.title('Proportion of items in SERP belonging to the same GM cluster as target (clicked) item')\n",
    "plt.show()"
   ]
  },
  {
   "cell_type": "code",
   "execution_count": 221,
   "metadata": {},
   "outputs": [
    {
     "data": {
      "image/png": "[encoded data removed]",
      "text/plain": [
       "<Figure size 640x480 with 1 Axes>"
      ]
     },
     "metadata": {},
     "output_type": "display_data"
    }
   ],
   "source": [
    "plt.hist(clicks_df.loc[clicks_df.session_id.isin(test_session_ids)].no_clusters_serp.dropna(), bins=100)\n",
    "plt.title('Number of GM clusters in SERP')\n",
    "plt.show()"
   ]
  },
  {
   "cell_type": "markdown",
   "metadata": {},
   "source": [
    "## autoencoder on item embbedings"
   ]
  },
  {
   "cell_type": "code",
   "execution_count": 82,
   "metadata": {},
   "outputs": [],
   "source": [
    "from torch import nn"
   ]
  },
  {
   "cell_type": "code",
   "execution_count": 86,
   "metadata": {},
   "outputs": [],
   "source": [
    "class Encoder(nn.Module):\n",
    "    def __init__(self):\n",
    "        \"\"\"Encoder.\n",
    "\n",
    "        Args:\n",
    "           num_input_channels : Number of input channels of the image. For CIFAR, this parameter is 3\n",
    "           base_channel_size : Number of channels we use in the first convolutional layers. Deeper layers might use a duplicate of it.\n",
    "           latent_dim : Dimensionality of latent representation z\n",
    "           act_fn : Activation function used throughout the encoder network\n",
    "        \"\"\"\n",
    "        super().__init__()\n",
    "        self.net = nn.Sequential(\n",
    "            nn.Linear(opt.hiddenSize, 32), \n",
    "            nn.Tanh(),\n",
    "            nn.Linear(32, 8), \n",
    "            nn.Tanh(),\n",
    "            nn.Linear(8, 2), \n",
    "            nn.Tanh(),\n",
    "        )\n",
    "\n",
    "    def forward(self, x):\n",
    "        return self.net(x)"
   ]
  },
  {
   "cell_type": "code",
   "execution_count": 85,
   "metadata": {},
   "outputs": [],
   "source": [
    "class Decoder(nn.Module):\n",
    "    def __init__(self):\n",
    "        \"\"\"Decoder.\n",
    "\n",
    "        Args:\n",
    "           num_input_channels : Number of channels of the image to reconstruct. For CIFAR, this parameter is 3\n",
    "           base_channel_size : Number of channels we use in the last convolutional layers. Early layers might use a duplicate of it.\n",
    "           latent_dim : Dimensionality of latent representation z\n",
    "           act_fn : Activation function used throughout the decoder network\n",
    "        \"\"\"\n",
    "        super().__init__()\n",
    "        self.net = nn.Sequential(\n",
    "            nn.Linear(2, 8), \n",
    "            nn.Tanh(),\n",
    "            nn.Linear(8, 32), \n",
    "            nn.Tanh(),\n",
    "            nn.Linear(32, 100), \n",
    "            nn.Tanh(),\n",
    "        )\n",
    "\n",
    "    def forward(self, x):\n",
    "        return self.net(x)"
   ]
  },
  {
   "cell_type": "code",
   "execution_count": 87,
   "metadata": {},
   "outputs": [],
   "source": [
    "from torch import optim"
   ]
  },
  {
   "cell_type": "code",
   "execution_count": 129,
   "metadata": {},
   "outputs": [],
   "source": [
    "class Autoencoder(pl.LightningModule):\n",
    "    def __init__(\n",
    "        self, lr\n",
    "    ):\n",
    "        super().__init__()\n",
    "        # Saving hyperparameters of autoencoder\n",
    "        self.save_hyperparameters()\n",
    "        # Creating encoder and decoder\n",
    "        self.encoder = Encoder()\n",
    "        self.decoder = Decoder()\n",
    "        # Example input array needed for visualizing the graph of the network\n",
    "        self.example_input_array = torch.zeros(2, opt.hiddenSize)\n",
    "        self.loss=nn.MSELoss()\n",
    "        self.lr=lr\n",
    "\n",
    "    def forward(self, x):\n",
    "        \"\"\"The forward function takes in an image and returns the reconstructed image.\"\"\"\n",
    "        z = self.encoder(x)\n",
    "        x_hat = self.decoder(z)\n",
    "        return x_hat\n",
    "\n",
    "    def _get_reconstruction_loss(self, batch):\n",
    "        \"\"\"Given a batch of images, this function returns the reconstruction loss (MSE in our case).\"\"\"\n",
    "        x, _ = batch  # We do not need the labels\n",
    "        x_hat = self.forward(x)\n",
    "        loss = self.loss(x, x_hat)\n",
    "      #  loss = loss.mean()\n",
    "        return loss\n",
    "\n",
    "    def configure_optimizers(self):\n",
    "        optimizer = optim.Adam(self.parameters(), lr=self.lr)\n",
    "        # Using a scheduler is optional but can be helpful.\n",
    "        # The scheduler reduces the LR if the validation performance hasn't improved for the last N epochs\n",
    "        scheduler = optim.lr_scheduler.ReduceLROnPlateau(optimizer, mode=\"min\", factor=0.2, patience=5, min_lr=5e-5)\n",
    "        return {\"optimizer\": optimizer, \"lr_scheduler\": scheduler, \"monitor\": \"val_loss\"}\n",
    "\n",
    "    def training_step(self, batch, batch_idx):\n",
    "        loss = self._get_reconstruction_loss(batch)\n",
    "        self.log(\"train_loss\", loss)\n",
    "        return loss\n",
    "\n",
    "    def validation_step(self, batch, batch_idx):\n",
    "        loss = self._get_reconstruction_loss(batch)\n",
    "        self.log(\"val_loss\", loss, prog_bar=True)\n",
    "        \n",
    "    def test_step(self, batch, batch_idx):\n",
    "        loss = self._get_reconstruction_loss(batch)\n",
    "        self.log(\"test_loss\", loss)"
   ]
  },
  {
   "cell_type": "code",
   "execution_count": 89,
   "metadata": {},
   "outputs": [],
   "source": [
    "import torch.utils.data as data_utils\n"
   ]
  },
  {
   "cell_type": "code",
   "execution_count": 94,
   "metadata": {},
   "outputs": [],
   "source": [
    "class ItemDataset(data_utils.Dataset):\n",
    "    def __init__(self, X, Y):\n",
    "        super().__init__()\n",
    "        self.X=X\n",
    "        self.Y=Y\n",
    "\n",
    "    def __len__(self):\n",
    "        return self.Y.shape[0]\n",
    "\n",
    "    def __getitem__(self, index):\n",
    "        return self.X[index], self.Y[index]"
   ]
  },
  {
   "cell_type": "code",
   "execution_count": 95,
   "metadata": {},
   "outputs": [],
   "source": [
    "train_idxs=np.random.randint(0, item_labels.shape[0], size=int(item_labels.shape[0]*0.8))\n",
    "val_idxs=[x for x in range(item_labels.shape[0]) if not x in train_idxs]\n",
    "\n",
    "items_train_dataloader=data_utils.DataLoader(ItemDataset(items_embeddings[train_idxs], item_labels[train_idxs]),\n",
    "                                             batch_size=32, num_workers=os.cpu_count(),\n",
    "                                             shuffle=True, drop_last=True)\n",
    "items_val_dataloader=data_utils.DataLoader(ItemDataset(items_embeddings[val_idxs], item_labels[val_idxs]),\n",
    "                                             batch_size=32, num_workers=os.cpu_count(),\n",
    "                                             )"
   ]
  },
  {
   "cell_type": "code",
   "execution_count": 99,
   "metadata": {},
   "outputs": [],
   "source": [
    "from pytorch_lightning.callbacks import EarlyStopping, LearningRateMonitor, ModelCheckpoint\n"
   ]
  },
  {
   "cell_type": "code",
   "execution_count": 142,
   "metadata": {},
   "outputs": [
    {
     "name": "stderr",
     "output_type": "stream",
     "text": [
      "GPU available: True (cuda), used: True\n",
      "TPU available: False, using: 0 TPU cores\n",
      "IPU available: False, using: 0 IPUs\n",
      "HPU available: False, using: 0 HPUs\n"
     ]
    }
   ],
   "source": [
    "trainer=pl.Trainer( accelerator=\"auto\",\n",
    "        devices=1,\n",
    "        max_epochs=500,\n",
    "        callbacks=[\n",
    "            ModelCheckpoint(monitor=\"val_loss\", mode=\"min\"),\n",
    "            LearningRateMonitor(\"epoch\"),\n",
    "            EarlyStopping(\n",
    "                monitor=\"val_loss\", patience=opt.patience, mode=\"min\", check_finite=True\n",
    "            ),\n",
    "        ],\n",
    "    )"
   ]
  },
  {
   "cell_type": "code",
   "execution_count": 140,
   "metadata": {},
   "outputs": [],
   "source": [
    "autoencoder=Autoencoder(lr=1e-2)"
   ]
  },
  {
   "cell_type": "code",
   "execution_count": 141,
   "metadata": {},
   "outputs": [],
   "source": [
    "with torch.no_grad():\n",
    "    # Initialize parameters\n",
    "    for name, p in autoencoder.named_parameters():\n",
    "        if \"weight\" in name:\n",
    "            #p.normal_(0, 0.5)\n",
    "            nn.init.xavier_normal_(p)\n",
    "        elif \"bias\" in name:\n",
    "            p.normal_(0, 1e-2)\n",
    "           # nn.init.xavier_normal_(p)\n",
    "        else:\n",
    "            raise ValueError('Unknown parameter name \"%s\"' % name)"
   ]
  },
  {
   "cell_type": "code",
   "execution_count": 143,
   "metadata": {},
   "outputs": [
    {
     "name": "stderr",
     "output_type": "stream",
     "text": [
      "LOCAL_RANK: 0 - CUDA_VISIBLE_DEVICES: [0]\n",
      "\n",
      "  | Name    | Type    | Params | In sizes | Out sizes\n",
      "-----------------------------------------------------------\n",
      "0 | encoder | Encoder | 3.5 K  | [2, 100] | [2, 2]   \n",
      "1 | decoder | Decoder | 3.6 K  | [2, 2]   | [2, 100] \n",
      "2 | loss    | MSELoss | 0      | ?        | ?        \n",
      "-----------------------------------------------------------\n",
      "7.1 K     Trainable params\n",
      "0         Non-trainable params\n",
      "7.1 K     Total params\n",
      "0.029     Total estimated model params size (MB)\n"
     ]
    },
    {
     "name": "stdout",
     "output_type": "stream",
     "text": [
      "Epoch 38: 100%|██████████| 1077/1077 [00:04<00:00, 250.01it/s, v_num=632, val_loss=0.00844]"
     ]
    },
    {
     "name": "stderr",
     "output_type": "stream",
     "text": [
      "/home/kacper/anaconda3/envs/gpu_torch/lib/python3.12/site-packages/pytorch_lightning/trainer/call.py:54: UserWarning:\n",
      "\n",
      "Detected KeyboardInterrupt, attempting graceful shutdown...\n",
      "\n"
     ]
    }
   ],
   "source": [
    "trainer.fit(autoencoder, items_train_dataloader, items_val_dataloader)"
   ]
  },
  {
   "cell_type": "code",
   "execution_count": 146,
   "metadata": {},
   "outputs": [],
   "source": [
    "ae_item_embeddings=autoencoder.encoder(torch.tensor(items_embeddings, device=autoencoder.device)).cpu().detach().numpy()"
   ]
  },
  {
   "cell_type": "code",
   "execution_count": null,
   "metadata": {},
   "outputs": [],
   "source": [
    "fig = go.Figure()\n",
    "\n",
    "for label in np.unique(item_labels):\n",
    "    label_embedding=ae_item_embeddings[item_labels==label]\n",
    "    fig.add_trace(go.Scatter(x=label_embedding[:,0], y=label_embedding[:,1], name=str(label), mode='markers'))\n",
    "\n",
    "\n",
    "\n",
    "fig.update_layout(title='AutoEncoder reduced items embeddings with GM',\n",
    "                  margin=dict(l=40, r=40, t=40, b=40),\n",
    "                  width=1000, height=800)\n",
    "fig.write_html(f'./images/items_AE_{gm.n_components}_{gm.init_params}_{opt.dataset}_{opt.hiddenSize}_{global_run_id.split(\"-\")[-1]}.html')\n",
    "fig.show()"
   ]
  },
  {
   "cell_type": "code",
   "execution_count": 151,
   "metadata": {},
   "outputs": [],
   "source": [
    "del items_train_dataloader\n",
    "del items_val_dataloader\n",
    "del autoencoder\n",
    "del trainer\n",
    "del ae_item_embeddings"
   ]
  },
  {
   "cell_type": "markdown",
   "metadata": {},
   "source": [
    "## more"
   ]
  },
  {
   "cell_type": "code",
   "execution_count": null,
   "metadata": {},
   "outputs": [],
   "source": []
  }
 ],
 "metadata": {
  "kernelspec": {
   "display_name": "gpu_torch",
   "language": "python",
   "name": "python3"
  },
  "language_info": {
   "codemirror_mode": {
    "name": "ipython",
    "version": 3
   },
   "file_extension": ".py",
   "mimetype": "text/x-python",
   "name": "python",
   "nbconvert_exporter": "python",
   "pygments_lexer": "ipython3",
   "version": "3.12.1"
  }
 },
 "nbformat": 4,
 "nbformat_minor": 2
}
