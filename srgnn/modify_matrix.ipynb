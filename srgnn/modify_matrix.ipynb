{
 "cells": [
  {
   "cell_type": "markdown",
   "metadata": {},
   "source": [
    "# imports and utils"
   ]
  },
  {
   "cell_type": "code",
   "execution_count": 1,
   "metadata": {},
   "outputs": [
    {
     "name": "stderr",
     "output_type": "stream",
     "text": [
      "/home/kacper/anaconda3/envs/gpu_torch/lib/python3.12/site-packages/tqdm/auto.py:21: TqdmWarning: IProgress not found. Please update jupyter and ipywidgets. See https://ipywidgets.readthedocs.io/en/stable/user_install.html\n",
      "  from .autonotebook import tqdm as notebook_tqdm\n"
     ]
    }
   ],
   "source": [
    "import pickle\n",
    "from srgnn_model import SRGNN_model\n",
    "from tagnn_model import TAGNN_model\n",
    "from srgnn_datasets import SRGNN_Map_Dataset, Augment_Matrix_Dataset, SRGNN_sampler, Clusters_Matrix_Dataset\n",
    "from utils import load_model, get_dataset\n",
    "import os\n",
    "\n",
    "from torch.utils.data import DataLoader\n",
    "\n",
    "import numpy as np\n",
    "import pandas as pd\n",
    "\n",
    "from tqdm import tqdm\n",
    "\n",
    "import yaml\n",
    "import torch\n",
    "from pytorch_lightning import Trainer\n",
    "from math import ceil\n",
    "\n",
    "from sklearn.manifold import TSNE\n",
    "import plotly.graph_objects as go"
   ]
  },
  {
   "cell_type": "code",
   "execution_count": 2,
   "metadata": {},
   "outputs": [],
   "source": [
    "torch.set_float32_matmul_precision('medium')"
   ]
  },
  {
   "cell_type": "code",
   "execution_count": 3,
   "metadata": {},
   "outputs": [],
   "source": [
    "def get_metrics_by_hand(model, dataloaders):\n",
    "    m=[]\n",
    "    for i, d in enumerate(dataloaders):\n",
    "        hit,mrr=[],[]\n",
    "        for batch in tqdm(d, total=ceil(normal_test_dataset.length/opt.batchSize)):\n",
    "            batch=[x.to('cuda') for x in batch]\n",
    "            sub_scores, targets=model.predict_step(batch)\n",
    "            targets=targets.flatten()\n",
    "            for score, target in zip(sub_scores, targets):\n",
    "                correct_pred=torch.isin(target - 1, score)\n",
    "                hit.append(correct_pred.cpu().numpy())\n",
    "                if not correct_pred:\n",
    "                    mrr.append(0)\n",
    "                else:\n",
    "                    mrr.append(1 / (torch.where(score == target - 1)[0][0] + 1).cpu().numpy())\n",
    "        m.append((i, np.average(hit),np.average(mrr)))\n",
    "    return m\n"
   ]
  },
  {
   "cell_type": "markdown",
   "metadata": {},
   "source": [
    "# Normal model"
   ]
  },
  {
   "cell_type": "code",
   "execution_count": 4,
   "metadata": {},
   "outputs": [
    {
     "name": "stdout",
     "output_type": "stream",
     "text": [
      "{'dataset': 'diginetica', 'batchSize': 100, 'hiddenSize': 100, 'epoch': 30, 'lr': 0.001, 'lr_dc': 0.1, 'lr_dc_step': 2, 'lr_scheduler': 'step', 'lr_milestones': ([2, 5, 8],), 'l2': 1e-05, 'step': 2, 'patience': 5, 'nonhybrid': False, 'validation': True, 'valid_portion': 0.1, 'pretrained_embedings': False, 'unfreeze_epoch': 0, 'gmm': True, 'augment_matrix': False, 'augment_clusters': False, 'augment_old_run_id': None, 'augment_clip': 0, 'augment_normalize': False, 'augment_raw': False, 'weight_init': 'normal', 'augment_categories': False, 'augment_nogmm': 16, 'augment_p': 1.0, 'augment_mean': 0.01, 'augment_std': 0.0, 'augment_gmm_init': 'k-means++', 'augment_prenormalize_distances': False, 'augment_noise_p': 1, 'augment_alg': 'gmm', 'gmm_covariance_type': 'full', 'gmm_tol': 0.001}\n"
     ]
    }
   ],
   "source": [
    "run_id='jxgwsuta'\n",
    "#run_id= 'run-20240614_112333-4o6dnpcx' # digineticax b4 vacation\n",
    "#run_id='run-20240404_162708-ekuo66ei' # diginetica OLD\n",
    "#run_id='run-20240614_153017-zgpiq2xg' # yoochoose1/4\n",
    "model,opt=load_model(run_id)\n",
    "test_data = pickle.load(open('../datasets/' + opt.dataset + '/test.txt', 'rb'))"
   ]
  },
  {
   "cell_type": "code",
   "execution_count": 5,
   "metadata": {},
   "outputs": [
    {
     "name": "stdout",
     "output_type": "stream",
     "text": [
      "data masking start\n"
     ]
    },
    {
     "name": "stderr",
     "output_type": "stream",
     "text": [
      "100%|██████████| 64/64 [00:00<00:00, 236.03it/s]"
     ]
    },
    {
     "name": "stdout",
     "output_type": "stream",
     "text": [
      "done masking\n"
     ]
    },
    {
     "name": "stderr",
     "output_type": "stream",
     "text": [
      "\n"
     ]
    }
   ],
   "source": [
    "normal_test_dataset=SRGNN_Map_Dataset(test_data, shuffle=False)\n",
    "\n",
    "normal_test_dataloader=DataLoader(normal_test_dataset, \n",
    "                            num_workers=os.cpu_count(),  \n",
    "                            sampler=SRGNN_sampler(normal_test_dataset, opt.batchSize, shuffle=False, drop_last=False)\n",
    "                            )"
   ]
  },
  {
   "cell_type": "code",
   "execution_count": 6,
   "metadata": {},
   "outputs": [
    {
     "name": "stderr",
     "output_type": "stream",
     "text": [
      "GPU available: True (cuda), used: True\n",
      "TPU available: False, using: 0 TPU cores\n",
      "IPU available: False, using: 0 IPUs\n",
      "HPU available: False, using: 0 HPUs\n",
      "/home/kacper/anaconda3/envs/gpu_torch/lib/python3.12/site-packages/pytorch_lightning/trainer/connectors/logger_connector/logger_connector.py:75: Starting from v1.9.0, `tensorboardX` has been removed as a dependency of the `pytorch_lightning` package, due to potential conflicts with other packages in the ML ecosystem. For this reason, `logger=True` will use `CSVLogger` as the default logger, unless the `tensorboard` or `tensorboardX` packages are found. Please `pip install lightning[extra]` or one of them to enable TensorBoard support by default\n"
     ]
    }
   ],
   "source": [
    "trainer=Trainer(limit_test_batches=ceil(normal_test_dataset.length/opt.batchSize),\n",
    "                limit_predict_batches=ceil(normal_test_dataset.length/opt.batchSize))"
   ]
  },
  {
   "cell_type": "code",
   "execution_count": 7,
   "metadata": {},
   "outputs": [],
   "source": [
    "runs=[\n",
    "    'run-20240805_152836-9qftnkuw',\n",
    "    'run-20240614_112333-4o6dnpcx', # before vacation\n",
    "  #  'run-20240614_110415-s1ibwx8z',\n",
    "  #  'run-20240614_103554-9oalum92',\n",
    "  #  'run-20240614_100940-1qzerry1',\n",
    "  #  'run-20240614_090951-1we03ydl',\n",
    "  #  'run-20240531_122335-i78k1rzu',\n",
    "]"
   ]
  },
  {
   "cell_type": "code",
   "execution_count": 8,
   "metadata": {},
   "outputs": [
    {
     "name": "stdout",
     "output_type": "stream",
     "text": [
      "{'dataset': 'diginetica', 'batchSize': 100, 'hiddenSize': 100, 'epoch': 60, 'lr': 0.001, 'lr_dc': 0.1, 'lr_dc_step': 2, 'l2': 1e-05, 'step': 2, 'patience': 5, 'nonhybrid': False, 'validation': True, 'valid_portion': 0.1, 'pretrained_embedings': False, 'unfreeze_epoch': 1, 'gmm': False, 'augment_matrix': False, 'augment_clusters': False, 'augment_old_run_id': None, 'augment_clip': 0, 'augment_normalize': False, 'augment_raw': False, 'weight_init': 'normal', 'augment_categories': False, 'augment_nogmm': 16, 'augment_p': 1.0, 'augment_mean': 0.01, 'augment_std': 0.0, 'augment_gmm_init': 'k-means++', 'augment_prenormalize_distances': False, 'augment_noise_p': 1}\n",
      "Metrics on normal Adjacency matrix\n",
      "run-20240805_152836-9qftnkuw\n"
     ]
    },
    {
     "name": "stderr",
     "output_type": "stream",
     "text": [
      "LOCAL_RANK: 0 - CUDA_VISIBLE_DEVICES: [0]\n"
     ]
    },
    {
     "name": "stdout",
     "output_type": "stream",
     "text": [
      "Testing DataLoader 0: 100%|██████████| 609/609 [00:18<00:00, 32.73it/s]\n",
      "────────────────────────────────────────────────────────────────────────────────────────────────────────────────────────\n",
      "       Test metric             DataLoader 0\n",
      "────────────────────────────────────────────────────────────────────────────────────────────────────────────────────────\n",
      "        test_hit             50.71292495727539\n",
      "        test_loss            5.497653484344482\n",
      "        test_mrr             17.75798225402832\n",
      "────────────────────────────────────────────────────────────────────────────────────────────────────────────────────────\n",
      "{'dataset': 'diginetica', 'batchSize': 100, 'hiddenSize': 100, 'epoch': 60, 'lr': 0.001, 'lr_dc': 0.1, 'lr_dc_step': 2, 'l2': 1e-05, 'step': 2, 'patience': 4, 'nonhybrid': False, 'validation': True, 'valid_portion': 0.1, 'pretrained_embedings': False, 'unfreeze_epoch': 1, 'gmm': False, 'augment_matrix': False, 'augment_clusters': False, 'augment_old_run_id': None, 'augment_clip': 0, 'augment_normalize': False, 'augment_raw': False, 'weight_init': 'normal', 'augment_categories': False, 'augment_nogmm': 16, 'augment_p': 1.0, 'augment_mean': 0.01, 'augment_std': 0.0, 'augment_gmm_init': 'k-means++', 'augment_prenormalize_distances': False, 'augment_noise_p': 1}\n"
     ]
    },
    {
     "name": "stderr",
     "output_type": "stream",
     "text": [
      "LOCAL_RANK: 0 - CUDA_VISIBLE_DEVICES: [0]\n"
     ]
    },
    {
     "name": "stdout",
     "output_type": "stream",
     "text": [
      "Metrics on normal Adjacency matrix\n",
      "run-20240614_112333-4o6dnpcx\n",
      "Testing DataLoader 0: 100%|██████████| 609/609 [00:17<00:00, 34.05it/s]\n",
      "────────────────────────────────────────────────────────────────────────────────────────────────────────────────────────\n",
      "       Test metric             DataLoader 0\n",
      "────────────────────────────────────────────────────────────────────────────────────────────────────────────────────────\n",
      "        test_hit             50.71383285522461\n",
      "        test_loss            5.507214069366455\n",
      "        test_mrr             17.64642906188965\n",
      "────────────────────────────────────────────────────────────────────────────────────────────────────────────────────────\n"
     ]
    }
   ],
   "source": [
    "for run_id in runs:\n",
    "    model,opt=load_model(run_id)\n",
    "    print('Metrics on normal Adjacency matrix')\n",
    "    print(run_id)\n",
    "    trainer.test(model, normal_test_dataloader)"
   ]
  },
  {
   "cell_type": "markdown",
   "metadata": {},
   "source": [
    "# tagnn"
   ]
  },
  {
   "cell_type": "code",
   "execution_count": 8,
   "metadata": {},
   "outputs": [
    {
     "name": "stderr",
     "output_type": "stream",
     "text": [
      "GPU available: True (cuda), used: True\n",
      "TPU available: False, using: 0 TPU cores\n",
      "IPU available: False, using: 0 IPUs\n",
      "HPU available: False, using: 0 HPUs\n"
     ]
    }
   ],
   "source": [
    "normal_test_dataloader=DataLoader(normal_test_dataset, \n",
    "                            num_workers=os.cpu_count(),  \n",
    "                            sampler=SRGNN_sampler(normal_test_dataset, 32, shuffle=False, drop_last=False)\n",
    "                            )\n",
    "trainer=Trainer(limit_test_batches=ceil(normal_test_dataset.length/32),\n",
    "                limit_predict_batches=ceil(normal_test_dataset.length/32))"
   ]
  },
  {
   "cell_type": "code",
   "execution_count": 9,
   "metadata": {},
   "outputs": [
    {
     "name": "stdout",
     "output_type": "stream",
     "text": [
      "Metrics on normal Adjacency matrix\n",
      "run-20240627_124634-3sqmsb5q\n"
     ]
    },
    {
     "name": "stderr",
     "output_type": "stream",
     "text": [
      "LOCAL_RANK: 0 - CUDA_VISIBLE_DEVICES: [0]\n"
     ]
    },
    {
     "name": "stdout",
     "output_type": "stream",
     "text": [
      "Testing DataLoader 0: 100%|██████████| 1902/1902 [01:00<00:00, 31.29it/s]\n",
      "────────────────────────────────────────────────────────────────────────────────────────────────────────────────────────\n",
      "       Test metric             DataLoader 0\n",
      "────────────────────────────────────────────────────────────────────────────────────────────────────────────────────────\n",
      "        test_hit            49.910011291503906\n",
      "        test_loss            5.666360378265381\n",
      "        test_mrr            17.279094696044922\n",
      "────────────────────────────────────────────────────────────────────────────────────────────────────────────────────────\n"
     ]
    },
    {
     "data": {
      "text/plain": [
       "[{'test_loss': 5.666360378265381,\n",
       "  'test_hit': 49.910011291503906,\n",
       "  'test_mrr': 17.279094696044922}]"
      ]
     },
     "execution_count": 9,
     "metadata": {},
     "output_type": "execute_result"
    }
   ],
   "source": [
    "#for run_id in runs:\n",
    "run_id='run-20240627_124634-3sqmsb5q'\n",
    "model,opt=load_model_tagnn(run_id)\n",
    "print('Metrics on normal Adjacency matrix')\n",
    "print(run_id)\n",
    "trainer.test(model, normal_test_dataloader)"
   ]
  },
  {
   "cell_type": "code",
   "execution_count": null,
   "metadata": {},
   "outputs": [],
   "source": []
  },
  {
   "cell_type": "code",
   "execution_count": 15,
   "metadata": {},
   "outputs": [
    {
     "name": "stdout",
     "output_type": "stream",
     "text": [
      "data masking start\n"
     ]
    },
    {
     "name": "stderr",
     "output_type": "stream",
     "text": [
      "100%|██████████| 64/64 [00:00<00:00, 189.33it/s]\n",
      "LOCAL_RANK: 0 - CUDA_VISIBLE_DEVICES: [0]\n"
     ]
    },
    {
     "name": "stdout",
     "output_type": "stream",
     "text": [
      "done masking\n",
      "run-20240627_183323-4ak5m39f\n",
      "Distnace Augmentation: True Clusters: True Categories: False Noise std:  0.01\n",
      "Testing DataLoader 1: 100%|██████████| 1902/1902 [01:01<00:00, 31.09it/s]\n",
      "────────────────────────────────────────────────────────────────────────────────────────────────────────────────────────\n",
      "       Test metric             DataLoader 0             DataLoader 1\n",
      "────────────────────────────────────────────────────────────────────────────────────────────────────────────────────────\n",
      "        test_hit             48.87112808227539        48.89084243774414\n",
      "        test_loss            5.810800552368164        5.809542179107666\n",
      "        test_mrr            17.120683670043945       17.114744186401367\n",
      "────────────────────────────────────────────────────────────────────────────────────────────────────────────────────────\n",
      "data masking start\n"
     ]
    },
    {
     "name": "stderr",
     "output_type": "stream",
     "text": [
      "100%|██████████| 64/64 [00:00<00:00, 346.86it/s]\n",
      "LOCAL_RANK: 0 - CUDA_VISIBLE_DEVICES: [0]\n"
     ]
    },
    {
     "name": "stdout",
     "output_type": "stream",
     "text": [
      "done masking\n",
      "run-20240627_155659-9kgnghb3\n",
      "Distnace Augmentation: True Clusters: True Categories: False Noise std:  0.01\n",
      "Testing DataLoader 1: 100%|██████████| 1902/1902 [01:01<00:00, 30.83it/s]\n",
      "────────────────────────────────────────────────────────────────────────────────────────────────────────────────────────\n",
      "       Test metric             DataLoader 0             DataLoader 1\n",
      "────────────────────────────────────────────────────────────────────────────────────────────────────────────────────────\n",
      "        test_hit             50.33921813964844       50.393436431884766\n",
      "        test_loss            5.575467109680176        5.574565410614014\n",
      "        test_mrr            17.668127059936523        17.66415786743164\n",
      "────────────────────────────────────────────────────────────────────────────────────────────────────────────────────────\n"
     ]
    }
   ],
   "source": [
    "runs=[\n",
    "    'run-20240627_183323-4ak5m39f',\n",
    "    'run-20240627_155659-9kgnghb3',\n",
    "]\n",
    "\n",
    "for run_id in runs:\n",
    "    model,opt=load_model_tagnn(run_id)\n",
    "    dataset=get_dataset(opt)\n",
    "    am_test_dataloader=DataLoader(dataset,    num_workers=os.cpu_count(),  \n",
    "                            sampler=SRGNN_sampler(dataset, 32, shuffle=False, drop_last=False)\n",
    "                         )\n",
    "    print(run_id)\n",
    "    print('Distnace Augmentation:', opt.augment_matrix,\n",
    "        'Clusters:', opt.augment_clusters,\n",
    "          'Categories:', opt.augment_categories,\n",
    "          'Noise std: ', opt.augment_std\n",
    "          )\n",
    "    trainer.test(model, {'augmented':am_test_dataloader, 'normal':normal_test_dataloader})"
   ]
  },
  {
   "cell_type": "markdown",
   "metadata": {},
   "source": [
    "# test multiple models, trained with different augmentations"
   ]
  },
  {
   "cell_type": "code",
   "execution_count": 8,
   "metadata": {},
   "outputs": [],
   "source": [
    "# yoochoose  \n",
    "runs=[\n",
    "    'run-20240619_102057-3gibtayg'\n",
    "]"
   ]
  },
  {
   "cell_type": "code",
   "execution_count": 13,
   "metadata": {},
   "outputs": [],
   "source": [
    "runs=[\n",
    "    'run-20240621_131456-not829vl',\n",
    "    'run-20240614_142621-t3g6tq0x',\n",
    "    'run-20240614_131608-ej263e5q',\n",
    "    'run-20240614_121256-eb9o86a0',\n",
    "    'run-20240614_115350-nowjww5i',\n",
    "    'run-20240614_125159-mqzvnmnm', # multistep\n",
    "    'run-20240607_124758-qm1wk8n1'\n",
    "    ]\n"
   ]
  },
  {
   "cell_type": "code",
   "execution_count": 43,
   "metadata": {},
   "outputs": [],
   "source": [
    "runs=[\n",
    "    '9kf534bm', \n",
    "    'nbhakjb7', # updated blur - +=(U<p)*N\n",
    "\n",
    "    'fmm07us9', # old blur - if u<p: +=N\n",
    "    'wtqp9kti',\n",
    "\n",
    "    'fbshwixh', # old, a bit bugged\n",
    " ]"
   ]
  },
  {
   "cell_type": "code",
   "execution_count": 44,
   "metadata": {},
   "outputs": [
    {
     "name": "stdout",
     "output_type": "stream",
     "text": [
      "{'dataset': 'diginetica', 'batchSize': 100, 'hiddenSize': 100, 'epoch': 30, 'lr': 0.001, 'lr_dc': 0.1, 'lr_dc_step': 2, 'l2': 1e-06, 'step': 2, 'patience': 4, 'nonhybrid': False, 'validation': True, 'valid_portion': 0.1, 'pretrained_embedings': False, 'unfreeze_epoch': 0, 'gmm': [], 'augment_matrix': True, 'augment_clusters': True, 'augment_old_run_id': 'run-20240614_112333-4o6dnpcx', 'augment_clip': 0, 'augment_normalize': True, 'augment_raw': False, 'weight_init': 'normal', 'augment_categories': False, 'augment_nogmm': 128, 'augment_p': 0.5, 'augment_mean': 0.01, 'augment_std': 0.01, 'augment_gmm_init': 'k-means++', 'augment_prenormalize_distances': False, 'augment_noise_p': 0.5}\n",
      "data masking start\n"
     ]
    },
    {
     "name": "stderr",
     "output_type": "stream",
     "text": [
      "100%|██████████| 64/64 [00:00<00:00, 410.98it/s]\n",
      "/home/kacper/GNN_Master/srgnn/srgnn_datasets.py:456: RuntimeWarning: divide by zero encountered in divide\n",
      "  self.cluster_distances = 1 / self.cluster_distances\n",
      "LOCAL_RANK: 0 - CUDA_VISIBLE_DEVICES: [0]\n"
     ]
    },
    {
     "name": "stdout",
     "output_type": "stream",
     "text": [
      "done masking\n",
      "9kf534bm\n",
      "Distnace Augmentation: True Clusters: True Categories: False Noise std:  0.01 base model run-20240614_112333-4o6dnpcx\n",
      "Testing DataLoader 1: 100%|██████████| 609/609 [00:17<00:00, 35.06it/s]\n",
      "────────────────────────────────────────────────────────────────────────────────────────────────────────────────────────\n",
      "       Test metric             DataLoader 0             DataLoader 1\n",
      "────────────────────────────────────────────────────────────────────────────────────────────────────────────────────────\n",
      "        test_hit            51.045074462890625        51.05447006225586\n",
      "        test_loss            5.485401153564453        5.490163326263428\n",
      "        test_mrr            18.079872131347656       18.067853927612305\n",
      "────────────────────────────────────────────────────────────────────────────────────────────────────────────────────────\n",
      "{'dataset': 'diginetica', 'batchSize': 100, 'hiddenSize': 100, 'epoch': 30, 'lr': 0.001, 'lr_dc': 0.1, 'lr_dc_step': 2, 'l2': 1e-06, 'step': 2, 'patience': 4, 'nonhybrid': False, 'validation': True, 'valid_portion': 0.1, 'pretrained_embedings': False, 'unfreeze_epoch': 0, 'gmm': [], 'augment_matrix': True, 'augment_clusters': True, 'augment_old_run_id': 'run-20240614_112333-4o6dnpcx', 'augment_clip': 0, 'augment_normalize': True, 'augment_raw': False, 'weight_init': 'normal', 'augment_categories': False, 'augment_nogmm': 128, 'augment_p': 0.5, 'augment_mean': 0.01, 'augment_std': 0.01, 'augment_gmm_init': 'k-means++', 'augment_prenormalize_distances': False, 'augment_noise_p': 0.5}\n",
      "data masking start\n"
     ]
    },
    {
     "name": "stderr",
     "output_type": "stream",
     "text": [
      "100%|██████████| 64/64 [00:00<00:00, 419.45it/s]\n",
      "LOCAL_RANK: 0 - CUDA_VISIBLE_DEVICES: [0]\n"
     ]
    },
    {
     "name": "stdout",
     "output_type": "stream",
     "text": [
      "done masking\n",
      "nbhakjb7\n",
      "Distnace Augmentation: True Clusters: True Categories: False Noise std:  0.01 base model run-20240614_112333-4o6dnpcx\n",
      "Testing DataLoader 1: 100%|██████████| 609/609 [00:16<00:00, 36.15it/s]\n",
      "────────────────────────────────────────────────────────────────────────────────────────────────────────────────────────\n",
      "       Test metric             DataLoader 0             DataLoader 1\n",
      "────────────────────────────────────────────────────────────────────────────────────────────────────────────────────────\n",
      "        test_hit             51.1870231628418         51.16567611694336\n",
      "        test_loss            5.495455741882324        5.49939489364624\n",
      "        test_mrr             17.97854232788086        17.9717960357666\n",
      "────────────────────────────────────────────────────────────────────────────────────────────────────────────────────────\n",
      "{'dataset': 'diginetica', 'batchSize': 100, 'hiddenSize': 100, 'epoch': 30, 'lr': 0.001, 'lr_dc': 0.1, 'lr_dc_step': 2, 'l2': 1e-06, 'step': 2, 'patience': 4, 'nonhybrid': False, 'validation': True, 'valid_portion': 0.1, 'pretrained_embedings': False, 'unfreeze_epoch': 0, 'gmm': [], 'augment_matrix': True, 'augment_clusters': True, 'augment_old_run_id': 'run-20240614_112333-4o6dnpcx', 'augment_clip': 0, 'augment_normalize': True, 'augment_raw': False, 'weight_init': 'normal', 'augment_categories': False, 'augment_nogmm': 128, 'augment_p': 0.5, 'augment_mean': 0.01, 'augment_std': 0.01, 'augment_gmm_init': 'k-means++', 'augment_prenormalize_distances': False, 'augment_noise_p': 0.5}\n",
      "data masking start\n"
     ]
    },
    {
     "name": "stderr",
     "output_type": "stream",
     "text": [
      "100%|██████████| 64/64 [00:00<00:00, 199.02it/s]\n",
      "LOCAL_RANK: 0 - CUDA_VISIBLE_DEVICES: [0]\n"
     ]
    },
    {
     "name": "stdout",
     "output_type": "stream",
     "text": [
      "done masking\n",
      "fmm07us9\n",
      "Distnace Augmentation: True Clusters: True Categories: False Noise std:  0.01 base model run-20240614_112333-4o6dnpcx\n",
      "Testing DataLoader 1: 100%|██████████| 609/609 [00:17<00:00, 35.42it/s]\n",
      "────────────────────────────────────────────────────────────────────────────────────────────────────────────────────────\n",
      "       Test metric             DataLoader 0             DataLoader 1\n",
      "────────────────────────────────────────────────────────────────────────────────────────────────────────────────────────\n",
      "        test_hit             51.12910079956055       51.176719665527344\n",
      "        test_loss            5.484712600708008       5.4867682456970215\n",
      "        test_mrr            17.989627838134766       17.982770919799805\n",
      "────────────────────────────────────────────────────────────────────────────────────────────────────────────────────────\n",
      "{'dataset': 'diginetica', 'batchSize': 100, 'hiddenSize': 100, 'epoch': 30, 'lr': 0.001, 'lr_dc': 0.1, 'lr_dc_step': 2, 'l2': 1e-06, 'step': 2, 'patience': 4, 'nonhybrid': False, 'validation': True, 'valid_portion': 0.1, 'pretrained_embedings': False, 'unfreeze_epoch': 0, 'gmm': [], 'augment_matrix': True, 'augment_clusters': True, 'augment_old_run_id': 'run-20240614_112333-4o6dnpcx', 'augment_clip': 0, 'augment_normalize': True, 'augment_raw': False, 'weight_init': 'normal', 'augment_categories': False, 'augment_nogmm': 128, 'augment_p': 0.5, 'augment_mean': 0.01, 'augment_std': 0.01, 'augment_gmm_init': 'k-means++', 'augment_prenormalize_distances': False, 'augment_noise_p': 0.5}\n",
      "data masking start\n"
     ]
    },
    {
     "name": "stderr",
     "output_type": "stream",
     "text": [
      "100%|██████████| 64/64 [00:00<00:00, 426.96it/s]\n",
      "LOCAL_RANK: 0 - CUDA_VISIBLE_DEVICES: [0]\n"
     ]
    },
    {
     "name": "stdout",
     "output_type": "stream",
     "text": [
      "done masking\n",
      "wtqp9kti\n",
      "Distnace Augmentation: True Clusters: True Categories: False Noise std:  0.01 base model run-20240614_112333-4o6dnpcx\n",
      "Testing DataLoader 1: 100%|██████████| 609/609 [00:17<00:00, 35.39it/s]\n",
      "────────────────────────────────────────────────────────────────────────────────────────────────────────────────────────\n",
      "       Test metric             DataLoader 0             DataLoader 1\n",
      "────────────────────────────────────────────────────────────────────────────────────────────────────────────────────────\n",
      "        test_hit            50.867279052734375        50.89802551269531\n",
      "        test_loss            5.483616352081299        5.484720230102539\n",
      "        test_mrr            17.908790588378906        17.91218376159668\n",
      "────────────────────────────────────────────────────────────────────────────────────────────────────────────────────────\n",
      "{'dataset': 'diginetica', 'batchSize': 100, 'hiddenSize': 100, 'epoch': 30, 'lr': 0.001, 'lr_dc': 0.1, 'lr_dc_step': 2, 'l2': 1e-06, 'step': 2, 'patience': 4, 'nonhybrid': False, 'validation': True, 'valid_portion': 0.1, 'pretrained_embedings': False, 'unfreeze_epoch': 0, 'gmm': [], 'augment_matrix': True, 'augment_clusters': True, 'augment_old_run_id': 'run-20240614_112333-4o6dnpcx', 'augment_clip': 0, 'augment_normalize': True, 'augment_raw': False, 'weight_init': 'normal', 'augment_categories': False, 'augment_nogmm': 128, 'augment_p': 0.5, 'augment_mean': 0.01, 'augment_std': 0.01, 'augment_gmm_init': 'k-means++', 'augment_prenormalize_distances': False, 'augment_noise_p': 0.5}\n",
      "data masking start\n"
     ]
    },
    {
     "name": "stderr",
     "output_type": "stream",
     "text": [
      "100%|██████████| 64/64 [00:00<00:00, 426.28it/s]\n",
      "LOCAL_RANK: 0 - CUDA_VISIBLE_DEVICES: [0]\n"
     ]
    },
    {
     "name": "stdout",
     "output_type": "stream",
     "text": [
      "done masking\n",
      "fbshwixh\n",
      "Distnace Augmentation: True Clusters: True Categories: False Noise std:  0.01 base model run-20240614_112333-4o6dnpcx\n",
      "Testing DataLoader 1: 100%|██████████| 609/609 [00:17<00:00, 35.41it/s]\n",
      "────────────────────────────────────────────────────────────────────────────────────────────────────────────────────────\n",
      "       Test metric             DataLoader 0             DataLoader 1\n",
      "────────────────────────────────────────────────────────────────────────────────────────────────────────────────────────\n",
      "        test_hit             50.99654769897461        50.96744155883789\n",
      "        test_loss            5.49594259262085         5.498101234436035\n",
      "        test_mrr            18.009990692138672       18.015676498413086\n",
      "────────────────────────────────────────────────────────────────────────────────────────────────────────────────────────\n"
     ]
    }
   ],
   "source": [
    "for run_id in runs:\n",
    "    model,opt=load_model(run_id)\n",
    "    dataset=get_dataset(opt)\n",
    "    am_test_dataloader=DataLoader(dataset,    num_workers=os.cpu_count(),  \n",
    "                            sampler=SRGNN_sampler(dataset, opt.batchSize, shuffle=False, drop_last=False)\n",
    "                         )\n",
    "    print(run_id)\n",
    "    print('Distnace Augmentation:', opt.augment_matrix,\n",
    "        'Clusters:', opt.augment_clusters,\n",
    "          'Categories:', opt.augment_categories,\n",
    "          'Noise std: ', opt.augment_std,\n",
    "          'base model', opt.augment_old_run_id,\n",
    "          )\n",
    "    trainer.test(model, {'augmented':am_test_dataloader, 'normal':normal_test_dataloader})"
   ]
  },
  {
   "cell_type": "code",
   "execution_count": 45,
   "metadata": {},
   "outputs": [
    {
     "name": "stdout",
     "output_type": "stream",
     "text": [
      "{'dataset': 'diginetica', 'batchSize': 100, 'hiddenSize': 100, 'epoch': 30, 'lr': 0.001, 'lr_dc': 0.1, 'lr_dc_step': 2, 'l2': 1e-06, 'step': 2, 'patience': 4, 'nonhybrid': False, 'validation': True, 'valid_portion': 0.1, 'pretrained_embedings': False, 'unfreeze_epoch': 0, 'gmm': [], 'augment_matrix': True, 'augment_clusters': True, 'augment_old_run_id': 'run-20240614_112333-4o6dnpcx', 'augment_clip': 0, 'augment_normalize': True, 'augment_raw': False, 'weight_init': 'normal', 'augment_categories': False, 'augment_nogmm': 128, 'augment_p': 0.5, 'augment_mean': 0.01, 'augment_std': 0.01, 'augment_gmm_init': 'k-means++', 'augment_prenormalize_distances': False, 'augment_noise_p': 0.5}\n",
      "9kf534bm\n",
      "Distnace Augmentation: True Clusters: True Categories: False Noise std:  0.01 base model run-20240614_112333-4o6dnpcx\n"
     ]
    },
    {
     "name": "stderr",
     "output_type": "stream",
     "text": [
      "100%|██████████| 609/609 [00:18<00:00, 32.81it/s]\n"
     ]
    },
    {
     "name": "stdout",
     "output_type": "stream",
     "text": [
      "{'dataset': 'diginetica', 'batchSize': 100, 'hiddenSize': 100, 'epoch': 30, 'lr': 0.001, 'lr_dc': 0.1, 'lr_dc_step': 2, 'l2': 1e-06, 'step': 2, 'patience': 4, 'nonhybrid': False, 'validation': True, 'valid_portion': 0.1, 'pretrained_embedings': False, 'unfreeze_epoch': 0, 'gmm': [], 'augment_matrix': True, 'augment_clusters': True, 'augment_old_run_id': 'run-20240614_112333-4o6dnpcx', 'augment_clip': 0, 'augment_normalize': True, 'augment_raw': False, 'weight_init': 'normal', 'augment_categories': False, 'augment_nogmm': 128, 'augment_p': 0.5, 'augment_mean': 0.01, 'augment_std': 0.01, 'augment_gmm_init': 'k-means++', 'augment_prenormalize_distances': False, 'augment_noise_p': 0.5}\n",
      "nbhakjb7\n",
      "Distnace Augmentation: True Clusters: True Categories: False Noise std:  0.01 base model run-20240614_112333-4o6dnpcx\n"
     ]
    },
    {
     "name": "stderr",
     "output_type": "stream",
     "text": [
      "100%|██████████| 609/609 [00:18<00:00, 33.04it/s]\n"
     ]
    },
    {
     "name": "stdout",
     "output_type": "stream",
     "text": [
      "{'dataset': 'diginetica', 'batchSize': 100, 'hiddenSize': 100, 'epoch': 30, 'lr': 0.001, 'lr_dc': 0.1, 'lr_dc_step': 2, 'l2': 1e-06, 'step': 2, 'patience': 4, 'nonhybrid': False, 'validation': True, 'valid_portion': 0.1, 'pretrained_embedings': False, 'unfreeze_epoch': 0, 'gmm': [], 'augment_matrix': True, 'augment_clusters': True, 'augment_old_run_id': 'run-20240614_112333-4o6dnpcx', 'augment_clip': 0, 'augment_normalize': True, 'augment_raw': False, 'weight_init': 'normal', 'augment_categories': False, 'augment_nogmm': 128, 'augment_p': 0.5, 'augment_mean': 0.01, 'augment_std': 0.01, 'augment_gmm_init': 'k-means++', 'augment_prenormalize_distances': False, 'augment_noise_p': 0.5}\n",
      "fmm07us9\n",
      "Distnace Augmentation: True Clusters: True Categories: False Noise std:  0.01 base model run-20240614_112333-4o6dnpcx\n"
     ]
    },
    {
     "name": "stderr",
     "output_type": "stream",
     "text": [
      "100%|██████████| 609/609 [00:18<00:00, 32.75it/s]\n"
     ]
    },
    {
     "name": "stdout",
     "output_type": "stream",
     "text": [
      "{'dataset': 'diginetica', 'batchSize': 100, 'hiddenSize': 100, 'epoch': 30, 'lr': 0.001, 'lr_dc': 0.1, 'lr_dc_step': 2, 'l2': 1e-06, 'step': 2, 'patience': 4, 'nonhybrid': False, 'validation': True, 'valid_portion': 0.1, 'pretrained_embedings': False, 'unfreeze_epoch': 0, 'gmm': [], 'augment_matrix': True, 'augment_clusters': True, 'augment_old_run_id': 'run-20240614_112333-4o6dnpcx', 'augment_clip': 0, 'augment_normalize': True, 'augment_raw': False, 'weight_init': 'normal', 'augment_categories': False, 'augment_nogmm': 128, 'augment_p': 0.5, 'augment_mean': 0.01, 'augment_std': 0.01, 'augment_gmm_init': 'k-means++', 'augment_prenormalize_distances': False, 'augment_noise_p': 0.5}\n",
      "wtqp9kti\n",
      "Distnace Augmentation: True Clusters: True Categories: False Noise std:  0.01 base model run-20240614_112333-4o6dnpcx\n"
     ]
    },
    {
     "name": "stderr",
     "output_type": "stream",
     "text": [
      "100%|██████████| 609/609 [00:18<00:00, 32.90it/s]\n"
     ]
    },
    {
     "name": "stdout",
     "output_type": "stream",
     "text": [
      "{'dataset': 'diginetica', 'batchSize': 100, 'hiddenSize': 100, 'epoch': 30, 'lr': 0.001, 'lr_dc': 0.1, 'lr_dc_step': 2, 'l2': 1e-06, 'step': 2, 'patience': 4, 'nonhybrid': False, 'validation': True, 'valid_portion': 0.1, 'pretrained_embedings': False, 'unfreeze_epoch': 0, 'gmm': [], 'augment_matrix': True, 'augment_clusters': True, 'augment_old_run_id': 'run-20240614_112333-4o6dnpcx', 'augment_clip': 0, 'augment_normalize': True, 'augment_raw': False, 'weight_init': 'normal', 'augment_categories': False, 'augment_nogmm': 128, 'augment_p': 0.5, 'augment_mean': 0.01, 'augment_std': 0.01, 'augment_gmm_init': 'k-means++', 'augment_prenormalize_distances': False, 'augment_noise_p': 0.5}\n",
      "fbshwixh\n",
      "Distnace Augmentation: True Clusters: True Categories: False Noise std:  0.01 base model run-20240614_112333-4o6dnpcx\n"
     ]
    },
    {
     "name": "stderr",
     "output_type": "stream",
     "text": [
      "100%|██████████| 609/609 [00:18<00:00, 33.51it/s]\n"
     ]
    }
   ],
   "source": [
    "results={}\n",
    "for run_id in runs:\n",
    "    model,opt=load_model(run_id)\n",
    "    #dataset=get_dataset(opt)\n",
    "   # am_test_dataloader=DataLoader(dataset,    num_workers=os.cpu_count(),  \n",
    "     #                       sampler=SRGNN_sampler(dataset, opt.batchSize, shuffle=False, drop_last=False)\n",
    "      #                   )\n",
    "    print(run_id)\n",
    "    print('Distnace Augmentation:', opt.augment_matrix,\n",
    "        'Clusters:', opt.augment_clusters,\n",
    "          'Categories:', opt.augment_categories,\n",
    "          'Noise std: ', opt.augment_std,\n",
    "          'base model', opt.augment_old_run_id,\n",
    "          )\n",
    "    results[run_id]=get_metrics_by_hand(model, [normal_test_dataloader])"
   ]
  },
  {
   "cell_type": "code",
   "execution_count": 46,
   "metadata": {},
   "outputs": [
    {
     "data": {
      "text/html": [
       "<div>\n",
       "<style scoped>\n",
       "    .dataframe tbody tr th:only-of-type {\n",
       "        vertical-align: middle;\n",
       "    }\n",
       "\n",
       "    .dataframe tbody tr th {\n",
       "        vertical-align: top;\n",
       "    }\n",
       "\n",
       "    .dataframe thead th {\n",
       "        text-align: right;\n",
       "    }\n",
       "</style>\n",
       "<table border=\"1\" class=\"dataframe\">\n",
       "  <thead>\n",
       "    <tr style=\"text-align: right;\">\n",
       "      <th></th>\n",
       "      <th>index</th>\n",
       "      <th>0</th>\n",
       "      <th>DataLoader_id</th>\n",
       "      <th>hit</th>\n",
       "      <th>mrr</th>\n",
       "    </tr>\n",
       "  </thead>\n",
       "  <tbody>\n",
       "    <tr>\n",
       "      <th>0</th>\n",
       "      <td>9kf534bm</td>\n",
       "      <td>(0, 0.5105162838082092, 0.1806362893113383)</td>\n",
       "      <td>0</td>\n",
       "      <td>0.510516</td>\n",
       "      <td>0.180636</td>\n",
       "    </tr>\n",
       "    <tr>\n",
       "      <th>1</th>\n",
       "      <td>nbhakjb7</td>\n",
       "      <td>(0, 0.5116172072693812, 0.1796853487105808)</td>\n",
       "      <td>0</td>\n",
       "      <td>0.511617</td>\n",
       "      <td>0.179685</td>\n",
       "    </tr>\n",
       "    <tr>\n",
       "      <th>2</th>\n",
       "      <td>fmm07us9</td>\n",
       "      <td>(0, 0.5117157974300831, 0.179782890865602)</td>\n",
       "      <td>0</td>\n",
       "      <td>0.511716</td>\n",
       "      <td>0.179783</td>\n",
       "    </tr>\n",
       "    <tr>\n",
       "      <th>3</th>\n",
       "      <td>wtqp9kti</td>\n",
       "      <td>(0, 0.5089388412369779, 0.17909009524408923)</td>\n",
       "      <td>0</td>\n",
       "      <td>0.508939</td>\n",
       "      <td>0.179090</td>\n",
       "    </tr>\n",
       "    <tr>\n",
       "      <th>4</th>\n",
       "      <td>fbshwixh</td>\n",
       "      <td>(0, 0.509645404055342, 0.18010894678173336)</td>\n",
       "      <td>0</td>\n",
       "      <td>0.509645</td>\n",
       "      <td>0.180109</td>\n",
       "    </tr>\n",
       "  </tbody>\n",
       "</table>\n",
       "</div>"
      ],
      "text/plain": [
       "      index                                             0  DataLoader_id  \\\n",
       "0  9kf534bm   (0, 0.5105162838082092, 0.1806362893113383)              0   \n",
       "1  nbhakjb7   (0, 0.5116172072693812, 0.1796853487105808)              0   \n",
       "2  fmm07us9    (0, 0.5117157974300831, 0.179782890865602)              0   \n",
       "3  wtqp9kti  (0, 0.5089388412369779, 0.17909009524408923)              0   \n",
       "4  fbshwixh   (0, 0.509645404055342, 0.18010894678173336)              0   \n",
       "\n",
       "        hit       mrr  \n",
       "0  0.510516  0.180636  \n",
       "1  0.511617  0.179685  \n",
       "2  0.511716  0.179783  \n",
       "3  0.508939  0.179090  \n",
       "4  0.509645  0.180109  "
      ]
     },
     "execution_count": 46,
     "metadata": {},
     "output_type": "execute_result"
    }
   ],
   "source": [
    "res_df=pd.DataFrame(results).T.reset_index()\n",
    "res_df[['DataLoader_id','hit','mrr']]=pd.DataFrame(res_df[0].to_list(), columns=['DataLoader_id','hit','mrr'])\n",
    "res_df"
   ]
  },
  {
   "cell_type": "code",
   "execution_count": 47,
   "metadata": {},
   "outputs": [
    {
     "data": {
      "text/plain": [
       "(hit    0.511067\n",
       " mrr    0.180161\n",
       " dtype: float64,\n",
       " hit    0.510327\n",
       " mrr    0.179436\n",
       " dtype: float64,\n",
       " hit    0.509645\n",
       " mrr    0.180109\n",
       " Name: 4, dtype: float64)"
      ]
     },
     "execution_count": 47,
     "metadata": {},
     "output_type": "execute_result"
    }
   ],
   "source": [
    "res_df[['hit','mrr']].iloc[:2].mean(), res_df[['hit','mrr']].iloc[2:4].mean(), res_df[['hit','mrr']].iloc[4]"
   ]
  },
  {
   "cell_type": "markdown",
   "metadata": {},
   "source": [
    "# Best models - from wandb"
   ]
  },
  {
   "cell_type": "markdown",
   "metadata": {},
   "source": [
    "## yoochoose"
   ]
  },
  {
   "cell_type": "code",
   "execution_count": 9,
   "metadata": {},
   "outputs": [],
   "source": [
    "runs=[\n",
    "    'run-20240523_184137-2hmeyq20',\n",
    "]"
   ]
  },
  {
   "cell_type": "code",
   "execution_count": 10,
   "metadata": {},
   "outputs": [
    {
     "name": "stdout",
     "output_type": "stream",
     "text": [
      "data masking start\n"
     ]
    },
    {
     "name": "stderr",
     "output_type": "stream",
     "text": [
      "100%|██████████| 64/64 [00:00<00:00, 265.47it/s]"
     ]
    },
    {
     "name": "stdout",
     "output_type": "stream",
     "text": [
      "done masking\n"
     ]
    },
    {
     "name": "stderr",
     "output_type": "stream",
     "text": [
      "\n"
     ]
    }
   ],
   "source": [
    "normal_test_dataset=SRGNN_Map_Dataset(test_data, shuffle=False)\n",
    "\n",
    "normal_test_dataloader=DataLoader(normal_test_dataset, \n",
    "                            num_workers=os.cpu_count(),  \n",
    "                            sampler=SRGNN_sampler(normal_test_dataset, opt.batchSize, shuffle=False, drop_last=False)\n",
    "                            )"
   ]
  },
  {
   "cell_type": "code",
   "execution_count": 11,
   "metadata": {},
   "outputs": [
    {
     "name": "stdout",
     "output_type": "stream",
     "text": [
      "data masking start\n"
     ]
    },
    {
     "name": "stderr",
     "output_type": "stream",
     "text": [
      "100%|██████████| 64/64 [00:00<00:00, 182.70it/s]\n",
      "LOCAL_RANK: 0 - CUDA_VISIBLE_DEVICES: [0]\n"
     ]
    },
    {
     "name": "stdout",
     "output_type": "stream",
     "text": [
      "done masking\n",
      "run-20240523_184137-2hmeyq20\n",
      "Clusters: True Normalization: True Distance clip: 0 Raw distance: False GNN steps 3 l2 weight decay 0.0001\n",
      "Testing DataLoader 1: 100%|██████████| 559/559 [00:17<00:00, 31.42it/s]\n",
      "────────────────────────────────────────────────────────────────────────────────────────────────────────────────────────\n",
      "       Test metric             DataLoader 0             DataLoader 1\n",
      "────────────────────────────────────────────────────────────────────────────────────────────────────────────────────────\n",
      "        test_hit             71.0865249633789         71.07400512695312\n",
      "        test_loss            4.242622375488281        4.240519046783447\n",
      "        test_mrr             31.52954864501953       31.517486572265625\n",
      "────────────────────────────────────────────────────────────────────────────────────────────────────────────────────────\n"
     ]
    }
   ],
   "source": [
    "for run_id in runs:\n",
    "    model,opt=load_model(run_id)\n",
    "    dataset=get_dataset(opt)\n",
    "    am_test_dataloader=DataLoader(dataset,    num_workers=os.cpu_count(),  \n",
    "                            sampler=SRGNN_sampler(dataset, opt.batchSize, shuffle=False, drop_last=False)\n",
    "                         )\n",
    "    print(run_id)\n",
    "    print('Clusters:', opt.augment_clusters,\n",
    "        'Normalization:', opt.augment_normalize,\n",
    "          'Distance clip:', opt.augment_clip,\n",
    "          'Raw distance:', opt.augment_raw,\n",
    "          'GNN steps', opt.step,\n",
    "          'l2 weight decay', opt.l2)\n",
    "    trainer.test(model, {'augmented':am_test_dataloader, 'normal':normal_test_dataloader})"
   ]
  },
  {
   "cell_type": "markdown",
   "metadata": {},
   "source": [
    "## digenetica"
   ]
  },
  {
   "cell_type": "code",
   "execution_count": 7,
   "metadata": {},
   "outputs": [],
   "source": [
    "runs=[\n",
    "    'fbshwixh',\n",
    "    'qjryadwd',\n",
    "    'run-20240503_221548-snlgztbm',\n",
    "    'run-20240503_180753-7exj1dpy',\n",
    "]"
   ]
  },
  {
   "cell_type": "code",
   "execution_count": 8,
   "metadata": {},
   "outputs": [
    {
     "name": "stdout",
     "output_type": "stream",
     "text": [
      "data masking start\n"
     ]
    },
    {
     "name": "stderr",
     "output_type": "stream",
     "text": [
      "100%|██████████| 64/64 [00:00<00:00, 424.88it/s]"
     ]
    },
    {
     "name": "stdout",
     "output_type": "stream",
     "text": [
      "done masking\n"
     ]
    },
    {
     "name": "stderr",
     "output_type": "stream",
     "text": [
      "\n"
     ]
    }
   ],
   "source": [
    "normal_test_dataset=SRGNN_Map_Dataset(test_data, shuffle=False)\n",
    "\n",
    "normal_test_dataloader=DataLoader(normal_test_dataset, \n",
    "                            num_workers=os.cpu_count(),  \n",
    "                            sampler=SRGNN_sampler(normal_test_dataset, opt.batchSize, shuffle=False, drop_last=False)\n",
    "                            )"
   ]
  },
  {
   "cell_type": "code",
   "execution_count": 9,
   "metadata": {},
   "outputs": [
    {
     "name": "stdout",
     "output_type": "stream",
     "text": [
      "{'dataset': 'diginetica', 'batchSize': 100, 'hiddenSize': 100, 'epoch': 30, 'lr': 0.001, 'lr_dc': 0.1, 'lr_dc_step': 2, 'l2': 1e-06, 'step': 2, 'patience': 4, 'nonhybrid': False, 'validation': True, 'valid_portion': 0.1, 'pretrained_embedings': False, 'unfreeze_epoch': 0, 'gmm': [], 'augment_matrix': True, 'augment_clusters': True, 'augment_old_run_id': 'run-20240614_112333-4o6dnpcx', 'augment_clip': 0, 'augment_normalize': True, 'augment_raw': False, 'weight_init': 'normal', 'augment_categories': False, 'augment_nogmm': 128, 'augment_p': 0.5, 'augment_mean': 0.01, 'augment_std': 0.01, 'augment_gmm_init': 'k-means++', 'augment_prenormalize_distances': False, 'augment_noise_p': 0.5, 'augment_alg': 'gmm'}\n",
      "data masking start\n"
     ]
    },
    {
     "name": "stderr",
     "output_type": "stream",
     "text": [
      "100%|██████████| 64/64 [00:00<00:00, 412.54it/s]\n",
      "/home/kacper/GNN_Master/srgnn/srgnn_datasets.py:453: RuntimeWarning: divide by zero encountered in divide\n",
      "  self.cluster_distances = 1 / self.cluster_distances\n"
     ]
    },
    {
     "name": "stdout",
     "output_type": "stream",
     "text": [
      "done masking\n",
      "fbshwixh\n",
      "Clusters: True Normalization: True Distance clip: 0 Raw distance: False GNN steps 2 l2 weight decay 1e-06\n"
     ]
    },
    {
     "name": "stderr",
     "output_type": "stream",
     "text": [
      "LOCAL_RANK: 0 - CUDA_VISIBLE_DEVICES: [0]\n"
     ]
    },
    {
     "name": "stdout",
     "output_type": "stream",
     "text": [
      "Testing DataLoader 1: 100%|██████████| 609/609 [00:17<00:00, 35.26it/s]\n",
      "────────────────────────────────────────────────────────────────────────────────────────────────────────────────────────\n",
      "       Test metric             DataLoader 0             DataLoader 1\n",
      "────────────────────────────────────────────────────────────────────────────────────────────────────────────────────────\n",
      "        test_hit             50.95430374145508        50.96744155883789\n",
      "        test_loss            5.495250225067139        5.498101234436035\n",
      "        test_mrr            18.029483795166016       18.015676498413086\n",
      "────────────────────────────────────────────────────────────────────────────────────────────────────────────────────────\n",
      "{'dataset': 'diginetica', 'batchSize': 100, 'hiddenSize': 100, 'epoch': 30, 'lr': 0.001, 'lr_dc': 0.1, 'lr_dc_step': 2, 'l2': 1e-06, 'step': 2, 'patience': 4, 'nonhybrid': False, 'validation': True, 'valid_portion': 0.1, 'pretrained_embedings': False, 'unfreeze_epoch': 0, 'gmm': [], 'augment_matrix': True, 'augment_clusters': True, 'augment_old_run_id': 'run-20240614_112333-4o6dnpcx', 'augment_clip': 0, 'augment_normalize': True, 'augment_raw': False, 'weight_init': 'normal', 'augment_categories': False, 'augment_nogmm': 128, 'augment_p': 0.5, 'augment_mean': 0.01, 'augment_std': 0.01, 'augment_gmm_init': 'k-means++', 'augment_prenormalize_distances': False, 'augment_noise_p': 1.0, 'augment_alg': 'gmm'}\n",
      "data masking start\n"
     ]
    },
    {
     "name": "stderr",
     "output_type": "stream",
     "text": [
      "100%|██████████| 64/64 [00:00<00:00, 214.51it/s]\n",
      "/home/kacper/GNN_Master/srgnn/srgnn_datasets.py:453: RuntimeWarning: divide by zero encountered in divide\n",
      "  self.cluster_distances = 1 / self.cluster_distances\n",
      "LOCAL_RANK: 0 - CUDA_VISIBLE_DEVICES: [0]\n"
     ]
    },
    {
     "name": "stdout",
     "output_type": "stream",
     "text": [
      "done masking\n",
      "qjryadwd\n",
      "Clusters: True Normalization: True Distance clip: 0 Raw distance: False GNN steps 2 l2 weight decay 1e-06\n",
      "Testing DataLoader 1: 100%|██████████| 609/609 [00:17<00:00, 35.44it/s]\n",
      "────────────────────────────────────────────────────────────────────────────────────────────────────────────────────────\n",
      "       Test metric             DataLoader 0             DataLoader 1\n",
      "────────────────────────────────────────────────────────────────────────────────────────────────────────────────────────\n",
      "        test_hit             51.0664176940918        51.112396240234375\n",
      "        test_loss            5.477573394775391        5.486842155456543\n",
      "        test_mrr             18.06410789489746        18.04543113708496\n",
      "────────────────────────────────────────────────────────────────────────────────────────────────────────────────────────\n",
      "{'dataset': 'diginetica', 'batchSize': 100, 'hiddenSize': 100, 'epoch': 60, 'lr': 0.001, 'lr_dc': 0.1, 'lr_dc_step': 2, 'l2': 0.0001, 'step': 3, 'patience': 5, 'nonhybrid': False, 'validation': True, 'valid_portion': 0.1, 'pretrained_embedings': False, 'unfreeze_epoch': 1, 'gmm': False, 'augment_matrix': True, 'augment_clusters': True, 'augment_old_run_id': 'run-20240404_162708-ekuo66ei', 'augment_clip': 0, 'augment_normalize': True, 'augment_raw': False, 'weight_init': 'xavier_normal', 'augment_categories': False, 'augment_nogmm': 16, 'augment_p': 0.25, 'augment_mean': 0.01, 'augment_std': 0.01, 'augment_gmm_init': 'k-means++', 'augment_prenormalize_distances': False, 'augment_noise_p': 1, 'augment_alg': 'gmm'}\n"
     ]
    },
    {
     "ename": "FileNotFoundError",
     "evalue": "[Errno 2] No such file or directory: '../datasets/diginetica/item_labels_16_k-means++_100_ekuo66ei.txt'",
     "output_type": "error",
     "traceback": [
      "\u001b[0;31m---------------------------------------------------------------------------\u001b[0m",
      "\u001b[0;31mFileNotFoundError\u001b[0m                         Traceback (most recent call last)",
      "Cell \u001b[0;32mIn[9], line 3\u001b[0m\n\u001b[1;32m      1\u001b[0m \u001b[38;5;28;01mfor\u001b[39;00m run_id \u001b[38;5;129;01min\u001b[39;00m runs:\n\u001b[1;32m      2\u001b[0m     model,opt\u001b[38;5;241m=\u001b[39mload_model(run_id)\n\u001b[0;32m----> 3\u001b[0m     dataset\u001b[38;5;241m=\u001b[39m\u001b[43mget_dataset\u001b[49m\u001b[43m(\u001b[49m\u001b[43mopt\u001b[49m\u001b[43m)\u001b[49m\n\u001b[1;32m      4\u001b[0m     am_test_dataloader\u001b[38;5;241m=\u001b[39mDataLoader(dataset,    num_workers\u001b[38;5;241m=\u001b[39mos\u001b[38;5;241m.\u001b[39mcpu_count(),  \n\u001b[1;32m      5\u001b[0m                             sampler\u001b[38;5;241m=\u001b[39mSRGNN_sampler(dataset, opt\u001b[38;5;241m.\u001b[39mbatchSize, shuffle\u001b[38;5;241m=\u001b[39m\u001b[38;5;28;01mFalse\u001b[39;00m, drop_last\u001b[38;5;241m=\u001b[39m\u001b[38;5;28;01mFalse\u001b[39;00m)\n\u001b[1;32m      6\u001b[0m                          )\n\u001b[1;32m      7\u001b[0m     \u001b[38;5;28mprint\u001b[39m(run_id)\n",
      "File \u001b[0;32m~/GNN_Master/srgnn/utils.py:217\u001b[0m, in \u001b[0;36mget_dataset\u001b[0;34m(opt)\u001b[0m\n\u001b[1;32m    215\u001b[0m \u001b[38;5;28;01mif\u001b[39;00m opt\u001b[38;5;241m.\u001b[39maugment_matrix:\n\u001b[1;32m    216\u001b[0m     \u001b[38;5;28;01mif\u001b[39;00m opt\u001b[38;5;241m.\u001b[39maugment_clusters:\n\u001b[0;32m--> 217\u001b[0m         \u001b[38;5;28;01mwith\u001b[39;00m \u001b[38;5;28;43mopen\u001b[39;49m\u001b[43m(\u001b[49m\n\u001b[1;32m    218\u001b[0m \u001b[43m            \u001b[49m\u001b[38;5;124;43mf\u001b[39;49m\u001b[38;5;124;43m\"\u001b[39;49m\u001b[38;5;124;43m../datasets/\u001b[39;49m\u001b[38;5;132;43;01m{\u001b[39;49;00m\u001b[43mopt\u001b[49m\u001b[38;5;241;43m.\u001b[39;49m\u001b[43mdataset\u001b[49m\u001b[38;5;132;43;01m}\u001b[39;49;00m\u001b[38;5;124;43m/item_labels_\u001b[39;49m\u001b[38;5;132;43;01m{\u001b[39;49;00m\u001b[43mopt\u001b[49m\u001b[38;5;241;43m.\u001b[39;49m\u001b[43maugment_nogmm\u001b[49m\u001b[38;5;132;43;01m}\u001b[39;49;00m\u001b[38;5;124;43m_\u001b[39;49m\u001b[38;5;132;43;01m{\u001b[39;49;00m\u001b[43mopt\u001b[49m\u001b[38;5;241;43m.\u001b[39;49m\u001b[43maugment_gmm_init\u001b[49m\u001b[38;5;132;43;01m}\u001b[39;49;00m\u001b[38;5;124;43m_\u001b[39;49m\u001b[38;5;132;43;01m{\u001b[39;49;00m\u001b[43mopt\u001b[49m\u001b[38;5;241;43m.\u001b[39;49m\u001b[43mhiddenSize\u001b[49m\u001b[38;5;132;43;01m}\u001b[39;49;00m\u001b[38;5;124;43m_\u001b[39;49m\u001b[38;5;132;43;01m{\u001b[39;49;00m\u001b[43mopt\u001b[49m\u001b[38;5;241;43m.\u001b[39;49m\u001b[43maugment_old_run_id\u001b[49m\u001b[38;5;241;43m.\u001b[39;49m\u001b[43msplit\u001b[49m\u001b[43m(\u001b[49m\u001b[38;5;124;43m'\u001b[39;49m\u001b[38;5;124;43m-\u001b[39;49m\u001b[38;5;124;43m'\u001b[39;49m\u001b[43m)\u001b[49m\u001b[43m[\u001b[49m\u001b[38;5;241;43m-\u001b[39;49m\u001b[38;5;241;43m1\u001b[39;49m\u001b[43m]\u001b[49m\u001b[38;5;132;43;01m}\u001b[39;49;00m\u001b[38;5;124;43m.txt\u001b[39;49m\u001b[38;5;124;43m\"\u001b[39;49m\u001b[43m,\u001b[49m\n\u001b[1;32m    219\u001b[0m \u001b[43m            \u001b[49m\u001b[38;5;124;43m\"\u001b[39;49m\u001b[38;5;124;43mrb\u001b[39;49m\u001b[38;5;124;43m\"\u001b[39;49m\u001b[43m,\u001b[49m\n\u001b[1;32m    220\u001b[0m \u001b[43m        \u001b[49m\u001b[43m)\u001b[49m \u001b[38;5;28;01mas\u001b[39;00m f:\n\u001b[1;32m    221\u001b[0m             item_labels \u001b[38;5;241m=\u001b[39m pickle\u001b[38;5;241m.\u001b[39mload(f)\n\u001b[1;32m    222\u001b[0m         \u001b[38;5;28;01mwith\u001b[39;00m \u001b[38;5;28mopen\u001b[39m(\n\u001b[1;32m    223\u001b[0m             \u001b[38;5;124mf\u001b[39m\u001b[38;5;124m\"\u001b[39m\u001b[38;5;124m../datasets/\u001b[39m\u001b[38;5;132;01m{\u001b[39;00mopt\u001b[38;5;241m.\u001b[39mdataset\u001b[38;5;132;01m}\u001b[39;00m\u001b[38;5;124m/cluster_centers_\u001b[39m\u001b[38;5;132;01m{\u001b[39;00mopt\u001b[38;5;241m.\u001b[39maugment_nogmm\u001b[38;5;132;01m}\u001b[39;00m\u001b[38;5;124m_\u001b[39m\u001b[38;5;132;01m{\u001b[39;00mopt\u001b[38;5;241m.\u001b[39maugment_gmm_init\u001b[38;5;132;01m}\u001b[39;00m\u001b[38;5;124m_\u001b[39m\u001b[38;5;132;01m{\u001b[39;00mopt\u001b[38;5;241m.\u001b[39mhiddenSize\u001b[38;5;132;01m}\u001b[39;00m\u001b[38;5;124m_\u001b[39m\u001b[38;5;132;01m{\u001b[39;00mopt\u001b[38;5;241m.\u001b[39maugment_old_run_id\u001b[38;5;241m.\u001b[39msplit(\u001b[38;5;124m'\u001b[39m\u001b[38;5;124m-\u001b[39m\u001b[38;5;124m'\u001b[39m)[\u001b[38;5;241m-\u001b[39m\u001b[38;5;241m1\u001b[39m]\u001b[38;5;132;01m}\u001b[39;00m\u001b[38;5;124m.txt\u001b[39m\u001b[38;5;124m\"\u001b[39m,\n\u001b[1;32m    224\u001b[0m             \u001b[38;5;124m\"\u001b[39m\u001b[38;5;124mrb\u001b[39m\u001b[38;5;124m\"\u001b[39m,\n\u001b[1;32m    225\u001b[0m         ) \u001b[38;5;28;01mas\u001b[39;00m f:\n",
      "\u001b[0;31mFileNotFoundError\u001b[0m: [Errno 2] No such file or directory: '../datasets/diginetica/item_labels_16_k-means++_100_ekuo66ei.txt'"
     ]
    }
   ],
   "source": [
    "for run_id in runs:\n",
    "    model,opt=load_model(run_id)\n",
    "    dataset=get_dataset(opt)\n",
    "    am_test_dataloader=DataLoader(dataset,    num_workers=os.cpu_count(),  \n",
    "                            sampler=SRGNN_sampler(dataset, opt.batchSize, shuffle=False, drop_last=False)\n",
    "                         )\n",
    "    print(run_id)\n",
    "    print('Clusters:', opt.augment_clusters,\n",
    "        'Normalization:', opt.augment_normalize,\n",
    "          'Distance clip:', opt.augment_clip,\n",
    "          'Raw distance:', opt.augment_raw,\n",
    "          'GNN steps', opt.step,\n",
    "          'l2 weight decay', opt.l2)\n",
    "    trainer.test(model, {'augmented':am_test_dataloader, 'normal':normal_test_dataloader})"
   ]
  },
  {
   "cell_type": "markdown",
   "metadata": {},
   "source": [
    "# Compare best augmented and normal"
   ]
  },
  {
   "cell_type": "markdown",
   "metadata": {},
   "source": [
    "## load data"
   ]
  },
  {
   "cell_type": "code",
   "execution_count": 7,
   "metadata": {},
   "outputs": [],
   "source": [
    "import pandas as pd"
   ]
  },
  {
   "cell_type": "code",
   "execution_count": 8,
   "metadata": {},
   "outputs": [
    {
     "name": "stdout",
     "output_type": "stream",
     "text": [
      "{'dataset': 'diginetica', 'batchSize': 100, 'hiddenSize': 100, 'epoch': 30, 'lr': 0.001, 'lr_dc': 0.1, 'lr_dc_step': 2, 'lr_scheduler': 'step', 'lr_milestones': ([2, 5, 8],), 'l2': 1e-05, 'step': 2, 'patience': 5, 'nonhybrid': False, 'validation': True, 'valid_portion': 0.1, 'pretrained_embedings': False, 'unfreeze_epoch': 0, 'gmm': True, 'augment_matrix': False, 'augment_clusters': False, 'augment_old_run_id': None, 'augment_clip': 0, 'augment_normalize': False, 'augment_raw': False, 'weight_init': 'normal', 'augment_categories': False, 'augment_nogmm': 16, 'augment_p': 1.0, 'augment_mean': 0.01, 'augment_std': 0.0, 'augment_gmm_init': 'k-means++', 'augment_prenormalize_distances': False, 'augment_noise_p': 1, 'augment_alg': 'gmm', 'gmm_covariance_type': 'full', 'gmm_tol': 0.001}\n",
      "{'dataset': 'diginetica', 'batchSize': 100, 'hiddenSize': 100, 'epoch': 30, 'lr': 0.001, 'lr_dc': 0.1, 'lr_dc_step': 2, 'lr_scheduler': 'step', 'lr_milestones': ([2, 5, 8],), 'l2': 1e-06, 'step': 2, 'patience': 4, 'nonhybrid': False, 'validation': True, 'valid_portion': 0.1, 'pretrained_embedings': False, 'unfreeze_epoch': 0, 'gmm': [], 'augment_matrix': True, 'augment_clusters': False, 'augment_old_run_id': 'jxgwsuta', 'augment_clip': 0, 'augment_normalize': True, 'augment_raw': False, 'weight_init': 'normal', 'augment_categories': False, 'augment_nogmm': 16, 'augment_p': 0.5, 'augment_mean': 0.01, 'augment_std': 0.01, 'augment_gmm_init': 'k-means++', 'augment_prenormalize_distances': False, 'augment_noise_p': 0.5, 'augment_alg': 'raw', 'gmm_covariance_type': 'full', 'gmm_tol': 0.001}\n"
     ]
    }
   ],
   "source": [
    "base_run_id='jxgwsuta' # diginetica\n",
    "#base_run_id='run-20240422_103727-ex2zwqx6' # yoochoose1/4\n",
    "base_model,opt=load_model(base_run_id)\n",
    "\n",
    "aug_run_id='8llxhkxm'\n",
    "aug_model,aug_opt=load_model(aug_run_id) # diginetica\n",
    "#aug_model,aug_opt=load_model('run-20240523_184137-2hmeyq20') # yoochoose1/4\n",
    "\n",
    "test_data = pickle.load(open('../datasets/' + opt.dataset + '/test.txt', 'rb'))"
   ]
  },
  {
   "cell_type": "code",
   "execution_count": 9,
   "metadata": {},
   "outputs": [],
   "source": [
    "test_sessions, test_targets, test_sids=test_data[:3]\n",
    "test_session_ids=set(map(int, test_sids))"
   ]
  },
  {
   "cell_type": "code",
   "execution_count": 10,
   "metadata": {},
   "outputs": [
    {
     "name": "stdout",
     "output_type": "stream",
     "text": [
      "{'dataset': 'diginetica', 'batchSize': 100, 'hiddenSize': 100, 'epoch': 30, 'lr': 0.001, 'lr_dc': 0.1, 'lr_dc_step': 2, 'lr_scheduler': 'step', 'lr_milestones': ([2, 5, 8],), 'l2': 1e-05, 'step': 2, 'patience': 5, 'nonhybrid': False, 'validation': True, 'valid_portion': 0.1, 'pretrained_embedings': False, 'unfreeze_epoch': 0, 'gmm': True, 'augment_matrix': False, 'augment_clusters': False, 'augment_old_run_id': None, 'augment_clip': 0, 'augment_normalize': False, 'augment_raw': False, 'weight_init': 'normal', 'augment_categories': False, 'augment_nogmm': 16, 'augment_p': 1.0, 'augment_mean': 0.01, 'augment_std': 0.0, 'augment_gmm_init': 'k-means++', 'augment_prenormalize_distances': False, 'augment_noise_p': 1, 'augment_alg': 'gmm', 'gmm_covariance_type': 'full', 'gmm_tol': 0.001}\n",
      "data masking start\n"
     ]
    },
    {
     "name": "stderr",
     "output_type": "stream",
     "text": [
      "100%|██████████| 64/64 [00:00<00:00, 412.84it/s]"
     ]
    },
    {
     "name": "stdout",
     "output_type": "stream",
     "text": [
      "done masking\n"
     ]
    },
    {
     "name": "stderr",
     "output_type": "stream",
     "text": [
      "\n"
     ]
    }
   ],
   "source": [
    "aug_opt.augment_noise_p=0\n",
    "aug_opt.augment_p=1\n",
    "aug_dataset=get_dataset(aug_opt, test_data, shuffle=False)"
   ]
  },
  {
   "cell_type": "code",
   "execution_count": 11,
   "metadata": {},
   "outputs": [
    {
     "name": "stdout",
     "output_type": "stream",
     "text": [
      "data masking start\n"
     ]
    },
    {
     "name": "stderr",
     "output_type": "stream",
     "text": [
      "100%|██████████| 64/64 [00:00<00:00, 349.87it/s]"
     ]
    },
    {
     "name": "stdout",
     "output_type": "stream",
     "text": [
      "done masking\n"
     ]
    },
    {
     "name": "stderr",
     "output_type": "stream",
     "text": [
      "\n"
     ]
    }
   ],
   "source": [
    "test_dataset=SRGNN_Map_Dataset(test_data, shuffle=False)\n",
    "\n",
    "test_dataloader=DataLoader(test_dataset, \n",
    "                            num_workers=os.cpu_count(),  \n",
    "                            sampler=SRGNN_sampler(test_dataset, opt.batchSize, shuffle=False, drop_last=False)\n",
    "                            )"
   ]
  },
  {
   "cell_type": "code",
   "execution_count": 12,
   "metadata": {},
   "outputs": [
    {
     "name": "stderr",
     "output_type": "stream",
     "text": [
      "609it [00:38, 16.01it/s]                         \n"
     ]
    },
    {
     "name": "stdout",
     "output_type": "stream",
     "text": [
      "Base mrr: 17.738202593148433 Augmented mrr: 18.086323706183 \n",
      "Base hit: 50.91853166387328 Augmented hit: 51.247165532879826\n"
     ]
    }
   ],
   "source": [
    "stats=[]\n",
    "\n",
    "base_model.to('cuda')\n",
    "aug_model.to('cuda')\n",
    "for batch in tqdm(test_dataloader, total=test_dataset.length//opt.batchSize):\n",
    "    batch=[b.to('cuda') for b in batch]\n",
    "\n",
    "    base_sub_scores, targets=base_model.predict_step(batch)\n",
    "    aug_sub_scores, _=aug_model.predict_step(batch)\n",
    "    targets=targets.flatten()\n",
    "    for bscore, augscore, target in zip(base_sub_scores, aug_sub_scores, targets):\n",
    "        base_correct_pred=torch.isin(target - 1, bscore).cpu()\n",
    "        base_hit=(base_correct_pred)\n",
    "        if not base_correct_pred:\n",
    "            base_mrr=0\n",
    "        else:\n",
    "            base_mrr=(1 / (torch.where(bscore == target - 1)[0][0] + 1).cpu())\n",
    "\n",
    "        aug_correct_pred=torch.isin(target - 1, augscore).cpu()\n",
    "        aug_hit=(aug_correct_pred)\n",
    "        if not aug_correct_pred:\n",
    "            aug_mrr=0\n",
    "        else:\n",
    "            aug_mrr=(1 / (torch.where(augscore == target - 1)[0][0] + 1).cpu())\n",
    "        stats.append((base_mrr, base_hit, aug_mrr, aug_hit))\n",
    "\n",
    "base_model.to('cpu')\n",
    "aug_model.to('cpu')\n",
    "stats=np.array(stats)\n",
    "print('Base mrr:', 100*np.average(stats[:,0]),'Augmented mrr:', 100*np.average(stats[:,2]),\n",
    "      '\\nBase hit:', 100*np.average(stats[:,1]),'Augmented hit:', 100*np.average(stats[:,3]),)"
   ]
  },
  {
   "cell_type": "code",
   "execution_count": 13,
   "metadata": {},
   "outputs": [],
   "source": [
    "stats_df=pd.DataFrame(stats, columns=['base_mrr', 'base_hit', 'aug_mrr','aug_hit'])\n",
    "stats_df['session_id']=test_sids\n",
    "stats_df['target_number']=test_targets\n",
    "stats_df['session_len']=list(map(lambda x: len(x), test_sessions))"
   ]
  },
  {
   "cell_type": "code",
   "execution_count": 14,
   "metadata": {},
   "outputs": [],
   "source": [
    "items_df=pd.read_csv(f'../datasets/{opt.dataset}/items.csv').drop(columns=[ 'Unnamed: 0'])\n",
    "if aug_opt.augment_alg!='raw':\n",
    "    with open(f\"../datasets/diginetica/item_labels_{aug_opt.augment_alg}_{aug_opt.augment_nogmm}_{aug_opt.augment_gmm_init}_{aug_opt.gmm_covariance_type}_{aug_opt.gmm_tol}_{aug_opt.hiddenSize}_{base_run_id.split('-')[-1]}.txt\", 'rb') as file:\n",
    "        item_labels=pickle.load(file)\n",
    "    items_df['item_cluster']=items_df.item_number.map(lambda x: item_labels[x])\n",
    "else:\n",
    "    items_df['item_cluster']=0\n"
   ]
  },
  {
   "cell_type": "code",
   "execution_count": 15,
   "metadata": {},
   "outputs": [],
   "source": [
    "if aug_opt.augment_alg!='raw':\n",
    "    stats_df['clusters']=[ (set(items_df.loc[items_df.item_number.isin(ses)].item_cluster )) for ses in test_sessions]\n",
    "    stats_df['target_cluster']=stats_df.target_number.map(lambda x: item_labels[x])\n",
    "    stats_df['target_cluster_in_ses']=stats_df.apply(lambda r: r.target_cluster in r.clusters, axis=1)\n",
    "    stats_df['no_clusters']=stats_df.clusters.map(lambda x: len(x))\n",
    "stats_df['repetitions_in_session']=[len(ses)!=len(set(ses)) for ses in test_sessions]"
   ]
  },
  {
   "cell_type": "code",
   "execution_count": 16,
   "metadata": {},
   "outputs": [],
   "source": [
    "stats_df['target_category']=stats_df.target_number.map(lambda x: items_df.loc[items_df.item_number==x].category.item())\n",
    "stats_df['categories']=[ (set(items_df.loc[items_df.item_number.isin(ses)].category )) for ses in test_sessions]\n",
    "\n",
    "stats_df['target_category_in_ses']=stats_df.apply(lambda r: r.target_category in r.categories, axis=1)\n",
    "stats_df['no_categories']=stats_df.categories.map(lambda x: len(x))"
   ]
  },
  {
   "cell_type": "code",
   "execution_count": 17,
   "metadata": {},
   "outputs": [],
   "source": [
    "sess_df=pd.read_csv(f'../datasets/{opt.dataset}/test_sessions.csv').drop(columns=[ 'Unnamed: 0'])\n",
    "sess_df=sess_df.loc[sess_df.session_id.isin(test_session_ids)].reset_index(drop=True)"
   ]
  },
  {
   "cell_type": "code",
   "execution_count": 18,
   "metadata": {},
   "outputs": [],
   "source": [
    "clicks_df=pd.read_csv(f'../datasets/{opt.dataset}/clicks_df.csv').drop(columns='Unnamed: 0')\n",
    "clicks_df=clicks_df.loc[clicks_df.session_id.isin(test_session_ids)].reset_index(drop=True)"
   ]
  },
  {
   "cell_type": "code",
   "execution_count": 21,
   "metadata": {},
   "outputs": [],
   "source": [
    "aug_df=stats_df.loc[\n",
    "    (stats_df.base_mrr<stats_df.aug_mrr)\n",
    "]\n",
    "base_df=stats_df.loc[\n",
    "    (stats_df.base_mrr>stats_df.aug_mrr)\n",
    "]\n",
    "equal_df=stats_df.loc[\n",
    "    (stats_df.base_mrr==stats_df.aug_mrr)\n",
    "]"
   ]
  },
  {
   "cell_type": "code",
   "execution_count": 20,
   "metadata": {},
   "outputs": [],
   "source": [
    "\n",
    "def get_items_embedding(model, item_ids: torch.tensor):\n",
    "    return model.model.embedding(item_ids)\n",
    "base_items_embeddings=get_items_embedding(base_model, torch.arange(items_df.item_number.nunique()+1, device=base_model.device)).cpu().detach().numpy()\n",
    "aug_items_embeddings=get_items_embedding(aug_model, torch.arange(items_df.item_number.nunique()+1, device=aug_model.device)).cpu().detach().numpy()"
   ]
  },
  {
   "cell_type": "markdown",
   "metadata": {},
   "source": [
    "## analyze"
   ]
  },
  {
   "cell_type": "code",
   "execution_count": 26,
   "metadata": {},
   "outputs": [
    {
     "data": {
      "text/plain": [
       "(14350, 13589, 32919)"
      ]
     },
     "execution_count": 26,
     "metadata": {},
     "output_type": "execute_result"
    }
   ],
   "source": [
    "len(aug_df),len(base_df),len(equal_df),"
   ]
  },
  {
   "cell_type": "code",
   "execution_count": 24,
   "metadata": {},
   "outputs": [
    {
     "data": {
      "text/plain": [
       "(60858, 13)"
      ]
     },
     "execution_count": 24,
     "metadata": {},
     "output_type": "execute_result"
    }
   ],
   "source": [
    "stats_df.shape"
   ]
  },
  {
   "cell_type": "code",
   "execution_count": 25,
   "metadata": {},
   "outputs": [
    {
     "data": {
      "text/html": [
       "<div>\n",
       "<style scoped>\n",
       "    .dataframe tbody tr th:only-of-type {\n",
       "        vertical-align: middle;\n",
       "    }\n",
       "\n",
       "    .dataframe tbody tr th {\n",
       "        vertical-align: top;\n",
       "    }\n",
       "\n",
       "    .dataframe thead th {\n",
       "        text-align: right;\n",
       "    }\n",
       "</style>\n",
       "<table border=\"1\" class=\"dataframe\">\n",
       "  <thead>\n",
       "    <tr style=\"text-align: right;\">\n",
       "      <th></th>\n",
       "      <th>base_mrr</th>\n",
       "      <th>base_hit</th>\n",
       "      <th>aug_mrr</th>\n",
       "      <th>aug_hit</th>\n",
       "      <th>session_id</th>\n",
       "      <th>target_number</th>\n",
       "      <th>session_len</th>\n",
       "      <th>clusters</th>\n",
       "      <th>repetitions_in_session</th>\n",
       "      <th>target_category</th>\n",
       "      <th>categories</th>\n",
       "      <th>target_category_in_ses</th>\n",
       "      <th>no_categories</th>\n",
       "    </tr>\n",
       "  </thead>\n",
       "  <tbody>\n",
       "    <tr>\n",
       "      <th>0</th>\n",
       "      <td>0.055556</td>\n",
       "      <td>1.0</td>\n",
       "      <td>0.333333</td>\n",
       "      <td>1.0</td>\n",
       "      <td>289</td>\n",
       "      <td>21566</td>\n",
       "      <td>5</td>\n",
       "      <td>{0}</td>\n",
       "      <td>False</td>\n",
       "      <td>1167</td>\n",
       "      <td>{1035, 860, 853, 1167}</td>\n",
       "      <td>True</td>\n",
       "      <td>4</td>\n",
       "    </tr>\n",
       "    <tr>\n",
       "      <th>1</th>\n",
       "      <td>0.000000</td>\n",
       "      <td>0.0</td>\n",
       "      <td>0.100000</td>\n",
       "      <td>1.0</td>\n",
       "      <td>289</td>\n",
       "      <td>6381</td>\n",
       "      <td>4</td>\n",
       "      <td>{0}</td>\n",
       "      <td>False</td>\n",
       "      <td>1167</td>\n",
       "      <td>{1035, 860, 853, 1167}</td>\n",
       "      <td>True</td>\n",
       "      <td>4</td>\n",
       "    </tr>\n",
       "    <tr>\n",
       "      <th>3</th>\n",
       "      <td>0.000000</td>\n",
       "      <td>0.0</td>\n",
       "      <td>0.500000</td>\n",
       "      <td>1.0</td>\n",
       "      <td>289</td>\n",
       "      <td>8762</td>\n",
       "      <td>2</td>\n",
       "      <td>{0}</td>\n",
       "      <td>False</td>\n",
       "      <td>860</td>\n",
       "      <td>{1035, 853}</td>\n",
       "      <td>False</td>\n",
       "      <td>2</td>\n",
       "    </tr>\n",
       "    <tr>\n",
       "      <th>11</th>\n",
       "      <td>0.076923</td>\n",
       "      <td>1.0</td>\n",
       "      <td>0.090909</td>\n",
       "      <td>1.0</td>\n",
       "      <td>1862</td>\n",
       "      <td>25212</td>\n",
       "      <td>1</td>\n",
       "      <td>{0}</td>\n",
       "      <td>False</td>\n",
       "      <td>547</td>\n",
       "      <td>{547}</td>\n",
       "      <td>True</td>\n",
       "      <td>1</td>\n",
       "    </tr>\n",
       "    <tr>\n",
       "      <th>13</th>\n",
       "      <td>0.166667</td>\n",
       "      <td>1.0</td>\n",
       "      <td>0.500000</td>\n",
       "      <td>1.0</td>\n",
       "      <td>1864</td>\n",
       "      <td>20962</td>\n",
       "      <td>4</td>\n",
       "      <td>{0}</td>\n",
       "      <td>False</td>\n",
       "      <td>227</td>\n",
       "      <td>{227}</td>\n",
       "      <td>True</td>\n",
       "      <td>1</td>\n",
       "    </tr>\n",
       "    <tr>\n",
       "      <th>...</th>\n",
       "      <td>...</td>\n",
       "      <td>...</td>\n",
       "      <td>...</td>\n",
       "      <td>...</td>\n",
       "      <td>...</td>\n",
       "      <td>...</td>\n",
       "      <td>...</td>\n",
       "      <td>...</td>\n",
       "      <td>...</td>\n",
       "      <td>...</td>\n",
       "      <td>...</td>\n",
       "      <td>...</td>\n",
       "      <td>...</td>\n",
       "    </tr>\n",
       "    <tr>\n",
       "      <th>60846</th>\n",
       "      <td>0.200000</td>\n",
       "      <td>1.0</td>\n",
       "      <td>0.333333</td>\n",
       "      <td>1.0</td>\n",
       "      <td>598272</td>\n",
       "      <td>9356</td>\n",
       "      <td>2</td>\n",
       "      <td>{0}</td>\n",
       "      <td>False</td>\n",
       "      <td>23</td>\n",
       "      <td>{23}</td>\n",
       "      <td>True</td>\n",
       "      <td>1</td>\n",
       "    </tr>\n",
       "    <tr>\n",
       "      <th>60849</th>\n",
       "      <td>0.166667</td>\n",
       "      <td>1.0</td>\n",
       "      <td>0.250000</td>\n",
       "      <td>1.0</td>\n",
       "      <td>598643</td>\n",
       "      <td>1777</td>\n",
       "      <td>3</td>\n",
       "      <td>{0}</td>\n",
       "      <td>False</td>\n",
       "      <td>88</td>\n",
       "      <td>{88}</td>\n",
       "      <td>True</td>\n",
       "      <td>1</td>\n",
       "    </tr>\n",
       "    <tr>\n",
       "      <th>60850</th>\n",
       "      <td>0.200000</td>\n",
       "      <td>1.0</td>\n",
       "      <td>0.250000</td>\n",
       "      <td>1.0</td>\n",
       "      <td>598643</td>\n",
       "      <td>15250</td>\n",
       "      <td>2</td>\n",
       "      <td>{0}</td>\n",
       "      <td>False</td>\n",
       "      <td>88</td>\n",
       "      <td>{88}</td>\n",
       "      <td>True</td>\n",
       "      <td>1</td>\n",
       "    </tr>\n",
       "    <tr>\n",
       "      <th>60852</th>\n",
       "      <td>0.166667</td>\n",
       "      <td>1.0</td>\n",
       "      <td>0.250000</td>\n",
       "      <td>1.0</td>\n",
       "      <td>598979</td>\n",
       "      <td>34722</td>\n",
       "      <td>1</td>\n",
       "      <td>{0}</td>\n",
       "      <td>False</td>\n",
       "      <td>1251</td>\n",
       "      <td>{1251}</td>\n",
       "      <td>True</td>\n",
       "      <td>1</td>\n",
       "    </tr>\n",
       "    <tr>\n",
       "      <th>60857</th>\n",
       "      <td>0.500000</td>\n",
       "      <td>1.0</td>\n",
       "      <td>1.000000</td>\n",
       "      <td>1.0</td>\n",
       "      <td>600404</td>\n",
       "      <td>19589</td>\n",
       "      <td>1</td>\n",
       "      <td>{0}</td>\n",
       "      <td>False</td>\n",
       "      <td>974</td>\n",
       "      <td>{974}</td>\n",
       "      <td>True</td>\n",
       "      <td>1</td>\n",
       "    </tr>\n",
       "  </tbody>\n",
       "</table>\n",
       "<p>14350 rows × 13 columns</p>\n",
       "</div>"
      ],
      "text/plain": [
       "       base_mrr  base_hit   aug_mrr  aug_hit session_id  target_number  \\\n",
       "0      0.055556       1.0  0.333333      1.0        289          21566   \n",
       "1      0.000000       0.0  0.100000      1.0        289           6381   \n",
       "3      0.000000       0.0  0.500000      1.0        289           8762   \n",
       "11     0.076923       1.0  0.090909      1.0       1862          25212   \n",
       "13     0.166667       1.0  0.500000      1.0       1864          20962   \n",
       "...         ...       ...       ...      ...        ...            ...   \n",
       "60846  0.200000       1.0  0.333333      1.0     598272           9356   \n",
       "60849  0.166667       1.0  0.250000      1.0     598643           1777   \n",
       "60850  0.200000       1.0  0.250000      1.0     598643          15250   \n",
       "60852  0.166667       1.0  0.250000      1.0     598979          34722   \n",
       "60857  0.500000       1.0  1.000000      1.0     600404          19589   \n",
       "\n",
       "       session_len clusters  repetitions_in_session  target_category  \\\n",
       "0                5      {0}                   False             1167   \n",
       "1                4      {0}                   False             1167   \n",
       "3                2      {0}                   False              860   \n",
       "11               1      {0}                   False              547   \n",
       "13               4      {0}                   False              227   \n",
       "...            ...      ...                     ...              ...   \n",
       "60846            2      {0}                   False               23   \n",
       "60849            3      {0}                   False               88   \n",
       "60850            2      {0}                   False               88   \n",
       "60852            1      {0}                   False             1251   \n",
       "60857            1      {0}                   False              974   \n",
       "\n",
       "                   categories  target_category_in_ses  no_categories  \n",
       "0      {1035, 860, 853, 1167}                    True              4  \n",
       "1      {1035, 860, 853, 1167}                    True              4  \n",
       "3                 {1035, 853}                   False              2  \n",
       "11                      {547}                    True              1  \n",
       "13                      {227}                    True              1  \n",
       "...                       ...                     ...            ...  \n",
       "60846                    {23}                    True              1  \n",
       "60849                    {88}                    True              1  \n",
       "60850                    {88}                    True              1  \n",
       "60852                  {1251}                    True              1  \n",
       "60857                   {974}                    True              1  \n",
       "\n",
       "[14350 rows x 13 columns]"
      ]
     },
     "execution_count": 25,
     "metadata": {},
     "output_type": "execute_result"
    }
   ],
   "source": [
    "stats_df.loc[\n",
    "    (stats_df.base_mrr<stats_df.aug_mrr)\n",
    "    #(stats_df.base_hit<stats_df.aug_hit)\n",
    "    #&(~stats_df.target_cluster_in_ses)\n",
    "  #  &(stats_df.no_clusters>1)\n",
    "]"
   ]
  },
  {
   "cell_type": "code",
   "execution_count": 29,
   "metadata": {},
   "outputs": [
    {
     "data": {
      "text/html": [
       "<div>\n",
       "<style scoped>\n",
       "    .dataframe tbody tr th:only-of-type {\n",
       "        vertical-align: middle;\n",
       "    }\n",
       "\n",
       "    .dataframe tbody tr th {\n",
       "        vertical-align: top;\n",
       "    }\n",
       "\n",
       "    .dataframe thead th {\n",
       "        text-align: right;\n",
       "    }\n",
       "</style>\n",
       "<table border=\"1\" class=\"dataframe\">\n",
       "  <thead>\n",
       "    <tr style=\"text-align: right;\">\n",
       "      <th></th>\n",
       "      <th>base_mrr</th>\n",
       "      <th>base_hit</th>\n",
       "      <th>aug_mrr</th>\n",
       "      <th>aug_hit</th>\n",
       "      <th>session_id</th>\n",
       "      <th>target_number</th>\n",
       "      <th>session_len</th>\n",
       "      <th>clusters</th>\n",
       "      <th>target_cluster</th>\n",
       "      <th>target_cluster_in_ses</th>\n",
       "      <th>no_clusters</th>\n",
       "      <th>repetitions_in_session</th>\n",
       "      <th>target_category</th>\n",
       "      <th>categories</th>\n",
       "      <th>target_category_in_ses</th>\n",
       "      <th>no_categories</th>\n",
       "    </tr>\n",
       "  </thead>\n",
       "  <tbody>\n",
       "    <tr>\n",
       "      <th>0</th>\n",
       "      <td>0.200000</td>\n",
       "      <td>1.0</td>\n",
       "      <td>0.071429</td>\n",
       "      <td>1.0</td>\n",
       "      <td>289</td>\n",
       "      <td>21566</td>\n",
       "      <td>5</td>\n",
       "      <td>{9, 13, 15}</td>\n",
       "      <td>9</td>\n",
       "      <td>True</td>\n",
       "      <td>3</td>\n",
       "      <td>False</td>\n",
       "      <td>1167</td>\n",
       "      <td>{1035, 860, 853, 1167}</td>\n",
       "      <td>True</td>\n",
       "      <td>4</td>\n",
       "    </tr>\n",
       "    <tr>\n",
       "      <th>11</th>\n",
       "      <td>0.111111</td>\n",
       "      <td>1.0</td>\n",
       "      <td>0.062500</td>\n",
       "      <td>1.0</td>\n",
       "      <td>1862</td>\n",
       "      <td>25212</td>\n",
       "      <td>1</td>\n",
       "      <td>{11}</td>\n",
       "      <td>11</td>\n",
       "      <td>True</td>\n",
       "      <td>1</td>\n",
       "      <td>False</td>\n",
       "      <td>547</td>\n",
       "      <td>{547}</td>\n",
       "      <td>True</td>\n",
       "      <td>1</td>\n",
       "    </tr>\n",
       "    <tr>\n",
       "      <th>12</th>\n",
       "      <td>1.000000</td>\n",
       "      <td>1.0</td>\n",
       "      <td>0.500000</td>\n",
       "      <td>1.0</td>\n",
       "      <td>1864</td>\n",
       "      <td>11999</td>\n",
       "      <td>5</td>\n",
       "      <td>{5, 7}</td>\n",
       "      <td>5</td>\n",
       "      <td>True</td>\n",
       "      <td>2</td>\n",
       "      <td>True</td>\n",
       "      <td>227</td>\n",
       "      <td>{227}</td>\n",
       "      <td>True</td>\n",
       "      <td>1</td>\n",
       "    </tr>\n",
       "    <tr>\n",
       "      <th>14</th>\n",
       "      <td>0.166667</td>\n",
       "      <td>1.0</td>\n",
       "      <td>0.142857</td>\n",
       "      <td>1.0</td>\n",
       "      <td>1864</td>\n",
       "      <td>14434</td>\n",
       "      <td>3</td>\n",
       "      <td>{5, 7}</td>\n",
       "      <td>7</td>\n",
       "      <td>True</td>\n",
       "      <td>2</td>\n",
       "      <td>False</td>\n",
       "      <td>227</td>\n",
       "      <td>{227}</td>\n",
       "      <td>True</td>\n",
       "      <td>1</td>\n",
       "    </tr>\n",
       "    <tr>\n",
       "      <th>17</th>\n",
       "      <td>0.500000</td>\n",
       "      <td>1.0</td>\n",
       "      <td>0.333333</td>\n",
       "      <td>1.0</td>\n",
       "      <td>1867</td>\n",
       "      <td>31497</td>\n",
       "      <td>2</td>\n",
       "      <td>{15}</td>\n",
       "      <td>15</td>\n",
       "      <td>True</td>\n",
       "      <td>1</td>\n",
       "      <td>False</td>\n",
       "      <td>822</td>\n",
       "      <td>{822}</td>\n",
       "      <td>True</td>\n",
       "      <td>1</td>\n",
       "    </tr>\n",
       "    <tr>\n",
       "      <th>...</th>\n",
       "      <td>...</td>\n",
       "      <td>...</td>\n",
       "      <td>...</td>\n",
       "      <td>...</td>\n",
       "      <td>...</td>\n",
       "      <td>...</td>\n",
       "      <td>...</td>\n",
       "      <td>...</td>\n",
       "      <td>...</td>\n",
       "      <td>...</td>\n",
       "      <td>...</td>\n",
       "      <td>...</td>\n",
       "      <td>...</td>\n",
       "      <td>...</td>\n",
       "      <td>...</td>\n",
       "      <td>...</td>\n",
       "    </tr>\n",
       "    <tr>\n",
       "      <th>60803</th>\n",
       "      <td>0.200000</td>\n",
       "      <td>1.0</td>\n",
       "      <td>0.111111</td>\n",
       "      <td>1.0</td>\n",
       "      <td>593522</td>\n",
       "      <td>42333</td>\n",
       "      <td>1</td>\n",
       "      <td>{4}</td>\n",
       "      <td>5</td>\n",
       "      <td>False</td>\n",
       "      <td>1</td>\n",
       "      <td>False</td>\n",
       "      <td>402</td>\n",
       "      <td>{402}</td>\n",
       "      <td>True</td>\n",
       "      <td>1</td>\n",
       "    </tr>\n",
       "    <tr>\n",
       "      <th>60824</th>\n",
       "      <td>0.250000</td>\n",
       "      <td>1.0</td>\n",
       "      <td>0.200000</td>\n",
       "      <td>1.0</td>\n",
       "      <td>595629</td>\n",
       "      <td>2019</td>\n",
       "      <td>4</td>\n",
       "      <td>{15}</td>\n",
       "      <td>15</td>\n",
       "      <td>True</td>\n",
       "      <td>1</td>\n",
       "      <td>False</td>\n",
       "      <td>528</td>\n",
       "      <td>{528}</td>\n",
       "      <td>True</td>\n",
       "      <td>1</td>\n",
       "    </tr>\n",
       "    <tr>\n",
       "      <th>60827</th>\n",
       "      <td>0.166667</td>\n",
       "      <td>1.0</td>\n",
       "      <td>0.100000</td>\n",
       "      <td>1.0</td>\n",
       "      <td>595629</td>\n",
       "      <td>8430</td>\n",
       "      <td>1</td>\n",
       "      <td>{15}</td>\n",
       "      <td>15</td>\n",
       "      <td>True</td>\n",
       "      <td>1</td>\n",
       "      <td>False</td>\n",
       "      <td>528</td>\n",
       "      <td>{528}</td>\n",
       "      <td>True</td>\n",
       "      <td>1</td>\n",
       "    </tr>\n",
       "    <tr>\n",
       "      <th>60835</th>\n",
       "      <td>0.125000</td>\n",
       "      <td>1.0</td>\n",
       "      <td>0.100000</td>\n",
       "      <td>1.0</td>\n",
       "      <td>597682</td>\n",
       "      <td>1930</td>\n",
       "      <td>1</td>\n",
       "      <td>{7}</td>\n",
       "      <td>15</td>\n",
       "      <td>False</td>\n",
       "      <td>1</td>\n",
       "      <td>False</td>\n",
       "      <td>541</td>\n",
       "      <td>{541}</td>\n",
       "      <td>True</td>\n",
       "      <td>1</td>\n",
       "    </tr>\n",
       "    <tr>\n",
       "      <th>60836</th>\n",
       "      <td>1.000000</td>\n",
       "      <td>1.0</td>\n",
       "      <td>0.250000</td>\n",
       "      <td>1.0</td>\n",
       "      <td>597964</td>\n",
       "      <td>21803</td>\n",
       "      <td>1</td>\n",
       "      <td>{6}</td>\n",
       "      <td>13</td>\n",
       "      <td>False</td>\n",
       "      <td>1</td>\n",
       "      <td>False</td>\n",
       "      <td>1235</td>\n",
       "      <td>{1235}</td>\n",
       "      <td>True</td>\n",
       "      <td>1</td>\n",
       "    </tr>\n",
       "  </tbody>\n",
       "</table>\n",
       "<p>9652 rows × 16 columns</p>\n",
       "</div>"
      ],
      "text/plain": [
       "       base_mrr  base_hit   aug_mrr  aug_hit session_id  target_number  \\\n",
       "0      0.200000       1.0  0.071429      1.0        289          21566   \n",
       "11     0.111111       1.0  0.062500      1.0       1862          25212   \n",
       "12     1.000000       1.0  0.500000      1.0       1864          11999   \n",
       "14     0.166667       1.0  0.142857      1.0       1864          14434   \n",
       "17     0.500000       1.0  0.333333      1.0       1867          31497   \n",
       "...         ...       ...       ...      ...        ...            ...   \n",
       "60803  0.200000       1.0  0.111111      1.0     593522          42333   \n",
       "60824  0.250000       1.0  0.200000      1.0     595629           2019   \n",
       "60827  0.166667       1.0  0.100000      1.0     595629           8430   \n",
       "60835  0.125000       1.0  0.100000      1.0     597682           1930   \n",
       "60836  1.000000       1.0  0.250000      1.0     597964          21803   \n",
       "\n",
       "       session_len     clusters  target_cluster  target_cluster_in_ses  \\\n",
       "0                5  {9, 13, 15}               9                   True   \n",
       "11               1         {11}              11                   True   \n",
       "12               5       {5, 7}               5                   True   \n",
       "14               3       {5, 7}               7                   True   \n",
       "17               2         {15}              15                   True   \n",
       "...            ...          ...             ...                    ...   \n",
       "60803            1          {4}               5                  False   \n",
       "60824            4         {15}              15                   True   \n",
       "60827            1         {15}              15                   True   \n",
       "60835            1          {7}              15                  False   \n",
       "60836            1          {6}              13                  False   \n",
       "\n",
       "       no_clusters  repetitions_in_session  target_category  \\\n",
       "0                3                   False             1167   \n",
       "11               1                   False              547   \n",
       "12               2                    True              227   \n",
       "14               2                   False              227   \n",
       "17               1                   False              822   \n",
       "...            ...                     ...              ...   \n",
       "60803            1                   False              402   \n",
       "60824            1                   False              528   \n",
       "60827            1                   False              528   \n",
       "60835            1                   False              541   \n",
       "60836            1                   False             1235   \n",
       "\n",
       "                   categories  target_category_in_ses  no_categories  \n",
       "0      {1035, 860, 853, 1167}                    True              4  \n",
       "11                      {547}                    True              1  \n",
       "12                      {227}                    True              1  \n",
       "14                      {227}                    True              1  \n",
       "17                      {822}                    True              1  \n",
       "...                       ...                     ...            ...  \n",
       "60803                   {402}                    True              1  \n",
       "60824                   {528}                    True              1  \n",
       "60827                   {528}                    True              1  \n",
       "60835                   {541}                    True              1  \n",
       "60836                  {1235}                    True              1  \n",
       "\n",
       "[9652 rows x 16 columns]"
      ]
     },
     "execution_count": 29,
     "metadata": {},
     "output_type": "execute_result"
    }
   ],
   "source": [
    "stats_df.loc[\n",
    "    (stats_df.base_mrr>stats_df.aug_mrr)\n",
    "    &(stats_df.base_hit==stats_df.aug_hit)\n",
    "    &(stats_df.base_hit)\n",
    "]"
   ]
  },
  {
   "cell_type": "code",
   "execution_count": 30,
   "metadata": {},
   "outputs": [
    {
     "data": {
      "text/html": [
       "<div>\n",
       "<style scoped>\n",
       "    .dataframe tbody tr th:only-of-type {\n",
       "        vertical-align: middle;\n",
       "    }\n",
       "\n",
       "    .dataframe tbody tr th {\n",
       "        vertical-align: top;\n",
       "    }\n",
       "\n",
       "    .dataframe thead th {\n",
       "        text-align: right;\n",
       "    }\n",
       "</style>\n",
       "<table border=\"1\" class=\"dataframe\">\n",
       "  <thead>\n",
       "    <tr style=\"text-align: right;\">\n",
       "      <th></th>\n",
       "      <th>base_mrr</th>\n",
       "      <th>base_hit</th>\n",
       "      <th>aug_mrr</th>\n",
       "      <th>aug_hit</th>\n",
       "      <th>session_id</th>\n",
       "      <th>target_number</th>\n",
       "      <th>session_len</th>\n",
       "      <th>clusters</th>\n",
       "      <th>target_cluster</th>\n",
       "      <th>target_cluster_in_ses</th>\n",
       "      <th>no_clusters</th>\n",
       "      <th>repetitions_in_session</th>\n",
       "      <th>target_category</th>\n",
       "      <th>categories</th>\n",
       "      <th>target_category_in_ses</th>\n",
       "      <th>no_categories</th>\n",
       "    </tr>\n",
       "  </thead>\n",
       "  <tbody>\n",
       "    <tr>\n",
       "      <th>8</th>\n",
       "      <td>0.050000</td>\n",
       "      <td>1.0</td>\n",
       "      <td>0.062500</td>\n",
       "      <td>1.0</td>\n",
       "      <td>1862</td>\n",
       "      <td>7213</td>\n",
       "      <td>4</td>\n",
       "      <td>{11}</td>\n",
       "      <td>11</td>\n",
       "      <td>True</td>\n",
       "      <td>1</td>\n",
       "      <td>True</td>\n",
       "      <td>547</td>\n",
       "      <td>{547}</td>\n",
       "      <td>True</td>\n",
       "      <td>1</td>\n",
       "    </tr>\n",
       "    <tr>\n",
       "      <th>9</th>\n",
       "      <td>0.066667</td>\n",
       "      <td>1.0</td>\n",
       "      <td>1.000000</td>\n",
       "      <td>1.0</td>\n",
       "      <td>1862</td>\n",
       "      <td>25212</td>\n",
       "      <td>3</td>\n",
       "      <td>{11}</td>\n",
       "      <td>11</td>\n",
       "      <td>True</td>\n",
       "      <td>1</td>\n",
       "      <td>False</td>\n",
       "      <td>547</td>\n",
       "      <td>{547}</td>\n",
       "      <td>True</td>\n",
       "      <td>1</td>\n",
       "    </tr>\n",
       "    <tr>\n",
       "      <th>10</th>\n",
       "      <td>0.052632</td>\n",
       "      <td>1.0</td>\n",
       "      <td>0.066667</td>\n",
       "      <td>1.0</td>\n",
       "      <td>1862</td>\n",
       "      <td>22925</td>\n",
       "      <td>2</td>\n",
       "      <td>{11}</td>\n",
       "      <td>11</td>\n",
       "      <td>True</td>\n",
       "      <td>1</td>\n",
       "      <td>False</td>\n",
       "      <td>547</td>\n",
       "      <td>{547}</td>\n",
       "      <td>True</td>\n",
       "      <td>1</td>\n",
       "    </tr>\n",
       "    <tr>\n",
       "      <th>13</th>\n",
       "      <td>0.333333</td>\n",
       "      <td>1.0</td>\n",
       "      <td>1.000000</td>\n",
       "      <td>1.0</td>\n",
       "      <td>1864</td>\n",
       "      <td>20962</td>\n",
       "      <td>4</td>\n",
       "      <td>{5, 7}</td>\n",
       "      <td>7</td>\n",
       "      <td>True</td>\n",
       "      <td>2</td>\n",
       "      <td>False</td>\n",
       "      <td>227</td>\n",
       "      <td>{227}</td>\n",
       "      <td>True</td>\n",
       "      <td>1</td>\n",
       "    </tr>\n",
       "    <tr>\n",
       "      <th>15</th>\n",
       "      <td>0.200000</td>\n",
       "      <td>1.0</td>\n",
       "      <td>0.333333</td>\n",
       "      <td>1.0</td>\n",
       "      <td>1864</td>\n",
       "      <td>20962</td>\n",
       "      <td>2</td>\n",
       "      <td>{5, 7}</td>\n",
       "      <td>7</td>\n",
       "      <td>True</td>\n",
       "      <td>2</td>\n",
       "      <td>False</td>\n",
       "      <td>227</td>\n",
       "      <td>{227}</td>\n",
       "      <td>True</td>\n",
       "      <td>1</td>\n",
       "    </tr>\n",
       "    <tr>\n",
       "      <th>...</th>\n",
       "      <td>...</td>\n",
       "      <td>...</td>\n",
       "      <td>...</td>\n",
       "      <td>...</td>\n",
       "      <td>...</td>\n",
       "      <td>...</td>\n",
       "      <td>...</td>\n",
       "      <td>...</td>\n",
       "      <td>...</td>\n",
       "      <td>...</td>\n",
       "      <td>...</td>\n",
       "      <td>...</td>\n",
       "      <td>...</td>\n",
       "      <td>...</td>\n",
       "      <td>...</td>\n",
       "      <td>...</td>\n",
       "    </tr>\n",
       "    <tr>\n",
       "      <th>60846</th>\n",
       "      <td>0.250000</td>\n",
       "      <td>1.0</td>\n",
       "      <td>0.333333</td>\n",
       "      <td>1.0</td>\n",
       "      <td>598272</td>\n",
       "      <td>9356</td>\n",
       "      <td>2</td>\n",
       "      <td>{2}</td>\n",
       "      <td>15</td>\n",
       "      <td>False</td>\n",
       "      <td>1</td>\n",
       "      <td>False</td>\n",
       "      <td>23</td>\n",
       "      <td>{23}</td>\n",
       "      <td>True</td>\n",
       "      <td>1</td>\n",
       "    </tr>\n",
       "    <tr>\n",
       "      <th>60849</th>\n",
       "      <td>0.166667</td>\n",
       "      <td>1.0</td>\n",
       "      <td>0.333333</td>\n",
       "      <td>1.0</td>\n",
       "      <td>598643</td>\n",
       "      <td>1777</td>\n",
       "      <td>3</td>\n",
       "      <td>{2}</td>\n",
       "      <td>2</td>\n",
       "      <td>True</td>\n",
       "      <td>1</td>\n",
       "      <td>False</td>\n",
       "      <td>88</td>\n",
       "      <td>{88}</td>\n",
       "      <td>True</td>\n",
       "      <td>1</td>\n",
       "    </tr>\n",
       "    <tr>\n",
       "      <th>60850</th>\n",
       "      <td>0.200000</td>\n",
       "      <td>1.0</td>\n",
       "      <td>0.333333</td>\n",
       "      <td>1.0</td>\n",
       "      <td>598643</td>\n",
       "      <td>15250</td>\n",
       "      <td>2</td>\n",
       "      <td>{2}</td>\n",
       "      <td>2</td>\n",
       "      <td>True</td>\n",
       "      <td>1</td>\n",
       "      <td>False</td>\n",
       "      <td>88</td>\n",
       "      <td>{88}</td>\n",
       "      <td>True</td>\n",
       "      <td>1</td>\n",
       "    </tr>\n",
       "    <tr>\n",
       "      <th>60852</th>\n",
       "      <td>0.250000</td>\n",
       "      <td>1.0</td>\n",
       "      <td>0.333333</td>\n",
       "      <td>1.0</td>\n",
       "      <td>598979</td>\n",
       "      <td>34722</td>\n",
       "      <td>1</td>\n",
       "      <td>{1}</td>\n",
       "      <td>15</td>\n",
       "      <td>False</td>\n",
       "      <td>1</td>\n",
       "      <td>False</td>\n",
       "      <td>1251</td>\n",
       "      <td>{1251}</td>\n",
       "      <td>True</td>\n",
       "      <td>1</td>\n",
       "    </tr>\n",
       "    <tr>\n",
       "      <th>60853</th>\n",
       "      <td>0.500000</td>\n",
       "      <td>1.0</td>\n",
       "      <td>1.000000</td>\n",
       "      <td>1.0</td>\n",
       "      <td>599403</td>\n",
       "      <td>13784</td>\n",
       "      <td>1</td>\n",
       "      <td>{15}</td>\n",
       "      <td>15</td>\n",
       "      <td>True</td>\n",
       "      <td>1</td>\n",
       "      <td>False</td>\n",
       "      <td>484</td>\n",
       "      <td>{484}</td>\n",
       "      <td>True</td>\n",
       "      <td>1</td>\n",
       "    </tr>\n",
       "  </tbody>\n",
       "</table>\n",
       "<p>10119 rows × 16 columns</p>\n",
       "</div>"
      ],
      "text/plain": [
       "       base_mrr  base_hit   aug_mrr  aug_hit session_id  target_number  \\\n",
       "8      0.050000       1.0  0.062500      1.0       1862           7213   \n",
       "9      0.066667       1.0  1.000000      1.0       1862          25212   \n",
       "10     0.052632       1.0  0.066667      1.0       1862          22925   \n",
       "13     0.333333       1.0  1.000000      1.0       1864          20962   \n",
       "15     0.200000       1.0  0.333333      1.0       1864          20962   \n",
       "...         ...       ...       ...      ...        ...            ...   \n",
       "60846  0.250000       1.0  0.333333      1.0     598272           9356   \n",
       "60849  0.166667       1.0  0.333333      1.0     598643           1777   \n",
       "60850  0.200000       1.0  0.333333      1.0     598643          15250   \n",
       "60852  0.250000       1.0  0.333333      1.0     598979          34722   \n",
       "60853  0.500000       1.0  1.000000      1.0     599403          13784   \n",
       "\n",
       "       session_len clusters  target_cluster  target_cluster_in_ses  \\\n",
       "8                4     {11}              11                   True   \n",
       "9                3     {11}              11                   True   \n",
       "10               2     {11}              11                   True   \n",
       "13               4   {5, 7}               7                   True   \n",
       "15               2   {5, 7}               7                   True   \n",
       "...            ...      ...             ...                    ...   \n",
       "60846            2      {2}              15                  False   \n",
       "60849            3      {2}               2                   True   \n",
       "60850            2      {2}               2                   True   \n",
       "60852            1      {1}              15                  False   \n",
       "60853            1     {15}              15                   True   \n",
       "\n",
       "       no_clusters  repetitions_in_session  target_category categories  \\\n",
       "8                1                    True              547      {547}   \n",
       "9                1                   False              547      {547}   \n",
       "10               1                   False              547      {547}   \n",
       "13               2                   False              227      {227}   \n",
       "15               2                   False              227      {227}   \n",
       "...            ...                     ...              ...        ...   \n",
       "60846            1                   False               23       {23}   \n",
       "60849            1                   False               88       {88}   \n",
       "60850            1                   False               88       {88}   \n",
       "60852            1                   False             1251     {1251}   \n",
       "60853            1                   False              484      {484}   \n",
       "\n",
       "       target_category_in_ses  no_categories  \n",
       "8                        True              1  \n",
       "9                        True              1  \n",
       "10                       True              1  \n",
       "13                       True              1  \n",
       "15                       True              1  \n",
       "...                       ...            ...  \n",
       "60846                    True              1  \n",
       "60849                    True              1  \n",
       "60850                    True              1  \n",
       "60852                    True              1  \n",
       "60853                    True              1  \n",
       "\n",
       "[10119 rows x 16 columns]"
      ]
     },
     "execution_count": 30,
     "metadata": {},
     "output_type": "execute_result"
    }
   ],
   "source": [
    "stats_df.loc[\n",
    "    (stats_df.base_mrr<stats_df.aug_mrr)\n",
    "    &(stats_df.base_hit==stats_df.aug_hit)\n",
    "    &(stats_df.base_hit)\n",
    "]"
   ]
  },
  {
   "cell_type": "markdown",
   "metadata": {},
   "source": [
    "### plots"
   ]
  },
  {
   "cell_type": "markdown",
   "metadata": {},
   "source": [
    "#### general"
   ]
  },
  {
   "cell_type": "code",
   "execution_count": 28,
   "metadata": {},
   "outputs": [
    {
     "name": "stdout",
     "output_type": "stream",
     "text": [
      "# sessions for hit base>aug (3837, 13) # sessions opposite (4037, 13)\n"
     ]
    }
   ],
   "source": [
    "print('# sessions for hit base>aug', stats_df.loc[\n",
    "    (stats_df.base_hit>stats_df.aug_hit)\n",
    "].shape , '# sessions opposite',\n",
    "stats_df.loc[\n",
    "    (stats_df.base_hit<stats_df.aug_hit)\n",
    "].shape)"
   ]
  },
  {
   "cell_type": "code",
   "execution_count": 36,
   "metadata": {},
   "outputs": [
    {
     "data": {
      "image/png": "[encoded data removed]",
      "text/plain": [
       "<Figure size 640x480 with 1 Axes>"
      ]
     },
     "metadata": {},
     "output_type": "display_data"
    }
   ],
   "source": [
    "a,b,c=(sum(stats_df.base_hit>stats_df.aug_hit),\n",
    "sum(stats_df.base_hit==stats_df.aug_hit),\n",
    "sum(stats_df.base_hit<stats_df.aug_hit))\n",
    "plt.title(f'HIT comparison. Aug. better on {c-a} sessions')\n",
    "plt.bar([1,2, 3], height=[a,b,c],\n",
    "label=['base','equal','aug'],\n",
    "color=['C0','C1','C2'])\n",
    "plt.yticks(np.arange(0,max(a,b,c)+5000, 5000))\n",
    "plt.grid()\n",
    "plt.legend()\n",
    "plt.show()"
   ]
  },
  {
   "cell_type": "code",
   "execution_count": 37,
   "metadata": {},
   "outputs": [
    {
     "data": {
      "image/png": "[encoded data removed]",
      "text/plain": [
       "<Figure size 640x480 with 1 Axes>"
      ]
     },
     "metadata": {},
     "output_type": "display_data"
    }
   ],
   "source": [
    "a,b,c=(sum(stats_df.base_mrr>stats_df.aug_mrr),\n",
    "sum(stats_df.base_mrr==stats_df.aug_mrr),\n",
    "sum(stats_df.base_mrr<stats_df.aug_mrr))\n",
    "\n",
    "plt.title(f'MRR comparison. Aug. better on {c-a} sessions')\n",
    "plt.bar([1,2, 3], height=[a,b,c], \n",
    "label=['base','equal','aug'],\n",
    "color=['C0','C1','C2'])\n",
    "plt.yticks(np.arange(0,max(a,b,c), 5000))\n",
    "plt.grid()\n",
    "plt.legend()\n",
    "plt.show()"
   ]
  },
  {
   "cell_type": "code",
   "execution_count": 29,
   "metadata": {},
   "outputs": [
    {
     "data": {
      "image/png": "[encoded data removed]",
      "text/plain": [
       "<Figure size 640x480 with 1 Axes>"
      ]
     },
     "metadata": {},
     "output_type": "display_data"
    }
   ],
   "source": [
    "plt.bar([1,2], height=[\n",
    "    sum(stats_df.repetitions_in_session),\n",
    "    sum(~stats_df.repetitions_in_session)\n",
    "], label=['repetitions in sesssion', 'unique items in session'],\n",
    "color=['C0', 'C1'])\n",
    "plt.legend()\n",
    "plt.show()"
   ]
  },
  {
   "cell_type": "code",
   "execution_count": 40,
   "metadata": {},
   "outputs": [
    {
     "data": {
      "image/png": "[encoded data removed]",
      "text/plain": [
       "<Figure size 640x480 with 1 Axes>"
      ]
     },
     "metadata": {},
     "output_type": "display_data"
    }
   ],
   "source": [
    "plt.hist(stats_df.base_mrr[stats_df.base_mrr>0], bins=20, label='base')\n",
    "plt.hist(stats_df.aug_mrr[stats_df.aug_mrr>0], bins=20, label='augmented', alpha=0.5)\n",
    "plt.legend()\n",
    "plt.title('MRR distribution (without non-hits)')\n",
    "plt.show()"
   ]
  },
  {
   "cell_type": "code",
   "execution_count": 206,
   "metadata": {},
   "outputs": [
    {
     "data": {
      "image/png": "[encoded data removed]",
      "text/plain": [
       "<Figure size 640x480 with 1 Axes>"
      ]
     },
     "metadata": {},
     "output_type": "display_data"
    }
   ],
   "source": [
    "plt.bar([1,2,3,4,5,6], height=[\n",
    "    sum(aug_df.target_cluster_in_ses),\n",
    "    sum(~aug_df.target_cluster_in_ses),\n",
    "    sum(base_df.target_cluster_in_ses),\n",
    "    sum(~base_df.target_cluster_in_ses),\n",
    "    sum(equal_df.target_cluster_in_ses),\n",
    "    sum(~equal_df.target_cluster_in_ses)\n",
    "], label=['AUG target cluster in session', 'opposite', \n",
    "          'BASE target cluster in session', 'opposite', \n",
    "          'EQUAL target cluster in session', 'opposite', ],\n",
    "color=['green', 'blue', 'lightgreen', 'lightblue', 'darkgreen', 'darkblue'])\n",
    "plt.legend()\n",
    "plt.show()"
   ]
  },
  {
   "cell_type": "code",
   "execution_count": 41,
   "metadata": {},
   "outputs": [
    {
     "data": {
      "image/png": "[encoded data removed]",
      "text/plain": [
       "<Figure size 640x480 with 1 Axes>"
      ]
     },
     "metadata": {},
     "output_type": "display_data"
    }
   ],
   "source": [
    "plt.bar([1,2,3,4,5,6], height=[\n",
    "    sum(aug_df.target_cluster_in_ses),\n",
    "    sum(~aug_df.target_cluster_in_ses),\n",
    "    sum(base_df.target_cluster_in_ses),\n",
    "    sum(~base_df.target_cluster_in_ses),\n",
    "    sum(equal_df.target_cluster_in_ses),\n",
    "    sum(~equal_df.target_cluster_in_ses)\n",
    "], label=['AUG target cluster in session', 'opposite', \n",
    "          'BASE target cluster in session', 'opposite', \n",
    "          'EQUAL target cluster in session', 'opposite', ],\n",
    "color=['green', 'blue', 'lightgreen', 'lightblue', 'darkgreen', 'darkblue'])\n",
    "plt.legend()\n",
    "plt.show()"
   ]
  },
  {
   "cell_type": "markdown",
   "metadata": {},
   "source": [
    "#### repetitions, clusters & session len"
   ]
  },
  {
   "cell_type": "code",
   "execution_count": 51,
   "metadata": {},
   "outputs": [],
   "source": [
    "aug_df=stats_df.loc[\n",
    "    (stats_df.base_mrr<stats_df.aug_mrr)\n",
    "]\n",
    "base_df=stats_df.loc[\n",
    "    (stats_df.base_mrr>stats_df.aug_mrr)\n",
    "]"
   ]
  },
  {
   "cell_type": "code",
   "execution_count": 42,
   "metadata": {},
   "outputs": [
    {
     "data": {
      "image/png": "[encoded data removed]",
      "text/plain": [
       "<Figure size 640x480 with 1 Axes>"
      ]
     },
     "metadata": {},
     "output_type": "display_data"
    }
   ],
   "source": [
    "\n",
    "plt.title('no. clusters in session')\n",
    "plt.hist(aug_df.no_clusters.values, bins=np.arange(stop=aug_df.no_clusters.nunique(), start=1), density=True, label='aug')\n",
    "plt.hist(base_df.no_clusters.values, bins=np.arange(stop=base_df.no_clusters.nunique(), start=1), alpha=0.5, density=True, label='base')\n",
    "plt.legend()\n",
    "plt.show()"
   ]
  },
  {
   "cell_type": "code",
   "execution_count": 43,
   "metadata": {},
   "outputs": [
    {
     "data": {
      "image/png": "[encoded data removed]",
      "text/plain": [
       "<Figure size 640x480 with 1 Axes>"
      ]
     },
     "metadata": {},
     "output_type": "display_data"
    }
   ],
   "source": [
    "plt.title('session length')\n",
    "plt.hist(aug_df.session_len.values, bins=np.arange(stop=aug_df.session_len.nunique(), start=1), density=True, label='aug')\n",
    "plt.hist(base_df.session_len.values, bins=np.arange(stop=base_df.session_len.nunique(), start=1), alpha=0.5, density=True, label='base')\n",
    "plt.legend()\n",
    "plt.grid()\n",
    "plt.show()"
   ]
  },
  {
   "cell_type": "code",
   "execution_count": 80,
   "metadata": {},
   "outputs": [
    {
     "data": {
      "image/png": "[encoded data removed]",
      "text/plain": [
       "<Figure size 640x480 with 1 Axes>"
      ]
     },
     "metadata": {},
     "output_type": "display_data"
    }
   ],
   "source": [
    "a,b,c,d=(sum(aug_df.repetitions_in_session),\n",
    "    sum(~aug_df.repetitions_in_session),\n",
    "    sum(base_df.repetitions_in_session),\n",
    "    sum(~base_df.repetitions_in_session))\n",
    "\n",
    "plt.bar([1,2,3,4], height=[\n",
    "    sum(aug_df.repetitions_in_session),\n",
    "    sum(~aug_df.repetitions_in_session),\n",
    "    sum(base_df.repetitions_in_session),\n",
    "    sum(~base_df.repetitions_in_session)\n",
    "], label=['AUG repetitions in sesssion', 'AUG unique items in session', 'BASE repetitions in sesssion', 'BASE unique items in session'],\n",
    "color=['green', 'blue', 'lightgreen', 'lightblue'])\n",
    "plt.legend()\n",
    "\n",
    "plt.title(f'AUG rep%: {100*a/(a+b):.2f}; BASE rep%: {100*c/(c+d):.2f}')\n",
    "plt.show()"
   ]
  },
  {
   "cell_type": "markdown",
   "metadata": {},
   "source": [
    "#### due to normalization, diff should be only on session with repetition. CHECK it"
   ]
  },
  {
   "cell_type": "markdown",
   "metadata": {},
   "source": [
    "not really. Adjacency matrix indeed is different only then, but models weights differ all the time"
   ]
  },
  {
   "cell_type": "code",
   "execution_count": 26,
   "metadata": {},
   "outputs": [
    {
     "name": "stdout",
     "output_type": "stream",
     "text": [
      "session with repetition # 16813 , Base hits: 9449.0 , Aug hits: 9514.0 \n",
      " Percentage of different MRR results: 47.9 %\n"
     ]
    }
   ],
   "source": [
    "rep_df=stats_df.loc[stats_df.repetitions_in_session]\n",
    "print('session with repetition #', rep_df.shape[0], ', Base hits:', sum(rep_df.base_hit), ', Aug hits:', sum(rep_df.aug_hit),\n",
    "      '\\n Percentage of different MRR results:', np.round(100*sum(rep_df.base_mrr!=rep_df.aug_mrr)/rep_df.shape[0], 2),'%')"
   ]
  },
  {
   "cell_type": "code",
   "execution_count": 27,
   "metadata": {},
   "outputs": [
    {
     "name": "stdout",
     "output_type": "stream",
     "text": [
      "Sessions without repetition! # 44045 , Base hits: 21539.0 , Aug hits: 21674.0 \n",
      " Percentage of different MRR esults: 45.15 %\n"
     ]
    }
   ],
   "source": [
    "notrep_df=stats_df.loc[~stats_df.repetitions_in_session]\n",
    "print('Sessions without repetition! #', notrep_df.shape[0], ', Base hits:', sum(notrep_df.base_hit), ', Aug hits:', sum(notrep_df.aug_hit),\n",
    "      '\\n Percentage of different MRR esults:', np.round(100*sum(notrep_df.base_mrr!=notrep_df.aug_mrr)/notrep_df.shape[0], 2),'%')"
   ]
  },
  {
   "cell_type": "code",
   "execution_count": 90,
   "metadata": {},
   "outputs": [
    {
     "name": "stdout",
     "output_type": "stream",
     "text": [
      "Percentage gain in sessions with repetitions, regarding better MRR \n"
     ]
    },
    {
     "data": {
      "text/plain": [
       "2.3791114018913935"
      ]
     },
     "execution_count": 90,
     "metadata": {},
     "output_type": "execute_result"
    }
   ],
   "source": [
    "print('Percentage gain in sessions with repetitions, regarding better MRR ')\n",
    "100*((rep_df.aug_mrr>rep_df.base_mrr).sum()-(rep_df.aug_mrr<rep_df.base_mrr).sum())/len(rep_df)"
   ]
  },
  {
   "cell_type": "markdown",
   "metadata": {},
   "source": [
    "#### frequency"
   ]
  },
  {
   "cell_type": "code",
   "execution_count": 50,
   "metadata": {},
   "outputs": [],
   "source": [
    "stats_df=stats_df.merge(items_df[['pricelog2','category','frequency','item_number']].rename(columns={'item_number':'target_number'}), \n",
    "             on='target_number',\n",
    "             how='left')\n",
    "stats_df['avg_sesssion_freq']=list(map(lambda ses: np.average([items_df.loc[items_df.item_number==x].frequency.item() for x in ses]) ,test_sessions))"
   ]
  },
  {
   "cell_type": "code",
   "execution_count": 51,
   "metadata": {},
   "outputs": [],
   "source": [
    "aug_df=stats_df.loc[\n",
    "    (stats_df.base_mrr<stats_df.aug_mrr)\n",
    "]\n",
    "base_df=stats_df.loc[\n",
    "    (stats_df.base_mrr>stats_df.aug_mrr)\n",
    "]\n",
    "equal_df=stats_df.loc[\n",
    "    (stats_df.base_mrr==stats_df.aug_mrr)\n",
    "]"
   ]
  },
  {
   "cell_type": "code",
   "execution_count": 52,
   "metadata": {},
   "outputs": [
    {
     "data": {
      "image/png": "[encoded data removed]",
      "text/plain": [
       "<Figure size 640x480 with 1 Axes>"
      ]
     },
     "metadata": {},
     "output_type": "display_data"
    },
    {
     "data": {
      "image/png": "[encoded data removed]",
      "text/plain": [
       "<Figure size 640x480 with 1 Axes>"
      ]
     },
     "metadata": {},
     "output_type": "display_data"
    }
   ],
   "source": [
    "\n",
    "plt.title('frequency of target')\n",
    "plt.hist(aug_df.frequency.values, bins=np.arange(400, step=20), density=True, label='aug')\n",
    "plt.hist(base_df.frequency.values, bins=np.arange(400, step=20), alpha=0.6, density=True, label='base')\n",
    "plt.hist(equal_df.frequency.values, bins=np.arange(400, step=20), alpha=0.3, density=True, label='equal')\n",
    "plt.legend()\n",
    "plt.show()\n",
    "\n",
    "\n",
    "plt.title('frequency<100 of target')\n",
    "plt.hist(aug_df.frequency.values, bins=np.arange(100, step=2), density=True, label='aug')\n",
    "plt.hist(base_df.frequency.values, bins=np.arange(100, step=2), alpha=0.6, density=True, label='base')\n",
    "plt.hist(equal_df.frequency.values, bins=np.arange(100, step=2), alpha=0.3, density=True, label='equal')\n",
    "plt.legend()\n",
    "plt.show()"
   ]
  },
  {
   "cell_type": "code",
   "execution_count": 70,
   "metadata": {},
   "outputs": [
    {
     "data": {
      "image/png": "[encoded data removed]",
      "text/plain": [
       "<Figure size 640x480 with 1 Axes>"
      ]
     },
     "metadata": {},
     "output_type": "display_data"
    },
    {
     "data": {
      "image/png": "[encoded data removed]",
      "text/plain": [
       "<Figure size 640x480 with 1 Axes>"
      ]
     },
     "metadata": {},
     "output_type": "display_data"
    }
   ],
   "source": [
    "\n",
    "plt.title('frequency of target')\n",
    "plt.hist(aug_df.frequency.values, bins=np.arange(400, step=20), density=True, label='aug')\n",
    "plt.hist(base_df.frequency.values, bins=np.arange(400, step=20), alpha=0.6, density=True, label='base')\n",
    "plt.hist(equal_df.frequency.values, bins=np.arange(400, step=20), alpha=0.3, density=True, label='equal')\n",
    "plt.legend()\n",
    "plt.show()\n",
    "\n",
    "\n",
    "plt.title('frequency<100 of target')\n",
    "plt.hist(aug_df.frequency.values, bins=np.arange(100, step=2), density=True, label='aug')\n",
    "plt.hist(base_df.frequency.values, bins=np.arange(100, step=2), alpha=0.6, density=True, label='base')\n",
    "plt.hist(equal_df.frequency.values, bins=np.arange(100, step=2), alpha=0.3, density=True, label='equal')\n",
    "plt.legend()\n",
    "plt.show()"
   ]
  },
  {
   "cell_type": "code",
   "execution_count": 57,
   "metadata": {},
   "outputs": [
    {
     "data": {
      "image/png": "[encoded data removed]",
      "text/plain": [
       "<Figure size 640x480 with 1 Axes>"
      ]
     },
     "metadata": {},
     "output_type": "display_data"
    },
    {
     "data": {
      "image/png": "[encoded data removed]",
      "text/plain": [
       "<Figure size 640x480 with 1 Axes>"
      ]
     },
     "metadata": {},
     "output_type": "display_data"
    }
   ],
   "source": [
    "\n",
    "plt.title('avg session frequency')\n",
    "plt.hist(aug_df.avg_sesssion_freq.values, bins=np.arange(400, step=20), density=True, label='aug')\n",
    "plt.hist(base_df.avg_sesssion_freq.values, bins=np.arange(400, step=20), alpha=0.6, density=True, label='base')\n",
    "plt.hist(equal_df.avg_sesssion_freq.values, bins=np.arange(400, step=20), alpha=0.3, density=True, label='equal')\n",
    "plt.legend()\n",
    "plt.show()\n",
    "\n",
    "\n",
    "plt.title('avg session frequency<100')\n",
    "plt.hist(aug_df.avg_sesssion_freq.values, bins=np.arange(stop=100, start=5, step=2), density=True, label='aug')\n",
    "plt.hist(base_df.avg_sesssion_freq.values, bins=np.arange(stop=100, start=5, step=2), alpha=0.6, density=True, label='base')\n",
    "plt.hist(equal_df.avg_sesssion_freq.values, bins=np.arange(stop=100, start=5, step=2), alpha=0.3, density=True, label='equal')\n",
    "plt.legend()\n",
    "plt.show()"
   ]
  },
  {
   "cell_type": "markdown",
   "metadata": {},
   "source": [
    "#### price"
   ]
  },
  {
   "cell_type": "code",
   "execution_count": 58,
   "metadata": {},
   "outputs": [
    {
     "data": {
      "image/png": "[encoded data removed]",
      "text/plain": [
       "<Figure size 640x480 with 1 Axes>"
      ]
     },
     "metadata": {},
     "output_type": "display_data"
    }
   ],
   "source": [
    "plt.title('price of target')\n",
    "plt.hist(aug_df.pricelog2.values, bins=10, density=True, label='aug')\n",
    "plt.hist(base_df.pricelog2.values, bins=10, alpha=0.6, density=True, label='base')\n",
    "plt.hist(equal_df.pricelog2.values, bins=10, alpha=0.3, density=True, label='equal')\n",
    "plt.legend()\n",
    "plt.show()"
   ]
  },
  {
   "cell_type": "markdown",
   "metadata": {},
   "source": [
    "#### embedding distance"
   ]
  },
  {
   "cell_type": "code",
   "execution_count": 33,
   "metadata": {},
   "outputs": [],
   "source": [
    "base_emb_center=np.average(base_items_embeddings, axis=0)\n",
    "aug_emb_center=np.average(aug_items_embeddings, axis=0)"
   ]
  },
  {
   "cell_type": "code",
   "execution_count": 34,
   "metadata": {},
   "outputs": [],
   "source": [
    "stats_df['base_sesssion_emb']=(list(map(lambda ses: np.average(base_items_embeddings[ses], axis=0) ,test_sessions)))\n",
    "stats_df['aug_sesssion_emb']=list(map(lambda ses: np.average(aug_items_embeddings[ses], axis=0) ,test_sessions))\n"
   ]
  },
  {
   "cell_type": "code",
   "execution_count": 35,
   "metadata": {},
   "outputs": [],
   "source": [
    "aug_df=stats_df.loc[\n",
    "    (stats_df.base_mrr<stats_df.aug_mrr)\n",
    "]\n",
    "base_df=stats_df.loc[\n",
    "    (stats_df.base_mrr>stats_df.aug_mrr)\n",
    "]\n",
    "equal_df=stats_df.loc[\n",
    "    (stats_df.base_mrr==stats_df.aug_mrr)\n",
    "]"
   ]
  },
  {
   "cell_type": "code",
   "execution_count": 36,
   "metadata": {},
   "outputs": [
    {
     "data": {
      "image/png": "[encoded data removed]",
      "text/plain": [
       "<Figure size 640x480 with 1 Axes>"
      ]
     },
     "metadata": {},
     "output_type": "display_data"
    },
    {
     "data": {
      "image/png": "[encoded data removed]",
      "text/plain": [
       "<Figure size 640x480 with 1 Axes>"
      ]
     },
     "metadata": {},
     "output_type": "display_data"
    }
   ],
   "source": [
    "\n",
    "plt.title('Target distance from BASE embedding_space center')\n",
    "plt.hist(np.linalg.norm(base_items_embeddings[aug_df.target_number.values]-base_emb_center, axis=1), \n",
    "         bins=100, density=True, label='aug')\n",
    "\n",
    "plt.hist(np.linalg.norm(base_items_embeddings[base_df.target_number.values]-base_emb_center, axis=1),  \n",
    "         bins=100, alpha=0.6, density=True, label='base')\n",
    "plt.hist(np.linalg.norm(base_items_embeddings[equal_df.target_number.values]-base_emb_center, axis=1), \n",
    "         bins=100, alpha=0.5, density=True, label='equal')\n",
    "plt.legend()\n",
    "plt.show()\n",
    "\n",
    "\n",
    "\n",
    "plt.title('Target distance from AUGMENTED embedding_space center')\n",
    "plt.hist(np.linalg.norm(aug_items_embeddings[aug_df.target_number.values]-aug_emb_center, axis=1), \n",
    "         bins=100, density=True, label='aug')\n",
    "\n",
    "plt.hist(np.linalg.norm(aug_items_embeddings[base_df.target_number.values]-aug_emb_center, axis=1),  \n",
    "         bins=100, alpha=0.6, density=True, label='base')\n",
    "plt.hist(np.linalg.norm(aug_items_embeddings[equal_df.target_number.values]-aug_emb_center, axis=1), \n",
    "         bins=100, alpha=0.5, density=True, label='equal')\n",
    "plt.legend()\n",
    "plt.show()\n",
    "\n"
   ]
  },
  {
   "cell_type": "code",
   "execution_count": 120,
   "metadata": {},
   "outputs": [
    {
     "data": {
      "image/png": "[encoded data removed]",
      "text/plain": [
       "<Figure size 640x480 with 1 Axes>"
      ]
     },
     "metadata": {},
     "output_type": "display_data"
    },
    {
     "data": {
      "image/png": "[encoded data removed]",
      "text/plain": [
       "<Figure size 640x480 with 1 Axes>"
      ]
     },
     "metadata": {},
     "output_type": "display_data"
    }
   ],
   "source": [
    "### OLDDDDDDDDDDDDD\n",
    "plt.title('Target distance from BASE embedding_space center')\n",
    "plt.hist(np.linalg.norm(base_items_embeddings[aug_df.target_number.values]-base_emb_center, axis=1), \n",
    "         bins=100, density=True, label='aug')\n",
    "\n",
    "plt.hist(np.linalg.norm(base_items_embeddings[base_df.target_number.values]-base_emb_center, axis=1),  \n",
    "         bins=100, alpha=0.6, density=True, label='base')\n",
    "plt.hist(np.linalg.norm(base_items_embeddings[equal_df.target_number.values]-base_emb_center, axis=1), \n",
    "         bins=100, alpha=0.5, density=True, label='equal')\n",
    "plt.legend()\n",
    "plt.show()\n",
    "\n",
    "\n",
    "\n",
    "plt.title('Target distance from AUGMENTED embedding_space center')\n",
    "plt.hist(np.linalg.norm(aug_items_embeddings[aug_df.target_number.values]-aug_emb_center, axis=1), \n",
    "         bins=100, density=True, label='aug')\n",
    "\n",
    "plt.hist(np.linalg.norm(aug_items_embeddings[base_df.target_number.values]-aug_emb_center, axis=1),  \n",
    "         bins=100, alpha=0.6, density=True, label='base')\n",
    "plt.hist(np.linalg.norm(aug_items_embeddings[equal_df.target_number.values]-aug_emb_center, axis=1), \n",
    "         bins=100, alpha=0.5, density=True, label='equal')\n",
    "plt.legend()\n",
    "plt.show()\n",
    "\n"
   ]
  },
  {
   "cell_type": "code",
   "execution_count": 37,
   "metadata": {},
   "outputs": [
    {
     "data": {
      "image/png": "[encoded data removed]",
      "text/plain": [
       "<Figure size 640x480 with 1 Axes>"
      ]
     },
     "metadata": {},
     "output_type": "display_data"
    },
    {
     "data": {
      "image/png": "[encoded data removed]",
      "text/plain": [
       "<Figure size 640x480 with 1 Axes>"
      ]
     },
     "metadata": {},
     "output_type": "display_data"
    }
   ],
   "source": [
    "\n",
    "plt.title('Target distance from BASE session center')\n",
    "plt.hist(np.linalg.norm(base_items_embeddings[aug_df.target_number.values]-np.asarray([x for x in aug_df.base_sesssion_emb.values]), \n",
    "                        axis=1), \n",
    "         bins=100, density=True, label='aug')\n",
    "\n",
    "plt.hist(np.linalg.norm(base_items_embeddings[base_df.target_number.values]-np.asarray([x for x in base_df.base_sesssion_emb.values]), axis=1),  \n",
    "         bins=100, alpha=0.6, density=True, label='base')\n",
    "plt.hist(np.linalg.norm(base_items_embeddings[equal_df.target_number.values]-np.asarray([x for x in equal_df.base_sesssion_emb.values]), axis=1), \n",
    "         bins=100, alpha=0.5, density=True, label='equal')\n",
    "plt.legend()\n",
    "plt.show()\n",
    "\n",
    "\n",
    "\n",
    "plt.title('Target distance from AUGMENTED session center')\n",
    "plt.hist(np.linalg.norm(aug_items_embeddings[aug_df.target_number.values]-np.asarray([x for x in aug_df.aug_sesssion_emb.values]), axis=1), \n",
    "         bins=100, density=True, label='aug')\n",
    "\n",
    "plt.hist(np.linalg.norm(aug_items_embeddings[base_df.target_number.values]-np.asarray([x for x in base_df.aug_sesssion_emb.values]), axis=1),  \n",
    "         bins=100, alpha=0.6, density=True, label='base')\n",
    "plt.hist(np.linalg.norm(aug_items_embeddings[equal_df.target_number.values]-np.asarray([x for x in equal_df.aug_sesssion_emb.values]), axis=1), \n",
    "         bins=100, alpha=0.5, density=True, label='equal')\n",
    "plt.legend()\n",
    "plt.show()\n",
    "\n"
   ]
  },
  {
   "cell_type": "code",
   "execution_count": 172,
   "metadata": {},
   "outputs": [
    {
     "data": {
      "image/png": "[encoded data removed]",
      "text/plain": [
       "<Figure size 640x480 with 1 Axes>"
      ]
     },
     "metadata": {},
     "output_type": "display_data"
    },
    {
     "data": {
      "image/png": "[encoded data removed]",
      "text/plain": [
       "<Figure size 640x480 with 1 Axes>"
      ]
     },
     "metadata": {},
     "output_type": "display_data"
    }
   ],
   "source": [
    "###### OLDDDDDDDDDDDDDDDDDDd\n",
    "plt.title('Target distance from BASE session center')\n",
    "plt.hist(np.linalg.norm(base_items_embeddings[aug_df.target_number.values]-np.asarray([x for x in aug_df.base_sesssion_emb.values]), \n",
    "                        axis=1), \n",
    "         bins=100, density=True, label='aug')\n",
    "\n",
    "plt.hist(np.linalg.norm(base_items_embeddings[base_df.target_number.values]-np.asarray([x for x in base_df.base_sesssion_emb.values]), axis=1),  \n",
    "         bins=100, alpha=0.6, density=True, label='base')\n",
    "plt.hist(np.linalg.norm(base_items_embeddings[equal_df.target_number.values]-np.asarray([x for x in equal_df.base_sesssion_emb.values]), axis=1), \n",
    "         bins=100, alpha=0.5, density=True, label='equal')\n",
    "plt.legend()\n",
    "plt.show()\n",
    "\n",
    "\n",
    "\n",
    "plt.title('Target distance from AUGMENTED session center')\n",
    "plt.hist(np.linalg.norm(aug_items_embeddings[aug_df.target_number.values]-np.asarray([x for x in aug_df.aug_sesssion_emb.values]), axis=1), \n",
    "         bins=100, density=True, label='aug')\n",
    "\n",
    "plt.hist(np.linalg.norm(aug_items_embeddings[base_df.target_number.values]-np.asarray([x for x in base_df.aug_sesssion_emb.values]), axis=1),  \n",
    "         bins=100, alpha=0.6, density=True, label='base')\n",
    "plt.hist(np.linalg.norm(aug_items_embeddings[equal_df.target_number.values]-np.asarray([x for x in equal_df.aug_sesssion_emb.values]), axis=1), \n",
    "         bins=100, alpha=0.5, density=True, label='equal')\n",
    "plt.legend()\n",
    "plt.show()\n",
    "\n"
   ]
  },
  {
   "cell_type": "markdown",
   "metadata": {},
   "source": [
    "#### same but on clusters"
   ]
  },
  {
   "cell_type": "code",
   "execution_count": 66,
   "metadata": {},
   "outputs": [],
   "source": [
    "with open(f\"../datasets/{opt.dataset}/cluster_centers_16_{opt.hiddenSize}_{base_run_id.split('-')[-1]}.txt\", \n",
    "            'rb') as f:\n",
    "      cluster_centers=pickle.load(f)"
   ]
  },
  {
   "cell_type": "code",
   "execution_count": 69,
   "metadata": {},
   "outputs": [],
   "source": [
    "stats_df['cluster_sesssion_emb']=(list(map(lambda ses: np.average(cluster_centers[item_labels[ses]], axis=0) ,test_sessions)))\n",
    "aug_df=stats_df.loc[\n",
    "    (stats_df.base_mrr<stats_df.aug_mrr)\n",
    "]\n",
    "base_df=stats_df.loc[\n",
    "    (stats_df.base_mrr>stats_df.aug_mrr)\n",
    "]\n",
    "equal_df=stats_df.loc[\n",
    "    (stats_df.base_mrr==stats_df.aug_mrr)\n",
    "]"
   ]
  },
  {
   "cell_type": "code",
   "execution_count": 72,
   "metadata": {},
   "outputs": [
    {
     "data": {
      "image/png": "[encoded data removed]",
      "text/plain": [
       "<Figure size 640x480 with 1 Axes>"
      ]
     },
     "metadata": {},
     "output_type": "display_data"
    }
   ],
   "source": [
    "\n",
    "plt.title('TargetCluster distance from Session avg Cluster center')\n",
    "plt.hist(np.linalg.norm(cluster_centers[item_labels[aug_df.target_number.values]]-np.asarray([x for x in aug_df.cluster_sesssion_emb.values]), \n",
    "                        axis=1), \n",
    "         bins=100, density=True, label='aug')\n",
    "\n",
    "plt.hist(np.linalg.norm(cluster_centers[item_labels[base_df.target_number.values]]-np.asarray([x for x in base_df.cluster_sesssion_emb.values]), axis=1),  \n",
    "         bins=100, alpha=0.6, density=True, label='base')\n",
    "plt.hist(np.linalg.norm(cluster_centers[item_labels[equal_df.target_number.values]]-np.asarray([x for x in equal_df.cluster_sesssion_emb.values]), axis=1), \n",
    "         bins=100, alpha=0.5, density=True, label='equal')\n",
    "plt.legend()\n",
    "plt.ylim(0, 5)\n",
    "plt.show()"
   ]
  },
  {
   "cell_type": "markdown",
   "metadata": {},
   "source": [
    "##### plot & compare embeddings"
   ]
  },
  {
   "cell_type": "code",
   "execution_count": 75,
   "metadata": {},
   "outputs": [],
   "source": []
  },
  {
   "cell_type": "code",
   "execution_count": 76,
   "metadata": {},
   "outputs": [],
   "source": [
    "tsne=TSNE(2, init='random', early_exaggeration=32)\n",
    "tsne_items_embeddings=tsne.fit_transform(aug_items_embeddings)\n",
    "\n",
    "fig = go.Figure()\n",
    "\n",
    "for label in np.unique(item_labels):\n",
    "    label_embedding=tsne_items_embeddings[item_labels==label]\n",
    "    fig.add_trace(go.Scatter(x=label_embedding[:,0], y=label_embedding[:,1], name=str(label), mode='markers'))\n",
    "\n",
    "fig.update_layout(title='TSNE reduced items embeddings from model with augmented adjacency matrix',\n",
    "                  margin=dict(l=40, r=40, t=40, b=40),\n",
    "                  width=1000, height=800)\n",
    "fig.write_html(f'./images/items_AUGMATRIX_tsne{tsne.init}_{opt.dataset}_{opt.hiddenSize}_{base_run_id.split(\"-\")[-1]}_{aug_run_id.split(\"-\")[-1]}.html')\n",
    "del fig\n",
    "#fig.show()"
   ]
  },
  {
   "cell_type": "code",
   "execution_count": 77,
   "metadata": {},
   "outputs": [],
   "source": [
    "tsne=TSNE(2, init='random', early_exaggeration=32)\n",
    "tsne_items_embeddings=tsne.fit_transform(base_items_embeddings)\n",
    "\n",
    "\n",
    "fig = go.Figure()\n",
    "\n",
    "for label in np.unique(item_labels):\n",
    "    label_embedding=tsne_items_embeddings[item_labels==label]\n",
    "    fig.add_trace(go.Scatter(x=label_embedding[:,0], y=label_embedding[:,1], name=str(label), mode='markers'))\n",
    "\n",
    "fig.update_layout(title='TSNE reduced items embeddings from model with augmented adjacency matrix',\n",
    "                  margin=dict(l=40, r=40, t=40, b=40),\n",
    "                  width=1000, height=800)\n",
    "fig.write_html(f'./images/items_BASE_tsne{tsne.init}_{opt.dataset}_{opt.hiddenSize}_{base_run_id.split(\"-\")[-1]}_{aug_run_id.split(\"-\")[-1]}.html')\n",
    "del fig\n",
    "#fig.show()"
   ]
  },
  {
   "cell_type": "markdown",
   "metadata": {},
   "source": [
    "#### Categories"
   ]
  },
  {
   "cell_type": "code",
   "execution_count": 78,
   "metadata": {},
   "outputs": [
    {
     "data": {
      "image/png": "[encoded data removed]",
      "text/plain": [
       "<Figure size 640x480 with 1 Axes>"
      ]
     },
     "metadata": {},
     "output_type": "display_data"
    }
   ],
   "source": [
    "\n",
    "plt.title('no. categories in session')\n",
    "plt.hist(aug_df.no_categories.values, bins=np.arange(stop=stats_df.no_categories.nunique(), start=1), density=True, label='aug')\n",
    "plt.hist(base_df.no_categories.values, bins=np.arange(stop=stats_df.no_categories.nunique(), start=1), alpha=0.5, density=True, label='base')\n",
    "plt.hist(equal_df.no_categories.values, bins=np.arange(stop=stats_df.no_categories.nunique(), start=1), alpha=0.5, density=True, label='base')\n",
    "plt.legend()\n",
    "plt.show()"
   ]
  },
  {
   "cell_type": "code",
   "execution_count": 81,
   "metadata": {},
   "outputs": [
    {
     "data": {
      "image/png": "[encoded data removed]",
      "text/plain": [
       "<Figure size 640x480 with 1 Axes>"
      ]
     },
     "metadata": {},
     "output_type": "display_data"
    }
   ],
   "source": [
    "plt.bar([1,2,3,4], height=[\n",
    "    sum(aug_df.target_category_in_ses),\n",
    "    sum(~aug_df.target_category_in_ses),\n",
    "    sum(base_df.target_category_in_ses),\n",
    "    sum(~base_df.target_category_in_ses)\n",
    "], label=['AUG target cat in sesssion', 'AUG opposite', 'BASE target cat in sesssion', 'BASE opposite'],\n",
    "color=['green', 'blue', 'lightgreen', 'lightblue'])\n",
    "plt.legend()\n",
    "plt.show()"
   ]
  },
  {
   "cell_type": "markdown",
   "metadata": {},
   "source": [
    "## train tsne"
   ]
  },
  {
   "cell_type": "code",
   "execution_count": 23,
   "metadata": {},
   "outputs": [
    {
     "name": "stdout",
     "output_type": "stream",
     "text": [
      "[t-SNE] Computing 91 nearest neighbors...\n",
      "[t-SNE] Indexed 43098 samples in 0.003s...\n",
      "[t-SNE] Computed neighbors for 43098 samples in 2.110s...\n",
      "[t-SNE] Computed conditional probabilities for sample 1000 / 43098\n",
      "[t-SNE] Computed conditional probabilities for sample 2000 / 43098\n",
      "[t-SNE] Computed conditional probabilities for sample 3000 / 43098\n",
      "[t-SNE] Computed conditional probabilities for sample 4000 / 43098\n",
      "[t-SNE] Computed conditional probabilities for sample 5000 / 43098\n",
      "[t-SNE] Computed conditional probabilities for sample 6000 / 43098\n",
      "[t-SNE] Computed conditional probabilities for sample 7000 / 43098\n",
      "[t-SNE] Computed conditional probabilities for sample 8000 / 43098\n",
      "[t-SNE] Computed conditional probabilities for sample 9000 / 43098\n",
      "[t-SNE] Computed conditional probabilities for sample 10000 / 43098\n",
      "[t-SNE] Computed conditional probabilities for sample 11000 / 43098\n",
      "[t-SNE] Computed conditional probabilities for sample 12000 / 43098\n",
      "[t-SNE] Computed conditional probabilities for sample 13000 / 43098\n",
      "[t-SNE] Computed conditional probabilities for sample 14000 / 43098\n",
      "[t-SNE] Computed conditional probabilities for sample 15000 / 43098\n",
      "[t-SNE] Computed conditional probabilities for sample 16000 / 43098\n",
      "[t-SNE] Computed conditional probabilities for sample 17000 / 43098\n",
      "[t-SNE] Computed conditional probabilities for sample 18000 / 43098\n",
      "[t-SNE] Computed conditional probabilities for sample 19000 / 43098\n",
      "[t-SNE] Computed conditional probabilities for sample 20000 / 43098\n",
      "[t-SNE] Computed conditional probabilities for sample 21000 / 43098\n",
      "[t-SNE] Computed conditional probabilities for sample 22000 / 43098\n",
      "[t-SNE] Computed conditional probabilities for sample 23000 / 43098\n",
      "[t-SNE] Computed conditional probabilities for sample 24000 / 43098\n",
      "[t-SNE] Computed conditional probabilities for sample 25000 / 43098\n",
      "[t-SNE] Computed conditional probabilities for sample 26000 / 43098\n",
      "[t-SNE] Computed conditional probabilities for sample 27000 / 43098\n",
      "[t-SNE] Computed conditional probabilities for sample 28000 / 43098\n",
      "[t-SNE] Computed conditional probabilities for sample 29000 / 43098\n",
      "[t-SNE] Computed conditional probabilities for sample 30000 / 43098\n",
      "[t-SNE] Computed conditional probabilities for sample 31000 / 43098\n",
      "[t-SNE] Computed conditional probabilities for sample 32000 / 43098\n",
      "[t-SNE] Computed conditional probabilities for sample 33000 / 43098\n",
      "[t-SNE] Computed conditional probabilities for sample 34000 / 43098\n",
      "[t-SNE] Computed conditional probabilities for sample 35000 / 43098\n",
      "[t-SNE] Computed conditional probabilities for sample 36000 / 43098\n",
      "[t-SNE] Computed conditional probabilities for sample 37000 / 43098\n",
      "[t-SNE] Computed conditional probabilities for sample 38000 / 43098\n",
      "[t-SNE] Computed conditional probabilities for sample 39000 / 43098\n",
      "[t-SNE] Computed conditional probabilities for sample 40000 / 43098\n",
      "[t-SNE] Computed conditional probabilities for sample 41000 / 43098\n",
      "[t-SNE] Computed conditional probabilities for sample 42000 / 43098\n",
      "[t-SNE] Computed conditional probabilities for sample 43000 / 43098\n",
      "[t-SNE] Computed conditional probabilities for sample 43098 / 43098\n",
      "[t-SNE] Mean sigma: 0.245707\n",
      "[t-SNE] KL divergence after 250 iterations with early exaggeration: 329.237915\n",
      "[t-SNE] KL divergence after 1000 iterations: 2.946004\n"
     ]
    }
   ],
   "source": [
    "tsne=TSNE(2, init='random', early_exaggeration=32, verbose=1)\n",
    "base_tsne_items_embeddings=tsne.fit_transform(base_items_embeddings)"
   ]
  },
  {
   "cell_type": "code",
   "execution_count": null,
   "metadata": {},
   "outputs": [],
   "source": [
    "tsne=TSNE(2, init='random', early_exaggeration=32, verbose=1)\n",
    "aug_tsne_items_embeddings=tsne.fit_transform(aug_items_embeddings)"
   ]
  },
  {
   "cell_type": "markdown",
   "metadata": {},
   "source": [
    "## visualize single session"
   ]
  },
  {
   "cell_type": "code",
   "execution_count": null,
   "metadata": {},
   "outputs": [
    {
     "data": {
      "text/plain": [
       "('base', 7.861786, 'aug', 10.256786)"
      ]
     },
     "execution_count": 109,
     "metadata": {},
     "output_type": "execute_result"
    }
   ],
   "source": [
    "'base', np.linalg.norm(base_items_embeddings.max(axis=0)-base_items_embeddings.min(axis=0)), 'aug', np.linalg.norm(aug_items_embeddings.max(axis=0)-aug_items_embeddings.min(axis=0))"
   ]
  },
  {
   "cell_type": "code",
   "execution_count": null,
   "metadata": {},
   "outputs": [],
   "source": []
  },
  {
   "cell_type": "code",
   "execution_count": 24,
   "metadata": {},
   "outputs": [],
   "source": [
    "import plotly.express as px\n",
    "import plotly.graph_objects as go\n",
    "\n",
    "colors=px.colors.qualitative.Plotly"
   ]
  },
  {
   "cell_type": "code",
   "execution_count": 88,
   "metadata": {},
   "outputs": [
    {
     "name": "stdout",
     "output_type": "stream",
     "text": [
      "{'dataset': 'diginetica', 'batchSize': 100, 'hiddenSize': 100, 'epoch': 30, 'lr': 0.001, 'lr_dc': 0.1, 'lr_dc_step': 2, 'l2': 1e-05, 'step': 2, 'patience': 5, 'nonhybrid': False, 'validation': True, 'valid_portion': 0.1, 'pretrained_embedings': False, 'unfreeze_epoch': 0, 'gmm': True, 'augment_matrix': False, 'augment_clusters': False, 'augment_old_run_id': None, 'augment_clip': 0, 'augment_normalize': False, 'augment_raw': False, 'weight_init': 'normal', 'augment_categories': False, 'augment_nogmm': 16, 'augment_p': 1.0, 'augment_mean': 0.01, 'augment_std': 0.0, 'augment_gmm_init': 'k-means++', 'augment_prenormalize_distances': False, 'augment_noise_p': 1, 'augment_alg': 'gmm', 'gmm_covariance_type': 'full', 'gmm_tol': 0.001}\n",
      "data masking start\n"
     ]
    },
    {
     "name": "stderr",
     "output_type": "stream",
     "text": [
      "100%|██████████| 64/64 [00:00<00:00, 419.30it/s]"
     ]
    },
    {
     "name": "stdout",
     "output_type": "stream",
     "text": [
      "done masking\n"
     ]
    },
    {
     "name": "stderr",
     "output_type": "stream",
     "text": [
      "\n"
     ]
    }
   ],
   "source": [
    "aug_opt.augment_noise_p=0.5\n",
    "aug_opt.augment_p=1\n",
    "aug_dataset=get_dataset(aug_opt, test_data, shuffle=False)"
   ]
  },
  {
   "cell_type": "code",
   "execution_count": 27,
   "metadata": {},
   "outputs": [
    {
     "data": {
      "text/plain": [
       "(26.989056492162085, 27.41956686056065)"
      ]
     },
     "execution_count": 27,
     "metadata": {},
     "output_type": "execute_result"
    }
   ],
   "source": [
    "base_hit5=stats_df.base_mrr>=0.2\n",
    "aug_hit5=stats_df.aug_mrr>=0.2\n",
    "100*np.average(base_hit5), 100*np.average(aug_hit5)"
   ]
  },
  {
   "cell_type": "code",
   "execution_count": 77,
   "metadata": {},
   "outputs": [],
   "source": [
    "idx=np.random.choice(rep_df.loc[(rep_df.aug_mrr>rep_df.base_mrr)\n",
    "           &(rep_df.no_categories>1)].index)"
   ]
  },
  {
   "cell_type": "code",
   "execution_count": 28,
   "metadata": {},
   "outputs": [
    {
     "data": {
      "text/plain": [
       "(27278,\n",
       " 0.20000000298023224,\n",
       " 1.0,\n",
       " [1708, 9040, 1708, 16172, 1708, 28275, 9040, 4960, 19859, 4951],\n",
       " 19859)"
      ]
     },
     "execution_count": 28,
     "metadata": {},
     "output_type": "execute_result"
    }
   ],
   "source": [
    "#idx=12906\n",
    "idx=27278\n",
    "#idx=34098\n",
    "seqence=test_sessions[idx]\n",
    "target=test_targets[idx]\n",
    "r=rep_df.loc[idx]\n",
    "idx, r.base_mrr, r.aug_mrr, seqence, target"
   ]
  },
  {
   "cell_type": "code",
   "execution_count": 33,
   "metadata": {},
   "outputs": [
    {
     "data": {
      "text/plain": [
       "array([[1, 4, 1, 5, 1, 7, 4, 3, 6, 2, 0]])"
      ]
     },
     "execution_count": 33,
     "metadata": {},
     "output_type": "execute_result"
    }
   ],
   "source": [
    "test_dataset[[idx]][0]"
   ]
  },
  {
   "cell_type": "code",
   "execution_count": 80,
   "metadata": {},
   "outputs": [
    {
     "name": "stdout",
     "output_type": "stream",
     "text": [
      "&0&0&0&0.015&0&0.011&0.016&-0.008&0.027&0&0.014&0.026&0\\\\ \\hline\n",
      "&0.018&-0.003&0.012&0&0&0&\\textbf{1.031}&0.027&0.019&0&0&0&0.016\\\\ \\hline\n",
      "&0&0.016&0&0&0.001&-0.012&0&0.012&0&0&\\textbf{1.019}&0&0.033\\\\ \\hline\n",
      "&0&0.024&0&0&0&\\textbf{0.499}&0&-0.001&0&0&0.007&0.002&\\textbf{0.506}\\\\ \\hline\n",
      "&0.007&0&0.016&0.021&0.003&-0.003&0&0&0&0&0&0.005&0\\\\ \\hline\n",
      "&0.001&0.003&0&0&0&0.007&0.023&\\textbf{1.0}&0.012&0&0.01&-0.006&0\\\\ \\hline\n",
      "&0.023&0&0&0&0.011&0&0.003&0.003&0&0&0&\\textbf{1.004}&0\\\\ \\hline\n",
      "&0&0.003&0&0.003&0.014&0&0.011&0.002&0.014&\\textbf{1.003}&0.011&0.022&0\\\\ \\hline\n",
      "&0&-0.001&0&\\textbf{1.0}&0&0.011&0&0&0&-0.011&0.025&0&0\\\\ \\hline\n",
      "&0&0&0.013&0&0&0&-0.002&0.007&\\textbf{0.995}&-0.008&0.019&0&0\\\\ \\hline\n",
      "&0&\\textbf{1.0}&0&0.018&0&0.016&0&0.034&0.026&0.001&0&0&0\\\\ \\hline\n",
      "&0.018&0.008&0.023&\\textbf{1.0}&0.002&0&0&0&0.016&0.012&0&0.006&0.031\\\\ \\hline\n",
      "&-0.014&0&0&0&\\textbf{1.0}&0.02&0.017&0.031&0.025&0.005&0.009&0.01&0\\\\ \\hline\n",
      "\n"
     ]
    }
   ],
   "source": [
    "a=(np.round(aug_dataset[[idx,idx]][1], decimals=3)[0])\n",
    "s=''\n",
    "for i in a:\n",
    "    s+='&'+'&'.join(['\\\\textbf{'+str(j)+'}' if j>0.2 else (str(j) if j!=int(j) else str(int(j))) for j in i[len(i)//2:] ])+'\\\\\\\\ \\\\hline'+'\\n'\n",
    "print(s)"
   ]
  },
  {
   "cell_type": "code",
   "execution_count": 111,
   "metadata": {},
   "outputs": [
    {
     "name": "stdout",
     "output_type": "stream",
     "text": [
      "0&0&0&0&0&0&0&0&0\\\\ \\hline\n",
      "1&0&0&0&0&\\textbf{0.333}&\\textbf{0.333}&0&\\textbf{0.333}\\\\ \\hline\n",
      "2&0&0&0&0&0&0&0&0\\\\ \\hline\n",
      "3&0&0&0&0&0&0&\\textbf{1.0}&0\\\\ \\hline\n",
      "4&0&\\textbf{0.5}&0&\\textbf{0.5}&0&0&0&0\\\\ \\hline\n",
      "5&0&\\textbf{1.0}&0&0&0&0&0&0\\\\ \\hline\n",
      "6&0&0&\\textbf{1.0}&0&0&0&0&0\\\\ \\hline\n",
      "7&0&0&0&0&\\textbf{1.0}&0&0&0\\\\ \\hline\n",
      "\n"
     ]
    }
   ],
   "source": [
    "a=(np.round(test_dataset[[idx, idx]][1], decimals=3)[0])\n",
    "s=''\n",
    "for k, i in enumerate(a):\n",
    "    s+=f'{k}&'+'&'.join(['\\\\textbf{'+str(j)+'}' if j>0.2 else (str(j) if j!=int(j) else str(int(j))) for j in i[len(i)//2:] ])+'\\\\\\\\ \\\\hline'+'\\n'\n",
    "print(s)"
   ]
  },
  {
   "cell_type": "code",
   "execution_count": 107,
   "metadata": {},
   "outputs": [
    {
     "name": "stdout",
     "output_type": "stream",
     "text": [
      "1->2 base  1.0781479 aug  1.1431069\n",
      "2->3 base  1.0781479 aug  1.1431069\n",
      "3->4 base  1.2256006 aug  1.4402343\n",
      "4->5 base  1.2256006 aug  1.4402343\n",
      "5->6 base  1.1176201 aug  1.4757541\n",
      "6->7 base  1.2545925 aug  1.3634489\n",
      "7->8 base  1.1886706 aug  1.4369689\n",
      "8->9 base  1.0056984 aug  1.6463287\n",
      "9->10 base  1.0773515 aug  1.5296794\n",
      "last->target base  1.0773515 aug  1.5296794\n"
     ]
    }
   ],
   "source": [
    "l=[]\n",
    "for i in range(1, r.session_len):\n",
    "    print(f'{i}->{i+1}',\n",
    "          'base ',\n",
    "          np.linalg.norm(base_items_embeddings[seqence[i]]-base_items_embeddings[seqence[i-1]]),\n",
    "          'aug ',\n",
    "          np.linalg.norm(aug_items_embeddings[seqence[i]]-aug_items_embeddings[seqence[i-1]]),\n",
    "          )\n",
    "print('last->target',\n",
    "        'base ',\n",
    "      np.linalg.norm(base_items_embeddings[seqence[-1]]-base_items_embeddings[target]),\n",
    "        'aug ',\n",
    "      np.linalg.norm(aug_items_embeddings[seqence[-1]]-aug_items_embeddings[target]),\n",
    "      )"
   ]
  },
  {
   "cell_type": "code",
   "execution_count": 108,
   "metadata": {},
   "outputs": [
    {
     "data": {
      "text/plain": [
       "([1708, 9040, 1708, 16172, 1708, 28275, 9040, 4960, 19859, 4951], 19859)"
      ]
     },
     "execution_count": 108,
     "metadata": {},
     "output_type": "execute_result"
    }
   ],
   "source": [
    "seqence, target"
   ]
  },
  {
   "cell_type": "code",
   "execution_count": 91,
   "metadata": {},
   "outputs": [
    {
     "data": {
      "text/html": [
       "<div>\n",
       "<style scoped>\n",
       "    .dataframe tbody tr th:only-of-type {\n",
       "        vertical-align: middle;\n",
       "    }\n",
       "\n",
       "    .dataframe tbody tr th {\n",
       "        vertical-align: top;\n",
       "    }\n",
       "\n",
       "    .dataframe thead th {\n",
       "        text-align: right;\n",
       "    }\n",
       "</style>\n",
       "<table border=\"1\" class=\"dataframe\">\n",
       "  <thead>\n",
       "    <tr style=\"text-align: right;\">\n",
       "      <th></th>\n",
       "      <th>item_id</th>\n",
       "      <th>pricelog2</th>\n",
       "      <th>product.name.tokens</th>\n",
       "      <th>category</th>\n",
       "      <th>item_number</th>\n",
       "      <th>frequency</th>\n",
       "      <th>item_cluster</th>\n",
       "    </tr>\n",
       "  </thead>\n",
       "  <tbody>\n",
       "    <tr>\n",
       "      <th>3054</th>\n",
       "      <td>8144</td>\n",
       "      <td>9</td>\n",
       "      <td>4875,3741,28012,4531,4531</td>\n",
       "      <td>88</td>\n",
       "      <td>1708</td>\n",
       "      <td>74</td>\n",
       "      <td>0</td>\n",
       "    </tr>\n",
       "    <tr>\n",
       "      <th>13576</th>\n",
       "      <td>3024</td>\n",
       "      <td>9</td>\n",
       "      <td>5729,5729,5730,5730,25804</td>\n",
       "      <td>88</td>\n",
       "      <td>16172</td>\n",
       "      <td>120</td>\n",
       "      <td>0</td>\n",
       "    </tr>\n",
       "    <tr>\n",
       "      <th>19428</th>\n",
       "      <td>11269</td>\n",
       "      <td>9</td>\n",
       "      <td>5729,5729,5730,5730,384623</td>\n",
       "      <td>88</td>\n",
       "      <td>4951</td>\n",
       "      <td>138</td>\n",
       "      <td>0</td>\n",
       "    </tr>\n",
       "    <tr>\n",
       "      <th>26747</th>\n",
       "      <td>13026</td>\n",
       "      <td>9</td>\n",
       "      <td>494061,4531,4531,161</td>\n",
       "      <td>88</td>\n",
       "      <td>19859</td>\n",
       "      <td>24</td>\n",
       "      <td>0</td>\n",
       "    </tr>\n",
       "    <tr>\n",
       "      <th>26992</th>\n",
       "      <td>135847</td>\n",
       "      <td>9</td>\n",
       "      <td>6141,236622,28012,4531,4531</td>\n",
       "      <td>88</td>\n",
       "      <td>4960</td>\n",
       "      <td>28</td>\n",
       "      <td>0</td>\n",
       "    </tr>\n",
       "    <tr>\n",
       "      <th>27123</th>\n",
       "      <td>5563</td>\n",
       "      <td>9</td>\n",
       "      <td>495923,4531,4531</td>\n",
       "      <td>88</td>\n",
       "      <td>28275</td>\n",
       "      <td>31</td>\n",
       "      <td>0</td>\n",
       "    </tr>\n",
       "    <tr>\n",
       "      <th>29518</th>\n",
       "      <td>35999</td>\n",
       "      <td>9</td>\n",
       "      <td>505689,538,538</td>\n",
       "      <td>88</td>\n",
       "      <td>9040</td>\n",
       "      <td>75</td>\n",
       "      <td>0</td>\n",
       "    </tr>\n",
       "  </tbody>\n",
       "</table>\n",
       "</div>"
      ],
      "text/plain": [
       "       item_id  pricelog2          product.name.tokens  category  item_number  \\\n",
       "3054      8144          9    4875,3741,28012,4531,4531        88         1708   \n",
       "13576     3024          9    5729,5729,5730,5730,25804        88        16172   \n",
       "19428    11269          9   5729,5729,5730,5730,384623        88         4951   \n",
       "26747    13026          9         494061,4531,4531,161        88        19859   \n",
       "26992   135847          9  6141,236622,28012,4531,4531        88         4960   \n",
       "27123     5563          9             495923,4531,4531        88        28275   \n",
       "29518    35999          9               505689,538,538        88         9040   \n",
       "\n",
       "       frequency  item_cluster  \n",
       "3054          74             0  \n",
       "13576        120             0  \n",
       "19428        138             0  \n",
       "26747         24             0  \n",
       "26992         28             0  \n",
       "27123         31             0  \n",
       "29518         75             0  "
      ]
     },
     "execution_count": 91,
     "metadata": {},
     "output_type": "execute_result"
    }
   ],
   "source": [
    "items_df.loc[items_df.item_number.isin(seqence+[target])]"
   ]
  },
  {
   "cell_type": "code",
   "execution_count": 35,
   "metadata": {},
   "outputs": [],
   "source": [
    "fig = go.Figure()\n",
    "\n",
    "for i, item in enumerate(seqence):#[np.unique(item_labels, return_counts=True)[1]>len(item_labels)/ngmm]:\n",
    "    sequence_embedding=base_tsne_items_embeddings[item] \n",
    "    fig.add_trace(go.Scatter(x=[sequence_embedding[0]], y=[sequence_embedding[1]], \n",
    "                             name=f'item_{i}', mode='markers', \n",
    "                             marker=dict(size=20,\n",
    "                                       #  color=colors[item_labels[item]],\n",
    "                                        line=dict(width=2,\n",
    "                                        color='DarkSlateGrey'))))\n",
    "    \n",
    "fig.add_trace(go.Scatter(x=[base_tsne_items_embeddings[target][0]], y=[base_tsne_items_embeddings[target][1]], \n",
    "                             name=f'target', mode='markers', \n",
    "                            marker=dict(size=30,\n",
    "                                      #color=colors[item_labels[target]],\n",
    "                                        line=dict(width=2,\n",
    "                                        color='DarkSlateGrey'))))\n",
    "\n",
    "sequence_embedding=base_tsne_items_embeddings[seqence]\n",
    "fig.add_trace(go.Scatter(x=sequence_embedding[:, 0], y=sequence_embedding[:, 1], \n",
    "                             name='session', mode='markers+lines', \n",
    "                             marker=dict(symbol=\"arrow\",\n",
    "                                        size=15,\n",
    "                                        angleref=\"previous\",\n",
    "                                        color='Black')\n",
    "                                        ))\n",
    "\n",
    "fig.add_trace(go.Scatter(x=[sequence_embedding[-1, 0], base_tsne_items_embeddings[target][0]],\n",
    "                          y=[sequence_embedding[-1, 1], base_tsne_items_embeddings[target][1]], \n",
    "                             name='prediciton', mode='markers+lines', \n",
    "                             marker=dict(symbol=\"arrow\",\n",
    "                                        size=15,\n",
    "                                        angleref=\"previous\",\n",
    "                                        color='Red')\n",
    "                                        ))\n",
    "    \n",
    "fig.update_layout(title='',\n",
    "                  margin=dict(l=40, r=40, t=40, b=40),\n",
    "                  width=1000, height=800)\n",
    "fig.write_html(f'./images/sequence_BASE_tsne_{tsne.init}_{opt.dataset}_{aug_opt.augment_alg}_{base_run_id.split(\"-\")[-1]}.html')\n",
    "del fig"
   ]
  },
  {
   "cell_type": "code",
   "execution_count": 36,
   "metadata": {},
   "outputs": [
    {
     "ename": "NameError",
     "evalue": "name 'aug_tsne_items_embeddings' is not defined",
     "output_type": "error",
     "traceback": [
      "\u001b[0;31m---------------------------------------------------------------------------\u001b[0m",
      "\u001b[0;31mNameError\u001b[0m                                 Traceback (most recent call last)",
      "Cell \u001b[0;32mIn[36], line 4\u001b[0m\n\u001b[1;32m      1\u001b[0m fig \u001b[38;5;241m=\u001b[39m go\u001b[38;5;241m.\u001b[39mFigure()\n\u001b[1;32m      3\u001b[0m \u001b[38;5;28;01mfor\u001b[39;00m i, item \u001b[38;5;129;01min\u001b[39;00m \u001b[38;5;28menumerate\u001b[39m(seqence):\u001b[38;5;66;03m#[np.unique(item_labels, return_counts=True)[1]>len(item_labels)/ngmm]:\u001b[39;00m\n\u001b[0;32m----> 4\u001b[0m     sequence_embedding\u001b[38;5;241m=\u001b[39m\u001b[43maug_tsne_items_embeddings\u001b[49m[item] \n\u001b[1;32m      5\u001b[0m     fig\u001b[38;5;241m.\u001b[39madd_trace(go\u001b[38;5;241m.\u001b[39mScatter(x\u001b[38;5;241m=\u001b[39m[sequence_embedding[\u001b[38;5;241m0\u001b[39m]], y\u001b[38;5;241m=\u001b[39m[sequence_embedding[\u001b[38;5;241m1\u001b[39m]], \n\u001b[1;32m      6\u001b[0m                              name\u001b[38;5;241m=\u001b[39m\u001b[38;5;124mf\u001b[39m\u001b[38;5;124m'\u001b[39m\u001b[38;5;124mitem_\u001b[39m\u001b[38;5;132;01m{\u001b[39;00mi\u001b[38;5;132;01m}\u001b[39;00m\u001b[38;5;124m'\u001b[39m, mode\u001b[38;5;241m=\u001b[39m\u001b[38;5;124m'\u001b[39m\u001b[38;5;124mmarkers\u001b[39m\u001b[38;5;124m'\u001b[39m, \n\u001b[1;32m      7\u001b[0m                              marker\u001b[38;5;241m=\u001b[39m\u001b[38;5;28mdict\u001b[39m(size\u001b[38;5;241m=\u001b[39m\u001b[38;5;241m20\u001b[39m,\n\u001b[1;32m      8\u001b[0m                                        \u001b[38;5;66;03m#  color=colors[item_labels[item]],\u001b[39;00m\n\u001b[1;32m      9\u001b[0m                                         line\u001b[38;5;241m=\u001b[39m\u001b[38;5;28mdict\u001b[39m(width\u001b[38;5;241m=\u001b[39m\u001b[38;5;241m2\u001b[39m,\n\u001b[1;32m     10\u001b[0m                                         color\u001b[38;5;241m=\u001b[39m\u001b[38;5;124m'\u001b[39m\u001b[38;5;124mDarkSlateGrey\u001b[39m\u001b[38;5;124m'\u001b[39m))))\n\u001b[1;32m     12\u001b[0m fig\u001b[38;5;241m.\u001b[39madd_trace(go\u001b[38;5;241m.\u001b[39mScatter(x\u001b[38;5;241m=\u001b[39m[aug_tsne_items_embeddings[target][\u001b[38;5;241m0\u001b[39m]], y\u001b[38;5;241m=\u001b[39m[aug_tsne_items_embeddings[target][\u001b[38;5;241m1\u001b[39m]], \n\u001b[1;32m     13\u001b[0m                              name\u001b[38;5;241m=\u001b[39m\u001b[38;5;124mf\u001b[39m\u001b[38;5;124m'\u001b[39m\u001b[38;5;124mtarget\u001b[39m\u001b[38;5;124m'\u001b[39m, mode\u001b[38;5;241m=\u001b[39m\u001b[38;5;124m'\u001b[39m\u001b[38;5;124mmarkers\u001b[39m\u001b[38;5;124m'\u001b[39m, \n\u001b[1;32m     14\u001b[0m                             marker\u001b[38;5;241m=\u001b[39m\u001b[38;5;28mdict\u001b[39m(size\u001b[38;5;241m=\u001b[39m\u001b[38;5;241m30\u001b[39m,\n\u001b[1;32m     15\u001b[0m                                       \u001b[38;5;66;03m#color=colors[item_labels[target]],\u001b[39;00m\n\u001b[1;32m     16\u001b[0m                                         line\u001b[38;5;241m=\u001b[39m\u001b[38;5;28mdict\u001b[39m(width\u001b[38;5;241m=\u001b[39m\u001b[38;5;241m2\u001b[39m,\n\u001b[1;32m     17\u001b[0m                                         color\u001b[38;5;241m=\u001b[39m\u001b[38;5;124m'\u001b[39m\u001b[38;5;124mDarkSlateGrey\u001b[39m\u001b[38;5;124m'\u001b[39m))))\n",
      "\u001b[0;31mNameError\u001b[0m: name 'aug_tsne_items_embeddings' is not defined"
     ]
    }
   ],
   "source": [
    "fig = go.Figure()\n",
    "\n",
    "for i, item in enumerate(seqence):#[np.unique(item_labels, return_counts=True)[1]>len(item_labels)/ngmm]:\n",
    "    sequence_embedding=aug_tsne_items_embeddings[item] \n",
    "    fig.add_trace(go.Scatter(x=[sequence_embedding[0]], y=[sequence_embedding[1]], \n",
    "                             name=f'item_{i}', mode='markers', \n",
    "                             marker=dict(size=20,\n",
    "                                       #  color=colors[item_labels[item]],\n",
    "                                        line=dict(width=2,\n",
    "                                        color='DarkSlateGrey'))))\n",
    "    \n",
    "fig.add_trace(go.Scatter(x=[aug_tsne_items_embeddings[target][0]], y=[aug_tsne_items_embeddings[target][1]], \n",
    "                             name=f'target', mode='markers', \n",
    "                            marker=dict(size=30,\n",
    "                                      #color=colors[item_labels[target]],\n",
    "                                        line=dict(width=2,\n",
    "                                        color='DarkSlateGrey'))))\n",
    "\n",
    "sequence_embedding=aug_tsne_items_embeddings[seqence]\n",
    "fig.add_trace(go.Scatter(x=sequence_embedding[:, 0], y=sequence_embedding[:, 1], \n",
    "                             name='session', mode='markers+lines', \n",
    "                             marker=dict(symbol=\"arrow\",\n",
    "                                        size=15,\n",
    "                                        angleref=\"previous\",\n",
    "                                        color='Black')\n",
    "                                        ))\n",
    "\n",
    "fig.add_trace(go.Scatter(x=[sequence_embedding[-1, 0], aug_tsne_items_embeddings[target][0]],\n",
    "                          y=[sequence_embedding[-1, 1], aug_tsne_items_embeddings[target][1]], \n",
    "                             name='prediciton', mode='markers+lines', \n",
    "                             marker=dict(symbol=\"arrow\",\n",
    "                                        size=15,\n",
    "                                        angleref=\"previous\",\n",
    "                                        color='Red')\n",
    "                                        ))\n",
    "    \n",
    "fig.update_layout(title='',\n",
    "                  margin=dict(l=40, r=40, t=40, b=40),\n",
    "                  width=1000, height=800)\n",
    "fig.write_html(f'./images/sequence_AUG_tsne_{tsne.init}_{opt.dataset}_{aug_opt.augment_alg}_{aug_run_id.split(\"-\")[-1]}.html')\n",
    "del fig"
   ]
  },
  {
   "cell_type": "code",
   "execution_count": 37,
   "metadata": {},
   "outputs": [
    {
     "data": {
      "text/plain": [
       "base_mrr                     0.2\n",
       "base_hit                     1.0\n",
       "aug_mrr                      1.0\n",
       "aug_hit                      1.0\n",
       "session_id                133163\n",
       "target_number              19859\n",
       "session_len                   10\n",
       "repetitions_in_session      True\n",
       "target_category               88\n",
       "categories                  {88}\n",
       "target_category_in_ses      True\n",
       "no_categories                  1\n",
       "Name: 27278, dtype: object"
      ]
     },
     "execution_count": 37,
     "metadata": {},
     "output_type": "execute_result"
    }
   ],
   "source": [
    "r"
   ]
  },
  {
   "cell_type": "code",
   "execution_count": 38,
   "metadata": {},
   "outputs": [
    {
     "data": {
      "text/html": [
       "<div>\n",
       "<style scoped>\n",
       "    .dataframe tbody tr th:only-of-type {\n",
       "        vertical-align: middle;\n",
       "    }\n",
       "\n",
       "    .dataframe tbody tr th {\n",
       "        vertical-align: top;\n",
       "    }\n",
       "\n",
       "    .dataframe thead th {\n",
       "        text-align: right;\n",
       "    }\n",
       "</style>\n",
       "<table border=\"1\" class=\"dataframe\">\n",
       "  <thead>\n",
       "    <tr style=\"text-align: right;\">\n",
       "      <th></th>\n",
       "      <th>queryId</th>\n",
       "      <th>session_id</th>\n",
       "      <th>userId</th>\n",
       "      <th>timeframe</th>\n",
       "      <th>duration</th>\n",
       "      <th>eventdate</th>\n",
       "      <th>searchstring.tokens</th>\n",
       "      <th>category</th>\n",
       "      <th>items</th>\n",
       "    </tr>\n",
       "  </thead>\n",
       "  <tbody>\n",
       "    <tr>\n",
       "      <th>5550</th>\n",
       "      <td>157797</td>\n",
       "      <td>133163</td>\n",
       "      <td>NaN</td>\n",
       "      <td>0</td>\n",
       "      <td>1061</td>\n",
       "      <td>2016-05-29</td>\n",
       "      <td>NaN</td>\n",
       "      <td>88</td>\n",
       "      <td>50,30267,30327,30507,20952,543,30541,21053,306...</td>\n",
       "    </tr>\n",
       "  </tbody>\n",
       "</table>\n",
       "</div>"
      ],
      "text/plain": [
       "      queryId  session_id  userId  timeframe  duration   eventdate  \\\n",
       "5550   157797      133163     NaN          0      1061  2016-05-29   \n",
       "\n",
       "     searchstring.tokens  category  \\\n",
       "5550                 NaN        88   \n",
       "\n",
       "                                                  items  \n",
       "5550  50,30267,30327,30507,20952,543,30541,21053,306...  "
      ]
     },
     "execution_count": 38,
     "metadata": {},
     "output_type": "execute_result"
    }
   ],
   "source": [
    "sess_df.loc[sess_df.session_id==133163]"
   ]
  },
  {
   "cell_type": "markdown",
   "metadata": {},
   "source": [
    "### compare recommendations between all approaches"
   ]
  },
  {
   "cell_type": "code",
   "execution_count": 64,
   "metadata": {},
   "outputs": [
    {
     "name": "stdout",
     "output_type": "stream",
     "text": [
      "{'dataset': 'diginetica', 'batchSize': 100, 'hiddenSize': 100, 'epoch': 30, 'lr': 0.001, 'lr_dc': 0.1, 'lr_dc_step': 2, 'lr_scheduler': 'step', 'lr_milestones': ([2, 5, 8],), 'l2': 1e-05, 'step': 2, 'patience': 5, 'nonhybrid': False, 'validation': True, 'valid_portion': 0.1, 'pretrained_embedings': False, 'unfreeze_epoch': 0, 'gmm': True, 'augment_matrix': False, 'augment_clusters': False, 'augment_old_run_id': None, 'augment_clip': 0, 'augment_normalize': False, 'augment_raw': False, 'weight_init': 'normal', 'augment_categories': False, 'augment_nogmm': 16, 'augment_p': 1.0, 'augment_mean': 0.01, 'augment_std': 0.0, 'augment_gmm_init': 'k-means++', 'augment_prenormalize_distances': False, 'augment_noise_p': 1, 'augment_alg': 'gmm', 'gmm_covariance_type': 'full', 'gmm_tol': 0.001}\n",
      "{'dataset': 'diginetica', 'batchSize': 100, 'hiddenSize': 100, 'epoch': 30, 'lr': 0.001, 'lr_dc': 0.1, 'lr_dc_step': 2, 'lr_scheduler': 'step', 'lr_milestones': ([2, 5, 8],), 'l2': 1e-06, 'step': 2, 'patience': 4, 'nonhybrid': False, 'validation': True, 'valid_portion': 0.1, 'pretrained_embedings': False, 'unfreeze_epoch': 0, 'gmm': [], 'augment_matrix': True, 'augment_clusters': False, 'augment_old_run_id': 'jxgwsuta', 'augment_clip': 0, 'augment_normalize': True, 'augment_raw': False, 'weight_init': 'normal', 'augment_categories': False, 'augment_nogmm': 16, 'augment_p': 0.5, 'augment_mean': 0.01, 'augment_std': 0.01, 'augment_gmm_init': 'k-means++', 'augment_prenormalize_distances': False, 'augment_noise_p': 0.5, 'augment_alg': 'raw', 'gmm_covariance_type': 'full', 'gmm_tol': 0.001}\n",
      "{'dataset': 'diginetica', 'batchSize': 100, 'hiddenSize': 100, 'epoch': 30, 'lr': 0.001, 'lr_dc': 0.1, 'lr_dc_step': 2, 'lr_scheduler': 'step', 'lr_milestones': ([2, 5, 8],), 'l2': 1e-06, 'step': 2, 'patience': 4, 'nonhybrid': False, 'validation': True, 'valid_portion': 0.1, 'pretrained_embedings': False, 'unfreeze_epoch': 0, 'gmm': [], 'augment_matrix': True, 'augment_clusters': False, 'augment_old_run_id': 'jxgwsuta', 'augment_clip': 0, 'augment_normalize': True, 'augment_raw': False, 'weight_init': 'normal', 'augment_categories': False, 'augment_nogmm': 16, 'augment_p': 0.5, 'augment_mean': 0.01, 'augment_std': 0.01, 'augment_gmm_init': 'k-means++', 'augment_prenormalize_distances': False, 'augment_noise_p': 0.5, 'augment_alg': 'categories', 'gmm_covariance_type': 'full', 'gmm_tol': 0.001}\n",
      "{'dataset': 'diginetica', 'batchSize': 100, 'hiddenSize': 100, 'epoch': 30, 'lr': 0.001, 'lr_dc': 0.1, 'lr_dc_step': 2, 'lr_scheduler': 'step', 'lr_milestones': ([2, 5, 8],), 'l2': 1e-06, 'step': 2, 'patience': 4, 'nonhybrid': False, 'validation': True, 'valid_portion': 0.1, 'pretrained_embedings': False, 'unfreeze_epoch': 0, 'gmm': [], 'augment_matrix': True, 'augment_clusters': False, 'augment_old_run_id': 'jxgwsuta', 'augment_clip': 0, 'augment_normalize': True, 'augment_raw': False, 'weight_init': 'normal', 'augment_categories': False, 'augment_nogmm': 8, 'augment_p': 0.5, 'augment_mean': 0.01, 'augment_std': 0.01, 'augment_gmm_init': 'k-means++', 'augment_prenormalize_distances': False, 'augment_noise_p': 0.5, 'augment_alg': 'gmm', 'gmm_covariance_type': 'full', 'gmm_tol': 0.001}\n",
      "{'dataset': 'diginetica', 'batchSize': 100, 'hiddenSize': 100, 'epoch': 30, 'lr': 0.001, 'lr_dc': 0.1, 'lr_dc_step': 2, 'lr_scheduler': 'step', 'lr_milestones': ([2, 5, 8],), 'l2': 1e-06, 'step': 2, 'patience': 4, 'nonhybrid': False, 'validation': True, 'valid_portion': 0.1, 'pretrained_embedings': False, 'unfreeze_epoch': 0, 'gmm': [], 'augment_matrix': True, 'augment_clusters': False, 'augment_old_run_id': 'jxgwsuta', 'augment_clip': 0, 'augment_normalize': True, 'augment_raw': False, 'weight_init': 'normal', 'augment_categories': False, 'augment_nogmm': 8, 'augment_p': 0.5, 'augment_mean': 0.01, 'augment_std': 0.01, 'augment_gmm_init': 'k-means++', 'augment_prenormalize_distances': False, 'augment_noise_p': 0.5, 'augment_alg': 'kmeans', 'gmm_covariance_type': 'full', 'gmm_tol': 0.001}\n"
     ]
    }
   ],
   "source": [
    "base_run_id='jxgwsuta' # diginetica\n",
    "#base_run_id='run-20240422_103727-ex2zwqx6' # yoochoose1/4\n",
    "base_model,opt=load_model(base_run_id)\n",
    "\n",
    "i2i_run_id='8llxhkxm'\n",
    "i2i_model,i2i_opt=load_model(i2i_run_id) # diginetica\n",
    "\n",
    "cat_run_id='op22qkq4'\n",
    "cat_model,cat_opt=load_model(cat_run_id) # diginetica\n",
    "\n",
    "gmm_run_id='7jkmaij6'\n",
    "gmm_model,gmm_opt=load_model(gmm_run_id) # diginetica\n",
    "\n",
    "kmeans_run_id='6i71w436'\n",
    "kmeans_model,kmeans_opt=load_model(kmeans_run_id) # diginetica\n"
   ]
  },
  {
   "cell_type": "code",
   "execution_count": 66,
   "metadata": {},
   "outputs": [],
   "source": [
    "base_items_embeddings=get_items_embedding(base_model, torch.arange(items_df.item_number.nunique()+1, device=base_model.device)).cpu().detach().numpy()\n",
    "i2i_items_embeddings=get_items_embedding(i2i_model, torch.arange(items_df.item_number.nunique()+1, device=base_model.device)).cpu().detach().numpy()\n",
    "cat_items_embeddings=get_items_embedding(cat_model, torch.arange(items_df.item_number.nunique()+1, device=base_model.device)).cpu().detach().numpy()\n",
    "gmm_items_embeddings=get_items_embedding(gmm_model, torch.arange(items_df.item_number.nunique()+1, device=base_model.device)).cpu().detach().numpy()\n",
    "kmeans_items_embeddings=get_items_embedding(kmeans_model, torch.arange(items_df.item_number.nunique()+1, device=base_model.device)).cpu().detach().numpy()\n"
   ]
  },
  {
   "cell_type": "code",
   "execution_count": 44,
   "metadata": {},
   "outputs": [],
   "source": [
    "batch=[torch.tensor(a) for a in test_dataset[[idx,idx]]]"
   ]
  },
  {
   "cell_type": "code",
   "execution_count": 71,
   "metadata": {},
   "outputs": [
    {
     "data": {
      "text/plain": [
       "SRGNN_model(\n",
       "  (model): SessionGraph(\n",
       "    (embedding): Embedding(43098, 100)\n",
       "    (gnn): GNN(\n",
       "      (linear_edge_in): Linear(in_features=100, out_features=100, bias=True)\n",
       "      (linear_edge_out): Linear(in_features=100, out_features=100, bias=True)\n",
       "      (linear_edge_f): Linear(in_features=100, out_features=100, bias=True)\n",
       "    )\n",
       "    (linear_one): Linear(in_features=100, out_features=100, bias=True)\n",
       "    (linear_two): Linear(in_features=100, out_features=100, bias=True)\n",
       "    (linear_three): Linear(in_features=100, out_features=1, bias=False)\n",
       "    (linear_transform): Linear(in_features=200, out_features=100, bias=True)\n",
       "    (loss_function): CrossEntropyLoss()\n",
       "  )\n",
       ")"
      ]
     },
     "execution_count": 71,
     "metadata": {},
     "output_type": "execute_result"
    }
   ],
   "source": [
    "base_model.to('cpu')\n",
    "i2i_model.to('cpu')\n",
    "cat_model.to('cpu')\n",
    "gmm_model.to('cpu')\n",
    "kmeans_model.to('cpu')"
   ]
  },
  {
   "cell_type": "code",
   "execution_count": 72,
   "metadata": {},
   "outputs": [],
   "source": [
    "base_preds=base_model.predict_step(batch)[0][0].numpy()+1\n",
    "i2i_preds=i2i_model.predict_step(batch)[0][0].numpy()+1\n",
    "cat_preds=cat_model.predict_step(batch)[0][0].numpy()+1\n",
    "gmm_preds=gmm_model.predict_step(batch)[0][0].numpy()+1\n",
    "kmeans_preds=kmeans_model.predict_step(batch)[0][0].numpy()+1\n"
   ]
  },
  {
   "cell_type": "code",
   "execution_count": 73,
   "metadata": {},
   "outputs": [
    {
     "data": {
      "text/plain": [
       "(array([ 4951,  9040,   161, 14421, 19859, 38991,  1708, 17892,  3831,\n",
       "         6345, 16114, 16172,  4324,  4755,  4960,  2566,  3820, 20901,\n",
       "        15865,  5956]),\n",
       " array([19859,  4951,  9040, 38991,   161,  1708, 20901, 14421, 17892,\n",
       "        16114,  3831,  9041,  5228,  5908,  6786,  2566,  6345,  9039,\n",
       "         5910,  4950]),\n",
       " array([ 1708, 19859,  4951,  9040,   161,  3831, 14421,  4324,  4755,\n",
       "         9037, 17892, 38991,  6345,  4960,  9744,  5228, 16172, 34470,\n",
       "         9038, 22001]),\n",
       " array([ 9040, 14421,  4951,  1708,   161,  3831, 38991, 19859, 17892,\n",
       "         2566, 16114,  4755,  6346, 23796,  4960,  5908, 15865,  4324,\n",
       "         9041, 14087]),\n",
       " array([ 1708, 19859,  4951,  9040, 14421,  4755, 38991,  4960,   161,\n",
       "         5956, 16114,  9038, 28275, 17892,  3820,  6346, 26725, 34470,\n",
       "         9744,  3831]))"
      ]
     },
     "execution_count": 73,
     "metadata": {},
     "output_type": "execute_result"
    }
   ],
   "source": [
    "base_preds,i2i_preds,cat_preds, gmm_preds, kmeans_preds"
   ]
  },
  {
   "cell_type": "code",
   "execution_count": 75,
   "metadata": {},
   "outputs": [
    {
     "data": {
      "text/plain": [
       "array([ 5.        ,  6.66666667,  8.33333333, 10.        , 11.66666667,\n",
       "       13.33333333, 15.        , 16.66666667, 18.33333333, 20.        ])"
      ]
     },
     "execution_count": 75,
     "metadata": {},
     "output_type": "execute_result"
    }
   ],
   "source": [
    "np.linspace(5, 20, 10)"
   ]
  },
  {
   "cell_type": "code",
   "execution_count": 79,
   "metadata": {},
   "outputs": [],
   "source": [
    "fig = go.Figure()\n",
    "\n",
    "\n",
    "fig.add_trace(go.Scatter(x=[base_tsne_items_embeddings[target][0]], y=[base_tsne_items_embeddings[target][1]], \n",
    "                             name=f'target', mode='markers', \n",
    "                            marker=dict(size=30,\n",
    "                                      #color=colors[item_labels[target]],\n",
    "                                        line=dict(width=2,\n",
    "                                        color='DarkSlateGrey'))))\n",
    "\n",
    "k=10\n",
    "for preds, name in zip([base_preds, i2i_preds, cat_preds, gmm_preds, kmeans_preds], ['base','i2i','categories','GMM','KMeans']):\n",
    "  embedding=base_tsne_items_embeddings[preds[:k]] \n",
    "  fig.add_trace(go.Scatter(x=embedding[:,0], y=embedding[:,1], \n",
    "                              name=name, mode='markers', \n",
    "                              marker=dict(size=np.linspace(20,10,k),\n",
    "                                          opacity=0.5,\n",
    "                                        #  color=colors[item_labels[item]],\n",
    "                                          line=dict(width=2,\n",
    "                                          color='DarkSlateGrey'))))\n",
    "  \n",
    "\n",
    "\n",
    "\n",
    "    \n",
    "fig.update_layout(title='',\n",
    "                  margin=dict(l=40, r=40, t=40, b=40),\n",
    "                  width=1000, height=800)\n",
    "fig.write_html(f'./images/recommendations_tsne_{tsne.init}_{opt.dataset}_{aug_opt.augment_alg}_{aug_run_id.split(\"-\")[-1]}.html')\n",
    "del fig"
   ]
  },
  {
   "cell_type": "markdown",
   "metadata": {},
   "source": [
    "#### compare their distance to target"
   ]
  },
  {
   "cell_type": "code",
   "execution_count": 81,
   "metadata": {},
   "outputs": [],
   "source": [
    "target_emb=base_items_embeddings[target]"
   ]
  },
  {
   "cell_type": "code",
   "execution_count": 92,
   "metadata": {},
   "outputs": [
    {
     "data": {
      "text/plain": [
       "19859"
      ]
     },
     "execution_count": 92,
     "metadata": {},
     "output_type": "execute_result"
    }
   ],
   "source": [
    "target"
   ]
  },
  {
   "cell_type": "code",
   "execution_count": 100,
   "metadata": {},
   "outputs": [
    {
     "data": {
      "text/plain": [
       "array([ 9040, 14421,  4951,  1708,   161,  3831, 38991, 19859, 17892,\n",
       "        2566, 16114,  4755,  6346, 23796,  4960,  5908, 15865,  4324,\n",
       "        9041, 14087])"
      ]
     },
     "execution_count": 100,
     "metadata": {},
     "output_type": "execute_result"
    }
   ],
   "source": [
    "gmm_preds"
   ]
  },
  {
   "cell_type": "code",
   "execution_count": 106,
   "metadata": {},
   "outputs": [],
   "source": [
    "dist_dict={}\n",
    "k=20\n",
    "for preds, name in zip([base_preds, i2i_preds, cat_preds, gmm_preds, kmeans_preds], ['base','i2i','categories','GMM','KMeans']):\n",
    "\n",
    "    dist_dict[name]=[np.linalg.norm(target_emb - base_items_embeddings[x]) for x in preds[:k] if x!=target]"
   ]
  },
  {
   "cell_type": "code",
   "execution_count": 107,
   "metadata": {},
   "outputs": [
    {
     "name": "stdout",
     "output_type": "stream",
     "text": [
      "base        &  1.077 & 2.137 & 3.425 & 4.664 & 5.643 & 6.527 & 7.77 & 9.037 & 10.245 & 11.217 & 12.468 & 13.623 & 14.818 & 15.823 & 17.128 & 18.166 & 19.338 & 20.292 & 21.613 \\\\ \\hline\n",
      "i2i         &  1.077 & 2.137 & 3.115 & 4.404 & 5.288 & 6.46 & 7.698 & 8.942 & 9.913 & 11.181 & 12.184 & 13.271 & 14.536 & 15.635 & 16.94 & 18.148 & 19.007 & 20.015 & 21.036 \\\\ \\hline\n",
      "categories  &  0.884 & 1.961 & 3.021 & 4.309 & 5.576 & 6.815 & 7.971 & 9.165 & 10.135 & 11.378 & 12.357 & 13.565 & 14.571 & 15.719 & 16.806 & 18.057 & 19.037 & 20.114 & 21.23 \\\\ \\hline\n",
      "GMM         &  1.059 & 2.298 & 3.375 & 4.259 & 5.548 & 6.815 & 7.794 & 9.037 & 10.341 & 11.313 & 12.507 & 13.665 & 14.522 & 15.528 & 16.792 & 17.747 & 18.902 & 19.905 & 21.009 \\\\ \\hline\n",
      "KMeans      &  0.884 & 1.961 & 3.021 & 4.259 & 5.454 & 6.432 & 7.438 & 8.727 & 10.047 & 11.019 & 12.096 & 13.232 & 14.475 & 15.514 & 16.672 & 17.873 & 18.852 & 20.0 & 21.267 \\\\ \\hline\n"
     ]
    }
   ],
   "source": [
    "for k,v in dist_dict.items():\n",
    "    print(f'{k: <11} & ',  ' & '.join([str(x) for x in np.round(np.cumsum(v), decimals=3)]), '\\\\\\\\ \\\\hline')"
   ]
  }
 ],
 "metadata": {
  "kernelspec": {
   "display_name": "gpu_torch",
   "language": "python",
   "name": "python3"
  },
  "language_info": {
   "codemirror_mode": {
    "name": "ipython",
    "version": 3
   },
   "file_extension": ".py",
   "mimetype": "text/x-python",
   "name": "python",
   "nbconvert_exporter": "python",
   "pygments_lexer": "ipython3",
   "version": "3.12.1"
  }
 },
 "nbformat": 4,
 "nbformat_minor": 2
}
