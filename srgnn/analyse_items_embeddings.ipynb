{
 "cells": [
  {
   "cell_type": "markdown",
   "metadata": {},
   "source": [
    "# imports"
   ]
  },
  {
   "cell_type": "code",
   "execution_count": 1,
   "metadata": {},
   "outputs": [
    {
     "name": "stderr",
     "output_type": "stream",
     "text": [
      "/home/kacper/anaconda3/envs/gpu_torch/lib/python3.12/site-packages/tqdm/auto.py:21: TqdmWarning: IProgress not found. Please update jupyter and ipywidgets. See https://ipywidgets.readthedocs.io/en/stable/user_install.html\n",
      "  from .autonotebook import tqdm as notebook_tqdm\n"
     ]
    }
   ],
   "source": [
    "import pickle\n",
    "from srgnn_model import SRGNN_model\n",
    "from srgnn_datasets import SRGNN_Map_Dataset, SRGNN_sampler\n",
    "from utils import fake_parser\n",
    "import torch\n",
    "import os\n",
    "\n",
    "from torch.utils.data import DataLoader\n",
    "import pytorch_lightning as pl\n",
    "\n",
    "import numpy as np"
   ]
  },
  {
   "cell_type": "code",
   "execution_count": 2,
   "metadata": {},
   "outputs": [],
   "source": [
    "import matplotlib.pyplot as plt\n",
    "from tqdm import tqdm, trange\n",
    "import pandas as pd\n",
    "import yaml\n",
    "from math import ceil\n",
    "from sklearn.mixture import GaussianMixture\n",
    "from IPython.display import clear_output"
   ]
  },
  {
   "cell_type": "code",
   "execution_count": 3,
   "metadata": {},
   "outputs": [],
   "source": [
    "from matplotlib.pyplot import figure\n",
    "from sklearn.manifold import TSNE\n",
    "import plotly.graph_objects as go\n"
   ]
  },
  {
   "cell_type": "code",
   "execution_count": 4,
   "metadata": {},
   "outputs": [],
   "source": [
    "from utils import load_model"
   ]
  },
  {
   "cell_type": "code",
   "execution_count": 5,
   "metadata": {},
   "outputs": [],
   "source": [
    "torch.set_float32_matmul_precision('medium')"
   ]
  },
  {
   "cell_type": "markdown",
   "metadata": {},
   "source": [
    "# data loading"
   ]
  },
  {
   "cell_type": "code",
   "execution_count": 6,
   "metadata": {},
   "outputs": [],
   "source": [
    "#run_id='run-20240404_162708-ekuo66ei' # not optimal hparams diginetica\n",
    "#run_id='run-20240531_122335-i78k1rzu' # diginetica\n",
    "run_id='jxgwsuta'\n",
    "#run_id='run-20240422_103727-ex2zwqx6' # yoochoose\n",
    "\n",
    "\n",
    "#finetuned_run_id='run-20240302_233004-xh5dmcet'\n",
    "global_run_id=run_id"
   ]
  },
  {
   "cell_type": "code",
   "execution_count": 8,
   "metadata": {},
   "outputs": [
    {
     "name": "stdout",
     "output_type": "stream",
     "text": [
      "{'dataset': 'diginetica', 'batchSize': 100, 'hiddenSize': 100, 'epoch': 30, 'lr': 0.001, 'lr_dc': 0.1, 'lr_dc_step': 2, 'l2': 1e-05, 'step': 2, 'patience': 5, 'nonhybrid': False, 'validation': True, 'valid_portion': 0.1, 'pretrained_embedings': False, 'unfreeze_epoch': 0, 'gmm': True, 'augment_matrix': False, 'augment_clusters': False, 'augment_old_run_id': None, 'augment_clip': 0, 'augment_normalize': False, 'augment_raw': False, 'weight_init': 'normal', 'augment_categories': False, 'augment_nogmm': 16, 'augment_p': 1.0, 'augment_mean': 0.01, 'augment_std': 0.0, 'augment_gmm_init': 'k-means++', 'augment_prenormalize_distances': False, 'augment_noise_p': 1, 'augment_alg': 'gmm', 'gmm_covariance_type': 'full', 'gmm_tol': 0.001}\n"
     ]
    }
   ],
   "source": [
    "model, opt=load_model(run_id, False)"
   ]
  },
  {
   "cell_type": "code",
   "execution_count": 9,
   "metadata": {},
   "outputs": [
    {
     "name": "stdout",
     "output_type": "stream",
     "text": [
      "data masking start\n"
     ]
    },
    {
     "name": "stderr",
     "output_type": "stream",
     "text": [
      "100%|██████████| 64/64 [00:00<00:00, 370.20it/s]"
     ]
    },
    {
     "name": "stdout",
     "output_type": "stream",
     "text": [
      "done masking\n"
     ]
    },
    {
     "name": "stderr",
     "output_type": "stream",
     "text": [
      "\n"
     ]
    }
   ],
   "source": [
    "test_data = pickle.load(open('../datasets/' + opt.dataset + '/test.txt', 'rb'))\n",
    "test_dataset=SRGNN_Map_Dataset(test_data, shuffle=False)\n",
    "test_dataloader=DataLoader(test_dataset, \n",
    "                            num_workers=os.cpu_count(),  \n",
    "                            sampler=SRGNN_sampler(test_dataset, opt.batchSize, shuffle=False, drop_last=False),\n",
    "                             drop_last=False\n",
    "                            )"
   ]
  },
  {
   "cell_type": "markdown",
   "metadata": {},
   "source": [
    "# Items data"
   ]
  },
  {
   "cell_type": "code",
   "execution_count": 14,
   "metadata": {},
   "outputs": [],
   "source": [
    "items_df=pd.read_csv(f'../datasets/{opt.dataset}/items.csv').drop(columns='Unnamed: 0')"
   ]
  },
  {
   "cell_type": "markdown",
   "metadata": {},
   "source": [
    "# session info"
   ]
  },
  {
   "cell_type": "code",
   "execution_count": 10,
   "metadata": {},
   "outputs": [],
   "source": [
    "test_sessions, test_targets, test_sids=test_data[:3]\n",
    "test_session_ids=set(map(int, test_sids))"
   ]
  },
  {
   "cell_type": "code",
   "execution_count": 11,
   "metadata": {},
   "outputs": [
    {
     "name": "stderr",
     "output_type": "stream",
     "text": [
      "609it [00:21, 28.36it/s]                         \n"
     ]
    },
    {
     "name": "stdout",
     "output_type": "stream",
     "text": [
      "hit  0.5091853166387328 mrr  0.17738202593148433\n"
     ]
    }
   ],
   "source": [
    "hit,mrr=[],[]\n",
    "\n",
    "model.to('cuda')\n",
    "for batch in tqdm(test_dataloader, total=test_dataset.length//opt.batchSize):\n",
    "    batch=[b.to('cuda') for b in batch]\n",
    "\n",
    "    sub_scores, targets=model.predict_step(batch)\n",
    "    targets=targets.flatten()\n",
    "    for score, target in zip(sub_scores, targets):\n",
    "        correct_pred=torch.isin(target - 1, score).cpu()\n",
    "        hit.append(correct_pred)\n",
    "        if not correct_pred:\n",
    "            mrr.append(0)\n",
    "        else:\n",
    "            mrr.append(1 / (torch.where(score == target - 1)[0][0] + 1).cpu())\n",
    "\n",
    "model.to('cpu')\n",
    "hit=np.array(hit)\n",
    "mrr=np.array(mrr)\n",
    "print('hit ', np.average(hit), 'mrr ', np.average(mrr))"
   ]
  },
  {
   "cell_type": "code",
   "execution_count": 15,
   "metadata": {},
   "outputs": [
    {
     "name": "stderr",
     "output_type": "stream",
     "text": [
      "100%|██████████| 60858/60858 [00:45<00:00, 1331.33it/s]\n"
     ]
    }
   ],
   "source": [
    "session_len=[]\n",
    "session_frequency=[]\n",
    "session_categories=[]\n",
    "target_category=[]\n",
    "for idx in tqdm(range(len(test_sessions))):\n",
    "    sess_items_df=items_df.loc[items_df.item_number.isin(test_sessions[idx])]\n",
    "    session_len.append(len(test_sessions[idx]))\n",
    "    session_frequency.append(np.average(sess_items_df.frequency))\n",
    "    session_categories.append(sess_items_df.category.nunique())\n",
    "\n",
    "    sess_target_categories=items_df.loc[items_df.item_number==test_targets[idx]].category\n",
    "    target_category.append(any([c in sess_items_df.category.values for c in sess_target_categories]))\n",
    "\n",
    "session_len=np.array(session_len)\n",
    "session_frequency=np.array(session_frequency)\n",
    "session_categories=np.array(session_categories)\n",
    "target_category=np.array(target_category)"
   ]
  },
  {
   "cell_type": "code",
   "execution_count": 16,
   "metadata": {},
   "outputs": [],
   "source": [
    "session_df=pd.DataFrame(np.vstack([session_len, session_frequency, session_categories, target_category, test_targets, test_sids, hit, mrr]).T,\n",
    "                        columns=['length','frequency','no_categories','target_category','target','session_id', 'hit','mrr'],\n",
    "                        ).sort_values('session_id').reset_index(drop=True)\n",
    "session_df.session_id=session_df.session_id.astype(int)\n",
    "session_df.target=session_df.target.astype(int)"
   ]
  },
  {
   "cell_type": "code",
   "execution_count": 17,
   "metadata": {},
   "outputs": [
    {
     "data": {
      "text/html": [
       "<div>\n",
       "<style scoped>\n",
       "    .dataframe tbody tr th:only-of-type {\n",
       "        vertical-align: middle;\n",
       "    }\n",
       "\n",
       "    .dataframe tbody tr th {\n",
       "        vertical-align: top;\n",
       "    }\n",
       "\n",
       "    .dataframe thead th {\n",
       "        text-align: right;\n",
       "    }\n",
       "</style>\n",
       "<table border=\"1\" class=\"dataframe\">\n",
       "  <thead>\n",
       "    <tr style=\"text-align: right;\">\n",
       "      <th></th>\n",
       "      <th>length</th>\n",
       "      <th>frequency</th>\n",
       "      <th>no_categories</th>\n",
       "      <th>target_category</th>\n",
       "      <th>target</th>\n",
       "      <th>session_id</th>\n",
       "      <th>hit</th>\n",
       "      <th>mrr</th>\n",
       "    </tr>\n",
       "  </thead>\n",
       "  <tbody>\n",
       "    <tr>\n",
       "      <th>0</th>\n",
       "      <td>1</td>\n",
       "      <td>132.0</td>\n",
       "      <td>1</td>\n",
       "      <td>False</td>\n",
       "      <td>10091</td>\n",
       "      <td>100035</td>\n",
       "      <td>False</td>\n",
       "      <td>0.0</td>\n",
       "    </tr>\n",
       "    <tr>\n",
       "      <th>1</th>\n",
       "      <td>2</td>\n",
       "      <td>257.5</td>\n",
       "      <td>2</td>\n",
       "      <td>True</td>\n",
       "      <td>10091</td>\n",
       "      <td>100035</td>\n",
       "      <td>True</td>\n",
       "      <td>0.5</td>\n",
       "    </tr>\n",
       "    <tr>\n",
       "      <th>2</th>\n",
       "      <td>3</td>\n",
       "      <td>257.5</td>\n",
       "      <td>2</td>\n",
       "      <td>False</td>\n",
       "      <td>5776</td>\n",
       "      <td>100035</td>\n",
       "      <td>False</td>\n",
       "      <td>0.0</td>\n",
       "    </tr>\n",
       "    <tr>\n",
       "      <th>3</th>\n",
       "      <td>4</td>\n",
       "      <td>177.66666666666666</td>\n",
       "      <td>3</td>\n",
       "      <td>True</td>\n",
       "      <td>5776</td>\n",
       "      <td>100035</td>\n",
       "      <td>True</td>\n",
       "      <td>0.5</td>\n",
       "    </tr>\n",
       "    <tr>\n",
       "      <th>4</th>\n",
       "      <td>5</td>\n",
       "      <td>177.66666666666666</td>\n",
       "      <td>3</td>\n",
       "      <td>True</td>\n",
       "      <td>38597</td>\n",
       "      <td>100035</td>\n",
       "      <td>False</td>\n",
       "      <td>0.0</td>\n",
       "    </tr>\n",
       "  </tbody>\n",
       "</table>\n",
       "</div>"
      ],
      "text/plain": [
       "  length           frequency no_categories target_category  target  \\\n",
       "0      1               132.0             1           False   10091   \n",
       "1      2               257.5             2            True   10091   \n",
       "2      3               257.5             2           False    5776   \n",
       "3      4  177.66666666666666             3            True    5776   \n",
       "4      5  177.66666666666666             3            True   38597   \n",
       "\n",
       "   session_id    hit  mrr  \n",
       "0      100035  False  0.0  \n",
       "1      100035   True  0.5  \n",
       "2      100035  False  0.0  \n",
       "3      100035   True  0.5  \n",
       "4      100035  False  0.0  "
      ]
     },
     "execution_count": 17,
     "metadata": {},
     "output_type": "execute_result"
    }
   ],
   "source": [
    "session_df.head()"
   ]
  },
  {
   "cell_type": "markdown",
   "metadata": {},
   "source": [
    "# items embeddings"
   ]
  },
  {
   "cell_type": "code",
   "execution_count": 18,
   "metadata": {},
   "outputs": [],
   "source": [
    "def get_items_embedding(model, item_ids: torch.tensor):\n",
    "    return model.model.embedding(item_ids)"
   ]
  },
  {
   "cell_type": "code",
   "execution_count": 19,
   "metadata": {},
   "outputs": [],
   "source": [
    "items_embeddings=get_items_embedding(model, torch.arange(items_df.item_number.nunique()+1, device=model.device)).cpu().detach().numpy()"
   ]
  },
  {
   "cell_type": "code",
   "execution_count": 17,
   "metadata": {},
   "outputs": [],
   "source": [
    "#no_clusters=16\n",
    "#gm=GaussianMixture(n_components=no_clusters, n_init=2, init_params='k-means++', weights_init=np.ones(no_clusters)/no_clusters)\n",
    "#item_labels=gm.fit_predict(items_embeddings)"
   ]
  },
  {
   "cell_type": "code",
   "execution_count": 20,
   "metadata": {},
   "outputs": [],
   "source": [
    "no_clusters=8\n",
    "init_params='k-means++'\n",
    "covariance_type='full'\n",
    "tol=1e-3\n",
    "\n",
    "with open(\n",
    "    f\"../datasets/{opt.dataset}/item_labels_gmm_{no_clusters}_{init_params}_{covariance_type}_{tol}_{opt.hiddenSize}_{run_id.split('-')[-1]}.txt\",\n",
    "    \"rb\",\n",
    ") as f:\n",
    "    item_labels=pickle.load(f)\n",
    "with open(\n",
    "    f\"../datasets/{opt.dataset}/cluster_centers_gmm_{no_clusters}_{init_params}_{covariance_type}_{tol}_{opt.hiddenSize}_{run_id.split('-')[-1]}.txt\",\n",
    "    \"rb\",\n",
    ") as f:\n",
    "    gm_means=pickle.load( f)\n",
    "with open(\n",
    "    f\"../datasets/{opt.dataset}/gmm_model_{no_clusters}_{init_params}_{covariance_type}_{tol}_{opt.hiddenSize}_{run_id.split('-')[-1]}.txt\",\n",
    "    \"rb\",\n",
    ") as f:\n",
    "    gm_model=pickle.load( f)\n"
   ]
  },
  {
   "cell_type": "code",
   "execution_count": 21,
   "metadata": {},
   "outputs": [],
   "source": [
    "with open(\n",
    "    f\"../datasets/{opt.dataset}/item_labels_kmeans_{no_clusters}_{init_params}_{opt.hiddenSize}_{run_id.split('-')[-1]}.txt\",\n",
    "    \"rb\",\n",
    ") as f:\n",
    "    item_labels_kmeans=pickle.load(f)\n",
    "with open(\n",
    "    f\"../datasets/{opt.dataset}/cluster_centers_kmeans_{no_clusters}_{init_params}_{opt.hiddenSize}_{run_id.split('-')[-1]}.txt\",\n",
    "    \"rb\",\n",
    ") as f:\n",
    "    kmeans_means=pickle.load( f)"
   ]
  },
  {
   "cell_type": "code",
   "execution_count": 62,
   "metadata": {},
   "outputs": [],
   "source": [
    "with open(\n",
    "    f\"../datasets/{opt.dataset}/cluster_centers_categories_{opt.hiddenSize}_{run_id.split('-')[-1]}.txt\",\n",
    "    \"rb\",\n",
    ") as f:\n",
    "    categories_means=pickle.load( f)\n",
    "    categories_means=np.asarray(list(categories_means.values()))"
   ]
  },
  {
   "cell_type": "code",
   "execution_count": 67,
   "metadata": {},
   "outputs": [],
   "source": [
    "gm_cluster_distance=np.zeros((no_clusters, no_clusters))\n",
    "kmeans_cluster_distance=np.zeros((no_clusters, no_clusters))\n",
    "categories_cluster_distance=np.zeros((len(categories_means), len(categories_means)))\n",
    "\n",
    "for i in range(no_clusters):\n",
    "    gm_cluster_distance[i] = np.linalg.norm(\n",
    "            gm_means - gm_means[i], axis=1\n",
    "        )\n",
    "    kmeans_cluster_distance[i] = np.linalg.norm(\n",
    "            kmeans_means - kmeans_means[i], axis=1\n",
    "        )\n",
    "for i in range(len(categories_cluster_distance)):\n",
    "    categories_cluster_distance[i] = np.linalg.norm(\n",
    "            categories_means - categories_means[i], axis=1\n",
    "        )\n",
    "\n",
    "#gm_cluster_distance = 1 / gm_cluster_distance ########   1/x yields WEIGHTS FOR ADJACENCY MATRIX\n",
    "#kmeans_cluster_distance = 1 / kmeans_cluster_distance\n",
    "gm_cluster_distance[gm_cluster_distance==0]=np.nan\n",
    "kmeans_cluster_distance[kmeans_cluster_distance==0]=np.nan\n",
    "#categories_cluster_distance = 1 / categories_cluster_distance\n",
    "categories_cluster_distance[categories_cluster_distance==0]=np.nan"
   ]
  },
  {
   "cell_type": "code",
   "execution_count": 31,
   "metadata": {},
   "outputs": [],
   "source": []
  },
  {
   "cell_type": "code",
   "execution_count": 68,
   "metadata": {},
   "outputs": [
    {
     "name": "stdout",
     "output_type": "stream",
     "text": [
      "0.15000584527983907 0.4266343881998672\n",
      "0.3467341363430023 0.5461685657501221\n",
      "0.05603022873401642 1.756591796875\n"
     ]
    }
   ],
   "source": [
    "print(np.nanmin(gm_cluster_distance),  np.nanmax(gm_cluster_distance),) \n",
    "print(np.nanmin(kmeans_cluster_distance), np.nanmax(kmeans_cluster_distance))\n",
    "print(np.nanmin(categories_cluster_distance), np.nanmax(categories_cluster_distance))"
   ]
  },
  {
   "cell_type": "code",
   "execution_count": 45,
   "metadata": {},
   "outputs": [
    {
     "data": {
      "application/vnd.plotly.v1+json": {
       "config": {
        "plotlyServerURL": "https://plot.ly"
       },
       "data": [
        {
         "legendgroup": "gmm",
         "marker": {
          "line": {
           "color": "DarkSlateGrey",
           "width": 2
          },
          "size": 12
         },
         "mode": "markers",
         "name": "gmm0",
         "type": "scatter",
         "x": [
          11.479632377624512
         ],
         "y": [
          -3.2669167518615723
         ]
        },
        {
         "legendgroup": "gmm",
         "marker": {
          "line": {
           "color": "DarkSlateGrey",
           "width": 2
          },
          "size": 12
         },
         "mode": "markers",
         "name": "gmm1",
         "type": "scatter",
         "x": [
          -20.210552215576172
         ],
         "y": [
          -13.955492973327637
         ]
        },
        {
         "legendgroup": "gmm",
         "marker": {
          "line": {
           "color": "DarkSlateGrey",
           "width": 2
          },
          "size": 12
         },
         "mode": "markers",
         "name": "gmm2",
         "type": "scatter",
         "x": [
          -21.21617889404297
         ],
         "y": [
          -5.7512922286987305
         ]
        },
        {
         "legendgroup": "gmm",
         "marker": {
          "line": {
           "color": "DarkSlateGrey",
           "width": 2
          },
          "size": 12
         },
         "mode": "markers",
         "name": "gmm3",
         "type": "scatter",
         "x": [
          21.70270347595215
         ],
         "y": [
          7.461132049560547
         ]
        },
        {
         "legendgroup": "gmm",
         "marker": {
          "line": {
           "color": "DarkSlateGrey",
           "width": 2
          },
          "size": 12
         },
         "mode": "markers",
         "name": "gmm4",
         "type": "scatter",
         "x": [
          -43.005821228027344
         ],
         "y": [
          -12.832889556884766
         ]
        },
        {
         "legendgroup": "gmm",
         "marker": {
          "line": {
           "color": "DarkSlateGrey",
           "width": 2
          },
          "size": 12
         },
         "mode": "markers",
         "name": "gmm5",
         "type": "scatter",
         "x": [
          11.364574432373047
         ],
         "y": [
          -3.7599685192108154
         ]
        },
        {
         "legendgroup": "gmm",
         "marker": {
          "line": {
           "color": "DarkSlateGrey",
           "width": 2
          },
          "size": 12
         },
         "mode": "markers",
         "name": "gmm6",
         "type": "scatter",
         "x": [
          3.9815807342529297
         ],
         "y": [
          -2.897972822189331
         ]
        },
        {
         "legendgroup": "gmm",
         "marker": {
          "line": {
           "color": "DarkSlateGrey",
           "width": 2
          },
          "size": 12
         },
         "mode": "markers",
         "name": "gmm7",
         "type": "scatter",
         "x": [
          3.9567809104919434
         ],
         "y": [
          0.2992991805076599
         ]
        },
        {
         "legendgroup": "kmeans",
         "marker": {
          "line": {
           "color": "DarkSlateGrey",
           "width": 2
          },
          "size": 12
         },
         "mode": "markers",
         "name": "kmeans0",
         "type": "scatter",
         "x": [
          -54.962547302246094
         ],
         "y": [
          -5.922420024871826
         ]
        },
        {
         "legendgroup": "kmeans",
         "marker": {
          "line": {
           "color": "DarkSlateGrey",
           "width": 2
          },
          "size": 12
         },
         "mode": "markers",
         "name": "kmeans1",
         "type": "scatter",
         "x": [
          21.430988311767578
         ],
         "y": [
          6.883787631988525
         ]
        },
        {
         "legendgroup": "kmeans",
         "marker": {
          "line": {
           "color": "DarkSlateGrey",
           "width": 2
          },
          "size": 12
         },
         "mode": "markers",
         "name": "kmeans2",
         "type": "scatter",
         "x": [
          11.003890991210938
         ],
         "y": [
          -4.802490234375
         ]
        },
        {
         "legendgroup": "kmeans",
         "marker": {
          "line": {
           "color": "DarkSlateGrey",
           "width": 2
          },
          "size": 12
         },
         "mode": "markers",
         "name": "kmeans3",
         "type": "scatter",
         "x": [
          5.013412952423096
         ],
         "y": [
          -9.008078575134277
         ]
        },
        {
         "legendgroup": "kmeans",
         "marker": {
          "line": {
           "color": "DarkSlateGrey",
           "width": 2
          },
          "size": 12
         },
         "mode": "markers",
         "name": "kmeans4",
         "type": "scatter",
         "x": [
          -12.542391777038574
         ],
         "y": [
          -12.681906700134277
         ]
        },
        {
         "legendgroup": "kmeans",
         "marker": {
          "line": {
           "color": "DarkSlateGrey",
           "width": 2
          },
          "size": 12
         },
         "mode": "markers",
         "name": "kmeans5",
         "type": "scatter",
         "x": [
          9.835905075073242
         ],
         "y": [
          -52.38885498046875
         ]
        },
        {
         "legendgroup": "kmeans",
         "marker": {
          "line": {
           "color": "DarkSlateGrey",
           "width": 2
          },
          "size": 12
         },
         "mode": "markers",
         "name": "kmeans6",
         "type": "scatter",
         "x": [
          -10.45211124420166
         ],
         "y": [
          0.6989041566848755
         ]
        },
        {
         "legendgroup": "kmeans",
         "marker": {
          "line": {
           "color": "DarkSlateGrey",
           "width": 2
          },
          "size": 12
         },
         "mode": "markers",
         "name": "kmeans7",
         "type": "scatter",
         "x": [
          31.428327560424805
         ],
         "y": [
          45.149410247802734
         ]
        }
       ],
       "layout": {
        "height": 800,
        "margin": {
         "b": 40,
         "l": 40,
         "r": 40,
         "t": 40
        },
        "template": {
         "data": {
          "bar": [
           {
            "error_x": {
             "color": "#2a3f5f"
            },
            "error_y": {
             "color": "#2a3f5f"
            },
            "marker": {
             "line": {
              "color": "#E5ECF6",
              "width": 0.5
             },
             "pattern": {
              "fillmode": "overlay",
              "size": 10,
              "solidity": 0.2
             }
            },
            "type": "bar"
           }
          ],
          "barpolar": [
           {
            "marker": {
             "line": {
              "color": "#E5ECF6",
              "width": 0.5
             },
             "pattern": {
              "fillmode": "overlay",
              "size": 10,
              "solidity": 0.2
             }
            },
            "type": "barpolar"
           }
          ],
          "carpet": [
           {
            "aaxis": {
             "endlinecolor": "#2a3f5f",
             "gridcolor": "white",
             "linecolor": "white",
             "minorgridcolor": "white",
             "startlinecolor": "#2a3f5f"
            },
            "baxis": {
             "endlinecolor": "#2a3f5f",
             "gridcolor": "white",
             "linecolor": "white",
             "minorgridcolor": "white",
             "startlinecolor": "#2a3f5f"
            },
            "type": "carpet"
           }
          ],
          "choropleth": [
           {
            "colorbar": {
             "outlinewidth": 0,
             "ticks": ""
            },
            "type": "choropleth"
           }
          ],
          "contour": [
           {
            "colorbar": {
             "outlinewidth": 0,
             "ticks": ""
            },
            "colorscale": [
             [
              0,
              "#0d0887"
             ],
             [
              0.1111111111111111,
              "#46039f"
             ],
             [
              0.2222222222222222,
              "#7201a8"
             ],
             [
              0.3333333333333333,
              "#9c179e"
             ],
             [
              0.4444444444444444,
              "#bd3786"
             ],
             [
              0.5555555555555556,
              "#d8576b"
             ],
             [
              0.6666666666666666,
              "#ed7953"
             ],
             [
              0.7777777777777778,
              "#fb9f3a"
             ],
             [
              0.8888888888888888,
              "#fdca26"
             ],
             [
              1,
              "#f0f921"
             ]
            ],
            "type": "contour"
           }
          ],
          "contourcarpet": [
           {
            "colorbar": {
             "outlinewidth": 0,
             "ticks": ""
            },
            "type": "contourcarpet"
           }
          ],
          "heatmap": [
           {
            "colorbar": {
             "outlinewidth": 0,
             "ticks": ""
            },
            "colorscale": [
             [
              0,
              "#0d0887"
             ],
             [
              0.1111111111111111,
              "#46039f"
             ],
             [
              0.2222222222222222,
              "#7201a8"
             ],
             [
              0.3333333333333333,
              "#9c179e"
             ],
             [
              0.4444444444444444,
              "#bd3786"
             ],
             [
              0.5555555555555556,
              "#d8576b"
             ],
             [
              0.6666666666666666,
              "#ed7953"
             ],
             [
              0.7777777777777778,
              "#fb9f3a"
             ],
             [
              0.8888888888888888,
              "#fdca26"
             ],
             [
              1,
              "#f0f921"
             ]
            ],
            "type": "heatmap"
           }
          ],
          "heatmapgl": [
           {
            "colorbar": {
             "outlinewidth": 0,
             "ticks": ""
            },
            "colorscale": [
             [
              0,
              "#0d0887"
             ],
             [
              0.1111111111111111,
              "#46039f"
             ],
             [
              0.2222222222222222,
              "#7201a8"
             ],
             [
              0.3333333333333333,
              "#9c179e"
             ],
             [
              0.4444444444444444,
              "#bd3786"
             ],
             [
              0.5555555555555556,
              "#d8576b"
             ],
             [
              0.6666666666666666,
              "#ed7953"
             ],
             [
              0.7777777777777778,
              "#fb9f3a"
             ],
             [
              0.8888888888888888,
              "#fdca26"
             ],
             [
              1,
              "#f0f921"
             ]
            ],
            "type": "heatmapgl"
           }
          ],
          "histogram": [
           {
            "marker": {
             "pattern": {
              "fillmode": "overlay",
              "size": 10,
              "solidity": 0.2
             }
            },
            "type": "histogram"
           }
          ],
          "histogram2d": [
           {
            "colorbar": {
             "outlinewidth": 0,
             "ticks": ""
            },
            "colorscale": [
             [
              0,
              "#0d0887"
             ],
             [
              0.1111111111111111,
              "#46039f"
             ],
             [
              0.2222222222222222,
              "#7201a8"
             ],
             [
              0.3333333333333333,
              "#9c179e"
             ],
             [
              0.4444444444444444,
              "#bd3786"
             ],
             [
              0.5555555555555556,
              "#d8576b"
             ],
             [
              0.6666666666666666,
              "#ed7953"
             ],
             [
              0.7777777777777778,
              "#fb9f3a"
             ],
             [
              0.8888888888888888,
              "#fdca26"
             ],
             [
              1,
              "#f0f921"
             ]
            ],
            "type": "histogram2d"
           }
          ],
          "histogram2dcontour": [
           {
            "colorbar": {
             "outlinewidth": 0,
             "ticks": ""
            },
            "colorscale": [
             [
              0,
              "#0d0887"
             ],
             [
              0.1111111111111111,
              "#46039f"
             ],
             [
              0.2222222222222222,
              "#7201a8"
             ],
             [
              0.3333333333333333,
              "#9c179e"
             ],
             [
              0.4444444444444444,
              "#bd3786"
             ],
             [
              0.5555555555555556,
              "#d8576b"
             ],
             [
              0.6666666666666666,
              "#ed7953"
             ],
             [
              0.7777777777777778,
              "#fb9f3a"
             ],
             [
              0.8888888888888888,
              "#fdca26"
             ],
             [
              1,
              "#f0f921"
             ]
            ],
            "type": "histogram2dcontour"
           }
          ],
          "mesh3d": [
           {
            "colorbar": {
             "outlinewidth": 0,
             "ticks": ""
            },
            "type": "mesh3d"
           }
          ],
          "parcoords": [
           {
            "line": {
             "colorbar": {
              "outlinewidth": 0,
              "ticks": ""
             }
            },
            "type": "parcoords"
           }
          ],
          "pie": [
           {
            "automargin": true,
            "type": "pie"
           }
          ],
          "scatter": [
           {
            "fillpattern": {
             "fillmode": "overlay",
             "size": 10,
             "solidity": 0.2
            },
            "type": "scatter"
           }
          ],
          "scatter3d": [
           {
            "line": {
             "colorbar": {
              "outlinewidth": 0,
              "ticks": ""
             }
            },
            "marker": {
             "colorbar": {
              "outlinewidth": 0,
              "ticks": ""
             }
            },
            "type": "scatter3d"
           }
          ],
          "scattercarpet": [
           {
            "marker": {
             "colorbar": {
              "outlinewidth": 0,
              "ticks": ""
             }
            },
            "type": "scattercarpet"
           }
          ],
          "scattergeo": [
           {
            "marker": {
             "colorbar": {
              "outlinewidth": 0,
              "ticks": ""
             }
            },
            "type": "scattergeo"
           }
          ],
          "scattergl": [
           {
            "marker": {
             "colorbar": {
              "outlinewidth": 0,
              "ticks": ""
             }
            },
            "type": "scattergl"
           }
          ],
          "scattermapbox": [
           {
            "marker": {
             "colorbar": {
              "outlinewidth": 0,
              "ticks": ""
             }
            },
            "type": "scattermapbox"
           }
          ],
          "scatterpolar": [
           {
            "marker": {
             "colorbar": {
              "outlinewidth": 0,
              "ticks": ""
             }
            },
            "type": "scatterpolar"
           }
          ],
          "scatterpolargl": [
           {
            "marker": {
             "colorbar": {
              "outlinewidth": 0,
              "ticks": ""
             }
            },
            "type": "scatterpolargl"
           }
          ],
          "scatterternary": [
           {
            "marker": {
             "colorbar": {
              "outlinewidth": 0,
              "ticks": ""
             }
            },
            "type": "scatterternary"
           }
          ],
          "surface": [
           {
            "colorbar": {
             "outlinewidth": 0,
             "ticks": ""
            },
            "colorscale": [
             [
              0,
              "#0d0887"
             ],
             [
              0.1111111111111111,
              "#46039f"
             ],
             [
              0.2222222222222222,
              "#7201a8"
             ],
             [
              0.3333333333333333,
              "#9c179e"
             ],
             [
              0.4444444444444444,
              "#bd3786"
             ],
             [
              0.5555555555555556,
              "#d8576b"
             ],
             [
              0.6666666666666666,
              "#ed7953"
             ],
             [
              0.7777777777777778,
              "#fb9f3a"
             ],
             [
              0.8888888888888888,
              "#fdca26"
             ],
             [
              1,
              "#f0f921"
             ]
            ],
            "type": "surface"
           }
          ],
          "table": [
           {
            "cells": {
             "fill": {
              "color": "#EBF0F8"
             },
             "line": {
              "color": "white"
             }
            },
            "header": {
             "fill": {
              "color": "#C8D4E3"
             },
             "line": {
              "color": "white"
             }
            },
            "type": "table"
           }
          ]
         },
         "layout": {
          "annotationdefaults": {
           "arrowcolor": "#2a3f5f",
           "arrowhead": 0,
           "arrowwidth": 1
          },
          "autotypenumbers": "strict",
          "coloraxis": {
           "colorbar": {
            "outlinewidth": 0,
            "ticks": ""
           }
          },
          "colorscale": {
           "diverging": [
            [
             0,
             "#8e0152"
            ],
            [
             0.1,
             "#c51b7d"
            ],
            [
             0.2,
             "#de77ae"
            ],
            [
             0.3,
             "#f1b6da"
            ],
            [
             0.4,
             "#fde0ef"
            ],
            [
             0.5,
             "#f7f7f7"
            ],
            [
             0.6,
             "#e6f5d0"
            ],
            [
             0.7,
             "#b8e186"
            ],
            [
             0.8,
             "#7fbc41"
            ],
            [
             0.9,
             "#4d9221"
            ],
            [
             1,
             "#276419"
            ]
           ],
           "sequential": [
            [
             0,
             "#0d0887"
            ],
            [
             0.1111111111111111,
             "#46039f"
            ],
            [
             0.2222222222222222,
             "#7201a8"
            ],
            [
             0.3333333333333333,
             "#9c179e"
            ],
            [
             0.4444444444444444,
             "#bd3786"
            ],
            [
             0.5555555555555556,
             "#d8576b"
            ],
            [
             0.6666666666666666,
             "#ed7953"
            ],
            [
             0.7777777777777778,
             "#fb9f3a"
            ],
            [
             0.8888888888888888,
             "#fdca26"
            ],
            [
             1,
             "#f0f921"
            ]
           ],
           "sequentialminus": [
            [
             0,
             "#0d0887"
            ],
            [
             0.1111111111111111,
             "#46039f"
            ],
            [
             0.2222222222222222,
             "#7201a8"
            ],
            [
             0.3333333333333333,
             "#9c179e"
            ],
            [
             0.4444444444444444,
             "#bd3786"
            ],
            [
             0.5555555555555556,
             "#d8576b"
            ],
            [
             0.6666666666666666,
             "#ed7953"
            ],
            [
             0.7777777777777778,
             "#fb9f3a"
            ],
            [
             0.8888888888888888,
             "#fdca26"
            ],
            [
             1,
             "#f0f921"
            ]
           ]
          },
          "colorway": [
           "#636efa",
           "#EF553B",
           "#00cc96",
           "#ab63fa",
           "#FFA15A",
           "#19d3f3",
           "#FF6692",
           "#B6E880",
           "#FF97FF",
           "#FECB52"
          ],
          "font": {
           "color": "#2a3f5f"
          },
          "geo": {
           "bgcolor": "white",
           "lakecolor": "white",
           "landcolor": "#E5ECF6",
           "showlakes": true,
           "showland": true,
           "subunitcolor": "white"
          },
          "hoverlabel": {
           "align": "left"
          },
          "hovermode": "closest",
          "mapbox": {
           "style": "light"
          },
          "paper_bgcolor": "white",
          "plot_bgcolor": "#E5ECF6",
          "polar": {
           "angularaxis": {
            "gridcolor": "white",
            "linecolor": "white",
            "ticks": ""
           },
           "bgcolor": "#E5ECF6",
           "radialaxis": {
            "gridcolor": "white",
            "linecolor": "white",
            "ticks": ""
           }
          },
          "scene": {
           "xaxis": {
            "backgroundcolor": "#E5ECF6",
            "gridcolor": "white",
            "gridwidth": 2,
            "linecolor": "white",
            "showbackground": true,
            "ticks": "",
            "zerolinecolor": "white"
           },
           "yaxis": {
            "backgroundcolor": "#E5ECF6",
            "gridcolor": "white",
            "gridwidth": 2,
            "linecolor": "white",
            "showbackground": true,
            "ticks": "",
            "zerolinecolor": "white"
           },
           "zaxis": {
            "backgroundcolor": "#E5ECF6",
            "gridcolor": "white",
            "gridwidth": 2,
            "linecolor": "white",
            "showbackground": true,
            "ticks": "",
            "zerolinecolor": "white"
           }
          },
          "shapedefaults": {
           "line": {
            "color": "#2a3f5f"
           }
          },
          "ternary": {
           "aaxis": {
            "gridcolor": "white",
            "linecolor": "white",
            "ticks": ""
           },
           "baxis": {
            "gridcolor": "white",
            "linecolor": "white",
            "ticks": ""
           },
           "bgcolor": "#E5ECF6",
           "caxis": {
            "gridcolor": "white",
            "linecolor": "white",
            "ticks": ""
           }
          },
          "title": {
           "x": 0.05
          },
          "xaxis": {
           "automargin": true,
           "gridcolor": "white",
           "linecolor": "white",
           "ticks": "",
           "title": {
            "standoff": 15
           },
           "zerolinecolor": "white",
           "zerolinewidth": 2
          },
          "yaxis": {
           "automargin": true,
           "gridcolor": "white",
           "linecolor": "white",
           "ticks": "",
           "title": {
            "standoff": 15
           },
           "zerolinecolor": "white",
           "zerolinewidth": 2
          }
         }
        },
        "title": {
         "text": "TSNE reduced items embeddings with GM with k-means++ init, tol 0.001,full covariance matrix"
        },
        "width": 1000
       }
      }
     },
     "metadata": {},
     "output_type": "display_data"
    }
   ],
   "source": [
    "fig = go.Figure()\n",
    "\n",
    "for c in range(no_clusters):\n",
    "    fig.add_trace(go.Scatter(x=[tsne_items_embeddings[-2*no_clusters+c, 0]], y=[tsne_items_embeddings[-2*no_clusters+c, 1]], \n",
    "                            name='gmm'+str(c), mode='markers', \n",
    "                            legendgroup='gmm',\n",
    "                            marker=dict(size=12,\n",
    "                                        line=dict(width=2,\n",
    "                                        color='DarkSlateGrey'))))\n",
    "for c in range(no_clusters):\n",
    "    fig.add_trace(go.Scatter(x=[tsne_items_embeddings[-no_clusters+c, 0]], y=[tsne_items_embeddings[-no_clusters+c, 1]], \n",
    "                            name='kmeans'+str(c), mode='markers', \n",
    "                            legendgroup='kmeans',\n",
    "                            marker=dict(size=12,\n",
    "                                        line=dict(width=2,\n",
    "                                        color='DarkSlateGrey'))))\n",
    "\n",
    "fig.update_layout(title=f'TSNE reduced items embeddings with GM with {init_params} init, tol {tol},{covariance_type} covariance matrix',\n",
    "                margin=dict(l=40, r=40, t=40, b=40),\n",
    "                width=1000, height=800)"
   ]
  },
  {
   "cell_type": "code",
   "execution_count": 69,
   "metadata": {},
   "outputs": [
    {
     "name": "stdout",
     "output_type": "stream",
     "text": [
      "0 [  nan 0.427 0.393 0.158 0.371 0.15  0.335 0.253]\n",
      "1 [0.427   nan 0.423 0.41  0.389 0.416 0.383 0.34 ]\n",
      "2 [0.393 0.423   nan 0.402 0.387 0.413 0.399 0.315]\n",
      "3 [0.158 0.41  0.402   nan 0.373 0.195 0.326 0.239]\n",
      "4 [0.371 0.389 0.387 0.373   nan 0.354 0.293 0.274]\n",
      "5 [0.15  0.416 0.413 0.195 0.354   nan 0.244 0.282]\n",
      "6 [0.335 0.383 0.399 0.326 0.293 0.244   nan 0.268]\n",
      "7 [0.253 0.34  0.315 0.239 0.274 0.282 0.268   nan]\n"
     ]
    }
   ],
   "source": [
    "for j, i in enumerate(gm_cluster_distance):\n",
    "    print(str(j)+' '+str(np.round(i, decimals=3)))"
   ]
  },
  {
   "cell_type": "code",
   "execution_count": 71,
   "metadata": {},
   "outputs": [
    {
     "name": "stdout",
     "output_type": "stream",
     "text": [
      "0 [  nan 0.394 0.352 0.406 0.387 0.403 0.45  0.407]\n",
      "1 [0.394   nan 0.363 0.355 0.349 0.347 0.546 0.373]\n",
      "2 [0.352 0.363   nan 0.36  0.347 0.371 0.421 0.364]\n",
      "3 [0.406 0.355 0.36    nan 0.37  0.37  0.508 0.374]\n",
      "4 [0.387 0.349 0.347 0.37    nan 0.379 0.496 0.394]\n",
      "5 [0.403 0.347 0.371 0.37  0.379   nan 0.494 0.375]\n",
      "6 [0.45  0.546 0.421 0.508 0.496 0.494   nan 0.457]\n",
      "7 [0.407 0.373 0.364 0.374 0.394 0.375 0.457   nan]\n"
     ]
    }
   ],
   "source": [
    "for j, i in enumerate(kmeans_cluster_distance):\n",
    "    print(str(j)+' '+str(np.round(i, decimals=3)))"
   ]
  },
  {
   "cell_type": "code",
   "execution_count": null,
   "metadata": {},
   "outputs": [],
   "source": [
    "a=gm_model.predict_proba(items_embeddings)"
   ]
  },
  {
   "cell_type": "code",
   "execution_count": 28,
   "metadata": {},
   "outputs": [
    {
     "data": {
      "image/png": "[encoded data removed]",
      "text/plain": [
       "<Figure size 640x480 with 1 Axes>"
      ]
     },
     "metadata": {},
     "output_type": "display_data"
    }
   ],
   "source": [
    "\n",
    "b=np.max(a, axis=1)\n",
    "plt.hist(b, bins=np.linspace(np.percentile(b, 15), np.percentile(b, 100), num=30), cumulative=False, density=False)\n",
    "plt.grid()\n",
    "plt.show()"
   ]
  },
  {
   "cell_type": "code",
   "execution_count": 41,
   "metadata": {},
   "outputs": [
    {
     "name": "stdout",
     "output_type": "stream",
     "text": [
      "[t-SNE] Computing 91 nearest neighbors...\n",
      "[t-SNE] Indexed 43114 samples in 0.003s...\n",
      "[t-SNE] Computed neighbors for 43114 samples in 2.429s...\n",
      "[t-SNE] Computed conditional probabilities for sample 1000 / 43114\n",
      "[t-SNE] Computed conditional probabilities for sample 2000 / 43114\n",
      "[t-SNE] Computed conditional probabilities for sample 3000 / 43114\n",
      "[t-SNE] Computed conditional probabilities for sample 4000 / 43114\n",
      "[t-SNE] Computed conditional probabilities for sample 5000 / 43114\n",
      "[t-SNE] Computed conditional probabilities for sample 6000 / 43114\n",
      "[t-SNE] Computed conditional probabilities for sample 7000 / 43114\n",
      "[t-SNE] Computed conditional probabilities for sample 8000 / 43114\n",
      "[t-SNE] Computed conditional probabilities for sample 9000 / 43114\n",
      "[t-SNE] Computed conditional probabilities for sample 10000 / 43114\n",
      "[t-SNE] Computed conditional probabilities for sample 11000 / 43114\n",
      "[t-SNE] Computed conditional probabilities for sample 12000 / 43114\n",
      "[t-SNE] Computed conditional probabilities for sample 13000 / 43114\n",
      "[t-SNE] Computed conditional probabilities for sample 14000 / 43114\n",
      "[t-SNE] Computed conditional probabilities for sample 15000 / 43114\n",
      "[t-SNE] Computed conditional probabilities for sample 16000 / 43114\n",
      "[t-SNE] Computed conditional probabilities for sample 17000 / 43114\n",
      "[t-SNE] Computed conditional probabilities for sample 18000 / 43114\n",
      "[t-SNE] Computed conditional probabilities for sample 19000 / 43114\n",
      "[t-SNE] Computed conditional probabilities for sample 20000 / 43114\n",
      "[t-SNE] Computed conditional probabilities for sample 21000 / 43114\n",
      "[t-SNE] Computed conditional probabilities for sample 22000 / 43114\n",
      "[t-SNE] Computed conditional probabilities for sample 23000 / 43114\n",
      "[t-SNE] Computed conditional probabilities for sample 24000 / 43114\n",
      "[t-SNE] Computed conditional probabilities for sample 25000 / 43114\n",
      "[t-SNE] Computed conditional probabilities for sample 26000 / 43114\n",
      "[t-SNE] Computed conditional probabilities for sample 27000 / 43114\n",
      "[t-SNE] Computed conditional probabilities for sample 28000 / 43114\n",
      "[t-SNE] Computed conditional probabilities for sample 29000 / 43114\n",
      "[t-SNE] Computed conditional probabilities for sample 30000 / 43114\n",
      "[t-SNE] Computed conditional probabilities for sample 31000 / 43114\n",
      "[t-SNE] Computed conditional probabilities for sample 32000 / 43114\n",
      "[t-SNE] Computed conditional probabilities for sample 33000 / 43114\n",
      "[t-SNE] Computed conditional probabilities for sample 34000 / 43114\n",
      "[t-SNE] Computed conditional probabilities for sample 35000 / 43114\n",
      "[t-SNE] Computed conditional probabilities for sample 36000 / 43114\n",
      "[t-SNE] Computed conditional probabilities for sample 37000 / 43114\n",
      "[t-SNE] Computed conditional probabilities for sample 38000 / 43114\n",
      "[t-SNE] Computed conditional probabilities for sample 39000 / 43114\n",
      "[t-SNE] Computed conditional probabilities for sample 40000 / 43114\n",
      "[t-SNE] Computed conditional probabilities for sample 41000 / 43114\n",
      "[t-SNE] Computed conditional probabilities for sample 42000 / 43114\n",
      "[t-SNE] Computed conditional probabilities for sample 43000 / 43114\n",
      "[t-SNE] Computed conditional probabilities for sample 43114 / 43114\n",
      "[t-SNE] Mean sigma: 0.243674\n",
      "[t-SNE] KL divergence after 250 iterations with early exaggeration: 340.691467\n",
      "[t-SNE] KL divergence after 1000 iterations: 2.923180\n"
     ]
    }
   ],
   "source": [
    "tsne=TSNE(2, init='random', early_exaggeration=32, verbose=1)\n",
    "tsne_items_embeddings=tsne.fit_transform(np.vstack([items_embeddings, gm_means, kmeans_means]))"
   ]
  },
  {
   "cell_type": "code",
   "execution_count": 32,
   "metadata": {},
   "outputs": [
    {
     "name": "stdout",
     "output_type": "stream",
     "text": [
      "0 gmm:  827   , kmeans: 4167\n",
      "1 gmm:  11799 , kmeans: 4759\n",
      "2 gmm:  1203  , kmeans: 7546\n",
      "3 gmm:  5676  , kmeans: 4905\n",
      "4 gmm:  10117 , kmeans: 5663\n",
      "5 gmm:  11823 , kmeans: 5252\n",
      "6 gmm:  152   , kmeans: 5863\n",
      "7 gmm:  1501  , kmeans: 4943\n"
     ]
    }
   ],
   "source": [
    "_,a = np.unique(item_labels, return_counts=True)\n",
    "_,b = np.unique(item_labels_kmeans, return_counts=True)\n",
    "for i in range(no_clusters):\n",
    "    print(i, f'gmm:  {a[i]:<6}, kmeans: {b[i]}')"
   ]
  },
  {
   "cell_type": "code",
   "execution_count": 59,
   "metadata": {},
   "outputs": [],
   "source": [
    "from itertools import product\n",
    "from tqdm import tqdm as progress_bar"
   ]
  },
  {
   "cell_type": "code",
   "execution_count": 33,
   "metadata": {},
   "outputs": [],
   "source": [
    "\n",
    "#for perp, ea, init_alg in progress_bar(product([8, 16, 32, 64], [8,16,32,64], ['random','pca']), total=32):\n",
    "\n",
    "#tsne=TSNE(2, init=init_alg, early_exaggeration=ea, perplexity=perp, verbose=0, n_iter=2000)\n",
    "#tsne_items_embeddings=tsne.fit_transform(np.vstack([items_embeddings, gm_means, kmeans_means]))\n",
    "\n",
    "fig = go.Figure()\n",
    "\n",
    "for label in np.unique(item_labels):\n",
    "    label_embedding=tsne_items_embeddings[:-2*no_clusters][item_labels==label]\n",
    "    fig.add_trace(go.Scatter(x=label_embedding[:,0], y=label_embedding[:,1], name=str(label), mode='markers'))\n",
    "\n",
    "for c in range(no_clusters):\n",
    "    fig.add_trace(go.Scatter(x=[tsne_items_embeddings[-2*no_clusters+c, 0]], y=[tsne_items_embeddings[-2*no_clusters+c, 1]], \n",
    "                            name=str(c), mode='markers', \n",
    "                            marker=dict(size=12,\n",
    "                                        line=dict(width=2,\n",
    "                                        color='DarkSlateGrey'))))\n",
    "\n",
    "\n",
    "fig.update_layout(title=f'TSNE reduced items embeddings with GM with {init_params} init, tol {tol},{covariance_type} covariance matrix',\n",
    "                margin=dict(l=40, r=40, t=40, b=40),\n",
    "                width=1000, height=800)\n",
    "fig.write_html(f'./images/items_tsne_{tsne.init}_perpexlity_{tsne.perplexity}_ea_{tsne.early_exaggeration}_GMM_{no_clusters}_{init_params}_{covariance_type}_{tol}_{opt.dataset}_{opt.hiddenSize}_{global_run_id.split(\"-\")[-1]}.html')\n",
    "del fig"
   ]
  },
  {
   "cell_type": "code",
   "execution_count": 34,
   "metadata": {},
   "outputs": [],
   "source": [
    "fig = go.Figure()\n",
    "\n",
    "for label in np.unique(item_labels_kmeans):\n",
    "    label_embedding=tsne_items_embeddings[:-2*no_clusters][item_labels_kmeans==label]\n",
    "    fig.add_trace(go.Scatter(x=label_embedding[:,0], y=label_embedding[:,1], name=str(label), mode='markers'))\n",
    "\n",
    "for c in range(no_clusters):\n",
    "    fig.add_trace(go.Scatter(x=[tsne_items_embeddings[-no_clusters+c, 0]], y=[tsne_items_embeddings[-no_clusters+c, 1]], \n",
    "                             name=str(c), mode='markers', \n",
    "                             marker=dict(size=12,\n",
    "                                        line=dict(width=2,\n",
    "                                        color='DarkSlateGrey'))))\n",
    "\n",
    "\n",
    "fig.update_layout(title='TSNE reduced items embeddings with Kmeans',\n",
    "                  margin=dict(l=40, r=40, t=40, b=40),\n",
    "                  width=1000, height=800)\n",
    "fig.write_html(f'./images/items_tsne_KMEANS_{tsne.init}_{no_clusters}_{init_params}_{opt.dataset}_{opt.hiddenSize}_{global_run_id.split(\"-\")[-1]}.html')\n",
    "del fig"
   ]
  },
  {
   "cell_type": "code",
   "execution_count": null,
   "metadata": {},
   "outputs": [],
   "source": []
  },
  {
   "cell_type": "markdown",
   "metadata": {},
   "source": [
    "## single session example"
   ]
  },
  {
   "cell_type": "code",
   "execution_count": 35,
   "metadata": {},
   "outputs": [],
   "source": [
    "with open('../datasets/' + opt.dataset + '/test.txt', 'rb') as f:\n",
    "    test_data = pickle.load(f)"
   ]
  },
  {
   "cell_type": "code",
   "execution_count": 1,
   "metadata": {},
   "outputs": [
    {
     "ename": "NameError",
     "evalue": "name 'test_data' is not defined",
     "output_type": "error",
     "traceback": [
      "\u001b[0;31m---------------------------------------------------------------------------\u001b[0m",
      "\u001b[0;31mNameError\u001b[0m                                 Traceback (most recent call last)",
      "Cell \u001b[0;32mIn[1], line 1\u001b[0m\n\u001b[0;32m----> 1\u001b[0m IDXS\u001b[38;5;241m=\u001b[39m[\u001b[38;5;28mlen\u001b[39m(i)\u001b[38;5;241m>\u001b[39m\u001b[38;5;241m8\u001b[39m \u001b[38;5;28;01mfor\u001b[39;00m i \u001b[38;5;129;01min\u001b[39;00m \u001b[43mtest_data\u001b[49m[\u001b[38;5;241m0\u001b[39m]]\n\u001b[1;32m      2\u001b[0m long_sessions\u001b[38;5;241m=\u001b[39mnp\u001b[38;5;241m.\u001b[39marange(\u001b[38;5;28mlen\u001b[39m(test_data[\u001b[38;5;241m0\u001b[39m]))[IDXS]\n",
      "\u001b[0;31mNameError\u001b[0m: name 'test_data' is not defined"
     ]
    }
   ],
   "source": [
    "IDXS=[len(i)>8 for i in test_data[0]]\n",
    "long_sessions=np.arange(len(test_data[0]))[IDXS]"
   ]
  },
  {
   "cell_type": "code",
   "execution_count": 110,
   "metadata": {},
   "outputs": [
    {
     "data": {
      "text/plain": [
       "(51388, 0.0, array([1, 1, 1, 1, 1, 4, 4, 1, 4]), 4)"
      ]
     },
     "execution_count": 110,
     "metadata": {},
     "output_type": "execute_result"
    }
   ],
   "source": [
    "idx=np.random.choice(long_sessions)\n",
    "\n",
    "seqence=test_data[0][idx]\n",
    "target=test_data[1][idx]\n",
    "idx, mrr[idx], item_labels[seqence], item_labels[target]"
   ]
  },
  {
   "cell_type": "code",
   "execution_count": 111,
   "metadata": {},
   "outputs": [
    {
     "name": "stdout",
     "output_type": "stream",
     "text": [
      "0->1 1.1324658\n",
      "1->2 0.9807097\n",
      "2->3 1.2016445\n",
      "3->4 1.3390483\n",
      "4->5 0.8861976\n",
      "5->6 0.8227661\n",
      "6->7 1.1084119\n",
      "7->8 1.1084119\n",
      "last->target 1.070477\n"
     ]
    }
   ],
   "source": [
    "l=[]\n",
    "for i in range(1, len(seqence)):\n",
    "    print(f'{i-1}->{i}',np.linalg.norm(items_embeddings[seqence[i]]-items_embeddings[seqence[i-1]]))\n",
    "print('last->target',np.linalg.norm(items_embeddings[seqence[-1]]-items_embeddings[target]))"
   ]
  },
  {
   "cell_type": "code",
   "execution_count": 122,
   "metadata": {},
   "outputs": [
    {
     "data": {
      "text/plain": [
       "[18613, 19338, 7139, 15094, 18612, 41103, 37910, 25758, 37910]"
      ]
     },
     "execution_count": 122,
     "metadata": {},
     "output_type": "execute_result"
    }
   ],
   "source": [
    "seqence"
   ]
  },
  {
   "cell_type": "code",
   "execution_count": 118,
   "metadata": {},
   "outputs": [],
   "source": [
    "import plotly.express as px\n",
    "colors=px.colors.qualitative.Plotly"
   ]
  },
  {
   "cell_type": "code",
   "execution_count": 119,
   "metadata": {},
   "outputs": [],
   "source": [
    "fig = go.Figure()\n",
    "\n",
    "for label in np.unique(item_labels):#[np.unique(item_labels, return_counts=True)[1]>len(item_labels)/ngmm]:\n",
    "    label_embedding=tsne_items_embeddings[:-2*no_clusters][item_labels==label]\n",
    "    fig.add_trace(go.Scatter(x=label_embedding[:,0], y=label_embedding[:,1], name=str(label), mode='markers', opacity=1))\n",
    "\n",
    "for i, item in enumerate(seqence):#[np.unique(item_labels, return_counts=True)[1]>len(item_labels)/ngmm]:\n",
    "    sequence_embedding=tsne_items_embeddings[item]\n",
    "    fig.add_trace(go.Scatter(x=[sequence_embedding[0]], y=[sequence_embedding[1]], \n",
    "                             name=f'item_{i}', mode='markers', \n",
    "                             marker=dict(size=20,\n",
    "                                         color=colors[item_labels[item]],\n",
    "                                        line=dict(width=2,\n",
    "                                        color='DarkSlateGrey'))))\n",
    "    \n",
    "fig.add_trace(go.Scatter(x=[tsne_items_embeddings[target][0]], y=[tsne_items_embeddings[target][1]], \n",
    "                             name=f'target', mode='markers', \n",
    "                            marker=dict(size=30,\n",
    "                                      color=colors[item_labels[target]],\n",
    "                                        line=dict(width=2,\n",
    "                                        color='DarkSlateGrey'))))\n",
    "\n",
    "sequence_embedding=tsne_items_embeddings[seqence]\n",
    "fig.add_trace(go.Scatter(x=sequence_embedding[:, 0], y=sequence_embedding[:, 1], \n",
    "                             name='session', mode='markers+lines', \n",
    "                             marker=dict(symbol=\"arrow\",\n",
    "                                        size=15,\n",
    "                                        angleref=\"previous\",\n",
    "                                        color='Black')\n",
    "                                        ))\n",
    "\n",
    "fig.add_trace(go.Scatter(x=[sequence_embedding[-1, 0], tsne_items_embeddings[target][0]],\n",
    "                          y=[sequence_embedding[-1, 1], tsne_items_embeddings[target][1]], \n",
    "                             name='prediciton', mode='markers+lines', \n",
    "                             marker=dict(symbol=\"arrow\",\n",
    "                                        size=15,\n",
    "                                        angleref=\"previous\",\n",
    "                                        color='Red')\n",
    "                                        ))\n",
    "    \n",
    "fig.update_layout(title='',\n",
    "                  margin=dict(l=40, r=40, t=40, b=40),\n",
    "                  width=1000, height=800)\n",
    "fig.write_html(f'./images/sequence_tsne_{tsne.init}_{opt.dataset}_{no_clusters}_{run_id.split(\"-\")[-1]}.html')\n",
    "del fig"
   ]
  },
  {
   "cell_type": "code",
   "execution_count": 40,
   "metadata": {},
   "outputs": [
    {
     "data": {
      "text/html": [
       "<div>\n",
       "<style scoped>\n",
       "    .dataframe tbody tr th:only-of-type {\n",
       "        vertical-align: middle;\n",
       "    }\n",
       "\n",
       "    .dataframe tbody tr th {\n",
       "        vertical-align: top;\n",
       "    }\n",
       "\n",
       "    .dataframe thead th {\n",
       "        text-align: right;\n",
       "    }\n",
       "</style>\n",
       "<table border=\"1\" class=\"dataframe\">\n",
       "  <thead>\n",
       "    <tr style=\"text-align: right;\">\n",
       "      <th></th>\n",
       "      <th>item_id</th>\n",
       "      <th>pricelog2</th>\n",
       "      <th>product.name.tokens</th>\n",
       "      <th>category</th>\n",
       "      <th>frequency</th>\n",
       "    </tr>\n",
       "    <tr>\n",
       "      <th>item_number</th>\n",
       "      <th></th>\n",
       "      <th></th>\n",
       "      <th></th>\n",
       "      <th></th>\n",
       "      <th></th>\n",
       "    </tr>\n",
       "  </thead>\n",
       "  <tbody>\n",
       "    <tr>\n",
       "      <th>42776</th>\n",
       "      <td>391312</td>\n",
       "      <td>9</td>\n",
       "      <td>18900,18900,528642</td>\n",
       "      <td>316</td>\n",
       "      <td>25</td>\n",
       "    </tr>\n",
       "    <tr>\n",
       "      <th>43052</th>\n",
       "      <td>383974</td>\n",
       "      <td>0</td>\n",
       "      <td>527974,8130,8130</td>\n",
       "      <td>23</td>\n",
       "      <td>5</td>\n",
       "    </tr>\n",
       "    <tr>\n",
       "      <th>3397</th>\n",
       "      <td>22028</td>\n",
       "      <td>8</td>\n",
       "      <td>37,37,15034</td>\n",
       "      <td>416</td>\n",
       "      <td>61</td>\n",
       "    </tr>\n",
       "    <tr>\n",
       "      <th>40897</th>\n",
       "      <td>251104</td>\n",
       "      <td>8</td>\n",
       "      <td>4529,47,47</td>\n",
       "      <td>416</td>\n",
       "      <td>5</td>\n",
       "    </tr>\n",
       "    <tr>\n",
       "      <th>4219</th>\n",
       "      <td>133577</td>\n",
       "      <td>10</td>\n",
       "      <td>59070,59070,508666</td>\n",
       "      <td>416</td>\n",
       "      <td>24</td>\n",
       "    </tr>\n",
       "    <tr>\n",
       "      <th>24223</th>\n",
       "      <td>48379</td>\n",
       "      <td>8</td>\n",
       "      <td>2785,3167,2783,2783</td>\n",
       "      <td>562</td>\n",
       "      <td>65</td>\n",
       "    </tr>\n",
       "    <tr>\n",
       "      <th>40322</th>\n",
       "      <td>65764</td>\n",
       "      <td>8</td>\n",
       "      <td>2770,2770,399729</td>\n",
       "      <td>562</td>\n",
       "      <td>27</td>\n",
       "    </tr>\n",
       "    <tr>\n",
       "      <th>38575</th>\n",
       "      <td>30789</td>\n",
       "      <td>8</td>\n",
       "      <td>116362,58302,58302</td>\n",
       "      <td>562</td>\n",
       "      <td>47</td>\n",
       "    </tr>\n",
       "  </tbody>\n",
       "</table>\n",
       "</div>"
      ],
      "text/plain": [
       "             item_id  pricelog2  product.name.tokens  category  frequency\n",
       "item_number                                                              \n",
       "42776         391312          9   18900,18900,528642       316         25\n",
       "43052         383974          0     527974,8130,8130        23          5\n",
       "3397           22028          8          37,37,15034       416         61\n",
       "40897         251104          8           4529,47,47       416          5\n",
       "4219          133577         10   59070,59070,508666       416         24\n",
       "24223          48379          8  2785,3167,2783,2783       562         65\n",
       "40322          65764          8     2770,2770,399729       562         27\n",
       "38575          30789          8   116362,58302,58302       562         47"
      ]
     },
     "execution_count": 40,
     "metadata": {},
     "output_type": "execute_result"
    }
   ],
   "source": [
    "items_df.loc[items_df.item_number.isin(seqence)].copy().set_index('item_number').loc[seqence]"
   ]
  },
  {
   "cell_type": "markdown",
   "metadata": {},
   "source": [
    "# SERP info (diginetica only)"
   ]
  },
  {
   "cell_type": "markdown",
   "metadata": {},
   "source": [
    "## calculate statistics"
   ]
  },
  {
   "cell_type": "code",
   "execution_count": 176,
   "metadata": {},
   "outputs": [
    {
     "name": "stderr",
     "output_type": "stream",
     "text": [
      "/tmp/ipykernel_8516/1821352848.py:4: DtypeWarning:\n",
      "\n",
      "Columns (6) have mixed types. Specify dtype option on import or set low_memory=False.\n",
      "\n"
     ]
    }
   ],
   "source": [
    "clicks_df=df=pd.read_csv('../datasets/train-item-views.csv', sep=';', \n",
    "                          names=['session_id','userId','item_id','timeframe','eventdate'], \n",
    "                          dtype={'item_id':str}).sort_values(by=['session_id','timeframe']).reset_index(drop=True)\n"
   ]
  },
  {
   "cell_type": "code",
   "execution_count": 21,
   "metadata": {},
   "outputs": [
    {
     "name": "stderr",
     "output_type": "stream",
     "text": [
      "/tmp/ipykernel_14967/3225500134.py:1: DtypeWarning: Columns (6) have mixed types. Specify dtype option on import or set low_memory=False.\n",
      "  qu_df=pd.read_csv('../datasets/train-queries.csv', sep=';').rename(columns={\n"
     ]
    }
   ],
   "source": [
    "qu_df=pd.read_csv('../datasets/train-queries.csv', sep=';').rename(columns={\n",
    "    'sessionId':'session_id','categoryId':'category','items':'serp', 'queryId':'query_id'\n",
    "}).sort_values(by=['session_id','timeframe','query_id']).reset_index(drop=True)"
   ]
  },
  {
   "cell_type": "code",
   "execution_count": 161,
   "metadata": {},
   "outputs": [
    {
     "data": {
      "text/html": [
       "<div>\n",
       "<style scoped>\n",
       "    .dataframe tbody tr th:only-of-type {\n",
       "        vertical-align: middle;\n",
       "    }\n",
       "\n",
       "    .dataframe tbody tr th {\n",
       "        vertical-align: top;\n",
       "    }\n",
       "\n",
       "    .dataframe thead th {\n",
       "        text-align: right;\n",
       "    }\n",
       "</style>\n",
       "<table border=\"1\" class=\"dataframe\">\n",
       "  <thead>\n",
       "    <tr style=\"text-align: right;\">\n",
       "      <th></th>\n",
       "      <th>item_id</th>\n",
       "      <th>pricelog2</th>\n",
       "      <th>product.name.tokens</th>\n",
       "      <th>category</th>\n",
       "      <th>item_number</th>\n",
       "      <th>frequency</th>\n",
       "    </tr>\n",
       "  </thead>\n",
       "  <tbody>\n",
       "    <tr>\n",
       "      <th>0</th>\n",
       "      <td>69585</td>\n",
       "      <td>6</td>\n",
       "      <td>7583,18117,41805,41805,2371</td>\n",
       "      <td>176</td>\n",
       "      <td>7556</td>\n",
       "      <td>45</td>\n",
       "    </tr>\n",
       "    <tr>\n",
       "      <th>1</th>\n",
       "      <td>90939</td>\n",
       "      <td>6</td>\n",
       "      <td>604,18117,41805,41805,2371</td>\n",
       "      <td>176</td>\n",
       "      <td>1245</td>\n",
       "      <td>10</td>\n",
       "    </tr>\n",
       "    <tr>\n",
       "      <th>2</th>\n",
       "      <td>69586</td>\n",
       "      <td>0</td>\n",
       "      <td>2936,18117,41805,41805,2371</td>\n",
       "      <td>176</td>\n",
       "      <td>15895</td>\n",
       "      <td>13</td>\n",
       "    </tr>\n",
       "    <tr>\n",
       "      <th>3</th>\n",
       "      <td>30029</td>\n",
       "      <td>7</td>\n",
       "      <td>4668,41805,41805,56652</td>\n",
       "      <td>176</td>\n",
       "      <td>5037</td>\n",
       "      <td>24</td>\n",
       "    </tr>\n",
       "    <tr>\n",
       "      <th>4</th>\n",
       "      <td>7492</td>\n",
       "      <td>9</td>\n",
       "      <td>3011,4632,10402,9562,9562,11721</td>\n",
       "      <td>684</td>\n",
       "      <td>9655</td>\n",
       "      <td>188</td>\n",
       "    </tr>\n",
       "  </tbody>\n",
       "</table>\n",
       "</div>"
      ],
      "text/plain": [
       "   item_id  pricelog2              product.name.tokens  category  item_number  \\\n",
       "0    69585          6      7583,18117,41805,41805,2371       176         7556   \n",
       "1    90939          6       604,18117,41805,41805,2371       176         1245   \n",
       "2    69586          0      2936,18117,41805,41805,2371       176        15895   \n",
       "3    30029          7           4668,41805,41805,56652       176         5037   \n",
       "4     7492          9  3011,4632,10402,9562,9562,11721       684         9655   \n",
       "\n",
       "   frequency  \n",
       "0         45  \n",
       "1         10  \n",
       "2         13  \n",
       "3         24  \n",
       "4        188  "
      ]
     },
     "execution_count": 161,
     "metadata": {},
     "output_type": "execute_result"
    }
   ],
   "source": [
    "items_df.head()"
   ]
  },
  {
   "cell_type": "code",
   "execution_count": 22,
   "metadata": {},
   "outputs": [],
   "source": [
    "def get_query_for_session_clicks(sid):\n",
    "    q=qu_df.loc[qu_df.session_id==sid]\n",
    "    s=clicks_df.loc[clicks_df.session_id==sid]\n",
    "    qids=[]\n",
    "    serps=[]\n",
    "    for timeframe in s.timeframe:\n",
    "        idxs=(q.timeframe<timeframe).values\n",
    "        vals=q.query_id.values[idxs]\n",
    "        s_vals=q.serp.values[idxs]\n",
    "        qid=np.nan\n",
    "        serp=np.nan\n",
    "        if len(vals):\n",
    "            qid=vals[-1]\n",
    "            serp=s_vals[-1]\n",
    "        qids.append(qid)\n",
    "        serps.append(serp)\n",
    "    return (sid, qids, serps)"
   ]
  },
  {
   "cell_type": "code",
   "execution_count": 185,
   "metadata": {},
   "outputs": [],
   "source": [
    "serp_df=pd.DataFrame([get_query_for_session_clicks(sid) for sid in clicks_df.session_id.unique()], columns=['session_id','query_id','serp'])"
   ]
  },
  {
   "cell_type": "code",
   "execution_count": 196,
   "metadata": {},
   "outputs": [],
   "source": [
    "clicks_df['query_id']=serp_df.explode(column=['query_id','serp']).query_id.values\n",
    "clicks_df['serp']=serp_df.explode(column=['query_id','serp']).serp.values"
   ]
  },
  {
   "cell_type": "code",
   "execution_count": 131,
   "metadata": {},
   "outputs": [
    {
     "data": {
      "text/html": [
       "<div>\n",
       "<style scoped>\n",
       "    .dataframe tbody tr th:only-of-type {\n",
       "        vertical-align: middle;\n",
       "    }\n",
       "\n",
       "    .dataframe tbody tr th {\n",
       "        vertical-align: top;\n",
       "    }\n",
       "\n",
       "    .dataframe thead th {\n",
       "        text-align: right;\n",
       "    }\n",
       "</style>\n",
       "<table border=\"1\" class=\"dataframe\">\n",
       "  <thead>\n",
       "    <tr style=\"text-align: right;\">\n",
       "      <th></th>\n",
       "      <th>session_id</th>\n",
       "      <th>userId</th>\n",
       "      <th>item_id</th>\n",
       "      <th>timeframe</th>\n",
       "      <th>eventdate</th>\n",
       "      <th>query_id</th>\n",
       "      <th>serp</th>\n",
       "      <th>serp_pos</th>\n",
       "      <th>serp_len</th>\n",
       "      <th>dist_from_serp</th>\n",
       "    </tr>\n",
       "  </thead>\n",
       "  <tbody>\n",
       "    <tr>\n",
       "      <th>0</th>\n",
       "      <td>1</td>\n",
       "      <td>NaN</td>\n",
       "      <td>9654</td>\n",
       "      <td>75848</td>\n",
       "      <td>2016-05-09</td>\n",
       "      <td>890364.0</td>\n",
       "      <td>7518,69648,71,30254,80775,30311,342,7837,81099...</td>\n",
       "      <td>0.065199</td>\n",
       "      <td>199.0</td>\n",
       "      <td>0.976442</td>\n",
       "    </tr>\n",
       "    <tr>\n",
       "      <th>1</th>\n",
       "      <td>1</td>\n",
       "      <td>NaN</td>\n",
       "      <td>33043</td>\n",
       "      <td>173912</td>\n",
       "      <td>2016-05-09</td>\n",
       "      <td>890364.0</td>\n",
       "      <td>7518,69648,71,30254,80775,30311,342,7837,81099...</td>\n",
       "      <td>0.093988</td>\n",
       "      <td>199.0</td>\n",
       "      <td>0.819720</td>\n",
       "    </tr>\n",
       "    <tr>\n",
       "      <th>2</th>\n",
       "      <td>1</td>\n",
       "      <td>NaN</td>\n",
       "      <td>32118</td>\n",
       "      <td>243569</td>\n",
       "      <td>2016-05-09</td>\n",
       "      <td>890364.0</td>\n",
       "      <td>7518,69648,71,30254,80775,30311,342,7837,81099...</td>\n",
       "      <td>0.062659</td>\n",
       "      <td>199.0</td>\n",
       "      <td>0.786291</td>\n",
       "    </tr>\n",
       "    <tr>\n",
       "      <th>3</th>\n",
       "      <td>1</td>\n",
       "      <td>NaN</td>\n",
       "      <td>12352</td>\n",
       "      <td>329870</td>\n",
       "      <td>2016-05-09</td>\n",
       "      <td>890364.0</td>\n",
       "      <td>7518,69648,71,30254,80775,30311,342,7837,81099...</td>\n",
       "      <td>0.132091</td>\n",
       "      <td>199.0</td>\n",
       "      <td>0.881767</td>\n",
       "    </tr>\n",
       "    <tr>\n",
       "      <th>4</th>\n",
       "      <td>1</td>\n",
       "      <td>NaN</td>\n",
       "      <td>35077</td>\n",
       "      <td>390072</td>\n",
       "      <td>2016-05-09</td>\n",
       "      <td>890364.0</td>\n",
       "      <td>7518,69648,71,30254,80775,30311,342,7837,81099...</td>\n",
       "      <td>0.136325</td>\n",
       "      <td>199.0</td>\n",
       "      <td>0.867209</td>\n",
       "    </tr>\n",
       "  </tbody>\n",
       "</table>\n",
       "</div>"
      ],
      "text/plain": [
       "   session_id  userId  item_id  timeframe   eventdate  query_id  \\\n",
       "0           1     NaN     9654      75848  2016-05-09  890364.0   \n",
       "1           1     NaN    33043     173912  2016-05-09  890364.0   \n",
       "2           1     NaN    32118     243569  2016-05-09  890364.0   \n",
       "3           1     NaN    12352     329870  2016-05-09  890364.0   \n",
       "4           1     NaN    35077     390072  2016-05-09  890364.0   \n",
       "\n",
       "                                                serp  serp_pos  serp_len  \\\n",
       "0  7518,69648,71,30254,80775,30311,342,7837,81099...  0.065199     199.0   \n",
       "1  7518,69648,71,30254,80775,30311,342,7837,81099...  0.093988     199.0   \n",
       "2  7518,69648,71,30254,80775,30311,342,7837,81099...  0.062659     199.0   \n",
       "3  7518,69648,71,30254,80775,30311,342,7837,81099...  0.132091     199.0   \n",
       "4  7518,69648,71,30254,80775,30311,342,7837,81099...  0.136325     199.0   \n",
       "\n",
       "   dist_from_serp  \n",
       "0        0.976442  \n",
       "1        0.819720  \n",
       "2        0.786291  \n",
       "3        0.881767  \n",
       "4        0.867209  "
      ]
     },
     "execution_count": 131,
     "metadata": {},
     "output_type": "execute_result"
    }
   ],
   "source": [
    "clicks_df.head()"
   ]
  },
  {
   "cell_type": "code",
   "execution_count": 23,
   "metadata": {},
   "outputs": [],
   "source": [
    "def item_pos_in_serp(row):\n",
    "    if row.query_id is np.nan:\n",
    "        return -1\n",
    "    serp=row.serp.split(',')\n",
    "    if str(row.item_id) in serp:\n",
    "        return serp.index(str(row.item_id))/len(row.serp)\n",
    "    else: return -1"
   ]
  },
  {
   "cell_type": "code",
   "execution_count": 229,
   "metadata": {},
   "outputs": [],
   "source": [
    "clicks_df['serp_pos']=clicks_df.apply(lambda r: item_pos_in_serp(r), axis=1, )\n",
    "clicks_df['serp_len']=clicks_df.apply(lambda r: np.nan if r.serp is np.nan else len(r.serp.split(',')), axis=1, )"
   ]
  },
  {
   "cell_type": "code",
   "execution_count": 231,
   "metadata": {},
   "outputs": [],
   "source": [
    "#clicks_df.to_csv('../datasets/diginetica/clicks_df.csv')"
   ]
  },
  {
   "cell_type": "code",
   "execution_count": 18,
   "metadata": {},
   "outputs": [],
   "source": [
    "#clicks_df=pd.read_csv('../datasets/diginetica/clicks_df.csv').drop(columns='Unnamed: 0')"
   ]
  },
  {
   "cell_type": "code",
   "execution_count": 22,
   "metadata": {},
   "outputs": [
    {
     "data": {
      "text/html": [
       "<div>\n",
       "<style scoped>\n",
       "    .dataframe tbody tr th:only-of-type {\n",
       "        vertical-align: middle;\n",
       "    }\n",
       "\n",
       "    .dataframe tbody tr th {\n",
       "        vertical-align: top;\n",
       "    }\n",
       "\n",
       "    .dataframe thead th {\n",
       "        text-align: right;\n",
       "    }\n",
       "</style>\n",
       "<table border=\"1\" class=\"dataframe\">\n",
       "  <thead>\n",
       "    <tr style=\"text-align: right;\">\n",
       "      <th></th>\n",
       "      <th>session_id</th>\n",
       "      <th>userId</th>\n",
       "      <th>item_id</th>\n",
       "      <th>timeframe</th>\n",
       "      <th>eventdate</th>\n",
       "      <th>query_id</th>\n",
       "      <th>serp</th>\n",
       "      <th>serp_pos</th>\n",
       "      <th>serp_len</th>\n",
       "    </tr>\n",
       "  </thead>\n",
       "  <tbody>\n",
       "    <tr>\n",
       "      <th>0</th>\n",
       "      <td>1</td>\n",
       "      <td>NaN</td>\n",
       "      <td>9654</td>\n",
       "      <td>75848</td>\n",
       "      <td>2016-05-09</td>\n",
       "      <td>890364.0</td>\n",
       "      <td>7518,69648,71,30254,80775,30311,342,7837,81099...</td>\n",
       "      <td>0.065199</td>\n",
       "      <td>199.0</td>\n",
       "    </tr>\n",
       "    <tr>\n",
       "      <th>1</th>\n",
       "      <td>1</td>\n",
       "      <td>NaN</td>\n",
       "      <td>33043</td>\n",
       "      <td>173912</td>\n",
       "      <td>2016-05-09</td>\n",
       "      <td>890364.0</td>\n",
       "      <td>7518,69648,71,30254,80775,30311,342,7837,81099...</td>\n",
       "      <td>0.093988</td>\n",
       "      <td>199.0</td>\n",
       "    </tr>\n",
       "    <tr>\n",
       "      <th>2</th>\n",
       "      <td>1</td>\n",
       "      <td>NaN</td>\n",
       "      <td>32118</td>\n",
       "      <td>243569</td>\n",
       "      <td>2016-05-09</td>\n",
       "      <td>890364.0</td>\n",
       "      <td>7518,69648,71,30254,80775,30311,342,7837,81099...</td>\n",
       "      <td>0.062659</td>\n",
       "      <td>199.0</td>\n",
       "    </tr>\n",
       "    <tr>\n",
       "      <th>3</th>\n",
       "      <td>1</td>\n",
       "      <td>NaN</td>\n",
       "      <td>12352</td>\n",
       "      <td>329870</td>\n",
       "      <td>2016-05-09</td>\n",
       "      <td>890364.0</td>\n",
       "      <td>7518,69648,71,30254,80775,30311,342,7837,81099...</td>\n",
       "      <td>0.132091</td>\n",
       "      <td>199.0</td>\n",
       "    </tr>\n",
       "    <tr>\n",
       "      <th>4</th>\n",
       "      <td>1</td>\n",
       "      <td>NaN</td>\n",
       "      <td>35077</td>\n",
       "      <td>390072</td>\n",
       "      <td>2016-05-09</td>\n",
       "      <td>890364.0</td>\n",
       "      <td>7518,69648,71,30254,80775,30311,342,7837,81099...</td>\n",
       "      <td>0.136325</td>\n",
       "      <td>199.0</td>\n",
       "    </tr>\n",
       "  </tbody>\n",
       "</table>\n",
       "</div>"
      ],
      "text/plain": [
       "   session_id  userId  item_id  timeframe   eventdate  query_id  \\\n",
       "0           1     NaN     9654      75848  2016-05-09  890364.0   \n",
       "1           1     NaN    33043     173912  2016-05-09  890364.0   \n",
       "2           1     NaN    32118     243569  2016-05-09  890364.0   \n",
       "3           1     NaN    12352     329870  2016-05-09  890364.0   \n",
       "4           1     NaN    35077     390072  2016-05-09  890364.0   \n",
       "\n",
       "                                                serp  serp_pos  serp_len  \n",
       "0  7518,69648,71,30254,80775,30311,342,7837,81099...  0.065199     199.0  \n",
       "1  7518,69648,71,30254,80775,30311,342,7837,81099...  0.093988     199.0  \n",
       "2  7518,69648,71,30254,80775,30311,342,7837,81099...  0.062659     199.0  \n",
       "3  7518,69648,71,30254,80775,30311,342,7837,81099...  0.132091     199.0  \n",
       "4  7518,69648,71,30254,80775,30311,342,7837,81099...  0.136325     199.0  "
      ]
     },
     "execution_count": 22,
     "metadata": {},
     "output_type": "execute_result"
    }
   ],
   "source": [
    "clicks_df.head()"
   ]
  },
  {
   "cell_type": "code",
   "execution_count": 130,
   "metadata": {},
   "outputs": [
    {
     "data": {
      "text/plain": [
       "962"
      ]
     },
     "execution_count": 130,
     "metadata": {},
     "output_type": "execute_result"
    }
   ],
   "source": [
    "print('Number of catagories in both queries and items: ', len(set(qu_df.category.unique()) & set(items_df.category.unique())))"
   ]
  },
  {
   "cell_type": "code",
   "execution_count": 25,
   "metadata": {},
   "outputs": [
    {
     "name": "stderr",
     "output_type": "stream",
     "text": [
      "43097it [00:01, 34855.27it/s]\n"
     ]
    }
   ],
   "source": [
    "item_dict={}\n",
    "for _, r in tqdm(items_df.iterrows()):\n",
    "    item_dict[r.item_id]=r.item_number"
   ]
  },
  {
   "cell_type": "code",
   "execution_count": 26,
   "metadata": {},
   "outputs": [],
   "source": [
    "def serp_center(qid, serp):\n",
    "    if serp is np.nan:\n",
    "        return (qid, np.nan)\n",
    "    items=[]\n",
    "    for i in serp.split(','):\n",
    "        if int(i) in item_dict.keys():\n",
    "            items.append(item_dict[int(i)])\n",
    "    if items:\n",
    "        embs=get_items_embedding(model, torch.tensor(items, device=model.device)).cpu().detach().numpy()\n",
    "        return (qid, np.average(embs, axis=0))\n",
    "    return (qid, np.nan)"
   ]
  },
  {
   "cell_type": "code",
   "execution_count": 28,
   "metadata": {},
   "outputs": [],
   "source": [
    "q_serp_dict=(clicks_df[['query_id', 'serp']].drop_duplicates().apply(lambda r: serp_center(r.query_id, r.serp), axis=1))\n",
    "q_serp_dict=dict([x for x in q_serp_dict])"
   ]
  },
  {
   "cell_type": "code",
   "execution_count": 27,
   "metadata": {},
   "outputs": [],
   "source": [
    "def get_dist_form_serp(r):\n",
    "    if (int(r.item_id) in item_dict.keys()) and not np.isnan(r.query_id):\n",
    "        return np.linalg.norm(items_embeddings[item_dict[int(r.item_id)]]-q_serp_dict[r.query_id]) \n",
    "    else: return np.nan"
   ]
  },
  {
   "cell_type": "code",
   "execution_count": 29,
   "metadata": {},
   "outputs": [],
   "source": [
    "dist_from_serp=clicks_df.apply(lambda r: get_dist_form_serp(r), axis=1).values"
   ]
  },
  {
   "cell_type": "code",
   "execution_count": 30,
   "metadata": {},
   "outputs": [],
   "source": [
    "clicks_df['dist_from_serp']=dist_from_serp"
   ]
  },
  {
   "cell_type": "code",
   "execution_count": 33,
   "metadata": {},
   "outputs": [
    {
     "data": {
      "image/png": "[encoded data removed]",
      "text/plain": [
       "<Figure size 640x480 with 1 Axes>"
      ]
     },
     "metadata": {},
     "output_type": "display_data"
    }
   ],
   "source": [
    "plt.hist(dist_from_serp, bins=100)\n",
    "plt.title('Distribution: Distance of item emb from SERP item embeddings center')\n",
    "plt.show()"
   ]
  },
  {
   "cell_type": "code",
   "execution_count": 34,
   "metadata": {},
   "outputs": [
    {
     "data": {
      "image/png": "[encoded data removed]",
      "text/plain": [
       "<Figure size 640x480 with 1 Axes>"
      ]
     },
     "metadata": {},
     "output_type": "display_data"
    }
   ],
   "source": [
    "plt.hist(clicks_df.loc[clicks_df.session_id.isin(test_session_ids)].dist_from_serp, bins=100)\n",
    "plt.title('Same but for test sessions only')\n",
    "plt.show()"
   ]
  },
  {
   "cell_type": "code",
   "execution_count": 155,
   "metadata": {},
   "outputs": [],
   "source": [
    "clicks_df['item_number']=clicks_df.item_id.map(lambda x: item_dict[int(x)] if int(x) in item_dict.keys() else -1)"
   ]
  },
  {
   "cell_type": "code",
   "execution_count": 35,
   "metadata": {},
   "outputs": [
    {
     "data": {
      "text/html": [
       "<div>\n",
       "<style scoped>\n",
       "    .dataframe tbody tr th:only-of-type {\n",
       "        vertical-align: middle;\n",
       "    }\n",
       "\n",
       "    .dataframe tbody tr th {\n",
       "        vertical-align: top;\n",
       "    }\n",
       "\n",
       "    .dataframe thead th {\n",
       "        text-align: right;\n",
       "    }\n",
       "</style>\n",
       "<table border=\"1\" class=\"dataframe\">\n",
       "  <thead>\n",
       "    <tr style=\"text-align: right;\">\n",
       "      <th></th>\n",
       "      <th>length</th>\n",
       "      <th>frequency</th>\n",
       "      <th>no_categories</th>\n",
       "      <th>target_category</th>\n",
       "      <th>target</th>\n",
       "      <th>session_id</th>\n",
       "      <th>hit</th>\n",
       "      <th>mrr</th>\n",
       "    </tr>\n",
       "  </thead>\n",
       "  <tbody>\n",
       "    <tr>\n",
       "      <th>5</th>\n",
       "      <td>3</td>\n",
       "      <td>269.0</td>\n",
       "      <td>1</td>\n",
       "      <td>False</td>\n",
       "      <td>23671</td>\n",
       "      <td>100083</td>\n",
       "      <td>False</td>\n",
       "      <td>0.0</td>\n",
       "    </tr>\n",
       "    <tr>\n",
       "      <th>6</th>\n",
       "      <td>1</td>\n",
       "      <td>502.0</td>\n",
       "      <td>1</td>\n",
       "      <td>True</td>\n",
       "      <td>36257</td>\n",
       "      <td>100083</td>\n",
       "      <td>True</td>\n",
       "      <td>0.3333333432674408</td>\n",
       "    </tr>\n",
       "    <tr>\n",
       "      <th>7</th>\n",
       "      <td>2</td>\n",
       "      <td>391.0</td>\n",
       "      <td>1</td>\n",
       "      <td>True</td>\n",
       "      <td>42615</td>\n",
       "      <td>100083</td>\n",
       "      <td>False</td>\n",
       "      <td>0.0</td>\n",
       "    </tr>\n",
       "  </tbody>\n",
       "</table>\n",
       "</div>"
      ],
      "text/plain": [
       "  length frequency no_categories target_category  target  session_id    hit  \\\n",
       "5      3     269.0             1           False   23671      100083  False   \n",
       "6      1     502.0             1            True   36257      100083   True   \n",
       "7      2     391.0             1            True   42615      100083  False   \n",
       "\n",
       "                  mrr  \n",
       "5                 0.0  \n",
       "6  0.3333333432674408  \n",
       "7                 0.0  "
      ]
     },
     "execution_count": 35,
     "metadata": {},
     "output_type": "execute_result"
    }
   ],
   "source": [
    "session_df.loc[session_df.session_id==100083]"
   ]
  },
  {
   "cell_type": "code",
   "execution_count": 36,
   "metadata": {},
   "outputs": [
    {
     "data": {
      "text/html": [
       "<div>\n",
       "<style scoped>\n",
       "    .dataframe tbody tr th:only-of-type {\n",
       "        vertical-align: middle;\n",
       "    }\n",
       "\n",
       "    .dataframe tbody tr th {\n",
       "        vertical-align: top;\n",
       "    }\n",
       "\n",
       "    .dataframe thead th {\n",
       "        text-align: right;\n",
       "    }\n",
       "</style>\n",
       "<table border=\"1\" class=\"dataframe\">\n",
       "  <thead>\n",
       "    <tr style=\"text-align: right;\">\n",
       "      <th></th>\n",
       "      <th>session_id</th>\n",
       "      <th>userId</th>\n",
       "      <th>item_id</th>\n",
       "      <th>timeframe</th>\n",
       "      <th>eventdate</th>\n",
       "      <th>query_id</th>\n",
       "      <th>serp</th>\n",
       "      <th>serp_pos</th>\n",
       "      <th>serp_len</th>\n",
       "      <th>dist_from_serp</th>\n",
       "      <th>item_number</th>\n",
       "      <th>no_clusters_serp</th>\n",
       "      <th>target_cluster_proportion</th>\n",
       "      <th>serp_abs_pos</th>\n",
       "      <th>search_query</th>\n",
       "    </tr>\n",
       "  </thead>\n",
       "  <tbody>\n",
       "    <tr>\n",
       "      <th>304116</th>\n",
       "      <td>100083</td>\n",
       "      <td>NaN</td>\n",
       "      <td>376301</td>\n",
       "      <td>11074</td>\n",
       "      <td>2016-05-26</td>\n",
       "      <td>617707.0</td>\n",
       "      <td>82598,39360,32775,176612,10557,33037,27802,155...</td>\n",
       "      <td>0.122050</td>\n",
       "      <td>189.0</td>\n",
       "      <td>1.039145</td>\n",
       "      <td>38882</td>\n",
       "      <td>2.0</td>\n",
       "      <td>0.994681</td>\n",
       "      <td>23.0</td>\n",
       "      <td>False</td>\n",
       "    </tr>\n",
       "    <tr>\n",
       "      <th>304117</th>\n",
       "      <td>100083</td>\n",
       "      <td>NaN</td>\n",
       "      <td>181526</td>\n",
       "      <td>68526</td>\n",
       "      <td>2016-05-26</td>\n",
       "      <td>617707.0</td>\n",
       "      <td>82598,39360,32775,176612,10557,33037,27802,155...</td>\n",
       "      <td>0.049634</td>\n",
       "      <td>189.0</td>\n",
       "      <td>0.939668</td>\n",
       "      <td>36257</td>\n",
       "      <td>2.0</td>\n",
       "      <td>0.994681</td>\n",
       "      <td>9.0</td>\n",
       "      <td>False</td>\n",
       "    </tr>\n",
       "    <tr>\n",
       "      <th>304118</th>\n",
       "      <td>100083</td>\n",
       "      <td>NaN</td>\n",
       "      <td>387877</td>\n",
       "      <td>146509</td>\n",
       "      <td>2016-05-26</td>\n",
       "      <td>617707.0</td>\n",
       "      <td>82598,39360,32775,176612,10557,33037,27802,155...</td>\n",
       "      <td>NaN</td>\n",
       "      <td>189.0</td>\n",
       "      <td>0.939321</td>\n",
       "      <td>42615</td>\n",
       "      <td>2.0</td>\n",
       "      <td>0.994681</td>\n",
       "      <td>NaN</td>\n",
       "      <td>False</td>\n",
       "    </tr>\n",
       "    <tr>\n",
       "      <th>304119</th>\n",
       "      <td>100083</td>\n",
       "      <td>NaN</td>\n",
       "      <td>12459</td>\n",
       "      <td>376339</td>\n",
       "      <td>2016-05-26</td>\n",
       "      <td>737542.0</td>\n",
       "      <td>1646,129592,9125,31613,16335,9126,83278,83280,...</td>\n",
       "      <td>0.061086</td>\n",
       "      <td>136.0</td>\n",
       "      <td>0.941409</td>\n",
       "      <td>23671</td>\n",
       "      <td>5.0</td>\n",
       "      <td>0.784810</td>\n",
       "      <td>8.0</td>\n",
       "      <td>False</td>\n",
       "    </tr>\n",
       "  </tbody>\n",
       "</table>\n",
       "</div>"
      ],
      "text/plain": [
       "        session_id  userId  item_id  timeframe   eventdate  query_id  \\\n",
       "304116      100083     NaN   376301      11074  2016-05-26  617707.0   \n",
       "304117      100083     NaN   181526      68526  2016-05-26  617707.0   \n",
       "304118      100083     NaN   387877     146509  2016-05-26  617707.0   \n",
       "304119      100083     NaN    12459     376339  2016-05-26  737542.0   \n",
       "\n",
       "                                                     serp  serp_pos  serp_len  \\\n",
       "304116  82598,39360,32775,176612,10557,33037,27802,155...  0.122050     189.0   \n",
       "304117  82598,39360,32775,176612,10557,33037,27802,155...  0.049634     189.0   \n",
       "304118  82598,39360,32775,176612,10557,33037,27802,155...       NaN     189.0   \n",
       "304119  1646,129592,9125,31613,16335,9126,83278,83280,...  0.061086     136.0   \n",
       "\n",
       "        dist_from_serp  item_number  no_clusters_serp  \\\n",
       "304116        1.039145        38882               2.0   \n",
       "304117        0.939668        36257               2.0   \n",
       "304118        0.939321        42615               2.0   \n",
       "304119        0.941409        23671               5.0   \n",
       "\n",
       "        target_cluster_proportion  serp_abs_pos search_query  \n",
       "304116                   0.994681          23.0        False  \n",
       "304117                   0.994681           9.0        False  \n",
       "304118                   0.994681           NaN        False  \n",
       "304119                   0.784810           8.0        False  "
      ]
     },
     "execution_count": 36,
     "metadata": {},
     "output_type": "execute_result"
    }
   ],
   "source": [
    "clicks_df.loc[clicks_df.session_id==100083]"
   ]
  },
  {
   "cell_type": "code",
   "execution_count": 190,
   "metadata": {},
   "outputs": [],
   "source": [
    "clicks_df.serp_pos=clicks_df.serp_pos.map(lambda x: x if x>=0 else np.nan)"
   ]
  },
  {
   "cell_type": "code",
   "execution_count": null,
   "metadata": {},
   "outputs": [],
   "source": [
    "def is_search_query(qid):\n",
    "    st=qu_df.loc[qu_df.query_id==qid]['searchstring.tokens']\n",
    "    if st.shape[0]!=1:\n",
    "        return False\n",
    "    st=st.item()\n",
    "    if isinstance(st, float):\n",
    "        return False\n",
    "    return True"
   ]
  },
  {
   "cell_type": "code",
   "execution_count": null,
   "metadata": {},
   "outputs": [],
   "source": [
    "search_query_dict={}\n",
    "for qid in (clicks_df.query_id.unique()):#, total=clicks_df.query_id.nunique()):\n",
    "    search_query_dict[qid]=is_search_query(qid)\n",
    "\n",
    "sq_idxs=clicks_df.query_id.map(lambda x: x if np.isnan(x) else search_query_dict[x])"
   ]
  },
  {
   "cell_type": "code",
   "execution_count": null,
   "metadata": {},
   "outputs": [],
   "source": [
    "clicks_df['search_query']=sq_idxs\n",
    "clicks_df['serp_abs_pos']=(clicks_df.serp_pos*clicks_df.serp_len).round()"
   ]
  },
  {
   "cell_type": "code",
   "execution_count": 43,
   "metadata": {},
   "outputs": [],
   "source": [
    "clicks_df.to_csv('../datasets/diginetica/clicks_df.csv')"
   ]
  },
  {
   "cell_type": "markdown",
   "metadata": {},
   "source": [
    "## reload clicks_df"
   ]
  },
  {
   "cell_type": "code",
   "execution_count": 20,
   "metadata": {},
   "outputs": [],
   "source": [
    "clicks_df=pd.read_csv('../datasets/diginetica/clicks_df.csv').drop(columns='Unnamed: 0')"
   ]
  },
  {
   "cell_type": "markdown",
   "metadata": {},
   "source": [
    "## correlations"
   ]
  },
  {
   "cell_type": "code",
   "execution_count": 22,
   "metadata": {},
   "outputs": [],
   "source": [
    "corr_df=clicks_df[['session_id','item_id', 'serp_pos', 'dist_from_serp', 'item_number', 'serp_len']].merge(session_df, \n",
    "                                                                                       left_on=['session_id','item_number'], \n",
    "                                                                                       right_on=['session_id','target'])"
   ]
  },
  {
   "cell_type": "code",
   "execution_count": 23,
   "metadata": {},
   "outputs": [
    {
     "data": {
      "text/html": [
       "<div>\n",
       "<style scoped>\n",
       "    .dataframe tbody tr th:only-of-type {\n",
       "        vertical-align: middle;\n",
       "    }\n",
       "\n",
       "    .dataframe tbody tr th {\n",
       "        vertical-align: top;\n",
       "    }\n",
       "\n",
       "    .dataframe thead th {\n",
       "        text-align: right;\n",
       "    }\n",
       "</style>\n",
       "<table border=\"1\" class=\"dataframe\">\n",
       "  <thead>\n",
       "    <tr style=\"text-align: right;\">\n",
       "      <th></th>\n",
       "      <th>session_id</th>\n",
       "      <th>item_id</th>\n",
       "      <th>serp_pos</th>\n",
       "      <th>dist_from_serp</th>\n",
       "      <th>item_number</th>\n",
       "      <th>serp_len</th>\n",
       "      <th>length</th>\n",
       "      <th>frequency</th>\n",
       "      <th>no_categories</th>\n",
       "      <th>target_category</th>\n",
       "      <th>target</th>\n",
       "      <th>hit</th>\n",
       "      <th>mrr</th>\n",
       "    </tr>\n",
       "  </thead>\n",
       "  <tbody>\n",
       "    <tr>\n",
       "      <th>0</th>\n",
       "      <td>289</td>\n",
       "      <td>64068</td>\n",
       "      <td>-1.000000</td>\n",
       "      <td>1.109931</td>\n",
       "      <td>20071</td>\n",
       "      <td>19.0</td>\n",
       "      <td>1</td>\n",
       "      <td>10.0</td>\n",
       "      <td>1</td>\n",
       "      <td>False</td>\n",
       "      <td>20071</td>\n",
       "      <td>False</td>\n",
       "      <td>0.0</td>\n",
       "    </tr>\n",
       "    <tr>\n",
       "      <th>1</th>\n",
       "      <td>289</td>\n",
       "      <td>133346</td>\n",
       "      <td>-1.000000</td>\n",
       "      <td>1.130447</td>\n",
       "      <td>8762</td>\n",
       "      <td>19.0</td>\n",
       "      <td>2</td>\n",
       "      <td>20.0</td>\n",
       "      <td>2</td>\n",
       "      <td>False</td>\n",
       "      <td>8762</td>\n",
       "      <td>True</td>\n",
       "      <td>0.3333333432674408</td>\n",
       "    </tr>\n",
       "    <tr>\n",
       "      <th>2</th>\n",
       "      <td>289</td>\n",
       "      <td>438457</td>\n",
       "      <td>0.142643</td>\n",
       "      <td>0.683961</td>\n",
       "      <td>21566</td>\n",
       "      <td>198.0</td>\n",
       "      <td>5</td>\n",
       "      <td>18.4</td>\n",
       "      <td>4</td>\n",
       "      <td>True</td>\n",
       "      <td>21566</td>\n",
       "      <td>True</td>\n",
       "      <td>0.125</td>\n",
       "    </tr>\n",
       "    <tr>\n",
       "      <th>3</th>\n",
       "      <td>289</td>\n",
       "      <td>438457</td>\n",
       "      <td>0.142643</td>\n",
       "      <td>0.683961</td>\n",
       "      <td>21566</td>\n",
       "      <td>198.0</td>\n",
       "      <td>3</td>\n",
       "      <td>25.333333333333332</td>\n",
       "      <td>3</td>\n",
       "      <td>False</td>\n",
       "      <td>21566</td>\n",
       "      <td>False</td>\n",
       "      <td>0.0</td>\n",
       "    </tr>\n",
       "    <tr>\n",
       "      <th>4</th>\n",
       "      <td>289</td>\n",
       "      <td>198930</td>\n",
       "      <td>0.147147</td>\n",
       "      <td>0.538785</td>\n",
       "      <td>6381</td>\n",
       "      <td>198.0</td>\n",
       "      <td>4</td>\n",
       "      <td>20.5</td>\n",
       "      <td>4</td>\n",
       "      <td>True</td>\n",
       "      <td>6381</td>\n",
       "      <td>False</td>\n",
       "      <td>0.0</td>\n",
       "    </tr>\n",
       "    <tr>\n",
       "      <th>...</th>\n",
       "      <td>...</td>\n",
       "      <td>...</td>\n",
       "      <td>...</td>\n",
       "      <td>...</td>\n",
       "      <td>...</td>\n",
       "      <td>...</td>\n",
       "      <td>...</td>\n",
       "      <td>...</td>\n",
       "      <td>...</td>\n",
       "      <td>...</td>\n",
       "      <td>...</td>\n",
       "      <td>...</td>\n",
       "      <td>...</td>\n",
       "    </tr>\n",
       "    <tr>\n",
       "      <th>91269</th>\n",
       "      <td>600404</td>\n",
       "      <td>1168</td>\n",
       "      <td>0.002602</td>\n",
       "      <td>0.759773</td>\n",
       "      <td>19589</td>\n",
       "      <td>180.0</td>\n",
       "      <td>1</td>\n",
       "      <td>45.0</td>\n",
       "      <td>1</td>\n",
       "      <td>True</td>\n",
       "      <td>19589</td>\n",
       "      <td>True</td>\n",
       "      <td>0.25</td>\n",
       "    </tr>\n",
       "    <tr>\n",
       "      <th>91270</th>\n",
       "      <td>600608</td>\n",
       "      <td>1813</td>\n",
       "      <td>0.036515</td>\n",
       "      <td>0.789202</td>\n",
       "      <td>5820</td>\n",
       "      <td>200.0</td>\n",
       "      <td>1</td>\n",
       "      <td>197.0</td>\n",
       "      <td>1</td>\n",
       "      <td>True</td>\n",
       "      <td>5820</td>\n",
       "      <td>True</td>\n",
       "      <td>0.0714285746216774</td>\n",
       "    </tr>\n",
       "    <tr>\n",
       "      <th>91271</th>\n",
       "      <td>600608</td>\n",
       "      <td>31789</td>\n",
       "      <td>0.037344</td>\n",
       "      <td>0.938444</td>\n",
       "      <td>3600</td>\n",
       "      <td>200.0</td>\n",
       "      <td>2</td>\n",
       "      <td>152.0</td>\n",
       "      <td>1</td>\n",
       "      <td>True</td>\n",
       "      <td>3600</td>\n",
       "      <td>True</td>\n",
       "      <td>0.10000000149011612</td>\n",
       "    </tr>\n",
       "    <tr>\n",
       "      <th>91272</th>\n",
       "      <td>600674</td>\n",
       "      <td>1152</td>\n",
       "      <td>0.025381</td>\n",
       "      <td>0.700841</td>\n",
       "      <td>10040</td>\n",
       "      <td>185.0</td>\n",
       "      <td>1</td>\n",
       "      <td>64.0</td>\n",
       "      <td>1</td>\n",
       "      <td>True</td>\n",
       "      <td>10040</td>\n",
       "      <td>False</td>\n",
       "      <td>0.0</td>\n",
       "    </tr>\n",
       "    <tr>\n",
       "      <th>91273</th>\n",
       "      <td>600674</td>\n",
       "      <td>124642</td>\n",
       "      <td>0.036379</td>\n",
       "      <td>0.727637</td>\n",
       "      <td>42227</td>\n",
       "      <td>185.0</td>\n",
       "      <td>2</td>\n",
       "      <td>61.5</td>\n",
       "      <td>1</td>\n",
       "      <td>True</td>\n",
       "      <td>42227</td>\n",
       "      <td>False</td>\n",
       "      <td>0.0</td>\n",
       "    </tr>\n",
       "  </tbody>\n",
       "</table>\n",
       "<p>91274 rows × 13 columns</p>\n",
       "</div>"
      ],
      "text/plain": [
       "       session_id  item_id  serp_pos  dist_from_serp  item_number  serp_len  \\\n",
       "0             289    64068 -1.000000        1.109931        20071      19.0   \n",
       "1             289   133346 -1.000000        1.130447         8762      19.0   \n",
       "2             289   438457  0.142643        0.683961        21566     198.0   \n",
       "3             289   438457  0.142643        0.683961        21566     198.0   \n",
       "4             289   198930  0.147147        0.538785         6381     198.0   \n",
       "...           ...      ...       ...             ...          ...       ...   \n",
       "91269      600404     1168  0.002602        0.759773        19589     180.0   \n",
       "91270      600608     1813  0.036515        0.789202         5820     200.0   \n",
       "91271      600608    31789  0.037344        0.938444         3600     200.0   \n",
       "91272      600674     1152  0.025381        0.700841        10040     185.0   \n",
       "91273      600674   124642  0.036379        0.727637        42227     185.0   \n",
       "\n",
       "      length           frequency no_categories target_category  target    hit  \\\n",
       "0          1                10.0             1           False   20071  False   \n",
       "1          2                20.0             2           False    8762   True   \n",
       "2          5                18.4             4            True   21566   True   \n",
       "3          3  25.333333333333332             3           False   21566  False   \n",
       "4          4                20.5             4            True    6381  False   \n",
       "...      ...                 ...           ...             ...     ...    ...   \n",
       "91269      1                45.0             1            True   19589   True   \n",
       "91270      1               197.0             1            True    5820   True   \n",
       "91271      2               152.0             1            True    3600   True   \n",
       "91272      1                64.0             1            True   10040  False   \n",
       "91273      2                61.5             1            True   42227  False   \n",
       "\n",
       "                       mrr  \n",
       "0                      0.0  \n",
       "1       0.3333333432674408  \n",
       "2                    0.125  \n",
       "3                      0.0  \n",
       "4                      0.0  \n",
       "...                    ...  \n",
       "91269                 0.25  \n",
       "91270   0.0714285746216774  \n",
       "91271  0.10000000149011612  \n",
       "91272                  0.0  \n",
       "91273                  0.0  \n",
       "\n",
       "[91274 rows x 13 columns]"
      ]
     },
     "execution_count": 23,
     "metadata": {},
     "output_type": "execute_result"
    }
   ],
   "source": [
    "corr_df"
   ]
  },
  {
   "cell_type": "code",
   "execution_count": 24,
   "metadata": {},
   "outputs": [],
   "source": [
    "from scipy.stats import pearsonr, spearmanr"
   ]
  },
  {
   "cell_type": "code",
   "execution_count": 25,
   "metadata": {},
   "outputs": [],
   "source": [
    "corr_df.hit=corr_df.hit.map(lambda x: 1 if x else 0)\n",
    "corr_df.mrr=corr_df.mrr.astype(float)"
   ]
  },
  {
   "cell_type": "code",
   "execution_count": 32,
   "metadata": {},
   "outputs": [
    {
     "data": {
      "text/plain": [
       "dist_from_serp    float64\n",
       "serp_pos          float64\n",
       "hit                 int64\n",
       "mrr               float64\n",
       "serp_len          float64\n",
       "dtype: object"
      ]
     },
     "execution_count": 32,
     "metadata": {},
     "output_type": "execute_result"
    }
   ],
   "source": [
    "corr_df[['dist_from_serp','serp_pos','hit','mrr','serp_len']].dtypes"
   ]
  },
  {
   "cell_type": "code",
   "execution_count": 33,
   "metadata": {},
   "outputs": [
    {
     "data": {
      "text/plain": [
       "SignificanceResult(statistic=array([[ 1.        , -0.17637168,  0.15382035,  0.19972637],\n",
       "       [-0.17637168,  1.        ,  0.12060617,  0.04844716],\n",
       "       [ 0.15382035,  0.12060617,  1.        , -0.05057548],\n",
       "       [ 0.19972637,  0.04844716, -0.05057548,  1.        ]]), pvalue=array([[0.00000000e+000, 0.00000000e+000, 0.00000000e+000,\n",
       "        0.00000000e+000],\n",
       "       [0.00000000e+000, 0.00000000e+000, 4.37983404e-289,\n",
       "        5.73132069e-048],\n",
       "       [0.00000000e+000, 4.37983404e-289, 0.00000000e+000,\n",
       "        4.03576181e-052],\n",
       "       [0.00000000e+000, 5.73132069e-048, 4.03576181e-052,\n",
       "        0.00000000e+000]]))"
      ]
     },
     "execution_count": 33,
     "metadata": {},
     "output_type": "execute_result"
    }
   ],
   "source": [
    "spearmanr(corr_df[['dist_from_serp','serp_pos','mrr','serp_len']].dropna(), \n",
    "     #     corr_df[['dist_from_serp','serp_pos','hit','mrr','serp_len']].dropna(),\n",
    "          )"
   ]
  },
  {
   "cell_type": "markdown",
   "metadata": {},
   "source": [
    "## center/span of item embeddings"
   ]
  },
  {
   "cell_type": "code",
   "execution_count": 37,
   "metadata": {},
   "outputs": [],
   "source": [
    "# average center of embb space\n",
    "items_center=np.average(items_embeddings, axis=0)"
   ]
  },
  {
   "cell_type": "code",
   "execution_count": 38,
   "metadata": {},
   "outputs": [
    {
     "name": "stdout",
     "output_type": "stream",
     "text": [
      "Max distnace between any two items:  7.861786\n"
     ]
    }
   ],
   "source": [
    "print('Max distnace between any two items: ', np.linalg.norm(np.max(items_embeddings, axis=0) - np.min(items_embeddings, axis=0)))"
   ]
  },
  {
   "cell_type": "markdown",
   "metadata": {},
   "source": [
    "## SERP vs Target clusters"
   ]
  },
  {
   "cell_type": "code",
   "execution_count": 42,
   "metadata": {},
   "outputs": [
    {
     "data": {
      "text/html": [
       "<div>\n",
       "<style scoped>\n",
       "    .dataframe tbody tr th:only-of-type {\n",
       "        vertical-align: middle;\n",
       "    }\n",
       "\n",
       "    .dataframe tbody tr th {\n",
       "        vertical-align: top;\n",
       "    }\n",
       "\n",
       "    .dataframe thead th {\n",
       "        text-align: right;\n",
       "    }\n",
       "</style>\n",
       "<table border=\"1\" class=\"dataframe\">\n",
       "  <thead>\n",
       "    <tr style=\"text-align: right;\">\n",
       "      <th></th>\n",
       "      <th>session_id</th>\n",
       "      <th>userId</th>\n",
       "      <th>item_id</th>\n",
       "      <th>timeframe</th>\n",
       "      <th>eventdate</th>\n",
       "      <th>query_id</th>\n",
       "      <th>serp</th>\n",
       "      <th>serp_pos</th>\n",
       "      <th>serp_len</th>\n",
       "      <th>dist_from_serp</th>\n",
       "      <th>item_number</th>\n",
       "      <th>no_clusters_serp</th>\n",
       "      <th>target_cluster_proportion</th>\n",
       "      <th>serp_abs_pos</th>\n",
       "      <th>search_query</th>\n",
       "    </tr>\n",
       "  </thead>\n",
       "  <tbody>\n",
       "    <tr>\n",
       "      <th>0</th>\n",
       "      <td>1</td>\n",
       "      <td>NaN</td>\n",
       "      <td>9654</td>\n",
       "      <td>75848</td>\n",
       "      <td>2016-05-09</td>\n",
       "      <td>890364.0</td>\n",
       "      <td>7518,69648,71,30254,80775,30311,342,7837,81099...</td>\n",
       "      <td>0.065199</td>\n",
       "      <td>199.0</td>\n",
       "      <td>1.077654</td>\n",
       "      <td>1890</td>\n",
       "      <td>6.0</td>\n",
       "      <td>0.892216</td>\n",
       "      <td>13.0</td>\n",
       "      <td>False</td>\n",
       "    </tr>\n",
       "    <tr>\n",
       "      <th>1</th>\n",
       "      <td>1</td>\n",
       "      <td>NaN</td>\n",
       "      <td>33043</td>\n",
       "      <td>173912</td>\n",
       "      <td>2016-05-09</td>\n",
       "      <td>890364.0</td>\n",
       "      <td>7518,69648,71,30254,80775,30311,342,7837,81099...</td>\n",
       "      <td>0.093988</td>\n",
       "      <td>199.0</td>\n",
       "      <td>0.967971</td>\n",
       "      <td>2460</td>\n",
       "      <td>6.0</td>\n",
       "      <td>0.892216</td>\n",
       "      <td>19.0</td>\n",
       "      <td>False</td>\n",
       "    </tr>\n",
       "    <tr>\n",
       "      <th>2</th>\n",
       "      <td>1</td>\n",
       "      <td>NaN</td>\n",
       "      <td>32118</td>\n",
       "      <td>243569</td>\n",
       "      <td>2016-05-09</td>\n",
       "      <td>890364.0</td>\n",
       "      <td>7518,69648,71,30254,80775,30311,342,7837,81099...</td>\n",
       "      <td>0.062659</td>\n",
       "      <td>199.0</td>\n",
       "      <td>0.905199</td>\n",
       "      <td>2558</td>\n",
       "      <td>6.0</td>\n",
       "      <td>0.892216</td>\n",
       "      <td>12.0</td>\n",
       "      <td>False</td>\n",
       "    </tr>\n",
       "    <tr>\n",
       "      <th>3</th>\n",
       "      <td>1</td>\n",
       "      <td>NaN</td>\n",
       "      <td>12352</td>\n",
       "      <td>329870</td>\n",
       "      <td>2016-05-09</td>\n",
       "      <td>890364.0</td>\n",
       "      <td>7518,69648,71,30254,80775,30311,342,7837,81099...</td>\n",
       "      <td>0.132091</td>\n",
       "      <td>199.0</td>\n",
       "      <td>1.058083</td>\n",
       "      <td>3012</td>\n",
       "      <td>6.0</td>\n",
       "      <td>0.892216</td>\n",
       "      <td>26.0</td>\n",
       "      <td>False</td>\n",
       "    </tr>\n",
       "    <tr>\n",
       "      <th>4</th>\n",
       "      <td>1</td>\n",
       "      <td>NaN</td>\n",
       "      <td>35077</td>\n",
       "      <td>390072</td>\n",
       "      <td>2016-05-09</td>\n",
       "      <td>890364.0</td>\n",
       "      <td>7518,69648,71,30254,80775,30311,342,7837,81099...</td>\n",
       "      <td>0.136325</td>\n",
       "      <td>199.0</td>\n",
       "      <td>0.941578</td>\n",
       "      <td>8171</td>\n",
       "      <td>6.0</td>\n",
       "      <td>0.892216</td>\n",
       "      <td>27.0</td>\n",
       "      <td>False</td>\n",
       "    </tr>\n",
       "  </tbody>\n",
       "</table>\n",
       "</div>"
      ],
      "text/plain": [
       "   session_id  userId  item_id  timeframe   eventdate  query_id  \\\n",
       "0           1     NaN     9654      75848  2016-05-09  890364.0   \n",
       "1           1     NaN    33043     173912  2016-05-09  890364.0   \n",
       "2           1     NaN    32118     243569  2016-05-09  890364.0   \n",
       "3           1     NaN    12352     329870  2016-05-09  890364.0   \n",
       "4           1     NaN    35077     390072  2016-05-09  890364.0   \n",
       "\n",
       "                                                serp  serp_pos  serp_len  \\\n",
       "0  7518,69648,71,30254,80775,30311,342,7837,81099...  0.065199     199.0   \n",
       "1  7518,69648,71,30254,80775,30311,342,7837,81099...  0.093988     199.0   \n",
       "2  7518,69648,71,30254,80775,30311,342,7837,81099...  0.062659     199.0   \n",
       "3  7518,69648,71,30254,80775,30311,342,7837,81099...  0.132091     199.0   \n",
       "4  7518,69648,71,30254,80775,30311,342,7837,81099...  0.136325     199.0   \n",
       "\n",
       "   dist_from_serp  item_number  no_clusters_serp  target_cluster_proportion  \\\n",
       "0        1.077654         1890               6.0                   0.892216   \n",
       "1        0.967971         2460               6.0                   0.892216   \n",
       "2        0.905199         2558               6.0                   0.892216   \n",
       "3        1.058083         3012               6.0                   0.892216   \n",
       "4        0.941578         8171               6.0                   0.892216   \n",
       "\n",
       "   serp_abs_pos search_query  \n",
       "0          13.0        False  \n",
       "1          19.0        False  \n",
       "2          12.0        False  \n",
       "3          26.0        False  \n",
       "4          27.0        False  "
      ]
     },
     "execution_count": 42,
     "metadata": {},
     "output_type": "execute_result"
    }
   ],
   "source": [
    "clicks_df.head()"
   ]
  },
  {
   "cell_type": "code",
   "execution_count": 44,
   "metadata": {},
   "outputs": [],
   "source": [
    "clicks_df.serp_pos=clicks_df.serp_pos.map(lambda x: np.nan if x==-1 else x)"
   ]
  },
  {
   "cell_type": "code",
   "execution_count": 45,
   "metadata": {},
   "outputs": [
    {
     "data": {
      "image/png": "[encoded data removed]",
      "text/plain": [
       "<Figure size 640x480 with 1 Axes>"
      ]
     },
     "metadata": {},
     "output_type": "display_data"
    }
   ],
   "source": [
    "plt.hist(clicks_df[['session_id','serp_pos']].loc[clicks_df.session_id.isin(test_session_ids)]\\\n",
    "         .dropna().groupby('session_id').median('serp_pos').serp_pos, bins=100, label='median')\n",
    "plt.hist(clicks_df[['session_id','serp_pos']].loc[clicks_df.session_id.isin(test_session_ids)]\\\n",
    "         .dropna().groupby('session_id').mean('serp_pos').serp_pos, bins=100, alpha=0.5, label='mean')\n",
    "plt.title('Relative position in SERP ranking - lower is better')\n",
    "plt.legend()\n",
    "plt.show()"
   ]
  },
  {
   "cell_type": "code",
   "execution_count": 61,
   "metadata": {},
   "outputs": [
    {
     "data": {
      "text/html": [
       "<div>\n",
       "<style scoped>\n",
       "    .dataframe tbody tr th:only-of-type {\n",
       "        vertical-align: middle;\n",
       "    }\n",
       "\n",
       "    .dataframe tbody tr th {\n",
       "        vertical-align: top;\n",
       "    }\n",
       "\n",
       "    .dataframe thead th {\n",
       "        text-align: right;\n",
       "    }\n",
       "</style>\n",
       "<table border=\"1\" class=\"dataframe\">\n",
       "  <thead>\n",
       "    <tr style=\"text-align: right;\">\n",
       "      <th></th>\n",
       "      <th>session_id</th>\n",
       "      <th>userId</th>\n",
       "      <th>item_id</th>\n",
       "      <th>timeframe</th>\n",
       "      <th>eventdate</th>\n",
       "      <th>query_id</th>\n",
       "      <th>serp</th>\n",
       "      <th>serp_pos</th>\n",
       "      <th>serp_len</th>\n",
       "      <th>dist_from_serp</th>\n",
       "      <th>item_number</th>\n",
       "      <th>no_clusters_serp</th>\n",
       "      <th>target_cluster_proportion</th>\n",
       "      <th>serp_abs_pos</th>\n",
       "      <th>search_query</th>\n",
       "    </tr>\n",
       "  </thead>\n",
       "  <tbody>\n",
       "    <tr>\n",
       "      <th>0</th>\n",
       "      <td>1</td>\n",
       "      <td>NaN</td>\n",
       "      <td>9654</td>\n",
       "      <td>75848</td>\n",
       "      <td>2016-05-09</td>\n",
       "      <td>890364.0</td>\n",
       "      <td>7518,69648,71,30254,80775,30311,342,7837,81099...</td>\n",
       "      <td>0.065199</td>\n",
       "      <td>199.0</td>\n",
       "      <td>1.077654</td>\n",
       "      <td>1890</td>\n",
       "      <td>6.0</td>\n",
       "      <td>0.892216</td>\n",
       "      <td>13.0</td>\n",
       "      <td>False</td>\n",
       "    </tr>\n",
       "    <tr>\n",
       "      <th>1</th>\n",
       "      <td>1</td>\n",
       "      <td>NaN</td>\n",
       "      <td>33043</td>\n",
       "      <td>173912</td>\n",
       "      <td>2016-05-09</td>\n",
       "      <td>890364.0</td>\n",
       "      <td>7518,69648,71,30254,80775,30311,342,7837,81099...</td>\n",
       "      <td>0.093988</td>\n",
       "      <td>199.0</td>\n",
       "      <td>0.967971</td>\n",
       "      <td>2460</td>\n",
       "      <td>6.0</td>\n",
       "      <td>0.892216</td>\n",
       "      <td>19.0</td>\n",
       "      <td>False</td>\n",
       "    </tr>\n",
       "    <tr>\n",
       "      <th>2</th>\n",
       "      <td>1</td>\n",
       "      <td>NaN</td>\n",
       "      <td>32118</td>\n",
       "      <td>243569</td>\n",
       "      <td>2016-05-09</td>\n",
       "      <td>890364.0</td>\n",
       "      <td>7518,69648,71,30254,80775,30311,342,7837,81099...</td>\n",
       "      <td>0.062659</td>\n",
       "      <td>199.0</td>\n",
       "      <td>0.905199</td>\n",
       "      <td>2558</td>\n",
       "      <td>6.0</td>\n",
       "      <td>0.892216</td>\n",
       "      <td>12.0</td>\n",
       "      <td>False</td>\n",
       "    </tr>\n",
       "    <tr>\n",
       "      <th>3</th>\n",
       "      <td>1</td>\n",
       "      <td>NaN</td>\n",
       "      <td>12352</td>\n",
       "      <td>329870</td>\n",
       "      <td>2016-05-09</td>\n",
       "      <td>890364.0</td>\n",
       "      <td>7518,69648,71,30254,80775,30311,342,7837,81099...</td>\n",
       "      <td>0.132091</td>\n",
       "      <td>199.0</td>\n",
       "      <td>1.058083</td>\n",
       "      <td>3012</td>\n",
       "      <td>6.0</td>\n",
       "      <td>0.892216</td>\n",
       "      <td>26.0</td>\n",
       "      <td>False</td>\n",
       "    </tr>\n",
       "    <tr>\n",
       "      <th>4</th>\n",
       "      <td>1</td>\n",
       "      <td>NaN</td>\n",
       "      <td>35077</td>\n",
       "      <td>390072</td>\n",
       "      <td>2016-05-09</td>\n",
       "      <td>890364.0</td>\n",
       "      <td>7518,69648,71,30254,80775,30311,342,7837,81099...</td>\n",
       "      <td>0.136325</td>\n",
       "      <td>199.0</td>\n",
       "      <td>0.941578</td>\n",
       "      <td>8171</td>\n",
       "      <td>6.0</td>\n",
       "      <td>0.892216</td>\n",
       "      <td>27.0</td>\n",
       "      <td>False</td>\n",
       "    </tr>\n",
       "  </tbody>\n",
       "</table>\n",
       "</div>"
      ],
      "text/plain": [
       "   session_id  userId  item_id  timeframe   eventdate  query_id  \\\n",
       "0           1     NaN     9654      75848  2016-05-09  890364.0   \n",
       "1           1     NaN    33043     173912  2016-05-09  890364.0   \n",
       "2           1     NaN    32118     243569  2016-05-09  890364.0   \n",
       "3           1     NaN    12352     329870  2016-05-09  890364.0   \n",
       "4           1     NaN    35077     390072  2016-05-09  890364.0   \n",
       "\n",
       "                                                serp  serp_pos  serp_len  \\\n",
       "0  7518,69648,71,30254,80775,30311,342,7837,81099...  0.065199     199.0   \n",
       "1  7518,69648,71,30254,80775,30311,342,7837,81099...  0.093988     199.0   \n",
       "2  7518,69648,71,30254,80775,30311,342,7837,81099...  0.062659     199.0   \n",
       "3  7518,69648,71,30254,80775,30311,342,7837,81099...  0.132091     199.0   \n",
       "4  7518,69648,71,30254,80775,30311,342,7837,81099...  0.136325     199.0   \n",
       "\n",
       "   dist_from_serp  item_number  no_clusters_serp  target_cluster_proportion  \\\n",
       "0        1.077654         1890               6.0                   0.892216   \n",
       "1        0.967971         2460               6.0                   0.892216   \n",
       "2        0.905199         2558               6.0                   0.892216   \n",
       "3        1.058083         3012               6.0                   0.892216   \n",
       "4        0.941578         8171               6.0                   0.892216   \n",
       "\n",
       "   serp_abs_pos search_query  \n",
       "0          13.0        False  \n",
       "1          19.0        False  \n",
       "2          12.0        False  \n",
       "3          26.0        False  \n",
       "4          27.0        False  "
      ]
     },
     "execution_count": 61,
     "metadata": {},
     "output_type": "execute_result"
    }
   ],
   "source": [
    "clicks_df.head()"
   ]
  },
  {
   "cell_type": "code",
   "execution_count": 75,
   "metadata": {},
   "outputs": [],
   "source": [
    "session_df['targetXsid']=list(zip(session_df.target.values, session_df.session_id.values))\n",
    "clicks_df['targetXsid']=list(zip(clicks_df.item_number.values, clicks_df.session_id.values))\n",
    "\n",
    "hit_targetXsid=session_df.loc[session_df.hit.values=='True'].targetXsid.values"
   ]
  },
  {
   "cell_type": "code",
   "execution_count": 90,
   "metadata": {},
   "outputs": [
    {
     "data": {
      "image/png": "[encoded data removed]",
      "text/plain": [
       "<Figure size 640x480 with 1 Axes>"
      ]
     },
     "metadata": {},
     "output_type": "display_data"
    }
   ],
   "source": [
    "plt.hist(clicks_df[['session_id','serp_pos']].loc[(clicks_df.targetXsid.isin(hit_targetXsid))\n",
    "                                                  &(clicks_df.session_id.isin(test_session_ids))]\\\n",
    "         .dropna().groupby('session_id').mean('serp_pos').serp_pos, bins=100, label='hit')\n",
    "\n",
    "plt.hist(clicks_df[['session_id','serp_pos']].loc[(~clicks_df.targetXsid.isin(hit_targetXsid))\n",
    "                                                  &(clicks_df.session_id.isin(test_session_ids))]\\\n",
    "         .dropna().groupby('session_id').mean('serp_pos').serp_pos, bins=100, label='miss', alpha=0.6)\n",
    "plt.title('Relative position in SERP ranking - lower is better, agg per session')\n",
    "plt.legend()\n",
    "plt.show()"
   ]
  },
  {
   "cell_type": "code",
   "execution_count": 89,
   "metadata": {},
   "outputs": [
    {
     "data": {
      "image/png": "[encoded data removed]",
      "text/plain": [
       "<Figure size 640x480 with 1 Axes>"
      ]
     },
     "metadata": {},
     "output_type": "display_data"
    }
   ],
   "source": [
    "plt.hist(clicks_df[['session_id','serp_pos']].loc[(clicks_df.targetXsid.isin(hit_targetXsid))\n",
    "                                                  &(clicks_df.session_id.isin(test_session_ids))]\\\n",
    "         .dropna().serp_pos, bins=100, label='hit')\n",
    "\n",
    "plt.hist(clicks_df[['session_id','serp_pos']].loc[(~clicks_df.targetXsid.isin(hit_targetXsid))\n",
    "                                                  &(clicks_df.session_id.isin(test_session_ids))]\\\n",
    "         .dropna().serp_pos, bins=100, label='miss', alpha=0.6)\n",
    "plt.title('Relative position in SERP ranking - lower is better')\n",
    "plt.legend()\n",
    "plt.show()"
   ]
  },
  {
   "cell_type": "code",
   "execution_count": 85,
   "metadata": {},
   "outputs": [
    {
     "data": {
      "image/png": "[encoded data removed]",
      "text/plain": [
       "<Figure size 640x480 with 1 Axes>"
      ]
     },
     "metadata": {},
     "output_type": "display_data"
    }
   ],
   "source": [
    "plt.hist(clicks_df[['session_id','serp_abs_pos']].loc[clicks_df.session_id.isin(test_session_ids)]\\\n",
    "         .dropna().groupby('session_id').median('serp_abs_pos').serp_abs_pos, bins=20, label='median')\n",
    "plt.hist(clicks_df[['session_id','serp_abs_pos']].loc[clicks_df.session_id.isin(test_session_ids)]\\\n",
    "         .dropna().groupby('session_id').mean('serp_abs_pos').serp_abs_pos, bins=20, alpha=0.7, label='mean')\n",
    "plt.title('Absolute position per Session in SERP ranking - lower is better')\n",
    "plt.legend()\n",
    "plt.show()"
   ]
  },
  {
   "cell_type": "code",
   "execution_count": 88,
   "metadata": {},
   "outputs": [
    {
     "data": {
      "image/png": "[encoded data removed]",
      "text/plain": [
       "<Figure size 640x480 with 1 Axes>"
      ]
     },
     "metadata": {},
     "output_type": "display_data"
    }
   ],
   "source": [
    "plt.hist(clicks_df[['session_id','serp_abs_pos']].loc[(clicks_df.targetXsid.isin(hit_targetXsid))\n",
    "                                                  &(clicks_df.session_id.isin(test_session_ids))]\\\n",
    "         .dropna().groupby('session_id').mean('serp_abs_pos').serp_abs_pos, bins=20, label='hit')\n",
    "\n",
    "plt.hist(clicks_df[['session_id','serp_abs_pos']].loc[(~clicks_df.targetXsid.isin(hit_targetXsid))\n",
    "                                                  &(clicks_df.session_id.isin(test_session_ids))]\\\n",
    "         .dropna().groupby('session_id').mean('serp_abs_pos').serp_abs_pos, bins=20, label='miss', alpha=0.6)\n",
    "plt.title('Absolute position in SERP ranking - lower is better')\n",
    "plt.legend()\n",
    "plt.show()"
   ]
  },
  {
   "cell_type": "markdown",
   "metadata": {},
   "source": [
    "### seperate search queries"
   ]
  },
  {
   "cell_type": "code",
   "execution_count": 92,
   "metadata": {},
   "outputs": [
    {
     "data": {
      "image/png": "[encoded data removed]",
      "text/plain": [
       "<Figure size 640x480 with 1 Axes>"
      ]
     },
     "metadata": {},
     "output_type": "display_data"
    },
    {
     "data": {
      "image/png": "[encoded data removed]",
      "text/plain": [
       "<Figure size 640x480 with 1 Axes>"
      ]
     },
     "metadata": {},
     "output_type": "display_data"
    }
   ],
   "source": [
    "plt.hist(clicks_df[['session_id','serp_pos']].loc[(clicks_df.session_id.isin(test_session_ids))\n",
    "                                                      &(clicks_df.search_query)]\\\n",
    "         .dropna().groupby('session_id').median('serp_pos').serp_pos, bins=100, label='median')\n",
    "plt.hist(clicks_df[['session_id','serp_pos']].loc[(clicks_df.session_id.isin(test_session_ids))\n",
    "                                                      &(clicks_df.search_query)]\\\n",
    "         .dropna().groupby('session_id').mean('serp_pos').serp_pos, bins=100, alpha=0.7, label='mean')\n",
    "plt.title('Relative position in search tool Session in SERP ranking - lower is better')\n",
    "plt.legend()\n",
    "plt.show()\n",
    "\n",
    "plt.hist(clicks_df[['session_id','serp_pos']].loc[(clicks_df.session_id.isin(test_session_ids))\n",
    "                                                      &(clicks_df.search_query!=True)]\\\n",
    "         .dropna().groupby('session_id').median('serp_pos').serp_pos, bins=100, label='median')\n",
    "plt.hist(clicks_df[['session_id','serp_pos']].loc[(clicks_df.session_id.isin(test_session_ids))\n",
    "                                                      &(clicks_df.search_query!=True)]\\\n",
    "         .dropna().groupby('session_id').mean('serp_pos').serp_pos, bins=100, alpha=0.7, label='mean')\n",
    "plt.title('Relative position in non-query Session in SERP ranking - lower is better')\n",
    "plt.legend()\n",
    "plt.show()"
   ]
  },
  {
   "cell_type": "code",
   "execution_count": 95,
   "metadata": {},
   "outputs": [
    {
     "data": {
      "text/plain": [
       "array([False, True, nan], dtype=object)"
      ]
     },
     "execution_count": 95,
     "metadata": {},
     "output_type": "execute_result"
    }
   ],
   "source": [
    "clicks_df.search_query.unique()"
   ]
  },
  {
   "cell_type": "code",
   "execution_count": 97,
   "metadata": {},
   "outputs": [
    {
     "data": {
      "image/png": "[encoded data removed]",
      "text/plain": [
       "<Figure size 640x480 with 1 Axes>"
      ]
     },
     "metadata": {},
     "output_type": "display_data"
    },
    {
     "data": {
      "image/png": "[encoded data removed]",
      "text/plain": [
       "<Figure size 640x480 with 1 Axes>"
      ]
     },
     "metadata": {},
     "output_type": "display_data"
    }
   ],
   "source": [
    "plt.hist(clicks_df[['session_id','serp_pos']].loc[(clicks_df.targetXsid.isin(hit_targetXsid))\n",
    "                                                  &(clicks_df.session_id.isin(test_session_ids))\n",
    "                                                  &(clicks_df.search_query)]\\\n",
    "         .dropna().serp_pos, bins=100, label='hit')\n",
    "\n",
    "plt.hist(clicks_df[['session_id','serp_pos']].loc[(~clicks_df.targetXsid.isin(hit_targetXsid))\n",
    "                                                  &(clicks_df.session_id.isin(test_session_ids))\n",
    "                                                  &(clicks_df.search_query)]\\\n",
    "         .dropna().serp_pos, bins=100, label='miss', alpha=0.6)\n",
    "plt.title('Relative position in search tool Session in SERP ranking - lower is better')\n",
    "plt.legend()\n",
    "plt.show()\n",
    "\n",
    "plt.hist(clicks_df[['session_id','serp_pos']].loc[(clicks_df.targetXsid.isin(hit_targetXsid))\n",
    "                                                  &(clicks_df.session_id.isin(test_session_ids))\n",
    "                                                      &(clicks_df.search_query!=True)]\\\n",
    "         .dropna().serp_pos, bins=100, label='hit')\n",
    "plt.hist(clicks_df[['session_id','serp_pos']].loc[(~clicks_df.targetXsid.isin(hit_targetXsid))\n",
    "                                                  &(clicks_df.session_id.isin(test_session_ids))\n",
    "                                                      &(clicks_df.search_query!=True)]\\\n",
    "         .dropna().serp_pos, bins=100, alpha=0.7, label='miss')\n",
    "plt.title('Relative position in non-query Session in SERP ranking - lower is better')\n",
    "plt.legend()\n",
    "plt.show()"
   ]
  },
  {
   "cell_type": "code",
   "execution_count": 282,
   "metadata": {},
   "outputs": [
    {
     "data": {
      "image/png": "[encoded data removed]",
      "text/plain": [
       "<Figure size 640x480 with 1 Axes>"
      ]
     },
     "metadata": {},
     "output_type": "display_data"
    },
    {
     "data": {
      "image/png": "[encoded data removed]",
      "text/plain": [
       "<Figure size 640x480 with 1 Axes>"
      ]
     },
     "metadata": {},
     "output_type": "display_data"
    }
   ],
   "source": [
    "plt.hist(clicks_df[['session_id','serp_abs_pos']].loc[(clicks_df.session_id.isin(test_session_ids))\n",
    "                                                      &(clicks_df.search_query)]\\\n",
    "         .dropna().groupby('session_id').median('serp_abs_pos').serp_abs_pos, bins=100, label='median')\n",
    "plt.hist(clicks_df[['session_id','serp_abs_pos']].loc[(clicks_df.session_id.isin(test_session_ids))\n",
    "                                                      &(clicks_df.search_query)]\\\n",
    "         .dropna().groupby('session_id').mean('serp_abs_pos').serp_abs_pos, bins=100, alpha=0.7, label='mean')\n",
    "plt.title('Absolute position in search tool Session in SERP ranking - lower is better')\n",
    "plt.legend()\n",
    "plt.show()\n",
    "\n",
    "plt.hist(clicks_df[['session_id','serp_abs_pos']].loc[(clicks_df.session_id.isin(test_session_ids))\n",
    "                                                      &(clicks_df.search_query!=True)]\\\n",
    "         .dropna().groupby('session_id').median('serp_abs_pos').serp_abs_pos, bins=100, label='median')\n",
    "plt.hist(clicks_df[['session_id','serp_abs_pos']].loc[(clicks_df.session_id.isin(test_session_ids))\n",
    "                                                      &(clicks_df.search_query!=True)]\\\n",
    "         .dropna().groupby('session_id').mean('serp_abs_pos').serp_abs_pos, bins=100, alpha=0.7, label='mean')\n",
    "plt.title('Absolute position in non-query Session in SERP ranking - lower is better')\n",
    "plt.legend()\n",
    "plt.show()"
   ]
  },
  {
   "cell_type": "markdown",
   "metadata": {},
   "source": [
    "### distnace from SERP centre"
   ]
  },
  {
   "cell_type": "code",
   "execution_count": 140,
   "metadata": {},
   "outputs": [],
   "source": [
    "import plotly.express as px\n",
    "import plotly.graph_objects as go\n",
    "\n",
    "colors=px.colors.qualitative.Plotly"
   ]
  },
  {
   "cell_type": "code",
   "execution_count": 101,
   "metadata": {},
   "outputs": [
    {
     "data": {
      "image/png": "[encoded data removed]",
      "text/plain": [
       "<Figure size 640x480 with 1 Axes>"
      ]
     },
     "metadata": {},
     "output_type": "display_data"
    }
   ],
   "source": [
    "plt.hist(clicks_df[['session_id','dist_from_serp']].loc[(clicks_df.targetXsid.isin(hit_targetXsid))\n",
    "                                                  &(clicks_df.session_id.isin(test_session_ids))]\\\n",
    "         .groupby('session_id').median('dist_from_serp').dist_from_serp, bins=100, label='hit')\n",
    "plt.hist(clicks_df[['session_id','dist_from_serp']].loc[(~clicks_df.targetXsid.isin(hit_targetXsid))\n",
    "                                                  &(clicks_df.session_id.isin(test_session_ids))]\\\n",
    "         .groupby('session_id').median('dist_from_serp').dist_from_serp, bins=100, alpha=0.5, label='miss')\n",
    "plt.title('Distance from SERP centre')\n",
    "plt.legend()\n",
    "plt.show()"
   ]
  },
  {
   "cell_type": "code",
   "execution_count": 137,
   "metadata": {},
   "outputs": [
    {
     "data": {
      "text/html": [
       "<div>\n",
       "<style scoped>\n",
       "    .dataframe tbody tr th:only-of-type {\n",
       "        vertical-align: middle;\n",
       "    }\n",
       "\n",
       "    .dataframe tbody tr th {\n",
       "        vertical-align: top;\n",
       "    }\n",
       "\n",
       "    .dataframe thead th {\n",
       "        text-align: right;\n",
       "    }\n",
       "</style>\n",
       "<table border=\"1\" class=\"dataframe\">\n",
       "  <thead>\n",
       "    <tr style=\"text-align: right;\">\n",
       "      <th></th>\n",
       "      <th>session_id</th>\n",
       "      <th>userId</th>\n",
       "      <th>item_id</th>\n",
       "      <th>timeframe</th>\n",
       "      <th>eventdate</th>\n",
       "      <th>query_id</th>\n",
       "      <th>serp</th>\n",
       "      <th>serp_pos</th>\n",
       "      <th>serp_len</th>\n",
       "      <th>dist_from_serp</th>\n",
       "      <th>item_number</th>\n",
       "      <th>no_clusters_serp</th>\n",
       "      <th>target_cluster_proportion</th>\n",
       "      <th>serp_abs_pos</th>\n",
       "      <th>search_query</th>\n",
       "      <th>targetXsid</th>\n",
       "    </tr>\n",
       "  </thead>\n",
       "  <tbody>\n",
       "    <tr>\n",
       "      <th>362878</th>\n",
       "      <td>118945</td>\n",
       "      <td>NaN</td>\n",
       "      <td>35824</td>\n",
       "      <td>31766</td>\n",
       "      <td>2016-05-30</td>\n",
       "      <td>786597.0</td>\n",
       "      <td>31256,50284,31342,16108,50310,50344,39585,8801...</td>\n",
       "      <td>0.121343</td>\n",
       "      <td>193.0</td>\n",
       "      <td>0.846071</td>\n",
       "      <td>7470</td>\n",
       "      <td>5.0</td>\n",
       "      <td>0.734043</td>\n",
       "      <td>23.0</td>\n",
       "      <td>False</td>\n",
       "      <td>(7470, 118945)</td>\n",
       "    </tr>\n",
       "    <tr>\n",
       "      <th>362879</th>\n",
       "      <td>118945</td>\n",
       "      <td>NaN</td>\n",
       "      <td>79002</td>\n",
       "      <td>94734</td>\n",
       "      <td>2016-05-30</td>\n",
       "      <td>786597.0</td>\n",
       "      <td>31256,50284,31342,16108,50310,50344,39585,8801...</td>\n",
       "      <td>0.088640</td>\n",
       "      <td>193.0</td>\n",
       "      <td>0.904135</td>\n",
       "      <td>26145</td>\n",
       "      <td>5.0</td>\n",
       "      <td>0.734043</td>\n",
       "      <td>17.0</td>\n",
       "      <td>False</td>\n",
       "      <td>(26145, 118945)</td>\n",
       "    </tr>\n",
       "    <tr>\n",
       "      <th>362880</th>\n",
       "      <td>118945</td>\n",
       "      <td>NaN</td>\n",
       "      <td>124825</td>\n",
       "      <td>154868</td>\n",
       "      <td>2016-05-30</td>\n",
       "      <td>786597.0</td>\n",
       "      <td>31256,50284,31342,16108,50310,50344,39585,8801...</td>\n",
       "      <td>0.028399</td>\n",
       "      <td>193.0</td>\n",
       "      <td>0.773953</td>\n",
       "      <td>7258</td>\n",
       "      <td>5.0</td>\n",
       "      <td>0.734043</td>\n",
       "      <td>5.0</td>\n",
       "      <td>False</td>\n",
       "      <td>(7258, 118945)</td>\n",
       "    </tr>\n",
       "    <tr>\n",
       "      <th>362881</th>\n",
       "      <td>118945</td>\n",
       "      <td>NaN</td>\n",
       "      <td>375655</td>\n",
       "      <td>235213</td>\n",
       "      <td>2016-05-30</td>\n",
       "      <td>786597.0</td>\n",
       "      <td>31256,50284,31342,16108,50310,50344,39585,8801...</td>\n",
       "      <td>0.161790</td>\n",
       "      <td>193.0</td>\n",
       "      <td>0.818182</td>\n",
       "      <td>39933</td>\n",
       "      <td>5.0</td>\n",
       "      <td>0.734043</td>\n",
       "      <td>31.0</td>\n",
       "      <td>False</td>\n",
       "      <td>(39933, 118945)</td>\n",
       "    </tr>\n",
       "    <tr>\n",
       "      <th>362882</th>\n",
       "      <td>118945</td>\n",
       "      <td>NaN</td>\n",
       "      <td>12975</td>\n",
       "      <td>297487</td>\n",
       "      <td>2016-05-30</td>\n",
       "      <td>786597.0</td>\n",
       "      <td>31256,50284,31342,16108,50310,50344,39585,8801...</td>\n",
       "      <td>0.095525</td>\n",
       "      <td>193.0</td>\n",
       "      <td>0.852493</td>\n",
       "      <td>7560</td>\n",
       "      <td>5.0</td>\n",
       "      <td>0.734043</td>\n",
       "      <td>18.0</td>\n",
       "      <td>False</td>\n",
       "      <td>(7560, 118945)</td>\n",
       "    </tr>\n",
       "    <tr>\n",
       "      <th>362883</th>\n",
       "      <td>118945</td>\n",
       "      <td>NaN</td>\n",
       "      <td>31954</td>\n",
       "      <td>462590</td>\n",
       "      <td>2016-05-30</td>\n",
       "      <td>140374.0</td>\n",
       "      <td>31256,50284,31342,16108,50310,50344,39585,8801...</td>\n",
       "      <td>0.021349</td>\n",
       "      <td>193.0</td>\n",
       "      <td>0.866268</td>\n",
       "      <td>8719</td>\n",
       "      <td>5.0</td>\n",
       "      <td>0.721925</td>\n",
       "      <td>4.0</td>\n",
       "      <td>False</td>\n",
       "      <td>(8719, 118945)</td>\n",
       "    </tr>\n",
       "    <tr>\n",
       "      <th>362884</th>\n",
       "      <td>118945</td>\n",
       "      <td>NaN</td>\n",
       "      <td>73093</td>\n",
       "      <td>764724</td>\n",
       "      <td>2016-05-30</td>\n",
       "      <td>881622.0</td>\n",
       "      <td>31256,50284,31342,16108,50310,50344,39585,8801...</td>\n",
       "      <td>0.023057</td>\n",
       "      <td>193.0</td>\n",
       "      <td>0.838125</td>\n",
       "      <td>39953</td>\n",
       "      <td>5.0</td>\n",
       "      <td>0.721925</td>\n",
       "      <td>4.0</td>\n",
       "      <td>False</td>\n",
       "      <td>(39953, 118945)</td>\n",
       "    </tr>\n",
       "    <tr>\n",
       "      <th>362885</th>\n",
       "      <td>118945</td>\n",
       "      <td>NaN</td>\n",
       "      <td>199545</td>\n",
       "      <td>803050</td>\n",
       "      <td>2016-05-30</td>\n",
       "      <td>881622.0</td>\n",
       "      <td>31256,50284,31342,16108,50310,50344,39585,8801...</td>\n",
       "      <td>0.011102</td>\n",
       "      <td>193.0</td>\n",
       "      <td>0.793932</td>\n",
       "      <td>36767</td>\n",
       "      <td>5.0</td>\n",
       "      <td>0.721925</td>\n",
       "      <td>2.0</td>\n",
       "      <td>False</td>\n",
       "      <td>(36767, 118945)</td>\n",
       "    </tr>\n",
       "    <tr>\n",
       "      <th>362886</th>\n",
       "      <td>118945</td>\n",
       "      <td>NaN</td>\n",
       "      <td>31342</td>\n",
       "      <td>866421</td>\n",
       "      <td>2016-05-30</td>\n",
       "      <td>881622.0</td>\n",
       "      <td>31256,50284,31342,16108,50310,50344,39585,8801...</td>\n",
       "      <td>0.001708</td>\n",
       "      <td>193.0</td>\n",
       "      <td>0.913634</td>\n",
       "      <td>32266</td>\n",
       "      <td>5.0</td>\n",
       "      <td>0.721925</td>\n",
       "      <td>0.0</td>\n",
       "      <td>False</td>\n",
       "      <td>(32266, 118945)</td>\n",
       "    </tr>\n",
       "    <tr>\n",
       "      <th>362887</th>\n",
       "      <td>118945</td>\n",
       "      <td>NaN</td>\n",
       "      <td>31342</td>\n",
       "      <td>927658</td>\n",
       "      <td>2016-05-30</td>\n",
       "      <td>881622.0</td>\n",
       "      <td>31256,50284,31342,16108,50310,50344,39585,8801...</td>\n",
       "      <td>0.001708</td>\n",
       "      <td>193.0</td>\n",
       "      <td>0.913634</td>\n",
       "      <td>32266</td>\n",
       "      <td>5.0</td>\n",
       "      <td>0.721925</td>\n",
       "      <td>0.0</td>\n",
       "      <td>False</td>\n",
       "      <td>(32266, 118945)</td>\n",
       "    </tr>\n",
       "    <tr>\n",
       "      <th>362888</th>\n",
       "      <td>118945</td>\n",
       "      <td>NaN</td>\n",
       "      <td>31342</td>\n",
       "      <td>981121</td>\n",
       "      <td>2016-05-30</td>\n",
       "      <td>881622.0</td>\n",
       "      <td>31256,50284,31342,16108,50310,50344,39585,8801...</td>\n",
       "      <td>0.001708</td>\n",
       "      <td>193.0</td>\n",
       "      <td>0.913634</td>\n",
       "      <td>32266</td>\n",
       "      <td>5.0</td>\n",
       "      <td>0.721925</td>\n",
       "      <td>0.0</td>\n",
       "      <td>False</td>\n",
       "      <td>(32266, 118945)</td>\n",
       "    </tr>\n",
       "  </tbody>\n",
       "</table>\n",
       "</div>"
      ],
      "text/plain": [
       "        session_id  userId  item_id  timeframe   eventdate  query_id  \\\n",
       "362878      118945     NaN    35824      31766  2016-05-30  786597.0   \n",
       "362879      118945     NaN    79002      94734  2016-05-30  786597.0   \n",
       "362880      118945     NaN   124825     154868  2016-05-30  786597.0   \n",
       "362881      118945     NaN   375655     235213  2016-05-30  786597.0   \n",
       "362882      118945     NaN    12975     297487  2016-05-30  786597.0   \n",
       "362883      118945     NaN    31954     462590  2016-05-30  140374.0   \n",
       "362884      118945     NaN    73093     764724  2016-05-30  881622.0   \n",
       "362885      118945     NaN   199545     803050  2016-05-30  881622.0   \n",
       "362886      118945     NaN    31342     866421  2016-05-30  881622.0   \n",
       "362887      118945     NaN    31342     927658  2016-05-30  881622.0   \n",
       "362888      118945     NaN    31342     981121  2016-05-30  881622.0   \n",
       "\n",
       "                                                     serp  serp_pos  serp_len  \\\n",
       "362878  31256,50284,31342,16108,50310,50344,39585,8801...  0.121343     193.0   \n",
       "362879  31256,50284,31342,16108,50310,50344,39585,8801...  0.088640     193.0   \n",
       "362880  31256,50284,31342,16108,50310,50344,39585,8801...  0.028399     193.0   \n",
       "362881  31256,50284,31342,16108,50310,50344,39585,8801...  0.161790     193.0   \n",
       "362882  31256,50284,31342,16108,50310,50344,39585,8801...  0.095525     193.0   \n",
       "362883  31256,50284,31342,16108,50310,50344,39585,8801...  0.021349     193.0   \n",
       "362884  31256,50284,31342,16108,50310,50344,39585,8801...  0.023057     193.0   \n",
       "362885  31256,50284,31342,16108,50310,50344,39585,8801...  0.011102     193.0   \n",
       "362886  31256,50284,31342,16108,50310,50344,39585,8801...  0.001708     193.0   \n",
       "362887  31256,50284,31342,16108,50310,50344,39585,8801...  0.001708     193.0   \n",
       "362888  31256,50284,31342,16108,50310,50344,39585,8801...  0.001708     193.0   \n",
       "\n",
       "        dist_from_serp  item_number  no_clusters_serp  \\\n",
       "362878        0.846071         7470               5.0   \n",
       "362879        0.904135        26145               5.0   \n",
       "362880        0.773953         7258               5.0   \n",
       "362881        0.818182        39933               5.0   \n",
       "362882        0.852493         7560               5.0   \n",
       "362883        0.866268         8719               5.0   \n",
       "362884        0.838125        39953               5.0   \n",
       "362885        0.793932        36767               5.0   \n",
       "362886        0.913634        32266               5.0   \n",
       "362887        0.913634        32266               5.0   \n",
       "362888        0.913634        32266               5.0   \n",
       "\n",
       "        target_cluster_proportion  serp_abs_pos search_query       targetXsid  \n",
       "362878                   0.734043          23.0        False   (7470, 118945)  \n",
       "362879                   0.734043          17.0        False  (26145, 118945)  \n",
       "362880                   0.734043           5.0        False   (7258, 118945)  \n",
       "362881                   0.734043          31.0        False  (39933, 118945)  \n",
       "362882                   0.734043          18.0        False   (7560, 118945)  \n",
       "362883                   0.721925           4.0        False   (8719, 118945)  \n",
       "362884                   0.721925           4.0        False  (39953, 118945)  \n",
       "362885                   0.721925           2.0        False  (36767, 118945)  \n",
       "362886                   0.721925           0.0        False  (32266, 118945)  \n",
       "362887                   0.721925           0.0        False  (32266, 118945)  \n",
       "362888                   0.721925           0.0        False  (32266, 118945)  "
      ]
     },
     "execution_count": 137,
     "metadata": {},
     "output_type": "execute_result"
    }
   ],
   "source": [
    "# ciekawe przypadki\n",
    "# 2137, 10, 1488, 69\n",
    "#1044\n",
    "\n",
    "idx=np.random.choice(list(test_session_ids))\n",
    "\n",
    "sample=clicks_df.loc[clicks_df.session_id==idx]\n",
    "sample"
   ]
  },
  {
   "cell_type": "code",
   "execution_count": 152,
   "metadata": {},
   "outputs": [
    {
     "data": {
      "image/png": "[encoded data removed]",
      "text/plain": [
       "<Figure size 640x480 with 1 Axes>"
      ]
     },
     "metadata": {},
     "output_type": "display_data"
    }
   ],
   "source": [
    "plt.hist(clicks_df.drop_duplicates(subset='serp').target_cluster_proportion)#, bins=np.arange(1, 11))\n",
    "plt.show()"
   ]
  },
  {
   "cell_type": "code",
   "execution_count": 155,
   "metadata": {},
   "outputs": [
    {
     "data": {
      "text/plain": [
       "(array([0, 3, 4, 5, 6, 7]), array([  5,  49,   1,  15,   4, 114]))"
      ]
     },
     "execution_count": 155,
     "metadata": {},
     "output_type": "execute_result"
    }
   ],
   "source": [
    "np.unique(labels, return_counts=True)"
   ]
  },
  {
   "cell_type": "code",
   "execution_count": 156,
   "metadata": {},
   "outputs": [
    {
     "data": {
      "text/plain": [
       "0.8670212765957447"
      ]
     },
     "execution_count": 156,
     "metadata": {},
     "output_type": "execute_result"
    }
   ],
   "source": [
    "(49+114)/sum([  5,  49,   1,  15,   4, 114])"
   ]
  },
  {
   "cell_type": "code",
   "execution_count": 153,
   "metadata": {},
   "outputs": [
    {
     "data": {
      "application/vnd.plotly.v1+json": {
       "config": {
        "plotlyServerURL": "https://plot.ly"
       },
       "data": [
        {
         "marker": {
          "color": "#636EFA"
         },
         "mode": "markers",
         "name": "0",
         "type": "scatter",
         "x": [
          41.98545837402344,
          41.58621597290039,
          41.92734909057617,
          -26.105825424194336,
          38.926963806152344
         ],
         "y": [
          -13.639239311218262,
          -16.32893180847168,
          -16.157611846923828,
          -39.444156646728516,
          -16.553430557250977
         ]
        },
        {
         "marker": {
          "color": "#AB63FA"
         },
         "mode": "markers",
         "name": "3",
         "type": "scatter",
         "x": [
          41.621849060058594,
          42.96251678466797,
          45.062313079833984,
          43.57575988769531,
          43.84291076660156,
          39.382652282714844,
          41.59370040893555,
          43.131954193115234,
          43.28087615966797,
          41.899139404296875,
          13.49691104888916,
          40.099266052246094,
          41.43119430541992,
          45.56356430053711,
          40.97439956665039,
          -18.743906021118164,
          -26.402069091796875,
          44.2043571472168,
          36.64794158935547,
          38.85464096069336,
          38.262542724609375,
          38.202613830566406,
          37.81895065307617,
          40.260215759277344,
          34.926658630371094,
          43.2392578125,
          40.968719482421875,
          38.83089828491211,
          46.25461196899414,
          44.43592071533203,
          -25.05345916748047,
          41.42521667480469,
          39.070560455322266,
          39.148712158203125,
          37.67878723144531,
          37.848472595214844,
          -21.186298370361328,
          41.436214447021484,
          45.072174072265625,
          40.27665710449219,
          -22.644250869750977,
          39.16527557373047,
          44.99868392944336,
          44.311100006103516,
          38.92501449584961,
          37.82294845581055,
          38.30931854248047,
          41.23998260498047,
          39.91275405883789
         ],
         "y": [
          -15.456170082092285,
          -15.416959762573242,
          -14.592815399169922,
          -10.479680061340332,
          -10.906854629516602,
          -14.547338485717773,
          -14.915596961975098,
          -14.968049049377441,
          -14.563558578491211,
          -12.874771118164062,
          -27.822864532470703,
          -13.923824310302734,
          -16.46427345275879,
          -13.73763370513916,
          -10.63998794555664,
          -35.732173919677734,
          -38.73700714111328,
          -16.264785766601562,
          -12.833581924438477,
          -9.38293170928955,
          -9.316481590270996,
          -8.988251686096191,
          -15.153559684753418,
          -13.560744285583496,
          -14.81792163848877,
          -15.464384078979492,
          -16.400981903076172,
          -14.740239143371582,
          -13.04686450958252,
          -14.184099197387695,
          -37.42887496948242,
          -16.380634307861328,
          -15.815831184387207,
          -16.85556411743164,
          -15.305789947509766,
          -15.400846481323242,
          -38.487548828125,
          -13.661109924316406,
          -10.573674201965332,
          -14.858187675476074,
          -41.16417694091797,
          -15.418452262878418,
          -13.295899391174316,
          -12.433161735534668,
          -16.673280715942383,
          -15.482845306396484,
          -15.627909660339355,
          -16.366716384887695,
          -14.990659713745117
         ]
        },
        {
         "marker": {
          "color": "#FFA15A"
         },
         "mode": "markers",
         "name": "4",
         "type": "scatter",
         "x": [
          13.368788719177246
         ],
         "y": [
          -27.723970413208008
         ]
        },
        {
         "marker": {
          "color": "#19D3F3"
         },
         "mode": "markers",
         "name": "5",
         "type": "scatter",
         "x": [
          41.38621139526367,
          37.78057861328125,
          38.24604797363281,
          41.33088684082031,
          46.83322525024414,
          46.723541259765625,
          40.06990051269531,
          -22.730649948120117,
          46.694766998291016,
          37.1694450378418,
          -22.32965087890625,
          44.18412399291992,
          39.923458099365234,
          37.70402526855469,
          39.702518463134766
         ],
         "y": [
          -16.402780532836914,
          -9.520857810974121,
          -9.234064102172852,
          -16.274181365966797,
          -12.653648376464844,
          -13.042728424072266,
          -13.45705509185791,
          -40.28731918334961,
          -12.709600448608398,
          -12.59363842010498,
          -38.0106086730957,
          -12.634598731994629,
          -15.227279663085938,
          -15.028468132019043,
          -14.710434913635254
         ]
        },
        {
         "marker": {
          "color": "#FF6692"
         },
         "mode": "markers",
         "name": "6",
         "type": "scatter",
         "x": [
          -24.41611671447754,
          37.71802520751953,
          37.770851135253906,
          39.74088668823242
         ],
         "y": [
          -38.908241271972656,
          -9.825854301452637,
          -15.234687805175781,
          -11.450366973876953
         ]
        },
        {
         "marker": {
          "color": "#B6E880"
         },
         "mode": "markers",
         "name": "7",
         "type": "scatter",
         "x": [
          45.958683013916016,
          34.79068374633789,
          41.079345703125,
          43.22635269165039,
          43.85430145263672,
          44.36393737792969,
          -21.608238220214844,
          42.681697845458984,
          39.785377502441406,
          41.18230438232422,
          42.16619873046875,
          40.832305908203125,
          46.065673828125,
          -20.126415252685547,
          41.43170928955078,
          38.420780181884766,
          46.94845962524414,
          35.69350814819336,
          46.276832580566406,
          36.524925231933594,
          -17.75958251953125,
          37.860992431640625,
          43.95082092285156,
          -23.128610610961914,
          -21.571529388427734,
          38.544681549072266,
          35.804019927978516,
          40.015777587890625,
          43.06178283691406,
          -21.53748321533203,
          42.0914421081543,
          40.700626373291016,
          36.723175048828125,
          -21.40494155883789,
          38.36985778808594,
          38.030845642089844,
          43.07847213745117,
          -21.90302085876465,
          40.60999298095703,
          39.62676239013672,
          -19.175748825073242,
          46.966026306152344,
          -17.91258430480957,
          34.999874114990234,
          -19.14365577697754,
          39.57514953613281,
          42.844886779785156,
          39.21013259887695,
          -21.94419288635254,
          36.57501220703125,
          -26.381139755249023,
          -22.80354118347168,
          -24.447343826293945,
          36.64708709716797,
          -14.703200340270996,
          42.58408737182617,
          46.07767868041992,
          46.08091735839844,
          46.81375503540039,
          41.8661003112793,
          39.6163215637207,
          39.91109848022461,
          45.20496368408203,
          41.79255294799805,
          42.43876647949219,
          39.992774963378906,
          47.13689422607422,
          46.045127868652344,
          -21.457536697387695,
          41.48119354248047,
          38.78744125366211,
          38.67084884643555,
          37.46391677856445,
          40.76241683959961,
          -20.25227928161621,
          39.163394927978516,
          38.943641662597656,
          39.33366012573242,
          -24.65921974182129,
          -26.803749084472656,
          -23.125625610351562,
          36.1237907409668,
          42.03959274291992,
          45.24740982055664,
          -17.648473739624023,
          -24.20490837097168,
          39.78559875488281,
          44.24666213989258,
          -26.67793083190918,
          -21.027517318725586,
          -21.10274314880371,
          -16.235490798950195,
          -16.266799926757812,
          34.48505783081055,
          40.98149871826172,
          41.901893615722656,
          13.41716194152832,
          38.89976501464844,
          37.94914245605469,
          40.892601013183594,
          40.929344177246094,
          40.63378143310547,
          39.477630615234375,
          37.35919952392578,
          39.732112884521484,
          39.823272705078125,
          39.78523635864258,
          39.35570526123047,
          43.51641082763672,
          44.09894943237305,
          40.788421630859375,
          -16.06960678100586,
          43.99555969238281,
          37.38433074951172
         ],
         "y": [
          -11.714720726013184,
          -14.80981731414795,
          -9.996622085571289,
          -10.26305866241455,
          -9.72079849243164,
          -11.912205696105957,
          -39.862823486328125,
          -10.115400314331055,
          -11.826787948608398,
          -11.737906455993652,
          -15.721506118774414,
          -11.148924827575684,
          -10.760330200195312,
          -35.15486145019531,
          -16.478450775146484,
          -13.272917747497559,
          -12.454798698425293,
          -13.723209381103516,
          -9.80586051940918,
          -13.967132568359375,
          -35.67739486694336,
          -11.20124626159668,
          -9.721519470214844,
          -36.91212844848633,
          -39.67161178588867,
          -9.602863311767578,
          -13.858795166015625,
          -11.246221542358398,
          -14.525418281555176,
          -38.747188568115234,
          -12.472085952758789,
          -9.620077133178711,
          -14.013235092163086,
          -39.57654571533203,
          -9.741920471191406,
          -9.18817138671875,
          -14.636941909790039,
          -37.61467742919922,
          -12.896203994750977,
          -11.87076473236084,
          -36.02939224243164,
          -12.347861289978027,
          -36.59712600708008,
          -15.89788818359375,
          -34.42958068847656,
          -9.86790943145752,
          -15.375564575195312,
          -11.210272789001465,
          -36.09564208984375,
          -12.068046569824219,
          -41.25010681152344,
          -35.67811965942383,
          -38.676788330078125,
          -12.447281837463379,
          6.755546569824219,
          -9.760689735412598,
          -11.100556373596191,
          -12.441935539245605,
          -12.98656940460205,
          -13.567879676818848,
          -11.63632869720459,
          -11.167922973632812,
          -12.07325553894043,
          -9.944645881652832,
          -9.625277519226074,
          -10.873418807983398,
          -12.413861274719238,
          -13.184615135192871,
          -38.76665115356445,
          -16.551197052001953,
          -10.995074272155762,
          -11.030813217163086,
          -12.394481658935547,
          -16.62298583984375,
          -39.025978088378906,
          -11.739507675170898,
          -11.737197875976562,
          -11.397307395935059,
          -38.4832649230957,
          -39.824180603027344,
          -37.52729034423828,
          -12.545100212097168,
          -11.685638427734375,
          -10.506709098815918,
          -36.72772979736328,
          -39.0333366394043,
          -10.737759590148926,
          -15.982872009277344,
          -40.65671920776367,
          -37.3768310546875,
          -37.34629821777344,
          4.080113410949707,
          4.034204959869385,
          -15.784668922424316,
          -11.394031524658203,
          -10.152573585510254,
          -27.687881469726562,
          -12.005783081054688,
          -9.911966323852539,
          -9.594531059265137,
          -9.711376190185547,
          -9.651762962341309,
          -11.328814506530762,
          -12.952193260192871,
          -14.925451278686523,
          -14.060654640197754,
          -11.19084644317627,
          -15.956108093261719,
          -14.0406494140625,
          -12.787310600280762,
          -9.754020690917969,
          -36.212059020996094,
          -11.46893310546875,
          -12.39776611328125
         ]
        },
        {
         "marker": {
          "color": "#B6E880",
          "line": {
           "color": "DarkSlateGrey",
           "width": 2
          },
          "size": 12
         },
         "mode": "markers",
         "name": "item_1_cluster_7",
         "type": "scatter",
         "x": [
          45.24740982055664
         ],
         "y": [
          -10.506709098815918
         ]
        },
        {
         "marker": {
          "color": "#B6E880",
          "line": {
           "color": "DarkSlateGrey",
           "width": 2
          },
          "size": 12
         },
         "mode": "markers",
         "name": "item_2_cluster_7",
         "type": "scatter",
         "x": [
          45.20496368408203
         ],
         "y": [
          -12.07325553894043
         ]
        },
        {
         "marker": {
          "color": "#AB63FA",
          "line": {
           "color": "DarkSlateGrey",
           "width": 2
          },
          "size": 12
         },
         "mode": "markers",
         "name": "item_3_cluster_3",
         "type": "scatter",
         "x": [
          45.56356430053711
         ],
         "y": [
          -13.73763370513916
         ]
        },
        {
         "marker": {
          "color": "#B6E880",
          "line": {
           "color": "DarkSlateGrey",
           "width": 2
          },
          "size": 12
         },
         "mode": "markers",
         "name": "item_4_cluster_7",
         "type": "scatter",
         "x": [
          43.99555969238281
         ],
         "y": [
          -11.46893310546875
         ]
        },
        {
         "marker": {
          "color": "#B6E880",
          "line": {
           "color": "DarkSlateGrey",
           "width": 2
          },
          "size": 12
         },
         "mode": "markers",
         "name": "item_5_cluster_7",
         "type": "scatter",
         "x": [
          46.045127868652344
         ],
         "y": [
          -13.184615135192871
         ]
        },
        {
         "marker": {
          "color": "#B6E880",
          "line": {
           "color": "DarkSlateGrey",
           "width": 2
          },
          "size": 12
         },
         "mode": "markers",
         "name": "item_6_cluster_7",
         "type": "scatter",
         "x": [
          46.065673828125
         ],
         "y": [
          -10.760330200195312
         ]
        },
        {
         "marker": {
          "color": "#AB63FA",
          "line": {
           "color": "DarkSlateGrey",
           "width": 2
          },
          "size": 12
         },
         "mode": "markers",
         "name": "item_7_cluster_3",
         "type": "scatter",
         "x": [
          41.43119430541992
         ],
         "y": [
          -16.46427345275879
         ]
        },
        {
         "marker": {
          "color": "#AB63FA",
          "line": {
           "color": "DarkSlateGrey",
           "width": 2
          },
          "size": 12
         },
         "mode": "markers",
         "name": "item_8_cluster_3",
         "type": "scatter",
         "x": [
          43.131954193115234
         ],
         "y": [
          -14.968049049377441
         ]
        },
        {
         "marker": {
          "color": "#B6E880",
          "line": {
           "color": "DarkSlateGrey",
           "width": 2
          },
          "size": 12
         },
         "mode": "markers",
         "name": "item_9_cluster_7",
         "type": "scatter",
         "x": [
          45.958683013916016
         ],
         "y": [
          -11.714720726013184
         ]
        },
        {
         "marker": {
          "color": "#B6E880",
          "line": {
           "color": "DarkSlateGrey",
           "width": 2
          },
          "size": 12
         },
         "mode": "markers",
         "name": "item_10_cluster_7",
         "type": "scatter",
         "x": [
          45.958683013916016
         ],
         "y": [
          -11.714720726013184
         ]
        },
        {
         "marker": {
          "color": "#B6E880",
          "line": {
           "color": "DarkSlateGrey",
           "width": 2
          },
          "size": 12
         },
         "mode": "markers",
         "name": "item_11_cluster_7",
         "type": "scatter",
         "x": [
          45.958683013916016
         ],
         "y": [
          -11.714720726013184
         ]
        }
       ],
       "layout": {
        "height": 800,
        "margin": {
         "b": 40,
         "l": 40,
         "r": 40,
         "t": 40
        },
        "template": {
         "data": {
          "bar": [
           {
            "error_x": {
             "color": "#2a3f5f"
            },
            "error_y": {
             "color": "#2a3f5f"
            },
            "marker": {
             "line": {
              "color": "#E5ECF6",
              "width": 0.5
             },
             "pattern": {
              "fillmode": "overlay",
              "size": 10,
              "solidity": 0.2
             }
            },
            "type": "bar"
           }
          ],
          "barpolar": [
           {
            "marker": {
             "line": {
              "color": "#E5ECF6",
              "width": 0.5
             },
             "pattern": {
              "fillmode": "overlay",
              "size": 10,
              "solidity": 0.2
             }
            },
            "type": "barpolar"
           }
          ],
          "carpet": [
           {
            "aaxis": {
             "endlinecolor": "#2a3f5f",
             "gridcolor": "white",
             "linecolor": "white",
             "minorgridcolor": "white",
             "startlinecolor": "#2a3f5f"
            },
            "baxis": {
             "endlinecolor": "#2a3f5f",
             "gridcolor": "white",
             "linecolor": "white",
             "minorgridcolor": "white",
             "startlinecolor": "#2a3f5f"
            },
            "type": "carpet"
           }
          ],
          "choropleth": [
           {
            "colorbar": {
             "outlinewidth": 0,
             "ticks": ""
            },
            "type": "choropleth"
           }
          ],
          "contour": [
           {
            "colorbar": {
             "outlinewidth": 0,
             "ticks": ""
            },
            "colorscale": [
             [
              0,
              "#0d0887"
             ],
             [
              0.1111111111111111,
              "#46039f"
             ],
             [
              0.2222222222222222,
              "#7201a8"
             ],
             [
              0.3333333333333333,
              "#9c179e"
             ],
             [
              0.4444444444444444,
              "#bd3786"
             ],
             [
              0.5555555555555556,
              "#d8576b"
             ],
             [
              0.6666666666666666,
              "#ed7953"
             ],
             [
              0.7777777777777778,
              "#fb9f3a"
             ],
             [
              0.8888888888888888,
              "#fdca26"
             ],
             [
              1,
              "#f0f921"
             ]
            ],
            "type": "contour"
           }
          ],
          "contourcarpet": [
           {
            "colorbar": {
             "outlinewidth": 0,
             "ticks": ""
            },
            "type": "contourcarpet"
           }
          ],
          "heatmap": [
           {
            "colorbar": {
             "outlinewidth": 0,
             "ticks": ""
            },
            "colorscale": [
             [
              0,
              "#0d0887"
             ],
             [
              0.1111111111111111,
              "#46039f"
             ],
             [
              0.2222222222222222,
              "#7201a8"
             ],
             [
              0.3333333333333333,
              "#9c179e"
             ],
             [
              0.4444444444444444,
              "#bd3786"
             ],
             [
              0.5555555555555556,
              "#d8576b"
             ],
             [
              0.6666666666666666,
              "#ed7953"
             ],
             [
              0.7777777777777778,
              "#fb9f3a"
             ],
             [
              0.8888888888888888,
              "#fdca26"
             ],
             [
              1,
              "#f0f921"
             ]
            ],
            "type": "heatmap"
           }
          ],
          "heatmapgl": [
           {
            "colorbar": {
             "outlinewidth": 0,
             "ticks": ""
            },
            "colorscale": [
             [
              0,
              "#0d0887"
             ],
             [
              0.1111111111111111,
              "#46039f"
             ],
             [
              0.2222222222222222,
              "#7201a8"
             ],
             [
              0.3333333333333333,
              "#9c179e"
             ],
             [
              0.4444444444444444,
              "#bd3786"
             ],
             [
              0.5555555555555556,
              "#d8576b"
             ],
             [
              0.6666666666666666,
              "#ed7953"
             ],
             [
              0.7777777777777778,
              "#fb9f3a"
             ],
             [
              0.8888888888888888,
              "#fdca26"
             ],
             [
              1,
              "#f0f921"
             ]
            ],
            "type": "heatmapgl"
           }
          ],
          "histogram": [
           {
            "marker": {
             "pattern": {
              "fillmode": "overlay",
              "size": 10,
              "solidity": 0.2
             }
            },
            "type": "histogram"
           }
          ],
          "histogram2d": [
           {
            "colorbar": {
             "outlinewidth": 0,
             "ticks": ""
            },
            "colorscale": [
             [
              0,
              "#0d0887"
             ],
             [
              0.1111111111111111,
              "#46039f"
             ],
             [
              0.2222222222222222,
              "#7201a8"
             ],
             [
              0.3333333333333333,
              "#9c179e"
             ],
             [
              0.4444444444444444,
              "#bd3786"
             ],
             [
              0.5555555555555556,
              "#d8576b"
             ],
             [
              0.6666666666666666,
              "#ed7953"
             ],
             [
              0.7777777777777778,
              "#fb9f3a"
             ],
             [
              0.8888888888888888,
              "#fdca26"
             ],
             [
              1,
              "#f0f921"
             ]
            ],
            "type": "histogram2d"
           }
          ],
          "histogram2dcontour": [
           {
            "colorbar": {
             "outlinewidth": 0,
             "ticks": ""
            },
            "colorscale": [
             [
              0,
              "#0d0887"
             ],
             [
              0.1111111111111111,
              "#46039f"
             ],
             [
              0.2222222222222222,
              "#7201a8"
             ],
             [
              0.3333333333333333,
              "#9c179e"
             ],
             [
              0.4444444444444444,
              "#bd3786"
             ],
             [
              0.5555555555555556,
              "#d8576b"
             ],
             [
              0.6666666666666666,
              "#ed7953"
             ],
             [
              0.7777777777777778,
              "#fb9f3a"
             ],
             [
              0.8888888888888888,
              "#fdca26"
             ],
             [
              1,
              "#f0f921"
             ]
            ],
            "type": "histogram2dcontour"
           }
          ],
          "mesh3d": [
           {
            "colorbar": {
             "outlinewidth": 0,
             "ticks": ""
            },
            "type": "mesh3d"
           }
          ],
          "parcoords": [
           {
            "line": {
             "colorbar": {
              "outlinewidth": 0,
              "ticks": ""
             }
            },
            "type": "parcoords"
           }
          ],
          "pie": [
           {
            "automargin": true,
            "type": "pie"
           }
          ],
          "scatter": [
           {
            "fillpattern": {
             "fillmode": "overlay",
             "size": 10,
             "solidity": 0.2
            },
            "type": "scatter"
           }
          ],
          "scatter3d": [
           {
            "line": {
             "colorbar": {
              "outlinewidth": 0,
              "ticks": ""
             }
            },
            "marker": {
             "colorbar": {
              "outlinewidth": 0,
              "ticks": ""
             }
            },
            "type": "scatter3d"
           }
          ],
          "scattercarpet": [
           {
            "marker": {
             "colorbar": {
              "outlinewidth": 0,
              "ticks": ""
             }
            },
            "type": "scattercarpet"
           }
          ],
          "scattergeo": [
           {
            "marker": {
             "colorbar": {
              "outlinewidth": 0,
              "ticks": ""
             }
            },
            "type": "scattergeo"
           }
          ],
          "scattergl": [
           {
            "marker": {
             "colorbar": {
              "outlinewidth": 0,
              "ticks": ""
             }
            },
            "type": "scattergl"
           }
          ],
          "scattermapbox": [
           {
            "marker": {
             "colorbar": {
              "outlinewidth": 0,
              "ticks": ""
             }
            },
            "type": "scattermapbox"
           }
          ],
          "scatterpolar": [
           {
            "marker": {
             "colorbar": {
              "outlinewidth": 0,
              "ticks": ""
             }
            },
            "type": "scatterpolar"
           }
          ],
          "scatterpolargl": [
           {
            "marker": {
             "colorbar": {
              "outlinewidth": 0,
              "ticks": ""
             }
            },
            "type": "scatterpolargl"
           }
          ],
          "scatterternary": [
           {
            "marker": {
             "colorbar": {
              "outlinewidth": 0,
              "ticks": ""
             }
            },
            "type": "scatterternary"
           }
          ],
          "surface": [
           {
            "colorbar": {
             "outlinewidth": 0,
             "ticks": ""
            },
            "colorscale": [
             [
              0,
              "#0d0887"
             ],
             [
              0.1111111111111111,
              "#46039f"
             ],
             [
              0.2222222222222222,
              "#7201a8"
             ],
             [
              0.3333333333333333,
              "#9c179e"
             ],
             [
              0.4444444444444444,
              "#bd3786"
             ],
             [
              0.5555555555555556,
              "#d8576b"
             ],
             [
              0.6666666666666666,
              "#ed7953"
             ],
             [
              0.7777777777777778,
              "#fb9f3a"
             ],
             [
              0.8888888888888888,
              "#fdca26"
             ],
             [
              1,
              "#f0f921"
             ]
            ],
            "type": "surface"
           }
          ],
          "table": [
           {
            "cells": {
             "fill": {
              "color": "#EBF0F8"
             },
             "line": {
              "color": "white"
             }
            },
            "header": {
             "fill": {
              "color": "#C8D4E3"
             },
             "line": {
              "color": "white"
             }
            },
            "type": "table"
           }
          ]
         },
         "layout": {
          "annotationdefaults": {
           "arrowcolor": "#2a3f5f",
           "arrowhead": 0,
           "arrowwidth": 1
          },
          "autotypenumbers": "strict",
          "coloraxis": {
           "colorbar": {
            "outlinewidth": 0,
            "ticks": ""
           }
          },
          "colorscale": {
           "diverging": [
            [
             0,
             "#8e0152"
            ],
            [
             0.1,
             "#c51b7d"
            ],
            [
             0.2,
             "#de77ae"
            ],
            [
             0.3,
             "#f1b6da"
            ],
            [
             0.4,
             "#fde0ef"
            ],
            [
             0.5,
             "#f7f7f7"
            ],
            [
             0.6,
             "#e6f5d0"
            ],
            [
             0.7,
             "#b8e186"
            ],
            [
             0.8,
             "#7fbc41"
            ],
            [
             0.9,
             "#4d9221"
            ],
            [
             1,
             "#276419"
            ]
           ],
           "sequential": [
            [
             0,
             "#0d0887"
            ],
            [
             0.1111111111111111,
             "#46039f"
            ],
            [
             0.2222222222222222,
             "#7201a8"
            ],
            [
             0.3333333333333333,
             "#9c179e"
            ],
            [
             0.4444444444444444,
             "#bd3786"
            ],
            [
             0.5555555555555556,
             "#d8576b"
            ],
            [
             0.6666666666666666,
             "#ed7953"
            ],
            [
             0.7777777777777778,
             "#fb9f3a"
            ],
            [
             0.8888888888888888,
             "#fdca26"
            ],
            [
             1,
             "#f0f921"
            ]
           ],
           "sequentialminus": [
            [
             0,
             "#0d0887"
            ],
            [
             0.1111111111111111,
             "#46039f"
            ],
            [
             0.2222222222222222,
             "#7201a8"
            ],
            [
             0.3333333333333333,
             "#9c179e"
            ],
            [
             0.4444444444444444,
             "#bd3786"
            ],
            [
             0.5555555555555556,
             "#d8576b"
            ],
            [
             0.6666666666666666,
             "#ed7953"
            ],
            [
             0.7777777777777778,
             "#fb9f3a"
            ],
            [
             0.8888888888888888,
             "#fdca26"
            ],
            [
             1,
             "#f0f921"
            ]
           ]
          },
          "colorway": [
           "#636efa",
           "#EF553B",
           "#00cc96",
           "#ab63fa",
           "#FFA15A",
           "#19d3f3",
           "#FF6692",
           "#B6E880",
           "#FF97FF",
           "#FECB52"
          ],
          "font": {
           "color": "#2a3f5f"
          },
          "geo": {
           "bgcolor": "white",
           "lakecolor": "white",
           "landcolor": "#E5ECF6",
           "showlakes": true,
           "showland": true,
           "subunitcolor": "white"
          },
          "hoverlabel": {
           "align": "left"
          },
          "hovermode": "closest",
          "mapbox": {
           "style": "light"
          },
          "paper_bgcolor": "white",
          "plot_bgcolor": "#E5ECF6",
          "polar": {
           "angularaxis": {
            "gridcolor": "white",
            "linecolor": "white",
            "ticks": ""
           },
           "bgcolor": "#E5ECF6",
           "radialaxis": {
            "gridcolor": "white",
            "linecolor": "white",
            "ticks": ""
           }
          },
          "scene": {
           "xaxis": {
            "backgroundcolor": "#E5ECF6",
            "gridcolor": "white",
            "gridwidth": 2,
            "linecolor": "white",
            "showbackground": true,
            "ticks": "",
            "zerolinecolor": "white"
           },
           "yaxis": {
            "backgroundcolor": "#E5ECF6",
            "gridcolor": "white",
            "gridwidth": 2,
            "linecolor": "white",
            "showbackground": true,
            "ticks": "",
            "zerolinecolor": "white"
           },
           "zaxis": {
            "backgroundcolor": "#E5ECF6",
            "gridcolor": "white",
            "gridwidth": 2,
            "linecolor": "white",
            "showbackground": true,
            "ticks": "",
            "zerolinecolor": "white"
           }
          },
          "shapedefaults": {
           "line": {
            "color": "#2a3f5f"
           }
          },
          "ternary": {
           "aaxis": {
            "gridcolor": "white",
            "linecolor": "white",
            "ticks": ""
           },
           "baxis": {
            "gridcolor": "white",
            "linecolor": "white",
            "ticks": ""
           },
           "bgcolor": "#E5ECF6",
           "caxis": {
            "gridcolor": "white",
            "linecolor": "white",
            "ticks": ""
           }
          },
          "title": {
           "x": 0.05
          },
          "xaxis": {
           "automargin": true,
           "gridcolor": "white",
           "linecolor": "white",
           "ticks": "",
           "title": {
            "standoff": 15
           },
           "zerolinecolor": "white",
           "zerolinewidth": 2
          },
          "yaxis": {
           "automargin": true,
           "gridcolor": "white",
           "linecolor": "white",
           "ticks": "",
           "title": {
            "standoff": 15
           },
           "zerolinecolor": "white",
           "zerolinewidth": 2
          }
         }
        },
        "title": {
         "text": "Single SERP items embeddings with GM clusters. Search Query = False"
        },
        "width": 1000
       }
      }
     },
     "metadata": {},
     "output_type": "display_data"
    }
   ],
   "source": [
    "fig = go.Figure()\n",
    "\n",
    "embs=[]\n",
    "labels=[]\n",
    "for iid in sample.serp.unique()[0].split(','):\n",
    "    try:\n",
    "        embs.append(tsne_items_embeddings[item_dict[int(iid)]])\n",
    "        labels.append(item_labels[item_dict[int(iid)]])\n",
    "    except KeyError:\n",
    "        continue\n",
    "\n",
    "embs=np.array(embs)\n",
    "labels=np.array(labels)\n",
    "for label in set(labels):\n",
    "    idxs=labels==label\n",
    "    label_embedding=embs[idxs]\n",
    "    fig.add_trace(go.Scatter(x=label_embedding[:,0], y=label_embedding[:,1], name=str(label), marker={'color':colors[label]}, mode='markers'))\n",
    "for j,(i,r) in enumerate(sample.iterrows()):\n",
    "    fig.add_trace(go.Scatter(x=[tsne_items_embeddings[r.item_number, 0]], \n",
    "                                y=[tsne_items_embeddings[r.item_number, 1]], \n",
    "                                name=f'item_{j+1}_cluster_{item_labels[r.item_number]}', mode='markers', \n",
    "                                #legendgroup='session_items',\n",
    "                                marker=dict(size=12,\n",
    "                                            color=colors[item_labels[r.item_number]],\n",
    "                                        line=dict(width=2,\n",
    "                                        color='DarkSlateGrey'))))\n",
    "\n",
    "\n",
    "fig.update_layout(title=f'Single SERP items embeddings with GM clusters. Search Query = {is_search_query(sample.query_id.unique()[0])}',\n",
    "                  margin=dict(l=40, r=40, t=40, b=40),\n",
    "                  width=1000, height=800)\n",
    "fig.show()"
   ]
  },
  {
   "cell_type": "markdown",
   "metadata": {},
   "source": [
    "### aggregate above info"
   ]
  },
  {
   "cell_type": "code",
   "execution_count": null,
   "metadata": {},
   "outputs": [],
   "source": [
    "query_serp_clusters_dict={}\n",
    "for _,r in tqdm(clicks_df[['query_id','serp']].drop_duplicates().iterrows()):\n",
    "    labels=[]\n",
    "    if not r.serp is np.nan:\n",
    "        for iid in r.serp.split(','):\n",
    "            try:\n",
    "                labels.append(item_labels[item_dict[int(iid)]])\n",
    "            except KeyError:\n",
    "                continue\n",
    "        query_serp_clusters_dict[r.query_id]=np.unique(labels, return_counts=True)"
   ]
  },
  {
   "cell_type": "code",
   "execution_count": 178,
   "metadata": {},
   "outputs": [],
   "source": [
    "def get_serpXcluster_info(r):\n",
    "    if r.item_number<0:\n",
    "        return np.nan, np.nan\n",
    "    try:\n",
    "        vals,counts=query_serp_clusters_dict[r.query_id]\n",
    "        no_vals=vals.shape[0]\n",
    "        proportion=0\n",
    "        if item_labels[r.item_number] in vals:\n",
    "            i=vals.tolist().index(item_labels[r.item_number])\n",
    "            proportion=counts[i]/sum(counts)\n",
    "    except KeyError:\n",
    "        return (np.nan, np.nan)\n",
    "    return no_vals, proportion"
   ]
  },
  {
   "cell_type": "code",
   "execution_count": 179,
   "metadata": {},
   "outputs": [],
   "source": [
    "pom=clicks_df.apply(lambda r: get_serpXcluster_info(r), axis=1)\n",
    "clicks_df['no_clusters_serp']=[x[0] for x in pom]\n",
    "clicks_df['target_cluster_proportion']=[x[1] for x in pom]\n",
    "del pom"
   ]
  },
  {
   "cell_type": "code",
   "execution_count": 286,
   "metadata": {},
   "outputs": [],
   "source": [
    "#clicks_df.to_csv('../datasets/diginetica/clicks_df.csv')"
   ]
  },
  {
   "cell_type": "code",
   "execution_count": 220,
   "metadata": {},
   "outputs": [
    {
     "data": {
      "text/plain": [
       "0.5213398091658616"
      ]
     },
     "execution_count": 220,
     "metadata": {},
     "output_type": "execute_result"
    }
   ],
   "source": [
    "clicks_df.loc[(clicks_df.target_cluster_proportion>=0.7)\n",
    "              &(clicks_df.session_id.isin(test_session_ids))].shape[0]/clicks_df.loc[clicks_df.session_id.isin(test_session_ids)].target_cluster_proportion.dropna().shape[0]"
   ]
  },
  {
   "cell_type": "code",
   "execution_count": 240,
   "metadata": {},
   "outputs": [
    {
     "data": {
      "text/plain": [
       "array([890364.,  46555.,  46562., ..., 980490., 980493., 980503.])"
      ]
     },
     "execution_count": 240,
     "metadata": {},
     "output_type": "execute_result"
    }
   ],
   "source": [
    "clicks_df.query_id.unique()"
   ]
  },
  {
   "cell_type": "code",
   "execution_count": 224,
   "metadata": {},
   "outputs": [
    {
     "data": {
      "image/png": "[encoded data removed]",
      "text/plain": [
       "<Figure size 640x480 with 1 Axes>"
      ]
     },
     "metadata": {},
     "output_type": "display_data"
    }
   ],
   "source": [
    "plt.hist(clicks_df.loc[clicks_df.session_id.isin(test_session_ids)].target_cluster_proportion.dropna(), bins=100)\n",
    "plt.title('Proportion of items in SERP belonging to the same GM cluster as target (clicked) item')\n",
    "plt.show()"
   ]
  },
  {
   "cell_type": "code",
   "execution_count": 221,
   "metadata": {},
   "outputs": [
    {
     "data": {
      "image/png": "[encoded data removed]",
      "text/plain": [
       "<Figure size 640x480 with 1 Axes>"
      ]
     },
     "metadata": {},
     "output_type": "display_data"
    }
   ],
   "source": [
    "plt.hist(clicks_df.loc[clicks_df.session_id.isin(test_session_ids)].no_clusters_serp.dropna(), bins=100)\n",
    "plt.title('Number of GM clusters in SERP')\n",
    "plt.show()"
   ]
  },
  {
   "cell_type": "markdown",
   "metadata": {},
   "source": [
    "## autoencoder on item embbedings"
   ]
  },
  {
   "cell_type": "code",
   "execution_count": 82,
   "metadata": {},
   "outputs": [],
   "source": [
    "from torch import nn"
   ]
  },
  {
   "cell_type": "code",
   "execution_count": 86,
   "metadata": {},
   "outputs": [],
   "source": [
    "class Encoder(nn.Module):\n",
    "    def __init__(self):\n",
    "        \"\"\"Encoder.\n",
    "\n",
    "        Args:\n",
    "           num_input_channels : Number of input channels of the image. For CIFAR, this parameter is 3\n",
    "           base_channel_size : Number of channels we use in the first convolutional layers. Deeper layers might use a duplicate of it.\n",
    "           latent_dim : Dimensionality of latent representation z\n",
    "           act_fn : Activation function used throughout the encoder network\n",
    "        \"\"\"\n",
    "        super().__init__()\n",
    "        self.net = nn.Sequential(\n",
    "            nn.Linear(opt.hiddenSize, 32), \n",
    "            nn.Tanh(),\n",
    "            nn.Linear(32, 8), \n",
    "            nn.Tanh(),\n",
    "            nn.Linear(8, 2), \n",
    "            nn.Tanh(),\n",
    "        )\n",
    "\n",
    "    def forward(self, x):\n",
    "        return self.net(x)"
   ]
  },
  {
   "cell_type": "code",
   "execution_count": 85,
   "metadata": {},
   "outputs": [],
   "source": [
    "class Decoder(nn.Module):\n",
    "    def __init__(self):\n",
    "        \"\"\"Decoder.\n",
    "\n",
    "        Args:\n",
    "           num_input_channels : Number of channels of the image to reconstruct. For CIFAR, this parameter is 3\n",
    "           base_channel_size : Number of channels we use in the last convolutional layers. Early layers might use a duplicate of it.\n",
    "           latent_dim : Dimensionality of latent representation z\n",
    "           act_fn : Activation function used throughout the decoder network\n",
    "        \"\"\"\n",
    "        super().__init__()\n",
    "        self.net = nn.Sequential(\n",
    "            nn.Linear(2, 8), \n",
    "            nn.Tanh(),\n",
    "            nn.Linear(8, 32), \n",
    "            nn.Tanh(),\n",
    "            nn.Linear(32, 100), \n",
    "            nn.Tanh(),\n",
    "        )\n",
    "\n",
    "    def forward(self, x):\n",
    "        return self.net(x)"
   ]
  },
  {
   "cell_type": "code",
   "execution_count": 87,
   "metadata": {},
   "outputs": [],
   "source": [
    "from torch import optim"
   ]
  },
  {
   "cell_type": "code",
   "execution_count": 129,
   "metadata": {},
   "outputs": [],
   "source": [
    "class Autoencoder(pl.LightningModule):\n",
    "    def __init__(\n",
    "        self, lr\n",
    "    ):\n",
    "        super().__init__()\n",
    "        # Saving hyperparameters of autoencoder\n",
    "        self.save_hyperparameters()\n",
    "        # Creating encoder and decoder\n",
    "        self.encoder = Encoder()\n",
    "        self.decoder = Decoder()\n",
    "        # Example input array needed for visualizing the graph of the network\n",
    "        self.example_input_array = torch.zeros(2, opt.hiddenSize)\n",
    "        self.loss=nn.MSELoss()\n",
    "        self.lr=lr\n",
    "\n",
    "    def forward(self, x):\n",
    "        \"\"\"The forward function takes in an image and returns the reconstructed image.\"\"\"\n",
    "        z = self.encoder(x)\n",
    "        x_hat = self.decoder(z)\n",
    "        return x_hat\n",
    "\n",
    "    def _get_reconstruction_loss(self, batch):\n",
    "        \"\"\"Given a batch of images, this function returns the reconstruction loss (MSE in our case).\"\"\"\n",
    "        x, _ = batch  # We do not need the labels\n",
    "        x_hat = self.forward(x)\n",
    "        loss = self.loss(x, x_hat)\n",
    "      #  loss = loss.mean()\n",
    "        return loss\n",
    "\n",
    "    def configure_optimizers(self):\n",
    "        optimizer = optim.Adam(self.parameters(), lr=self.lr)\n",
    "        # Using a scheduler is optional but can be helpful.\n",
    "        # The scheduler reduces the LR if the validation performance hasn't improved for the last N epochs\n",
    "        scheduler = optim.lr_scheduler.ReduceLROnPlateau(optimizer, mode=\"min\", factor=0.2, patience=5, min_lr=5e-5)\n",
    "        return {\"optimizer\": optimizer, \"lr_scheduler\": scheduler, \"monitor\": \"val_loss\"}\n",
    "\n",
    "    def training_step(self, batch, batch_idx):\n",
    "        loss = self._get_reconstruction_loss(batch)\n",
    "        self.log(\"train_loss\", loss)\n",
    "        return loss\n",
    "\n",
    "    def validation_step(self, batch, batch_idx):\n",
    "        loss = self._get_reconstruction_loss(batch)\n",
    "        self.log(\"val_loss\", loss, prog_bar=True)\n",
    "        \n",
    "    def test_step(self, batch, batch_idx):\n",
    "        loss = self._get_reconstruction_loss(batch)\n",
    "        self.log(\"test_loss\", loss)"
   ]
  },
  {
   "cell_type": "code",
   "execution_count": 89,
   "metadata": {},
   "outputs": [],
   "source": [
    "import torch.utils.data as data_utils\n"
   ]
  },
  {
   "cell_type": "code",
   "execution_count": 94,
   "metadata": {},
   "outputs": [],
   "source": [
    "class ItemDataset(data_utils.Dataset):\n",
    "    def __init__(self, X, Y):\n",
    "        super().__init__()\n",
    "        self.X=X\n",
    "        self.Y=Y\n",
    "\n",
    "    def __len__(self):\n",
    "        return self.Y.shape[0]\n",
    "\n",
    "    def __getitem__(self, index):\n",
    "        return self.X[index], self.Y[index]"
   ]
  },
  {
   "cell_type": "code",
   "execution_count": 95,
   "metadata": {},
   "outputs": [],
   "source": [
    "train_idxs=np.random.randint(0, item_labels.shape[0], size=int(item_labels.shape[0]*0.8))\n",
    "val_idxs=[x for x in range(item_labels.shape[0]) if not x in train_idxs]\n",
    "\n",
    "items_train_dataloader=data_utils.DataLoader(ItemDataset(items_embeddings[train_idxs], item_labels[train_idxs]),\n",
    "                                             batch_size=32, num_workers=os.cpu_count(),\n",
    "                                             shuffle=True, drop_last=True)\n",
    "items_val_dataloader=data_utils.DataLoader(ItemDataset(items_embeddings[val_idxs], item_labels[val_idxs]),\n",
    "                                             batch_size=32, num_workers=os.cpu_count(),\n",
    "                                             )"
   ]
  },
  {
   "cell_type": "code",
   "execution_count": 99,
   "metadata": {},
   "outputs": [],
   "source": [
    "from pytorch_lightning.callbacks import EarlyStopping, LearningRateMonitor, ModelCheckpoint\n"
   ]
  },
  {
   "cell_type": "code",
   "execution_count": 142,
   "metadata": {},
   "outputs": [
    {
     "name": "stderr",
     "output_type": "stream",
     "text": [
      "GPU available: True (cuda), used: True\n",
      "TPU available: False, using: 0 TPU cores\n",
      "IPU available: False, using: 0 IPUs\n",
      "HPU available: False, using: 0 HPUs\n"
     ]
    }
   ],
   "source": [
    "trainer=pl.Trainer( accelerator=\"auto\",\n",
    "        devices=1,\n",
    "        max_epochs=500,\n",
    "        callbacks=[\n",
    "            ModelCheckpoint(monitor=\"val_loss\", mode=\"min\"),\n",
    "            LearningRateMonitor(\"epoch\"),\n",
    "            EarlyStopping(\n",
    "                monitor=\"val_loss\", patience=opt.patience, mode=\"min\", check_finite=True\n",
    "            ),\n",
    "        ],\n",
    "    )"
   ]
  },
  {
   "cell_type": "code",
   "execution_count": 140,
   "metadata": {},
   "outputs": [],
   "source": [
    "autoencoder=Autoencoder(lr=1e-2)"
   ]
  },
  {
   "cell_type": "code",
   "execution_count": 141,
   "metadata": {},
   "outputs": [],
   "source": [
    "with torch.no_grad():\n",
    "    # Initialize parameters\n",
    "    for name, p in autoencoder.named_parameters():\n",
    "        if \"weight\" in name:\n",
    "            #p.normal_(0, 0.5)\n",
    "            nn.init.xavier_normal_(p)\n",
    "        elif \"bias\" in name:\n",
    "            p.normal_(0, 1e-2)\n",
    "           # nn.init.xavier_normal_(p)\n",
    "        else:\n",
    "            raise ValueError('Unknown parameter name \"%s\"' % name)"
   ]
  },
  {
   "cell_type": "code",
   "execution_count": 143,
   "metadata": {},
   "outputs": [
    {
     "name": "stderr",
     "output_type": "stream",
     "text": [
      "LOCAL_RANK: 0 - CUDA_VISIBLE_DEVICES: [0]\n",
      "\n",
      "  | Name    | Type    | Params | In sizes | Out sizes\n",
      "-----------------------------------------------------------\n",
      "0 | encoder | Encoder | 3.5 K  | [2, 100] | [2, 2]   \n",
      "1 | decoder | Decoder | 3.6 K  | [2, 2]   | [2, 100] \n",
      "2 | loss    | MSELoss | 0      | ?        | ?        \n",
      "-----------------------------------------------------------\n",
      "7.1 K     Trainable params\n",
      "0         Non-trainable params\n",
      "7.1 K     Total params\n",
      "0.029     Total estimated model params size (MB)\n"
     ]
    },
    {
     "name": "stdout",
     "output_type": "stream",
     "text": [
      "Epoch 38: 100%|██████████| 1077/1077 [00:04<00:00, 250.01it/s, v_num=632, val_loss=0.00844]"
     ]
    },
    {
     "name": "stderr",
     "output_type": "stream",
     "text": [
      "/home/kacper/anaconda3/envs/gpu_torch/lib/python3.12/site-packages/pytorch_lightning/trainer/call.py:54: UserWarning:\n",
      "\n",
      "Detected KeyboardInterrupt, attempting graceful shutdown...\n",
      "\n"
     ]
    }
   ],
   "source": [
    "trainer.fit(autoencoder, items_train_dataloader, items_val_dataloader)"
   ]
  },
  {
   "cell_type": "code",
   "execution_count": 146,
   "metadata": {},
   "outputs": [],
   "source": [
    "ae_item_embeddings=autoencoder.encoder(torch.tensor(items_embeddings, device=autoencoder.device)).cpu().detach().numpy()"
   ]
  },
  {
   "cell_type": "code",
   "execution_count": null,
   "metadata": {},
   "outputs": [],
   "source": [
    "fig = go.Figure()\n",
    "\n",
    "for label in np.unique(item_labels):\n",
    "    label_embedding=ae_item_embeddings[item_labels==label]\n",
    "    fig.add_trace(go.Scatter(x=label_embedding[:,0], y=label_embedding[:,1], name=str(label), mode='markers'))\n",
    "\n",
    "\n",
    "\n",
    "fig.update_layout(title='AutoEncoder reduced items embeddings with GM',\n",
    "                  margin=dict(l=40, r=40, t=40, b=40),\n",
    "                  width=1000, height=800)\n",
    "fig.write_html(f'./images/items_AE_{gm.n_components}_{gm.init_params}_{opt.dataset}_{opt.hiddenSize}_{global_run_id.split(\"-\")[-1]}.html')\n",
    "fig.show()"
   ]
  },
  {
   "cell_type": "code",
   "execution_count": 151,
   "metadata": {},
   "outputs": [],
   "source": [
    "del items_train_dataloader\n",
    "del items_val_dataloader\n",
    "del autoencoder\n",
    "del trainer\n",
    "del ae_item_embeddings"
   ]
  },
  {
   "cell_type": "markdown",
   "metadata": {},
   "source": [
    "## more"
   ]
  },
  {
   "cell_type": "code",
   "execution_count": null,
   "metadata": {},
   "outputs": [],
   "source": []
  }
 ],
 "metadata": {
  "kernelspec": {
   "display_name": "gpu_torch",
   "language": "python",
   "name": "python3"
  },
  "language_info": {
   "codemirror_mode": {
    "name": "ipython",
    "version": 3
   },
   "file_extension": ".py",
   "mimetype": "text/x-python",
   "name": "python",
   "nbconvert_exporter": "python",
   "pygments_lexer": "ipython3",
   "version": "3.12.1"
  }
 },
 "nbformat": 4,
 "nbformat_minor": 2
}
