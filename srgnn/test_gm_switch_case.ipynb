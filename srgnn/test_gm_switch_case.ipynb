{
 "cells": [
  {
   "cell_type": "markdown",
   "metadata": {},
   "source": [
    "# imports"
   ]
  },
  {
   "cell_type": "code",
   "execution_count": 2,
   "metadata": {},
   "outputs": [],
   "source": [
    "import pickle\n",
    "from srgnn_pl import SRGNN_model, SRGNN_Map_Dataset, SRGNN_sampler\n",
    "from utils import fake_parser\n",
    "import torch\n",
    "import os\n",
    "\n",
    "from torch.utils.data import DataLoader\n",
    "import pytorch_lightning as pl\n",
    "\n",
    "import numpy as np"
   ]
  },
  {
   "cell_type": "code",
   "execution_count": 3,
   "metadata": {},
   "outputs": [],
   "source": [
    "import matplotlib.pyplot as plt\n",
    "from tqdm import tqdm\n",
    "import pandas as pd\n",
    "import yaml\n",
    "from math import ceil\n",
    "from sklearn.mixture import GaussianMixture\n",
    "from IPython.display import clear_output"
   ]
  },
  {
   "cell_type": "code",
   "execution_count": 4,
   "metadata": {},
   "outputs": [],
   "source": [
    "torch.set_float32_matmul_precision('medium')"
   ]
  },
  {
   "cell_type": "markdown",
   "metadata": {},
   "source": [
    "# data loading"
   ]
  },
  {
   "cell_type": "code",
   "execution_count": 37,
   "metadata": {},
   "outputs": [],
   "source": [
    "#global_run_id='run-20240209_162656-h23ej73g'\n",
    "\n",
    "finetuned_run_id='run-20240213_043223-0zuvfc9x'\n",
    "global_run_id=finetuned_run_id"
   ]
  },
  {
   "cell_type": "code",
   "execution_count": 38,
   "metadata": {},
   "outputs": [
    {
     "name": "stdout",
     "output_type": "stream",
     "text": [
      "{'dataset': 'yoochoose_custom', 'batchSize': 128, 'hiddenSize': 64, 'epoch': 60, 'lr': 0.001, 'lr_dc': 0.1, 'lr_dc_step': 3, 'l2': 1e-05, 'step': 3, 'patience': 6, 'nonhybrid': False, 'validation': True, 'valid_portion': 0.2, 'pretrained_embedings': True, 'unfreeze_epoch': 2}\n"
     ]
    }
   ],
   "source": [
    "with open(f\"./wandb/{global_run_id}/files/config.yaml\", \"r\") as stream:\n",
    "        config=yaml.safe_load(stream)\n",
    "\n",
    "keys=list(config.keys())\n",
    "for k in keys:\n",
    "    if k not in fake_parser().__dict__.keys():\n",
    "        del config[k]\n",
    "    else:\n",
    "        config[k]=config[k]['value']\n",
    "\n",
    "opt=fake_parser(**config)\n",
    "print(opt.__dict__)\n",
    "\n",
    "model=SRGNN_model.load_from_checkpoint(f\"./GNN_master/{global_run_id.split('-')[-1]}/checkpoints/\"+\n",
    "                                       os.listdir(f\"./GNN_master/{global_run_id.split('-')[-1]}/checkpoints/\")[0], opt=opt)"
   ]
  },
  {
   "cell_type": "code",
   "execution_count": 39,
   "metadata": {},
   "outputs": [],
   "source": [
    "#with open(f'./gmm_all_32_k-means++_{opt.hiddenSize}.gmm', 'rb') as gmm_file:\n",
    "with open(f'./gmm_better_32_k-means++_{opt.hiddenSize}.gmm', 'rb') as gmm_file:\n",
    "    gm=pickle.load(gmm_file)\n",
    "#    session_labels=gm.predict(session_emb)"
   ]
  },
  {
   "cell_type": "code",
   "execution_count": 40,
   "metadata": {},
   "outputs": [
    {
     "name": "stdout",
     "output_type": "stream",
     "text": [
      "data masking start\n",
      "data masking 1\n",
      "data masking 2\n",
      "data masking 3\n",
      "done masking\n"
     ]
    }
   ],
   "source": [
    "test_data = pickle.load(open('../datasets/' + opt.dataset + '/test.txt', 'rb'))\n",
    "test_dataset=SRGNN_Map_Dataset(test_data, shuffle=False)\n",
    "test_dataloader=DataLoader(test_dataset, \n",
    "                            num_workers=os.cpu_count(),  \n",
    "                            sampler=SRGNN_sampler(test_dataset, opt.batchSize, shuffle=False, drop_last=False),\n",
    "                             drop_last=False\n",
    "                            )"
   ]
  },
  {
   "cell_type": "markdown",
   "metadata": {},
   "source": [
    "# evaluate each cluster model"
   ]
  },
  {
   "cell_type": "markdown",
   "metadata": {},
   "source": [
    "## all sessions"
   ]
  },
  {
   "cell_type": "code",
   "execution_count": 41,
   "metadata": {},
   "outputs": [
    {
     "name": "stderr",
     "output_type": "stream",
     "text": [
      "1214it [00:08, 137.23it/s]                          \n"
     ]
    }
   ],
   "source": [
    "session_emb=[]\n",
    "\n",
    "model.to('cuda')\n",
    "for batch in tqdm(test_dataloader, total=test_dataset.length//opt.batchSize):\n",
    "    batch=[b.to('cuda') for b in batch]\n",
    "    session_emb.append(model.get_session_embeddings(batch).cpu().detach().numpy())\n",
    "model.to('cpu')\n",
    "session_emb=np.concatenate(session_emb)"
   ]
  },
  {
   "cell_type": "code",
   "execution_count": 42,
   "metadata": {},
   "outputs": [
    {
     "name": "stderr",
     "output_type": "stream",
     "text": [
      "100%|██████████| 1214/1214 [00:01<00:00, 826.39it/s]\n"
     ]
    }
   ],
   "source": [
    "session_labels=[]\n",
    "for i in tqdm(range(ceil(session_emb.shape[0]/opt.batchSize))):\n",
    "    session_labels.append(gm.predict(session_emb[i*opt.batchSize: (i+1)*opt.batchSize]))\n",
    "session_labels=np.concatenate(session_labels)"
   ]
  },
  {
   "cell_type": "code",
   "execution_count": 43,
   "metadata": {},
   "outputs": [
    {
     "name": "stderr",
     "output_type": "stream",
     "text": [
      "1214it [00:54, 22.35it/s]                          \n"
     ]
    }
   ],
   "source": [
    "hit,mrr=[],[]\n",
    "model.to('cuda')\n",
    "for batch in tqdm(test_dataloader, total=test_dataset.length//opt.batchSize):\n",
    "    batch=[b.to('cuda') for b in batch]\n",
    "    sub_scores, targets=model.predict_step(batch)\n",
    "    targets=targets.flatten()\n",
    "    for score, target in zip(sub_scores, targets):\n",
    "        correct_pred=torch.isin(target - 1, score).cpu()\n",
    "        hit.append(correct_pred)\n",
    "        if not correct_pred:\n",
    "            mrr.append(0)\n",
    "        else:\n",
    "            mrr.append(1 / (torch.where(score == target - 1)[0][0] + 1).cpu())\n",
    "model.to('cpu')\n",
    "hit=np.array(hit)\n",
    "mrr=np.array(mrr)"
   ]
  },
  {
   "cell_type": "markdown",
   "metadata": {},
   "source": [
    "### trained from scratch"
   ]
  },
  {
   "cell_type": "code",
   "execution_count": 28,
   "metadata": {},
   "outputs": [],
   "source": [
    "runs_df=pd.read_csv('./wandb_export_raw_all.csv')\n",
    "runs_df['cluster']=runs_df.Name.map(lambda x: int(x.split('_')[-1]))"
   ]
  },
  {
   "cell_type": "code",
   "execution_count": 29,
   "metadata": {},
   "outputs": [
    {
     "name": "stderr",
     "output_type": "stream",
     "text": [
      "GPU available: True (cuda), used: True\n",
      "TPU available: False, using: 0 TPU cores\n",
      "IPU available: False, using: 0 IPUs\n",
      "HPU available: False, using: 0 HPUs\n",
      "LOCAL_RANK: 0 - CUDA_VISIBLE_DEVICES: [0]\n"
     ]
    },
    {
     "name": "stdout",
     "output_type": "stream",
     "text": [
      "data masking start\n",
      "data masking 1\n",
      "data masking 2\n",
      "data masking 3\n",
      "done masking\n"
     ]
    },
    {
     "data": {
      "application/vnd.jupyter.widget-view+json": {
       "model_id": "a495951cbfe54b68a7e2980bd8505ff4",
       "version_major": 2,
       "version_minor": 0
      },
      "text/plain": [
       "Testing: 0it [00:00, ?it/s]"
      ]
     },
     "metadata": {},
     "output_type": "display_data"
    },
    {
     "data": {
      "text/html": [
       "<pre style=\"white-space:pre;overflow-x:auto;line-height:normal;font-family:Menlo,'DejaVu Sans Mono',consolas,'Courier New',monospace\">┏━━━━━━━━━━━━━━━━━━━━━━━━━━━┳━━━━━━━━━━━━━━━━━━━━━━━━━━━┓\n",
       "┃<span style=\"font-weight: bold\">   Runningstage.testing    </span>┃<span style=\"font-weight: bold\">                           </span>┃\n",
       "┃<span style=\"font-weight: bold\">          metric           </span>┃<span style=\"font-weight: bold\">       DataLoader 0        </span>┃\n",
       "┡━━━━━━━━━━━━━━━━━━━━━━━━━━━╇━━━━━━━━━━━━━━━━━━━━━━━━━━━┩\n",
       "│<span style=\"color: #008080; text-decoration-color: #008080\">         test_hit          </span>│<span style=\"color: #800080; text-decoration-color: #800080\">     63.52531051635742     </span>│\n",
       "│<span style=\"color: #008080; text-decoration-color: #008080\">         test_loss         </span>│<span style=\"color: #800080; text-decoration-color: #800080\">     5.713991641998291     </span>│\n",
       "│<span style=\"color: #008080; text-decoration-color: #008080\">         test_mrr          </span>│<span style=\"color: #800080; text-decoration-color: #800080\">    26.996490478515625     </span>│\n",
       "└───────────────────────────┴───────────────────────────┘\n",
       "</pre>\n"
      ],
      "text/plain": [
       "┏━━━━━━━━━━━━━━━━━━━━━━━━━━━┳━━━━━━━━━━━━━━━━━━━━━━━━━━━┓\n",
       "┃\u001b[1m \u001b[0m\u001b[1m  Runningstage.testing   \u001b[0m\u001b[1m \u001b[0m┃\u001b[1m                           \u001b[0m┃\n",
       "┃\u001b[1m \u001b[0m\u001b[1m         metric          \u001b[0m\u001b[1m \u001b[0m┃\u001b[1m \u001b[0m\u001b[1m      DataLoader 0       \u001b[0m\u001b[1m \u001b[0m┃\n",
       "┡━━━━━━━━━━━━━━━━━━━━━━━━━━━╇━━━━━━━━━━━━━━━━━━━━━━━━━━━┩\n",
       "│\u001b[36m \u001b[0m\u001b[36m        test_hit         \u001b[0m\u001b[36m \u001b[0m│\u001b[35m \u001b[0m\u001b[35m    63.52531051635742    \u001b[0m\u001b[35m \u001b[0m│\n",
       "│\u001b[36m \u001b[0m\u001b[36m        test_loss        \u001b[0m\u001b[36m \u001b[0m│\u001b[35m \u001b[0m\u001b[35m    5.713991641998291    \u001b[0m\u001b[35m \u001b[0m│\n",
       "│\u001b[36m \u001b[0m\u001b[36m        test_mrr         \u001b[0m\u001b[36m \u001b[0m│\u001b[35m \u001b[0m\u001b[35m   26.996490478515625    \u001b[0m\u001b[35m \u001b[0m│\n",
       "└───────────────────────────┴───────────────────────────┘\n"
      ]
     },
     "metadata": {},
     "output_type": "display_data"
    },
    {
     "name": "stderr",
     "output_type": "stream",
     "text": [
      "100%|██████████| 32/32 [01:20<00:00,  2.50s/it]\n"
     ]
    }
   ],
   "source": [
    "cluster_results=[]\n",
    "cluster_results.append(\n",
    "{'cluster':-1, \n",
    " 'test_loss': np.nan,\n",
    " 'test_hit': np.average(hit),\n",
    " 'test_mrr': np.average(mrr)})\n",
    "\n",
    "for c in tqdm(range(gm.n_components)):\n",
    "    clear_output(wait=True)\n",
    "    idxs=np.arange(len(test_data[0]))[session_labels==c]\n",
    "\n",
    "    cluster_sess=[test_data[0][i] for i in idxs]\n",
    "    cluster_targets=[test_data[1][i] for i in idxs]\n",
    "    cluster_data=(cluster_sess,cluster_targets)\n",
    "    cluster_dataset=SRGNN_Map_Dataset(cluster_data, shuffle=False)\n",
    "    cluster_dataloader=DataLoader(cluster_dataset, \n",
    "                            num_workers=os.cpu_count(),  \n",
    "                            sampler=SRGNN_sampler(cluster_dataset, opt.batchSize, shuffle=False, drop_last=False),\n",
    "                             drop_last=False\n",
    "                            )\n",
    "    run_id=runs_df.loc[runs_df.cluster==c].ID.item()\n",
    "    cluster_model=SRGNN_model.load_from_checkpoint(f\"./GNN_master/{run_id}/checkpoints/\"+\n",
    "                                       os.listdir(f\"./GNN_master/{run_id}/checkpoints/\")[0], opt=opt)\n",
    "    \n",
    "    trainer=pl.Trainer(limit_test_batches=ceil(cluster_dataset.length/opt.batchSize),limit_predict_batches=ceil(cluster_dataset.length/opt.batchSize))\n",
    "    metrics=trainer.test(cluster_model, cluster_dataloader)[0]#only one dataloader\n",
    "    metrics['cluster']=c\n",
    "    metrics['global_model_hit']=100*np.average(hit[idxs])\n",
    "    metrics['global_model_mrr']=100*np.average(mrr[idxs])\n",
    "    cluster_results.append(metrics)"
   ]
  },
  {
   "cell_type": "code",
   "execution_count": 30,
   "metadata": {},
   "outputs": [
    {
     "data": {
      "text/html": [
       "<div>\n",
       "<style scoped>\n",
       "    .dataframe tbody tr th:only-of-type {\n",
       "        vertical-align: middle;\n",
       "    }\n",
       "\n",
       "    .dataframe tbody tr th {\n",
       "        vertical-align: top;\n",
       "    }\n",
       "\n",
       "    .dataframe thead th {\n",
       "        text-align: right;\n",
       "    }\n",
       "</style>\n",
       "<table border=\"1\" class=\"dataframe\">\n",
       "  <thead>\n",
       "    <tr style=\"text-align: right;\">\n",
       "      <th></th>\n",
       "      <th>cluster</th>\n",
       "      <th>test_loss</th>\n",
       "      <th>test_hit</th>\n",
       "      <th>test_mrr</th>\n",
       "      <th>global_model_hit</th>\n",
       "      <th>global_model_mrr</th>\n",
       "    </tr>\n",
       "  </thead>\n",
       "  <tbody>\n",
       "    <tr>\n",
       "      <th>0</th>\n",
       "      <td>-1</td>\n",
       "      <td>NaN</td>\n",
       "      <td>0.553531</td>\n",
       "      <td>0.248305</td>\n",
       "      <td>NaN</td>\n",
       "      <td>NaN</td>\n",
       "    </tr>\n",
       "    <tr>\n",
       "      <th>1</th>\n",
       "      <td>0</td>\n",
       "      <td>6.621505</td>\n",
       "      <td>51.548405</td>\n",
       "      <td>23.252512</td>\n",
       "      <td>53.329782</td>\n",
       "      <td>24.557642</td>\n",
       "    </tr>\n",
       "    <tr>\n",
       "      <th>2</th>\n",
       "      <td>1</td>\n",
       "      <td>6.454111</td>\n",
       "      <td>45.515423</td>\n",
       "      <td>18.264372</td>\n",
       "      <td>47.145589</td>\n",
       "      <td>19.081339</td>\n",
       "    </tr>\n",
       "    <tr>\n",
       "      <th>3</th>\n",
       "      <td>2</td>\n",
       "      <td>6.628732</td>\n",
       "      <td>40.922070</td>\n",
       "      <td>14.518913</td>\n",
       "      <td>44.805195</td>\n",
       "      <td>16.413542</td>\n",
       "    </tr>\n",
       "    <tr>\n",
       "      <th>4</th>\n",
       "      <td>3</td>\n",
       "      <td>6.079962</td>\n",
       "      <td>63.917828</td>\n",
       "      <td>30.493874</td>\n",
       "      <td>64.709763</td>\n",
       "      <td>30.852930</td>\n",
       "    </tr>\n",
       "    <tr>\n",
       "      <th>5</th>\n",
       "      <td>4</td>\n",
       "      <td>8.367682</td>\n",
       "      <td>45.151176</td>\n",
       "      <td>20.737585</td>\n",
       "      <td>51.160433</td>\n",
       "      <td>22.815957</td>\n",
       "    </tr>\n",
       "    <tr>\n",
       "      <th>6</th>\n",
       "      <td>5</td>\n",
       "      <td>5.501886</td>\n",
       "      <td>68.205498</td>\n",
       "      <td>35.135696</td>\n",
       "      <td>70.256024</td>\n",
       "      <td>34.819782</td>\n",
       "    </tr>\n",
       "    <tr>\n",
       "      <th>7</th>\n",
       "      <td>6</td>\n",
       "      <td>6.545033</td>\n",
       "      <td>54.092262</td>\n",
       "      <td>23.490585</td>\n",
       "      <td>57.482599</td>\n",
       "      <td>25.490220</td>\n",
       "    </tr>\n",
       "    <tr>\n",
       "      <th>8</th>\n",
       "      <td>7</td>\n",
       "      <td>5.627601</td>\n",
       "      <td>64.603004</td>\n",
       "      <td>26.756392</td>\n",
       "      <td>66.477987</td>\n",
       "      <td>28.742248</td>\n",
       "    </tr>\n",
       "    <tr>\n",
       "      <th>9</th>\n",
       "      <td>8</td>\n",
       "      <td>5.816460</td>\n",
       "      <td>60.559658</td>\n",
       "      <td>25.042292</td>\n",
       "      <td>63.295019</td>\n",
       "      <td>26.194494</td>\n",
       "    </tr>\n",
       "    <tr>\n",
       "      <th>10</th>\n",
       "      <td>9</td>\n",
       "      <td>7.652929</td>\n",
       "      <td>48.178955</td>\n",
       "      <td>22.437660</td>\n",
       "      <td>55.976907</td>\n",
       "      <td>27.037577</td>\n",
       "    </tr>\n",
       "    <tr>\n",
       "      <th>11</th>\n",
       "      <td>10</td>\n",
       "      <td>5.122868</td>\n",
       "      <td>73.200760</td>\n",
       "      <td>37.993923</td>\n",
       "      <td>73.876872</td>\n",
       "      <td>39.613717</td>\n",
       "    </tr>\n",
       "    <tr>\n",
       "      <th>12</th>\n",
       "      <td>11</td>\n",
       "      <td>6.777556</td>\n",
       "      <td>45.990746</td>\n",
       "      <td>19.468771</td>\n",
       "      <td>56.066169</td>\n",
       "      <td>24.865191</td>\n",
       "    </tr>\n",
       "    <tr>\n",
       "      <th>13</th>\n",
       "      <td>12</td>\n",
       "      <td>6.043377</td>\n",
       "      <td>54.361897</td>\n",
       "      <td>22.599600</td>\n",
       "      <td>55.291622</td>\n",
       "      <td>23.257653</td>\n",
       "    </tr>\n",
       "    <tr>\n",
       "      <th>14</th>\n",
       "      <td>13</td>\n",
       "      <td>6.082917</td>\n",
       "      <td>53.953125</td>\n",
       "      <td>22.775648</td>\n",
       "      <td>55.742674</td>\n",
       "      <td>23.562906</td>\n",
       "    </tr>\n",
       "    <tr>\n",
       "      <th>15</th>\n",
       "      <td>14</td>\n",
       "      <td>6.252584</td>\n",
       "      <td>54.884956</td>\n",
       "      <td>21.616337</td>\n",
       "      <td>59.724349</td>\n",
       "      <td>23.757028</td>\n",
       "    </tr>\n",
       "    <tr>\n",
       "      <th>16</th>\n",
       "      <td>15</td>\n",
       "      <td>7.424316</td>\n",
       "      <td>36.012962</td>\n",
       "      <td>16.525658</td>\n",
       "      <td>42.018538</td>\n",
       "      <td>19.445396</td>\n",
       "    </tr>\n",
       "    <tr>\n",
       "      <th>17</th>\n",
       "      <td>16</td>\n",
       "      <td>9.478106</td>\n",
       "      <td>28.735292</td>\n",
       "      <td>10.815783</td>\n",
       "      <td>35.063694</td>\n",
       "      <td>14.230315</td>\n",
       "    </tr>\n",
       "    <tr>\n",
       "      <th>18</th>\n",
       "      <td>17</td>\n",
       "      <td>6.353772</td>\n",
       "      <td>48.304508</td>\n",
       "      <td>22.010084</td>\n",
       "      <td>50.141163</td>\n",
       "      <td>22.443078</td>\n",
       "    </tr>\n",
       "    <tr>\n",
       "      <th>19</th>\n",
       "      <td>18</td>\n",
       "      <td>5.941238</td>\n",
       "      <td>59.298634</td>\n",
       "      <td>24.108768</td>\n",
       "      <td>59.862779</td>\n",
       "      <td>24.386646</td>\n",
       "    </tr>\n",
       "    <tr>\n",
       "      <th>20</th>\n",
       "      <td>19</td>\n",
       "      <td>5.618814</td>\n",
       "      <td>59.359680</td>\n",
       "      <td>25.207111</td>\n",
       "      <td>62.632696</td>\n",
       "      <td>27.169612</td>\n",
       "    </tr>\n",
       "    <tr>\n",
       "      <th>21</th>\n",
       "      <td>20</td>\n",
       "      <td>8.149501</td>\n",
       "      <td>38.733315</td>\n",
       "      <td>16.378510</td>\n",
       "      <td>51.173896</td>\n",
       "      <td>22.492508</td>\n",
       "    </tr>\n",
       "    <tr>\n",
       "      <th>22</th>\n",
       "      <td>21</td>\n",
       "      <td>5.877710</td>\n",
       "      <td>61.976807</td>\n",
       "      <td>25.639990</td>\n",
       "      <td>62.290369</td>\n",
       "      <td>25.726424</td>\n",
       "    </tr>\n",
       "    <tr>\n",
       "      <th>23</th>\n",
       "      <td>22</td>\n",
       "      <td>8.020159</td>\n",
       "      <td>51.129807</td>\n",
       "      <td>30.287163</td>\n",
       "      <td>56.843508</td>\n",
       "      <td>32.728091</td>\n",
       "    </tr>\n",
       "    <tr>\n",
       "      <th>24</th>\n",
       "      <td>23</td>\n",
       "      <td>12.635973</td>\n",
       "      <td>14.129725</td>\n",
       "      <td>4.684999</td>\n",
       "      <td>21.082391</td>\n",
       "      <td>7.414331</td>\n",
       "    </tr>\n",
       "    <tr>\n",
       "      <th>25</th>\n",
       "      <td>24</td>\n",
       "      <td>7.011922</td>\n",
       "      <td>49.914551</td>\n",
       "      <td>23.274250</td>\n",
       "      <td>53.979492</td>\n",
       "      <td>24.965944</td>\n",
       "    </tr>\n",
       "    <tr>\n",
       "      <th>26</th>\n",
       "      <td>25</td>\n",
       "      <td>6.185797</td>\n",
       "      <td>47.071533</td>\n",
       "      <td>19.533888</td>\n",
       "      <td>51.118012</td>\n",
       "      <td>20.746681</td>\n",
       "    </tr>\n",
       "    <tr>\n",
       "      <th>27</th>\n",
       "      <td>26</td>\n",
       "      <td>6.299765</td>\n",
       "      <td>48.221157</td>\n",
       "      <td>19.953594</td>\n",
       "      <td>51.851852</td>\n",
       "      <td>21.166335</td>\n",
       "    </tr>\n",
       "    <tr>\n",
       "      <th>28</th>\n",
       "      <td>27</td>\n",
       "      <td>5.728273</td>\n",
       "      <td>60.655079</td>\n",
       "      <td>28.376932</td>\n",
       "      <td>64.146457</td>\n",
       "      <td>29.909566</td>\n",
       "    </tr>\n",
       "    <tr>\n",
       "      <th>29</th>\n",
       "      <td>28</td>\n",
       "      <td>5.778222</td>\n",
       "      <td>61.154514</td>\n",
       "      <td>24.237894</td>\n",
       "      <td>63.544536</td>\n",
       "      <td>25.113285</td>\n",
       "    </tr>\n",
       "    <tr>\n",
       "      <th>30</th>\n",
       "      <td>29</td>\n",
       "      <td>6.150466</td>\n",
       "      <td>63.606579</td>\n",
       "      <td>29.638868</td>\n",
       "      <td>64.307004</td>\n",
       "      <td>30.666398</td>\n",
       "    </tr>\n",
       "    <tr>\n",
       "      <th>31</th>\n",
       "      <td>30</td>\n",
       "      <td>6.016020</td>\n",
       "      <td>54.522755</td>\n",
       "      <td>21.926060</td>\n",
       "      <td>57.602468</td>\n",
       "      <td>23.666447</td>\n",
       "    </tr>\n",
       "    <tr>\n",
       "      <th>32</th>\n",
       "      <td>31</td>\n",
       "      <td>5.713992</td>\n",
       "      <td>63.525311</td>\n",
       "      <td>26.996490</td>\n",
       "      <td>64.677060</td>\n",
       "      <td>27.506733</td>\n",
       "    </tr>\n",
       "  </tbody>\n",
       "</table>\n",
       "</div>"
      ],
      "text/plain": [
       "    cluster  test_loss   test_hit   test_mrr  global_model_hit  \\\n",
       "0        -1        NaN   0.553531   0.248305               NaN   \n",
       "1         0   6.621505  51.548405  23.252512         53.329782   \n",
       "2         1   6.454111  45.515423  18.264372         47.145589   \n",
       "3         2   6.628732  40.922070  14.518913         44.805195   \n",
       "4         3   6.079962  63.917828  30.493874         64.709763   \n",
       "5         4   8.367682  45.151176  20.737585         51.160433   \n",
       "6         5   5.501886  68.205498  35.135696         70.256024   \n",
       "7         6   6.545033  54.092262  23.490585         57.482599   \n",
       "8         7   5.627601  64.603004  26.756392         66.477987   \n",
       "9         8   5.816460  60.559658  25.042292         63.295019   \n",
       "10        9   7.652929  48.178955  22.437660         55.976907   \n",
       "11       10   5.122868  73.200760  37.993923         73.876872   \n",
       "12       11   6.777556  45.990746  19.468771         56.066169   \n",
       "13       12   6.043377  54.361897  22.599600         55.291622   \n",
       "14       13   6.082917  53.953125  22.775648         55.742674   \n",
       "15       14   6.252584  54.884956  21.616337         59.724349   \n",
       "16       15   7.424316  36.012962  16.525658         42.018538   \n",
       "17       16   9.478106  28.735292  10.815783         35.063694   \n",
       "18       17   6.353772  48.304508  22.010084         50.141163   \n",
       "19       18   5.941238  59.298634  24.108768         59.862779   \n",
       "20       19   5.618814  59.359680  25.207111         62.632696   \n",
       "21       20   8.149501  38.733315  16.378510         51.173896   \n",
       "22       21   5.877710  61.976807  25.639990         62.290369   \n",
       "23       22   8.020159  51.129807  30.287163         56.843508   \n",
       "24       23  12.635973  14.129725   4.684999         21.082391   \n",
       "25       24   7.011922  49.914551  23.274250         53.979492   \n",
       "26       25   6.185797  47.071533  19.533888         51.118012   \n",
       "27       26   6.299765  48.221157  19.953594         51.851852   \n",
       "28       27   5.728273  60.655079  28.376932         64.146457   \n",
       "29       28   5.778222  61.154514  24.237894         63.544536   \n",
       "30       29   6.150466  63.606579  29.638868         64.307004   \n",
       "31       30   6.016020  54.522755  21.926060         57.602468   \n",
       "32       31   5.713992  63.525311  26.996490         64.677060   \n",
       "\n",
       "    global_model_mrr  \n",
       "0                NaN  \n",
       "1          24.557642  \n",
       "2          19.081339  \n",
       "3          16.413542  \n",
       "4          30.852930  \n",
       "5          22.815957  \n",
       "6          34.819782  \n",
       "7          25.490220  \n",
       "8          28.742248  \n",
       "9          26.194494  \n",
       "10         27.037577  \n",
       "11         39.613717  \n",
       "12         24.865191  \n",
       "13         23.257653  \n",
       "14         23.562906  \n",
       "15         23.757028  \n",
       "16         19.445396  \n",
       "17         14.230315  \n",
       "18         22.443078  \n",
       "19         24.386646  \n",
       "20         27.169612  \n",
       "21         22.492508  \n",
       "22         25.726424  \n",
       "23         32.728091  \n",
       "24          7.414331  \n",
       "25         24.965944  \n",
       "26         20.746681  \n",
       "27         21.166335  \n",
       "28         29.909566  \n",
       "29         25.113285  \n",
       "30         30.666398  \n",
       "31         23.666447  \n",
       "32         27.506733  "
      ]
     },
     "execution_count": 30,
     "metadata": {},
     "output_type": "execute_result"
    }
   ],
   "source": [
    "cluster_results=pd.DataFrame(cluster_results)\n",
    "cluster_results"
   ]
  },
  {
   "cell_type": "code",
   "execution_count": 32,
   "metadata": {},
   "outputs": [
    {
     "data": {
      "text/plain": [
       "(False, True)"
      ]
     },
     "execution_count": 32,
     "metadata": {},
     "output_type": "execute_result"
    }
   ],
   "source": [
    "(cluster_results.test_hit>cluster_results.global_model_hit).any(), (cluster_results.test_mrr>cluster_results.global_model_mrr).any()"
   ]
  },
  {
   "cell_type": "code",
   "execution_count": 34,
   "metadata": {},
   "outputs": [
    {
     "data": {
      "text/html": [
       "<div>\n",
       "<style scoped>\n",
       "    .dataframe tbody tr th:only-of-type {\n",
       "        vertical-align: middle;\n",
       "    }\n",
       "\n",
       "    .dataframe tbody tr th {\n",
       "        vertical-align: top;\n",
       "    }\n",
       "\n",
       "    .dataframe thead th {\n",
       "        text-align: right;\n",
       "    }\n",
       "</style>\n",
       "<table border=\"1\" class=\"dataframe\">\n",
       "  <thead>\n",
       "    <tr style=\"text-align: right;\">\n",
       "      <th></th>\n",
       "      <th>cluster</th>\n",
       "      <th>test_loss</th>\n",
       "      <th>test_hit</th>\n",
       "      <th>test_mrr</th>\n",
       "      <th>global_model_hit</th>\n",
       "      <th>global_model_mrr</th>\n",
       "    </tr>\n",
       "  </thead>\n",
       "  <tbody>\n",
       "    <tr>\n",
       "      <th>6</th>\n",
       "      <td>5</td>\n",
       "      <td>5.501886</td>\n",
       "      <td>68.205498</td>\n",
       "      <td>35.135696</td>\n",
       "      <td>70.256024</td>\n",
       "      <td>34.819782</td>\n",
       "    </tr>\n",
       "  </tbody>\n",
       "</table>\n",
       "</div>"
      ],
      "text/plain": [
       "   cluster  test_loss   test_hit   test_mrr  global_model_hit  \\\n",
       "6        5   5.501886  68.205498  35.135696         70.256024   \n",
       "\n",
       "   global_model_mrr  \n",
       "6         34.819782  "
      ]
     },
     "execution_count": 34,
     "metadata": {},
     "output_type": "execute_result"
    }
   ],
   "source": [
    "cluster_results.iloc[np.arange(cluster_results.shape[0])[cluster_results.test_mrr>cluster_results.global_model_mrr]]"
   ]
  },
  {
   "cell_type": "code",
   "execution_count": 36,
   "metadata": {},
   "outputs": [
    {
     "data": {
      "text/html": [
       "<div>\n",
       "<style scoped>\n",
       "    .dataframe tbody tr th:only-of-type {\n",
       "        vertical-align: middle;\n",
       "    }\n",
       "\n",
       "    .dataframe tbody tr th {\n",
       "        vertical-align: top;\n",
       "    }\n",
       "\n",
       "    .dataframe thead th {\n",
       "        text-align: right;\n",
       "    }\n",
       "</style>\n",
       "<table border=\"1\" class=\"dataframe\">\n",
       "  <thead>\n",
       "    <tr style=\"text-align: right;\">\n",
       "      <th></th>\n",
       "      <th>cluster</th>\n",
       "      <th>test_loss</th>\n",
       "      <th>test_hit</th>\n",
       "      <th>test_mrr</th>\n",
       "      <th>global_model_hit</th>\n",
       "      <th>global_model_mrr</th>\n",
       "    </tr>\n",
       "  </thead>\n",
       "  <tbody>\n",
       "    <tr>\n",
       "      <th>1</th>\n",
       "      <td>0</td>\n",
       "      <td>6.621505</td>\n",
       "      <td>51.548405</td>\n",
       "      <td>23.252512</td>\n",
       "      <td>53.329782</td>\n",
       "      <td>24.557642</td>\n",
       "    </tr>\n",
       "    <tr>\n",
       "      <th>2</th>\n",
       "      <td>1</td>\n",
       "      <td>6.454111</td>\n",
       "      <td>45.515423</td>\n",
       "      <td>18.264372</td>\n",
       "      <td>47.145589</td>\n",
       "      <td>19.081339</td>\n",
       "    </tr>\n",
       "    <tr>\n",
       "      <th>3</th>\n",
       "      <td>2</td>\n",
       "      <td>6.628732</td>\n",
       "      <td>40.922070</td>\n",
       "      <td>14.518913</td>\n",
       "      <td>44.805195</td>\n",
       "      <td>16.413542</td>\n",
       "    </tr>\n",
       "    <tr>\n",
       "      <th>5</th>\n",
       "      <td>4</td>\n",
       "      <td>8.367682</td>\n",
       "      <td>45.151176</td>\n",
       "      <td>20.737585</td>\n",
       "      <td>51.160433</td>\n",
       "      <td>22.815957</td>\n",
       "    </tr>\n",
       "    <tr>\n",
       "      <th>13</th>\n",
       "      <td>12</td>\n",
       "      <td>6.043377</td>\n",
       "      <td>54.361897</td>\n",
       "      <td>22.599600</td>\n",
       "      <td>55.291622</td>\n",
       "      <td>23.257653</td>\n",
       "    </tr>\n",
       "    <tr>\n",
       "      <th>16</th>\n",
       "      <td>15</td>\n",
       "      <td>7.424316</td>\n",
       "      <td>36.012962</td>\n",
       "      <td>16.525658</td>\n",
       "      <td>42.018538</td>\n",
       "      <td>19.445396</td>\n",
       "    </tr>\n",
       "    <tr>\n",
       "      <th>17</th>\n",
       "      <td>16</td>\n",
       "      <td>9.478106</td>\n",
       "      <td>28.735292</td>\n",
       "      <td>10.815783</td>\n",
       "      <td>35.063694</td>\n",
       "      <td>14.230315</td>\n",
       "    </tr>\n",
       "    <tr>\n",
       "      <th>18</th>\n",
       "      <td>17</td>\n",
       "      <td>6.353772</td>\n",
       "      <td>48.304508</td>\n",
       "      <td>22.010084</td>\n",
       "      <td>50.141163</td>\n",
       "      <td>22.443078</td>\n",
       "    </tr>\n",
       "    <tr>\n",
       "      <th>21</th>\n",
       "      <td>20</td>\n",
       "      <td>8.149501</td>\n",
       "      <td>38.733315</td>\n",
       "      <td>16.378510</td>\n",
       "      <td>51.173896</td>\n",
       "      <td>22.492508</td>\n",
       "    </tr>\n",
       "    <tr>\n",
       "      <th>24</th>\n",
       "      <td>23</td>\n",
       "      <td>12.635973</td>\n",
       "      <td>14.129725</td>\n",
       "      <td>4.684999</td>\n",
       "      <td>21.082391</td>\n",
       "      <td>7.414331</td>\n",
       "    </tr>\n",
       "    <tr>\n",
       "      <th>25</th>\n",
       "      <td>24</td>\n",
       "      <td>7.011922</td>\n",
       "      <td>49.914551</td>\n",
       "      <td>23.274250</td>\n",
       "      <td>53.979492</td>\n",
       "      <td>24.965944</td>\n",
       "    </tr>\n",
       "    <tr>\n",
       "      <th>26</th>\n",
       "      <td>25</td>\n",
       "      <td>6.185797</td>\n",
       "      <td>47.071533</td>\n",
       "      <td>19.533888</td>\n",
       "      <td>51.118012</td>\n",
       "      <td>20.746681</td>\n",
       "    </tr>\n",
       "    <tr>\n",
       "      <th>27</th>\n",
       "      <td>26</td>\n",
       "      <td>6.299765</td>\n",
       "      <td>48.221157</td>\n",
       "      <td>19.953594</td>\n",
       "      <td>51.851852</td>\n",
       "      <td>21.166335</td>\n",
       "    </tr>\n",
       "  </tbody>\n",
       "</table>\n",
       "</div>"
      ],
      "text/plain": [
       "    cluster  test_loss   test_hit   test_mrr  global_model_hit  \\\n",
       "1         0   6.621505  51.548405  23.252512         53.329782   \n",
       "2         1   6.454111  45.515423  18.264372         47.145589   \n",
       "3         2   6.628732  40.922070  14.518913         44.805195   \n",
       "5         4   8.367682  45.151176  20.737585         51.160433   \n",
       "13       12   6.043377  54.361897  22.599600         55.291622   \n",
       "16       15   7.424316  36.012962  16.525658         42.018538   \n",
       "17       16   9.478106  28.735292  10.815783         35.063694   \n",
       "18       17   6.353772  48.304508  22.010084         50.141163   \n",
       "21       20   8.149501  38.733315  16.378510         51.173896   \n",
       "24       23  12.635973  14.129725   4.684999         21.082391   \n",
       "25       24   7.011922  49.914551  23.274250         53.979492   \n",
       "26       25   6.185797  47.071533  19.533888         51.118012   \n",
       "27       26   6.299765  48.221157  19.953594         51.851852   \n",
       "\n",
       "    global_model_mrr  \n",
       "1          24.557642  \n",
       "2          19.081339  \n",
       "3          16.413542  \n",
       "5          22.815957  \n",
       "13         23.257653  \n",
       "16         19.445396  \n",
       "17         14.230315  \n",
       "18         22.443078  \n",
       "21         22.492508  \n",
       "24          7.414331  \n",
       "25         24.965944  \n",
       "26         20.746681  \n",
       "27         21.166335  "
      ]
     },
     "execution_count": 36,
     "metadata": {},
     "output_type": "execute_result"
    }
   ],
   "source": [
    "cluster_results.loc[cluster_results.global_model_hit<100*np.average(hit)]"
   ]
  },
  {
   "cell_type": "markdown",
   "metadata": {},
   "source": [
    "## full sessions"
   ]
  },
  {
   "cell_type": "code",
   "execution_count": 124,
   "metadata": {},
   "outputs": [
    {
     "name": "stderr",
     "output_type": "stream",
     "text": [
      "152it [00:13, 11.67it/s]                         \n"
     ]
    }
   ],
   "source": [
    "full_session_emb=[]\n",
    "full_sessions=[]\n",
    "for batch in tqdm(test_dataloader, total=test_dataset.length//opt.batchSize):\n",
    "    # use only original sessions\n",
    "    a=batch[3][0]\n",
    "    a=torch.vstack([torch.zeros(a.shape[1]), a])\n",
    "    idxs=torch.diff(a, dim=0).sum(axis=1)\n",
    "    for i in range(len(batch)):\n",
    "        batch[i]=batch[i][:,idxs>0]\n",
    "    #print(batch[0].shape)\n",
    "    #break\n",
    "    full_sessions.append(batch)\n",
    "    full_session_emb.append(model.get_session_embeddings(batch).detach().numpy())\n",
    "full_session_emb=np.concatenate(full_session_emb)"
   ]
  },
  {
   "cell_type": "code",
   "execution_count": 125,
   "metadata": {},
   "outputs": [],
   "source": [
    "full_session_labels=gm.predict(full_session_emb)"
   ]
  },
  {
   "cell_type": "code",
   "execution_count": 126,
   "metadata": {},
   "outputs": [
    {
     "data": {
      "text/plain": [
       "34034"
      ]
     },
     "execution_count": 126,
     "metadata": {},
     "output_type": "execute_result"
    }
   ],
   "source": [
    "len(full_session_labels)"
   ]
  },
  {
   "cell_type": "code",
   "execution_count": 127,
   "metadata": {},
   "outputs": [
    {
     "name": "stderr",
     "output_type": "stream",
     "text": [
      "100%|██████████| 152/152 [00:12<00:00, 12.41it/s]\n"
     ]
    }
   ],
   "source": [
    "hit,mrr=[],[]\n",
    "for batch in tqdm(full_sessions):\n",
    "    sub_scores, targets=model.predict_step(batch)\n",
    "    targets=targets.flatten()\n",
    "    for score, target in zip(sub_scores, targets):\n",
    "        correct_pred=torch.isin(target - 1, score)\n",
    "        hit.append(correct_pred)\n",
    "        if not correct_pred:\n",
    "            mrr.append(0)\n",
    "        else:\n",
    "            mrr.append(1 / (torch.where(score == target - 1)[0][0] + 1))\n",
    "hit=np.array(hit)\n",
    "mrr=np.array(mrr)"
   ]
  },
  {
   "cell_type": "code",
   "execution_count": 129,
   "metadata": {},
   "outputs": [
    {
     "name": "stderr",
     "output_type": "stream",
     "text": [
      "100%|██████████| 32/32 [00:16<00:00,  1.90it/s]\n"
     ]
    }
   ],
   "source": [
    "full_sess_results=[]\n",
    "full_sess_results.append(\n",
    "{'cluster':-1, \n",
    " 'global_model_hit': np.average(hit),\n",
    " 'global_model_mrr': np.average(mrr)})\n",
    "\n",
    "for c in tqdm(range(gm.n_components)):\n",
    "    clear_output(wait=True)\n",
    "    idxs=full_session_labels==c\n",
    "\n",
    "    run_id=runs_df.loc[runs_df.cluster==c].ID.item()\n",
    "    cluster_model=SRGNN_model.load_from_checkpoint(f\"./GNN_master/{run_id}/checkpoints/\"+\n",
    "                                       os.listdir(f\"./GNN_master/{run_id}/checkpoints/\")[0], opt=opt)\n",
    "    cluster_model.to('cpu')\n",
    "    \n",
    "    chit,cmrr=[],[]\n",
    "    counter=0\n",
    "    prev_batch=None\n",
    "    for batch in (full_sessions):\n",
    "        batch_idxs=idxs[counter:counter+batch[4].shape[-1]]\n",
    "        counter+=batch[4].shape[-1]\n",
    "\n",
    "        batch=[b[:, batch_idxs] for b in batch]\n",
    "        \n",
    "\n",
    "        sub_scores, targets=cluster_model.predict_step(batch)\n",
    "        targets=targets.flatten()\n",
    "        for score, target in zip(sub_scores, targets):\n",
    "            correct_pred=torch.isin(target - 1, score)\n",
    "            chit.append(correct_pred)\n",
    "            if not correct_pred:\n",
    "                cmrr.append(0)\n",
    "            else:\n",
    "                cmrr.append(1 / (torch.where(score == target - 1)[0][0] + 1))\n",
    "\n",
    "    metrics={}\n",
    "    metrics['cluster']=c\n",
    "    metrics['model_hit']=100*np.average(chit)\n",
    "    metrics['model_mrr']=100*np.average(cmrr)\n",
    "    metrics['global_model_hit']=100*np.average(hit[idxs])\n",
    "    metrics['global_model_mrr']=100*np.average(mrr[idxs])\n",
    "    full_sess_results.append(metrics)"
   ]
  },
  {
   "cell_type": "code",
   "execution_count": 131,
   "metadata": {},
   "outputs": [],
   "source": [
    "full_sess_results=pd.DataFrame(full_sess_results)"
   ]
  },
  {
   "cell_type": "code",
   "execution_count": 136,
   "metadata": {},
   "outputs": [
    {
     "data": {
      "text/html": [
       "<div>\n",
       "<style scoped>\n",
       "    .dataframe tbody tr th:only-of-type {\n",
       "        vertical-align: middle;\n",
       "    }\n",
       "\n",
       "    .dataframe tbody tr th {\n",
       "        vertical-align: top;\n",
       "    }\n",
       "\n",
       "    .dataframe thead th {\n",
       "        text-align: right;\n",
       "    }\n",
       "</style>\n",
       "<table border=\"1\" class=\"dataframe\">\n",
       "  <thead>\n",
       "    <tr style=\"text-align: right;\">\n",
       "      <th></th>\n",
       "      <th>cluster</th>\n",
       "      <th>test_loss</th>\n",
       "      <th>test_hit</th>\n",
       "      <th>test_mrr</th>\n",
       "      <th>model_hit</th>\n",
       "      <th>model_mrr</th>\n",
       "      <th>global_model_hit</th>\n",
       "      <th>global_model_mrr</th>\n",
       "    </tr>\n",
       "  </thead>\n",
       "  <tbody>\n",
       "    <tr>\n",
       "      <th>10</th>\n",
       "      <td>9</td>\n",
       "      <td>NaN</td>\n",
       "      <td>NaN</td>\n",
       "      <td>NaN</td>\n",
       "      <td>61.501597</td>\n",
       "      <td>28.099945</td>\n",
       "      <td>62.616822</td>\n",
       "      <td>27.867965</td>\n",
       "    </tr>\n",
       "    <tr>\n",
       "      <th>15</th>\n",
       "      <td>14</td>\n",
       "      <td>NaN</td>\n",
       "      <td>NaN</td>\n",
       "      <td>NaN</td>\n",
       "      <td>68.902439</td>\n",
       "      <td>35.281173</td>\n",
       "      <td>68.471954</td>\n",
       "      <td>34.602202</td>\n",
       "    </tr>\n",
       "  </tbody>\n",
       "</table>\n",
       "</div>"
      ],
      "text/plain": [
       "    cluster  test_loss  test_hit  test_mrr  model_hit  model_mrr  \\\n",
       "10        9        NaN       NaN       NaN  61.501597  28.099945   \n",
       "15       14        NaN       NaN       NaN  68.902439  35.281173   \n",
       "\n",
       "    global_model_hit  global_model_mrr  \n",
       "10         62.616822         27.867965  \n",
       "15         68.471954         34.602202  "
      ]
     },
     "execution_count": 136,
     "metadata": {},
     "output_type": "execute_result"
    }
   ],
   "source": [
    "full_sess_results.iloc[(full_sess_results.model_mrr>full_sess_results.global_model_mrr).values]"
   ]
  },
  {
   "cell_type": "code",
   "execution_count": 135,
   "metadata": {},
   "outputs": [
    {
     "data": {
      "text/html": [
       "<div>\n",
       "<style scoped>\n",
       "    .dataframe tbody tr th:only-of-type {\n",
       "        vertical-align: middle;\n",
       "    }\n",
       "\n",
       "    .dataframe tbody tr th {\n",
       "        vertical-align: top;\n",
       "    }\n",
       "\n",
       "    .dataframe thead th {\n",
       "        text-align: right;\n",
       "    }\n",
       "</style>\n",
       "<table border=\"1\" class=\"dataframe\">\n",
       "  <thead>\n",
       "    <tr style=\"text-align: right;\">\n",
       "      <th></th>\n",
       "      <th>cluster</th>\n",
       "      <th>test_loss</th>\n",
       "      <th>test_hit</th>\n",
       "      <th>test_mrr</th>\n",
       "      <th>model_hit</th>\n",
       "      <th>model_mrr</th>\n",
       "      <th>global_model_hit</th>\n",
       "      <th>global_model_mrr</th>\n",
       "    </tr>\n",
       "  </thead>\n",
       "  <tbody>\n",
       "    <tr>\n",
       "      <th>15</th>\n",
       "      <td>14</td>\n",
       "      <td>NaN</td>\n",
       "      <td>NaN</td>\n",
       "      <td>NaN</td>\n",
       "      <td>68.902439</td>\n",
       "      <td>35.281173</td>\n",
       "      <td>68.471954</td>\n",
       "      <td>34.602202</td>\n",
       "    </tr>\n",
       "    <tr>\n",
       "      <th>26</th>\n",
       "      <td>25</td>\n",
       "      <td>NaN</td>\n",
       "      <td>NaN</td>\n",
       "      <td>NaN</td>\n",
       "      <td>63.004172</td>\n",
       "      <td>24.414224</td>\n",
       "      <td>62.054795</td>\n",
       "      <td>24.630326</td>\n",
       "    </tr>\n",
       "  </tbody>\n",
       "</table>\n",
       "</div>"
      ],
      "text/plain": [
       "    cluster  test_loss  test_hit  test_mrr  model_hit  model_mrr  \\\n",
       "15       14        NaN       NaN       NaN  68.902439  35.281173   \n",
       "26       25        NaN       NaN       NaN  63.004172  24.414224   \n",
       "\n",
       "    global_model_hit  global_model_mrr  \n",
       "15         68.471954         34.602202  \n",
       "26         62.054795         24.630326  "
      ]
     },
     "execution_count": 135,
     "metadata": {},
     "output_type": "execute_result"
    }
   ],
   "source": [
    "full_sess_results.iloc[(full_sess_results.model_hit>full_sess_results.global_model_hit).values]"
   ]
  },
  {
   "cell_type": "markdown",
   "metadata": {},
   "source": [
    "# finetuned"
   ]
  },
  {
   "cell_type": "markdown",
   "metadata": {},
   "source": [
    "## all sessions"
   ]
  },
  {
   "cell_type": "code",
   "execution_count": 79,
   "metadata": {},
   "outputs": [],
   "source": [
    "runs_df=pd.read_csv('./wandb_export_gm_finetune_runs.csv')\n",
    "runs_df['cluster']=runs_df.Name.map(lambda x: int(x.split('_')[-1]))"
   ]
  },
  {
   "cell_type": "code",
   "execution_count": 80,
   "metadata": {},
   "outputs": [
    {
     "name": "stderr",
     "output_type": "stream",
     "text": [
      "GPU available: True (cuda), used: True\n",
      "TPU available: False, using: 0 TPU cores\n",
      "IPU available: False, using: 0 IPUs\n",
      "HPU available: False, using: 0 HPUs\n",
      "LOCAL_RANK: 0 - CUDA_VISIBLE_DEVICES: [0]\n"
     ]
    },
    {
     "name": "stdout",
     "output_type": "stream",
     "text": [
      "data masking start\n",
      "data masking 1\n",
      "data masking 2\n",
      "data masking 3\n",
      "done masking\n"
     ]
    },
    {
     "data": {
      "application/vnd.jupyter.widget-view+json": {
       "model_id": "aaea65a704cd4167bf9343d27657e412",
       "version_major": 2,
       "version_minor": 0
      },
      "text/plain": [
       "Testing: 0it [00:00, ?it/s]"
      ]
     },
     "metadata": {},
     "output_type": "display_data"
    },
    {
     "data": {
      "text/html": [
       "<pre style=\"white-space:pre;overflow-x:auto;line-height:normal;font-family:Menlo,'DejaVu Sans Mono',consolas,'Courier New',monospace\">┏━━━━━━━━━━━━━━━━━━━━━━━━━━━┳━━━━━━━━━━━━━━━━━━━━━━━━━━━┓\n",
       "┃<span style=\"font-weight: bold\">   Runningstage.testing    </span>┃<span style=\"font-weight: bold\">                           </span>┃\n",
       "┃<span style=\"font-weight: bold\">          metric           </span>┃<span style=\"font-weight: bold\">       DataLoader 0        </span>┃\n",
       "┡━━━━━━━━━━━━━━━━━━━━━━━━━━━╇━━━━━━━━━━━━━━━━━━━━━━━━━━━┩\n",
       "│<span style=\"color: #008080; text-decoration-color: #008080\">         test_hit          </span>│<span style=\"color: #800080; text-decoration-color: #800080\">     35.08748245239258     </span>│\n",
       "│<span style=\"color: #008080; text-decoration-color: #008080\">         test_loss         </span>│<span style=\"color: #800080; text-decoration-color: #800080\">     8.98015308380127      </span>│\n",
       "│<span style=\"color: #008080; text-decoration-color: #008080\">         test_mrr          </span>│<span style=\"color: #800080; text-decoration-color: #800080\">    15.542804718017578     </span>│\n",
       "└───────────────────────────┴───────────────────────────┘\n",
       "</pre>\n"
      ],
      "text/plain": [
       "┏━━━━━━━━━━━━━━━━━━━━━━━━━━━┳━━━━━━━━━━━━━━━━━━━━━━━━━━━┓\n",
       "┃\u001b[1m \u001b[0m\u001b[1m  Runningstage.testing   \u001b[0m\u001b[1m \u001b[0m┃\u001b[1m                           \u001b[0m┃\n",
       "┃\u001b[1m \u001b[0m\u001b[1m         metric          \u001b[0m\u001b[1m \u001b[0m┃\u001b[1m \u001b[0m\u001b[1m      DataLoader 0       \u001b[0m\u001b[1m \u001b[0m┃\n",
       "┡━━━━━━━━━━━━━━━━━━━━━━━━━━━╇━━━━━━━━━━━━━━━━━━━━━━━━━━━┩\n",
       "│\u001b[36m \u001b[0m\u001b[36m        test_hit         \u001b[0m\u001b[36m \u001b[0m│\u001b[35m \u001b[0m\u001b[35m    35.08748245239258    \u001b[0m\u001b[35m \u001b[0m│\n",
       "│\u001b[36m \u001b[0m\u001b[36m        test_loss        \u001b[0m\u001b[36m \u001b[0m│\u001b[35m \u001b[0m\u001b[35m    8.98015308380127     \u001b[0m\u001b[35m \u001b[0m│\n",
       "│\u001b[36m \u001b[0m\u001b[36m        test_mrr         \u001b[0m\u001b[36m \u001b[0m│\u001b[35m \u001b[0m\u001b[35m   15.542804718017578    \u001b[0m\u001b[35m \u001b[0m│\n",
       "└───────────────────────────┴───────────────────────────┘\n"
      ]
     },
     "metadata": {},
     "output_type": "display_data"
    },
    {
     "name": "stderr",
     "output_type": "stream",
     "text": [
      "100%|██████████| 32/32 [01:30<00:00,  2.83s/it]\n"
     ]
    }
   ],
   "source": [
    "cluster_results=[]\n",
    "cluster_results.append(\n",
    "{'cluster':-1, \n",
    " 'test_loss': np.nan,\n",
    " 'test_hit': np.average(hit),\n",
    " 'test_mrr': np.average(mrr)})\n",
    "\n",
    "for c in tqdm(range(gm.n_components)):\n",
    "    clear_output(wait=True)\n",
    "    if runs_df.loc[runs_df.cluster==c].empty:\n",
    "        continue\n",
    "    idxs=np.arange(len(test_data[0]))[session_labels==c]\n",
    "\n",
    "    cluster_sess=[test_data[0][i] for i in idxs]\n",
    "    cluster_targets=[test_data[1][i] for i in idxs]\n",
    "    cluster_data=(cluster_sess,cluster_targets)\n",
    "    cluster_dataset=SRGNN_Map_Dataset(cluster_data, shuffle=False)\n",
    "    cluster_dataloader=DataLoader(cluster_dataset, \n",
    "                            num_workers=os.cpu_count(),  \n",
    "                            sampler=SRGNN_sampler(cluster_dataset, opt.batchSize, shuffle=False, drop_last=False),\n",
    "                             drop_last=False\n",
    "                            )\n",
    "    run_id=runs_df.loc[runs_df.cluster==c].ID.item()\n",
    "    cluster_model=SRGNN_model.load_from_checkpoint(f\"./GNN_master/{run_id}/checkpoints/\"+\n",
    "                                       os.listdir(f\"./GNN_master/{run_id}/checkpoints/\")[0], opt=opt)\n",
    "    \n",
    "    trainer=pl.Trainer(limit_test_batches=ceil(cluster_dataset.length/opt.batchSize),limit_predict_batches=ceil(cluster_dataset.length/opt.batchSize))\n",
    "    metrics=trainer.test(cluster_model, cluster_dataloader)[0]#only one dataloader\n",
    "    metrics['cluster']=c\n",
    "    metrics['global_model_hit']=100*np.average(hit[idxs])\n",
    "    metrics['global_model_mrr']=100*np.average(mrr[idxs])\n",
    "    cluster_results.append(metrics)"
   ]
  },
  {
   "cell_type": "code",
   "execution_count": 81,
   "metadata": {},
   "outputs": [],
   "source": [
    "cluster_results=pd.DataFrame(cluster_results)\n",
    "cluster_results=cluster_results.merge(pd.DataFrame(np.unique(session_labels, return_counts=True)).T.rename(columns={0:'cluster',1:'size'}),\n",
    "                      on='cluster')"
   ]
  },
  {
   "cell_type": "code",
   "execution_count": 82,
   "metadata": {},
   "outputs": [
    {
     "data": {
      "text/plain": [
       "(True, True)"
      ]
     },
     "execution_count": 82,
     "metadata": {},
     "output_type": "execute_result"
    }
   ],
   "source": [
    "(cluster_results.test_hit>cluster_results.global_model_hit).any(), (cluster_results.test_mrr>cluster_results.global_model_mrr).any()"
   ]
  },
  {
   "cell_type": "code",
   "execution_count": 83,
   "metadata": {},
   "outputs": [
    {
     "data": {
      "text/html": [
       "<div>\n",
       "<style scoped>\n",
       "    .dataframe tbody tr th:only-of-type {\n",
       "        vertical-align: middle;\n",
       "    }\n",
       "\n",
       "    .dataframe tbody tr th {\n",
       "        vertical-align: top;\n",
       "    }\n",
       "\n",
       "    .dataframe thead th {\n",
       "        text-align: right;\n",
       "    }\n",
       "</style>\n",
       "<table border=\"1\" class=\"dataframe\">\n",
       "  <thead>\n",
       "    <tr style=\"text-align: right;\">\n",
       "      <th></th>\n",
       "      <th>cluster</th>\n",
       "      <th>test_loss</th>\n",
       "      <th>test_hit</th>\n",
       "      <th>test_mrr</th>\n",
       "      <th>global_model_hit</th>\n",
       "      <th>global_model_mrr</th>\n",
       "      <th>size</th>\n",
       "    </tr>\n",
       "  </thead>\n",
       "  <tbody>\n",
       "    <tr>\n",
       "      <th>0</th>\n",
       "      <td>0</td>\n",
       "      <td>6.345438</td>\n",
       "      <td>46.706402</td>\n",
       "      <td>17.293476</td>\n",
       "      <td>47.368421</td>\n",
       "      <td>17.076397</td>\n",
       "      <td>5909</td>\n",
       "    </tr>\n",
       "    <tr>\n",
       "      <th>3</th>\n",
       "      <td>3</td>\n",
       "      <td>9.786974</td>\n",
       "      <td>32.537613</td>\n",
       "      <td>13.866294</td>\n",
       "      <td>30.728004</td>\n",
       "      <td>13.043829</td>\n",
       "      <td>2239</td>\n",
       "    </tr>\n",
       "    <tr>\n",
       "      <th>5</th>\n",
       "      <td>5</td>\n",
       "      <td>5.847559</td>\n",
       "      <td>61.718750</td>\n",
       "      <td>33.115646</td>\n",
       "      <td>62.188057</td>\n",
       "      <td>32.829809</td>\n",
       "      <td>4488</td>\n",
       "    </tr>\n",
       "    <tr>\n",
       "      <th>19</th>\n",
       "      <td>20</td>\n",
       "      <td>1.729631</td>\n",
       "      <td>92.307693</td>\n",
       "      <td>92.307693</td>\n",
       "      <td>92.307692</td>\n",
       "      <td>92.307692</td>\n",
       "      <td>52</td>\n",
       "    </tr>\n",
       "    <tr>\n",
       "      <th>24</th>\n",
       "      <td>25</td>\n",
       "      <td>5.962016</td>\n",
       "      <td>54.421932</td>\n",
       "      <td>26.047878</td>\n",
       "      <td>54.209524</td>\n",
       "      <td>25.839076</td>\n",
       "      <td>2625</td>\n",
       "    </tr>\n",
       "    <tr>\n",
       "      <th>28</th>\n",
       "      <td>29</td>\n",
       "      <td>6.521373</td>\n",
       "      <td>44.465172</td>\n",
       "      <td>16.526772</td>\n",
       "      <td>43.761028</td>\n",
       "      <td>16.370745</td>\n",
       "      <td>3967</td>\n",
       "    </tr>\n",
       "  </tbody>\n",
       "</table>\n",
       "</div>"
      ],
      "text/plain": [
       "    cluster  test_loss   test_hit   test_mrr  global_model_hit  \\\n",
       "0         0   6.345438  46.706402  17.293476         47.368421   \n",
       "3         3   9.786974  32.537613  13.866294         30.728004   \n",
       "5         5   5.847559  61.718750  33.115646         62.188057   \n",
       "19       20   1.729631  92.307693  92.307693         92.307692   \n",
       "24       25   5.962016  54.421932  26.047878         54.209524   \n",
       "28       29   6.521373  44.465172  16.526772         43.761028   \n",
       "\n",
       "    global_model_mrr  size  \n",
       "0          17.076397  5909  \n",
       "3          13.043829  2239  \n",
       "5          32.829809  4488  \n",
       "19         92.307692    52  \n",
       "24         25.839076  2625  \n",
       "28         16.370745  3967  "
      ]
     },
     "execution_count": 83,
     "metadata": {},
     "output_type": "execute_result"
    }
   ],
   "source": [
    "cluster_results.iloc[np.arange(cluster_results.shape[0])[cluster_results.test_mrr>cluster_results.global_model_mrr]]"
   ]
  },
  {
   "cell_type": "code",
   "execution_count": 84,
   "metadata": {},
   "outputs": [
    {
     "data": {
      "text/html": [
       "<div>\n",
       "<style scoped>\n",
       "    .dataframe tbody tr th:only-of-type {\n",
       "        vertical-align: middle;\n",
       "    }\n",
       "\n",
       "    .dataframe tbody tr th {\n",
       "        vertical-align: top;\n",
       "    }\n",
       "\n",
       "    .dataframe thead th {\n",
       "        text-align: right;\n",
       "    }\n",
       "</style>\n",
       "<table border=\"1\" class=\"dataframe\">\n",
       "  <thead>\n",
       "    <tr style=\"text-align: right;\">\n",
       "      <th></th>\n",
       "      <th>cluster</th>\n",
       "      <th>test_loss</th>\n",
       "      <th>test_hit</th>\n",
       "      <th>test_mrr</th>\n",
       "      <th>global_model_hit</th>\n",
       "      <th>global_model_mrr</th>\n",
       "      <th>size</th>\n",
       "    </tr>\n",
       "  </thead>\n",
       "  <tbody>\n",
       "    <tr>\n",
       "      <th>3</th>\n",
       "      <td>3</td>\n",
       "      <td>9.786974</td>\n",
       "      <td>32.537613</td>\n",
       "      <td>13.866294</td>\n",
       "      <td>30.728004</td>\n",
       "      <td>13.043829</td>\n",
       "      <td>2239</td>\n",
       "    </tr>\n",
       "    <tr>\n",
       "      <th>19</th>\n",
       "      <td>20</td>\n",
       "      <td>1.729631</td>\n",
       "      <td>92.307693</td>\n",
       "      <td>92.307693</td>\n",
       "      <td>92.307692</td>\n",
       "      <td>92.307692</td>\n",
       "      <td>52</td>\n",
       "    </tr>\n",
       "    <tr>\n",
       "      <th>23</th>\n",
       "      <td>24</td>\n",
       "      <td>13.693072</td>\n",
       "      <td>18.772322</td>\n",
       "      <td>7.410641</td>\n",
       "      <td>17.639594</td>\n",
       "      <td>8.191401</td>\n",
       "      <td>788</td>\n",
       "    </tr>\n",
       "    <tr>\n",
       "      <th>24</th>\n",
       "      <td>25</td>\n",
       "      <td>5.962016</td>\n",
       "      <td>54.421932</td>\n",
       "      <td>26.047878</td>\n",
       "      <td>54.209524</td>\n",
       "      <td>25.839076</td>\n",
       "      <td>2625</td>\n",
       "    </tr>\n",
       "    <tr>\n",
       "      <th>27</th>\n",
       "      <td>28</td>\n",
       "      <td>6.638066</td>\n",
       "      <td>46.627441</td>\n",
       "      <td>21.624046</td>\n",
       "      <td>46.352941</td>\n",
       "      <td>21.992768</td>\n",
       "      <td>3400</td>\n",
       "    </tr>\n",
       "    <tr>\n",
       "      <th>28</th>\n",
       "      <td>29</td>\n",
       "      <td>6.521373</td>\n",
       "      <td>44.465172</td>\n",
       "      <td>16.526772</td>\n",
       "      <td>43.761028</td>\n",
       "      <td>16.370745</td>\n",
       "      <td>3967</td>\n",
       "    </tr>\n",
       "  </tbody>\n",
       "</table>\n",
       "</div>"
      ],
      "text/plain": [
       "    cluster  test_loss   test_hit   test_mrr  global_model_hit  \\\n",
       "3         3   9.786974  32.537613  13.866294         30.728004   \n",
       "19       20   1.729631  92.307693  92.307693         92.307692   \n",
       "23       24  13.693072  18.772322   7.410641         17.639594   \n",
       "24       25   5.962016  54.421932  26.047878         54.209524   \n",
       "27       28   6.638066  46.627441  21.624046         46.352941   \n",
       "28       29   6.521373  44.465172  16.526772         43.761028   \n",
       "\n",
       "    global_model_mrr  size  \n",
       "3          13.043829  2239  \n",
       "19         92.307692    52  \n",
       "23          8.191401   788  \n",
       "24         25.839076  2625  \n",
       "27         21.992768  3400  \n",
       "28         16.370745  3967  "
      ]
     },
     "execution_count": 84,
     "metadata": {},
     "output_type": "execute_result"
    }
   ],
   "source": [
    "cluster_results.iloc[np.arange(cluster_results.shape[0])[cluster_results.test_hit>cluster_results.global_model_hit]]"
   ]
  },
  {
   "cell_type": "code",
   "execution_count": 85,
   "metadata": {},
   "outputs": [
    {
     "data": {
      "text/plain": [
       "(155292,)"
      ]
     },
     "execution_count": 85,
     "metadata": {},
     "output_type": "execute_result"
    }
   ],
   "source": [
    "session_labels.shape"
   ]
  },
  {
   "cell_type": "code",
   "execution_count": 86,
   "metadata": {},
   "outputs": [
    {
     "data": {
      "text/html": [
       "<div>\n",
       "<style scoped>\n",
       "    .dataframe tbody tr th:only-of-type {\n",
       "        vertical-align: middle;\n",
       "    }\n",
       "\n",
       "    .dataframe tbody tr th {\n",
       "        vertical-align: top;\n",
       "    }\n",
       "\n",
       "    .dataframe thead th {\n",
       "        text-align: right;\n",
       "    }\n",
       "</style>\n",
       "<table border=\"1\" class=\"dataframe\">\n",
       "  <thead>\n",
       "    <tr style=\"text-align: right;\">\n",
       "      <th></th>\n",
       "      <th>cluster</th>\n",
       "      <th>test_loss</th>\n",
       "      <th>test_hit</th>\n",
       "      <th>test_mrr</th>\n",
       "      <th>global_model_hit</th>\n",
       "      <th>global_model_mrr</th>\n",
       "      <th>size</th>\n",
       "    </tr>\n",
       "  </thead>\n",
       "  <tbody>\n",
       "    <tr>\n",
       "      <th>3</th>\n",
       "      <td>3</td>\n",
       "      <td>9.786974</td>\n",
       "      <td>32.537613</td>\n",
       "      <td>13.866294</td>\n",
       "      <td>30.728004</td>\n",
       "      <td>13.043829</td>\n",
       "      <td>2239</td>\n",
       "    </tr>\n",
       "    <tr>\n",
       "      <th>23</th>\n",
       "      <td>24</td>\n",
       "      <td>13.693072</td>\n",
       "      <td>18.772322</td>\n",
       "      <td>7.410641</td>\n",
       "      <td>17.639594</td>\n",
       "      <td>8.191401</td>\n",
       "      <td>788</td>\n",
       "    </tr>\n",
       "    <tr>\n",
       "      <th>28</th>\n",
       "      <td>29</td>\n",
       "      <td>6.521373</td>\n",
       "      <td>44.465172</td>\n",
       "      <td>16.526772</td>\n",
       "      <td>43.761028</td>\n",
       "      <td>16.370745</td>\n",
       "      <td>3967</td>\n",
       "    </tr>\n",
       "    <tr>\n",
       "      <th>30</th>\n",
       "      <td>31</td>\n",
       "      <td>8.980153</td>\n",
       "      <td>35.087482</td>\n",
       "      <td>15.542805</td>\n",
       "      <td>36.197637</td>\n",
       "      <td>15.979771</td>\n",
       "      <td>9310</td>\n",
       "    </tr>\n",
       "  </tbody>\n",
       "</table>\n",
       "</div>"
      ],
      "text/plain": [
       "    cluster  test_loss   test_hit   test_mrr  global_model_hit  \\\n",
       "3         3   9.786974  32.537613  13.866294         30.728004   \n",
       "23       24  13.693072  18.772322   7.410641         17.639594   \n",
       "28       29   6.521373  44.465172  16.526772         43.761028   \n",
       "30       31   8.980153  35.087482  15.542805         36.197637   \n",
       "\n",
       "    global_model_mrr  size  \n",
       "3          13.043829  2239  \n",
       "23          8.191401   788  \n",
       "28         16.370745  3967  \n",
       "30         15.979771  9310  "
      ]
     },
     "execution_count": 86,
     "metadata": {},
     "output_type": "execute_result"
    }
   ],
   "source": [
    "cluster_results.loc[cluster_results.global_model_hit<np.average(hit)*100/1.25]"
   ]
  }
 ],
 "metadata": {
  "kernelspec": {
   "display_name": "gpu_torch",
   "language": "python",
   "name": "python3"
  },
  "language_info": {
   "codemirror_mode": {
    "name": "ipython",
    "version": 3
   },
   "file_extension": ".py",
   "mimetype": "text/x-python",
   "name": "python",
   "nbconvert_exporter": "python",
   "pygments_lexer": "ipython3",
   "version": "3.11.4"
  }
 },
 "nbformat": 4,
 "nbformat_minor": 2
}
