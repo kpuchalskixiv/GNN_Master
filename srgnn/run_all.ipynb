{
 "cells": [
  {
   "cell_type": "code",
   "execution_count": 1,
   "metadata": {},
   "outputs": [
    {
     "name": "stderr",
     "output_type": "stream",
     "text": [
      "/home/kacper/anaconda3/envs/gpu_torch/lib/python3.12/site-packages/tqdm/auto.py:21: TqdmWarning: IProgress not found. Please update jupyter and ipywidgets. See https://ipywidgets.readthedocs.io/en/stable/user_install.html\n",
      "  from .autonotebook import tqdm as notebook_tqdm\n"
     ]
    }
   ],
   "source": [
    "from main_pl import main as train_model\n",
    "from main_gmgnn import main as train_model_gngmm\n",
    "from label_items_with_gmm import main as label_with_gmm\n",
    "from label_items_with_kmeans import main as label_with_kmeans\n",
    "from basic_cat_augmentation import main as label_with_categories\n",
    "from torch import set_float32_matmul_precision\n",
    "set_float32_matmul_precision('medium')"
   ]
  },
  {
   "cell_type": "code",
   "execution_count": 7,
   "metadata": {},
   "outputs": [],
   "source": [
    "dataset='diginetica'"
   ]
  },
  {
   "cell_type": "code",
   "execution_count": 8,
   "metadata": {},
   "outputs": [],
   "source": [
    "base_runs=[\n",
    "    ## my hparams, previosulsy calculated base runs\n",
    "    'qm2ur7o3',\n",
    "    '3abge2uq',\n",
    "    '4dm99qnd',\n",
    "    'jxgwsuta',\n",
    "]"
   ]
  },
  {
   "cell_type": "markdown",
   "metadata": {},
   "source": [
    "## search for best # clusters"
   ]
  },
  {
   "cell_type": "code",
   "execution_count": 9,
   "metadata": {},
   "outputs": [],
   "source": [
    "augmented_common_flags=f\"--dataset {dataset} --augment-alg gmm --validation --valid-portion 0.1 --step 2 --lr-dc-step 2 --patience 4 --augment-matrix --augment-std 0.01 --augment-normalize --augment-p 0.5 --l2 0.000001 --augment-noise-p 0.5\""
   ]
  },
  {
   "cell_type": "code",
   "execution_count": 10,
   "metadata": {},
   "outputs": [
    {
     "name": "stdout",
     "output_type": "stream",
     "text": [
      "{'dataset': 'diginetica', 'batchSize': 100, 'hiddenSize': 100, 'epoch': 30, 'lr': 0.001, 'lr_dc': 0.1, 'lr_dc_step': 2, 'lr_scheduler': 'step', 'lr_milestones': ([2, 5, 8],), 'l2': 1e-05, 'step': 2, 'patience': 5, 'nonhybrid': False, 'validation': True, 'valid_portion': 0.1, 'pretrained_embedings': False, 'unfreeze_epoch': 0, 'gmm': [], 'augment_matrix': False, 'augment_clusters': False, 'augment_old_run_id': None, 'augment_clip': 0, 'augment_normalize': False, 'augment_raw': False, 'weight_init': 'normal', 'augment_categories': False, 'augment_nogmm': 16, 'augment_p': 1.0, 'augment_mean': 0.01, 'augment_std': 0.0, 'augment_gmm_init': 'k-means++', 'augment_prenormalize_distances': False, 'augment_noise_p': 1.0, 'augment_alg': 'gmm', 'gmm_covariance_type': 'full', 'gmm_tol': 0.001}\n",
      "Initialization 0\n"
     ]
    },
    {
     "ename": "KeyboardInterrupt",
     "evalue": "",
     "output_type": "error",
     "traceback": [
      "\u001b[0;31m---------------------------------------------------------------------------\u001b[0m",
      "\u001b[0;31mKeyboardInterrupt\u001b[0m                         Traceback (most recent call last)",
      "Cell \u001b[0;32mIn[10], line 7\u001b[0m\n\u001b[1;32m      4\u001b[0m extra_flags\u001b[38;5;241m=\u001b[39m\u001b[38;5;124mf\u001b[39m\u001b[38;5;124m'\u001b[39m\u001b[38;5;124m--augment-old-run-id \u001b[39m\u001b[38;5;132;01m{\u001b[39;00mrid\u001b[38;5;132;01m}\u001b[39;00m\u001b[38;5;124m --augment-nogmm \u001b[39m\u001b[38;5;132;01m{\u001b[39;00mno_gmm\u001b[38;5;132;01m}\u001b[39;00m\u001b[38;5;124m \u001b[39m\u001b[38;5;124m'\u001b[39m\n\u001b[1;32m      6\u001b[0m gmm_label_flags\u001b[38;5;241m=\u001b[39m\u001b[38;5;124mf\u001b[39m\u001b[38;5;124m\"\u001b[39m\u001b[38;5;124m--run-id \u001b[39m\u001b[38;5;132;01m{\u001b[39;00mrid\u001b[38;5;132;01m}\u001b[39;00m\u001b[38;5;124m --no-clusters \u001b[39m\u001b[38;5;132;01m{\u001b[39;00mno_gmm\u001b[38;5;132;01m}\u001b[39;00m\u001b[38;5;124m\"\u001b[39m\n\u001b[0;32m----> 7\u001b[0m \u001b[43mlabel_with_gmm\u001b[49m\u001b[43m(\u001b[49m\u001b[43mgmm_label_flags\u001b[49m\u001b[38;5;241;43m.\u001b[39;49m\u001b[43mstrip\u001b[49m\u001b[43m(\u001b[49m\u001b[43m)\u001b[49m\u001b[43m)\u001b[49m\n\u001b[1;32m      9\u001b[0m augmented_model_flags\u001b[38;5;241m=\u001b[39maugmented_common_flags\u001b[38;5;241m+\u001b[39m\u001b[38;5;124m\"\u001b[39m\u001b[38;5;124m \u001b[39m\u001b[38;5;124m\"\u001b[39m\u001b[38;5;241m+\u001b[39mextra_flags\n\u001b[1;32m     10\u001b[0m aug_rid\u001b[38;5;241m=\u001b[39mtrain_model(\n\u001b[1;32m     11\u001b[0m     augmented_model_flags\u001b[38;5;241m.\u001b[39mstrip()\n\u001b[1;32m     12\u001b[0m )\n",
      "File \u001b[0;32m~/GNN_Master/srgnn/label_items_with_gmm.py:99\u001b[0m, in \u001b[0;36mmain\u001b[0;34m(flags_str)\u001b[0m\n\u001b[1;32m     88\u001b[0m \u001b[38;5;28;01mdel\u001b[39;00m model\n\u001b[1;32m     90\u001b[0m gm \u001b[38;5;241m=\u001b[39m GaussianMixture(\n\u001b[1;32m     91\u001b[0m     n_components\u001b[38;5;241m=\u001b[39mparser_opt\u001b[38;5;241m.\u001b[39mno_clusters,\n\u001b[1;32m     92\u001b[0m     n_init\u001b[38;5;241m=\u001b[39mparser_opt\u001b[38;5;241m.\u001b[39mn_init,\n\u001b[0;32m   (...)\u001b[0m\n\u001b[1;32m     97\u001b[0m     tol\u001b[38;5;241m=\u001b[39mparser_opt\u001b[38;5;241m.\u001b[39mtol,\n\u001b[1;32m     98\u001b[0m )\n\u001b[0;32m---> 99\u001b[0m item_labels \u001b[38;5;241m=\u001b[39m \u001b[43mgm\u001b[49m\u001b[38;5;241;43m.\u001b[39;49m\u001b[43mfit_predict\u001b[49m\u001b[43m(\u001b[49m\u001b[43mitems_embeddings\u001b[49m\u001b[43m)\u001b[49m\n\u001b[1;32m    100\u001b[0m \u001b[38;5;28mprint\u001b[39m(np\u001b[38;5;241m.\u001b[39munique(item_labels, return_counts\u001b[38;5;241m=\u001b[39m\u001b[38;5;28;01mTrue\u001b[39;00m))\n\u001b[1;32m    101\u001b[0m \u001b[38;5;28;01mwith\u001b[39;00m \u001b[38;5;28mopen\u001b[39m(\n\u001b[1;32m    102\u001b[0m     \u001b[38;5;124mf\u001b[39m\u001b[38;5;124m\"\u001b[39m\u001b[38;5;124m../datasets/\u001b[39m\u001b[38;5;132;01m{\u001b[39;00mopt\u001b[38;5;241m.\u001b[39mdataset\u001b[38;5;132;01m}\u001b[39;00m\u001b[38;5;124m/item_labels_gmm_\u001b[39m\u001b[38;5;132;01m{\u001b[39;00mgm\u001b[38;5;241m.\u001b[39mn_components\u001b[38;5;132;01m}\u001b[39;00m\u001b[38;5;124m_\u001b[39m\u001b[38;5;132;01m{\u001b[39;00mparser_opt\u001b[38;5;241m.\u001b[39minit_params\u001b[38;5;132;01m}\u001b[39;00m\u001b[38;5;124m_\u001b[39m\u001b[38;5;132;01m{\u001b[39;00mparser_opt\u001b[38;5;241m.\u001b[39mcovariance_type\u001b[38;5;132;01m}\u001b[39;00m\u001b[38;5;124m_\u001b[39m\u001b[38;5;132;01m{\u001b[39;00mparser_opt\u001b[38;5;241m.\u001b[39mtol\u001b[38;5;132;01m}\u001b[39;00m\u001b[38;5;124m_\u001b[39m\u001b[38;5;132;01m{\u001b[39;00mopt\u001b[38;5;241m.\u001b[39mhiddenSize\u001b[38;5;132;01m}\u001b[39;00m\u001b[38;5;124m_\u001b[39m\u001b[38;5;132;01m{\u001b[39;00mparser_opt\u001b[38;5;241m.\u001b[39mrun_id\u001b[38;5;241m.\u001b[39msplit(\u001b[38;5;124m'\u001b[39m\u001b[38;5;124m-\u001b[39m\u001b[38;5;124m'\u001b[39m)[\u001b[38;5;241m-\u001b[39m\u001b[38;5;241m1\u001b[39m]\u001b[38;5;132;01m}\u001b[39;00m\u001b[38;5;124m.txt\u001b[39m\u001b[38;5;124m\"\u001b[39m,\n\u001b[1;32m    103\u001b[0m     \u001b[38;5;124m\"\u001b[39m\u001b[38;5;124mwb\u001b[39m\u001b[38;5;124m\"\u001b[39m,\n\u001b[1;32m    104\u001b[0m ) \u001b[38;5;28;01mas\u001b[39;00m f:\n",
      "File \u001b[0;32m~/anaconda3/envs/gpu_torch/lib/python3.12/site-packages/sklearn/base.py:1474\u001b[0m, in \u001b[0;36m_fit_context.<locals>.decorator.<locals>.wrapper\u001b[0;34m(estimator, *args, **kwargs)\u001b[0m\n\u001b[1;32m   1467\u001b[0m     estimator\u001b[38;5;241m.\u001b[39m_validate_params()\n\u001b[1;32m   1469\u001b[0m \u001b[38;5;28;01mwith\u001b[39;00m config_context(\n\u001b[1;32m   1470\u001b[0m     skip_parameter_validation\u001b[38;5;241m=\u001b[39m(\n\u001b[1;32m   1471\u001b[0m         prefer_skip_nested_validation \u001b[38;5;129;01mor\u001b[39;00m global_skip_validation\n\u001b[1;32m   1472\u001b[0m     )\n\u001b[1;32m   1473\u001b[0m ):\n\u001b[0;32m-> 1474\u001b[0m     \u001b[38;5;28;01mreturn\u001b[39;00m \u001b[43mfit_method\u001b[49m\u001b[43m(\u001b[49m\u001b[43mestimator\u001b[49m\u001b[43m,\u001b[49m\u001b[43m \u001b[49m\u001b[38;5;241;43m*\u001b[39;49m\u001b[43margs\u001b[49m\u001b[43m,\u001b[49m\u001b[43m \u001b[49m\u001b[38;5;241;43m*\u001b[39;49m\u001b[38;5;241;43m*\u001b[39;49m\u001b[43mkwargs\u001b[49m\u001b[43m)\u001b[49m\n",
      "File \u001b[0;32m~/anaconda3/envs/gpu_torch/lib/python3.12/site-packages/sklearn/mixture/_base.py:235\u001b[0m, in \u001b[0;36mBaseMixture.fit_predict\u001b[0;34m(self, X, y)\u001b[0m\n\u001b[1;32m    232\u001b[0m \u001b[38;5;28mself\u001b[39m\u001b[38;5;241m.\u001b[39m_print_verbose_msg_init_beg(init)\n\u001b[1;32m    234\u001b[0m \u001b[38;5;28;01mif\u001b[39;00m do_init:\n\u001b[0;32m--> 235\u001b[0m     \u001b[38;5;28;43mself\u001b[39;49m\u001b[38;5;241;43m.\u001b[39;49m\u001b[43m_initialize_parameters\u001b[49m\u001b[43m(\u001b[49m\u001b[43mX\u001b[49m\u001b[43m,\u001b[49m\u001b[43m \u001b[49m\u001b[43mrandom_state\u001b[49m\u001b[43m)\u001b[49m\n\u001b[1;32m    237\u001b[0m lower_bound \u001b[38;5;241m=\u001b[39m \u001b[38;5;241m-\u001b[39mnp\u001b[38;5;241m.\u001b[39minf \u001b[38;5;28;01mif\u001b[39;00m do_init \u001b[38;5;28;01melse\u001b[39;00m \u001b[38;5;28mself\u001b[39m\u001b[38;5;241m.\u001b[39mlower_bound_\n\u001b[1;32m    239\u001b[0m \u001b[38;5;28;01mif\u001b[39;00m \u001b[38;5;28mself\u001b[39m\u001b[38;5;241m.\u001b[39mmax_iter \u001b[38;5;241m==\u001b[39m \u001b[38;5;241m0\u001b[39m:\n",
      "File \u001b[0;32m~/anaconda3/envs/gpu_torch/lib/python3.12/site-packages/sklearn/mixture/_gaussian_mixture.py:766\u001b[0m, in \u001b[0;36mGaussianMixture._initialize_parameters\u001b[0;34m(self, X, random_state)\u001b[0m\n\u001b[1;32m    760\u001b[0m compute_resp \u001b[38;5;241m=\u001b[39m (\n\u001b[1;32m    761\u001b[0m     \u001b[38;5;28mself\u001b[39m\u001b[38;5;241m.\u001b[39mweights_init \u001b[38;5;129;01mis\u001b[39;00m \u001b[38;5;28;01mNone\u001b[39;00m\n\u001b[1;32m    762\u001b[0m     \u001b[38;5;129;01mor\u001b[39;00m \u001b[38;5;28mself\u001b[39m\u001b[38;5;241m.\u001b[39mmeans_init \u001b[38;5;129;01mis\u001b[39;00m \u001b[38;5;28;01mNone\u001b[39;00m\n\u001b[1;32m    763\u001b[0m     \u001b[38;5;129;01mor\u001b[39;00m \u001b[38;5;28mself\u001b[39m\u001b[38;5;241m.\u001b[39mprecisions_init \u001b[38;5;129;01mis\u001b[39;00m \u001b[38;5;28;01mNone\u001b[39;00m\n\u001b[1;32m    764\u001b[0m )\n\u001b[1;32m    765\u001b[0m \u001b[38;5;28;01mif\u001b[39;00m compute_resp:\n\u001b[0;32m--> 766\u001b[0m     \u001b[38;5;28;43msuper\u001b[39;49m\u001b[43m(\u001b[49m\u001b[43m)\u001b[49m\u001b[38;5;241;43m.\u001b[39;49m\u001b[43m_initialize_parameters\u001b[49m\u001b[43m(\u001b[49m\u001b[43mX\u001b[49m\u001b[43m,\u001b[49m\u001b[43m \u001b[49m\u001b[43mrandom_state\u001b[49m\u001b[43m)\u001b[49m\n\u001b[1;32m    767\u001b[0m \u001b[38;5;28;01melse\u001b[39;00m:\n\u001b[1;32m    768\u001b[0m     \u001b[38;5;28mself\u001b[39m\u001b[38;5;241m.\u001b[39m_initialize(X, \u001b[38;5;28;01mNone\u001b[39;00m)\n",
      "File \u001b[0;32m~/anaconda3/envs/gpu_torch/lib/python3.12/site-packages/sklearn/mixture/_base.py:140\u001b[0m, in \u001b[0;36mBaseMixture._initialize_parameters\u001b[0;34m(self, X, random_state)\u001b[0m\n\u001b[1;32m    133\u001b[0m     _, indices \u001b[38;5;241m=\u001b[39m kmeans_plusplus(\n\u001b[1;32m    134\u001b[0m         X,\n\u001b[1;32m    135\u001b[0m         \u001b[38;5;28mself\u001b[39m\u001b[38;5;241m.\u001b[39mn_components,\n\u001b[1;32m    136\u001b[0m         random_state\u001b[38;5;241m=\u001b[39mrandom_state,\n\u001b[1;32m    137\u001b[0m     )\n\u001b[1;32m    138\u001b[0m     resp[indices, np\u001b[38;5;241m.\u001b[39marange(\u001b[38;5;28mself\u001b[39m\u001b[38;5;241m.\u001b[39mn_components)] \u001b[38;5;241m=\u001b[39m \u001b[38;5;241m1\u001b[39m\n\u001b[0;32m--> 140\u001b[0m \u001b[38;5;28;43mself\u001b[39;49m\u001b[38;5;241;43m.\u001b[39;49m\u001b[43m_initialize\u001b[49m\u001b[43m(\u001b[49m\u001b[43mX\u001b[49m\u001b[43m,\u001b[49m\u001b[43m \u001b[49m\u001b[43mresp\u001b[49m\u001b[43m)\u001b[49m\n",
      "File \u001b[0;32m~/anaconda3/envs/gpu_torch/lib/python3.12/site-packages/sklearn/mixture/_gaussian_mixture.py:782\u001b[0m, in \u001b[0;36mGaussianMixture._initialize\u001b[0;34m(self, X, resp)\u001b[0m\n\u001b[1;32m    780\u001b[0m weights, means, covariances \u001b[38;5;241m=\u001b[39m \u001b[38;5;28;01mNone\u001b[39;00m, \u001b[38;5;28;01mNone\u001b[39;00m, \u001b[38;5;28;01mNone\u001b[39;00m\n\u001b[1;32m    781\u001b[0m \u001b[38;5;28;01mif\u001b[39;00m resp \u001b[38;5;129;01mis\u001b[39;00m \u001b[38;5;129;01mnot\u001b[39;00m \u001b[38;5;28;01mNone\u001b[39;00m:\n\u001b[0;32m--> 782\u001b[0m     weights, means, covariances \u001b[38;5;241m=\u001b[39m \u001b[43m_estimate_gaussian_parameters\u001b[49m\u001b[43m(\u001b[49m\n\u001b[1;32m    783\u001b[0m \u001b[43m        \u001b[49m\u001b[43mX\u001b[49m\u001b[43m,\u001b[49m\u001b[43m \u001b[49m\u001b[43mresp\u001b[49m\u001b[43m,\u001b[49m\u001b[43m \u001b[49m\u001b[38;5;28;43mself\u001b[39;49m\u001b[38;5;241;43m.\u001b[39;49m\u001b[43mreg_covar\u001b[49m\u001b[43m,\u001b[49m\u001b[43m \u001b[49m\u001b[38;5;28;43mself\u001b[39;49m\u001b[38;5;241;43m.\u001b[39;49m\u001b[43mcovariance_type\u001b[49m\n\u001b[1;32m    784\u001b[0m \u001b[43m    \u001b[49m\u001b[43m)\u001b[49m\n\u001b[1;32m    785\u001b[0m     \u001b[38;5;28;01mif\u001b[39;00m \u001b[38;5;28mself\u001b[39m\u001b[38;5;241m.\u001b[39mweights_init \u001b[38;5;129;01mis\u001b[39;00m \u001b[38;5;28;01mNone\u001b[39;00m:\n\u001b[1;32m    786\u001b[0m         weights \u001b[38;5;241m/\u001b[39m\u001b[38;5;241m=\u001b[39m n_samples\n",
      "File \u001b[0;32m~/anaconda3/envs/gpu_torch/lib/python3.12/site-packages/sklearn/mixture/_gaussian_mixture.py:289\u001b[0m, in \u001b[0;36m_estimate_gaussian_parameters\u001b[0;34m(X, resp, reg_covar, covariance_type)\u001b[0m\n\u001b[1;32m    260\u001b[0m \u001b[38;5;250m\u001b[39m\u001b[38;5;124;03m\"\"\"Estimate the Gaussian distribution parameters.\u001b[39;00m\n\u001b[1;32m    261\u001b[0m \n\u001b[1;32m    262\u001b[0m \u001b[38;5;124;03mParameters\u001b[39;00m\n\u001b[0;32m   (...)\u001b[0m\n\u001b[1;32m    286\u001b[0m \u001b[38;5;124;03m    The shape depends of the covariance_type.\u001b[39;00m\n\u001b[1;32m    287\u001b[0m \u001b[38;5;124;03m\"\"\"\u001b[39;00m\n\u001b[1;32m    288\u001b[0m nk \u001b[38;5;241m=\u001b[39m resp\u001b[38;5;241m.\u001b[39msum(axis\u001b[38;5;241m=\u001b[39m\u001b[38;5;241m0\u001b[39m) \u001b[38;5;241m+\u001b[39m \u001b[38;5;241m10\u001b[39m \u001b[38;5;241m*\u001b[39m np\u001b[38;5;241m.\u001b[39mfinfo(resp\u001b[38;5;241m.\u001b[39mdtype)\u001b[38;5;241m.\u001b[39meps\n\u001b[0;32m--> 289\u001b[0m means \u001b[38;5;241m=\u001b[39m \u001b[43mnp\u001b[49m\u001b[38;5;241;43m.\u001b[39;49m\u001b[43mdot\u001b[49m\u001b[43m(\u001b[49m\u001b[43mresp\u001b[49m\u001b[38;5;241;43m.\u001b[39;49m\u001b[43mT\u001b[49m\u001b[43m,\u001b[49m\u001b[43m \u001b[49m\u001b[43mX\u001b[49m\u001b[43m)\u001b[49m \u001b[38;5;241m/\u001b[39m nk[:, np\u001b[38;5;241m.\u001b[39mnewaxis]\n\u001b[1;32m    290\u001b[0m covariances \u001b[38;5;241m=\u001b[39m {\n\u001b[1;32m    291\u001b[0m     \u001b[38;5;124m\"\u001b[39m\u001b[38;5;124mfull\u001b[39m\u001b[38;5;124m\"\u001b[39m: _estimate_gaussian_covariances_full,\n\u001b[1;32m    292\u001b[0m     \u001b[38;5;124m\"\u001b[39m\u001b[38;5;124mtied\u001b[39m\u001b[38;5;124m\"\u001b[39m: _estimate_gaussian_covariances_tied,\n\u001b[1;32m    293\u001b[0m     \u001b[38;5;124m\"\u001b[39m\u001b[38;5;124mdiag\u001b[39m\u001b[38;5;124m\"\u001b[39m: _estimate_gaussian_covariances_diag,\n\u001b[1;32m    294\u001b[0m     \u001b[38;5;124m\"\u001b[39m\u001b[38;5;124mspherical\u001b[39m\u001b[38;5;124m\"\u001b[39m: _estimate_gaussian_covariances_spherical,\n\u001b[1;32m    295\u001b[0m }[covariance_type](resp, X, nk, means, reg_covar)\n\u001b[1;32m    296\u001b[0m \u001b[38;5;28;01mreturn\u001b[39;00m nk, means, covariances\n",
      "\u001b[0;31mKeyboardInterrupt\u001b[0m: "
     ]
    }
   ],
   "source": [
    "augmented_run_ids=[]\n",
    "for rid in base_runs:\n",
    "    for no_gmm in [4, 8, 16, 32, 64, 128]:\n",
    "        extra_flags=f'--augment-old-run-id {rid} --augment-nogmm {no_gmm} '\n",
    "\n",
    "        gmm_label_flags=f\"--run-id {rid} --no-clusters {no_gmm}\"\n",
    "        label_with_gmm(gmm_label_flags.strip())\n",
    "\n",
    "        augmented_model_flags=augmented_common_flags+\" \"+extra_flags\n",
    "        aug_rid=train_model(\n",
    "            augmented_model_flags.strip()\n",
    "        )\n",
    "        augmented_run_ids.append(aug_rid)"
   ]
  },
  {
   "cell_type": "code",
   "execution_count": null,
   "metadata": {},
   "outputs": [
    {
     "data": {
      "text/plain": [
       "array(['yp1n5fb3', 'naj1qrsy', 'pl1wvihn', 's7r181i0', 'fp4lprkj',\n",
       "       'yrq35hmp', 'pxgponas', '31hc2s4t', 'v94f9jmw', '9wa54kna',\n",
       "       'xbpg8ncx', 'kltkp2te', 'z7mdp78e', 'o9t9gt9v', 'qdxqwnrw',\n",
       "       '0zl3ui7x', '7jkmaij6', 'ud4ap40l', '5k1ezsql', 'zkgt4s6x',\n",
       "       'egqyw7yg', '6ixyzjk9', 'ub1h5qr3', '8iea3bxp', '8f9v8z85',\n",
       "       'f80nrp4r', 'b60x4mtc', 'm8n6p80h', '26kyds0s', '628jlwv2',\n",
       "       'dwgw5a3v', '18j6ce86', 'b5pfaja0', 'rwhslx2m', 'gt0rzzmz',\n",
       "       'xscwi8xw', 'kkpuxgtn'], dtype=object)"
      ]
     },
     "execution_count": 11,
     "metadata": {},
     "output_type": "execute_result"
    }
   ],
   "source": [
    "augmented_run_ids"
   ]
  },
  {
   "cell_type": "markdown",
   "metadata": {},
   "source": [
    "### kmeans"
   ]
  },
  {
   "cell_type": "code",
   "execution_count": null,
   "metadata": {},
   "outputs": [],
   "source": [
    "augmented_run_ids=[]\n",
    "\n",
    "augmented_common_flags=f\"--dataset {dataset} --augment-alg kmeans --validation --valid-portion 0.1 --step 2 --lr-dc-step 2 --patience 4 --augment-matrix --augment-std 0.01 --augment-normalize --augment-p 0.5 --l2 0.000001 --augment-noise-p 0.5\"\n",
    "for rid in base_runs:\n",
    "    extra_flags=f'--augment-old-run-id {rid} --augment-nogmm {8} '\n",
    "\n",
    "    gmm_label_flags=f\"--run-id {rid} --no-clusters {8}\"\n",
    "    label_with_kmeans(gmm_label_flags.strip())\n",
    "\n",
    "    augmented_model_flags=augmented_common_flags+\" \"+extra_flags\n",
    "    aug_rid=train_model(\n",
    "        augmented_model_flags.strip()\n",
    "    )\n",
    "    augmented_run_ids.append(aug_rid)\n",
    "\n"
   ]
  },
  {
   "cell_type": "markdown",
   "metadata": {},
   "source": [
    "### categories"
   ]
  },
  {
   "cell_type": "code",
   "execution_count": null,
   "metadata": {},
   "outputs": [],
   "source": [
    "augmented_run_ids=[]\n",
    "augmented_common_flags=f\"--dataset {dataset} --augment-alg categories --validation --valid-portion 0.1 --step 2 --lr-dc-step 2 --patience 4 --augment-matrix --augment-std 0.01 --augment-normalize --augment-p 0.5 --l2 0.000001 --augment-noise-p 0.5\"\n",
    "for rid in base_runs:\n",
    "    extra_flags=f'--augment-old-run-id {rid}'\n",
    "\n",
    "    gmm_label_flags=f\"--run-id {rid}\"\n",
    "    label_with_categories(gmm_label_flags.strip())\n",
    "\n",
    "    augmented_model_flags=augmented_common_flags+\" \"+extra_flags\n",
    "    aug_rid=train_model(\n",
    "        augmented_model_flags.strip()\n",
    "    )\n",
    "    augmented_run_ids.append(aug_rid)"
   ]
  },
  {
   "cell_type": "code",
   "execution_count": null,
   "metadata": {},
   "outputs": [
    {
     "ename": "NameError",
     "evalue": "name 'augmented_run_ids' is not defined",
     "output_type": "error",
     "traceback": [
      "\u001b[0;31m---------------------------------------------------------------------------\u001b[0m",
      "\u001b[0;31mNameError\u001b[0m                                 Traceback (most recent call last)",
      "Cell \u001b[0;32mIn[3], line 1\u001b[0m\n\u001b[0;32m----> 1\u001b[0m \u001b[43maugmented_run_ids\u001b[49m\n",
      "\u001b[0;31mNameError\u001b[0m: name 'augmented_run_ids' is not defined"
     ]
    }
   ],
   "source": [
    "augmented_run_ids"
   ]
  },
  {
   "cell_type": "code",
   "execution_count": null,
   "metadata": {},
   "outputs": [
    {
     "data": {
      "text/plain": [
       "['uxt9w9tv', '1qly30ga', 'y7yqfh84', '6i71w436']"
      ]
     },
     "execution_count": 7,
     "metadata": {},
     "output_type": "execute_result"
    }
   ],
   "source": [
    "augmented_run_ids"
   ]
  },
  {
   "cell_type": "markdown",
   "metadata": {},
   "source": [
    "## i2i distance"
   ]
  },
  {
   "cell_type": "code",
   "execution_count": null,
   "metadata": {},
   "outputs": [
    {
     "name": "stdout",
     "output_type": "stream",
     "text": [
      "Namespace(dataset='diginetica', batchSize=100, hiddenSize=100, epoch=30, lr=0.001, lr_dc=0.1, lr_dc_step=2, lr_milestones=[2, 5, 8], l2=1e-06, step=2, patience=4, nonhybrid=False, validation=True, valid_portion=0.1, pretrained_embeddings=False, unfreeze_epoch=0, gmm=[], weight_init='normal', augment_matrix=True, augment_clusters=False, augment_old_run_id='qm2ur7o3', augment_clip=0, augment_normalize=False, augment_raw=False, augment_p=1.0, augment_noise_p=0.5, augment_mean=0.01, augment_std=0.01, augment_categories=False, augment_nogmm=16, augment_gmm_init='k-means++', lr_scheduler='step', augment_prenormalize_distances=False, augment_alg='raw')\n",
      "{'dataset': 'diginetica', 'batchSize': 100, 'hiddenSize': 100, 'epoch': 30, 'lr': 0.001, 'lr_dc': 0.1, 'lr_dc_step': 2, 'l2': 1e-05, 'step': 2, 'patience': 5, 'nonhybrid': False, 'validation': True, 'valid_portion': 0.1, 'pretrained_embedings': False, 'unfreeze_epoch': 0, 'gmm': [], 'augment_matrix': False, 'augment_clusters': False, 'augment_old_run_id': None, 'augment_clip': 0, 'augment_normalize': False, 'augment_raw': False, 'weight_init': 'normal', 'augment_categories': False, 'augment_nogmm': 16, 'augment_p': 1.0, 'augment_mean': 0.01, 'augment_std': 0.0, 'augment_gmm_init': 'k-means++', 'augment_prenormalize_distances': False, 'augment_noise_p': 1.0, 'augment_alg': 'gmm', 'gmm_covariance_type': 'full', 'gmm_tol': 0.001}\n",
      "data masking start\n"
     ]
    },
    {
     "name": "stderr",
     "output_type": "stream",
     "text": [
      "100%|██████████| 64/64 [00:06<00:00,  9.58it/s]\n"
     ]
    },
    {
     "name": "stdout",
     "output_type": "stream",
     "text": [
      "done masking\n",
      "data masking start\n"
     ]
    },
    {
     "name": "stderr",
     "output_type": "stream",
     "text": [
      "100%|██████████| 64/64 [00:00<00:00, 185.59it/s]\n",
      "GPU available: True (cuda), used: True\n",
      "TPU available: False, using: 0 TPU cores\n",
      "IPU available: False, using: 0 IPUs\n",
      "HPU available: False, using: 0 HPUs\n"
     ]
    },
    {
     "name": "stdout",
     "output_type": "stream",
     "text": [
      "done masking\n"
     ]
    },
    {
     "data": {
      "text/html": [
       "wandb version 0.18.3 is available!  To upgrade, please run:\n",
       " $ pip install wandb --upgrade"
      ],
      "text/plain": [
       "<IPython.core.display.HTML object>"
      ]
     },
     "metadata": {},
     "output_type": "display_data"
    },
    {
     "data": {
      "text/html": [
       "Tracking run with wandb version 0.16.3"
      ],
      "text/plain": [
       "<IPython.core.display.HTML object>"
      ]
     },
     "metadata": {},
     "output_type": "display_data"
    },
    {
     "data": {
      "text/html": [
       "Run data is saved locally in <code>/home/kacper/GNN_Master/srgnn/wandb/run-20241006_141410-s2qhugqc</code>"
      ],
      "text/plain": [
       "<IPython.core.display.HTML object>"
      ]
     },
     "metadata": {},
     "output_type": "display_data"
    },
    {
     "data": {
      "text/html": [
       "Syncing run <strong><a href='https://wandb.ai/kpuchalskixiv/GNN_master/runs/s2qhugqc' target=\"_blank\">driven-dew-706</a></strong> to <a href='https://wandb.ai/kpuchalskixiv/GNN_master' target=\"_blank\">Weights & Biases</a> (<a href='https://wandb.me/run' target=\"_blank\">docs</a>)<br/>"
      ],
      "text/plain": [
       "<IPython.core.display.HTML object>"
      ]
     },
     "metadata": {},
     "output_type": "display_data"
    },
    {
     "data": {
      "text/html": [
       " View project at <a href='https://wandb.ai/kpuchalskixiv/GNN_master' target=\"_blank\">https://wandb.ai/kpuchalskixiv/GNN_master</a>"
      ],
      "text/plain": [
       "<IPython.core.display.HTML object>"
      ]
     },
     "metadata": {},
     "output_type": "display_data"
    },
    {
     "data": {
      "text/html": [
       " View run at <a href='https://wandb.ai/kpuchalskixiv/GNN_master/runs/s2qhugqc' target=\"_blank\">https://wandb.ai/kpuchalskixiv/GNN_master/runs/s2qhugqc</a>"
      ],
      "text/plain": [
       "<IPython.core.display.HTML object>"
      ]
     },
     "metadata": {},
     "output_type": "display_data"
    },
    {
     "name": "stderr",
     "output_type": "stream",
     "text": [
      "/home/kacper/anaconda3/envs/gpu_torch/lib/python3.12/site-packages/pytorch_lightning/loggers/wandb.py:390: There is a wandb run already in progress and newly created instances of `WandbLogger` will reuse this run. If this is not desired, call `wandb.finish()` before instantiating `WandbLogger`.\n",
      "LOCAL_RANK: 0 - CUDA_VISIBLE_DEVICES: [0]\n",
      "\n",
      "  | Name  | Type         | Params\n",
      "---------------------------------------\n",
      "0 | model | SessionGraph | 4.5 M \n",
      "---------------------------------------\n",
      "4.5 M     Trainable params\n",
      "0         Non-trainable params\n",
      "4.5 M     Total params\n",
      "17.885    Total estimated model params size (MB)\n"
     ]
    },
    {
     "name": "stdout",
     "output_type": "stream",
     "text": [
      "Epoch 9: 100%|██████████| 6475/6475 [03:21<00:00, 32.12it/s, v_num=ugqc, train_loss=3.770, val_loss=5.310, val_hit=55.40, val_mrr=19.90]\n",
      "Finished training. Run id:  s2qhugqc\n"
     ]
    },
    {
     "name": "stderr",
     "output_type": "stream",
     "text": [
      "wandb: WARNING Source type is set to 'repo' but some required information is missing from the environment. A job will not be created from this run. See https://docs.wandb.ai/guides/launch/create-job\n"
     ]
    },
    {
     "data": {
      "text/html": [
       "<style>\n",
       "    table.wandb td:nth-child(1) { padding: 0 10px; text-align: left ; width: auto;} td:nth-child(2) {text-align: left ; width: 100%}\n",
       "    .wandb-row { display: flex; flex-direction: row; flex-wrap: wrap; justify-content: flex-start; width: 100% }\n",
       "    .wandb-col { display: flex; flex-direction: column; flex-basis: 100%; flex: 1; padding: 10px; }\n",
       "    </style>\n",
       "<div class=\"wandb-row\"><div class=\"wandb-col\"><h3>Run history:</h3><br/><table class=\"wandb\"><tr><td>epoch</td><td>▁▁▁▁▂▂▂▂▃▃▃▃▃▃▃▃▄▄▄▄▅▅▅▅▆▆▆▆▆▆▆▆▇▇▇▇████</td></tr><tr><td>scheduler_lr</td><td>██▂▂▁▁▁▁▁▁</td></tr><tr><td>train_loss</td><td>█▅▄▃▃▃▄▃▂▂▂▂▂▂▂▂▂▂▁▂▂▂▁▂▂▂▂▂▂▁▂▂▂▁▂▂▂▁▁▂</td></tr><tr><td>trainer/global_step</td><td>▁▁▁▂▂▂▂▂▂▃▃▃▃▃▄▄▄▄▄▄▅▅▅▅▅▅▆▆▆▆▆▇▇▇▇▇▇███</td></tr><tr><td>val_hit</td><td>▁▄████████</td></tr><tr><td>val_loss</td><td>█▄▁▁▁▁▁▁▁▁</td></tr><tr><td>val_mrr</td><td>▁▄████████</td></tr></table><br/></div><div class=\"wandb-col\"><h3>Run summary:</h3><br/><table class=\"wandb\"><tr><td>epoch</td><td>9</td></tr><tr><td>scheduler_lr</td><td>0.0</td></tr><tr><td>train_loss</td><td>3.77441</td></tr><tr><td>trainer/global_step</td><td>64749</td></tr></table><br/></div></div>"
      ],
      "text/plain": [
       "<IPython.core.display.HTML object>"
      ]
     },
     "metadata": {},
     "output_type": "display_data"
    },
    {
     "data": {
      "text/html": [
       " View run <strong style=\"color:#cdcd00\">driven-dew-706</strong> at: <a href='https://wandb.ai/kpuchalskixiv/GNN_master/runs/s2qhugqc' target=\"_blank\">https://wandb.ai/kpuchalskixiv/GNN_master/runs/s2qhugqc</a><br/>Synced 6 W&B file(s), 0 media file(s), 1 artifact file(s) and 0 other file(s)"
      ],
      "text/plain": [
       "<IPython.core.display.HTML object>"
      ]
     },
     "metadata": {},
     "output_type": "display_data"
    },
    {
     "data": {
      "text/html": [
       "Find logs at: <code>./wandb/run-20241006_141410-s2qhugqc/logs</code>"
      ],
      "text/plain": [
       "<IPython.core.display.HTML object>"
      ]
     },
     "metadata": {},
     "output_type": "display_data"
    },
    {
     "name": "stdout",
     "output_type": "stream",
     "text": [
      "Namespace(dataset='diginetica', batchSize=100, hiddenSize=100, epoch=30, lr=0.001, lr_dc=0.1, lr_dc_step=2, lr_milestones=[2, 5, 8], l2=1e-06, step=2, patience=4, nonhybrid=False, validation=True, valid_portion=0.1, pretrained_embeddings=False, unfreeze_epoch=0, gmm=[], weight_init='normal', augment_matrix=True, augment_clusters=False, augment_old_run_id='3abge2uq', augment_clip=0, augment_normalize=False, augment_raw=False, augment_p=1.0, augment_noise_p=0.5, augment_mean=0.01, augment_std=0.01, augment_categories=False, augment_nogmm=16, augment_gmm_init='k-means++', lr_scheduler='step', augment_prenormalize_distances=False, augment_alg='raw')\n",
      "{'dataset': 'diginetica', 'batchSize': 100, 'hiddenSize': 100, 'epoch': 30, 'lr': 0.001, 'lr_dc': 0.1, 'lr_dc_step': 2, 'l2': 1e-05, 'step': 2, 'patience': 5, 'nonhybrid': False, 'validation': True, 'valid_portion': 0.1, 'pretrained_embedings': False, 'unfreeze_epoch': 0, 'gmm': [2, 4, 8, 16], 'augment_matrix': False, 'augment_clusters': False, 'augment_old_run_id': None, 'augment_clip': 0, 'augment_normalize': False, 'augment_raw': False, 'weight_init': 'normal', 'augment_categories': False, 'augment_nogmm': 16, 'augment_p': 1.0, 'augment_mean': 0.01, 'augment_std': 0.0, 'augment_gmm_init': 'k-means++', 'augment_prenormalize_distances': False, 'augment_noise_p': 1, 'augment_alg': 'gmm', 'gmm_covariance_type': 'full', 'gmm_tol': 0.001}\n",
      "data masking start\n"
     ]
    },
    {
     "name": "stderr",
     "output_type": "stream",
     "text": [
      "100%|██████████| 64/64 [00:06<00:00,  9.83it/s]\n"
     ]
    },
    {
     "name": "stdout",
     "output_type": "stream",
     "text": [
      "done masking\n",
      "data masking start\n"
     ]
    },
    {
     "name": "stderr",
     "output_type": "stream",
     "text": [
      "100%|██████████| 64/64 [00:00<00:00, 214.88it/s]\n",
      "GPU available: True (cuda), used: True\n",
      "TPU available: False, using: 0 TPU cores\n",
      "IPU available: False, using: 0 IPUs\n",
      "HPU available: False, using: 0 HPUs\n"
     ]
    },
    {
     "name": "stdout",
     "output_type": "stream",
     "text": [
      "done masking\n"
     ]
    },
    {
     "data": {
      "text/html": [
       "wandb version 0.18.3 is available!  To upgrade, please run:\n",
       " $ pip install wandb --upgrade"
      ],
      "text/plain": [
       "<IPython.core.display.HTML object>"
      ]
     },
     "metadata": {},
     "output_type": "display_data"
    },
    {
     "data": {
      "text/html": [
       "Tracking run with wandb version 0.16.3"
      ],
      "text/plain": [
       "<IPython.core.display.HTML object>"
      ]
     },
     "metadata": {},
     "output_type": "display_data"
    },
    {
     "data": {
      "text/html": [
       "Run data is saved locally in <code>/home/kacper/GNN_Master/srgnn/wandb/run-20241006_144810-1jvw1mc3</code>"
      ],
      "text/plain": [
       "<IPython.core.display.HTML object>"
      ]
     },
     "metadata": {},
     "output_type": "display_data"
    },
    {
     "data": {
      "text/html": [
       "Syncing run <strong><a href='https://wandb.ai/kpuchalskixiv/GNN_master/runs/1jvw1mc3' target=\"_blank\">avid-smoke-708</a></strong> to <a href='https://wandb.ai/kpuchalskixiv/GNN_master' target=\"_blank\">Weights & Biases</a> (<a href='https://wandb.me/run' target=\"_blank\">docs</a>)<br/>"
      ],
      "text/plain": [
       "<IPython.core.display.HTML object>"
      ]
     },
     "metadata": {},
     "output_type": "display_data"
    },
    {
     "data": {
      "text/html": [
       " View project at <a href='https://wandb.ai/kpuchalskixiv/GNN_master' target=\"_blank\">https://wandb.ai/kpuchalskixiv/GNN_master</a>"
      ],
      "text/plain": [
       "<IPython.core.display.HTML object>"
      ]
     },
     "metadata": {},
     "output_type": "display_data"
    },
    {
     "data": {
      "text/html": [
       " View run at <a href='https://wandb.ai/kpuchalskixiv/GNN_master/runs/1jvw1mc3' target=\"_blank\">https://wandb.ai/kpuchalskixiv/GNN_master/runs/1jvw1mc3</a>"
      ],
      "text/plain": [
       "<IPython.core.display.HTML object>"
      ]
     },
     "metadata": {},
     "output_type": "display_data"
    },
    {
     "name": "stderr",
     "output_type": "stream",
     "text": [
      "/home/kacper/anaconda3/envs/gpu_torch/lib/python3.12/site-packages/pytorch_lightning/loggers/wandb.py:390: There is a wandb run already in progress and newly created instances of `WandbLogger` will reuse this run. If this is not desired, call `wandb.finish()` before instantiating `WandbLogger`.\n",
      "LOCAL_RANK: 0 - CUDA_VISIBLE_DEVICES: [0]\n",
      "\n",
      "  | Name  | Type         | Params\n",
      "---------------------------------------\n",
      "0 | model | SessionGraph | 4.5 M \n",
      "---------------------------------------\n",
      "4.5 M     Trainable params\n",
      "0         Non-trainable params\n",
      "4.5 M     Total params\n",
      "17.885    Total estimated model params size (MB)\n"
     ]
    },
    {
     "name": "stdout",
     "output_type": "stream",
     "text": [
      "Epoch 9: 100%|██████████| 6475/6475 [03:55<00:00, 27.47it/s, v_num=1mc3, train_loss=4.030, val_loss=5.310, val_hit=55.70, val_mrr=19.90]\n",
      "Finished training. Run id:  1jvw1mc3\n"
     ]
    },
    {
     "name": "stderr",
     "output_type": "stream",
     "text": [
      "wandb: WARNING Source type is set to 'repo' but some required information is missing from the environment. A job will not be created from this run. See https://docs.wandb.ai/guides/launch/create-job\n"
     ]
    },
    {
     "data": {
      "text/html": [
       "<style>\n",
       "    table.wandb td:nth-child(1) { padding: 0 10px; text-align: left ; width: auto;} td:nth-child(2) {text-align: left ; width: 100%}\n",
       "    .wandb-row { display: flex; flex-direction: row; flex-wrap: wrap; justify-content: flex-start; width: 100% }\n",
       "    .wandb-col { display: flex; flex-direction: column; flex-basis: 100%; flex: 1; padding: 10px; }\n",
       "    </style>\n",
       "<div class=\"wandb-row\"><div class=\"wandb-col\"><h3>Run history:</h3><br/><table class=\"wandb\"><tr><td>epoch</td><td>▁▁▁▁▂▂▂▂▃▃▃▃▃▃▃▃▄▄▄▄▅▅▅▅▆▆▆▆▆▆▆▆▇▇▇▇████</td></tr><tr><td>scheduler_lr</td><td>██▂▂▁▁▁▁▁▁</td></tr><tr><td>train_loss</td><td>█▅▄▄▃▃▃▃▂▂▂▂▂▂▂▂▁▂▂▁▂▂▁▂▂▁▁▂▁▁▂▂▁▂▁▁▂▂▁▂</td></tr><tr><td>trainer/global_step</td><td>▁▁▁▂▂▂▂▂▂▃▃▃▃▃▄▄▄▄▄▄▅▅▅▅▅▅▆▆▆▆▆▇▇▇▇▇▇███</td></tr><tr><td>val_hit</td><td>▁▄████████</td></tr><tr><td>val_loss</td><td>█▄▁▁▂▂▂▂▂▂</td></tr><tr><td>val_mrr</td><td>▁▄████████</td></tr></table><br/></div><div class=\"wandb-col\"><h3>Run summary:</h3><br/><table class=\"wandb\"><tr><td>epoch</td><td>9</td></tr><tr><td>scheduler_lr</td><td>0.0</td></tr><tr><td>train_loss</td><td>4.02946</td></tr><tr><td>trainer/global_step</td><td>64749</td></tr></table><br/></div></div>"
      ],
      "text/plain": [
       "<IPython.core.display.HTML object>"
      ]
     },
     "metadata": {},
     "output_type": "display_data"
    },
    {
     "data": {
      "text/html": [
       " View run <strong style=\"color:#cdcd00\">avid-smoke-708</strong> at: <a href='https://wandb.ai/kpuchalskixiv/GNN_master/runs/1jvw1mc3' target=\"_blank\">https://wandb.ai/kpuchalskixiv/GNN_master/runs/1jvw1mc3</a><br/>Synced 6 W&B file(s), 0 media file(s), 1 artifact file(s) and 0 other file(s)"
      ],
      "text/plain": [
       "<IPython.core.display.HTML object>"
      ]
     },
     "metadata": {},
     "output_type": "display_data"
    },
    {
     "data": {
      "text/html": [
       "Find logs at: <code>./wandb/run-20241006_144810-1jvw1mc3/logs</code>"
      ],
      "text/plain": [
       "<IPython.core.display.HTML object>"
      ]
     },
     "metadata": {},
     "output_type": "display_data"
    },
    {
     "name": "stdout",
     "output_type": "stream",
     "text": [
      "Namespace(dataset='diginetica', batchSize=100, hiddenSize=100, epoch=30, lr=0.001, lr_dc=0.1, lr_dc_step=2, lr_milestones=[2, 5, 8], l2=1e-06, step=2, patience=4, nonhybrid=False, validation=True, valid_portion=0.1, pretrained_embeddings=False, unfreeze_epoch=0, gmm=[], weight_init='normal', augment_matrix=True, augment_clusters=False, augment_old_run_id='4dm99qnd', augment_clip=0, augment_normalize=False, augment_raw=False, augment_p=1.0, augment_noise_p=0.5, augment_mean=0.01, augment_std=0.01, augment_categories=False, augment_nogmm=16, augment_gmm_init='k-means++', lr_scheduler='step', augment_prenormalize_distances=False, augment_alg='raw')\n",
      "{'dataset': 'diginetica', 'batchSize': 100, 'hiddenSize': 100, 'epoch': 30, 'lr': 0.001, 'lr_dc': 0.1, 'lr_dc_step': 2, 'l2': 1e-05, 'step': 2, 'patience': 5, 'nonhybrid': False, 'validation': True, 'valid_portion': 0.1, 'pretrained_embedings': False, 'unfreeze_epoch': 0, 'gmm': True, 'augment_matrix': False, 'augment_clusters': False, 'augment_old_run_id': None, 'augment_clip': 0, 'augment_normalize': False, 'augment_raw': False, 'weight_init': 'normal', 'augment_categories': False, 'augment_nogmm': 16, 'augment_p': 1.0, 'augment_mean': 0.01, 'augment_std': 0.0, 'augment_gmm_init': 'k-means++', 'augment_prenormalize_distances': False, 'augment_noise_p': 1, 'augment_alg': 'gmm', 'gmm_covariance_type': 'full', 'gmm_tol': 0.001}\n",
      "data masking start\n"
     ]
    },
    {
     "name": "stderr",
     "output_type": "stream",
     "text": [
      "100%|██████████| 64/64 [00:07<00:00,  8.49it/s]\n"
     ]
    },
    {
     "name": "stdout",
     "output_type": "stream",
     "text": [
      "done masking\n",
      "data masking start\n"
     ]
    },
    {
     "name": "stderr",
     "output_type": "stream",
     "text": [
      "100%|██████████| 64/64 [00:00<00:00, 147.11it/s]\n",
      "GPU available: True (cuda), used: True\n",
      "TPU available: False, using: 0 TPU cores\n",
      "IPU available: False, using: 0 IPUs\n",
      "HPU available: False, using: 0 HPUs\n"
     ]
    },
    {
     "name": "stdout",
     "output_type": "stream",
     "text": [
      "done masking\n"
     ]
    },
    {
     "data": {
      "text/html": [
       "wandb version 0.18.3 is available!  To upgrade, please run:\n",
       " $ pip install wandb --upgrade"
      ],
      "text/plain": [
       "<IPython.core.display.HTML object>"
      ]
     },
     "metadata": {},
     "output_type": "display_data"
    },
    {
     "data": {
      "text/html": [
       "Tracking run with wandb version 0.16.3"
      ],
      "text/plain": [
       "<IPython.core.display.HTML object>"
      ]
     },
     "metadata": {},
     "output_type": "display_data"
    },
    {
     "data": {
      "text/html": [
       "Run data is saved locally in <code>/home/kacper/GNN_Master/srgnn/wandb/run-20241006_152710-gpx6kyhh</code>"
      ],
      "text/plain": [
       "<IPython.core.display.HTML object>"
      ]
     },
     "metadata": {},
     "output_type": "display_data"
    },
    {
     "data": {
      "text/html": [
       "Syncing run <strong><a href='https://wandb.ai/kpuchalskixiv/GNN_master/runs/gpx6kyhh' target=\"_blank\">grateful-forest-710</a></strong> to <a href='https://wandb.ai/kpuchalskixiv/GNN_master' target=\"_blank\">Weights & Biases</a> (<a href='https://wandb.me/run' target=\"_blank\">docs</a>)<br/>"
      ],
      "text/plain": [
       "<IPython.core.display.HTML object>"
      ]
     },
     "metadata": {},
     "output_type": "display_data"
    },
    {
     "data": {
      "text/html": [
       " View project at <a href='https://wandb.ai/kpuchalskixiv/GNN_master' target=\"_blank\">https://wandb.ai/kpuchalskixiv/GNN_master</a>"
      ],
      "text/plain": [
       "<IPython.core.display.HTML object>"
      ]
     },
     "metadata": {},
     "output_type": "display_data"
    },
    {
     "data": {
      "text/html": [
       " View run at <a href='https://wandb.ai/kpuchalskixiv/GNN_master/runs/gpx6kyhh' target=\"_blank\">https://wandb.ai/kpuchalskixiv/GNN_master/runs/gpx6kyhh</a>"
      ],
      "text/plain": [
       "<IPython.core.display.HTML object>"
      ]
     },
     "metadata": {},
     "output_type": "display_data"
    },
    {
     "name": "stderr",
     "output_type": "stream",
     "text": [
      "/home/kacper/anaconda3/envs/gpu_torch/lib/python3.12/site-packages/pytorch_lightning/loggers/wandb.py:390: There is a wandb run already in progress and newly created instances of `WandbLogger` will reuse this run. If this is not desired, call `wandb.finish()` before instantiating `WandbLogger`.\n",
      "LOCAL_RANK: 0 - CUDA_VISIBLE_DEVICES: [0]\n",
      "\n",
      "  | Name  | Type         | Params\n",
      "---------------------------------------\n",
      "0 | model | SessionGraph | 4.5 M \n",
      "---------------------------------------\n",
      "4.5 M     Trainable params\n",
      "0         Non-trainable params\n",
      "4.5 M     Total params\n",
      "17.885    Total estimated model params size (MB)\n"
     ]
    },
    {
     "name": "stdout",
     "output_type": "stream",
     "text": [
      "Epoch 9: 100%|██████████| 6475/6475 [03:25<00:00, 31.54it/s, v_num=kyhh, train_loss=4.230, val_loss=5.340, val_hit=55.30, val_mrr=19.80]\n",
      "Finished training. Run id:  gpx6kyhh\n"
     ]
    },
    {
     "name": "stderr",
     "output_type": "stream",
     "text": [
      "wandb: WARNING Source type is set to 'repo' but some required information is missing from the environment. A job will not be created from this run. See https://docs.wandb.ai/guides/launch/create-job\n"
     ]
    },
    {
     "data": {
      "text/html": [
       "<style>\n",
       "    table.wandb td:nth-child(1) { padding: 0 10px; text-align: left ; width: auto;} td:nth-child(2) {text-align: left ; width: 100%}\n",
       "    .wandb-row { display: flex; flex-direction: row; flex-wrap: wrap; justify-content: flex-start; width: 100% }\n",
       "    .wandb-col { display: flex; flex-direction: column; flex-basis: 100%; flex: 1; padding: 10px; }\n",
       "    </style>\n",
       "<div class=\"wandb-row\"><div class=\"wandb-col\"><h3>Run history:</h3><br/><table class=\"wandb\"><tr><td>epoch</td><td>▁▁▁▁▂▂▂▂▃▃▃▃▃▃▃▃▄▄▄▄▅▅▅▅▆▆▆▆▆▆▆▆▇▇▇▇████</td></tr><tr><td>scheduler_lr</td><td>██▂▂▁▁▁▁▁▁</td></tr><tr><td>train_loss</td><td>█▅▄▄▃▃▃▃▂▂▂▁▂▂▂▂▂▁▁▁▁▂▂▂▁▁▂▂▂▁▂▁▂▂▂▂▁▂▂▂</td></tr><tr><td>trainer/global_step</td><td>▁▁▁▂▂▂▂▂▂▃▃▃▃▃▄▄▄▄▄▄▅▅▅▅▅▅▆▆▆▆▆▇▇▇▇▇▇███</td></tr><tr><td>val_hit</td><td>▁▄████████</td></tr><tr><td>val_loss</td><td>█▄▁▁▁▁▁▂▂▂</td></tr><tr><td>val_mrr</td><td>▁▄████████</td></tr></table><br/></div><div class=\"wandb-col\"><h3>Run summary:</h3><br/><table class=\"wandb\"><tr><td>epoch</td><td>9</td></tr><tr><td>scheduler_lr</td><td>0.0</td></tr><tr><td>train_loss</td><td>4.22963</td></tr><tr><td>trainer/global_step</td><td>64749</td></tr></table><br/></div></div>"
      ],
      "text/plain": [
       "<IPython.core.display.HTML object>"
      ]
     },
     "metadata": {},
     "output_type": "display_data"
    },
    {
     "data": {
      "text/html": [
       " View run <strong style=\"color:#cdcd00\">grateful-forest-710</strong> at: <a href='https://wandb.ai/kpuchalskixiv/GNN_master/runs/gpx6kyhh' target=\"_blank\">https://wandb.ai/kpuchalskixiv/GNN_master/runs/gpx6kyhh</a><br/>Synced 6 W&B file(s), 0 media file(s), 1 artifact file(s) and 0 other file(s)"
      ],
      "text/plain": [
       "<IPython.core.display.HTML object>"
      ]
     },
     "metadata": {},
     "output_type": "display_data"
    },
    {
     "data": {
      "text/html": [
       "Find logs at: <code>./wandb/run-20241006_152710-gpx6kyhh/logs</code>"
      ],
      "text/plain": [
       "<IPython.core.display.HTML object>"
      ]
     },
     "metadata": {},
     "output_type": "display_data"
    },
    {
     "name": "stdout",
     "output_type": "stream",
     "text": [
      "Namespace(dataset='diginetica', batchSize=100, hiddenSize=100, epoch=30, lr=0.001, lr_dc=0.1, lr_dc_step=2, lr_milestones=[2, 5, 8], l2=1e-06, step=2, patience=4, nonhybrid=False, validation=True, valid_portion=0.1, pretrained_embeddings=False, unfreeze_epoch=0, gmm=[], weight_init='normal', augment_matrix=True, augment_clusters=False, augment_old_run_id='jxgwsuta', augment_clip=0, augment_normalize=False, augment_raw=False, augment_p=1.0, augment_noise_p=0.5, augment_mean=0.01, augment_std=0.01, augment_categories=False, augment_nogmm=16, augment_gmm_init='k-means++', lr_scheduler='step', augment_prenormalize_distances=False, augment_alg='raw')\n",
      "{'dataset': 'diginetica', 'batchSize': 100, 'hiddenSize': 100, 'epoch': 30, 'lr': 0.001, 'lr_dc': 0.1, 'lr_dc_step': 2, 'l2': 1e-05, 'step': 2, 'patience': 5, 'nonhybrid': False, 'validation': True, 'valid_portion': 0.1, 'pretrained_embedings': False, 'unfreeze_epoch': 0, 'gmm': True, 'augment_matrix': False, 'augment_clusters': False, 'augment_old_run_id': None, 'augment_clip': 0, 'augment_normalize': False, 'augment_raw': False, 'weight_init': 'normal', 'augment_categories': False, 'augment_nogmm': 16, 'augment_p': 1.0, 'augment_mean': 0.01, 'augment_std': 0.0, 'augment_gmm_init': 'k-means++', 'augment_prenormalize_distances': False, 'augment_noise_p': 1, 'augment_alg': 'gmm', 'gmm_covariance_type': 'full', 'gmm_tol': 0.001}\n",
      "data masking start\n"
     ]
    },
    {
     "name": "stderr",
     "output_type": "stream",
     "text": [
      "100%|██████████| 64/64 [00:06<00:00,  9.42it/s]\n"
     ]
    },
    {
     "name": "stdout",
     "output_type": "stream",
     "text": [
      "done masking\n",
      "data masking start\n"
     ]
    },
    {
     "name": "stderr",
     "output_type": "stream",
     "text": [
      "100%|██████████| 64/64 [00:00<00:00, 185.87it/s]\n",
      "GPU available: True (cuda), used: True\n",
      "TPU available: False, using: 0 TPU cores\n",
      "IPU available: False, using: 0 IPUs\n",
      "HPU available: False, using: 0 HPUs\n"
     ]
    },
    {
     "name": "stdout",
     "output_type": "stream",
     "text": [
      "done masking\n"
     ]
    },
    {
     "data": {
      "text/html": [
       "wandb version 0.18.3 is available!  To upgrade, please run:\n",
       " $ pip install wandb --upgrade"
      ],
      "text/plain": [
       "<IPython.core.display.HTML object>"
      ]
     },
     "metadata": {},
     "output_type": "display_data"
    },
    {
     "data": {
      "text/html": [
       "Tracking run with wandb version 0.16.3"
      ],
      "text/plain": [
       "<IPython.core.display.HTML object>"
      ]
     },
     "metadata": {},
     "output_type": "display_data"
    },
    {
     "data": {
      "text/html": [
       "Run data is saved locally in <code>/home/kacper/GNN_Master/srgnn/wandb/run-20241006_160413-vx4bvbxf</code>"
      ],
      "text/plain": [
       "<IPython.core.display.HTML object>"
      ]
     },
     "metadata": {},
     "output_type": "display_data"
    },
    {
     "data": {
      "text/html": [
       "Syncing run <strong><a href='https://wandb.ai/kpuchalskixiv/GNN_master/runs/vx4bvbxf' target=\"_blank\">fluent-monkey-712</a></strong> to <a href='https://wandb.ai/kpuchalskixiv/GNN_master' target=\"_blank\">Weights & Biases</a> (<a href='https://wandb.me/run' target=\"_blank\">docs</a>)<br/>"
      ],
      "text/plain": [
       "<IPython.core.display.HTML object>"
      ]
     },
     "metadata": {},
     "output_type": "display_data"
    },
    {
     "data": {
      "text/html": [
       " View project at <a href='https://wandb.ai/kpuchalskixiv/GNN_master' target=\"_blank\">https://wandb.ai/kpuchalskixiv/GNN_master</a>"
      ],
      "text/plain": [
       "<IPython.core.display.HTML object>"
      ]
     },
     "metadata": {},
     "output_type": "display_data"
    },
    {
     "data": {
      "text/html": [
       " View run at <a href='https://wandb.ai/kpuchalskixiv/GNN_master/runs/vx4bvbxf' target=\"_blank\">https://wandb.ai/kpuchalskixiv/GNN_master/runs/vx4bvbxf</a>"
      ],
      "text/plain": [
       "<IPython.core.display.HTML object>"
      ]
     },
     "metadata": {},
     "output_type": "display_data"
    },
    {
     "name": "stderr",
     "output_type": "stream",
     "text": [
      "/home/kacper/anaconda3/envs/gpu_torch/lib/python3.12/site-packages/pytorch_lightning/loggers/wandb.py:390: There is a wandb run already in progress and newly created instances of `WandbLogger` will reuse this run. If this is not desired, call `wandb.finish()` before instantiating `WandbLogger`.\n",
      "LOCAL_RANK: 0 - CUDA_VISIBLE_DEVICES: [0]\n",
      "\n",
      "  | Name  | Type         | Params\n",
      "---------------------------------------\n",
      "0 | model | SessionGraph | 4.5 M \n",
      "---------------------------------------\n",
      "4.5 M     Trainable params\n",
      "0         Non-trainable params\n",
      "4.5 M     Total params\n",
      "17.885    Total estimated model params size (MB)\n"
     ]
    },
    {
     "name": "stdout",
     "output_type": "stream",
     "text": [
      "Epoch 14: 100%|██████████| 6475/6475 [02:18<00:00, 46.74it/s, v_num=vbxf, train_loss=4.560, val_loss=5.310, val_hit=55.40, val_mrr=19.90]\n",
      "Finished training. Run id:  vx4bvbxf\n"
     ]
    },
    {
     "name": "stderr",
     "output_type": "stream",
     "text": [
      "wandb: WARNING Source type is set to 'repo' but some required information is missing from the environment. A job will not be created from this run. See https://docs.wandb.ai/guides/launch/create-job\n"
     ]
    },
    {
     "data": {
      "text/html": [
       "<style>\n",
       "    table.wandb td:nth-child(1) { padding: 0 10px; text-align: left ; width: auto;} td:nth-child(2) {text-align: left ; width: 100%}\n",
       "    .wandb-row { display: flex; flex-direction: row; flex-wrap: wrap; justify-content: flex-start; width: 100% }\n",
       "    .wandb-col { display: flex; flex-direction: column; flex-basis: 100%; flex: 1; padding: 10px; }\n",
       "    </style>\n",
       "<div class=\"wandb-row\"><div class=\"wandb-col\"><h3>Run history:</h3><br/><table class=\"wandb\"><tr><td>epoch</td><td>▁▁▁▁▁▁▂▂▃▃▃▃▃▃▃▃▄▄▄▅▅▅▅▅▅▅▅▆▆▇▇▇▇▇▇▇▇███</td></tr><tr><td>scheduler_lr</td><td>██▂▂▁▁▁▁▁▁▁▁▁▁▁</td></tr><tr><td>train_loss</td><td>█▄▃▃▂▃▂▂▂▂▂▁▂▁▂▂▁▂▁▂▁▁▂▁▂▁▁▂▁▂▁▂▂▁▁▂▁▁▂▂</td></tr><tr><td>trainer/global_step</td><td>▁▁▁▂▂▂▂▂▂▃▃▃▃▃▃▄▄▄▄▄▅▅▅▅▅▅▆▆▆▆▆▇▇▇▇▇▇███</td></tr><tr><td>val_hit</td><td>▁▄█████████████</td></tr><tr><td>val_loss</td><td>█▄▁▁▁▁▁▁▁▁▁▁▁▁▁</td></tr><tr><td>val_mrr</td><td>▁▃█████████████</td></tr></table><br/></div><div class=\"wandb-col\"><h3>Run summary:</h3><br/><table class=\"wandb\"><tr><td>epoch</td><td>14</td></tr><tr><td>scheduler_lr</td><td>0.0</td></tr><tr><td>train_loss</td><td>4.10854</td></tr><tr><td>trainer/global_step</td><td>97124</td></tr></table><br/></div></div>"
      ],
      "text/plain": [
       "<IPython.core.display.HTML object>"
      ]
     },
     "metadata": {},
     "output_type": "display_data"
    },
    {
     "data": {
      "text/html": [
       " View run <strong style=\"color:#cdcd00\">fluent-monkey-712</strong> at: <a href='https://wandb.ai/kpuchalskixiv/GNN_master/runs/vx4bvbxf' target=\"_blank\">https://wandb.ai/kpuchalskixiv/GNN_master/runs/vx4bvbxf</a><br/>Synced 6 W&B file(s), 0 media file(s), 1 artifact file(s) and 0 other file(s)"
      ],
      "text/plain": [
       "<IPython.core.display.HTML object>"
      ]
     },
     "metadata": {},
     "output_type": "display_data"
    },
    {
     "data": {
      "text/html": [
       "Find logs at: <code>./wandb/run-20241006_160413-vx4bvbxf/logs</code>"
      ],
      "text/plain": [
       "<IPython.core.display.HTML object>"
      ]
     },
     "metadata": {},
     "output_type": "display_data"
    }
   ],
   "source": [
    "augmented_run_ids=[]\n",
    "augmented_common_flags=f\"--augment-p 1 --dataset {dataset} --augment-alg raw --validation --valid-portion 0.1 --step 2 --lr-dc-step 2 --patience 4 --augment-matrix --augment-std 0.01 --l2 0.000001 --augment-noise-p 0.5\"\n",
    "for rid in base_runs:\n",
    "    extra_flags=f'--augment-old-run-id {rid}'\n",
    "\n",
    "    augmented_model_flags=augmented_common_flags+\" \"+extra_flags\n",
    "    aug_rid=train_model(\n",
    "        augmented_model_flags.strip()\n",
    "    )\n",
    "    augmented_run_ids.append(aug_rid)"
   ]
  },
  {
   "cell_type": "code",
   "execution_count": null,
   "metadata": {},
   "outputs": [
    {
     "data": {
      "text/plain": [
       "['s2qhugqc', '1jvw1mc3', 'gpx6kyhh', 'vx4bvbxf']"
      ]
     },
     "execution_count": 7,
     "metadata": {},
     "output_type": "execute_result"
    }
   ],
   "source": [
    "augmented_run_ids"
   ]
  },
  {
   "cell_type": "code",
   "execution_count": null,
   "metadata": {},
   "outputs": [
    {
     "name": "stdout",
     "output_type": "stream",
     "text": [
      "{'dataset': 'diginetica', 'batchSize': 100, 'hiddenSize': 100, 'epoch': 30, 'lr': 0.001, 'lr_dc': 0.1, 'lr_dc_step': 2, 'l2': 1e-05, 'step': 2, 'patience': 5, 'nonhybrid': False, 'validation': True, 'valid_portion': 0.1, 'pretrained_embedings': False, 'unfreeze_epoch': 0, 'gmm': [], 'augment_matrix': False, 'augment_clusters': False, 'augment_old_run_id': None, 'augment_clip': 0, 'augment_normalize': False, 'augment_raw': False, 'weight_init': 'normal', 'augment_categories': False, 'augment_nogmm': 16, 'augment_p': 1.0, 'augment_mean': 0.01, 'augment_std': 0.0, 'augment_gmm_init': 'k-means++', 'augment_prenormalize_distances': False, 'augment_noise_p': 1.0, 'augment_alg': 'gmm', 'gmm_covariance_type': 'full', 'gmm_tol': 0.001}\n",
      "Initialization 0\n",
      "  Iteration 10\n",
      "  Iteration 20\n",
      "  Iteration 30\n",
      "  Iteration 40\n",
      "  Iteration 50\n",
      "  Iteration 60\n",
      "  Iteration 70\n",
      "Initialization converged: True\n",
      "Initialization 1\n",
      "  Iteration 10\n",
      "  Iteration 20\n",
      "  Iteration 30\n",
      "  Iteration 40\n",
      "Initialization converged: True\n",
      "(array([0, 1, 2, 3, 4, 5, 6, 7]), array([1110, 8464, 2752, 9061, 1876, 1305, 9181, 9349]))\n",
      "Namespace(dataset='diginetica', batchSize=100, hiddenSize=100, epoch=30, lr=0.001, lr_dc=0.1, lr_dc_step=2, lr_milestones=[2, 5, 8], l2=1e-06, step=2, patience=4, nonhybrid=False, validation=True, valid_portion=0.1, pretrained_embeddings=False, unfreeze_epoch=0, gmm=[], weight_init='normal', augment_matrix=True, augment_clusters=False, augment_old_run_id='qm2ur7o3', augment_clip=0, augment_normalize=True, augment_raw=False, augment_p=0.5, augment_noise_p=0.5, augment_mean=0.01, augment_std=0.01, augment_categories=False, augment_nogmm=8, augment_gmm_init='k-means++', gmm_covariance_type='full', gmm_tol=0.001, lr_scheduler='step', augment_prenormalize_distances=False, augment_alg='raw')\n",
      "{'dataset': 'diginetica', 'batchSize': 100, 'hiddenSize': 100, 'epoch': 30, 'lr': 0.001, 'lr_dc': 0.1, 'lr_dc_step': 2, 'l2': 1e-05, 'step': 2, 'patience': 5, 'nonhybrid': False, 'validation': True, 'valid_portion': 0.1, 'pretrained_embedings': False, 'unfreeze_epoch': 0, 'gmm': [], 'augment_matrix': False, 'augment_clusters': False, 'augment_old_run_id': None, 'augment_clip': 0, 'augment_normalize': False, 'augment_raw': False, 'weight_init': 'normal', 'augment_categories': False, 'augment_nogmm': 16, 'augment_p': 1.0, 'augment_mean': 0.01, 'augment_std': 0.0, 'augment_gmm_init': 'k-means++', 'augment_prenormalize_distances': False, 'augment_noise_p': 1.0, 'augment_alg': 'gmm', 'gmm_covariance_type': 'full', 'gmm_tol': 0.001}\n",
      "data masking start\n"
     ]
    },
    {
     "name": "stderr",
     "output_type": "stream",
     "text": [
      "100%|██████████| 64/64 [00:05<00:00, 11.26it/s]\n"
     ]
    },
    {
     "name": "stdout",
     "output_type": "stream",
     "text": [
      "done masking\n",
      "data masking start\n"
     ]
    },
    {
     "name": "stderr",
     "output_type": "stream",
     "text": [
      "100%|██████████| 64/64 [00:00<00:00, 253.51it/s]\n",
      "GPU available: True (cuda), used: True\n",
      "TPU available: False, using: 0 TPU cores\n",
      "IPU available: False, using: 0 IPUs\n",
      "HPU available: False, using: 0 HPUs\n",
      "Failed to detect the name of this notebook, you can set it manually with the WANDB_NOTEBOOK_NAME environment variable to enable code saving.\n"
     ]
    },
    {
     "name": "stdout",
     "output_type": "stream",
     "text": [
      "done masking\n"
     ]
    },
    {
     "name": "stderr",
     "output_type": "stream",
     "text": [
      "\u001b[34m\u001b[1mwandb\u001b[0m: Currently logged in as: \u001b[33mkpuchalskixiv\u001b[0m. Use \u001b[1m`wandb login --relogin`\u001b[0m to force relogin\n"
     ]
    },
    {
     "data": {
      "text/html": [
       "wandb version 0.18.3 is available!  To upgrade, please run:\n",
       " $ pip install wandb --upgrade"
      ],
      "text/plain": [
       "<IPython.core.display.HTML object>"
      ]
     },
     "metadata": {},
     "output_type": "display_data"
    },
    {
     "data": {
      "text/html": [
       "Tracking run with wandb version 0.16.3"
      ],
      "text/plain": [
       "<IPython.core.display.HTML object>"
      ]
     },
     "metadata": {},
     "output_type": "display_data"
    },
    {
     "data": {
      "text/html": [
       "Run data is saved locally in <code>/home/kacper/GNN_Master/srgnn/wandb/run-20241004_223518-12bdl9rw</code>"
      ],
      "text/plain": [
       "<IPython.core.display.HTML object>"
      ]
     },
     "metadata": {},
     "output_type": "display_data"
    },
    {
     "data": {
      "text/html": [
       "Syncing run <strong><a href='https://wandb.ai/kpuchalskixiv/GNN_master/runs/12bdl9rw' target=\"_blank\">rare-silence-690</a></strong> to <a href='https://wandb.ai/kpuchalskixiv/GNN_master' target=\"_blank\">Weights & Biases</a> (<a href='https://wandb.me/run' target=\"_blank\">docs</a>)<br/>"
      ],
      "text/plain": [
       "<IPython.core.display.HTML object>"
      ]
     },
     "metadata": {},
     "output_type": "display_data"
    },
    {
     "data": {
      "text/html": [
       " View project at <a href='https://wandb.ai/kpuchalskixiv/GNN_master' target=\"_blank\">https://wandb.ai/kpuchalskixiv/GNN_master</a>"
      ],
      "text/plain": [
       "<IPython.core.display.HTML object>"
      ]
     },
     "metadata": {},
     "output_type": "display_data"
    },
    {
     "data": {
      "text/html": [
       " View run at <a href='https://wandb.ai/kpuchalskixiv/GNN_master/runs/12bdl9rw' target=\"_blank\">https://wandb.ai/kpuchalskixiv/GNN_master/runs/12bdl9rw</a>"
      ],
      "text/plain": [
       "<IPython.core.display.HTML object>"
      ]
     },
     "metadata": {},
     "output_type": "display_data"
    },
    {
     "name": "stderr",
     "output_type": "stream",
     "text": [
      "/home/kacper/anaconda3/envs/gpu_torch/lib/python3.12/site-packages/pytorch_lightning/loggers/wandb.py:390: There is a wandb run already in progress and newly created instances of `WandbLogger` will reuse this run. If this is not desired, call `wandb.finish()` before instantiating `WandbLogger`.\n",
      "LOCAL_RANK: 0 - CUDA_VISIBLE_DEVICES: [0]\n",
      "\n",
      "  | Name  | Type            | Params\n",
      "------------------------------------------\n",
      "0 | model | GMMSessionGraph | 4.5 M \n",
      "------------------------------------------\n",
      "4.5 M     Trainable params\n",
      "0         Non-trainable params\n",
      "4.5 M     Total params\n",
      "17.969    Total estimated model params size (MB)\n"
     ]
    },
    {
     "name": "stdout",
     "output_type": "stream",
     "text": [
      "Epoch 8: 100%|██████████| 6475/6475 [05:59<00:00, 18.00it/s, v_num=l9rw, train_loss=4.150, val_loss=5.350, val_hit=55.50, val_mrr=19.80]\n",
      "Finished training. Run id:  12bdl9rw\n"
     ]
    },
    {
     "name": "stderr",
     "output_type": "stream",
     "text": [
      "wandb: WARNING Source type is set to 'repo' but some required information is missing from the environment. A job will not be created from this run. See https://docs.wandb.ai/guides/launch/create-job\n"
     ]
    },
    {
     "data": {
      "text/html": [
       "<style>\n",
       "    table.wandb td:nth-child(1) { padding: 0 10px; text-align: left ; width: auto;} td:nth-child(2) {text-align: left ; width: 100%}\n",
       "    .wandb-row { display: flex; flex-direction: row; flex-wrap: wrap; justify-content: flex-start; width: 100% }\n",
       "    .wandb-col { display: flex; flex-direction: column; flex-basis: 100%; flex: 1; padding: 10px; }\n",
       "    </style>\n",
       "<div class=\"wandb-row\"><div class=\"wandb-col\"><h3>Run history:</h3><br/><table class=\"wandb\"><tr><td>epoch</td><td>▁▁▁▁▁▂▂▂▂▃▃▃▃▄▄▄▄▄▅▅▅▅▅▅▅▅▆▆▆▆▆▇▇▇▇▇████</td></tr><tr><td>scheduler_lr</td><td>██▂▂▁▁▁▁▁</td></tr><tr><td>train_loss</td><td>█▆▅▄▄▃▃▃▃▂▃▂▂▂▂▂▂▂▁▂▂▂▂▂▁▁▂▂▃▂▁▁▁▂▁▁▂▁▂▂</td></tr><tr><td>trainer/global_step</td><td>▁▁▁▁▂▂▂▂▂▃▃▃▃▃▃▄▄▄▄▄▅▅▅▅▅▅▆▆▆▆▆▇▇▇▇▇▇███</td></tr><tr><td>val_hit</td><td>▁▄███████</td></tr><tr><td>val_loss</td><td>█▄▁▁▂▂▂▂▂</td></tr><tr><td>val_mrr</td><td>▁▃███████</td></tr></table><br/></div><div class=\"wandb-col\"><h3>Run summary:</h3><br/><table class=\"wandb\"><tr><td>epoch</td><td>8</td></tr><tr><td>scheduler_lr</td><td>0.0</td></tr><tr><td>train_loss</td><td>4.05628</td></tr><tr><td>trainer/global_step</td><td>58274</td></tr></table><br/></div></div>"
      ],
      "text/plain": [
       "<IPython.core.display.HTML object>"
      ]
     },
     "metadata": {},
     "output_type": "display_data"
    },
    {
     "data": {
      "text/html": [
       " View run <strong style=\"color:#cdcd00\">rare-silence-690</strong> at: <a href='https://wandb.ai/kpuchalskixiv/GNN_master/runs/12bdl9rw' target=\"_blank\">https://wandb.ai/kpuchalskixiv/GNN_master/runs/12bdl9rw</a><br/>Synced 6 W&B file(s), 0 media file(s), 1 artifact file(s) and 0 other file(s)"
      ],
      "text/plain": [
       "<IPython.core.display.HTML object>"
      ]
     },
     "metadata": {},
     "output_type": "display_data"
    },
    {
     "data": {
      "text/html": [
       "Find logs at: <code>./wandb/run-20241004_223518-12bdl9rw/logs</code>"
      ],
      "text/plain": [
       "<IPython.core.display.HTML object>"
      ]
     },
     "metadata": {},
     "output_type": "display_data"
    },
    {
     "name": "stdout",
     "output_type": "stream",
     "text": [
      "{'dataset': 'diginetica', 'batchSize': 100, 'hiddenSize': 100, 'epoch': 30, 'lr': 0.001, 'lr_dc': 0.1, 'lr_dc_step': 2, 'l2': 1e-05, 'step': 2, 'patience': 5, 'nonhybrid': False, 'validation': True, 'valid_portion': 0.1, 'pretrained_embedings': False, 'unfreeze_epoch': 0, 'gmm': [2, 4, 8, 16], 'augment_matrix': False, 'augment_clusters': False, 'augment_old_run_id': None, 'augment_clip': 0, 'augment_normalize': False, 'augment_raw': False, 'weight_init': 'normal', 'augment_categories': False, 'augment_nogmm': 16, 'augment_p': 1.0, 'augment_mean': 0.01, 'augment_std': 0.0, 'augment_gmm_init': 'k-means++', 'augment_prenormalize_distances': False, 'augment_noise_p': 1, 'augment_alg': 'gmm', 'gmm_covariance_type': 'full', 'gmm_tol': 0.001}\n",
      "Initialization 0\n",
      "  Iteration 10\n",
      "  Iteration 20\n",
      "  Iteration 30\n",
      "Initialization converged: True\n",
      "Initialization 1\n",
      "  Iteration 10\n",
      "  Iteration 20\n",
      "  Iteration 30\n",
      "Initialization converged: True\n",
      "(array([0, 1, 2, 3, 4, 5, 6, 7]), array([  827, 11799,  1203,  5676, 10117, 11823,   152,  1501]))\n",
      "Namespace(dataset='diginetica', batchSize=100, hiddenSize=100, epoch=30, lr=0.001, lr_dc=0.1, lr_dc_step=2, lr_milestones=[2, 5, 8], l2=1e-06, step=2, patience=4, nonhybrid=False, validation=True, valid_portion=0.1, pretrained_embeddings=False, unfreeze_epoch=0, gmm=[], weight_init='normal', augment_matrix=True, augment_clusters=False, augment_old_run_id='3abge2uq', augment_clip=0, augment_normalize=True, augment_raw=False, augment_p=0.5, augment_noise_p=0.5, augment_mean=0.01, augment_std=0.01, augment_categories=False, augment_nogmm=8, augment_gmm_init='k-means++', gmm_covariance_type='full', gmm_tol=0.001, lr_scheduler='step', augment_prenormalize_distances=False, augment_alg='raw')\n",
      "{'dataset': 'diginetica', 'batchSize': 100, 'hiddenSize': 100, 'epoch': 30, 'lr': 0.001, 'lr_dc': 0.1, 'lr_dc_step': 2, 'l2': 1e-05, 'step': 2, 'patience': 5, 'nonhybrid': False, 'validation': True, 'valid_portion': 0.1, 'pretrained_embedings': False, 'unfreeze_epoch': 0, 'gmm': [2, 4, 8, 16], 'augment_matrix': False, 'augment_clusters': False, 'augment_old_run_id': None, 'augment_clip': 0, 'augment_normalize': False, 'augment_raw': False, 'weight_init': 'normal', 'augment_categories': False, 'augment_nogmm': 16, 'augment_p': 1.0, 'augment_mean': 0.01, 'augment_std': 0.0, 'augment_gmm_init': 'k-means++', 'augment_prenormalize_distances': False, 'augment_noise_p': 1, 'augment_alg': 'gmm', 'gmm_covariance_type': 'full', 'gmm_tol': 0.001}\n",
      "data masking start\n"
     ]
    },
    {
     "name": "stderr",
     "output_type": "stream",
     "text": [
      "100%|██████████| 64/64 [00:05<00:00, 11.32it/s]\n"
     ]
    },
    {
     "name": "stdout",
     "output_type": "stream",
     "text": [
      "done masking\n",
      "data masking start\n"
     ]
    },
    {
     "name": "stderr",
     "output_type": "stream",
     "text": [
      "100%|██████████| 64/64 [00:00<00:00, 215.59it/s]\n",
      "GPU available: True (cuda), used: True\n",
      "TPU available: False, using: 0 TPU cores\n",
      "IPU available: False, using: 0 IPUs\n",
      "HPU available: False, using: 0 HPUs\n"
     ]
    },
    {
     "name": "stdout",
     "output_type": "stream",
     "text": [
      "done masking\n"
     ]
    },
    {
     "data": {
      "text/html": [
       "wandb version 0.18.3 is available!  To upgrade, please run:\n",
       " $ pip install wandb --upgrade"
      ],
      "text/plain": [
       "<IPython.core.display.HTML object>"
      ]
     },
     "metadata": {},
     "output_type": "display_data"
    },
    {
     "data": {
      "text/html": [
       "Tracking run with wandb version 0.16.3"
      ],
      "text/plain": [
       "<IPython.core.display.HTML object>"
      ]
     },
     "metadata": {},
     "output_type": "display_data"
    },
    {
     "data": {
      "text/html": [
       "Run data is saved locally in <code>/home/kacper/GNN_Master/srgnn/wandb/run-20241004_232852-wsix33ma</code>"
      ],
      "text/plain": [
       "<IPython.core.display.HTML object>"
      ]
     },
     "metadata": {},
     "output_type": "display_data"
    },
    {
     "data": {
      "text/html": [
       "Syncing run <strong><a href='https://wandb.ai/kpuchalskixiv/GNN_master/runs/wsix33ma' target=\"_blank\">devout-fog-691</a></strong> to <a href='https://wandb.ai/kpuchalskixiv/GNN_master' target=\"_blank\">Weights & Biases</a> (<a href='https://wandb.me/run' target=\"_blank\">docs</a>)<br/>"
      ],
      "text/plain": [
       "<IPython.core.display.HTML object>"
      ]
     },
     "metadata": {},
     "output_type": "display_data"
    },
    {
     "data": {
      "text/html": [
       " View project at <a href='https://wandb.ai/kpuchalskixiv/GNN_master' target=\"_blank\">https://wandb.ai/kpuchalskixiv/GNN_master</a>"
      ],
      "text/plain": [
       "<IPython.core.display.HTML object>"
      ]
     },
     "metadata": {},
     "output_type": "display_data"
    },
    {
     "data": {
      "text/html": [
       " View run at <a href='https://wandb.ai/kpuchalskixiv/GNN_master/runs/wsix33ma' target=\"_blank\">https://wandb.ai/kpuchalskixiv/GNN_master/runs/wsix33ma</a>"
      ],
      "text/plain": [
       "<IPython.core.display.HTML object>"
      ]
     },
     "metadata": {},
     "output_type": "display_data"
    },
    {
     "name": "stderr",
     "output_type": "stream",
     "text": [
      "/home/kacper/anaconda3/envs/gpu_torch/lib/python3.12/site-packages/pytorch_lightning/loggers/wandb.py:390: There is a wandb run already in progress and newly created instances of `WandbLogger` will reuse this run. If this is not desired, call `wandb.finish()` before instantiating `WandbLogger`.\n",
      "LOCAL_RANK: 0 - CUDA_VISIBLE_DEVICES: [0]\n",
      "\n",
      "  | Name  | Type            | Params\n",
      "------------------------------------------\n",
      "0 | model | GMMSessionGraph | 4.5 M \n",
      "------------------------------------------\n",
      "4.5 M     Trainable params\n",
      "0         Non-trainable params\n",
      "4.5 M     Total params\n",
      "17.969    Total estimated model params size (MB)\n"
     ]
    },
    {
     "name": "stdout",
     "output_type": "stream",
     "text": [
      "Epoch 15: 100%|██████████| 6475/6475 [05:23<00:00, 20.01it/s, v_num=33ma, train_loss=4.280, val_loss=5.310, val_hit=55.90, val_mrr=19.90]\n",
      "Finished training. Run id:  wsix33ma\n"
     ]
    },
    {
     "name": "stderr",
     "output_type": "stream",
     "text": [
      "wandb: WARNING Source type is set to 'repo' but some required information is missing from the environment. A job will not be created from this run. See https://docs.wandb.ai/guides/launch/create-job\n"
     ]
    },
    {
     "data": {
      "text/html": [
       "<style>\n",
       "    table.wandb td:nth-child(1) { padding: 0 10px; text-align: left ; width: auto;} td:nth-child(2) {text-align: left ; width: 100%}\n",
       "    .wandb-row { display: flex; flex-direction: row; flex-wrap: wrap; justify-content: flex-start; width: 100% }\n",
       "    .wandb-col { display: flex; flex-direction: column; flex-basis: 100%; flex: 1; padding: 10px; }\n",
       "    </style>\n",
       "<div class=\"wandb-row\"><div class=\"wandb-col\"><h3>Run history:</h3><br/><table class=\"wandb\"><tr><td>epoch</td><td>▁▁▁▁▁▂▂▂▂▂▃▃▃▃▃▄▄▄▄▄▅▅▅▅▅▆▆▆▆▆▇▇▇▇▇█████</td></tr><tr><td>scheduler_lr</td><td>██▂▂▁▁▁▁▁▁▁▁▁▁▁▁</td></tr><tr><td>train_loss</td><td>█▆▄▄▄▂▂▃▂▂▂▂▂▁▂▂▂▂▂▂▁▁▂▂▂▁▂▃▂▂▂▂▂▂▂▁▂▂▂▁</td></tr><tr><td>trainer/global_step</td><td>▁▁▁▁▂▂▂▂▂▃▃▃▃▃▃▄▄▄▄▄▄▅▅▅▅▅▆▆▆▆▆▆▇▇▇▇▇███</td></tr><tr><td>val_hit</td><td>▁▄██████████████</td></tr><tr><td>val_loss</td><td>█▄▁▁▂▂▂▂▂▂▂▂▂▂▂▂</td></tr><tr><td>val_mrr</td><td>▁▃██████████████</td></tr></table><br/></div><div class=\"wandb-col\"><h3>Run summary:</h3><br/><table class=\"wandb\"><tr><td>epoch</td><td>15</td></tr><tr><td>scheduler_lr</td><td>0.0</td></tr><tr><td>train_loss</td><td>4.27664</td></tr><tr><td>trainer/global_step</td><td>103599</td></tr></table><br/></div></div>"
      ],
      "text/plain": [
       "<IPython.core.display.HTML object>"
      ]
     },
     "metadata": {},
     "output_type": "display_data"
    },
    {
     "data": {
      "text/html": [
       " View run <strong style=\"color:#cdcd00\">devout-fog-691</strong> at: <a href='https://wandb.ai/kpuchalskixiv/GNN_master/runs/wsix33ma' target=\"_blank\">https://wandb.ai/kpuchalskixiv/GNN_master/runs/wsix33ma</a><br/>Synced 6 W&B file(s), 0 media file(s), 1 artifact file(s) and 0 other file(s)"
      ],
      "text/plain": [
       "<IPython.core.display.HTML object>"
      ]
     },
     "metadata": {},
     "output_type": "display_data"
    },
    {
     "data": {
      "text/html": [
       "Find logs at: <code>./wandb/run-20241004_232852-wsix33ma/logs</code>"
      ],
      "text/plain": [
       "<IPython.core.display.HTML object>"
      ]
     },
     "metadata": {},
     "output_type": "display_data"
    },
    {
     "name": "stdout",
     "output_type": "stream",
     "text": [
      "{'dataset': 'diginetica', 'batchSize': 100, 'hiddenSize': 100, 'epoch': 30, 'lr': 0.001, 'lr_dc': 0.1, 'lr_dc_step': 2, 'l2': 1e-05, 'step': 2, 'patience': 5, 'nonhybrid': False, 'validation': True, 'valid_portion': 0.1, 'pretrained_embedings': False, 'unfreeze_epoch': 0, 'gmm': True, 'augment_matrix': False, 'augment_clusters': False, 'augment_old_run_id': None, 'augment_clip': 0, 'augment_normalize': False, 'augment_raw': False, 'weight_init': 'normal', 'augment_categories': False, 'augment_nogmm': 16, 'augment_p': 1.0, 'augment_mean': 0.01, 'augment_std': 0.0, 'augment_gmm_init': 'k-means++', 'augment_prenormalize_distances': False, 'augment_noise_p': 1, 'augment_alg': 'gmm', 'gmm_covariance_type': 'full', 'gmm_tol': 0.001}\n",
      "Initialization 0\n",
      "  Iteration 10\n",
      "  Iteration 20\n",
      "Initialization converged: True\n",
      "Initialization 1\n",
      "  Iteration 10\n",
      "  Iteration 20\n",
      "  Iteration 30\n",
      "  Iteration 40\n",
      "Initialization converged: True\n",
      "(array([0, 1, 2, 3, 4, 5, 6, 7]), array([ 8282, 11103,  8209,   431,   901,  2536,  2491,  9145]))\n",
      "Namespace(dataset='diginetica', batchSize=100, hiddenSize=100, epoch=30, lr=0.001, lr_dc=0.1, lr_dc_step=2, lr_milestones=[2, 5, 8], l2=1e-06, step=2, patience=4, nonhybrid=False, validation=True, valid_portion=0.1, pretrained_embeddings=False, unfreeze_epoch=0, gmm=[], weight_init='normal', augment_matrix=True, augment_clusters=False, augment_old_run_id='4dm99qnd', augment_clip=0, augment_normalize=True, augment_raw=False, augment_p=0.5, augment_noise_p=0.5, augment_mean=0.01, augment_std=0.01, augment_categories=False, augment_nogmm=8, augment_gmm_init='k-means++', gmm_covariance_type='full', gmm_tol=0.001, lr_scheduler='step', augment_prenormalize_distances=False, augment_alg='raw')\n",
      "{'dataset': 'diginetica', 'batchSize': 100, 'hiddenSize': 100, 'epoch': 30, 'lr': 0.001, 'lr_dc': 0.1, 'lr_dc_step': 2, 'l2': 1e-05, 'step': 2, 'patience': 5, 'nonhybrid': False, 'validation': True, 'valid_portion': 0.1, 'pretrained_embedings': False, 'unfreeze_epoch': 0, 'gmm': True, 'augment_matrix': False, 'augment_clusters': False, 'augment_old_run_id': None, 'augment_clip': 0, 'augment_normalize': False, 'augment_raw': False, 'weight_init': 'normal', 'augment_categories': False, 'augment_nogmm': 16, 'augment_p': 1.0, 'augment_mean': 0.01, 'augment_std': 0.0, 'augment_gmm_init': 'k-means++', 'augment_prenormalize_distances': False, 'augment_noise_p': 1, 'augment_alg': 'gmm', 'gmm_covariance_type': 'full', 'gmm_tol': 0.001}\n",
      "data masking start\n"
     ]
    },
    {
     "name": "stderr",
     "output_type": "stream",
     "text": [
      "100%|██████████| 64/64 [00:05<00:00, 12.45it/s]\n"
     ]
    },
    {
     "name": "stdout",
     "output_type": "stream",
     "text": [
      "done masking\n",
      "data masking start\n"
     ]
    },
    {
     "name": "stderr",
     "output_type": "stream",
     "text": [
      "100%|██████████| 64/64 [00:00<00:00, 227.90it/s]\n",
      "GPU available: True (cuda), used: True\n",
      "TPU available: False, using: 0 TPU cores\n",
      "IPU available: False, using: 0 IPUs\n",
      "HPU available: False, using: 0 HPUs\n"
     ]
    },
    {
     "name": "stdout",
     "output_type": "stream",
     "text": [
      "done masking\n"
     ]
    },
    {
     "data": {
      "text/html": [
       "Tracking run with wandb version 0.16.3"
      ],
      "text/plain": [
       "<IPython.core.display.HTML object>"
      ]
     },
     "metadata": {},
     "output_type": "display_data"
    },
    {
     "data": {
      "text/html": [
       "Run data is saved locally in <code>/home/kacper/GNN_Master/srgnn/wandb/run-20241005_010014-1lh9waxz</code>"
      ],
      "text/plain": [
       "<IPython.core.display.HTML object>"
      ]
     },
     "metadata": {},
     "output_type": "display_data"
    },
    {
     "data": {
      "text/html": [
       "Syncing run <strong><a href='https://wandb.ai/kpuchalskixiv/GNN_master/runs/1lh9waxz' target=\"_blank\">woven-eon-692</a></strong> to <a href='https://wandb.ai/kpuchalskixiv/GNN_master' target=\"_blank\">Weights & Biases</a> (<a href='https://wandb.me/run' target=\"_blank\">docs</a>)<br/>"
      ],
      "text/plain": [
       "<IPython.core.display.HTML object>"
      ]
     },
     "metadata": {},
     "output_type": "display_data"
    },
    {
     "data": {
      "text/html": [
       " View project at <a href='https://wandb.ai/kpuchalskixiv/GNN_master' target=\"_blank\">https://wandb.ai/kpuchalskixiv/GNN_master</a>"
      ],
      "text/plain": [
       "<IPython.core.display.HTML object>"
      ]
     },
     "metadata": {},
     "output_type": "display_data"
    },
    {
     "data": {
      "text/html": [
       " View run at <a href='https://wandb.ai/kpuchalskixiv/GNN_master/runs/1lh9waxz' target=\"_blank\">https://wandb.ai/kpuchalskixiv/GNN_master/runs/1lh9waxz</a>"
      ],
      "text/plain": [
       "<IPython.core.display.HTML object>"
      ]
     },
     "metadata": {},
     "output_type": "display_data"
    },
    {
     "name": "stderr",
     "output_type": "stream",
     "text": [
      "/home/kacper/anaconda3/envs/gpu_torch/lib/python3.12/site-packages/pytorch_lightning/loggers/wandb.py:390: There is a wandb run already in progress and newly created instances of `WandbLogger` will reuse this run. If this is not desired, call `wandb.finish()` before instantiating `WandbLogger`.\n",
      "LOCAL_RANK: 0 - CUDA_VISIBLE_DEVICES: [0]\n",
      "\n",
      "  | Name  | Type            | Params\n",
      "------------------------------------------\n",
      "0 | model | GMMSessionGraph | 4.5 M \n",
      "------------------------------------------\n",
      "4.5 M     Trainable params\n",
      "0         Non-trainable params\n",
      "4.5 M     Total params\n",
      "17.969    Total estimated model params size (MB)\n"
     ]
    },
    {
     "name": "stdout",
     "output_type": "stream",
     "text": [
      "Epoch 11: 100%|██████████| 6475/6475 [05:23<00:00, 20.01it/s, v_num=waxz, train_loss=3.960, val_loss=5.310, val_hit=55.80, val_mrr=20.00]\n",
      "Finished training. Run id:  1lh9waxz\n"
     ]
    },
    {
     "name": "stderr",
     "output_type": "stream",
     "text": [
      "wandb: WARNING Source type is set to 'repo' but some required information is missing from the environment. A job will not be created from this run. See https://docs.wandb.ai/guides/launch/create-job\n"
     ]
    },
    {
     "data": {
      "text/html": [
       "<style>\n",
       "    table.wandb td:nth-child(1) { padding: 0 10px; text-align: left ; width: auto;} td:nth-child(2) {text-align: left ; width: 100%}\n",
       "    .wandb-row { display: flex; flex-direction: row; flex-wrap: wrap; justify-content: flex-start; width: 100% }\n",
       "    .wandb-col { display: flex; flex-direction: column; flex-basis: 100%; flex: 1; padding: 10px; }\n",
       "    </style>\n",
       "<div class=\"wandb-row\"><div class=\"wandb-col\"><h3>Run history:</h3><br/><table class=\"wandb\"><tr><td>epoch</td><td>▁▁▁▁▂▂▂▂▂▂▃▃▃▄▄▄▄▄▄▄▅▅▅▅▅▅▅▆▆▆▇▇▇▇▇▇▇███</td></tr><tr><td>scheduler_lr</td><td>██▂▂▁▁▁▁▁▁▁▁</td></tr><tr><td>train_loss</td><td>█▆▄▄▄▃▄▂▂▂▂▂▂▂▂▂▂▂▂▂▂▁▂▁▂▁▁▂▁▁▂▂▂▂▂▁▁▂▂▁</td></tr><tr><td>trainer/global_step</td><td>▁▁▁▂▂▂▂▂▂▃▃▃▃▃▃▄▄▄▄▄▅▅▅▅▅▅▆▆▆▆▆▇▇▇▇▇▇███</td></tr><tr><td>val_hit</td><td>▁▄██████████</td></tr><tr><td>val_loss</td><td>█▄▁▁▂▂▂▂▂▂▂▂</td></tr><tr><td>val_mrr</td><td>▁▃██████████</td></tr></table><br/></div><div class=\"wandb-col\"><h3>Run summary:</h3><br/><table class=\"wandb\"><tr><td>epoch</td><td>11</td></tr><tr><td>scheduler_lr</td><td>0.0</td></tr><tr><td>train_loss</td><td>3.95516</td></tr><tr><td>trainer/global_step</td><td>77699</td></tr></table><br/></div></div>"
      ],
      "text/plain": [
       "<IPython.core.display.HTML object>"
      ]
     },
     "metadata": {},
     "output_type": "display_data"
    },
    {
     "data": {
      "text/html": [
       " View run <strong style=\"color:#cdcd00\">woven-eon-692</strong> at: <a href='https://wandb.ai/kpuchalskixiv/GNN_master/runs/1lh9waxz' target=\"_blank\">https://wandb.ai/kpuchalskixiv/GNN_master/runs/1lh9waxz</a><br/>Synced 6 W&B file(s), 0 media file(s), 1 artifact file(s) and 0 other file(s)"
      ],
      "text/plain": [
       "<IPython.core.display.HTML object>"
      ]
     },
     "metadata": {},
     "output_type": "display_data"
    },
    {
     "data": {
      "text/html": [
       "Find logs at: <code>./wandb/run-20241005_010014-1lh9waxz/logs</code>"
      ],
      "text/plain": [
       "<IPython.core.display.HTML object>"
      ]
     },
     "metadata": {},
     "output_type": "display_data"
    },
    {
     "name": "stdout",
     "output_type": "stream",
     "text": [
      "{'dataset': 'diginetica', 'batchSize': 100, 'hiddenSize': 100, 'epoch': 30, 'lr': 0.001, 'lr_dc': 0.1, 'lr_dc_step': 2, 'l2': 1e-05, 'step': 2, 'patience': 5, 'nonhybrid': False, 'validation': True, 'valid_portion': 0.1, 'pretrained_embedings': False, 'unfreeze_epoch': 0, 'gmm': True, 'augment_matrix': False, 'augment_clusters': False, 'augment_old_run_id': None, 'augment_clip': 0, 'augment_normalize': False, 'augment_raw': False, 'weight_init': 'normal', 'augment_categories': False, 'augment_nogmm': 16, 'augment_p': 1.0, 'augment_mean': 0.01, 'augment_std': 0.0, 'augment_gmm_init': 'k-means++', 'augment_prenormalize_distances': False, 'augment_noise_p': 1, 'augment_alg': 'gmm', 'gmm_covariance_type': 'full', 'gmm_tol': 0.001}\n",
      "Initialization 0\n",
      "  Iteration 10\n",
      "  Iteration 20\n",
      "  Iteration 30\n",
      "  Iteration 40\n",
      "  Iteration 50\n",
      "  Iteration 60\n",
      "Initialization converged: True\n",
      "Initialization 1\n",
      "  Iteration 10\n",
      "  Iteration 20\n",
      "  Iteration 30\n",
      "Initialization converged: True\n",
      "(array([0, 1, 2, 3, 4, 5, 6, 7]), array([ 9881,   358,  1299,  3555,  2094, 11363,  5036,  9512]))\n",
      "Namespace(dataset='diginetica', batchSize=100, hiddenSize=100, epoch=30, lr=0.001, lr_dc=0.1, lr_dc_step=2, lr_milestones=[2, 5, 8], l2=1e-06, step=2, patience=4, nonhybrid=False, validation=True, valid_portion=0.1, pretrained_embeddings=False, unfreeze_epoch=0, gmm=[], weight_init='normal', augment_matrix=True, augment_clusters=False, augment_old_run_id='jxgwsuta', augment_clip=0, augment_normalize=True, augment_raw=False, augment_p=0.5, augment_noise_p=0.5, augment_mean=0.01, augment_std=0.01, augment_categories=False, augment_nogmm=8, augment_gmm_init='k-means++', gmm_covariance_type='full', gmm_tol=0.001, lr_scheduler='step', augment_prenormalize_distances=False, augment_alg='raw')\n",
      "{'dataset': 'diginetica', 'batchSize': 100, 'hiddenSize': 100, 'epoch': 30, 'lr': 0.001, 'lr_dc': 0.1, 'lr_dc_step': 2, 'l2': 1e-05, 'step': 2, 'patience': 5, 'nonhybrid': False, 'validation': True, 'valid_portion': 0.1, 'pretrained_embedings': False, 'unfreeze_epoch': 0, 'gmm': True, 'augment_matrix': False, 'augment_clusters': False, 'augment_old_run_id': None, 'augment_clip': 0, 'augment_normalize': False, 'augment_raw': False, 'weight_init': 'normal', 'augment_categories': False, 'augment_nogmm': 16, 'augment_p': 1.0, 'augment_mean': 0.01, 'augment_std': 0.0, 'augment_gmm_init': 'k-means++', 'augment_prenormalize_distances': False, 'augment_noise_p': 1, 'augment_alg': 'gmm', 'gmm_covariance_type': 'full', 'gmm_tol': 0.001}\n",
      "data masking start\n"
     ]
    },
    {
     "name": "stderr",
     "output_type": "stream",
     "text": [
      "100%|██████████| 64/64 [00:05<00:00, 12.65it/s]\n"
     ]
    },
    {
     "name": "stdout",
     "output_type": "stream",
     "text": [
      "done masking\n",
      "data masking start\n"
     ]
    },
    {
     "name": "stderr",
     "output_type": "stream",
     "text": [
      "100%|██████████| 64/64 [00:00<00:00, 238.16it/s]\n",
      "GPU available: True (cuda), used: True\n",
      "TPU available: False, using: 0 TPU cores\n",
      "IPU available: False, using: 0 IPUs\n",
      "HPU available: False, using: 0 HPUs\n"
     ]
    },
    {
     "name": "stdout",
     "output_type": "stream",
     "text": [
      "done masking\n"
     ]
    },
    {
     "data": {
      "text/html": [
       "wandb version 0.18.3 is available!  To upgrade, please run:\n",
       " $ pip install wandb --upgrade"
      ],
      "text/plain": [
       "<IPython.core.display.HTML object>"
      ]
     },
     "metadata": {},
     "output_type": "display_data"
    },
    {
     "data": {
      "text/html": [
       "Tracking run with wandb version 0.16.3"
      ],
      "text/plain": [
       "<IPython.core.display.HTML object>"
      ]
     },
     "metadata": {},
     "output_type": "display_data"
    },
    {
     "data": {
      "text/html": [
       "Run data is saved locally in <code>/home/kacper/GNN_Master/srgnn/wandb/run-20241005_020638-nqk6cfps</code>"
      ],
      "text/plain": [
       "<IPython.core.display.HTML object>"
      ]
     },
     "metadata": {},
     "output_type": "display_data"
    },
    {
     "data": {
      "text/html": [
       "Syncing run <strong><a href='https://wandb.ai/kpuchalskixiv/GNN_master/runs/nqk6cfps' target=\"_blank\">lunar-thunder-693</a></strong> to <a href='https://wandb.ai/kpuchalskixiv/GNN_master' target=\"_blank\">Weights & Biases</a> (<a href='https://wandb.me/run' target=\"_blank\">docs</a>)<br/>"
      ],
      "text/plain": [
       "<IPython.core.display.HTML object>"
      ]
     },
     "metadata": {},
     "output_type": "display_data"
    },
    {
     "data": {
      "text/html": [
       " View project at <a href='https://wandb.ai/kpuchalskixiv/GNN_master' target=\"_blank\">https://wandb.ai/kpuchalskixiv/GNN_master</a>"
      ],
      "text/plain": [
       "<IPython.core.display.HTML object>"
      ]
     },
     "metadata": {},
     "output_type": "display_data"
    },
    {
     "data": {
      "text/html": [
       " View run at <a href='https://wandb.ai/kpuchalskixiv/GNN_master/runs/nqk6cfps' target=\"_blank\">https://wandb.ai/kpuchalskixiv/GNN_master/runs/nqk6cfps</a>"
      ],
      "text/plain": [
       "<IPython.core.display.HTML object>"
      ]
     },
     "metadata": {},
     "output_type": "display_data"
    },
    {
     "name": "stderr",
     "output_type": "stream",
     "text": [
      "/home/kacper/anaconda3/envs/gpu_torch/lib/python3.12/site-packages/pytorch_lightning/loggers/wandb.py:390: There is a wandb run already in progress and newly created instances of `WandbLogger` will reuse this run. If this is not desired, call `wandb.finish()` before instantiating `WandbLogger`.\n",
      "LOCAL_RANK: 0 - CUDA_VISIBLE_DEVICES: [0]\n",
      "\n",
      "  | Name  | Type            | Params\n",
      "------------------------------------------\n",
      "0 | model | GMMSessionGraph | 4.5 M \n",
      "------------------------------------------\n",
      "4.5 M     Trainable params\n",
      "0         Non-trainable params\n",
      "4.5 M     Total params\n",
      "17.969    Total estimated model params size (MB)\n"
     ]
    },
    {
     "name": "stdout",
     "output_type": "stream",
     "text": [
      "Epoch 10: 100%|██████████| 6475/6475 [05:24<00:00, 19.93it/s, v_num=cfps, train_loss=4.360, val_loss=5.320, val_hit=55.60, val_mrr=19.90]\n",
      "Finished training. Run id:  nqk6cfps\n"
     ]
    },
    {
     "name": "stderr",
     "output_type": "stream",
     "text": [
      "wandb: WARNING Source type is set to 'repo' but some required information is missing from the environment. A job will not be created from this run. See https://docs.wandb.ai/guides/launch/create-job\n"
     ]
    },
    {
     "data": {
      "text/html": [
       "<style>\n",
       "    table.wandb td:nth-child(1) { padding: 0 10px; text-align: left ; width: auto;} td:nth-child(2) {text-align: left ; width: 100%}\n",
       "    .wandb-row { display: flex; flex-direction: row; flex-wrap: wrap; justify-content: flex-start; width: 100% }\n",
       "    .wandb-col { display: flex; flex-direction: column; flex-basis: 100%; flex: 1; padding: 10px; }\n",
       "    </style>\n",
       "<div class=\"wandb-row\"><div class=\"wandb-col\"><h3>Run history:</h3><br/><table class=\"wandb\"><tr><td>epoch</td><td>▁▁▁▁▂▂▂▂▂▂▂▃▃▃▃▄▄▄▅▅▅▅▅▅▅▅▆▆▆▇▇▇▇▇▇▇████</td></tr><tr><td>scheduler_lr</td><td>██▂▂▁▁▁▁▁▁▁</td></tr><tr><td>train_loss</td><td>█▆▃▄▃▃▃▃▂▂▂▂▁▂▂▂▂▁▁▁▂▁▂▂▁▁▂▂▂▂▂▁▂▂▂▂▁▁▁▁</td></tr><tr><td>trainer/global_step</td><td>▁▁▁▁▂▂▂▂▂▃▃▃▃▃▃▄▄▄▄▄▅▅▅▅▅▅▆▆▆▆▆▇▇▇▇▇▇███</td></tr><tr><td>val_hit</td><td>▁▄█████████</td></tr><tr><td>val_loss</td><td>█▄▁▁▂▂▂▂▂▂▂</td></tr><tr><td>val_mrr</td><td>▁▄█████████</td></tr></table><br/></div><div class=\"wandb-col\"><h3>Run summary:</h3><br/><table class=\"wandb\"><tr><td>epoch</td><td>10</td></tr><tr><td>scheduler_lr</td><td>0.0</td></tr><tr><td>train_loss</td><td>4.13452</td></tr><tr><td>trainer/global_step</td><td>71224</td></tr></table><br/></div></div>"
      ],
      "text/plain": [
       "<IPython.core.display.HTML object>"
      ]
     },
     "metadata": {},
     "output_type": "display_data"
    },
    {
     "data": {
      "text/html": [
       " View run <strong style=\"color:#cdcd00\">lunar-thunder-693</strong> at: <a href='https://wandb.ai/kpuchalskixiv/GNN_master/runs/nqk6cfps' target=\"_blank\">https://wandb.ai/kpuchalskixiv/GNN_master/runs/nqk6cfps</a><br/>Synced 6 W&B file(s), 0 media file(s), 1 artifact file(s) and 0 other file(s)"
      ],
      "text/plain": [
       "<IPython.core.display.HTML object>"
      ]
     },
     "metadata": {},
     "output_type": "display_data"
    },
    {
     "data": {
      "text/html": [
       "Find logs at: <code>./wandb/run-20241005_020638-nqk6cfps/logs</code>"
      ],
      "text/plain": [
       "<IPython.core.display.HTML object>"
      ]
     },
     "metadata": {},
     "output_type": "display_data"
    },
    {
     "data": {
      "text/plain": [
       "['12bdl9rw', 'wsix33ma', '1lh9waxz', 'nqk6cfps']"
      ]
     },
     "execution_count": 4,
     "metadata": {},
     "output_type": "execute_result"
    }
   ],
   "source": [
    "augmented_run_ids=[]\n",
    "no_gmm=8\n",
    "augmented_common_flags=f\"--dataset {dataset} --augment-alg raw --validation --valid-portion 0.1 --step 2 --lr-dc-step 2 --patience 4 --augment-matrix --augment-std 0.01 --augment-normalize --augment-p 0.5 --l2 0.000001 --augment-noise-p 0.5\"\n",
    "\n",
    "for rid in base_runs:\n",
    "    extra_flags=f'--augment-old-run-id {rid} --augment-nogmm {no_gmm} '\n",
    "\n",
    "    gmm_label_flags=f\"--run-id {rid} --no-clusters {no_gmm}\"\n",
    "    \n",
    "    label_with_gmm(gmm_label_flags.strip())\n",
    "\n",
    "    augmented_model_flags=augmented_common_flags+\" \"+extra_flags\n",
    "    aug_rid=train_model_gngmm(\n",
    "        augmented_model_flags.strip()\n",
    "    )\n",
    "    augmented_run_ids.append(aug_rid)\n",
    "augmented_run_ids"
   ]
  },
  {
   "cell_type": "markdown",
   "metadata": {},
   "source": [
    "## base GM induced model"
   ]
  },
  {
   "cell_type": "code",
   "execution_count": null,
   "metadata": {},
   "outputs": [
    {
     "name": "stdout",
     "output_type": "stream",
     "text": [
      "Namespace(dataset='diginetica', batchSize=100, hiddenSize=100, epoch=30, lr=0.001, lr_dc=0.1, lr_dc_step=3, lr_milestones=[2, 5, 8], l2=1e-05, step=2, patience=5, nonhybrid=False, validation=True, valid_portion=0.1, pretrained_embeddings=False, unfreeze_epoch=0, gmm=[], weight_init='normal', augment_matrix=False, augment_clusters=False, augment_old_run_id='qm2ur7o3', augment_clip=0, augment_normalize=False, augment_raw=False, augment_p=1.0, augment_noise_p=0.0, augment_mean=0.01, augment_std=0.0, augment_categories=False, augment_nogmm=8, augment_gmm_init='k-means++', gmm_covariance_type='full', gmm_tol=0.001, lr_scheduler='step', augment_prenormalize_distances=False, augment_alg='gmm')\n",
      "data masking start\n"
     ]
    },
    {
     "name": "stderr",
     "output_type": "stream",
     "text": [
      "100%|██████████| 64/64 [00:05<00:00, 11.73it/s]\n"
     ]
    },
    {
     "name": "stdout",
     "output_type": "stream",
     "text": [
      "done masking\n",
      "data masking start\n"
     ]
    },
    {
     "name": "stderr",
     "output_type": "stream",
     "text": [
      "100%|██████████| 64/64 [00:00<00:00, 221.09it/s]\n"
     ]
    },
    {
     "name": "stdout",
     "output_type": "stream",
     "text": [
      "done masking\n"
     ]
    },
    {
     "name": "stderr",
     "output_type": "stream",
     "text": [
      "GPU available: True (cuda), used: True\n",
      "TPU available: False, using: 0 TPU cores\n",
      "IPU available: False, using: 0 IPUs\n",
      "HPU available: False, using: 0 HPUs\n",
      "Failed to detect the name of this notebook, you can set it manually with the WANDB_NOTEBOOK_NAME environment variable to enable code saving.\n",
      "\u001b[34m\u001b[1mwandb\u001b[0m: Currently logged in as: \u001b[33mkpuchalskixiv\u001b[0m. Use \u001b[1m`wandb login --relogin`\u001b[0m to force relogin\n"
     ]
    },
    {
     "data": {
      "text/html": [
       "wandb version 0.18.3 is available!  To upgrade, please run:\n",
       " $ pip install wandb --upgrade"
      ],
      "text/plain": [
       "<IPython.core.display.HTML object>"
      ]
     },
     "metadata": {},
     "output_type": "display_data"
    },
    {
     "data": {
      "text/html": [
       "Tracking run with wandb version 0.16.3"
      ],
      "text/plain": [
       "<IPython.core.display.HTML object>"
      ]
     },
     "metadata": {},
     "output_type": "display_data"
    },
    {
     "data": {
      "text/html": [
       "Run data is saved locally in <code>/home/kacper/GNN_Master/srgnn/wandb/run-20241005_145736-v9h49456</code>"
      ],
      "text/plain": [
       "<IPython.core.display.HTML object>"
      ]
     },
     "metadata": {},
     "output_type": "display_data"
    },
    {
     "data": {
      "text/html": [
       "Syncing run <strong><a href='https://wandb.ai/kpuchalskixiv/GNN_master/runs/v9h49456' target=\"_blank\">pretty-armadillo-698</a></strong> to <a href='https://wandb.ai/kpuchalskixiv/GNN_master' target=\"_blank\">Weights & Biases</a> (<a href='https://wandb.me/run' target=\"_blank\">docs</a>)<br/>"
      ],
      "text/plain": [
       "<IPython.core.display.HTML object>"
      ]
     },
     "metadata": {},
     "output_type": "display_data"
    },
    {
     "data": {
      "text/html": [
       " View project at <a href='https://wandb.ai/kpuchalskixiv/GNN_master' target=\"_blank\">https://wandb.ai/kpuchalskixiv/GNN_master</a>"
      ],
      "text/plain": [
       "<IPython.core.display.HTML object>"
      ]
     },
     "metadata": {},
     "output_type": "display_data"
    },
    {
     "data": {
      "text/html": [
       " View run at <a href='https://wandb.ai/kpuchalskixiv/GNN_master/runs/v9h49456' target=\"_blank\">https://wandb.ai/kpuchalskixiv/GNN_master/runs/v9h49456</a>"
      ],
      "text/plain": [
       "<IPython.core.display.HTML object>"
      ]
     },
     "metadata": {},
     "output_type": "display_data"
    },
    {
     "name": "stderr",
     "output_type": "stream",
     "text": [
      "/home/kacper/anaconda3/envs/gpu_torch/lib/python3.12/site-packages/pytorch_lightning/loggers/wandb.py:390: There is a wandb run already in progress and newly created instances of `WandbLogger` will reuse this run. If this is not desired, call `wandb.finish()` before instantiating `WandbLogger`.\n",
      "LOCAL_RANK: 0 - CUDA_VISIBLE_DEVICES: [0]\n",
      "\n",
      "  | Name  | Type            | Params\n",
      "------------------------------------------\n",
      "0 | model | GMMSessionGraph | 4.5 M \n",
      "------------------------------------------\n",
      "4.5 M     Trainable params\n",
      "0         Non-trainable params\n",
      "4.5 M     Total params\n",
      "18.009    Total estimated model params size (MB)\n"
     ]
    },
    {
     "name": "stdout",
     "output_type": "stream",
     "text": [
      "Epoch 0:  70%|██████▉   | 4530/6475 [03:36<01:33, 20.88it/s, v_num=9456, train_loss=6.220]"
     ]
    },
    {
     "name": "stderr",
     "output_type": "stream",
     "text": [
      "wandb: Network error (ConnectTimeout), entering retry loop.\n"
     ]
    },
    {
     "name": "stdout",
     "output_type": "stream",
     "text": [
      "Epoch 8: 100%|██████████| 6475/6475 [06:10<00:00, 17.47it/s, v_num=9456, train_loss=3.720, val_loss=5.630, val_hit=53.20, val_mrr=18.90]\n",
      "Finished training. Run id:  v9h49456\n"
     ]
    },
    {
     "name": "stderr",
     "output_type": "stream",
     "text": [
      "wandb: WARNING Source type is set to 'repo' but some required information is missing from the environment. A job will not be created from this run. See https://docs.wandb.ai/guides/launch/create-job\n"
     ]
    },
    {
     "data": {
      "text/html": [
       "<style>\n",
       "    table.wandb td:nth-child(1) { padding: 0 10px; text-align: left ; width: auto;} td:nth-child(2) {text-align: left ; width: 100%}\n",
       "    .wandb-row { display: flex; flex-direction: row; flex-wrap: wrap; justify-content: flex-start; width: 100% }\n",
       "    .wandb-col { display: flex; flex-direction: column; flex-basis: 100%; flex: 1; padding: 10px; }\n",
       "    </style>\n",
       "<div class=\"wandb-row\"><div class=\"wandb-col\"><h3>Run history:</h3><br/><table class=\"wandb\"><tr><td>epoch</td><td>▁▁▁▁▁▂▂▂▂▃▃▃▃▄▄▄▄▄▅▅▅▅▅▅▅▅▆▆▆▆▆▇▇▇▇▇████</td></tr><tr><td>scheduler_lr</td><td>███▂▂▂▁▁▁</td></tr><tr><td>train_loss</td><td>█▇▅▄▄▄▃▃▄▃▃▃▃▃▂▂▂▂▂▂▂▂▂▂▂▁▂▁▁▁▂▂▂▁▁▁▂▁▁▂</td></tr><tr><td>trainer/global_step</td><td>▁▁▁▁▂▂▂▂▂▃▃▃▃▃▃▄▄▄▄▄▅▅▅▅▅▅▆▆▆▆▆▇▇▇▇▇▇███</td></tr><tr><td>val_hit</td><td>▁▄▅██▇▇▇▇</td></tr><tr><td>val_loss</td><td>█▄▃▁▂▄▅▅▅</td></tr><tr><td>val_mrr</td><td>▁▄▄██▇▇▇▇</td></tr></table><br/></div><div class=\"wandb-col\"><h3>Run summary:</h3><br/><table class=\"wandb\"><tr><td>epoch</td><td>8</td></tr><tr><td>scheduler_lr</td><td>1e-05</td></tr><tr><td>train_loss</td><td>3.81853</td></tr><tr><td>trainer/global_step</td><td>58274</td></tr></table><br/></div></div>"
      ],
      "text/plain": [
       "<IPython.core.display.HTML object>"
      ]
     },
     "metadata": {},
     "output_type": "display_data"
    },
    {
     "data": {
      "text/html": [
       " View run <strong style=\"color:#cdcd00\">pretty-armadillo-698</strong> at: <a href='https://wandb.ai/kpuchalskixiv/GNN_master/runs/v9h49456' target=\"_blank\">https://wandb.ai/kpuchalskixiv/GNN_master/runs/v9h49456</a><br/>Synced 6 W&B file(s), 0 media file(s), 1 artifact file(s) and 0 other file(s)"
      ],
      "text/plain": [
       "<IPython.core.display.HTML object>"
      ]
     },
     "metadata": {},
     "output_type": "display_data"
    },
    {
     "data": {
      "text/html": [
       "Find logs at: <code>./wandb/run-20241005_145736-v9h49456/logs</code>"
      ],
      "text/plain": [
       "<IPython.core.display.HTML object>"
      ]
     },
     "metadata": {},
     "output_type": "display_data"
    },
    {
     "name": "stdout",
     "output_type": "stream",
     "text": [
      "Namespace(dataset='diginetica', batchSize=100, hiddenSize=100, epoch=30, lr=0.001, lr_dc=0.1, lr_dc_step=3, lr_milestones=[2, 5, 8], l2=1e-05, step=2, patience=5, nonhybrid=False, validation=True, valid_portion=0.1, pretrained_embeddings=False, unfreeze_epoch=0, gmm=[], weight_init='normal', augment_matrix=False, augment_clusters=False, augment_old_run_id='3abge2uq', augment_clip=0, augment_normalize=False, augment_raw=False, augment_p=1.0, augment_noise_p=0.0, augment_mean=0.01, augment_std=0.0, augment_categories=False, augment_nogmm=8, augment_gmm_init='k-means++', gmm_covariance_type='full', gmm_tol=0.001, lr_scheduler='step', augment_prenormalize_distances=False, augment_alg='gmm')\n",
      "data masking start\n"
     ]
    },
    {
     "name": "stderr",
     "output_type": "stream",
     "text": [
      "100%|██████████| 64/64 [00:05<00:00, 11.60it/s]\n"
     ]
    },
    {
     "name": "stdout",
     "output_type": "stream",
     "text": [
      "done masking\n",
      "data masking start\n"
     ]
    },
    {
     "name": "stderr",
     "output_type": "stream",
     "text": [
      "100%|██████████| 64/64 [00:00<00:00, 248.01it/s]\n",
      "GPU available: True (cuda), used: True\n",
      "TPU available: False, using: 0 TPU cores\n",
      "IPU available: False, using: 0 IPUs\n",
      "HPU available: False, using: 0 HPUs\n"
     ]
    },
    {
     "name": "stdout",
     "output_type": "stream",
     "text": [
      "done masking\n"
     ]
    },
    {
     "data": {
      "text/html": [
       "wandb version 0.18.3 is available!  To upgrade, please run:\n",
       " $ pip install wandb --upgrade"
      ],
      "text/plain": [
       "<IPython.core.display.HTML object>"
      ]
     },
     "metadata": {},
     "output_type": "display_data"
    },
    {
     "data": {
      "text/html": [
       "Tracking run with wandb version 0.16.3"
      ],
      "text/plain": [
       "<IPython.core.display.HTML object>"
      ]
     },
     "metadata": {},
     "output_type": "display_data"
    },
    {
     "data": {
      "text/html": [
       "Run data is saved locally in <code>/home/kacper/GNN_Master/srgnn/wandb/run-20241005_155440-c7ihc3ll</code>"
      ],
      "text/plain": [
       "<IPython.core.display.HTML object>"
      ]
     },
     "metadata": {},
     "output_type": "display_data"
    },
    {
     "data": {
      "text/html": [
       "Syncing run <strong><a href='https://wandb.ai/kpuchalskixiv/GNN_master/runs/c7ihc3ll' target=\"_blank\">wobbly-valley-699</a></strong> to <a href='https://wandb.ai/kpuchalskixiv/GNN_master' target=\"_blank\">Weights & Biases</a> (<a href='https://wandb.me/run' target=\"_blank\">docs</a>)<br/>"
      ],
      "text/plain": [
       "<IPython.core.display.HTML object>"
      ]
     },
     "metadata": {},
     "output_type": "display_data"
    },
    {
     "data": {
      "text/html": [
       " View project at <a href='https://wandb.ai/kpuchalskixiv/GNN_master' target=\"_blank\">https://wandb.ai/kpuchalskixiv/GNN_master</a>"
      ],
      "text/plain": [
       "<IPython.core.display.HTML object>"
      ]
     },
     "metadata": {},
     "output_type": "display_data"
    },
    {
     "data": {
      "text/html": [
       " View run at <a href='https://wandb.ai/kpuchalskixiv/GNN_master/runs/c7ihc3ll' target=\"_blank\">https://wandb.ai/kpuchalskixiv/GNN_master/runs/c7ihc3ll</a>"
      ],
      "text/plain": [
       "<IPython.core.display.HTML object>"
      ]
     },
     "metadata": {},
     "output_type": "display_data"
    },
    {
     "name": "stderr",
     "output_type": "stream",
     "text": [
      "/home/kacper/anaconda3/envs/gpu_torch/lib/python3.12/site-packages/pytorch_lightning/loggers/wandb.py:390: There is a wandb run already in progress and newly created instances of `WandbLogger` will reuse this run. If this is not desired, call `wandb.finish()` before instantiating `WandbLogger`.\n",
      "LOCAL_RANK: 0 - CUDA_VISIBLE_DEVICES: [0]\n",
      "\n",
      "  | Name  | Type            | Params\n",
      "------------------------------------------\n",
      "0 | model | GMMSessionGraph | 4.5 M \n",
      "------------------------------------------\n",
      "4.5 M     Trainable params\n",
      "0         Non-trainable params\n",
      "4.5 M     Total params\n",
      "18.009    Total estimated model params size (MB)\n"
     ]
    },
    {
     "name": "stdout",
     "output_type": "stream",
     "text": [
      "Epoch 8: 100%|██████████| 6475/6475 [05:59<00:00, 18.01it/s, v_num=c3ll, train_loss=3.790, val_loss=5.650, val_hit=52.60, val_mrr=18.80]\n",
      "Finished training. Run id:  c7ihc3ll\n"
     ]
    },
    {
     "name": "stderr",
     "output_type": "stream",
     "text": [
      "wandb: WARNING Source type is set to 'repo' but some required information is missing from the environment. A job will not be created from this run. See https://docs.wandb.ai/guides/launch/create-job\n"
     ]
    },
    {
     "data": {
      "text/html": [
       "<style>\n",
       "    table.wandb td:nth-child(1) { padding: 0 10px; text-align: left ; width: auto;} td:nth-child(2) {text-align: left ; width: 100%}\n",
       "    .wandb-row { display: flex; flex-direction: row; flex-wrap: wrap; justify-content: flex-start; width: 100% }\n",
       "    .wandb-col { display: flex; flex-direction: column; flex-basis: 100%; flex: 1; padding: 10px; }\n",
       "    </style>\n",
       "<div class=\"wandb-row\"><div class=\"wandb-col\"><h3>Run history:</h3><br/><table class=\"wandb\"><tr><td>epoch</td><td>▁▁▁▁▁▂▂▂▂▃▃▃▃▄▄▄▄▄▅▅▅▅▅▅▅▅▆▆▆▆▆▇▇▇▇▇████</td></tr><tr><td>scheduler_lr</td><td>███▂▂▂▁▁▁</td></tr><tr><td>train_loss</td><td>█▆▅▄▄▃▃▃▃▃▃▃▃▃▂▁▂▂▂▂▁▁▁▂▁▁▁▂▁▂▁▁▁▁▂▁▁▁▂▁</td></tr><tr><td>trainer/global_step</td><td>▁▁▁▁▂▂▂▂▂▃▃▃▃▃▃▄▄▄▄▄▅▅▅▅▅▅▆▆▆▆▆▇▇▇▇▇▇███</td></tr><tr><td>val_hit</td><td>▁▄▅██▇▇▇▆</td></tr><tr><td>val_loss</td><td>█▄▃▁▂▃▅▅▅</td></tr><tr><td>val_mrr</td><td>▁▃▄██▇▇▇▇</td></tr></table><br/></div><div class=\"wandb-col\"><h3>Run summary:</h3><br/><table class=\"wandb\"><tr><td>epoch</td><td>8</td></tr><tr><td>scheduler_lr</td><td>1e-05</td></tr><tr><td>train_loss</td><td>3.73956</td></tr><tr><td>trainer/global_step</td><td>58274</td></tr></table><br/></div></div>"
      ],
      "text/plain": [
       "<IPython.core.display.HTML object>"
      ]
     },
     "metadata": {},
     "output_type": "display_data"
    },
    {
     "data": {
      "text/html": [
       " View run <strong style=\"color:#cdcd00\">wobbly-valley-699</strong> at: <a href='https://wandb.ai/kpuchalskixiv/GNN_master/runs/c7ihc3ll' target=\"_blank\">https://wandb.ai/kpuchalskixiv/GNN_master/runs/c7ihc3ll</a><br/>Synced 6 W&B file(s), 0 media file(s), 1 artifact file(s) and 0 other file(s)"
      ],
      "text/plain": [
       "<IPython.core.display.HTML object>"
      ]
     },
     "metadata": {},
     "output_type": "display_data"
    },
    {
     "data": {
      "text/html": [
       "Find logs at: <code>./wandb/run-20241005_155440-c7ihc3ll/logs</code>"
      ],
      "text/plain": [
       "<IPython.core.display.HTML object>"
      ]
     },
     "metadata": {},
     "output_type": "display_data"
    },
    {
     "name": "stdout",
     "output_type": "stream",
     "text": [
      "Namespace(dataset='diginetica', batchSize=100, hiddenSize=100, epoch=30, lr=0.001, lr_dc=0.1, lr_dc_step=3, lr_milestones=[2, 5, 8], l2=1e-05, step=2, patience=5, nonhybrid=False, validation=True, valid_portion=0.1, pretrained_embeddings=False, unfreeze_epoch=0, gmm=[], weight_init='normal', augment_matrix=False, augment_clusters=False, augment_old_run_id='4dm99qnd', augment_clip=0, augment_normalize=False, augment_raw=False, augment_p=1.0, augment_noise_p=0.0, augment_mean=0.01, augment_std=0.0, augment_categories=False, augment_nogmm=8, augment_gmm_init='k-means++', gmm_covariance_type='full', gmm_tol=0.001, lr_scheduler='step', augment_prenormalize_distances=False, augment_alg='gmm')\n",
      "data masking start\n"
     ]
    },
    {
     "name": "stderr",
     "output_type": "stream",
     "text": [
      "100%|██████████| 64/64 [00:05<00:00, 12.01it/s]\n"
     ]
    },
    {
     "name": "stdout",
     "output_type": "stream",
     "text": [
      "done masking\n",
      "data masking start\n"
     ]
    },
    {
     "name": "stderr",
     "output_type": "stream",
     "text": [
      "100%|██████████| 64/64 [00:00<00:00, 211.42it/s]\n",
      "GPU available: True (cuda), used: True\n",
      "TPU available: False, using: 0 TPU cores\n",
      "IPU available: False, using: 0 IPUs\n",
      "HPU available: False, using: 0 HPUs\n"
     ]
    },
    {
     "name": "stdout",
     "output_type": "stream",
     "text": [
      "done masking\n"
     ]
    },
    {
     "data": {
      "text/html": [
       "wandb version 0.18.3 is available!  To upgrade, please run:\n",
       " $ pip install wandb --upgrade"
      ],
      "text/plain": [
       "<IPython.core.display.HTML object>"
      ]
     },
     "metadata": {},
     "output_type": "display_data"
    },
    {
     "data": {
      "text/html": [
       "Tracking run with wandb version 0.16.3"
      ],
      "text/plain": [
       "<IPython.core.display.HTML object>"
      ]
     },
     "metadata": {},
     "output_type": "display_data"
    },
    {
     "data": {
      "text/html": [
       "Run data is saved locally in <code>/home/kacper/GNN_Master/srgnn/wandb/run-20241005_164849-jadnjsru</code>"
      ],
      "text/plain": [
       "<IPython.core.display.HTML object>"
      ]
     },
     "metadata": {},
     "output_type": "display_data"
    },
    {
     "data": {
      "text/html": [
       "Syncing run <strong><a href='https://wandb.ai/kpuchalskixiv/GNN_master/runs/jadnjsru' target=\"_blank\">soft-valley-700</a></strong> to <a href='https://wandb.ai/kpuchalskixiv/GNN_master' target=\"_blank\">Weights & Biases</a> (<a href='https://wandb.me/run' target=\"_blank\">docs</a>)<br/>"
      ],
      "text/plain": [
       "<IPython.core.display.HTML object>"
      ]
     },
     "metadata": {},
     "output_type": "display_data"
    },
    {
     "data": {
      "text/html": [
       " View project at <a href='https://wandb.ai/kpuchalskixiv/GNN_master' target=\"_blank\">https://wandb.ai/kpuchalskixiv/GNN_master</a>"
      ],
      "text/plain": [
       "<IPython.core.display.HTML object>"
      ]
     },
     "metadata": {},
     "output_type": "display_data"
    },
    {
     "data": {
      "text/html": [
       " View run at <a href='https://wandb.ai/kpuchalskixiv/GNN_master/runs/jadnjsru' target=\"_blank\">https://wandb.ai/kpuchalskixiv/GNN_master/runs/jadnjsru</a>"
      ],
      "text/plain": [
       "<IPython.core.display.HTML object>"
      ]
     },
     "metadata": {},
     "output_type": "display_data"
    },
    {
     "name": "stderr",
     "output_type": "stream",
     "text": [
      "/home/kacper/anaconda3/envs/gpu_torch/lib/python3.12/site-packages/pytorch_lightning/loggers/wandb.py:390: There is a wandb run already in progress and newly created instances of `WandbLogger` will reuse this run. If this is not desired, call `wandb.finish()` before instantiating `WandbLogger`.\n",
      "LOCAL_RANK: 0 - CUDA_VISIBLE_DEVICES: [0]\n",
      "\n",
      "  | Name  | Type            | Params\n",
      "------------------------------------------\n",
      "0 | model | GMMSessionGraph | 4.5 M \n",
      "------------------------------------------\n",
      "4.5 M     Trainable params\n",
      "0         Non-trainable params\n",
      "4.5 M     Total params\n",
      "18.009    Total estimated model params size (MB)\n"
     ]
    },
    {
     "name": "stdout",
     "output_type": "stream",
     "text": [
      "Epoch 8: 100%|██████████| 6475/6475 [06:19<00:00, 17.07it/s, v_num=jsru, train_loss=3.800, val_loss=5.630, val_hit=53.00, val_mrr=19.00]\n",
      "Finished training. Run id:  jadnjsru\n"
     ]
    },
    {
     "name": "stderr",
     "output_type": "stream",
     "text": [
      "wandb: WARNING Source type is set to 'repo' but some required information is missing from the environment. A job will not be created from this run. See https://docs.wandb.ai/guides/launch/create-job\n"
     ]
    },
    {
     "data": {
      "text/html": [
       "<style>\n",
       "    table.wandb td:nth-child(1) { padding: 0 10px; text-align: left ; width: auto;} td:nth-child(2) {text-align: left ; width: 100%}\n",
       "    .wandb-row { display: flex; flex-direction: row; flex-wrap: wrap; justify-content: flex-start; width: 100% }\n",
       "    .wandb-col { display: flex; flex-direction: column; flex-basis: 100%; flex: 1; padding: 10px; }\n",
       "    </style>\n",
       "<div class=\"wandb-row\"><div class=\"wandb-col\"><h3>Run history:</h3><br/><table class=\"wandb\"><tr><td>epoch</td><td>▁▁▁▁▁▂▂▂▂▃▃▃▃▄▄▄▄▄▅▅▅▅▅▅▅▅▆▆▆▆▆▇▇▇▇▇████</td></tr><tr><td>scheduler_lr</td><td>███▂▂▂▁▁▁</td></tr><tr><td>train_loss</td><td>█▇▅▄▄▃▄▄▃▃▃▃▃▃▂▂▂▂▁▂▂▂▁▂▂▂▂▁▁▁▁▂▁▁▁▂▁▂▁▁</td></tr><tr><td>trainer/global_step</td><td>▁▁▁▁▂▂▂▂▂▃▃▃▃▃▃▄▄▄▄▄▅▅▅▅▅▅▆▆▆▆▆▇▇▇▇▇▇███</td></tr><tr><td>val_hit</td><td>▁▄▅██▇▇▇▆</td></tr><tr><td>val_loss</td><td>█▄▃▁▂▄▅▅▆</td></tr><tr><td>val_mrr</td><td>▁▄▄██▇▇▇▇</td></tr></table><br/></div><div class=\"wandb-col\"><h3>Run summary:</h3><br/><table class=\"wandb\"><tr><td>epoch</td><td>8</td></tr><tr><td>scheduler_lr</td><td>1e-05</td></tr><tr><td>train_loss</td><td>3.31862</td></tr><tr><td>trainer/global_step</td><td>58274</td></tr></table><br/></div></div>"
      ],
      "text/plain": [
       "<IPython.core.display.HTML object>"
      ]
     },
     "metadata": {},
     "output_type": "display_data"
    },
    {
     "data": {
      "text/html": [
       " View run <strong style=\"color:#cdcd00\">soft-valley-700</strong> at: <a href='https://wandb.ai/kpuchalskixiv/GNN_master/runs/jadnjsru' target=\"_blank\">https://wandb.ai/kpuchalskixiv/GNN_master/runs/jadnjsru</a><br/>Synced 6 W&B file(s), 0 media file(s), 1 artifact file(s) and 0 other file(s)"
      ],
      "text/plain": [
       "<IPython.core.display.HTML object>"
      ]
     },
     "metadata": {},
     "output_type": "display_data"
    },
    {
     "data": {
      "text/html": [
       "Find logs at: <code>./wandb/run-20241005_164849-jadnjsru/logs</code>"
      ],
      "text/plain": [
       "<IPython.core.display.HTML object>"
      ]
     },
     "metadata": {},
     "output_type": "display_data"
    },
    {
     "name": "stdout",
     "output_type": "stream",
     "text": [
      "Namespace(dataset='diginetica', batchSize=100, hiddenSize=100, epoch=30, lr=0.001, lr_dc=0.1, lr_dc_step=3, lr_milestones=[2, 5, 8], l2=1e-05, step=2, patience=5, nonhybrid=False, validation=True, valid_portion=0.1, pretrained_embeddings=False, unfreeze_epoch=0, gmm=[], weight_init='normal', augment_matrix=False, augment_clusters=False, augment_old_run_id='jxgwsuta', augment_clip=0, augment_normalize=False, augment_raw=False, augment_p=1.0, augment_noise_p=0.0, augment_mean=0.01, augment_std=0.0, augment_categories=False, augment_nogmm=8, augment_gmm_init='k-means++', gmm_covariance_type='full', gmm_tol=0.001, lr_scheduler='step', augment_prenormalize_distances=False, augment_alg='gmm')\n",
      "data masking start\n"
     ]
    },
    {
     "name": "stderr",
     "output_type": "stream",
     "text": [
      "100%|██████████| 64/64 [00:06<00:00, 10.52it/s]\n"
     ]
    },
    {
     "name": "stdout",
     "output_type": "stream",
     "text": [
      "done masking\n",
      "data masking start\n"
     ]
    },
    {
     "name": "stderr",
     "output_type": "stream",
     "text": [
      "100%|██████████| 64/64 [00:00<00:00, 213.81it/s]\n",
      "GPU available: True (cuda), used: True\n",
      "TPU available: False, using: 0 TPU cores\n",
      "IPU available: False, using: 0 IPUs\n",
      "HPU available: False, using: 0 HPUs\n"
     ]
    },
    {
     "name": "stdout",
     "output_type": "stream",
     "text": [
      "done masking\n"
     ]
    },
    {
     "data": {
      "text/html": [
       "wandb version 0.18.3 is available!  To upgrade, please run:\n",
       " $ pip install wandb --upgrade"
      ],
      "text/plain": [
       "<IPython.core.display.HTML object>"
      ]
     },
     "metadata": {},
     "output_type": "display_data"
    },
    {
     "data": {
      "text/html": [
       "Tracking run with wandb version 0.16.3"
      ],
      "text/plain": [
       "<IPython.core.display.HTML object>"
      ]
     },
     "metadata": {},
     "output_type": "display_data"
    },
    {
     "data": {
      "text/html": [
       "Run data is saved locally in <code>/home/kacper/GNN_Master/srgnn/wandb/run-20241005_174500-pbreuu0o</code>"
      ],
      "text/plain": [
       "<IPython.core.display.HTML object>"
      ]
     },
     "metadata": {},
     "output_type": "display_data"
    },
    {
     "data": {
      "text/html": [
       "Syncing run <strong><a href='https://wandb.ai/kpuchalskixiv/GNN_master/runs/pbreuu0o' target=\"_blank\">twilight-jazz-701</a></strong> to <a href='https://wandb.ai/kpuchalskixiv/GNN_master' target=\"_blank\">Weights & Biases</a> (<a href='https://wandb.me/run' target=\"_blank\">docs</a>)<br/>"
      ],
      "text/plain": [
       "<IPython.core.display.HTML object>"
      ]
     },
     "metadata": {},
     "output_type": "display_data"
    },
    {
     "data": {
      "text/html": [
       " View project at <a href='https://wandb.ai/kpuchalskixiv/GNN_master' target=\"_blank\">https://wandb.ai/kpuchalskixiv/GNN_master</a>"
      ],
      "text/plain": [
       "<IPython.core.display.HTML object>"
      ]
     },
     "metadata": {},
     "output_type": "display_data"
    },
    {
     "data": {
      "text/html": [
       " View run at <a href='https://wandb.ai/kpuchalskixiv/GNN_master/runs/pbreuu0o' target=\"_blank\">https://wandb.ai/kpuchalskixiv/GNN_master/runs/pbreuu0o</a>"
      ],
      "text/plain": [
       "<IPython.core.display.HTML object>"
      ]
     },
     "metadata": {},
     "output_type": "display_data"
    },
    {
     "name": "stderr",
     "output_type": "stream",
     "text": [
      "/home/kacper/anaconda3/envs/gpu_torch/lib/python3.12/site-packages/pytorch_lightning/loggers/wandb.py:390: There is a wandb run already in progress and newly created instances of `WandbLogger` will reuse this run. If this is not desired, call `wandb.finish()` before instantiating `WandbLogger`.\n",
      "LOCAL_RANK: 0 - CUDA_VISIBLE_DEVICES: [0]\n",
      "\n",
      "  | Name  | Type            | Params\n",
      "------------------------------------------\n",
      "0 | model | GMMSessionGraph | 4.5 M \n",
      "------------------------------------------\n",
      "4.5 M     Trainable params\n",
      "0         Non-trainable params\n",
      "4.5 M     Total params\n",
      "18.009    Total estimated model params size (MB)\n"
     ]
    },
    {
     "name": "stdout",
     "output_type": "stream",
     "text": [
      "Epoch 8: 100%|██████████| 6475/6475 [05:18<00:00, 20.34it/s, v_num=uu0o, train_loss=4.140, val_loss=5.610, val_hit=53.10, val_mrr=19.20]\n",
      "Finished training. Run id:  pbreuu0o\n"
     ]
    },
    {
     "name": "stderr",
     "output_type": "stream",
     "text": [
      "wandb: WARNING Source type is set to 'repo' but some required information is missing from the environment. A job will not be created from this run. See https://docs.wandb.ai/guides/launch/create-job\n"
     ]
    },
    {
     "data": {
      "text/html": [
       "<style>\n",
       "    table.wandb td:nth-child(1) { padding: 0 10px; text-align: left ; width: auto;} td:nth-child(2) {text-align: left ; width: 100%}\n",
       "    .wandb-row { display: flex; flex-direction: row; flex-wrap: wrap; justify-content: flex-start; width: 100% }\n",
       "    .wandb-col { display: flex; flex-direction: column; flex-basis: 100%; flex: 1; padding: 10px; }\n",
       "    </style>\n",
       "<div class=\"wandb-row\"><div class=\"wandb-col\"><h3>Run history:</h3><br/><table class=\"wandb\"><tr><td>epoch</td><td>▁▁▁▁▁▂▂▂▂▃▃▃▃▄▄▄▄▄▅▅▅▅▅▅▅▅▆▆▆▆▆▇▇▇▇▇████</td></tr><tr><td>scheduler_lr</td><td>███▂▂▂▁▁▁</td></tr><tr><td>train_loss</td><td>█▇▄▄▄▃▄▃▃▃▂▃▄▃▂▂▂▁▂▂▂▂▁▂▂▂▂▁▁▁▂▁▂▁▁▁▁▁▁▂</td></tr><tr><td>trainer/global_step</td><td>▁▁▁▁▂▂▂▂▂▃▃▃▃▃▃▄▄▄▄▄▅▅▅▅▅▅▆▆▆▆▆▇▇▇▇▇▇███</td></tr><tr><td>val_hit</td><td>▁▄▅██▇▇▆▆</td></tr><tr><td>val_loss</td><td>█▄▃▁▂▃▅▅▆</td></tr><tr><td>val_mrr</td><td>▁▃▄██▇▇▇▇</td></tr></table><br/></div><div class=\"wandb-col\"><h3>Run summary:</h3><br/><table class=\"wandb\"><tr><td>epoch</td><td>8</td></tr><tr><td>scheduler_lr</td><td>1e-05</td></tr><tr><td>train_loss</td><td>3.55199</td></tr><tr><td>trainer/global_step</td><td>58274</td></tr></table><br/></div></div>"
      ],
      "text/plain": [
       "<IPython.core.display.HTML object>"
      ]
     },
     "metadata": {},
     "output_type": "display_data"
    },
    {
     "data": {
      "text/html": [
       " View run <strong style=\"color:#cdcd00\">twilight-jazz-701</strong> at: <a href='https://wandb.ai/kpuchalskixiv/GNN_master/runs/pbreuu0o' target=\"_blank\">https://wandb.ai/kpuchalskixiv/GNN_master/runs/pbreuu0o</a><br/>Synced 6 W&B file(s), 0 media file(s), 1 artifact file(s) and 0 other file(s)"
      ],
      "text/plain": [
       "<IPython.core.display.HTML object>"
      ]
     },
     "metadata": {},
     "output_type": "display_data"
    },
    {
     "data": {
      "text/html": [
       "Find logs at: <code>./wandb/run-20241005_174500-pbreuu0o/logs</code>"
      ],
      "text/plain": [
       "<IPython.core.display.HTML object>"
      ]
     },
     "metadata": {},
     "output_type": "display_data"
    },
    {
     "data": {
      "text/plain": [
       "['v9h49456', 'c7ihc3ll', 'jadnjsru', 'pbreuu0o']"
      ]
     },
     "execution_count": 4,
     "metadata": {},
     "output_type": "execute_result"
    }
   ],
   "source": [
    "augmented_run_ids=[]\n",
    "no_gmm=8\n",
    "base_common_flags=f\"--dataset {dataset} --validation --valid-portion 0.1 --step 2 --lr-dc-step 3 --patience 5\"\n",
    "\n",
    "for rid in base_runs:\n",
    "    extra_flags=f'--augment-old-run-id {rid} --augment-nogmm {no_gmm} '\n",
    "\n",
    "\n",
    "    augmented_model_flags=base_common_flags+\" \"+extra_flags\n",
    "    aug_rid=train_model_gngmm(\n",
    "        augmented_model_flags.strip()\n",
    "    )\n",
    "    augmented_run_ids.append(aug_rid)\n",
    "augmented_run_ids"
   ]
  },
  {
   "cell_type": "markdown",
   "metadata": {},
   "source": [
    "# search for hyperparameters"
   ]
  },
  {
   "cell_type": "code",
   "execution_count": null,
   "metadata": {},
   "outputs": [],
   "source": [
    "augment_dist_flag=\"--augment-clusters\" #/'--augment-categories' or '' for i2i"
   ]
  },
  {
   "cell_type": "code",
   "execution_count": null,
   "metadata": {},
   "outputs": [
    {
     "name": "stdout",
     "output_type": "stream",
     "text": [
      "Namespace(dataset='diginetica', batchSize=100, hiddenSize=100, epoch=30, lr=0.001, lr_dc=0.1, lr_dc_step=2, lr_milestones=[2, 5, 8], l2=1e-05, step=2, patience=5, nonhybrid=False, validation=True, valid_portion=0.1, pretrained_embeddings=False, unfreeze_epoch=0, gmm=[], weight_init='normal', augment_matrix=False, augment_clusters=False, augment_old_run_id=None, augment_clip=0, augment_normalize=False, augment_raw=False, augment_p=1.0, augment_noise_p=1.0, augment_mean=0.01, augment_std=0.0, augment_categories=False, augment_nogmm=16, augment_gmm_init='k-means++', lr_scheduler='step', augment_prenormalize_distances=False)\n",
      "data masking start\n"
     ]
    },
    {
     "name": "stderr",
     "output_type": "stream",
     "text": [
      "100%|██████████| 64/64 [00:05<00:00, 11.49it/s]\n"
     ]
    },
    {
     "name": "stdout",
     "output_type": "stream",
     "text": [
      "done masking\n",
      "data masking start\n"
     ]
    },
    {
     "name": "stderr",
     "output_type": "stream",
     "text": [
      "100%|██████████| 64/64 [00:00<00:00, 186.46it/s]\n",
      "GPU available: True (cuda), used: True\n",
      "TPU available: False, using: 0 TPU cores\n",
      "IPU available: False, using: 0 IPUs\n",
      "HPU available: False, using: 0 HPUs\n"
     ]
    },
    {
     "name": "stdout",
     "output_type": "stream",
     "text": [
      "done masking\n"
     ]
    },
    {
     "data": {
      "text/html": [
       "wandb version 0.18.0 is available!  To upgrade, please run:\n",
       " $ pip install wandb --upgrade"
      ],
      "text/plain": [
       "<IPython.core.display.HTML object>"
      ]
     },
     "metadata": {},
     "output_type": "display_data"
    },
    {
     "data": {
      "text/html": [
       "Tracking run with wandb version 0.16.3"
      ],
      "text/plain": [
       "<IPython.core.display.HTML object>"
      ]
     },
     "metadata": {},
     "output_type": "display_data"
    },
    {
     "data": {
      "text/html": [
       "Run data is saved locally in <code>/home/kacper/GNN_Master/srgnn/wandb/run-20240915_205115-qm2ur7o3</code>"
      ],
      "text/plain": [
       "<IPython.core.display.HTML object>"
      ]
     },
     "metadata": {},
     "output_type": "display_data"
    },
    {
     "data": {
      "text/html": [
       "Syncing run <strong><a href='https://wandb.ai/kpuchalskixiv/GNN_master/runs/qm2ur7o3' target=\"_blank\">apricot-wood-603</a></strong> to <a href='https://wandb.ai/kpuchalskixiv/GNN_master' target=\"_blank\">Weights & Biases</a> (<a href='https://wandb.me/run' target=\"_blank\">docs</a>)<br/>"
      ],
      "text/plain": [
       "<IPython.core.display.HTML object>"
      ]
     },
     "metadata": {},
     "output_type": "display_data"
    },
    {
     "data": {
      "text/html": [
       " View project at <a href='https://wandb.ai/kpuchalskixiv/GNN_master' target=\"_blank\">https://wandb.ai/kpuchalskixiv/GNN_master</a>"
      ],
      "text/plain": [
       "<IPython.core.display.HTML object>"
      ]
     },
     "metadata": {},
     "output_type": "display_data"
    },
    {
     "data": {
      "text/html": [
       " View run at <a href='https://wandb.ai/kpuchalskixiv/GNN_master/runs/qm2ur7o3' target=\"_blank\">https://wandb.ai/kpuchalskixiv/GNN_master/runs/qm2ur7o3</a>"
      ],
      "text/plain": [
       "<IPython.core.display.HTML object>"
      ]
     },
     "metadata": {},
     "output_type": "display_data"
    },
    {
     "name": "stderr",
     "output_type": "stream",
     "text": [
      "/home/kacper/anaconda3/envs/gpu_torch/lib/python3.12/site-packages/pytorch_lightning/loggers/wandb.py:390: There is a wandb run already in progress and newly created instances of `WandbLogger` will reuse this run. If this is not desired, call `wandb.finish()` before instantiating `WandbLogger`.\n",
      "LOCAL_RANK: 0 - CUDA_VISIBLE_DEVICES: [0]\n",
      "\n",
      "  | Name  | Type         | Params\n",
      "---------------------------------------\n",
      "0 | model | SessionGraph | 4.5 M \n",
      "---------------------------------------\n",
      "4.5 M     Trainable params\n",
      "0         Non-trainable params\n",
      "4.5 M     Total params\n",
      "17.885    Total estimated model params size (MB)\n"
     ]
    },
    {
     "name": "stdout",
     "output_type": "stream",
     "text": [
      "Epoch 13: 100%|██████████| 6475/6475 [02:11<00:00, 49.06it/s, v_num=r7o3, train_loss=3.880, val_loss=5.320, val_hit=55.70, val_mrr=19.70]\n",
      "Finished training. Run id:  qm2ur7o3\n"
     ]
    },
    {
     "name": "stderr",
     "output_type": "stream",
     "text": [
      "wandb: WARNING Source type is set to 'repo' but some required information is missing from the environment. A job will not be created from this run. See https://docs.wandb.ai/guides/launch/create-job\n"
     ]
    },
    {
     "data": {
      "text/html": [
       "<style>\n",
       "    table.wandb td:nth-child(1) { padding: 0 10px; text-align: left ; width: auto;} td:nth-child(2) {text-align: left ; width: 100%}\n",
       "    .wandb-row { display: flex; flex-direction: row; flex-wrap: wrap; justify-content: flex-start; width: 100% }\n",
       "    .wandb-col { display: flex; flex-direction: column; flex-basis: 100%; flex: 1; padding: 10px; }\n",
       "    </style>\n",
       "<div class=\"wandb-row\"><div class=\"wandb-col\"><h3>Run history:</h3><br/><table class=\"wandb\"><tr><td>epoch</td><td>▁▁▁▂▂▂▂▂▂▃▃▃▃▃▄▄▄▄▄▄▅▅▅▅▅▅▆▆▆▆▆▇▇▇▇▇▇███</td></tr><tr><td>scheduler_lr</td><td>██▂▂▁▁▁▁▁▁▁▁▁▁</td></tr><tr><td>train_loss</td><td>█▅▄▃▄▃▂▂▂▂▃▂▂▂▂▂▂▁▂▂▂▂▁▂▂▂▂▂▂▂▂▂▂▁▂▁▂▁▁▁</td></tr><tr><td>trainer/global_step</td><td>▁▁▁▁▂▂▂▂▂▃▃▃▃▃▃▄▄▄▄▄▅▅▅▅▅▅▆▆▆▆▆▇▇▇▇▇▇███</td></tr><tr><td>val_hit</td><td>▁▄████████████</td></tr><tr><td>val_loss</td><td>█▄▁▁▂▂▂▂▂▂▂▂▂▂</td></tr><tr><td>val_mrr</td><td>▁▄████████████</td></tr></table><br/></div><div class=\"wandb-col\"><h3>Run summary:</h3><br/><table class=\"wandb\"><tr><td>epoch</td><td>13</td></tr><tr><td>scheduler_lr</td><td>0.0</td></tr><tr><td>train_loss</td><td>3.88144</td></tr><tr><td>trainer/global_step</td><td>90649</td></tr></table><br/></div></div>"
      ],
      "text/plain": [
       "<IPython.core.display.HTML object>"
      ]
     },
     "metadata": {},
     "output_type": "display_data"
    },
    {
     "data": {
      "text/html": [
       " View run <strong style=\"color:#cdcd00\">apricot-wood-603</strong> at: <a href='https://wandb.ai/kpuchalskixiv/GNN_master/runs/qm2ur7o3' target=\"_blank\">https://wandb.ai/kpuchalskixiv/GNN_master/runs/qm2ur7o3</a><br/>Synced 6 W&B file(s), 0 media file(s), 1 artifact file(s) and 0 other file(s)"
      ],
      "text/plain": [
       "<IPython.core.display.HTML object>"
      ]
     },
     "metadata": {},
     "output_type": "display_data"
    },
    {
     "data": {
      "text/html": [
       "Find logs at: <code>./wandb/run-20240915_205115-qm2ur7o3/logs</code>"
      ],
      "text/plain": [
       "<IPython.core.display.HTML object>"
      ]
     },
     "metadata": {},
     "output_type": "display_data"
    }
   ],
   "source": [
    "flag_str=f\"--dataset {dataset} --validation --valid-portion 0.1 --lr-scheduler step --step 2 --lr-dc-step 2 --patience 5\"\n",
    "rid=train_model(\n",
    "    flag_str.strip()\n",
    ")"
   ]
  },
  {
   "cell_type": "code",
   "execution_count": null,
   "metadata": {},
   "outputs": [
    {
     "name": "stdout",
     "output_type": "stream",
     "text": [
      "{'dataset': 'diginetica', 'batchSize': 100, 'hiddenSize': 100, 'epoch': 30, 'lr': 0.001, 'lr_dc': 0.1, 'lr_dc_step': 2, 'l2': 1e-05, 'step': 2, 'patience': 5, 'nonhybrid': False, 'validation': True, 'valid_portion': 0.1, 'pretrained_embedings': False, 'unfreeze_epoch': 0, 'gmm': [], 'augment_matrix': False, 'augment_clusters': False, 'augment_old_run_id': None, 'augment_clip': 0, 'augment_normalize': False, 'augment_raw': False, 'weight_init': 'normal', 'augment_categories': False, 'augment_nogmm': 16, 'augment_p': 1.0, 'augment_mean': 0.01, 'augment_std': 0.0, 'augment_gmm_init': 'k-means++', 'augment_prenormalize_distances': False, 'augment_noise_p': 1.0}\n",
      "(array([0, 1]), array([19124, 23974]))\n",
      "Namespace(dataset='diginetica', batchSize=100, hiddenSize=100, epoch=30, lr=0.001, lr_dc=0.1, lr_dc_step=2, lr_milestones=[2, 5, 8], l2=1e-06, step=2, patience=4, nonhybrid=False, validation=True, valid_portion=0.1, pretrained_embeddings=False, unfreeze_epoch=0, gmm=[], weight_init='normal', augment_matrix=True, augment_clusters=True, augment_old_run_id='qm2ur7o3', augment_clip=0, augment_normalize=True, augment_raw=False, augment_p=0.5, augment_noise_p=0.5, augment_mean=0.01, augment_std=0.01, augment_categories=False, augment_nogmm=2, augment_gmm_init='k-means++', lr_scheduler='step', augment_prenormalize_distances=False)\n",
      "data masking start\n"
     ]
    },
    {
     "name": "stderr",
     "output_type": "stream",
     "text": [
      "100%|██████████| 64/64 [00:05<00:00, 12.22it/s]\n",
      "/home/kacper/GNN_Master/srgnn/srgnn_datasets.py:450: RuntimeWarning: divide by zero encountered in divide\n",
      "  self.cluster_distances = 1 / self.cluster_distances\n"
     ]
    },
    {
     "name": "stdout",
     "output_type": "stream",
     "text": [
      "done masking\n",
      "data masking start\n"
     ]
    },
    {
     "name": "stderr",
     "output_type": "stream",
     "text": [
      "100%|██████████| 64/64 [00:00<00:00, 246.49it/s]\n",
      "GPU available: True (cuda), used: True\n",
      "TPU available: False, using: 0 TPU cores\n",
      "IPU available: False, using: 0 IPUs\n",
      "HPU available: False, using: 0 HPUs\n"
     ]
    },
    {
     "name": "stdout",
     "output_type": "stream",
     "text": [
      "done masking\n"
     ]
    },
    {
     "data": {
      "text/html": [
       "wandb version 0.18.0 is available!  To upgrade, please run:\n",
       " $ pip install wandb --upgrade"
      ],
      "text/plain": [
       "<IPython.core.display.HTML object>"
      ]
     },
     "metadata": {},
     "output_type": "display_data"
    },
    {
     "data": {
      "text/html": [
       "Tracking run with wandb version 0.16.3"
      ],
      "text/plain": [
       "<IPython.core.display.HTML object>"
      ]
     },
     "metadata": {},
     "output_type": "display_data"
    },
    {
     "data": {
      "text/html": [
       "Run data is saved locally in <code>/home/kacper/GNN_Master/srgnn/wandb/run-20240915_212330-ey3bjtz5</code>"
      ],
      "text/plain": [
       "<IPython.core.display.HTML object>"
      ]
     },
     "metadata": {},
     "output_type": "display_data"
    },
    {
     "data": {
      "text/html": [
       "Syncing run <strong><a href='https://wandb.ai/kpuchalskixiv/GNN_master/runs/ey3bjtz5' target=\"_blank\">expert-firefly-604</a></strong> to <a href='https://wandb.ai/kpuchalskixiv/GNN_master' target=\"_blank\">Weights & Biases</a> (<a href='https://wandb.me/run' target=\"_blank\">docs</a>)<br/>"
      ],
      "text/plain": [
       "<IPython.core.display.HTML object>"
      ]
     },
     "metadata": {},
     "output_type": "display_data"
    },
    {
     "data": {
      "text/html": [
       " View project at <a href='https://wandb.ai/kpuchalskixiv/GNN_master' target=\"_blank\">https://wandb.ai/kpuchalskixiv/GNN_master</a>"
      ],
      "text/plain": [
       "<IPython.core.display.HTML object>"
      ]
     },
     "metadata": {},
     "output_type": "display_data"
    },
    {
     "data": {
      "text/html": [
       " View run at <a href='https://wandb.ai/kpuchalskixiv/GNN_master/runs/ey3bjtz5' target=\"_blank\">https://wandb.ai/kpuchalskixiv/GNN_master/runs/ey3bjtz5</a>"
      ],
      "text/plain": [
       "<IPython.core.display.HTML object>"
      ]
     },
     "metadata": {},
     "output_type": "display_data"
    },
    {
     "name": "stderr",
     "output_type": "stream",
     "text": [
      "/home/kacper/anaconda3/envs/gpu_torch/lib/python3.12/site-packages/pytorch_lightning/loggers/wandb.py:390: There is a wandb run already in progress and newly created instances of `WandbLogger` will reuse this run. If this is not desired, call `wandb.finish()` before instantiating `WandbLogger`.\n",
      "LOCAL_RANK: 0 - CUDA_VISIBLE_DEVICES: [0]\n",
      "\n",
      "  | Name  | Type         | Params\n",
      "---------------------------------------\n",
      "0 | model | SessionGraph | 4.5 M \n",
      "---------------------------------------\n",
      "4.5 M     Trainable params\n",
      "0         Non-trainable params\n",
      "4.5 M     Total params\n",
      "17.885    Total estimated model params size (MB)\n"
     ]
    },
    {
     "name": "stdout",
     "output_type": "stream",
     "text": [
      "Epoch 8: 100%|██████████| 6475/6475 [02:13<00:00, 48.65it/s, v_num=jtz5, train_loss=4.320, val_loss=5.290, val_hit=55.70, val_mrr=20.10]\n",
      "Finished training. Run id:  ey3bjtz5\n"
     ]
    },
    {
     "name": "stderr",
     "output_type": "stream",
     "text": [
      "wandb: WARNING Source type is set to 'repo' but some required information is missing from the environment. A job will not be created from this run. See https://docs.wandb.ai/guides/launch/create-job\n"
     ]
    },
    {
     "data": {
      "text/html": [
       "<style>\n",
       "    table.wandb td:nth-child(1) { padding: 0 10px; text-align: left ; width: auto;} td:nth-child(2) {text-align: left ; width: 100%}\n",
       "    .wandb-row { display: flex; flex-direction: row; flex-wrap: wrap; justify-content: flex-start; width: 100% }\n",
       "    .wandb-col { display: flex; flex-direction: column; flex-basis: 100%; flex: 1; padding: 10px; }\n",
       "    </style>\n",
       "<div class=\"wandb-row\"><div class=\"wandb-col\"><h3>Run history:</h3><br/><table class=\"wandb\"><tr><td>epoch</td><td>▁▁▁▁▁▂▂▂▂▃▃▃▃▄▄▄▄▄▅▅▅▅▅▅▅▅▆▆▆▆▆▇▇▇▇▇████</td></tr><tr><td>scheduler_lr</td><td>██▂▂▁▁▁▁▁</td></tr><tr><td>train_loss</td><td>█▆▄▄▄▃▃▃▃▂▂▂▂▁▂▂▂▂▂▁▂▁▁▁▁▁▁▂▂▂▂▁▁▁▂▁▁▁▂▂</td></tr><tr><td>trainer/global_step</td><td>▁▁▁▁▂▂▂▂▂▃▃▃▃▃▃▄▄▄▄▄▅▅▅▅▅▅▆▆▆▆▆▇▇▇▇▇▇███</td></tr><tr><td>val_hit</td><td>▁▄███████</td></tr><tr><td>val_loss</td><td>█▄▁▁▁▁▁▂▂</td></tr><tr><td>val_mrr</td><td>▁▄███████</td></tr></table><br/></div><div class=\"wandb-col\"><h3>Run summary:</h3><br/><table class=\"wandb\"><tr><td>epoch</td><td>8</td></tr><tr><td>scheduler_lr</td><td>0.0</td></tr><tr><td>train_loss</td><td>3.87882</td></tr><tr><td>trainer/global_step</td><td>58274</td></tr></table><br/></div></div>"
      ],
      "text/plain": [
       "<IPython.core.display.HTML object>"
      ]
     },
     "metadata": {},
     "output_type": "display_data"
    },
    {
     "data": {
      "text/html": [
       " View run <strong style=\"color:#cdcd00\">expert-firefly-604</strong> at: <a href='https://wandb.ai/kpuchalskixiv/GNN_master/runs/ey3bjtz5' target=\"_blank\">https://wandb.ai/kpuchalskixiv/GNN_master/runs/ey3bjtz5</a><br/>Synced 6 W&B file(s), 0 media file(s), 1 artifact file(s) and 0 other file(s)"
      ],
      "text/plain": [
       "<IPython.core.display.HTML object>"
      ]
     },
     "metadata": {},
     "output_type": "display_data"
    },
    {
     "data": {
      "text/html": [
       "Find logs at: <code>./wandb/run-20240915_212330-ey3bjtz5/logs</code>"
      ],
      "text/plain": [
       "<IPython.core.display.HTML object>"
      ]
     },
     "metadata": {},
     "output_type": "display_data"
    },
    {
     "name": "stdout",
     "output_type": "stream",
     "text": [
      "Namespace(dataset='diginetica', batchSize=100, hiddenSize=100, epoch=30, lr=0.001, lr_dc=0.1, lr_dc_step=2, lr_milestones=[2, 5, 8], l2=1e-06, step=2, patience=4, nonhybrid=False, validation=True, valid_portion=0.1, pretrained_embeddings=False, unfreeze_epoch=0, gmm=[], weight_init='normal', augment_matrix=True, augment_clusters=True, augment_old_run_id='qm2ur7o3', augment_clip=0, augment_normalize=True, augment_raw=False, augment_p=0.5, augment_noise_p=0.5, augment_mean=0.01, augment_std=0.01, augment_categories=False, augment_nogmm=2, augment_gmm_init='k-means++', lr_scheduler='step', augment_prenormalize_distances=False)\n",
      "data masking start\n"
     ]
    },
    {
     "name": "stderr",
     "output_type": "stream",
     "text": [
      "100%|██████████| 64/64 [00:05<00:00, 12.32it/s]\n",
      "/home/kacper/GNN_Master/srgnn/srgnn_datasets.py:450: RuntimeWarning: divide by zero encountered in divide\n",
      "  self.cluster_distances = 1 / self.cluster_distances\n"
     ]
    },
    {
     "name": "stdout",
     "output_type": "stream",
     "text": [
      "done masking\n",
      "data masking start\n"
     ]
    },
    {
     "name": "stderr",
     "output_type": "stream",
     "text": [
      "100%|██████████| 64/64 [00:00<00:00, 273.25it/s]\n",
      "GPU available: True (cuda), used: True\n",
      "TPU available: False, using: 0 TPU cores\n",
      "IPU available: False, using: 0 IPUs\n",
      "HPU available: False, using: 0 HPUs\n"
     ]
    },
    {
     "name": "stdout",
     "output_type": "stream",
     "text": [
      "done masking\n"
     ]
    },
    {
     "data": {
      "text/html": [
       "wandb version 0.18.0 is available!  To upgrade, please run:\n",
       " $ pip install wandb --upgrade"
      ],
      "text/plain": [
       "<IPython.core.display.HTML object>"
      ]
     },
     "metadata": {},
     "output_type": "display_data"
    },
    {
     "data": {
      "text/html": [
       "Tracking run with wandb version 0.16.3"
      ],
      "text/plain": [
       "<IPython.core.display.HTML object>"
      ]
     },
     "metadata": {},
     "output_type": "display_data"
    },
    {
     "data": {
      "text/html": [
       "Run data is saved locally in <code>/home/kacper/GNN_Master/srgnn/wandb/run-20240915_214340-21wtiveg</code>"
      ],
      "text/plain": [
       "<IPython.core.display.HTML object>"
      ]
     },
     "metadata": {},
     "output_type": "display_data"
    },
    {
     "data": {
      "text/html": [
       "Syncing run <strong><a href='https://wandb.ai/kpuchalskixiv/GNN_master/runs/21wtiveg' target=\"_blank\">fine-monkey-606</a></strong> to <a href='https://wandb.ai/kpuchalskixiv/GNN_master' target=\"_blank\">Weights & Biases</a> (<a href='https://wandb.me/run' target=\"_blank\">docs</a>)<br/>"
      ],
      "text/plain": [
       "<IPython.core.display.HTML object>"
      ]
     },
     "metadata": {},
     "output_type": "display_data"
    },
    {
     "data": {
      "text/html": [
       " View project at <a href='https://wandb.ai/kpuchalskixiv/GNN_master' target=\"_blank\">https://wandb.ai/kpuchalskixiv/GNN_master</a>"
      ],
      "text/plain": [
       "<IPython.core.display.HTML object>"
      ]
     },
     "metadata": {},
     "output_type": "display_data"
    },
    {
     "data": {
      "text/html": [
       " View run at <a href='https://wandb.ai/kpuchalskixiv/GNN_master/runs/21wtiveg' target=\"_blank\">https://wandb.ai/kpuchalskixiv/GNN_master/runs/21wtiveg</a>"
      ],
      "text/plain": [
       "<IPython.core.display.HTML object>"
      ]
     },
     "metadata": {},
     "output_type": "display_data"
    },
    {
     "name": "stderr",
     "output_type": "stream",
     "text": [
      "/home/kacper/anaconda3/envs/gpu_torch/lib/python3.12/site-packages/pytorch_lightning/loggers/wandb.py:390: There is a wandb run already in progress and newly created instances of `WandbLogger` will reuse this run. If this is not desired, call `wandb.finish()` before instantiating `WandbLogger`.\n",
      "LOCAL_RANK: 0 - CUDA_VISIBLE_DEVICES: [0]\n",
      "\n",
      "  | Name  | Type         | Params\n",
      "---------------------------------------\n",
      "0 | model | SessionGraph | 4.5 M \n",
      "---------------------------------------\n",
      "4.5 M     Trainable params\n",
      "0         Non-trainable params\n",
      "4.5 M     Total params\n",
      "17.885    Total estimated model params size (MB)\n"
     ]
    },
    {
     "name": "stdout",
     "output_type": "stream",
     "text": [
      "Epoch 7:  75%|███████▍  | 4831/6475 [01:30<00:30, 53.18it/s, v_num=iveg, train_loss=4.280, val_loss=5.300, val_hit=55.60, val_mrr=19.90]"
     ]
    },
    {
     "name": "stderr",
     "output_type": "stream",
     "text": [
      "wandb: Network error (ConnectTimeout), entering retry loop.\n"
     ]
    },
    {
     "name": "stdout",
     "output_type": "stream",
     "text": [
      "Epoch 9: 100%|██████████| 6475/6475 [02:27<00:00, 43.83it/s, v_num=iveg, train_loss=3.740, val_loss=5.300, val_hit=55.60, val_mrr=19.90]\n",
      "Finished training. Run id:  21wtiveg\n"
     ]
    },
    {
     "name": "stderr",
     "output_type": "stream",
     "text": [
      "wandb: WARNING Source type is set to 'repo' but some required information is missing from the environment. A job will not be created from this run. See https://docs.wandb.ai/guides/launch/create-job\n"
     ]
    },
    {
     "data": {
      "text/html": [
       "<style>\n",
       "    table.wandb td:nth-child(1) { padding: 0 10px; text-align: left ; width: auto;} td:nth-child(2) {text-align: left ; width: 100%}\n",
       "    .wandb-row { display: flex; flex-direction: row; flex-wrap: wrap; justify-content: flex-start; width: 100% }\n",
       "    .wandb-col { display: flex; flex-direction: column; flex-basis: 100%; flex: 1; padding: 10px; }\n",
       "    </style>\n",
       "<div class=\"wandb-row\"><div class=\"wandb-col\"><h3>Run history:</h3><br/><table class=\"wandb\"><tr><td>epoch</td><td>▁▁▁▁▂▂▂▂▃▃▃▃▃▃▃▃▄▄▄▄▅▅▅▅▆▆▆▆▆▆▆▆▇▇▇▇████</td></tr><tr><td>scheduler_lr</td><td>██▂▂▁▁▁▁▁▁</td></tr><tr><td>train_loss</td><td>█▆▄▄▃▃▃▃▂▂▃▂▂▁▂▂▁▂▃▁▂▂▂▂▁▂▂▂▁▂▁▂▂▂▂▂▂▂▂▁</td></tr><tr><td>trainer/global_step</td><td>▁▁▁▂▂▂▂▂▂▃▃▃▃▃▄▄▄▄▄▄▅▅▅▅▅▅▆▆▆▆▆▇▇▇▇▇▇███</td></tr><tr><td>val_hit</td><td>▁▄████████</td></tr><tr><td>val_loss</td><td>█▄▁▁▁▁▂▂▂▂</td></tr><tr><td>val_mrr</td><td>▁▄████████</td></tr></table><br/></div><div class=\"wandb-col\"><h3>Run summary:</h3><br/><table class=\"wandb\"><tr><td>epoch</td><td>9</td></tr><tr><td>scheduler_lr</td><td>0.0</td></tr><tr><td>train_loss</td><td>3.74247</td></tr><tr><td>trainer/global_step</td><td>64749</td></tr></table><br/></div></div>"
      ],
      "text/plain": [
       "<IPython.core.display.HTML object>"
      ]
     },
     "metadata": {},
     "output_type": "display_data"
    },
    {
     "data": {
      "text/html": [
       " View run <strong style=\"color:#cdcd00\">fine-monkey-606</strong> at: <a href='https://wandb.ai/kpuchalskixiv/GNN_master/runs/21wtiveg' target=\"_blank\">https://wandb.ai/kpuchalskixiv/GNN_master/runs/21wtiveg</a><br/>Synced 6 W&B file(s), 0 media file(s), 1 artifact file(s) and 0 other file(s)"
      ],
      "text/plain": [
       "<IPython.core.display.HTML object>"
      ]
     },
     "metadata": {},
     "output_type": "display_data"
    },
    {
     "data": {
      "text/html": [
       "Find logs at: <code>./wandb/run-20240915_214340-21wtiveg/logs</code>"
      ],
      "text/plain": [
       "<IPython.core.display.HTML object>"
      ]
     },
     "metadata": {},
     "output_type": "display_data"
    },
    {
     "name": "stdout",
     "output_type": "stream",
     "text": [
      "{'dataset': 'diginetica', 'batchSize': 100, 'hiddenSize': 100, 'epoch': 30, 'lr': 0.001, 'lr_dc': 0.1, 'lr_dc_step': 2, 'l2': 1e-05, 'step': 2, 'patience': 5, 'nonhybrid': False, 'validation': True, 'valid_portion': 0.1, 'pretrained_embedings': False, 'unfreeze_epoch': 0, 'gmm': [], 'augment_matrix': False, 'augment_clusters': False, 'augment_old_run_id': None, 'augment_clip': 0, 'augment_normalize': False, 'augment_raw': False, 'weight_init': 'normal', 'augment_categories': False, 'augment_nogmm': 16, 'augment_p': 1.0, 'augment_mean': 0.01, 'augment_std': 0.0, 'augment_gmm_init': 'k-means++', 'augment_prenormalize_distances': False, 'augment_noise_p': 1.0}\n",
      "(array([0, 1, 2, 3, 4, 5, 6, 7]), array([11230,  6825,   882,  1054, 10972,  4773,  1257,  6105]))\n",
      "Namespace(dataset='diginetica', batchSize=100, hiddenSize=100, epoch=30, lr=0.001, lr_dc=0.1, lr_dc_step=2, lr_milestones=[2, 5, 8], l2=1e-06, step=2, patience=4, nonhybrid=False, validation=True, valid_portion=0.1, pretrained_embeddings=False, unfreeze_epoch=0, gmm=[], weight_init='normal', augment_matrix=True, augment_clusters=True, augment_old_run_id='qm2ur7o3', augment_clip=0, augment_normalize=True, augment_raw=False, augment_p=0.5, augment_noise_p=0.5, augment_mean=0.01, augment_std=0.01, augment_categories=False, augment_nogmm=8, augment_gmm_init='k-means++', lr_scheduler='step', augment_prenormalize_distances=False)\n",
      "data masking start\n"
     ]
    },
    {
     "name": "stderr",
     "output_type": "stream",
     "text": [
      "100%|██████████| 64/64 [00:06<00:00, 10.33it/s]\n",
      "/home/kacper/GNN_Master/srgnn/srgnn_datasets.py:450: RuntimeWarning: divide by zero encountered in divide\n",
      "  self.cluster_distances = 1 / self.cluster_distances\n"
     ]
    },
    {
     "name": "stdout",
     "output_type": "stream",
     "text": [
      "done masking\n",
      "data masking start\n"
     ]
    },
    {
     "name": "stderr",
     "output_type": "stream",
     "text": [
      "100%|██████████| 64/64 [00:00<00:00, 201.26it/s]\n",
      "GPU available: True (cuda), used: True\n",
      "TPU available: False, using: 0 TPU cores\n",
      "IPU available: False, using: 0 IPUs\n",
      "HPU available: False, using: 0 HPUs\n"
     ]
    },
    {
     "name": "stdout",
     "output_type": "stream",
     "text": [
      "done masking\n"
     ]
    },
    {
     "data": {
      "text/html": [
       "wandb version 0.18.0 is available!  To upgrade, please run:\n",
       " $ pip install wandb --upgrade"
      ],
      "text/plain": [
       "<IPython.core.display.HTML object>"
      ]
     },
     "metadata": {},
     "output_type": "display_data"
    },
    {
     "data": {
      "text/html": [
       "Tracking run with wandb version 0.16.3"
      ],
      "text/plain": [
       "<IPython.core.display.HTML object>"
      ]
     },
     "metadata": {},
     "output_type": "display_data"
    },
    {
     "data": {
      "text/html": [
       "Run data is saved locally in <code>/home/kacper/GNN_Master/srgnn/wandb/run-20240915_220948-bgqjpxh8</code>"
      ],
      "text/plain": [
       "<IPython.core.display.HTML object>"
      ]
     },
     "metadata": {},
     "output_type": "display_data"
    },
    {
     "data": {
      "text/html": [
       "Syncing run <strong><a href='https://wandb.ai/kpuchalskixiv/GNN_master/runs/bgqjpxh8' target=\"_blank\">classic-star-607</a></strong> to <a href='https://wandb.ai/kpuchalskixiv/GNN_master' target=\"_blank\">Weights & Biases</a> (<a href='https://wandb.me/run' target=\"_blank\">docs</a>)<br/>"
      ],
      "text/plain": [
       "<IPython.core.display.HTML object>"
      ]
     },
     "metadata": {},
     "output_type": "display_data"
    },
    {
     "data": {
      "text/html": [
       " View project at <a href='https://wandb.ai/kpuchalskixiv/GNN_master' target=\"_blank\">https://wandb.ai/kpuchalskixiv/GNN_master</a>"
      ],
      "text/plain": [
       "<IPython.core.display.HTML object>"
      ]
     },
     "metadata": {},
     "output_type": "display_data"
    },
    {
     "data": {
      "text/html": [
       " View run at <a href='https://wandb.ai/kpuchalskixiv/GNN_master/runs/bgqjpxh8' target=\"_blank\">https://wandb.ai/kpuchalskixiv/GNN_master/runs/bgqjpxh8</a>"
      ],
      "text/plain": [
       "<IPython.core.display.HTML object>"
      ]
     },
     "metadata": {},
     "output_type": "display_data"
    },
    {
     "name": "stderr",
     "output_type": "stream",
     "text": [
      "/home/kacper/anaconda3/envs/gpu_torch/lib/python3.12/site-packages/pytorch_lightning/loggers/wandb.py:390: There is a wandb run already in progress and newly created instances of `WandbLogger` will reuse this run. If this is not desired, call `wandb.finish()` before instantiating `WandbLogger`.\n",
      "LOCAL_RANK: 0 - CUDA_VISIBLE_DEVICES: [0]\n",
      "\n",
      "  | Name  | Type         | Params\n",
      "---------------------------------------\n",
      "0 | model | SessionGraph | 4.5 M \n",
      "---------------------------------------\n",
      "4.5 M     Trainable params\n",
      "0         Non-trainable params\n",
      "4.5 M     Total params\n",
      "17.885    Total estimated model params size (MB)\n"
     ]
    },
    {
     "name": "stdout",
     "output_type": "stream",
     "text": [
      "Epoch 8: 100%|██████████| 6475/6475 [02:30<00:00, 42.90it/s, v_num=pxh8, train_loss=3.940, val_loss=5.310, val_hit=55.60, val_mrr=20.00]\n",
      "Finished training. Run id:  bgqjpxh8\n"
     ]
    },
    {
     "name": "stderr",
     "output_type": "stream",
     "text": [
      "wandb: WARNING Source type is set to 'repo' but some required information is missing from the environment. A job will not be created from this run. See https://docs.wandb.ai/guides/launch/create-job\n"
     ]
    },
    {
     "data": {
      "text/html": [
       "<style>\n",
       "    table.wandb td:nth-child(1) { padding: 0 10px; text-align: left ; width: auto;} td:nth-child(2) {text-align: left ; width: 100%}\n",
       "    .wandb-row { display: flex; flex-direction: row; flex-wrap: wrap; justify-content: flex-start; width: 100% }\n",
       "    .wandb-col { display: flex; flex-direction: column; flex-basis: 100%; flex: 1; padding: 10px; }\n",
       "    </style>\n",
       "<div class=\"wandb-row\"><div class=\"wandb-col\"><h3>Run history:</h3><br/><table class=\"wandb\"><tr><td>epoch</td><td>▁▁▁▁▁▂▂▂▂▃▃▃▃▄▄▄▄▄▅▅▅▅▅▅▅▅▆▆▆▆▆▇▇▇▇▇████</td></tr><tr><td>scheduler_lr</td><td>██▂▂▁▁▁▁▁</td></tr><tr><td>train_loss</td><td>█▆▅▄▃▃▂▃▃▂▂▂▂▂▂▁▂▂▂▂▁▁▁▁▂▂▂▁▁▁▂▁▂▂▁▂▂▁▂▁</td></tr><tr><td>trainer/global_step</td><td>▁▁▁▁▂▂▂▂▂▃▃▃▃▃▃▄▄▄▄▄▅▅▅▅▅▅▆▆▆▆▆▇▇▇▇▇▇███</td></tr><tr><td>val_hit</td><td>▁▄███████</td></tr><tr><td>val_loss</td><td>█▄▁▁▁▁▁▁▁</td></tr><tr><td>val_mrr</td><td>▁▄███████</td></tr></table><br/></div><div class=\"wandb-col\"><h3>Run summary:</h3><br/><table class=\"wandb\"><tr><td>epoch</td><td>8</td></tr><tr><td>scheduler_lr</td><td>0.0</td></tr><tr><td>train_loss</td><td>4.36176</td></tr><tr><td>trainer/global_step</td><td>58274</td></tr></table><br/></div></div>"
      ],
      "text/plain": [
       "<IPython.core.display.HTML object>"
      ]
     },
     "metadata": {},
     "output_type": "display_data"
    },
    {
     "data": {
      "text/html": [
       " View run <strong style=\"color:#cdcd00\">classic-star-607</strong> at: <a href='https://wandb.ai/kpuchalskixiv/GNN_master/runs/bgqjpxh8' target=\"_blank\">https://wandb.ai/kpuchalskixiv/GNN_master/runs/bgqjpxh8</a><br/>Synced 6 W&B file(s), 0 media file(s), 1 artifact file(s) and 0 other file(s)"
      ],
      "text/plain": [
       "<IPython.core.display.HTML object>"
      ]
     },
     "metadata": {},
     "output_type": "display_data"
    },
    {
     "data": {
      "text/html": [
       "Find logs at: <code>./wandb/run-20240915_220948-bgqjpxh8/logs</code>"
      ],
      "text/plain": [
       "<IPython.core.display.HTML object>"
      ]
     },
     "metadata": {},
     "output_type": "display_data"
    },
    {
     "name": "stdout",
     "output_type": "stream",
     "text": [
      "Namespace(dataset='diginetica', batchSize=100, hiddenSize=100, epoch=30, lr=0.001, lr_dc=0.1, lr_dc_step=2, lr_milestones=[2, 5, 8], l2=1e-06, step=2, patience=4, nonhybrid=False, validation=True, valid_portion=0.1, pretrained_embeddings=False, unfreeze_epoch=0, gmm=[], weight_init='normal', augment_matrix=True, augment_clusters=True, augment_old_run_id='qm2ur7o3', augment_clip=0, augment_normalize=True, augment_raw=False, augment_p=0.5, augment_noise_p=0.5, augment_mean=0.01, augment_std=0.01, augment_categories=False, augment_nogmm=8, augment_gmm_init='k-means++', lr_scheduler='step', augment_prenormalize_distances=False)\n",
      "data masking start\n"
     ]
    },
    {
     "name": "stderr",
     "output_type": "stream",
     "text": [
      "100%|██████████| 64/64 [00:06<00:00, 10.36it/s]\n",
      "/home/kacper/GNN_Master/srgnn/srgnn_datasets.py:450: RuntimeWarning: divide by zero encountered in divide\n",
      "  self.cluster_distances = 1 / self.cluster_distances\n"
     ]
    },
    {
     "name": "stdout",
     "output_type": "stream",
     "text": [
      "done masking\n",
      "data masking start\n"
     ]
    },
    {
     "name": "stderr",
     "output_type": "stream",
     "text": [
      "100%|██████████| 64/64 [00:00<00:00, 229.48it/s]\n",
      "GPU available: True (cuda), used: True\n",
      "TPU available: False, using: 0 TPU cores\n",
      "IPU available: False, using: 0 IPUs\n",
      "HPU available: False, using: 0 HPUs\n"
     ]
    },
    {
     "name": "stdout",
     "output_type": "stream",
     "text": [
      "done masking\n"
     ]
    },
    {
     "data": {
      "text/html": [
       "wandb version 0.18.0 is available!  To upgrade, please run:\n",
       " $ pip install wandb --upgrade"
      ],
      "text/plain": [
       "<IPython.core.display.HTML object>"
      ]
     },
     "metadata": {},
     "output_type": "display_data"
    },
    {
     "data": {
      "text/html": [
       "Tracking run with wandb version 0.16.3"
      ],
      "text/plain": [
       "<IPython.core.display.HTML object>"
      ]
     },
     "metadata": {},
     "output_type": "display_data"
    },
    {
     "data": {
      "text/html": [
       "Run data is saved locally in <code>/home/kacper/GNN_Master/srgnn/wandb/run-20240915_223215-cx8cnx7m</code>"
      ],
      "text/plain": [
       "<IPython.core.display.HTML object>"
      ]
     },
     "metadata": {},
     "output_type": "display_data"
    },
    {
     "data": {
      "text/html": [
       "Syncing run <strong><a href='https://wandb.ai/kpuchalskixiv/GNN_master/runs/cx8cnx7m' target=\"_blank\">exalted-glade-609</a></strong> to <a href='https://wandb.ai/kpuchalskixiv/GNN_master' target=\"_blank\">Weights & Biases</a> (<a href='https://wandb.me/run' target=\"_blank\">docs</a>)<br/>"
      ],
      "text/plain": [
       "<IPython.core.display.HTML object>"
      ]
     },
     "metadata": {},
     "output_type": "display_data"
    },
    {
     "data": {
      "text/html": [
       " View project at <a href='https://wandb.ai/kpuchalskixiv/GNN_master' target=\"_blank\">https://wandb.ai/kpuchalskixiv/GNN_master</a>"
      ],
      "text/plain": [
       "<IPython.core.display.HTML object>"
      ]
     },
     "metadata": {},
     "output_type": "display_data"
    },
    {
     "data": {
      "text/html": [
       " View run at <a href='https://wandb.ai/kpuchalskixiv/GNN_master/runs/cx8cnx7m' target=\"_blank\">https://wandb.ai/kpuchalskixiv/GNN_master/runs/cx8cnx7m</a>"
      ],
      "text/plain": [
       "<IPython.core.display.HTML object>"
      ]
     },
     "metadata": {},
     "output_type": "display_data"
    },
    {
     "name": "stderr",
     "output_type": "stream",
     "text": [
      "/home/kacper/anaconda3/envs/gpu_torch/lib/python3.12/site-packages/pytorch_lightning/loggers/wandb.py:390: There is a wandb run already in progress and newly created instances of `WandbLogger` will reuse this run. If this is not desired, call `wandb.finish()` before instantiating `WandbLogger`.\n",
      "LOCAL_RANK: 0 - CUDA_VISIBLE_DEVICES: [0]\n",
      "\n",
      "  | Name  | Type         | Params\n",
      "---------------------------------------\n",
      "0 | model | SessionGraph | 4.5 M \n",
      "---------------------------------------\n",
      "4.5 M     Trainable params\n",
      "0         Non-trainable params\n",
      "4.5 M     Total params\n",
      "17.885    Total estimated model params size (MB)\n"
     ]
    },
    {
     "name": "stdout",
     "output_type": "stream",
     "text": [
      "Epoch 8: 100%|██████████| 6475/6475 [02:21<00:00, 45.62it/s, v_num=nx7m, train_loss=4.370, val_loss=5.310, val_hit=55.40, val_mrr=19.90]\n",
      "Finished training. Run id:  cx8cnx7m\n"
     ]
    },
    {
     "name": "stderr",
     "output_type": "stream",
     "text": [
      "wandb: WARNING Source type is set to 'repo' but some required information is missing from the environment. A job will not be created from this run. See https://docs.wandb.ai/guides/launch/create-job\n"
     ]
    },
    {
     "data": {
      "text/html": [
       "<style>\n",
       "    table.wandb td:nth-child(1) { padding: 0 10px; text-align: left ; width: auto;} td:nth-child(2) {text-align: left ; width: 100%}\n",
       "    .wandb-row { display: flex; flex-direction: row; flex-wrap: wrap; justify-content: flex-start; width: 100% }\n",
       "    .wandb-col { display: flex; flex-direction: column; flex-basis: 100%; flex: 1; padding: 10px; }\n",
       "    </style>\n",
       "<div class=\"wandb-row\"><div class=\"wandb-col\"><h3>Run history:</h3><br/><table class=\"wandb\"><tr><td>epoch</td><td>▁▁▁▁▁▂▂▂▂▃▃▃▃▄▄▄▄▄▅▅▅▅▅▅▅▅▆▆▆▆▆▇▇▇▇▇████</td></tr><tr><td>scheduler_lr</td><td>██▂▂▁▁▁▁▁</td></tr><tr><td>train_loss</td><td>█▆▅▄▄▃▃▃▄▃▂▂▂▂▂▂▂▂▂▁▂▂▁▂▂▁▁▂▂▁▂▁▁▂▂▁▂▁▁▂</td></tr><tr><td>trainer/global_step</td><td>▁▁▁▁▂▂▂▂▂▃▃▃▃▃▃▄▄▄▄▄▅▅▅▅▅▅▆▆▆▆▆▇▇▇▇▇▇███</td></tr><tr><td>val_hit</td><td>▁▄███████</td></tr><tr><td>val_loss</td><td>█▄▁▁▁▁▁▁▁</td></tr><tr><td>val_mrr</td><td>▁▃███████</td></tr></table><br/></div><div class=\"wandb-col\"><h3>Run summary:</h3><br/><table class=\"wandb\"><tr><td>epoch</td><td>8</td></tr><tr><td>scheduler_lr</td><td>0.0</td></tr><tr><td>train_loss</td><td>3.84684</td></tr><tr><td>trainer/global_step</td><td>58274</td></tr></table><br/></div></div>"
      ],
      "text/plain": [
       "<IPython.core.display.HTML object>"
      ]
     },
     "metadata": {},
     "output_type": "display_data"
    },
    {
     "data": {
      "text/html": [
       " View run <strong style=\"color:#cdcd00\">exalted-glade-609</strong> at: <a href='https://wandb.ai/kpuchalskixiv/GNN_master/runs/cx8cnx7m' target=\"_blank\">https://wandb.ai/kpuchalskixiv/GNN_master/runs/cx8cnx7m</a><br/>Synced 6 W&B file(s), 0 media file(s), 1 artifact file(s) and 0 other file(s)"
      ],
      "text/plain": [
       "<IPython.core.display.HTML object>"
      ]
     },
     "metadata": {},
     "output_type": "display_data"
    },
    {
     "data": {
      "text/html": [
       "Find logs at: <code>./wandb/run-20240915_223215-cx8cnx7m/logs</code>"
      ],
      "text/plain": [
       "<IPython.core.display.HTML object>"
      ]
     },
     "metadata": {},
     "output_type": "display_data"
    },
    {
     "name": "stdout",
     "output_type": "stream",
     "text": [
      "{'dataset': 'diginetica', 'batchSize': 100, 'hiddenSize': 100, 'epoch': 30, 'lr': 0.001, 'lr_dc': 0.1, 'lr_dc_step': 2, 'l2': 1e-05, 'step': 2, 'patience': 5, 'nonhybrid': False, 'validation': True, 'valid_portion': 0.1, 'pretrained_embedings': False, 'unfreeze_epoch': 0, 'gmm': [], 'augment_matrix': False, 'augment_clusters': False, 'augment_old_run_id': None, 'augment_clip': 0, 'augment_normalize': False, 'augment_raw': False, 'weight_init': 'normal', 'augment_categories': False, 'augment_nogmm': 16, 'augment_p': 1.0, 'augment_mean': 0.01, 'augment_std': 0.0, 'augment_gmm_init': 'k-means++', 'augment_prenormalize_distances': False, 'augment_noise_p': 1.0}\n",
      "(array([ 0,  1,  2,  3,  4,  5,  6,  7,  8,  9, 10, 11, 12, 13, 14, 15, 16,\n",
      "       17, 18, 19, 20, 21, 22, 23, 24, 25, 26, 27, 28, 29, 30, 31]), array([  23,  627,  157,  196,  804,  172,  555, 1101,  117, 6604, 6565,\n",
      "       1678,   52,  369, 4151,  388,  201,  218, 6514,   77, 1799,  141,\n",
      "        387,  210,  412,  201,  339, 7325,  871,  465,  229,  150]))\n",
      "Namespace(dataset='diginetica', batchSize=100, hiddenSize=100, epoch=30, lr=0.001, lr_dc=0.1, lr_dc_step=2, lr_milestones=[2, 5, 8], l2=1e-06, step=2, patience=4, nonhybrid=False, validation=True, valid_portion=0.1, pretrained_embeddings=False, unfreeze_epoch=0, gmm=[], weight_init='normal', augment_matrix=True, augment_clusters=True, augment_old_run_id='qm2ur7o3', augment_clip=0, augment_normalize=True, augment_raw=False, augment_p=0.5, augment_noise_p=0.5, augment_mean=0.01, augment_std=0.01, augment_categories=False, augment_nogmm=32, augment_gmm_init='k-means++', lr_scheduler='step', augment_prenormalize_distances=False)\n",
      "data masking start\n"
     ]
    },
    {
     "name": "stderr",
     "output_type": "stream",
     "text": [
      "100%|██████████| 64/64 [00:05<00:00, 10.92it/s]\n",
      "/home/kacper/GNN_Master/srgnn/srgnn_datasets.py:450: RuntimeWarning: divide by zero encountered in divide\n",
      "  self.cluster_distances = 1 / self.cluster_distances\n"
     ]
    },
    {
     "name": "stdout",
     "output_type": "stream",
     "text": [
      "done masking\n",
      "data masking start\n"
     ]
    },
    {
     "name": "stderr",
     "output_type": "stream",
     "text": [
      "100%|██████████| 64/64 [00:00<00:00, 241.52it/s]\n",
      "GPU available: True (cuda), used: True\n",
      "TPU available: False, using: 0 TPU cores\n",
      "IPU available: False, using: 0 IPUs\n",
      "HPU available: False, using: 0 HPUs\n"
     ]
    },
    {
     "name": "stdout",
     "output_type": "stream",
     "text": [
      "done masking\n"
     ]
    },
    {
     "data": {
      "text/html": [
       "wandb version 0.18.0 is available!  To upgrade, please run:\n",
       " $ pip install wandb --upgrade"
      ],
      "text/plain": [
       "<IPython.core.display.HTML object>"
      ]
     },
     "metadata": {},
     "output_type": "display_data"
    },
    {
     "data": {
      "text/html": [
       "Tracking run with wandb version 0.16.3"
      ],
      "text/plain": [
       "<IPython.core.display.HTML object>"
      ]
     },
     "metadata": {},
     "output_type": "display_data"
    },
    {
     "data": {
      "text/html": [
       "Run data is saved locally in <code>/home/kacper/GNN_Master/srgnn/wandb/run-20240915_230021-4kxamho0</code>"
      ],
      "text/plain": [
       "<IPython.core.display.HTML object>"
      ]
     },
     "metadata": {},
     "output_type": "display_data"
    },
    {
     "data": {
      "text/html": [
       "Syncing run <strong><a href='https://wandb.ai/kpuchalskixiv/GNN_master/runs/4kxamho0' target=\"_blank\">ruby-smoke-610</a></strong> to <a href='https://wandb.ai/kpuchalskixiv/GNN_master' target=\"_blank\">Weights & Biases</a> (<a href='https://wandb.me/run' target=\"_blank\">docs</a>)<br/>"
      ],
      "text/plain": [
       "<IPython.core.display.HTML object>"
      ]
     },
     "metadata": {},
     "output_type": "display_data"
    },
    {
     "data": {
      "text/html": [
       " View project at <a href='https://wandb.ai/kpuchalskixiv/GNN_master' target=\"_blank\">https://wandb.ai/kpuchalskixiv/GNN_master</a>"
      ],
      "text/plain": [
       "<IPython.core.display.HTML object>"
      ]
     },
     "metadata": {},
     "output_type": "display_data"
    },
    {
     "data": {
      "text/html": [
       " View run at <a href='https://wandb.ai/kpuchalskixiv/GNN_master/runs/4kxamho0' target=\"_blank\">https://wandb.ai/kpuchalskixiv/GNN_master/runs/4kxamho0</a>"
      ],
      "text/plain": [
       "<IPython.core.display.HTML object>"
      ]
     },
     "metadata": {},
     "output_type": "display_data"
    },
    {
     "name": "stderr",
     "output_type": "stream",
     "text": [
      "/home/kacper/anaconda3/envs/gpu_torch/lib/python3.12/site-packages/pytorch_lightning/loggers/wandb.py:390: There is a wandb run already in progress and newly created instances of `WandbLogger` will reuse this run. If this is not desired, call `wandb.finish()` before instantiating `WandbLogger`.\n",
      "LOCAL_RANK: 0 - CUDA_VISIBLE_DEVICES: [0]\n",
      "\n",
      "  | Name  | Type         | Params\n",
      "---------------------------------------\n",
      "0 | model | SessionGraph | 4.5 M \n",
      "---------------------------------------\n",
      "4.5 M     Trainable params\n",
      "0         Non-trainable params\n",
      "4.5 M     Total params\n",
      "17.885    Total estimated model params size (MB)\n"
     ]
    },
    {
     "name": "stdout",
     "output_type": "stream",
     "text": [
      "Epoch 11: 100%|██████████| 6475/6475 [02:31<00:00, 42.81it/s, v_num=mho0, train_loss=4.320, val_loss=5.300, val_hit=55.50, val_mrr=19.90]\n",
      "Finished training. Run id:  4kxamho0\n"
     ]
    },
    {
     "name": "stderr",
     "output_type": "stream",
     "text": [
      "wandb: WARNING Source type is set to 'repo' but some required information is missing from the environment. A job will not be created from this run. See https://docs.wandb.ai/guides/launch/create-job\n"
     ]
    },
    {
     "data": {
      "text/html": [
       "<style>\n",
       "    table.wandb td:nth-child(1) { padding: 0 10px; text-align: left ; width: auto;} td:nth-child(2) {text-align: left ; width: 100%}\n",
       "    .wandb-row { display: flex; flex-direction: row; flex-wrap: wrap; justify-content: flex-start; width: 100% }\n",
       "    .wandb-col { display: flex; flex-direction: column; flex-basis: 100%; flex: 1; padding: 10px; }\n",
       "    </style>\n",
       "<div class=\"wandb-row\"><div class=\"wandb-col\"><h3>Run history:</h3><br/><table class=\"wandb\"><tr><td>epoch</td><td>▁▁▁▁▂▂▂▂▂▂▃▃▃▄▄▄▄▄▄▄▅▅▅▅▅▅▅▆▆▆▇▇▇▇▇▇▇███</td></tr><tr><td>scheduler_lr</td><td>██▂▂▁▁▁▁▁▁▁▁</td></tr><tr><td>train_loss</td><td>█▅▄▃▃▃▃▂▂▂▂▂▂▂▂▂▂▂▂▁▁▂▂▂▁▁▂▂▂▁▂▂▁▁▂▂▁▂▁▁</td></tr><tr><td>trainer/global_step</td><td>▁▁▁▂▂▂▂▂▂▃▃▃▃▃▃▄▄▄▄▄▅▅▅▅▅▅▆▆▆▆▆▇▇▇▇▇▇███</td></tr><tr><td>val_hit</td><td>▁▄██████████</td></tr><tr><td>val_loss</td><td>█▄▁▁▂▂▂▂▂▂▂▂</td></tr><tr><td>val_mrr</td><td>▁▄██████████</td></tr></table><br/></div><div class=\"wandb-col\"><h3>Run summary:</h3><br/><table class=\"wandb\"><tr><td>epoch</td><td>11</td></tr><tr><td>scheduler_lr</td><td>0.0</td></tr><tr><td>train_loss</td><td>4.32233</td></tr><tr><td>trainer/global_step</td><td>77699</td></tr></table><br/></div></div>"
      ],
      "text/plain": [
       "<IPython.core.display.HTML object>"
      ]
     },
     "metadata": {},
     "output_type": "display_data"
    },
    {
     "data": {
      "text/html": [
       " View run <strong style=\"color:#cdcd00\">ruby-smoke-610</strong> at: <a href='https://wandb.ai/kpuchalskixiv/GNN_master/runs/4kxamho0' target=\"_blank\">https://wandb.ai/kpuchalskixiv/GNN_master/runs/4kxamho0</a><br/>Synced 6 W&B file(s), 0 media file(s), 1 artifact file(s) and 0 other file(s)"
      ],
      "text/plain": [
       "<IPython.core.display.HTML object>"
      ]
     },
     "metadata": {},
     "output_type": "display_data"
    },
    {
     "data": {
      "text/html": [
       "Find logs at: <code>./wandb/run-20240915_230021-4kxamho0/logs</code>"
      ],
      "text/plain": [
       "<IPython.core.display.HTML object>"
      ]
     },
     "metadata": {},
     "output_type": "display_data"
    },
    {
     "name": "stdout",
     "output_type": "stream",
     "text": [
      "Namespace(dataset='diginetica', batchSize=100, hiddenSize=100, epoch=30, lr=0.001, lr_dc=0.1, lr_dc_step=2, lr_milestones=[2, 5, 8], l2=1e-06, step=2, patience=4, nonhybrid=False, validation=True, valid_portion=0.1, pretrained_embeddings=False, unfreeze_epoch=0, gmm=[], weight_init='normal', augment_matrix=True, augment_clusters=True, augment_old_run_id='qm2ur7o3', augment_clip=0, augment_normalize=True, augment_raw=False, augment_p=0.5, augment_noise_p=0.5, augment_mean=0.01, augment_std=0.01, augment_categories=False, augment_nogmm=32, augment_gmm_init='k-means++', lr_scheduler='step', augment_prenormalize_distances=False)\n",
      "data masking start\n"
     ]
    },
    {
     "name": "stderr",
     "output_type": "stream",
     "text": [
      "100%|██████████| 64/64 [00:06<00:00, 10.07it/s]\n",
      "/home/kacper/GNN_Master/srgnn/srgnn_datasets.py:450: RuntimeWarning: divide by zero encountered in divide\n",
      "  self.cluster_distances = 1 / self.cluster_distances\n"
     ]
    },
    {
     "name": "stdout",
     "output_type": "stream",
     "text": [
      "done masking\n",
      "data masking start\n"
     ]
    },
    {
     "name": "stderr",
     "output_type": "stream",
     "text": [
      "100%|██████████| 64/64 [00:00<00:00, 192.02it/s]\n",
      "GPU available: True (cuda), used: True\n",
      "TPU available: False, using: 0 TPU cores\n",
      "IPU available: False, using: 0 IPUs\n",
      "HPU available: False, using: 0 HPUs\n"
     ]
    },
    {
     "name": "stdout",
     "output_type": "stream",
     "text": [
      "done masking\n"
     ]
    },
    {
     "data": {
      "text/html": [
       "wandb version 0.18.0 is available!  To upgrade, please run:\n",
       " $ pip install wandb --upgrade"
      ],
      "text/plain": [
       "<IPython.core.display.HTML object>"
      ]
     },
     "metadata": {},
     "output_type": "display_data"
    },
    {
     "data": {
      "text/html": [
       "Tracking run with wandb version 0.16.3"
      ],
      "text/plain": [
       "<IPython.core.display.HTML object>"
      ]
     },
     "metadata": {},
     "output_type": "display_data"
    },
    {
     "data": {
      "text/html": [
       "Run data is saved locally in <code>/home/kacper/GNN_Master/srgnn/wandb/run-20240915_232945-dlnjkkym</code>"
      ],
      "text/plain": [
       "<IPython.core.display.HTML object>"
      ]
     },
     "metadata": {},
     "output_type": "display_data"
    },
    {
     "data": {
      "text/html": [
       "Syncing run <strong><a href='https://wandb.ai/kpuchalskixiv/GNN_master/runs/dlnjkkym' target=\"_blank\">eternal-terrain-612</a></strong> to <a href='https://wandb.ai/kpuchalskixiv/GNN_master' target=\"_blank\">Weights & Biases</a> (<a href='https://wandb.me/run' target=\"_blank\">docs</a>)<br/>"
      ],
      "text/plain": [
       "<IPython.core.display.HTML object>"
      ]
     },
     "metadata": {},
     "output_type": "display_data"
    },
    {
     "data": {
      "text/html": [
       " View project at <a href='https://wandb.ai/kpuchalskixiv/GNN_master' target=\"_blank\">https://wandb.ai/kpuchalskixiv/GNN_master</a>"
      ],
      "text/plain": [
       "<IPython.core.display.HTML object>"
      ]
     },
     "metadata": {},
     "output_type": "display_data"
    },
    {
     "data": {
      "text/html": [
       " View run at <a href='https://wandb.ai/kpuchalskixiv/GNN_master/runs/dlnjkkym' target=\"_blank\">https://wandb.ai/kpuchalskixiv/GNN_master/runs/dlnjkkym</a>"
      ],
      "text/plain": [
       "<IPython.core.display.HTML object>"
      ]
     },
     "metadata": {},
     "output_type": "display_data"
    },
    {
     "name": "stderr",
     "output_type": "stream",
     "text": [
      "/home/kacper/anaconda3/envs/gpu_torch/lib/python3.12/site-packages/pytorch_lightning/loggers/wandb.py:390: There is a wandb run already in progress and newly created instances of `WandbLogger` will reuse this run. If this is not desired, call `wandb.finish()` before instantiating `WandbLogger`.\n",
      "LOCAL_RANK: 0 - CUDA_VISIBLE_DEVICES: [0]\n",
      "\n",
      "  | Name  | Type         | Params\n",
      "---------------------------------------\n",
      "0 | model | SessionGraph | 4.5 M \n",
      "---------------------------------------\n",
      "4.5 M     Trainable params\n",
      "0         Non-trainable params\n",
      "4.5 M     Total params\n",
      "17.885    Total estimated model params size (MB)\n"
     ]
    },
    {
     "name": "stdout",
     "output_type": "stream",
     "text": [
      "Epoch 5:  71%|███████   | 4597/6475 [01:29<00:36, 51.17it/s, v_num=kkym, train_loss=3.780, val_loss=5.310, val_hit=55.30, val_mrr=19.80]Finished training. Run id:  dlnjkkym\n"
     ]
    },
    {
     "name": "stderr",
     "output_type": "stream",
     "text": [
      "/home/kacper/anaconda3/envs/gpu_torch/lib/python3.12/site-packages/pytorch_lightning/trainer/call.py:54: Detected KeyboardInterrupt, attempting graceful shutdown...\n",
      "wandb: WARNING Source type is set to 'repo' but some required information is missing from the environment. A job will not be created from this run. See https://docs.wandb.ai/guides/launch/create-job\n"
     ]
    },
    {
     "data": {
      "text/html": [
       "<style>\n",
       "    table.wandb td:nth-child(1) { padding: 0 10px; text-align: left ; width: auto;} td:nth-child(2) {text-align: left ; width: 100%}\n",
       "    .wandb-row { display: flex; flex-direction: row; flex-wrap: wrap; justify-content: flex-start; width: 100% }\n",
       "    .wandb-col { display: flex; flex-direction: column; flex-basis: 100%; flex: 1; padding: 10px; }\n",
       "    </style>\n",
       "<div class=\"wandb-row\"><div class=\"wandb-col\"><h3>Run history:</h3><br/><table class=\"wandb\"><tr><td>epoch</td><td>▁▁▁▁▁▁▁▂▂▂▂▂▂▂▄▄▄▄▄▄▄▅▅▅▅▅▅▅▇▇▇▇▇▇▇█████</td></tr><tr><td>scheduler_lr</td><td>██▂▂▁▁</td></tr><tr><td>train_loss</td><td>█▆▅▃▄▄▄▃▃▃▃▃▃▃▂▂▂▂▂▂▂▂▂▂▂▁▁▂▂▂▁▁▂▂▁▂▂▁▁▂</td></tr><tr><td>trainer/global_step</td><td>▁▁▁▂▂▂▂▂▂▃▃▃▃▃▄▄▄▄▄▄▅▅▅▅▅▅▆▆▆▆▆▇▇▇▇▇▇███</td></tr><tr><td>val_hit</td><td>▁▄███</td></tr><tr><td>val_loss</td><td>█▄▁▁▂</td></tr><tr><td>val_mrr</td><td>▁▄███</td></tr></table><br/></div><div class=\"wandb-col\"><h3>Run summary:</h3><br/><table class=\"wandb\"><tr><td>epoch</td><td>5</td></tr><tr><td>scheduler_lr</td><td>1e-05</td></tr><tr><td>train_loss</td><td>3.86801</td></tr><tr><td>trainer/global_step</td><td>36949</td></tr></table><br/></div></div>"
      ],
      "text/plain": [
       "<IPython.core.display.HTML object>"
      ]
     },
     "metadata": {},
     "output_type": "display_data"
    },
    {
     "data": {
      "text/html": [
       " View run <strong style=\"color:#cdcd00\">eternal-terrain-612</strong> at: <a href='https://wandb.ai/kpuchalskixiv/GNN_master/runs/dlnjkkym' target=\"_blank\">https://wandb.ai/kpuchalskixiv/GNN_master/runs/dlnjkkym</a><br/>Synced 6 W&B file(s), 0 media file(s), 0 artifact file(s) and 0 other file(s)"
      ],
      "text/plain": [
       "<IPython.core.display.HTML object>"
      ]
     },
     "metadata": {},
     "output_type": "display_data"
    },
    {
     "data": {
      "text/html": [
       "Find logs at: <code>./wandb/run-20240915_232945-dlnjkkym/logs</code>"
      ],
      "text/plain": [
       "<IPython.core.display.HTML object>"
      ]
     },
     "metadata": {},
     "output_type": "display_data"
    },
    {
     "name": "stdout",
     "output_type": "stream",
     "text": [
      "{'dataset': 'diginetica', 'batchSize': 100, 'hiddenSize': 100, 'epoch': 30, 'lr': 0.001, 'lr_dc': 0.1, 'lr_dc_step': 2, 'l2': 1e-05, 'step': 2, 'patience': 5, 'nonhybrid': False, 'validation': True, 'valid_portion': 0.1, 'pretrained_embedings': False, 'unfreeze_epoch': 0, 'gmm': [], 'augment_matrix': False, 'augment_clusters': False, 'augment_old_run_id': None, 'augment_clip': 0, 'augment_normalize': False, 'augment_raw': False, 'weight_init': 'normal', 'augment_categories': False, 'augment_nogmm': 16, 'augment_p': 1.0, 'augment_mean': 0.01, 'augment_std': 0.0, 'augment_gmm_init': 'k-means++', 'augment_prenormalize_distances': False, 'augment_noise_p': 1.0}\n"
     ]
    },
    {
     "ename": "KeyboardInterrupt",
     "evalue": "",
     "output_type": "error",
     "traceback": [
      "\u001b[0;31m---------------------------------------------------------------------------\u001b[0m",
      "\u001b[0;31mKeyboardInterrupt\u001b[0m                         Traceback (most recent call last)",
      "Cell \u001b[0;32mIn[8], line 4\u001b[0m\n\u001b[1;32m      2\u001b[0m \u001b[38;5;28;01mif\u001b[39;00m augment_dist_flag\u001b[38;5;241m==\u001b[39m\u001b[38;5;124m\"\u001b[39m\u001b[38;5;124m--augment-clusters\u001b[39m\u001b[38;5;124m\"\u001b[39m:\n\u001b[1;32m      3\u001b[0m     gmm_label_flags\u001b[38;5;241m=\u001b[39m\u001b[38;5;124mf\u001b[39m\u001b[38;5;124m\"\u001b[39m\u001b[38;5;124m--run-id \u001b[39m\u001b[38;5;132;01m{\u001b[39;00mrid\u001b[38;5;132;01m}\u001b[39;00m\u001b[38;5;124m --no-clusters \u001b[39m\u001b[38;5;132;01m{\u001b[39;00mno_gmm\u001b[38;5;132;01m}\u001b[39;00m\u001b[38;5;124m\"\u001b[39m\n\u001b[0;32m----> 4\u001b[0m     \u001b[43mlabel_with_gmm\u001b[49m\u001b[43m(\u001b[49m\u001b[43mgmm_label_flags\u001b[49m\u001b[38;5;241;43m.\u001b[39;49m\u001b[43mstrip\u001b[49m\u001b[43m(\u001b[49m\u001b[43m)\u001b[49m\u001b[43m)\u001b[49m\n\u001b[1;32m      6\u001b[0m \u001b[38;5;28;01melif\u001b[39;00m augment_dist_flag\u001b[38;5;241m==\u001b[39m\u001b[38;5;124m'\u001b[39m\u001b[38;5;124m--augment-categories\u001b[39m\u001b[38;5;124m'\u001b[39m:\n\u001b[1;32m      7\u001b[0m     cat_label_flags\u001b[38;5;241m=\u001b[39m\u001b[38;5;124mf\u001b[39m\u001b[38;5;124m\"\u001b[39m\u001b[38;5;124m--run-id \u001b[39m\u001b[38;5;132;01m{\u001b[39;00mrid\u001b[38;5;132;01m}\u001b[39;00m\u001b[38;5;124m\"\u001b[39m\n",
      "File \u001b[0;32m~/GNN_Master/srgnn/label_items_with_gmm.py:85\u001b[0m, in \u001b[0;36mmain\u001b[0;34m(flags_str)\u001b[0m\n\u001b[1;32m     77\u001b[0m \u001b[38;5;28;01mdel\u001b[39;00m model\n\u001b[1;32m     79\u001b[0m gm \u001b[38;5;241m=\u001b[39m GaussianMixture(\n\u001b[1;32m     80\u001b[0m     n_components\u001b[38;5;241m=\u001b[39mparser_opt\u001b[38;5;241m.\u001b[39mno_clusters,\n\u001b[1;32m     81\u001b[0m     n_init\u001b[38;5;241m=\u001b[39mparser_opt\u001b[38;5;241m.\u001b[39mn_init,\n\u001b[1;32m     82\u001b[0m     init_params\u001b[38;5;241m=\u001b[39mparser_opt\u001b[38;5;241m.\u001b[39minit_params,\n\u001b[1;32m     83\u001b[0m     weights_init\u001b[38;5;241m=\u001b[39mnp\u001b[38;5;241m.\u001b[39mones(parser_opt\u001b[38;5;241m.\u001b[39mno_clusters) \u001b[38;5;241m/\u001b[39m parser_opt\u001b[38;5;241m.\u001b[39mno_clusters,\n\u001b[1;32m     84\u001b[0m )\n\u001b[0;32m---> 85\u001b[0m item_labels \u001b[38;5;241m=\u001b[39m \u001b[43mgm\u001b[49m\u001b[38;5;241;43m.\u001b[39;49m\u001b[43mfit_predict\u001b[49m\u001b[43m(\u001b[49m\u001b[43mitems_embeddings\u001b[49m\u001b[43m)\u001b[49m\n\u001b[1;32m     86\u001b[0m \u001b[38;5;28mprint\u001b[39m(np\u001b[38;5;241m.\u001b[39munique(item_labels, return_counts\u001b[38;5;241m=\u001b[39m\u001b[38;5;28;01mTrue\u001b[39;00m))\n\u001b[1;32m     87\u001b[0m \u001b[38;5;28;01mwith\u001b[39;00m \u001b[38;5;28mopen\u001b[39m(\n\u001b[1;32m     88\u001b[0m     \u001b[38;5;124mf\u001b[39m\u001b[38;5;124m\"\u001b[39m\u001b[38;5;124m../datasets/\u001b[39m\u001b[38;5;132;01m{\u001b[39;00mopt\u001b[38;5;241m.\u001b[39mdataset\u001b[38;5;132;01m}\u001b[39;00m\u001b[38;5;124m/item_labels_\u001b[39m\u001b[38;5;132;01m{\u001b[39;00mgm\u001b[38;5;241m.\u001b[39mn_components\u001b[38;5;132;01m}\u001b[39;00m\u001b[38;5;124m_\u001b[39m\u001b[38;5;132;01m{\u001b[39;00mparser_opt\u001b[38;5;241m.\u001b[39minit_params\u001b[38;5;132;01m}\u001b[39;00m\u001b[38;5;124m_\u001b[39m\u001b[38;5;132;01m{\u001b[39;00mopt\u001b[38;5;241m.\u001b[39mhiddenSize\u001b[38;5;132;01m}\u001b[39;00m\u001b[38;5;124m_\u001b[39m\u001b[38;5;132;01m{\u001b[39;00mparser_opt\u001b[38;5;241m.\u001b[39mrun_id\u001b[38;5;241m.\u001b[39msplit(\u001b[38;5;124m'\u001b[39m\u001b[38;5;124m-\u001b[39m\u001b[38;5;124m'\u001b[39m)[\u001b[38;5;241m-\u001b[39m\u001b[38;5;241m1\u001b[39m]\u001b[38;5;132;01m}\u001b[39;00m\u001b[38;5;124m.txt\u001b[39m\u001b[38;5;124m\"\u001b[39m,\n\u001b[1;32m     89\u001b[0m     \u001b[38;5;124m\"\u001b[39m\u001b[38;5;124mwb\u001b[39m\u001b[38;5;124m\"\u001b[39m,\n\u001b[1;32m     90\u001b[0m ) \u001b[38;5;28;01mas\u001b[39;00m f:\n",
      "File \u001b[0;32m~/anaconda3/envs/gpu_torch/lib/python3.12/site-packages/sklearn/base.py:1474\u001b[0m, in \u001b[0;36m_fit_context.<locals>.decorator.<locals>.wrapper\u001b[0;34m(estimator, *args, **kwargs)\u001b[0m\n\u001b[1;32m   1467\u001b[0m     estimator\u001b[38;5;241m.\u001b[39m_validate_params()\n\u001b[1;32m   1469\u001b[0m \u001b[38;5;28;01mwith\u001b[39;00m config_context(\n\u001b[1;32m   1470\u001b[0m     skip_parameter_validation\u001b[38;5;241m=\u001b[39m(\n\u001b[1;32m   1471\u001b[0m         prefer_skip_nested_validation \u001b[38;5;129;01mor\u001b[39;00m global_skip_validation\n\u001b[1;32m   1472\u001b[0m     )\n\u001b[1;32m   1473\u001b[0m ):\n\u001b[0;32m-> 1474\u001b[0m     \u001b[38;5;28;01mreturn\u001b[39;00m \u001b[43mfit_method\u001b[49m\u001b[43m(\u001b[49m\u001b[43mestimator\u001b[49m\u001b[43m,\u001b[49m\u001b[43m \u001b[49m\u001b[38;5;241;43m*\u001b[39;49m\u001b[43margs\u001b[49m\u001b[43m,\u001b[49m\u001b[43m \u001b[49m\u001b[38;5;241;43m*\u001b[39;49m\u001b[38;5;241;43m*\u001b[39;49m\u001b[43mkwargs\u001b[49m\u001b[43m)\u001b[49m\n",
      "File \u001b[0;32m~/anaconda3/envs/gpu_torch/lib/python3.12/site-packages/sklearn/mixture/_base.py:247\u001b[0m, in \u001b[0;36mBaseMixture.fit_predict\u001b[0;34m(self, X, y)\u001b[0m\n\u001b[1;32m    244\u001b[0m prev_lower_bound \u001b[38;5;241m=\u001b[39m lower_bound\n\u001b[1;32m    246\u001b[0m log_prob_norm, log_resp \u001b[38;5;241m=\u001b[39m \u001b[38;5;28mself\u001b[39m\u001b[38;5;241m.\u001b[39m_e_step(X)\n\u001b[0;32m--> 247\u001b[0m \u001b[38;5;28;43mself\u001b[39;49m\u001b[38;5;241;43m.\u001b[39;49m\u001b[43m_m_step\u001b[49m\u001b[43m(\u001b[49m\u001b[43mX\u001b[49m\u001b[43m,\u001b[49m\u001b[43m \u001b[49m\u001b[43mlog_resp\u001b[49m\u001b[43m)\u001b[49m\n\u001b[1;32m    248\u001b[0m lower_bound \u001b[38;5;241m=\u001b[39m \u001b[38;5;28mself\u001b[39m\u001b[38;5;241m.\u001b[39m_compute_lower_bound(log_resp, log_prob_norm)\n\u001b[1;32m    250\u001b[0m change \u001b[38;5;241m=\u001b[39m lower_bound \u001b[38;5;241m-\u001b[39m prev_lower_bound\n",
      "File \u001b[0;32m~/anaconda3/envs/gpu_torch/lib/python3.12/site-packages/sklearn/mixture/_gaussian_mixture.py:812\u001b[0m, in \u001b[0;36mGaussianMixture._m_step\u001b[0;34m(self, X, log_resp)\u001b[0m\n\u001b[1;32m    801\u001b[0m \u001b[38;5;28;01mdef\u001b[39;00m \u001b[38;5;21m_m_step\u001b[39m(\u001b[38;5;28mself\u001b[39m, X, log_resp):\n\u001b[1;32m    802\u001b[0m \u001b[38;5;250m    \u001b[39m\u001b[38;5;124;03m\"\"\"M step.\u001b[39;00m\n\u001b[1;32m    803\u001b[0m \n\u001b[1;32m    804\u001b[0m \u001b[38;5;124;03m    Parameters\u001b[39;00m\n\u001b[0;32m   (...)\u001b[0m\n\u001b[1;32m    810\u001b[0m \u001b[38;5;124;03m        the point of each sample in X.\u001b[39;00m\n\u001b[1;32m    811\u001b[0m \u001b[38;5;124;03m    \"\"\"\u001b[39;00m\n\u001b[0;32m--> 812\u001b[0m     \u001b[38;5;28mself\u001b[39m\u001b[38;5;241m.\u001b[39mweights_, \u001b[38;5;28mself\u001b[39m\u001b[38;5;241m.\u001b[39mmeans_, \u001b[38;5;28mself\u001b[39m\u001b[38;5;241m.\u001b[39mcovariances_ \u001b[38;5;241m=\u001b[39m \u001b[43m_estimate_gaussian_parameters\u001b[49m\u001b[43m(\u001b[49m\n\u001b[1;32m    813\u001b[0m \u001b[43m        \u001b[49m\u001b[43mX\u001b[49m\u001b[43m,\u001b[49m\u001b[43m \u001b[49m\u001b[43mnp\u001b[49m\u001b[38;5;241;43m.\u001b[39;49m\u001b[43mexp\u001b[49m\u001b[43m(\u001b[49m\u001b[43mlog_resp\u001b[49m\u001b[43m)\u001b[49m\u001b[43m,\u001b[49m\u001b[43m \u001b[49m\u001b[38;5;28;43mself\u001b[39;49m\u001b[38;5;241;43m.\u001b[39;49m\u001b[43mreg_covar\u001b[49m\u001b[43m,\u001b[49m\u001b[43m \u001b[49m\u001b[38;5;28;43mself\u001b[39;49m\u001b[38;5;241;43m.\u001b[39;49m\u001b[43mcovariance_type\u001b[49m\n\u001b[1;32m    814\u001b[0m \u001b[43m    \u001b[49m\u001b[43m)\u001b[49m\n\u001b[1;32m    815\u001b[0m     \u001b[38;5;28mself\u001b[39m\u001b[38;5;241m.\u001b[39mweights_ \u001b[38;5;241m/\u001b[39m\u001b[38;5;241m=\u001b[39m \u001b[38;5;28mself\u001b[39m\u001b[38;5;241m.\u001b[39mweights_\u001b[38;5;241m.\u001b[39msum()\n\u001b[1;32m    816\u001b[0m     \u001b[38;5;28mself\u001b[39m\u001b[38;5;241m.\u001b[39mprecisions_cholesky_ \u001b[38;5;241m=\u001b[39m _compute_precision_cholesky(\n\u001b[1;32m    817\u001b[0m         \u001b[38;5;28mself\u001b[39m\u001b[38;5;241m.\u001b[39mcovariances_, \u001b[38;5;28mself\u001b[39m\u001b[38;5;241m.\u001b[39mcovariance_type\n\u001b[1;32m    818\u001b[0m     )\n",
      "File \u001b[0;32m~/anaconda3/envs/gpu_torch/lib/python3.12/site-packages/sklearn/mixture/_gaussian_mixture.py:290\u001b[0m, in \u001b[0;36m_estimate_gaussian_parameters\u001b[0;34m(X, resp, reg_covar, covariance_type)\u001b[0m\n\u001b[1;32m    288\u001b[0m nk \u001b[38;5;241m=\u001b[39m resp\u001b[38;5;241m.\u001b[39msum(axis\u001b[38;5;241m=\u001b[39m\u001b[38;5;241m0\u001b[39m) \u001b[38;5;241m+\u001b[39m \u001b[38;5;241m10\u001b[39m \u001b[38;5;241m*\u001b[39m np\u001b[38;5;241m.\u001b[39mfinfo(resp\u001b[38;5;241m.\u001b[39mdtype)\u001b[38;5;241m.\u001b[39meps\n\u001b[1;32m    289\u001b[0m means \u001b[38;5;241m=\u001b[39m np\u001b[38;5;241m.\u001b[39mdot(resp\u001b[38;5;241m.\u001b[39mT, X) \u001b[38;5;241m/\u001b[39m nk[:, np\u001b[38;5;241m.\u001b[39mnewaxis]\n\u001b[0;32m--> 290\u001b[0m covariances \u001b[38;5;241m=\u001b[39m \u001b[43m{\u001b[49m\n\u001b[1;32m    291\u001b[0m \u001b[43m    \u001b[49m\u001b[38;5;124;43m\"\u001b[39;49m\u001b[38;5;124;43mfull\u001b[39;49m\u001b[38;5;124;43m\"\u001b[39;49m\u001b[43m:\u001b[49m\u001b[43m \u001b[49m\u001b[43m_estimate_gaussian_covariances_full\u001b[49m\u001b[43m,\u001b[49m\n\u001b[1;32m    292\u001b[0m \u001b[43m    \u001b[49m\u001b[38;5;124;43m\"\u001b[39;49m\u001b[38;5;124;43mtied\u001b[39;49m\u001b[38;5;124;43m\"\u001b[39;49m\u001b[43m:\u001b[49m\u001b[43m \u001b[49m\u001b[43m_estimate_gaussian_covariances_tied\u001b[49m\u001b[43m,\u001b[49m\n\u001b[1;32m    293\u001b[0m \u001b[43m    \u001b[49m\u001b[38;5;124;43m\"\u001b[39;49m\u001b[38;5;124;43mdiag\u001b[39;49m\u001b[38;5;124;43m\"\u001b[39;49m\u001b[43m:\u001b[49m\u001b[43m \u001b[49m\u001b[43m_estimate_gaussian_covariances_diag\u001b[49m\u001b[43m,\u001b[49m\n\u001b[1;32m    294\u001b[0m \u001b[43m    \u001b[49m\u001b[38;5;124;43m\"\u001b[39;49m\u001b[38;5;124;43mspherical\u001b[39;49m\u001b[38;5;124;43m\"\u001b[39;49m\u001b[43m:\u001b[49m\u001b[43m \u001b[49m\u001b[43m_estimate_gaussian_covariances_spherical\u001b[49m\u001b[43m,\u001b[49m\n\u001b[1;32m    295\u001b[0m \u001b[43m\u001b[49m\u001b[43m}\u001b[49m\u001b[43m[\u001b[49m\u001b[43mcovariance_type\u001b[49m\u001b[43m]\u001b[49m\u001b[43m(\u001b[49m\u001b[43mresp\u001b[49m\u001b[43m,\u001b[49m\u001b[43m \u001b[49m\u001b[43mX\u001b[49m\u001b[43m,\u001b[49m\u001b[43m \u001b[49m\u001b[43mnk\u001b[49m\u001b[43m,\u001b[49m\u001b[43m \u001b[49m\u001b[43mmeans\u001b[49m\u001b[43m,\u001b[49m\u001b[43m \u001b[49m\u001b[43mreg_covar\u001b[49m\u001b[43m)\u001b[49m\n\u001b[1;32m    296\u001b[0m \u001b[38;5;28;01mreturn\u001b[39;00m nk, means, covariances\n",
      "File \u001b[0;32m~/anaconda3/envs/gpu_torch/lib/python3.12/site-packages/sklearn/mixture/_gaussian_mixture.py:177\u001b[0m, in \u001b[0;36m_estimate_gaussian_covariances_full\u001b[0;34m(resp, X, nk, means, reg_covar)\u001b[0m\n\u001b[1;32m    175\u001b[0m \u001b[38;5;28;01mfor\u001b[39;00m k \u001b[38;5;129;01min\u001b[39;00m \u001b[38;5;28mrange\u001b[39m(n_components):\n\u001b[1;32m    176\u001b[0m     diff \u001b[38;5;241m=\u001b[39m X \u001b[38;5;241m-\u001b[39m means[k]\n\u001b[0;32m--> 177\u001b[0m     covariances[k] \u001b[38;5;241m=\u001b[39m \u001b[43mnp\u001b[49m\u001b[38;5;241;43m.\u001b[39;49m\u001b[43mdot\u001b[49m\u001b[43m(\u001b[49m\u001b[43mresp\u001b[49m\u001b[43m[\u001b[49m\u001b[43m:\u001b[49m\u001b[43m,\u001b[49m\u001b[43m \u001b[49m\u001b[43mk\u001b[49m\u001b[43m]\u001b[49m\u001b[43m \u001b[49m\u001b[38;5;241;43m*\u001b[39;49m\u001b[43m \u001b[49m\u001b[43mdiff\u001b[49m\u001b[38;5;241;43m.\u001b[39;49m\u001b[43mT\u001b[49m\u001b[43m,\u001b[49m\u001b[43m \u001b[49m\u001b[43mdiff\u001b[49m\u001b[43m)\u001b[49m \u001b[38;5;241m/\u001b[39m nk[k]\n\u001b[1;32m    178\u001b[0m     covariances[k]\u001b[38;5;241m.\u001b[39mflat[:: n_features \u001b[38;5;241m+\u001b[39m \u001b[38;5;241m1\u001b[39m] \u001b[38;5;241m+\u001b[39m\u001b[38;5;241m=\u001b[39m reg_covar\n\u001b[1;32m    179\u001b[0m \u001b[38;5;28;01mreturn\u001b[39;00m covariances\n",
      "\u001b[0;31mKeyboardInterrupt\u001b[0m: "
     ]
    }
   ],
   "source": [
    "for no_gmm in [2, 8, 32, 128]:\n",
    "    if augment_dist_flag==\"--augment-clusters\":\n",
    "        gmm_label_flags=f\"--run-id {rid} --no-clusters {no_gmm}\"\n",
    "        label_with_gmm(gmm_label_flags.strip())\n",
    "\n",
    "    elif augment_dist_flag=='--augment-categories':\n",
    "        cat_label_flags=f\"--run-id {rid}\"\n",
    "        label_with_categories(cat_label_flags.strip())\n",
    "        \n",
    "    augmented_model_flags=f\"--dataset {dataset} --validation --valid-portion 0.1 --lr-scheduler step --step 2 --lr-dc-step 2 --patience 4 --augment-matrix --augment-old-run-id {rid} {augment_dist_flag} --augment-std 0.01 --augment-normalize --augment-p 0.5 --l2 0.000001 --augment-nogmm {no_gmm} --augment-noise-p 0.5\"\n",
    "    for i in range(2):\n",
    "        _=train_model(\n",
    "            augmented_model_flags.strip()\n",
    "        )\n",
    "    "
   ]
  },
  {
   "cell_type": "markdown",
   "metadata": {},
   "source": [
    "# rerun baseline+augmented K times, compute test metrics"
   ]
  },
  {
   "cell_type": "code",
   "execution_count": 2,
   "metadata": {},
   "outputs": [],
   "source": [
    "import pickle\n",
    "from srgnn_datasets import SRGNN_Map_Dataset, SRGNN_sampler\n",
    "from utils import load_model\n",
    "import os\n",
    "\n",
    "from torch.utils.data import DataLoader\n",
    "\n",
    "import pandas as pd\n",
    "\n",
    "from pytorch_lightning import Trainer\n",
    "from math import ceil\n",
    "from IPython.display import clear_output"
   ]
  },
  {
   "cell_type": "code",
   "execution_count": 3,
   "metadata": {},
   "outputs": [],
   "source": [
    "dataset='otto-recsys'"
   ]
  },
  {
   "cell_type": "code",
   "execution_count": 4,
   "metadata": {},
   "outputs": [],
   "source": [
    "k=5\n",
    "\n",
    "base_run_ids=[]\n",
    "aug_run_ids=[]"
   ]
  },
  {
   "cell_type": "code",
   "execution_count": 5,
   "metadata": {},
   "outputs": [
    {
     "name": "stdout",
     "output_type": "stream",
     "text": [
      "Namespace(dataset='otto-recsys', batchSize=100, hiddenSize=100, epoch=30, lr=0.001, lr_dc=0.1, lr_dc_step=2, lr_milestones=[2, 5, 8], l2=1e-05, step=2, patience=5, nonhybrid=False, validation=True, valid_portion=0.1, pretrained_embeddings=False, unfreeze_epoch=0, gmm=[], weight_init='normal', augment_matrix=False, augment_clusters=False, augment_old_run_id='', augment_clip=0, augment_normalize=False, augment_raw=False, augment_p=1.0, augment_noise_p=0.5, augment_mean=0.01, augment_std=0.01, augment_categories=False, augment_nogmm=16, augment_gmm_init='k-means++', augment_gmm_covariance='full', augment_gmm_tol=0.001, lr_scheduler='step', augment_prenormalize_distances=False, augment_alg='gmm')\n",
      "data masking start\n"
     ]
    },
    {
     "name": "stderr",
     "output_type": "stream",
     "text": [
      "100%|██████████| 64/64 [00:00<00:00, 137.81it/s]\n"
     ]
    },
    {
     "name": "stdout",
     "output_type": "stream",
     "text": [
      "done masking\n",
      "data masking start\n"
     ]
    },
    {
     "name": "stderr",
     "output_type": "stream",
     "text": [
      "100%|██████████| 64/64 [00:00<00:00, 2910.56it/s]\n",
      "GPU available: True (cuda), used: True\n",
      "TPU available: False, using: 0 TPU cores\n",
      "IPU available: False, using: 0 IPUs\n",
      "HPU available: False, using: 0 HPUs\n"
     ]
    },
    {
     "name": "stdout",
     "output_type": "stream",
     "text": [
      "done masking\n"
     ]
    },
    {
     "data": {
      "text/html": [
       "wandb version 0.18.5 is available!  To upgrade, please run:\n",
       " $ pip install wandb --upgrade"
      ],
      "text/plain": [
       "<IPython.core.display.HTML object>"
      ]
     },
     "metadata": {},
     "output_type": "display_data"
    },
    {
     "data": {
      "text/html": [
       "Tracking run with wandb version 0.16.3"
      ],
      "text/plain": [
       "<IPython.core.display.HTML object>"
      ]
     },
     "metadata": {},
     "output_type": "display_data"
    },
    {
     "data": {
      "text/html": [
       "Run data is saved locally in <code>/home/kacper/GNN_Master/srgnn/wandb/run-20241022_195811-umy0p2nx</code>"
      ],
      "text/plain": [
       "<IPython.core.display.HTML object>"
      ]
     },
     "metadata": {},
     "output_type": "display_data"
    },
    {
     "data": {
      "text/html": [
       "Syncing run <strong><a href='https://wandb.ai/kpuchalskixiv/GNN_master/runs/umy0p2nx' target=\"_blank\">vibrant-glade-825</a></strong> to <a href='https://wandb.ai/kpuchalskixiv/GNN_master' target=\"_blank\">Weights & Biases</a> (<a href='https://wandb.me/run' target=\"_blank\">docs</a>)<br/>"
      ],
      "text/plain": [
       "<IPython.core.display.HTML object>"
      ]
     },
     "metadata": {},
     "output_type": "display_data"
    },
    {
     "data": {
      "text/html": [
       " View project at <a href='https://wandb.ai/kpuchalskixiv/GNN_master' target=\"_blank\">https://wandb.ai/kpuchalskixiv/GNN_master</a>"
      ],
      "text/plain": [
       "<IPython.core.display.HTML object>"
      ]
     },
     "metadata": {},
     "output_type": "display_data"
    },
    {
     "data": {
      "text/html": [
       " View run at <a href='https://wandb.ai/kpuchalskixiv/GNN_master/runs/umy0p2nx' target=\"_blank\">https://wandb.ai/kpuchalskixiv/GNN_master/runs/umy0p2nx</a>"
      ],
      "text/plain": [
       "<IPython.core.display.HTML object>"
      ]
     },
     "metadata": {},
     "output_type": "display_data"
    },
    {
     "name": "stderr",
     "output_type": "stream",
     "text": [
      "/home/kacper/anaconda3/envs/gpu_torch/lib/python3.12/site-packages/pytorch_lightning/loggers/wandb.py:390: There is a wandb run already in progress and newly created instances of `WandbLogger` will reuse this run. If this is not desired, call `wandb.finish()` before instantiating `WandbLogger`.\n",
      "LOCAL_RANK: 0 - CUDA_VISIBLE_DEVICES: [0]\n",
      "\n",
      "  | Name  | Type         | Params\n",
      "---------------------------------------\n",
      "0 | model | SessionGraph | 2.1 M \n",
      "---------------------------------------\n",
      "2.1 M     Trainable params\n",
      "0         Non-trainable params\n",
      "2.1 M     Total params\n",
      "8.518     Total estimated model params size (MB)\n"
     ]
    },
    {
     "name": "stdout",
     "output_type": "stream",
     "text": [
      "Epoch 8: 100%|██████████| 1211/1211 [00:24<00:00, 50.35it/s, v_num=p2nx, train_loss=3.620, val_loss=6.540, val_hit=50.50, val_mrr=35.20]\n",
      "Finished training. Run id:  umy0p2nx\n"
     ]
    },
    {
     "name": "stderr",
     "output_type": "stream",
     "text": [
      "wandb: WARNING Source type is set to 'repo' but some required information is missing from the environment. A job will not be created from this run. See https://docs.wandb.ai/guides/launch/create-job\n"
     ]
    },
    {
     "data": {
      "text/html": [
       "<style>\n",
       "    table.wandb td:nth-child(1) { padding: 0 10px; text-align: left ; width: auto;} td:nth-child(2) {text-align: left ; width: 100%}\n",
       "    .wandb-row { display: flex; flex-direction: row; flex-wrap: wrap; justify-content: flex-start; width: 100% }\n",
       "    .wandb-col { display: flex; flex-direction: column; flex-basis: 100%; flex: 1; padding: 10px; }\n",
       "    </style>\n",
       "<div class=\"wandb-row\"><div class=\"wandb-col\"><h3>Run history:</h3><br/><table class=\"wandb\"><tr><td>epoch</td><td>▁▁▁▁▁▂▂▂▂▃▃▃▃▄▄▄▄▄▅▅▅▅▅▅▅▅▅▆▆▆▆▇▇▇▇█████</td></tr><tr><td>scheduler_lr</td><td>██▂▂▁▁▁▁▁</td></tr><tr><td>train_loss</td><td>██▆▆▆▅▄▄▄▂▂▂▂▂▁▂▂▂▂▂▂▁▂▂▂▃▂▁▂▂▂▂▂▁▂▂▁▁▁▂</td></tr><tr><td>trainer/global_step</td><td>▁▁▁▂▂▂▂▂▂▃▃▃▃▃▃▄▄▄▄▄▅▅▅▅▅▅▆▆▆▆▆▇▇▇▇▇▇███</td></tr><tr><td>val_hit</td><td>▁▇███████</td></tr><tr><td>val_loss</td><td>█▁▂▂▃▃▃▃▃</td></tr><tr><td>val_mrr</td><td>▁▇███████</td></tr></table><br/></div><div class=\"wandb-col\"><h3>Run summary:</h3><br/><table class=\"wandb\"><tr><td>epoch</td><td>8</td></tr><tr><td>scheduler_lr</td><td>0.0</td></tr><tr><td>train_loss</td><td>3.74136</td></tr><tr><td>trainer/global_step</td><td>10898</td></tr></table><br/></div></div>"
      ],
      "text/plain": [
       "<IPython.core.display.HTML object>"
      ]
     },
     "metadata": {},
     "output_type": "display_data"
    },
    {
     "data": {
      "text/html": [
       " View run <strong style=\"color:#cdcd00\">vibrant-glade-825</strong> at: <a href='https://wandb.ai/kpuchalskixiv/GNN_master/runs/umy0p2nx' target=\"_blank\">https://wandb.ai/kpuchalskixiv/GNN_master/runs/umy0p2nx</a><br/>Synced 6 W&B file(s), 0 media file(s), 1 artifact file(s) and 0 other file(s)"
      ],
      "text/plain": [
       "<IPython.core.display.HTML object>"
      ]
     },
     "metadata": {},
     "output_type": "display_data"
    },
    {
     "data": {
      "text/html": [
       "Find logs at: <code>./wandb/run-20241022_195811-umy0p2nx/logs</code>"
      ],
      "text/plain": [
       "<IPython.core.display.HTML object>"
      ]
     },
     "metadata": {},
     "output_type": "display_data"
    }
   ],
   "source": [
    "## noise only\n",
    "for i in range(k):\n",
    "    flag_str=f\"--dataset {dataset} --validation --valid-portion 0.1 --step 2 --lr-dc-step 2 --patience 5 --augment-noise-p 0.5 --augment-std 0.01\"\n",
    "    rid=train_model(\n",
    "        flag_str.strip()\n",
    "    )\n",
    "    base_run_ids.append(rid)\n",
    "    clear_output(wait=True)"
   ]
  },
  {
   "cell_type": "code",
   "execution_count": 5,
   "metadata": {},
   "outputs": [
    {
     "name": "stdout",
     "output_type": "stream",
     "text": [
      "Namespace(dataset='otto-recsys', batchSize=100, hiddenSize=100, epoch=30, lr=0.001, lr_dc=0.1, lr_dc_step=2, lr_milestones=[2, 5, 8], l2=1e-05, step=2, patience=5, nonhybrid=False, validation=True, valid_portion=0.1, pretrained_embeddings=False, unfreeze_epoch=0, gmm=[], weight_init='normal', augment_matrix=False, augment_clusters=False, augment_old_run_id='', augment_clip=0, augment_normalize=False, augment_raw=False, augment_p=1.0, augment_noise_p=0.0, augment_mean=0.01, augment_std=0.0, augment_categories=False, augment_nogmm=16, augment_gmm_init='k-means++', augment_gmm_covariance='full', augment_gmm_tol=0.001, lr_scheduler='step', augment_prenormalize_distances=False, augment_alg='gmm')\n",
      "data masking start\n"
     ]
    },
    {
     "name": "stderr",
     "output_type": "stream",
     "text": [
      "100%|██████████| 64/64 [00:00<00:00, 123.85it/s]\n"
     ]
    },
    {
     "name": "stdout",
     "output_type": "stream",
     "text": [
      "done masking\n",
      "data masking start\n"
     ]
    },
    {
     "name": "stderr",
     "output_type": "stream",
     "text": [
      "100%|██████████| 64/64 [00:00<00:00, 2030.76it/s]\n",
      "GPU available: True (cuda), used: True\n",
      "TPU available: False, using: 0 TPU cores\n",
      "IPU available: False, using: 0 IPUs\n",
      "HPU available: False, using: 0 HPUs\n"
     ]
    },
    {
     "name": "stdout",
     "output_type": "stream",
     "text": [
      "done masking\n"
     ]
    },
    {
     "data": {
      "text/html": [
       "wandb version 0.18.5 is available!  To upgrade, please run:\n",
       " $ pip install wandb --upgrade"
      ],
      "text/plain": [
       "<IPython.core.display.HTML object>"
      ]
     },
     "metadata": {},
     "output_type": "display_data"
    },
    {
     "data": {
      "text/html": [
       "Tracking run with wandb version 0.16.3"
      ],
      "text/plain": [
       "<IPython.core.display.HTML object>"
      ]
     },
     "metadata": {},
     "output_type": "display_data"
    },
    {
     "data": {
      "text/html": [
       "Run data is saved locally in <code>/home/kacper/GNN_Master/srgnn/wandb/run-20241023_005457-icirdid1</code>"
      ],
      "text/plain": [
       "<IPython.core.display.HTML object>"
      ]
     },
     "metadata": {},
     "output_type": "display_data"
    },
    {
     "data": {
      "text/html": [
       "Syncing run <strong><a href='https://wandb.ai/kpuchalskixiv/GNN_master/runs/icirdid1' target=\"_blank\">desert-leaf-845</a></strong> to <a href='https://wandb.ai/kpuchalskixiv/GNN_master' target=\"_blank\">Weights & Biases</a> (<a href='https://wandb.me/run' target=\"_blank\">docs</a>)<br/>"
      ],
      "text/plain": [
       "<IPython.core.display.HTML object>"
      ]
     },
     "metadata": {},
     "output_type": "display_data"
    },
    {
     "data": {
      "text/html": [
       " View project at <a href='https://wandb.ai/kpuchalskixiv/GNN_master' target=\"_blank\">https://wandb.ai/kpuchalskixiv/GNN_master</a>"
      ],
      "text/plain": [
       "<IPython.core.display.HTML object>"
      ]
     },
     "metadata": {},
     "output_type": "display_data"
    },
    {
     "data": {
      "text/html": [
       " View run at <a href='https://wandb.ai/kpuchalskixiv/GNN_master/runs/icirdid1' target=\"_blank\">https://wandb.ai/kpuchalskixiv/GNN_master/runs/icirdid1</a>"
      ],
      "text/plain": [
       "<IPython.core.display.HTML object>"
      ]
     },
     "metadata": {},
     "output_type": "display_data"
    },
    {
     "name": "stderr",
     "output_type": "stream",
     "text": [
      "/home/kacper/anaconda3/envs/gpu_torch/lib/python3.12/site-packages/pytorch_lightning/loggers/wandb.py:390: There is a wandb run already in progress and newly created instances of `WandbLogger` will reuse this run. If this is not desired, call `wandb.finish()` before instantiating `WandbLogger`.\n",
      "LOCAL_RANK: 0 - CUDA_VISIBLE_DEVICES: [0]\n",
      "\n",
      "  | Name  | Type         | Params\n",
      "---------------------------------------\n",
      "0 | model | SessionGraph | 2.1 M \n",
      "---------------------------------------\n",
      "2.1 M     Trainable params\n",
      "0         Non-trainable params\n",
      "2.1 M     Total params\n",
      "8.518     Total estimated model params size (MB)\n"
     ]
    },
    {
     "name": "stdout",
     "output_type": "stream",
     "text": [
      "Epoch 8: 100%|██████████| 1211/1211 [00:23<00:00, 51.49it/s, v_num=did1, train_loss=4.000, val_loss=6.440, val_hit=50.70, val_mrr=35.90]\n",
      "Finished training. Run id:  icirdid1\n"
     ]
    },
    {
     "name": "stderr",
     "output_type": "stream",
     "text": [
      "wandb: WARNING Source type is set to 'repo' but some required information is missing from the environment. A job will not be created from this run. See https://docs.wandb.ai/guides/launch/create-job\n"
     ]
    },
    {
     "data": {
      "text/html": [
       "<style>\n",
       "    table.wandb td:nth-child(1) { padding: 0 10px; text-align: left ; width: auto;} td:nth-child(2) {text-align: left ; width: 100%}\n",
       "    .wandb-row { display: flex; flex-direction: row; flex-wrap: wrap; justify-content: flex-start; width: 100% }\n",
       "    .wandb-col { display: flex; flex-direction: column; flex-basis: 100%; flex: 1; padding: 10px; }\n",
       "    </style>\n",
       "<div class=\"wandb-row\"><div class=\"wandb-col\"><h3>Run history:</h3><br/><table class=\"wandb\"><tr><td>epoch</td><td>▁▁▁▁▁▂▂▂▂▃▃▃▃▄▄▄▄▄▅▅▅▅▅▅▅▅▅▆▆▆▆▇▇▇▇█████</td></tr><tr><td>scheduler_lr</td><td>██▂▂▁▁▁▁▁</td></tr><tr><td>train_loss</td><td>█▇▇▅▅▄▄▄▄▂▂▂▂▃▂▁▂▂▂▂▂▁▂▂▂▂▂▁▂▁▂▁▁▁▃▁▂▁▂▂</td></tr><tr><td>trainer/global_step</td><td>▁▁▁▂▂▂▂▂▂▃▃▃▃▃▃▄▄▄▄▄▅▅▅▅▅▅▆▆▆▆▆▇▇▇▇▇▇███</td></tr><tr><td>val_hit</td><td>▁▇███████</td></tr><tr><td>val_loss</td><td>█▁▁▁▂▂▂▂▂</td></tr><tr><td>val_mrr</td><td>▁▇███████</td></tr></table><br/></div><div class=\"wandb-col\"><h3>Run summary:</h3><br/><table class=\"wandb\"><tr><td>epoch</td><td>8</td></tr><tr><td>scheduler_lr</td><td>0.0</td></tr><tr><td>train_loss</td><td>3.75171</td></tr><tr><td>trainer/global_step</td><td>10898</td></tr></table><br/></div></div>"
      ],
      "text/plain": [
       "<IPython.core.display.HTML object>"
      ]
     },
     "metadata": {},
     "output_type": "display_data"
    },
    {
     "data": {
      "text/html": [
       " View run <strong style=\"color:#cdcd00\">desert-leaf-845</strong> at: <a href='https://wandb.ai/kpuchalskixiv/GNN_master/runs/icirdid1' target=\"_blank\">https://wandb.ai/kpuchalskixiv/GNN_master/runs/icirdid1</a><br/>Synced 6 W&B file(s), 0 media file(s), 1 artifact file(s) and 0 other file(s)"
      ],
      "text/plain": [
       "<IPython.core.display.HTML object>"
      ]
     },
     "metadata": {},
     "output_type": "display_data"
    },
    {
     "data": {
      "text/html": [
       "Find logs at: <code>./wandb/run-20241023_005457-icirdid1/logs</code>"
      ],
      "text/plain": [
       "<IPython.core.display.HTML object>"
      ]
     },
     "metadata": {},
     "output_type": "display_data"
    },
    {
     "name": "stdout",
     "output_type": "stream",
     "text": [
      "{'dataset': 'otto-recsys', 'batchSize': 100, 'hiddenSize': 100, 'epoch': 30, 'lr': 0.001, 'lr_dc': 0.1, 'lr_dc_step': 2, 'lr_scheduler': 'step', 'lr_milestones': ([2, 5, 8],), 'l2': 1e-05, 'step': 2, 'patience': 5, 'nonhybrid': False, 'validation': True, 'valid_portion': 0.1, 'pretrained_embedings': False, 'unfreeze_epoch': 0, 'gmm': [], 'augment_matrix': False, 'augment_clusters': False, 'augment_old_run_id': '', 'augment_clip': 0, 'augment_normalize': False, 'augment_raw': False, 'weight_init': 'normal', 'augment_categories': False, 'augment_nogmm': 16, 'augment_p': 1.0, 'augment_mean': 0.01, 'augment_std': 0.0, 'augment_gmm_init': 'k-means++', 'augment_prenormalize_distances': False, 'augment_noise_p': 0.0, 'augment_alg': 'gmm', 'gmm_covariance_type': 'full', 'gmm_tol': 0.001}\n",
      "Initialization 0\n",
      "  Iteration 10\n",
      "Initialization converged: True\n",
      "Initialization 1\n",
      "  Iteration 10\n",
      "  Iteration 20\n",
      "  Iteration 30\n",
      "  Iteration 40\n",
      "  Iteration 50\n",
      "  Iteration 60\n",
      "  Iteration 70\n",
      "Initialization converged: True\n",
      "(array([0, 1, 2, 3, 4, 5, 6, 7]), array([1420, 2312, 1300,  964, 1481, 1587, 5498, 5118]))\n",
      "{'dataset': 'otto-recsys', 'batchSize': 100, 'hiddenSize': 100, 'epoch': 30, 'lr': 0.001, 'lr_dc': 0.1, 'lr_dc_step': 2, 'lr_scheduler': 'step', 'lr_milestones': ([2, 5, 8],), 'l2': 1e-05, 'step': 2, 'patience': 5, 'nonhybrid': False, 'validation': True, 'valid_portion': 0.1, 'pretrained_embedings': False, 'unfreeze_epoch': 0, 'gmm': [], 'augment_matrix': False, 'augment_clusters': False, 'augment_old_run_id': '', 'augment_clip': 0, 'augment_normalize': False, 'augment_raw': False, 'weight_init': 'normal', 'augment_categories': False, 'augment_nogmm': 16, 'augment_p': 1.0, 'augment_mean': 0.01, 'augment_std': 0.0, 'augment_gmm_init': 'k-means++', 'augment_prenormalize_distances': False, 'augment_noise_p': 0.0, 'augment_alg': 'gmm', 'gmm_covariance_type': 'full', 'gmm_tol': 0.001}\n",
      "(array([0, 1, 2, 3, 4, 5, 6, 7], dtype=int32), array([3110, 2789, 2230, 2713, 1925, 1848, 1974, 3091]))\n",
      "Namespace(dataset='otto-recsys', batchSize=100, hiddenSize=100, epoch=30, lr=0.001, lr_dc=0.1, lr_dc_step=2, lr_milestones=[2, 5, 8], l2=1e-06, step=2, patience=4, nonhybrid=False, validation=True, valid_portion=0.1, pretrained_embeddings=False, unfreeze_epoch=0, gmm=[], weight_init='normal', augment_matrix=True, augment_clusters=False, augment_old_run_id='icirdid1', augment_clip=0, augment_normalize=True, augment_raw=False, augment_p=0.5, augment_noise_p=0.5, augment_mean=0.01, augment_std=0.01, augment_categories=False, augment_nogmm=8, augment_gmm_init='k-means++', augment_gmm_covariance='full', augment_gmm_tol=0.001, lr_scheduler='step', augment_prenormalize_distances=False, augment_alg='gmm')\n",
      "data masking start\n"
     ]
    },
    {
     "name": "stderr",
     "output_type": "stream",
     "text": [
      "100%|██████████| 64/64 [00:00<00:00, 135.26it/s]\n",
      "/home/kacper/GNN_Master/srgnn/srgnn_datasets.py:456: RuntimeWarning: divide by zero encountered in divide\n",
      "  self.cluster_distances = 1 / self.cluster_distances\n"
     ]
    },
    {
     "name": "stdout",
     "output_type": "stream",
     "text": [
      "done masking\n",
      "data masking start\n"
     ]
    },
    {
     "name": "stderr",
     "output_type": "stream",
     "text": [
      "100%|██████████| 64/64 [00:00<00:00, 2786.25it/s]\n",
      "GPU available: True (cuda), used: True\n",
      "TPU available: False, using: 0 TPU cores\n",
      "IPU available: False, using: 0 IPUs\n",
      "HPU available: False, using: 0 HPUs\n"
     ]
    },
    {
     "name": "stdout",
     "output_type": "stream",
     "text": [
      "done masking\n"
     ]
    },
    {
     "data": {
      "text/html": [
       "wandb version 0.18.5 is available!  To upgrade, please run:\n",
       " $ pip install wandb --upgrade"
      ],
      "text/plain": [
       "<IPython.core.display.HTML object>"
      ]
     },
     "metadata": {},
     "output_type": "display_data"
    },
    {
     "data": {
      "text/html": [
       "Tracking run with wandb version 0.16.3"
      ],
      "text/plain": [
       "<IPython.core.display.HTML object>"
      ]
     },
     "metadata": {},
     "output_type": "display_data"
    },
    {
     "data": {
      "text/html": [
       "Run data is saved locally in <code>/home/kacper/GNN_Master/srgnn/wandb/run-20241023_005917-lc8hf28y</code>"
      ],
      "text/plain": [
       "<IPython.core.display.HTML object>"
      ]
     },
     "metadata": {},
     "output_type": "display_data"
    },
    {
     "data": {
      "text/html": [
       "Syncing run <strong><a href='https://wandb.ai/kpuchalskixiv/GNN_master/runs/lc8hf28y' target=\"_blank\">sparkling-durian-846</a></strong> to <a href='https://wandb.ai/kpuchalskixiv/GNN_master' target=\"_blank\">Weights & Biases</a> (<a href='https://wandb.me/run' target=\"_blank\">docs</a>)<br/>"
      ],
      "text/plain": [
       "<IPython.core.display.HTML object>"
      ]
     },
     "metadata": {},
     "output_type": "display_data"
    },
    {
     "data": {
      "text/html": [
       " View project at <a href='https://wandb.ai/kpuchalskixiv/GNN_master' target=\"_blank\">https://wandb.ai/kpuchalskixiv/GNN_master</a>"
      ],
      "text/plain": [
       "<IPython.core.display.HTML object>"
      ]
     },
     "metadata": {},
     "output_type": "display_data"
    },
    {
     "data": {
      "text/html": [
       " View run at <a href='https://wandb.ai/kpuchalskixiv/GNN_master/runs/lc8hf28y' target=\"_blank\">https://wandb.ai/kpuchalskixiv/GNN_master/runs/lc8hf28y</a>"
      ],
      "text/plain": [
       "<IPython.core.display.HTML object>"
      ]
     },
     "metadata": {},
     "output_type": "display_data"
    },
    {
     "name": "stderr",
     "output_type": "stream",
     "text": [
      "/home/kacper/anaconda3/envs/gpu_torch/lib/python3.12/site-packages/pytorch_lightning/loggers/wandb.py:390: There is a wandb run already in progress and newly created instances of `WandbLogger` will reuse this run. If this is not desired, call `wandb.finish()` before instantiating `WandbLogger`.\n",
      "LOCAL_RANK: 0 - CUDA_VISIBLE_DEVICES: [0]\n",
      "\n",
      "  | Name  | Type         | Params\n",
      "---------------------------------------\n",
      "0 | model | SessionGraph | 2.1 M \n",
      "---------------------------------------\n",
      "2.1 M     Trainable params\n",
      "0         Non-trainable params\n",
      "2.1 M     Total params\n",
      "8.518     Total estimated model params size (MB)\n"
     ]
    },
    {
     "name": "stdout",
     "output_type": "stream",
     "text": [
      "Epoch 7: 100%|██████████| 1211/1211 [00:24<00:00, 50.00it/s, v_num=f28y, train_loss=3.930, val_loss=6.480, val_hit=50.40, val_mrr=35.70]\n",
      "Finished training. Run id:  lc8hf28y\n"
     ]
    },
    {
     "name": "stderr",
     "output_type": "stream",
     "text": [
      "wandb: WARNING Source type is set to 'repo' but some required information is missing from the environment. A job will not be created from this run. See https://docs.wandb.ai/guides/launch/create-job\n"
     ]
    },
    {
     "data": {
      "text/html": [
       "<style>\n",
       "    table.wandb td:nth-child(1) { padding: 0 10px; text-align: left ; width: auto;} td:nth-child(2) {text-align: left ; width: 100%}\n",
       "    .wandb-row { display: flex; flex-direction: row; flex-wrap: wrap; justify-content: flex-start; width: 100% }\n",
       "    .wandb-col { display: flex; flex-direction: column; flex-basis: 100%; flex: 1; padding: 10px; }\n",
       "    </style>\n",
       "<div class=\"wandb-row\"><div class=\"wandb-col\"><h3>Run history:</h3><br/><table class=\"wandb\"><tr><td>epoch</td><td>▁▁▁▁▁▂▂▂▂▂▃▃▃▃▃▄▄▄▄▄▅▅▅▅▅▆▆▆▆▆▇▇▇▇▇█████</td></tr><tr><td>scheduler_lr</td><td>██▂▂▁▁▁▁</td></tr><tr><td>train_loss</td><td>█▇▇▆▆▃▄▄▅▃▃▂▂▂▂▂▂▂▂▂▂▂▂▂▁▂▂▂▂▃▂▁▂▁▂▂▂▂▂▂</td></tr><tr><td>trainer/global_step</td><td>▁▁▁▂▂▂▂▂▂▃▃▃▃▃▃▄▄▄▄▄▅▅▅▅▅▅▆▆▆▆▆▆▇▇▇▇▇███</td></tr><tr><td>val_hit</td><td>▁▇██████</td></tr><tr><td>val_loss</td><td>█▁▂▂▃▃▃▃</td></tr><tr><td>val_mrr</td><td>▁▇██████</td></tr></table><br/></div><div class=\"wandb-col\"><h3>Run summary:</h3><br/><table class=\"wandb\"><tr><td>epoch</td><td>7</td></tr><tr><td>scheduler_lr</td><td>0.0</td></tr><tr><td>train_loss</td><td>3.82184</td></tr><tr><td>trainer/global_step</td><td>9687</td></tr></table><br/></div></div>"
      ],
      "text/plain": [
       "<IPython.core.display.HTML object>"
      ]
     },
     "metadata": {},
     "output_type": "display_data"
    },
    {
     "data": {
      "text/html": [
       " View run <strong style=\"color:#cdcd00\">sparkling-durian-846</strong> at: <a href='https://wandb.ai/kpuchalskixiv/GNN_master/runs/lc8hf28y' target=\"_blank\">https://wandb.ai/kpuchalskixiv/GNN_master/runs/lc8hf28y</a><br/>Synced 6 W&B file(s), 0 media file(s), 1 artifact file(s) and 0 other file(s)"
      ],
      "text/plain": [
       "<IPython.core.display.HTML object>"
      ]
     },
     "metadata": {},
     "output_type": "display_data"
    },
    {
     "data": {
      "text/html": [
       "Find logs at: <code>./wandb/run-20241023_005917-lc8hf28y/logs</code>"
      ],
      "text/plain": [
       "<IPython.core.display.HTML object>"
      ]
     },
     "metadata": {},
     "output_type": "display_data"
    },
    {
     "name": "stdout",
     "output_type": "stream",
     "text": [
      "Namespace(dataset='otto-recsys', batchSize=100, hiddenSize=100, epoch=30, lr=0.001, lr_dc=0.1, lr_dc_step=2, lr_milestones=[2, 5, 8], l2=1e-06, step=2, patience=4, nonhybrid=False, validation=True, valid_portion=0.1, pretrained_embeddings=False, unfreeze_epoch=0, gmm=[], weight_init='normal', augment_matrix=True, augment_clusters=False, augment_old_run_id='icirdid1', augment_clip=0, augment_normalize=True, augment_raw=False, augment_p=0.5, augment_noise_p=0.5, augment_mean=0.01, augment_std=0.01, augment_categories=False, augment_nogmm=8, augment_gmm_init='k-means++', augment_gmm_covariance='full', augment_gmm_tol=0.001, lr_scheduler='step', augment_prenormalize_distances=False, augment_alg='kmeans')\n",
      "data masking start\n"
     ]
    },
    {
     "name": "stderr",
     "output_type": "stream",
     "text": [
      "100%|██████████| 64/64 [00:00<00:00, 131.97it/s]\n",
      "/home/kacper/GNN_Master/srgnn/srgnn_datasets.py:456: RuntimeWarning: divide by zero encountered in divide\n",
      "  self.cluster_distances = 1 / self.cluster_distances\n"
     ]
    },
    {
     "name": "stdout",
     "output_type": "stream",
     "text": [
      "done masking\n",
      "data masking start\n"
     ]
    },
    {
     "name": "stderr",
     "output_type": "stream",
     "text": [
      "100%|██████████| 64/64 [00:00<00:00, 2062.68it/s]\n",
      "GPU available: True (cuda), used: True\n",
      "TPU available: False, using: 0 TPU cores\n",
      "IPU available: False, using: 0 IPUs\n",
      "HPU available: False, using: 0 HPUs\n"
     ]
    },
    {
     "name": "stdout",
     "output_type": "stream",
     "text": [
      "done masking\n"
     ]
    },
    {
     "data": {
      "text/html": [
       "wandb version 0.18.5 is available!  To upgrade, please run:\n",
       " $ pip install wandb --upgrade"
      ],
      "text/plain": [
       "<IPython.core.display.HTML object>"
      ]
     },
     "metadata": {},
     "output_type": "display_data"
    },
    {
     "data": {
      "text/html": [
       "Tracking run with wandb version 0.16.3"
      ],
      "text/plain": [
       "<IPython.core.display.HTML object>"
      ]
     },
     "metadata": {},
     "output_type": "display_data"
    },
    {
     "data": {
      "text/html": [
       "Run data is saved locally in <code>/home/kacper/GNN_Master/srgnn/wandb/run-20241023_010243-pi1q0ni6</code>"
      ],
      "text/plain": [
       "<IPython.core.display.HTML object>"
      ]
     },
     "metadata": {},
     "output_type": "display_data"
    },
    {
     "data": {
      "text/html": [
       "Syncing run <strong><a href='https://wandb.ai/kpuchalskixiv/GNN_master/runs/pi1q0ni6' target=\"_blank\">pretty-capybara-847</a></strong> to <a href='https://wandb.ai/kpuchalskixiv/GNN_master' target=\"_blank\">Weights & Biases</a> (<a href='https://wandb.me/run' target=\"_blank\">docs</a>)<br/>"
      ],
      "text/plain": [
       "<IPython.core.display.HTML object>"
      ]
     },
     "metadata": {},
     "output_type": "display_data"
    },
    {
     "data": {
      "text/html": [
       " View project at <a href='https://wandb.ai/kpuchalskixiv/GNN_master' target=\"_blank\">https://wandb.ai/kpuchalskixiv/GNN_master</a>"
      ],
      "text/plain": [
       "<IPython.core.display.HTML object>"
      ]
     },
     "metadata": {},
     "output_type": "display_data"
    },
    {
     "data": {
      "text/html": [
       " View run at <a href='https://wandb.ai/kpuchalskixiv/GNN_master/runs/pi1q0ni6' target=\"_blank\">https://wandb.ai/kpuchalskixiv/GNN_master/runs/pi1q0ni6</a>"
      ],
      "text/plain": [
       "<IPython.core.display.HTML object>"
      ]
     },
     "metadata": {},
     "output_type": "display_data"
    },
    {
     "name": "stderr",
     "output_type": "stream",
     "text": [
      "/home/kacper/anaconda3/envs/gpu_torch/lib/python3.12/site-packages/pytorch_lightning/loggers/wandb.py:390: There is a wandb run already in progress and newly created instances of `WandbLogger` will reuse this run. If this is not desired, call `wandb.finish()` before instantiating `WandbLogger`.\n",
      "LOCAL_RANK: 0 - CUDA_VISIBLE_DEVICES: [0]\n",
      "\n",
      "  | Name  | Type         | Params\n",
      "---------------------------------------\n",
      "0 | model | SessionGraph | 2.1 M \n",
      "---------------------------------------\n",
      "2.1 M     Trainable params\n",
      "0         Non-trainable params\n",
      "2.1 M     Total params\n",
      "8.518     Total estimated model params size (MB)\n"
     ]
    },
    {
     "name": "stdout",
     "output_type": "stream",
     "text": [
      "Epoch 9: 100%|██████████| 1211/1211 [00:23<00:00, 50.78it/s, v_num=0ni6, train_loss=4.300, val_loss=6.500, val_hit=50.80, val_mrr=36.20]\n",
      "Finished training. Run id:  pi1q0ni6\n"
     ]
    },
    {
     "name": "stderr",
     "output_type": "stream",
     "text": [
      "wandb: WARNING Source type is set to 'repo' but some required information is missing from the environment. A job will not be created from this run. See https://docs.wandb.ai/guides/launch/create-job\n"
     ]
    },
    {
     "data": {
      "text/html": [
       "<style>\n",
       "    table.wandb td:nth-child(1) { padding: 0 10px; text-align: left ; width: auto;} td:nth-child(2) {text-align: left ; width: 100%}\n",
       "    .wandb-row { display: flex; flex-direction: row; flex-wrap: wrap; justify-content: flex-start; width: 100% }\n",
       "    .wandb-col { display: flex; flex-direction: column; flex-basis: 100%; flex: 1; padding: 10px; }\n",
       "    </style>\n",
       "<div class=\"wandb-row\"><div class=\"wandb-col\"><h3>Run history:</h3><br/><table class=\"wandb\"><tr><td>epoch</td><td>▁▁▁▁▂▂▂▂▃▃▃▃▃▃▃▃▄▄▄▄▅▅▅▅▆▆▆▆▆▆▆▆▇▇▇▇████</td></tr><tr><td>scheduler_lr</td><td>██▂▂▁▁▁▁▁▁</td></tr><tr><td>train_loss</td><td>█▇▇▆▄▄▄▄▂▃▃▃▁▂▁▂▂▂▂▂▂▂▂▂▂▂▂▂▁▂▂▂▂▂▂▃▂▂▁▂</td></tr><tr><td>trainer/global_step</td><td>▁▁▁▁▂▂▂▂▂▃▃▃▃▃▃▄▄▄▄▄▄▅▅▅▅▅▆▆▆▆▆▆▇▇▇▇▇███</td></tr><tr><td>val_hit</td><td>▁▇████████</td></tr><tr><td>val_loss</td><td>█▁▂▂▄▃▃▃▃▃</td></tr><tr><td>val_mrr</td><td>▁▇████████</td></tr></table><br/></div><div class=\"wandb-col\"><h3>Run summary:</h3><br/><table class=\"wandb\"><tr><td>epoch</td><td>9</td></tr><tr><td>scheduler_lr</td><td>0.0</td></tr><tr><td>train_loss</td><td>4.14509</td></tr><tr><td>trainer/global_step</td><td>12109</td></tr></table><br/></div></div>"
      ],
      "text/plain": [
       "<IPython.core.display.HTML object>"
      ]
     },
     "metadata": {},
     "output_type": "display_data"
    },
    {
     "data": {
      "text/html": [
       " View run <strong style=\"color:#cdcd00\">pretty-capybara-847</strong> at: <a href='https://wandb.ai/kpuchalskixiv/GNN_master/runs/pi1q0ni6' target=\"_blank\">https://wandb.ai/kpuchalskixiv/GNN_master/runs/pi1q0ni6</a><br/>Synced 6 W&B file(s), 0 media file(s), 1 artifact file(s) and 0 other file(s)"
      ],
      "text/plain": [
       "<IPython.core.display.HTML object>"
      ]
     },
     "metadata": {},
     "output_type": "display_data"
    },
    {
     "data": {
      "text/html": [
       "Find logs at: <code>./wandb/run-20241023_010243-pi1q0ni6/logs</code>"
      ],
      "text/plain": [
       "<IPython.core.display.HTML object>"
      ]
     },
     "metadata": {},
     "output_type": "display_data"
    },
    {
     "name": "stdout",
     "output_type": "stream",
     "text": [
      "Namespace(dataset='otto-recsys', batchSize=100, hiddenSize=100, epoch=30, lr=0.001, lr_dc=0.1, lr_dc_step=2, lr_milestones=[2, 5, 8], l2=1e-06, step=2, patience=4, nonhybrid=False, validation=True, valid_portion=0.1, pretrained_embeddings=False, unfreeze_epoch=0, gmm=[], weight_init='normal', augment_matrix=True, augment_clusters=False, augment_old_run_id='icirdid1', augment_clip=0, augment_normalize=True, augment_raw=False, augment_p=0.5, augment_noise_p=0.5, augment_mean=0.01, augment_std=0.01, augment_categories=False, augment_nogmm=8, augment_gmm_init='k-means++', augment_gmm_covariance='full', augment_gmm_tol=0.001, lr_scheduler='step', augment_prenormalize_distances=False, augment_alg='raw')\n",
      "{'dataset': 'otto-recsys', 'batchSize': 100, 'hiddenSize': 100, 'epoch': 30, 'lr': 0.001, 'lr_dc': 0.1, 'lr_dc_step': 2, 'lr_scheduler': 'step', 'lr_milestones': ([2, 5, 8],), 'l2': 1e-05, 'step': 2, 'patience': 5, 'nonhybrid': False, 'validation': True, 'valid_portion': 0.1, 'pretrained_embedings': False, 'unfreeze_epoch': 0, 'gmm': [], 'augment_matrix': False, 'augment_clusters': False, 'augment_old_run_id': '', 'augment_clip': 0, 'augment_normalize': False, 'augment_raw': False, 'weight_init': 'normal', 'augment_categories': False, 'augment_nogmm': 16, 'augment_p': 1.0, 'augment_mean': 0.01, 'augment_std': 0.0, 'augment_gmm_init': 'k-means++', 'augment_prenormalize_distances': False, 'augment_noise_p': 0.0, 'augment_alg': 'gmm', 'gmm_covariance_type': 'full', 'gmm_tol': 0.001}\n",
      "data masking start\n"
     ]
    },
    {
     "name": "stderr",
     "output_type": "stream",
     "text": [
      "100%|██████████| 64/64 [00:00<00:00, 135.34it/s]\n"
     ]
    },
    {
     "name": "stdout",
     "output_type": "stream",
     "text": [
      "done masking\n",
      "data masking start\n"
     ]
    },
    {
     "name": "stderr",
     "output_type": "stream",
     "text": [
      "100%|██████████| 64/64 [00:00<00:00, 2930.61it/s]\n",
      "GPU available: True (cuda), used: True\n",
      "TPU available: False, using: 0 TPU cores\n",
      "IPU available: False, using: 0 IPUs\n",
      "HPU available: False, using: 0 HPUs\n"
     ]
    },
    {
     "name": "stdout",
     "output_type": "stream",
     "text": [
      "done masking\n"
     ]
    },
    {
     "data": {
      "text/html": [
       "wandb version 0.18.5 is available!  To upgrade, please run:\n",
       " $ pip install wandb --upgrade"
      ],
      "text/plain": [
       "<IPython.core.display.HTML object>"
      ]
     },
     "metadata": {},
     "output_type": "display_data"
    },
    {
     "data": {
      "text/html": [
       "Tracking run with wandb version 0.16.3"
      ],
      "text/plain": [
       "<IPython.core.display.HTML object>"
      ]
     },
     "metadata": {},
     "output_type": "display_data"
    },
    {
     "data": {
      "text/html": [
       "Run data is saved locally in <code>/home/kacper/GNN_Master/srgnn/wandb/run-20241023_010658-78wwq4e4</code>"
      ],
      "text/plain": [
       "<IPython.core.display.HTML object>"
      ]
     },
     "metadata": {},
     "output_type": "display_data"
    },
    {
     "data": {
      "text/html": [
       "Syncing run <strong><a href='https://wandb.ai/kpuchalskixiv/GNN_master/runs/78wwq4e4' target=\"_blank\">hearty-mountain-848</a></strong> to <a href='https://wandb.ai/kpuchalskixiv/GNN_master' target=\"_blank\">Weights & Biases</a> (<a href='https://wandb.me/run' target=\"_blank\">docs</a>)<br/>"
      ],
      "text/plain": [
       "<IPython.core.display.HTML object>"
      ]
     },
     "metadata": {},
     "output_type": "display_data"
    },
    {
     "data": {
      "text/html": [
       " View project at <a href='https://wandb.ai/kpuchalskixiv/GNN_master' target=\"_blank\">https://wandb.ai/kpuchalskixiv/GNN_master</a>"
      ],
      "text/plain": [
       "<IPython.core.display.HTML object>"
      ]
     },
     "metadata": {},
     "output_type": "display_data"
    },
    {
     "data": {
      "text/html": [
       " View run at <a href='https://wandb.ai/kpuchalskixiv/GNN_master/runs/78wwq4e4' target=\"_blank\">https://wandb.ai/kpuchalskixiv/GNN_master/runs/78wwq4e4</a>"
      ],
      "text/plain": [
       "<IPython.core.display.HTML object>"
      ]
     },
     "metadata": {},
     "output_type": "display_data"
    },
    {
     "name": "stderr",
     "output_type": "stream",
     "text": [
      "/home/kacper/anaconda3/envs/gpu_torch/lib/python3.12/site-packages/pytorch_lightning/loggers/wandb.py:390: There is a wandb run already in progress and newly created instances of `WandbLogger` will reuse this run. If this is not desired, call `wandb.finish()` before instantiating `WandbLogger`.\n",
      "LOCAL_RANK: 0 - CUDA_VISIBLE_DEVICES: [0]\n",
      "\n",
      "  | Name  | Type         | Params\n",
      "---------------------------------------\n",
      "0 | model | SessionGraph | 2.1 M \n",
      "---------------------------------------\n",
      "2.1 M     Trainable params\n",
      "0         Non-trainable params\n",
      "2.1 M     Total params\n",
      "8.518     Total estimated model params size (MB)\n"
     ]
    },
    {
     "name": "stdout",
     "output_type": "stream",
     "text": [
      "Epoch 7: 100%|██████████| 1211/1211 [00:24<00:00, 50.33it/s, v_num=q4e4, train_loss=4.070, val_loss=6.530, val_hit=50.60, val_mrr=36.20]\n",
      "Finished training. Run id:  78wwq4e4\n"
     ]
    },
    {
     "name": "stderr",
     "output_type": "stream",
     "text": [
      "wandb: WARNING Source type is set to 'repo' but some required information is missing from the environment. A job will not be created from this run. See https://docs.wandb.ai/guides/launch/create-job\n"
     ]
    },
    {
     "data": {
      "text/html": [
       "<style>\n",
       "    table.wandb td:nth-child(1) { padding: 0 10px; text-align: left ; width: auto;} td:nth-child(2) {text-align: left ; width: 100%}\n",
       "    .wandb-row { display: flex; flex-direction: row; flex-wrap: wrap; justify-content: flex-start; width: 100% }\n",
       "    .wandb-col { display: flex; flex-direction: column; flex-basis: 100%; flex: 1; padding: 10px; }\n",
       "    </style>\n",
       "<div class=\"wandb-row\"><div class=\"wandb-col\"><h3>Run history:</h3><br/><table class=\"wandb\"><tr><td>epoch</td><td>▁▁▁▁▁▂▂▂▂▂▃▃▃▃▃▄▄▄▄▄▅▅▅▅▅▆▆▆▆▆▇▇▇▇▇█████</td></tr><tr><td>scheduler_lr</td><td>██▂▂▁▁▁▁</td></tr><tr><td>train_loss</td><td>█▇▇▆▆▄▄▄▄▄▃▂▃▂▂▂▂▃▃▂▂▁▂▂▂▂▂▂▂▂▂▃▂▁▁▂▃▂▂▂</td></tr><tr><td>trainer/global_step</td><td>▁▁▁▂▂▂▂▂▂▃▃▃▃▃▃▄▄▄▄▄▅▅▅▅▅▅▆▆▆▆▆▆▇▇▇▇▇███</td></tr><tr><td>val_hit</td><td>▁▇██████</td></tr><tr><td>val_loss</td><td>█▁▂▂▃▃▃▃</td></tr><tr><td>val_mrr</td><td>▁▇██████</td></tr></table><br/></div><div class=\"wandb-col\"><h3>Run summary:</h3><br/><table class=\"wandb\"><tr><td>epoch</td><td>7</td></tr><tr><td>scheduler_lr</td><td>0.0</td></tr><tr><td>train_loss</td><td>3.90484</td></tr><tr><td>trainer/global_step</td><td>9687</td></tr></table><br/></div></div>"
      ],
      "text/plain": [
       "<IPython.core.display.HTML object>"
      ]
     },
     "metadata": {},
     "output_type": "display_data"
    },
    {
     "data": {
      "text/html": [
       " View run <strong style=\"color:#cdcd00\">hearty-mountain-848</strong> at: <a href='https://wandb.ai/kpuchalskixiv/GNN_master/runs/78wwq4e4' target=\"_blank\">https://wandb.ai/kpuchalskixiv/GNN_master/runs/78wwq4e4</a><br/>Synced 6 W&B file(s), 0 media file(s), 1 artifact file(s) and 0 other file(s)"
      ],
      "text/plain": [
       "<IPython.core.display.HTML object>"
      ]
     },
     "metadata": {},
     "output_type": "display_data"
    },
    {
     "data": {
      "text/html": [
       "Find logs at: <code>./wandb/run-20241023_010658-78wwq4e4/logs</code>"
      ],
      "text/plain": [
       "<IPython.core.display.HTML object>"
      ]
     },
     "metadata": {},
     "output_type": "display_data"
    }
   ],
   "source": [
    "#batchSize=256\n",
    "\n",
    "for i in range(k):\n",
    "    flag_str=f\"--dataset {dataset} --validation --valid-portion 0.1 --step 2 --lr-dc-step 2 --patience 5\"\n",
    "    rid=train_model(\n",
    "        flag_str.strip()\n",
    "    )\n",
    "    base_run_ids.append(rid)\n",
    "\n",
    "    clustering_label_flags=f\"--run-id {rid} --no-clusters {8}\"\n",
    "    label_with_gmm(clustering_label_flags.strip())\n",
    "    label_with_kmeans(clustering_label_flags.strip())\n",
    "    if dataset!='otto-recsys':\n",
    "        label_with_categories(f\"--run-id {rid}\".strip())\n",
    "\n",
    "    augmented_common_flags=f\"--dataset {dataset} --augment-old-run-id {rid} --augment-nogmm 8 --validation --valid-portion 0.1 --step 2 --lr-dc-step 2 --patience 4 --augment-matrix --augment-std 0.01 --augment-normalize --augment-p 0.5 --l2 0.000001 --augment-noise-p 0.5\"\n",
    "\n",
    "    for alg in ['categories','gmm', 'kmeans', 'raw']:\n",
    "        if dataset=='otto-recsys' and alg=='categories':\n",
    "            continue\n",
    "        alg_flag=f\"--augment-alg {alg}\"\n",
    "        \n",
    "        augmented_model_flags=augmented_common_flags+\" \"+alg_flag\n",
    "        aug_rid=train_model(\n",
    "            augmented_model_flags.strip()\n",
    "        )\n",
    "        aug_run_ids.append(aug_rid)\n",
    "    clear_output(wait=True)"
   ]
  },
  {
   "cell_type": "code",
   "execution_count": 6,
   "metadata": {},
   "outputs": [
    {
     "data": {
      "text/plain": [
       "['7dt7uu2i', '31mccq76', 'f42h3b7i', 'z5gthlar', 'icirdid1']"
      ]
     },
     "execution_count": 6,
     "metadata": {},
     "output_type": "execute_result"
    }
   ],
   "source": [
    "base_run_ids"
   ]
  },
  {
   "cell_type": "code",
   "execution_count": 7,
   "metadata": {},
   "outputs": [
    {
     "data": {
      "text/plain": [
       "['q5ncdos3',\n",
       " '20x2q8ap',\n",
       " 'edk5gwaj',\n",
       " 'eyipcpfr',\n",
       " 'u1769vwh',\n",
       " '7toa2ybx',\n",
       " 'zrkfqp80',\n",
       " '0dqi0cx4',\n",
       " 'leop64a1',\n",
       " 'c4l0cw03',\n",
       " 'rufekv8o',\n",
       " 'zja7utqy',\n",
       " 'lc8hf28y',\n",
       " 'pi1q0ni6',\n",
       " '78wwq4e4']"
      ]
     },
     "execution_count": 7,
     "metadata": {},
     "output_type": "execute_result"
    }
   ],
   "source": [
    "aug_run_ids"
   ]
  },
  {
   "cell_type": "code",
   "execution_count": null,
   "metadata": {},
   "outputs": [],
   "source": [
    "with open('../datasets/' + dataset + '/test.txt', 'rb') as f:\n",
    "    test_data = pickle.load(f)\n",
    "normal_test_dataset=SRGNN_Map_Dataset(test_data, shuffle=False)\n",
    "\n",
    "batchSize=100\n",
    "normal_test_dataloader=DataLoader(normal_test_dataset, \n",
    "                            num_workers=os.cpu_count(),  \n",
    "                            sampler=SRGNN_sampler(normal_test_dataset, batchSize, shuffle=False, drop_last=False)\n",
    "                            )"
   ]
  },
  {
   "cell_type": "code",
   "execution_count": null,
   "metadata": {},
   "outputs": [],
   "source": [
    "trainer=Trainer(limit_test_batches=ceil(normal_test_dataset.length/batchSize),\n",
    "                limit_predict_batches=ceil(normal_test_dataset.length/batchSize))"
   ]
  },
  {
   "cell_type": "code",
   "execution_count": null,
   "metadata": {},
   "outputs": [],
   "source": [
    "base_res_df=[]\n",
    "for run_id in base_run_ids:\n",
    "    model,opt=load_model(run_id)\n",
    "\n",
    "    metrics=trainer.test(model, {'normal':normal_test_dataloader})[0]\n",
    "    for k,v in opt.__dict__.items():\n",
    "       metrics[k]=v\n",
    "    base_res_df.append(metrics)\n",
    "\n",
    "aug_res_df=[]\n",
    "for run_id in aug_run_ids:\n",
    "    model,opt=load_model(run_id)\n",
    "\n",
    "    metrics=trainer.test(model, {'normal':normal_test_dataloader})[0]\n",
    "    for k,v in opt.__dict__.items():\n",
    "       metrics[k]=v\n",
    "    aug_res_df.append(metrics)   "
   ]
  },
  {
   "cell_type": "code",
   "execution_count": null,
   "metadata": {},
   "outputs": [],
   "source": [
    "res_df=pd.DataFrame(aug_res_df+base_res_df)"
   ]
  },
  {
   "cell_type": "code",
   "execution_count": null,
   "metadata": {},
   "outputs": [],
   "source": [
    "res_df.to_csv(f'./final_results/res_df_{\"_\".join(res_df.run_id.tolist())}.csv')"
   ]
  },
  {
   "cell_type": "code",
   "execution_count": null,
   "metadata": {},
   "outputs": [],
   "source": [
    "res_df.drop(columns='run_id').groupby('augment_matrix').mean()"
   ]
  }
 ],
 "metadata": {
  "kernelspec": {
   "display_name": "gpu_torch",
   "language": "python",
   "name": "python3"
  },
  "language_info": {
   "codemirror_mode": {
    "name": "ipython",
    "version": 3
   },
   "file_extension": ".py",
   "mimetype": "text/x-python",
   "name": "python",
   "nbconvert_exporter": "python",
   "pygments_lexer": "ipython3",
   "version": "3.12.1"
  }
 },
 "nbformat": 4,
 "nbformat_minor": 2
}
