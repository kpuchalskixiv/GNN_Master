{
 "cells": [
  {
   "cell_type": "markdown",
   "metadata": {},
   "source": [
    "# imports"
   ]
  },
  {
   "cell_type": "code",
   "execution_count": 1,
   "metadata": {},
   "outputs": [
    {
     "name": "stderr",
     "output_type": "stream",
     "text": [
      "/home/kacper/anaconda3/envs/gpu_torch/lib/python3.12/site-packages/tqdm/auto.py:21: TqdmWarning: IProgress not found. Please update jupyter and ipywidgets. See https://ipywidgets.readthedocs.io/en/stable/user_install.html\n",
      "  from .autonotebook import tqdm as notebook_tqdm\n"
     ]
    }
   ],
   "source": [
    "import pickle\n",
    "from srgnn_datasets import SRGNN_Map_Dataset, Augment_Matrix_Dataset, SRGNN_sampler, Clusters_Matrix_Dataset\n",
    "from utils import load_model, get_dataset, load_model_gm\n",
    "import os\n",
    "\n",
    "from torch.utils.data import DataLoader\n",
    "\n",
    "import numpy as np\n",
    "import pandas as pd\n",
    "\n",
    "from tqdm import tqdm\n",
    "\n",
    "import torch\n",
    "from pytorch_lightning import Trainer\n",
    "from math import ceil"
   ]
  },
  {
   "cell_type": "code",
   "execution_count": 2,
   "metadata": {},
   "outputs": [],
   "source": [
    "torch.set_float32_matmul_precision('medium')"
   ]
  },
  {
   "cell_type": "code",
   "execution_count": 3,
   "metadata": {},
   "outputs": [],
   "source": [
    "def get_metrics_by_hand(model, dataloaders):\n",
    "    m=[]\n",
    "    for i, d in enumerate(dataloaders):\n",
    "        hit,mrr=[],[]\n",
    "        for batch in tqdm(d, total=ceil(normal_test_dataset.length/opt.batchSize)):\n",
    "            batch=[x.to('cuda') for x in batch]\n",
    "            sub_scores, targets=model.predict_step(batch)\n",
    "            targets=targets.flatten()\n",
    "            for score, target in zip(sub_scores, targets):\n",
    "                correct_pred=torch.isin(target - 1, score)\n",
    "                hit.append(correct_pred.cpu().numpy())\n",
    "                if not correct_pred:\n",
    "                    mrr.append(0)\n",
    "                else:\n",
    "                    mrr.append(1 / (torch.where(score == target - 1)[0][0] + 1).cpu().numpy())\n",
    "        m.append((i, 100*np.average(hit),100*np.average(mrr)))\n",
    "    return m\n"
   ]
  },
  {
   "cell_type": "markdown",
   "metadata": {},
   "source": [
    "# otto-recsys"
   ]
  },
  {
   "cell_type": "code",
   "execution_count": 4,
   "metadata": {},
   "outputs": [],
   "source": [
    "runs=['7dt7uu2i', '31mccq76', 'f42h3b7i', 'z5gthlar', 'icirdid1',\n",
    "    'q5ncdos3',\n",
    " '20x2q8ap',\n",
    " 'edk5gwaj',\n",
    " 'eyipcpfr',\n",
    " 'u1769vwh',\n",
    " '7toa2ybx',\n",
    " 'zrkfqp80',\n",
    " '0dqi0cx4',\n",
    " 'leop64a1',\n",
    " 'c4l0cw03',\n",
    " 'rufekv8o',\n",
    " 'zja7utqy',\n",
    " 'lc8hf28y',\n",
    " 'pi1q0ni6',\n",
    " '78wwq4e4',\n",
    "\n",
    "'7oziz2pv',\n",
    "'77r7ocil',\n",
    "'umy0p2nx',\n",
    "'ch778pru',\n",
    "'dn0mhesi',\n",
    "'qpljbobb',\n",
    "'s8wy4wxs',\n",
    "        ]\n"
   ]
  },
  {
   "cell_type": "code",
   "execution_count": 5,
   "metadata": {},
   "outputs": [
    {
     "name": "stdout",
     "output_type": "stream",
     "text": [
      "{'dataset': 'otto-recsys', 'batchSize': 100, 'hiddenSize': 100, 'epoch': 30, 'lr': 0.001, 'lr_dc': 0.1, 'lr_dc_step': 2, 'lr_scheduler': 'step', 'lr_milestones': ([2, 5, 8],), 'l2': 1e-05, 'step': 2, 'patience': 5, 'nonhybrid': False, 'validation': True, 'valid_portion': 0.1, 'pretrained_embedings': False, 'unfreeze_epoch': 0, 'gmm': [], 'augment_matrix': False, 'augment_clusters': False, 'augment_old_run_id': '', 'augment_clip': 0, 'augment_normalize': False, 'augment_raw': False, 'weight_init': 'normal', 'augment_categories': False, 'augment_nogmm': 16, 'augment_p': 1.0, 'augment_mean': 0.01, 'augment_std': 0.0, 'augment_gmm_init': 'k-means++', 'augment_prenormalize_distances': False, 'augment_noise_p': 0.0, 'augment_alg': 'gmm', 'gmm_covariance_type': 'full', 'gmm_tol': 0.001}\n",
      "data masking start\n"
     ]
    },
    {
     "name": "stderr",
     "output_type": "stream",
     "text": [
      "100%|██████████| 64/64 [00:00<00:00, 307.87it/s]\n",
      "GPU available: True (cuda), used: True\n",
      "TPU available: False, using: 0 TPU cores\n",
      "IPU available: False, using: 0 IPUs\n",
      "HPU available: False, using: 0 HPUs\n"
     ]
    },
    {
     "name": "stdout",
     "output_type": "stream",
     "text": [
      "done masking\n"
     ]
    },
    {
     "name": "stderr",
     "output_type": "stream",
     "text": [
      "/home/kacper/anaconda3/envs/gpu_torch/lib/python3.12/site-packages/pytorch_lightning/trainer/connectors/logger_connector/logger_connector.py:75: Starting from v1.9.0, `tensorboardX` has been removed as a dependency of the `pytorch_lightning` package, due to potential conflicts with other packages in the ML ecosystem. For this reason, `logger=True` will use `CSVLogger` as the default logger, unless the `tensorboard` or `tensorboardX` packages are found. Please `pip install lightning[extra]` or one of them to enable TensorBoard support by default\n"
     ]
    }
   ],
   "source": [
    "run_id=runs[0]\n",
    "\n",
    "model,opt=load_model(run_id)\n",
    "test_data = pickle.load(open('../datasets/' + opt.dataset + '/test.txt', 'rb'))\n",
    "normal_test_dataset=SRGNN_Map_Dataset(test_data, shuffle=False)\n",
    "\n",
    "normal_test_dataloader=DataLoader(normal_test_dataset, \n",
    "                            num_workers=os.cpu_count(),  \n",
    "                            sampler=SRGNN_sampler(normal_test_dataset, opt.batchSize, shuffle=False, drop_last=False)\n",
    "                            )\n",
    "trainer=Trainer(limit_test_batches=ceil(normal_test_dataset.length/opt.batchSize),\n",
    "                limit_predict_batches=ceil(normal_test_dataset.length/opt.batchSize))"
   ]
  },
  {
   "cell_type": "code",
   "execution_count": 6,
   "metadata": {},
   "outputs": [
    {
     "name": "stdout",
     "output_type": "stream",
     "text": [
      "{'dataset': 'otto-recsys', 'batchSize': 100, 'hiddenSize': 100, 'epoch': 30, 'lr': 0.001, 'lr_dc': 0.1, 'lr_dc_step': 2, 'lr_scheduler': 'step', 'lr_milestones': ([2, 5, 8],), 'l2': 1e-05, 'step': 2, 'patience': 5, 'nonhybrid': False, 'validation': True, 'valid_portion': 0.1, 'pretrained_embedings': False, 'unfreeze_epoch': 0, 'gmm': [], 'augment_matrix': False, 'augment_clusters': False, 'augment_old_run_id': '', 'augment_clip': 0, 'augment_normalize': False, 'augment_raw': False, 'weight_init': 'normal', 'augment_categories': False, 'augment_nogmm': 16, 'augment_p': 1.0, 'augment_mean': 0.01, 'augment_std': 0.0, 'augment_gmm_init': 'k-means++', 'augment_prenormalize_distances': False, 'augment_noise_p': 0.0, 'augment_alg': 'gmm', 'gmm_covariance_type': 'full', 'gmm_tol': 0.001}\n",
      "7dt7uu2i\n"
     ]
    },
    {
     "name": "stderr",
     "output_type": "stream",
     "text": [
      "LOCAL_RANK: 0 - CUDA_VISIBLE_DEVICES: [0]\n"
     ]
    },
    {
     "name": "stdout",
     "output_type": "stream",
     "text": [
      "Testing DataLoader 0: 100%|██████████| 627/627 [00:18<00:00, 34.71it/s]\n",
      "────────────────────────────────────────────────────────────────────────────────────────────────────────────────────────\n",
      "       Test metric             DataLoader 0\n",
      "────────────────────────────────────────────────────────────────────────────────────────────────────────────────────────\n",
      "        test_hit            31.453794479370117\n",
      "        test_loss            7.820014953613281\n",
      "        test_mrr             20.4002685546875\n",
      "────────────────────────────────────────────────────────────────────────────────────────────────────────────────────────\n",
      "{'dataset': 'otto-recsys', 'batchSize': 100, 'hiddenSize': 100, 'epoch': 30, 'lr': 0.001, 'lr_dc': 0.1, 'lr_dc_step': 2, 'lr_scheduler': 'step', 'lr_milestones': ([2, 5, 8],), 'l2': 1e-05, 'step': 2, 'patience': 5, 'nonhybrid': False, 'validation': True, 'valid_portion': 0.1, 'pretrained_embedings': False, 'unfreeze_epoch': 0, 'gmm': [], 'augment_matrix': False, 'augment_clusters': False, 'augment_old_run_id': '', 'augment_clip': 0, 'augment_normalize': False, 'augment_raw': False, 'weight_init': 'normal', 'augment_categories': False, 'augment_nogmm': 16, 'augment_p': 1.0, 'augment_mean': 0.01, 'augment_std': 0.0, 'augment_gmm_init': 'k-means++', 'augment_prenormalize_distances': False, 'augment_noise_p': 0.0, 'augment_alg': 'gmm', 'gmm_covariance_type': 'full', 'gmm_tol': 0.001}\n"
     ]
    },
    {
     "name": "stderr",
     "output_type": "stream",
     "text": [
      "LOCAL_RANK: 0 - CUDA_VISIBLE_DEVICES: [0]\n"
     ]
    },
    {
     "name": "stdout",
     "output_type": "stream",
     "text": [
      "31mccq76\n",
      "Testing DataLoader 0: 100%|██████████| 627/627 [00:17<00:00, 36.72it/s]\n",
      "────────────────────────────────────────────────────────────────────────────────────────────────────────────────────────\n",
      "       Test metric             DataLoader 0\n",
      "────────────────────────────────────────────────────────────────────────────────────────────────────────────────────────\n",
      "        test_hit            31.452913284301758\n",
      "        test_loss            7.821662902832031\n",
      "        test_mrr             20.58791732788086\n",
      "────────────────────────────────────────────────────────────────────────────────────────────────────────────────────────\n",
      "{'dataset': 'otto-recsys', 'batchSize': 100, 'hiddenSize': 100, 'epoch': 30, 'lr': 0.001, 'lr_dc': 0.1, 'lr_dc_step': 2, 'lr_scheduler': 'step', 'lr_milestones': ([2, 5, 8],), 'l2': 1e-05, 'step': 2, 'patience': 5, 'nonhybrid': False, 'validation': True, 'valid_portion': 0.1, 'pretrained_embedings': False, 'unfreeze_epoch': 0, 'gmm': [], 'augment_matrix': False, 'augment_clusters': False, 'augment_old_run_id': '', 'augment_clip': 0, 'augment_normalize': False, 'augment_raw': False, 'weight_init': 'normal', 'augment_categories': False, 'augment_nogmm': 16, 'augment_p': 1.0, 'augment_mean': 0.01, 'augment_std': 0.0, 'augment_gmm_init': 'k-means++', 'augment_prenormalize_distances': False, 'augment_noise_p': 0.0, 'augment_alg': 'gmm', 'gmm_covariance_type': 'full', 'gmm_tol': 0.001}\n"
     ]
    },
    {
     "name": "stderr",
     "output_type": "stream",
     "text": [
      "LOCAL_RANK: 0 - CUDA_VISIBLE_DEVICES: [0]\n"
     ]
    },
    {
     "name": "stdout",
     "output_type": "stream",
     "text": [
      "f42h3b7i\n",
      "Testing DataLoader 0: 100%|██████████| 627/627 [00:17<00:00, 36.11it/s]\n",
      "────────────────────────────────────────────────────────────────────────────────────────────────────────────────────────\n",
      "       Test metric             DataLoader 0\n",
      "────────────────────────────────────────────────────────────────────────────────────────────────────────────────────────\n",
      "        test_hit             31.32141876220703\n",
      "        test_loss            7.800863742828369\n",
      "        test_mrr            20.449420928955078\n",
      "────────────────────────────────────────────────────────────────────────────────────────────────────────────────────────\n",
      "{'dataset': 'otto-recsys', 'batchSize': 100, 'hiddenSize': 100, 'epoch': 30, 'lr': 0.001, 'lr_dc': 0.1, 'lr_dc_step': 2, 'lr_scheduler': 'step', 'lr_milestones': ([2, 5, 8],), 'l2': 1e-05, 'step': 2, 'patience': 5, 'nonhybrid': False, 'validation': True, 'valid_portion': 0.1, 'pretrained_embedings': False, 'unfreeze_epoch': 0, 'gmm': [], 'augment_matrix': False, 'augment_clusters': False, 'augment_old_run_id': '', 'augment_clip': 0, 'augment_normalize': False, 'augment_raw': False, 'weight_init': 'normal', 'augment_categories': False, 'augment_nogmm': 16, 'augment_p': 1.0, 'augment_mean': 0.01, 'augment_std': 0.0, 'augment_gmm_init': 'k-means++', 'augment_prenormalize_distances': False, 'augment_noise_p': 0.0, 'augment_alg': 'gmm', 'gmm_covariance_type': 'full', 'gmm_tol': 0.001}\n"
     ]
    },
    {
     "name": "stderr",
     "output_type": "stream",
     "text": [
      "LOCAL_RANK: 0 - CUDA_VISIBLE_DEVICES: [0]\n"
     ]
    },
    {
     "name": "stdout",
     "output_type": "stream",
     "text": [
      "z5gthlar\n",
      "Testing DataLoader 0: 100%|██████████| 627/627 [00:17<00:00, 35.98it/s]\n",
      "────────────────────────────────────────────────────────────────────────────────────────────────────────────────────────\n",
      "       Test metric             DataLoader 0\n",
      "────────────────────────────────────────────────────────────────────────────────────────────────────────────────────────\n",
      "        test_hit            31.365835189819336\n",
      "        test_loss            7.791657447814941\n",
      "        test_mrr            20.433366775512695\n",
      "────────────────────────────────────────────────────────────────────────────────────────────────────────────────────────\n",
      "{'dataset': 'otto-recsys', 'batchSize': 100, 'hiddenSize': 100, 'epoch': 30, 'lr': 0.001, 'lr_dc': 0.1, 'lr_dc_step': 2, 'lr_scheduler': 'step', 'lr_milestones': ([2, 5, 8],), 'l2': 1e-05, 'step': 2, 'patience': 5, 'nonhybrid': False, 'validation': True, 'valid_portion': 0.1, 'pretrained_embedings': False, 'unfreeze_epoch': 0, 'gmm': [], 'augment_matrix': False, 'augment_clusters': False, 'augment_old_run_id': '', 'augment_clip': 0, 'augment_normalize': False, 'augment_raw': False, 'weight_init': 'normal', 'augment_categories': False, 'augment_nogmm': 16, 'augment_p': 1.0, 'augment_mean': 0.01, 'augment_std': 0.0, 'augment_gmm_init': 'k-means++', 'augment_prenormalize_distances': False, 'augment_noise_p': 0.0, 'augment_alg': 'gmm', 'gmm_covariance_type': 'full', 'gmm_tol': 0.001}\n"
     ]
    },
    {
     "name": "stderr",
     "output_type": "stream",
     "text": [
      "LOCAL_RANK: 0 - CUDA_VISIBLE_DEVICES: [0]\n"
     ]
    },
    {
     "name": "stdout",
     "output_type": "stream",
     "text": [
      "icirdid1\n",
      "Testing DataLoader 0: 100%|██████████| 627/627 [00:17<00:00, 36.73it/s]\n",
      "────────────────────────────────────────────────────────────────────────────────────────────────────────────────────────\n",
      "       Test metric             DataLoader 0\n",
      "────────────────────────────────────────────────────────────────────────────────────────────────────────────────────────\n",
      "        test_hit            31.199729919433594\n",
      "        test_loss            7.879232406616211\n",
      "        test_mrr            20.319704055786133\n",
      "────────────────────────────────────────────────────────────────────────────────────────────────────────────────────────\n",
      "{'dataset': 'otto-recsys', 'batchSize': 100, 'hiddenSize': 100, 'epoch': 30, 'lr': 0.001, 'lr_dc': 0.1, 'lr_dc_step': 2, 'lr_scheduler': 'step', 'lr_milestones': ([2, 5, 8],), 'l2': 1e-06, 'step': 2, 'patience': 4, 'nonhybrid': False, 'validation': True, 'valid_portion': 0.1, 'pretrained_embedings': False, 'unfreeze_epoch': 0, 'gmm': [], 'augment_matrix': True, 'augment_clusters': False, 'augment_old_run_id': '7dt7uu2i', 'augment_clip': 0, 'augment_normalize': True, 'augment_raw': False, 'weight_init': 'normal', 'augment_categories': False, 'augment_nogmm': 8, 'augment_p': 0.5, 'augment_mean': 0.01, 'augment_std': 0.01, 'augment_gmm_init': 'k-means++', 'augment_prenormalize_distances': False, 'augment_noise_p': 0.5, 'augment_alg': 'gmm', 'gmm_covariance_type': 'full', 'gmm_tol': 0.001}\n"
     ]
    },
    {
     "name": "stderr",
     "output_type": "stream",
     "text": [
      "LOCAL_RANK: 0 - CUDA_VISIBLE_DEVICES: [0]\n"
     ]
    },
    {
     "name": "stdout",
     "output_type": "stream",
     "text": [
      "q5ncdos3\n",
      "Testing DataLoader 0: 100%|██████████| 627/627 [00:17<00:00, 35.46it/s]\n",
      "────────────────────────────────────────────────────────────────────────────────────────────────────────────────────────\n",
      "       Test metric             DataLoader 0\n",
      "────────────────────────────────────────────────────────────────────────────────────────────────────────────────────────\n",
      "        test_hit            31.935523986816406\n",
      "        test_loss            7.796685695648193\n",
      "        test_mrr             21.06460189819336\n",
      "────────────────────────────────────────────────────────────────────────────────────────────────────────────────────────\n",
      "{'dataset': 'otto-recsys', 'batchSize': 100, 'hiddenSize': 100, 'epoch': 30, 'lr': 0.001, 'lr_dc': 0.1, 'lr_dc_step': 2, 'lr_scheduler': 'step', 'lr_milestones': ([2, 5, 8],), 'l2': 1e-06, 'step': 2, 'patience': 4, 'nonhybrid': False, 'validation': True, 'valid_portion': 0.1, 'pretrained_embedings': False, 'unfreeze_epoch': 0, 'gmm': [], 'augment_matrix': True, 'augment_clusters': False, 'augment_old_run_id': '7dt7uu2i', 'augment_clip': 0, 'augment_normalize': True, 'augment_raw': False, 'weight_init': 'normal', 'augment_categories': False, 'augment_nogmm': 8, 'augment_p': 0.5, 'augment_mean': 0.01, 'augment_std': 0.01, 'augment_gmm_init': 'k-means++', 'augment_prenormalize_distances': False, 'augment_noise_p': 0.5, 'augment_alg': 'kmeans', 'gmm_covariance_type': 'full', 'gmm_tol': 0.001}\n"
     ]
    },
    {
     "name": "stderr",
     "output_type": "stream",
     "text": [
      "LOCAL_RANK: 0 - CUDA_VISIBLE_DEVICES: [0]\n"
     ]
    },
    {
     "name": "stdout",
     "output_type": "stream",
     "text": [
      "20x2q8ap\n",
      "Testing DataLoader 0: 100%|██████████| 627/627 [00:17<00:00, 35.78it/s]\n",
      "────────────────────────────────────────────────────────────────────────────────────────────────────────────────────────\n",
      "       Test metric             DataLoader 0\n",
      "────────────────────────────────────────────────────────────────────────────────────────────────────────────────────────\n",
      "        test_hit             32.1624755859375\n",
      "        test_loss            7.813047409057617\n",
      "        test_mrr            21.248750686645508\n",
      "────────────────────────────────────────────────────────────────────────────────────────────────────────────────────────\n",
      "{'dataset': 'otto-recsys', 'batchSize': 100, 'hiddenSize': 100, 'epoch': 30, 'lr': 0.001, 'lr_dc': 0.1, 'lr_dc_step': 2, 'lr_scheduler': 'step', 'lr_milestones': ([2, 5, 8],), 'l2': 1e-06, 'step': 2, 'patience': 4, 'nonhybrid': False, 'validation': True, 'valid_portion': 0.1, 'pretrained_embedings': False, 'unfreeze_epoch': 0, 'gmm': [], 'augment_matrix': True, 'augment_clusters': False, 'augment_old_run_id': '7dt7uu2i', 'augment_clip': 0, 'augment_normalize': True, 'augment_raw': False, 'weight_init': 'normal', 'augment_categories': False, 'augment_nogmm': 8, 'augment_p': 0.5, 'augment_mean': 0.01, 'augment_std': 0.01, 'augment_gmm_init': 'k-means++', 'augment_prenormalize_distances': False, 'augment_noise_p': 0.5, 'augment_alg': 'raw', 'gmm_covariance_type': 'full', 'gmm_tol': 0.001}\n"
     ]
    },
    {
     "name": "stderr",
     "output_type": "stream",
     "text": [
      "LOCAL_RANK: 0 - CUDA_VISIBLE_DEVICES: [0]\n"
     ]
    },
    {
     "name": "stdout",
     "output_type": "stream",
     "text": [
      "edk5gwaj\n",
      "Testing DataLoader 0: 100%|██████████| 627/627 [00:17<00:00, 36.54it/s]\n",
      "────────────────────────────────────────────────────────────────────────────────────────────────────────────────────────\n",
      "       Test metric             DataLoader 0\n",
      "────────────────────────────────────────────────────────────────────────────────────────────────────────────────────────\n",
      "        test_hit             32.4007568359375\n",
      "        test_loss            7.927295684814453\n",
      "        test_mrr            21.390134811401367\n",
      "────────────────────────────────────────────────────────────────────────────────────────────────────────────────────────\n",
      "{'dataset': 'otto-recsys', 'batchSize': 100, 'hiddenSize': 100, 'epoch': 30, 'lr': 0.001, 'lr_dc': 0.1, 'lr_dc_step': 2, 'lr_scheduler': 'step', 'lr_milestones': ([2, 5, 8],), 'l2': 1e-06, 'step': 2, 'patience': 4, 'nonhybrid': False, 'validation': True, 'valid_portion': 0.1, 'pretrained_embedings': False, 'unfreeze_epoch': 0, 'gmm': [], 'augment_matrix': True, 'augment_clusters': False, 'augment_old_run_id': '31mccq76', 'augment_clip': 0, 'augment_normalize': True, 'augment_raw': False, 'weight_init': 'normal', 'augment_categories': False, 'augment_nogmm': 8, 'augment_p': 0.5, 'augment_mean': 0.01, 'augment_std': 0.01, 'augment_gmm_init': 'k-means++', 'augment_prenormalize_distances': False, 'augment_noise_p': 0.5, 'augment_alg': 'gmm', 'gmm_covariance_type': 'full', 'gmm_tol': 0.001}\n"
     ]
    },
    {
     "name": "stderr",
     "output_type": "stream",
     "text": [
      "LOCAL_RANK: 0 - CUDA_VISIBLE_DEVICES: [0]\n"
     ]
    },
    {
     "name": "stdout",
     "output_type": "stream",
     "text": [
      "eyipcpfr\n",
      "Testing DataLoader 0: 100%|██████████| 627/627 [00:17<00:00, 36.62it/s]\n",
      "────────────────────────────────────────────────────────────────────────────────────────────────────────────────────────\n",
      "       Test metric             DataLoader 0\n",
      "────────────────────────────────────────────────────────────────────────────────────────────────────────────────────────\n",
      "        test_hit             32.14740753173828\n",
      "        test_loss            7.815700531005859\n",
      "        test_mrr            21.374134063720703\n",
      "────────────────────────────────────────────────────────────────────────────────────────────────────────────────────────\n",
      "{'dataset': 'otto-recsys', 'batchSize': 100, 'hiddenSize': 100, 'epoch': 30, 'lr': 0.001, 'lr_dc': 0.1, 'lr_dc_step': 2, 'lr_scheduler': 'step', 'lr_milestones': ([2, 5, 8],), 'l2': 1e-06, 'step': 2, 'patience': 4, 'nonhybrid': False, 'validation': True, 'valid_portion': 0.1, 'pretrained_embedings': False, 'unfreeze_epoch': 0, 'gmm': [], 'augment_matrix': True, 'augment_clusters': False, 'augment_old_run_id': '31mccq76', 'augment_clip': 0, 'augment_normalize': True, 'augment_raw': False, 'weight_init': 'normal', 'augment_categories': False, 'augment_nogmm': 8, 'augment_p': 0.5, 'augment_mean': 0.01, 'augment_std': 0.01, 'augment_gmm_init': 'k-means++', 'augment_prenormalize_distances': False, 'augment_noise_p': 0.5, 'augment_alg': 'kmeans', 'gmm_covariance_type': 'full', 'gmm_tol': 0.001}\n"
     ]
    },
    {
     "name": "stderr",
     "output_type": "stream",
     "text": [
      "LOCAL_RANK: 0 - CUDA_VISIBLE_DEVICES: [0]\n"
     ]
    },
    {
     "name": "stdout",
     "output_type": "stream",
     "text": [
      "u1769vwh\n",
      "Testing DataLoader 0: 100%|██████████| 627/627 [00:17<00:00, 36.51it/s]\n",
      "────────────────────────────────────────────────────────────────────────────────────────────────────────────────────────\n",
      "       Test metric             DataLoader 0\n",
      "────────────────────────────────────────────────────────────────────────────────────────────────────────────────────────\n",
      "        test_hit            32.017269134521484\n",
      "        test_loss            7.849460601806641\n",
      "        test_mrr            21.383373260498047\n",
      "────────────────────────────────────────────────────────────────────────────────────────────────────────────────────────\n",
      "{'dataset': 'otto-recsys', 'batchSize': 100, 'hiddenSize': 100, 'epoch': 30, 'lr': 0.001, 'lr_dc': 0.1, 'lr_dc_step': 2, 'lr_scheduler': 'step', 'lr_milestones': ([2, 5, 8],), 'l2': 1e-06, 'step': 2, 'patience': 4, 'nonhybrid': False, 'validation': True, 'valid_portion': 0.1, 'pretrained_embedings': False, 'unfreeze_epoch': 0, 'gmm': [], 'augment_matrix': True, 'augment_clusters': False, 'augment_old_run_id': '31mccq76', 'augment_clip': 0, 'augment_normalize': True, 'augment_raw': False, 'weight_init': 'normal', 'augment_categories': False, 'augment_nogmm': 8, 'augment_p': 0.5, 'augment_mean': 0.01, 'augment_std': 0.01, 'augment_gmm_init': 'k-means++', 'augment_prenormalize_distances': False, 'augment_noise_p': 0.5, 'augment_alg': 'raw', 'gmm_covariance_type': 'full', 'gmm_tol': 0.001}\n"
     ]
    },
    {
     "name": "stderr",
     "output_type": "stream",
     "text": [
      "LOCAL_RANK: 0 - CUDA_VISIBLE_DEVICES: [0]\n"
     ]
    },
    {
     "name": "stdout",
     "output_type": "stream",
     "text": [
      "7toa2ybx\n",
      "Testing DataLoader 0: 100%|██████████| 627/627 [00:17<00:00, 36.53it/s]\n",
      "────────────────────────────────────────────────────────────────────────────────────────────────────────────────────────\n",
      "       Test metric             DataLoader 0\n",
      "────────────────────────────────────────────────────────────────────────────────────────────────────────────────────────\n",
      "        test_hit             32.0594482421875\n",
      "        test_loss            7.819044589996338\n",
      "        test_mrr            21.109676361083984\n",
      "────────────────────────────────────────────────────────────────────────────────────────────────────────────────────────\n",
      "{'dataset': 'otto-recsys', 'batchSize': 100, 'hiddenSize': 100, 'epoch': 30, 'lr': 0.001, 'lr_dc': 0.1, 'lr_dc_step': 2, 'lr_scheduler': 'step', 'lr_milestones': ([2, 5, 8],), 'l2': 1e-06, 'step': 2, 'patience': 4, 'nonhybrid': False, 'validation': True, 'valid_portion': 0.1, 'pretrained_embedings': False, 'unfreeze_epoch': 0, 'gmm': [], 'augment_matrix': True, 'augment_clusters': False, 'augment_old_run_id': 'f42h3b7i', 'augment_clip': 0, 'augment_normalize': True, 'augment_raw': False, 'weight_init': 'normal', 'augment_categories': False, 'augment_nogmm': 8, 'augment_p': 0.5, 'augment_mean': 0.01, 'augment_std': 0.01, 'augment_gmm_init': 'k-means++', 'augment_prenormalize_distances': False, 'augment_noise_p': 0.5, 'augment_alg': 'gmm', 'gmm_covariance_type': 'full', 'gmm_tol': 0.001}\n"
     ]
    },
    {
     "name": "stderr",
     "output_type": "stream",
     "text": [
      "LOCAL_RANK: 0 - CUDA_VISIBLE_DEVICES: [0]\n"
     ]
    },
    {
     "name": "stdout",
     "output_type": "stream",
     "text": [
      "zrkfqp80\n",
      "Testing DataLoader 0: 100%|██████████| 627/627 [00:17<00:00, 36.68it/s]\n",
      "────────────────────────────────────────────────────────────────────────────────────────────────────────────────────────\n",
      "       Test metric             DataLoader 0\n",
      "────────────────────────────────────────────────────────────────────────────────────────────────────────────────────────\n",
      "        test_hit            32.038002014160156\n",
      "        test_loss            7.804174423217773\n",
      "        test_mrr            21.176721572875977\n",
      "────────────────────────────────────────────────────────────────────────────────────────────────────────────────────────\n",
      "{'dataset': 'otto-recsys', 'batchSize': 100, 'hiddenSize': 100, 'epoch': 30, 'lr': 0.001, 'lr_dc': 0.1, 'lr_dc_step': 2, 'lr_scheduler': 'step', 'lr_milestones': ([2, 5, 8],), 'l2': 1e-06, 'step': 2, 'patience': 4, 'nonhybrid': False, 'validation': True, 'valid_portion': 0.1, 'pretrained_embedings': False, 'unfreeze_epoch': 0, 'gmm': [], 'augment_matrix': True, 'augment_clusters': False, 'augment_old_run_id': 'f42h3b7i', 'augment_clip': 0, 'augment_normalize': True, 'augment_raw': False, 'weight_init': 'normal', 'augment_categories': False, 'augment_nogmm': 8, 'augment_p': 0.5, 'augment_mean': 0.01, 'augment_std': 0.01, 'augment_gmm_init': 'k-means++', 'augment_prenormalize_distances': False, 'augment_noise_p': 0.5, 'augment_alg': 'kmeans', 'gmm_covariance_type': 'full', 'gmm_tol': 0.001}\n"
     ]
    },
    {
     "name": "stderr",
     "output_type": "stream",
     "text": [
      "LOCAL_RANK: 0 - CUDA_VISIBLE_DEVICES: [0]\n"
     ]
    },
    {
     "name": "stdout",
     "output_type": "stream",
     "text": [
      "0dqi0cx4\n",
      "Testing DataLoader 0: 100%|██████████| 627/627 [00:17<00:00, 36.51it/s]\n",
      "────────────────────────────────────────────────────────────────────────────────────────────────────────────────────────\n",
      "       Test metric             DataLoader 0\n",
      "────────────────────────────────────────────────────────────────────────────────────────────────────────────────────────\n",
      "        test_hit            32.079471588134766\n",
      "        test_loss           7.8457746505737305\n",
      "        test_mrr            21.516979217529297\n",
      "────────────────────────────────────────────────────────────────────────────────────────────────────────────────────────\n",
      "{'dataset': 'otto-recsys', 'batchSize': 100, 'hiddenSize': 100, 'epoch': 30, 'lr': 0.001, 'lr_dc': 0.1, 'lr_dc_step': 2, 'lr_scheduler': 'step', 'lr_milestones': ([2, 5, 8],), 'l2': 1e-06, 'step': 2, 'patience': 4, 'nonhybrid': False, 'validation': True, 'valid_portion': 0.1, 'pretrained_embedings': False, 'unfreeze_epoch': 0, 'gmm': [], 'augment_matrix': True, 'augment_clusters': False, 'augment_old_run_id': 'f42h3b7i', 'augment_clip': 0, 'augment_normalize': True, 'augment_raw': False, 'weight_init': 'normal', 'augment_categories': False, 'augment_nogmm': 8, 'augment_p': 0.5, 'augment_mean': 0.01, 'augment_std': 0.01, 'augment_gmm_init': 'k-means++', 'augment_prenormalize_distances': False, 'augment_noise_p': 0.5, 'augment_alg': 'raw', 'gmm_covariance_type': 'full', 'gmm_tol': 0.001}\n"
     ]
    },
    {
     "name": "stderr",
     "output_type": "stream",
     "text": [
      "LOCAL_RANK: 0 - CUDA_VISIBLE_DEVICES: [0]\n"
     ]
    },
    {
     "name": "stdout",
     "output_type": "stream",
     "text": [
      "leop64a1\n",
      "Testing DataLoader 0: 100%|██████████| 627/627 [00:17<00:00, 36.27it/s]\n",
      "────────────────────────────────────────────────────────────────────────────────────────────────────────────────────────\n",
      "       Test metric             DataLoader 0\n",
      "────────────────────────────────────────────────────────────────────────────────────────────────────────────────────────\n",
      "        test_hit             32.1296272277832\n",
      "        test_loss            7.760045051574707\n",
      "        test_mrr             21.16725730895996\n",
      "────────────────────────────────────────────────────────────────────────────────────────────────────────────────────────\n",
      "{'dataset': 'otto-recsys', 'batchSize': 100, 'hiddenSize': 100, 'epoch': 30, 'lr': 0.001, 'lr_dc': 0.1, 'lr_dc_step': 2, 'lr_scheduler': 'step', 'lr_milestones': ([2, 5, 8],), 'l2': 1e-06, 'step': 2, 'patience': 4, 'nonhybrid': False, 'validation': True, 'valid_portion': 0.1, 'pretrained_embedings': False, 'unfreeze_epoch': 0, 'gmm': [], 'augment_matrix': True, 'augment_clusters': False, 'augment_old_run_id': 'z5gthlar', 'augment_clip': 0, 'augment_normalize': True, 'augment_raw': False, 'weight_init': 'normal', 'augment_categories': False, 'augment_nogmm': 8, 'augment_p': 0.5, 'augment_mean': 0.01, 'augment_std': 0.01, 'augment_gmm_init': 'k-means++', 'augment_prenormalize_distances': False, 'augment_noise_p': 0.5, 'augment_alg': 'gmm', 'gmm_covariance_type': 'full', 'gmm_tol': 0.001}\n"
     ]
    },
    {
     "name": "stderr",
     "output_type": "stream",
     "text": [
      "LOCAL_RANK: 0 - CUDA_VISIBLE_DEVICES: [0]\n"
     ]
    },
    {
     "name": "stdout",
     "output_type": "stream",
     "text": [
      "c4l0cw03\n",
      "Testing DataLoader 0: 100%|██████████| 627/627 [00:17<00:00, 36.66it/s]\n",
      "────────────────────────────────────────────────────────────────────────────────────────────────────────────────────────\n",
      "       Test metric             DataLoader 0\n",
      "────────────────────────────────────────────────────────────────────────────────────────────────────────────────────────\n",
      "        test_hit             32.12683868408203\n",
      "        test_loss            7.838303089141846\n",
      "        test_mrr            21.285757064819336\n",
      "────────────────────────────────────────────────────────────────────────────────────────────────────────────────────────\n",
      "{'dataset': 'otto-recsys', 'batchSize': 100, 'hiddenSize': 100, 'epoch': 30, 'lr': 0.001, 'lr_dc': 0.1, 'lr_dc_step': 2, 'lr_scheduler': 'step', 'lr_milestones': ([2, 5, 8],), 'l2': 1e-06, 'step': 2, 'patience': 4, 'nonhybrid': False, 'validation': True, 'valid_portion': 0.1, 'pretrained_embedings': False, 'unfreeze_epoch': 0, 'gmm': [], 'augment_matrix': True, 'augment_clusters': False, 'augment_old_run_id': 'z5gthlar', 'augment_clip': 0, 'augment_normalize': True, 'augment_raw': False, 'weight_init': 'normal', 'augment_categories': False, 'augment_nogmm': 8, 'augment_p': 0.5, 'augment_mean': 0.01, 'augment_std': 0.01, 'augment_gmm_init': 'k-means++', 'augment_prenormalize_distances': False, 'augment_noise_p': 0.5, 'augment_alg': 'kmeans', 'gmm_covariance_type': 'full', 'gmm_tol': 0.001}\n"
     ]
    },
    {
     "name": "stderr",
     "output_type": "stream",
     "text": [
      "LOCAL_RANK: 0 - CUDA_VISIBLE_DEVICES: [0]\n"
     ]
    },
    {
     "name": "stdout",
     "output_type": "stream",
     "text": [
      "rufekv8o\n",
      "Testing DataLoader 0: 100%|██████████| 627/627 [00:17<00:00, 36.45it/s]\n",
      "────────────────────────────────────────────────────────────────────────────────────────────────────────────────────────\n",
      "       Test metric             DataLoader 0\n",
      "────────────────────────────────────────────────────────────────────────────────────────────────────────────────────────\n",
      "        test_hit             32.25657653808594\n",
      "        test_loss            7.798031330108643\n",
      "        test_mrr            21.533220291137695\n",
      "────────────────────────────────────────────────────────────────────────────────────────────────────────────────────────\n",
      "{'dataset': 'otto-recsys', 'batchSize': 100, 'hiddenSize': 100, 'epoch': 30, 'lr': 0.001, 'lr_dc': 0.1, 'lr_dc_step': 2, 'lr_scheduler': 'step', 'lr_milestones': ([2, 5, 8],), 'l2': 1e-06, 'step': 2, 'patience': 4, 'nonhybrid': False, 'validation': True, 'valid_portion': 0.1, 'pretrained_embedings': False, 'unfreeze_epoch': 0, 'gmm': [], 'augment_matrix': True, 'augment_clusters': False, 'augment_old_run_id': 'z5gthlar', 'augment_clip': 0, 'augment_normalize': True, 'augment_raw': False, 'weight_init': 'normal', 'augment_categories': False, 'augment_nogmm': 8, 'augment_p': 0.5, 'augment_mean': 0.01, 'augment_std': 0.01, 'augment_gmm_init': 'k-means++', 'augment_prenormalize_distances': False, 'augment_noise_p': 0.5, 'augment_alg': 'raw', 'gmm_covariance_type': 'full', 'gmm_tol': 0.001}\n"
     ]
    },
    {
     "name": "stderr",
     "output_type": "stream",
     "text": [
      "LOCAL_RANK: 0 - CUDA_VISIBLE_DEVICES: [0]\n"
     ]
    },
    {
     "name": "stdout",
     "output_type": "stream",
     "text": [
      "zja7utqy\n",
      "Testing DataLoader 0: 100%|██████████| 627/627 [00:17<00:00, 34.98it/s]\n",
      "────────────────────────────────────────────────────────────────────────────────────────────────────────────────────────\n",
      "       Test metric             DataLoader 0\n",
      "────────────────────────────────────────────────────────────────────────────────────────────────────────────────────────\n",
      "        test_hit            31.716951370239258\n",
      "        test_loss            7.814945220947266\n",
      "        test_mrr            20.894453048706055\n",
      "────────────────────────────────────────────────────────────────────────────────────────────────────────────────────────\n",
      "{'dataset': 'otto-recsys', 'batchSize': 100, 'hiddenSize': 100, 'epoch': 30, 'lr': 0.001, 'lr_dc': 0.1, 'lr_dc_step': 2, 'lr_scheduler': 'step', 'lr_milestones': ([2, 5, 8],), 'l2': 1e-06, 'step': 2, 'patience': 4, 'nonhybrid': False, 'validation': True, 'valid_portion': 0.1, 'pretrained_embedings': False, 'unfreeze_epoch': 0, 'gmm': [], 'augment_matrix': True, 'augment_clusters': False, 'augment_old_run_id': 'icirdid1', 'augment_clip': 0, 'augment_normalize': True, 'augment_raw': False, 'weight_init': 'normal', 'augment_categories': False, 'augment_nogmm': 8, 'augment_p': 0.5, 'augment_mean': 0.01, 'augment_std': 0.01, 'augment_gmm_init': 'k-means++', 'augment_prenormalize_distances': False, 'augment_noise_p': 0.5, 'augment_alg': 'gmm', 'gmm_covariance_type': 'full', 'gmm_tol': 0.001}\n"
     ]
    },
    {
     "name": "stderr",
     "output_type": "stream",
     "text": [
      "LOCAL_RANK: 0 - CUDA_VISIBLE_DEVICES: [0]\n"
     ]
    },
    {
     "name": "stdout",
     "output_type": "stream",
     "text": [
      "lc8hf28y\n",
      "Testing DataLoader 0: 100%|██████████| 627/627 [00:16<00:00, 36.93it/s]\n",
      "────────────────────────────────────────────────────────────────────────────────────────────────────────────────────────\n",
      "       Test metric             DataLoader 0\n",
      "────────────────────────────────────────────────────────────────────────────────────────────────────────────────────────\n",
      "        test_hit            31.852754592895508\n",
      "        test_loss            7.842928409576416\n",
      "        test_mrr            20.996980667114258\n",
      "────────────────────────────────────────────────────────────────────────────────────────────────────────────────────────\n",
      "{'dataset': 'otto-recsys', 'batchSize': 100, 'hiddenSize': 100, 'epoch': 30, 'lr': 0.001, 'lr_dc': 0.1, 'lr_dc_step': 2, 'lr_scheduler': 'step', 'lr_milestones': ([2, 5, 8],), 'l2': 1e-06, 'step': 2, 'patience': 4, 'nonhybrid': False, 'validation': True, 'valid_portion': 0.1, 'pretrained_embedings': False, 'unfreeze_epoch': 0, 'gmm': [], 'augment_matrix': True, 'augment_clusters': False, 'augment_old_run_id': 'icirdid1', 'augment_clip': 0, 'augment_normalize': True, 'augment_raw': False, 'weight_init': 'normal', 'augment_categories': False, 'augment_nogmm': 8, 'augment_p': 0.5, 'augment_mean': 0.01, 'augment_std': 0.01, 'augment_gmm_init': 'k-means++', 'augment_prenormalize_distances': False, 'augment_noise_p': 0.5, 'augment_alg': 'kmeans', 'gmm_covariance_type': 'full', 'gmm_tol': 0.001}\n"
     ]
    },
    {
     "name": "stderr",
     "output_type": "stream",
     "text": [
      "LOCAL_RANK: 0 - CUDA_VISIBLE_DEVICES: [0]\n"
     ]
    },
    {
     "name": "stdout",
     "output_type": "stream",
     "text": [
      "pi1q0ni6\n",
      "Testing DataLoader 0: 100%|██████████| 627/627 [00:17<00:00, 36.41it/s]\n",
      "────────────────────────────────────────────────────────────────────────────────────────────────────────────────────────\n",
      "       Test metric             DataLoader 0\n",
      "────────────────────────────────────────────────────────────────────────────────────────────────────────────────────────\n",
      "        test_hit            31.759132385253906\n",
      "        test_loss            7.809719562530518\n",
      "        test_mrr            21.018617630004883\n",
      "────────────────────────────────────────────────────────────────────────────────────────────────────────────────────────\n",
      "{'dataset': 'otto-recsys', 'batchSize': 100, 'hiddenSize': 100, 'epoch': 30, 'lr': 0.001, 'lr_dc': 0.1, 'lr_dc_step': 2, 'lr_scheduler': 'step', 'lr_milestones': ([2, 5, 8],), 'l2': 1e-06, 'step': 2, 'patience': 4, 'nonhybrid': False, 'validation': True, 'valid_portion': 0.1, 'pretrained_embedings': False, 'unfreeze_epoch': 0, 'gmm': [], 'augment_matrix': True, 'augment_clusters': False, 'augment_old_run_id': 'icirdid1', 'augment_clip': 0, 'augment_normalize': True, 'augment_raw': False, 'weight_init': 'normal', 'augment_categories': False, 'augment_nogmm': 8, 'augment_p': 0.5, 'augment_mean': 0.01, 'augment_std': 0.01, 'augment_gmm_init': 'k-means++', 'augment_prenormalize_distances': False, 'augment_noise_p': 0.5, 'augment_alg': 'raw', 'gmm_covariance_type': 'full', 'gmm_tol': 0.001}\n"
     ]
    },
    {
     "name": "stderr",
     "output_type": "stream",
     "text": [
      "LOCAL_RANK: 0 - CUDA_VISIBLE_DEVICES: [0]\n"
     ]
    },
    {
     "name": "stdout",
     "output_type": "stream",
     "text": [
      "78wwq4e4\n",
      "Testing DataLoader 0: 100%|██████████| 627/627 [00:17<00:00, 36.78it/s]\n",
      "────────────────────────────────────────────────────────────────────────────────────────────────────────────────────────\n",
      "       Test metric             DataLoader 0\n",
      "────────────────────────────────────────────────────────────────────────────────────────────────────────────────────────\n",
      "        test_hit            31.937284469604492\n",
      "        test_loss            7.866679668426514\n",
      "        test_mrr            21.244136810302734\n",
      "────────────────────────────────────────────────────────────────────────────────────────────────────────────────────────\n",
      "{'dataset': 'otto-recsys', 'batchSize': 100, 'hiddenSize': 100, 'epoch': 30, 'lr': 0.001, 'lr_dc': 0.1, 'lr_dc_step': 2, 'lr_scheduler': 'step', 'lr_milestones': ([2, 5, 8],), 'l2': 1e-05, 'step': 2, 'patience': 5, 'nonhybrid': False, 'validation': True, 'valid_portion': 0.1, 'pretrained_embedings': False, 'unfreeze_epoch': 0, 'gmm': [], 'augment_matrix': False, 'augment_clusters': False, 'augment_old_run_id': '', 'augment_clip': 0, 'augment_normalize': False, 'augment_raw': False, 'weight_init': 'normal', 'augment_categories': False, 'augment_nogmm': 16, 'augment_p': 1.0, 'augment_mean': 0.01, 'augment_std': 0.0, 'augment_gmm_init': 'k-means++', 'augment_prenormalize_distances': False, 'augment_noise_p': 0.0, 'augment_alg': 'gmm', 'gmm_covariance_type': 'full', 'gmm_tol': 0.001}\n"
     ]
    },
    {
     "name": "stderr",
     "output_type": "stream",
     "text": [
      "LOCAL_RANK: 0 - CUDA_VISIBLE_DEVICES: [0]\n"
     ]
    },
    {
     "name": "stdout",
     "output_type": "stream",
     "text": [
      "7oziz2pv\n",
      "Testing DataLoader 0: 100%|██████████| 627/627 [00:17<00:00, 36.83it/s]\n",
      "────────────────────────────────────────────────────────────────────────────────────────────────────────────────────────\n",
      "       Test metric             DataLoader 0\n",
      "────────────────────────────────────────────────────────────────────────────────────────────────────────────────────────\n",
      "        test_hit            31.742231369018555\n",
      "        test_loss            7.780666828155518\n",
      "        test_mrr             20.76390838623047\n",
      "────────────────────────────────────────────────────────────────────────────────────────────────────────────────────────\n",
      "{'dataset': 'otto-recsys', 'batchSize': 100, 'hiddenSize': 100, 'epoch': 30, 'lr': 0.001, 'lr_dc': 0.1, 'lr_dc_step': 2, 'lr_scheduler': 'step', 'lr_milestones': ([2, 5, 8],), 'l2': 1e-05, 'step': 2, 'patience': 5, 'nonhybrid': False, 'validation': True, 'valid_portion': 0.1, 'pretrained_embedings': False, 'unfreeze_epoch': 0, 'gmm': [], 'augment_matrix': False, 'augment_clusters': False, 'augment_old_run_id': '', 'augment_clip': 0, 'augment_normalize': False, 'augment_raw': False, 'weight_init': 'normal', 'augment_categories': False, 'augment_nogmm': 16, 'augment_p': 1.0, 'augment_mean': 0.01, 'augment_std': 0.0, 'augment_gmm_init': 'k-means++', 'augment_prenormalize_distances': False, 'augment_noise_p': 0.0, 'augment_alg': 'gmm', 'gmm_covariance_type': 'full', 'gmm_tol': 0.001}\n"
     ]
    },
    {
     "name": "stderr",
     "output_type": "stream",
     "text": [
      "LOCAL_RANK: 0 - CUDA_VISIBLE_DEVICES: [0]\n"
     ]
    },
    {
     "name": "stdout",
     "output_type": "stream",
     "text": [
      "77r7ocil\n",
      "Testing DataLoader 0: 100%|██████████| 627/627 [00:17<00:00, 36.73it/s]\n",
      "────────────────────────────────────────────────────────────────────────────────────────────────────────────────────────\n",
      "       Test metric             DataLoader 0\n",
      "────────────────────────────────────────────────────────────────────────────────────────────────────────────────────────\n",
      "        test_hit            31.386404037475586\n",
      "        test_loss            7.781749725341797\n",
      "        test_mrr            20.488447189331055\n",
      "────────────────────────────────────────────────────────────────────────────────────────────────────────────────────────\n",
      "{'dataset': 'otto-recsys', 'batchSize': 100, 'hiddenSize': 100, 'epoch': 30, 'lr': 0.001, 'lr_dc': 0.1, 'lr_dc_step': 2, 'lr_scheduler': 'step', 'lr_milestones': ([2, 5, 8],), 'l2': 1e-05, 'step': 2, 'patience': 5, 'nonhybrid': False, 'validation': True, 'valid_portion': 0.1, 'pretrained_embedings': False, 'unfreeze_epoch': 0, 'gmm': [], 'augment_matrix': False, 'augment_clusters': False, 'augment_old_run_id': '', 'augment_clip': 0, 'augment_normalize': False, 'augment_raw': False, 'weight_init': 'normal', 'augment_categories': False, 'augment_nogmm': 16, 'augment_p': 1.0, 'augment_mean': 0.01, 'augment_std': 0.01, 'augment_gmm_init': 'k-means++', 'augment_prenormalize_distances': False, 'augment_noise_p': 0.5, 'augment_alg': 'gmm', 'gmm_covariance_type': 'full', 'gmm_tol': 0.001}\n"
     ]
    },
    {
     "name": "stderr",
     "output_type": "stream",
     "text": [
      "LOCAL_RANK: 0 - CUDA_VISIBLE_DEVICES: [0]\n"
     ]
    },
    {
     "name": "stdout",
     "output_type": "stream",
     "text": [
      "umy0p2nx\n",
      "Testing DataLoader 0: 100%|██████████| 627/627 [00:17<00:00, 36.84it/s]\n",
      "────────────────────────────────────────────────────────────────────────────────────────────────────────────────────────\n",
      "       Test metric             DataLoader 0\n",
      "────────────────────────────────────────────────────────────────────────────────────────────────────────────────────────\n",
      "        test_hit             31.4702205657959\n",
      "        test_loss            7.819532871246338\n",
      "        test_mrr            20.507671356201172\n",
      "────────────────────────────────────────────────────────────────────────────────────────────────────────────────────────\n",
      "{'dataset': 'otto-recsys', 'batchSize': 100, 'hiddenSize': 100, 'epoch': 30, 'lr': 0.001, 'lr_dc': 0.1, 'lr_dc_step': 2, 'lr_scheduler': 'step', 'lr_milestones': ([2, 5, 8],), 'l2': 1e-05, 'step': 2, 'patience': 5, 'nonhybrid': False, 'validation': True, 'valid_portion': 0.1, 'pretrained_embedings': False, 'unfreeze_epoch': 0, 'gmm': [], 'augment_matrix': False, 'augment_clusters': False, 'augment_old_run_id': '', 'augment_clip': 0, 'augment_normalize': False, 'augment_raw': False, 'weight_init': 'normal', 'augment_categories': False, 'augment_nogmm': 16, 'augment_p': 1.0, 'augment_mean': 0.01, 'augment_std': 0.01, 'augment_gmm_init': 'k-means++', 'augment_prenormalize_distances': False, 'augment_noise_p': 0.5, 'augment_alg': 'gmm', 'gmm_covariance_type': 'full', 'gmm_tol': 0.001}\n"
     ]
    },
    {
     "name": "stderr",
     "output_type": "stream",
     "text": [
      "LOCAL_RANK: 0 - CUDA_VISIBLE_DEVICES: [0]\n"
     ]
    },
    {
     "name": "stdout",
     "output_type": "stream",
     "text": [
      "ch778pru\n",
      "Testing DataLoader 0: 100%|██████████| 627/627 [00:16<00:00, 37.14it/s]\n",
      "────────────────────────────────────────────────────────────────────────────────────────────────────────────────────────\n",
      "       Test metric             DataLoader 0\n",
      "────────────────────────────────────────────────────────────────────────────────────────────────────────────────────────\n",
      "        test_hit            31.227079391479492\n",
      "        test_loss           7.8492045402526855\n",
      "        test_mrr            20.552257537841797\n",
      "────────────────────────────────────────────────────────────────────────────────────────────────────────────────────────\n",
      "{'dataset': 'otto-recsys', 'batchSize': 100, 'hiddenSize': 100, 'epoch': 30, 'lr': 0.001, 'lr_dc': 0.1, 'lr_dc_step': 2, 'lr_scheduler': 'step', 'lr_milestones': ([2, 5, 8],), 'l2': 1e-05, 'step': 2, 'patience': 5, 'nonhybrid': False, 'validation': True, 'valid_portion': 0.1, 'pretrained_embedings': False, 'unfreeze_epoch': 0, 'gmm': [], 'augment_matrix': False, 'augment_clusters': False, 'augment_old_run_id': '', 'augment_clip': 0, 'augment_normalize': False, 'augment_raw': False, 'weight_init': 'normal', 'augment_categories': False, 'augment_nogmm': 16, 'augment_p': 1.0, 'augment_mean': 0.01, 'augment_std': 0.01, 'augment_gmm_init': 'k-means++', 'augment_prenormalize_distances': False, 'augment_noise_p': 0.5, 'augment_alg': 'gmm', 'gmm_covariance_type': 'full', 'gmm_tol': 0.001}\n"
     ]
    },
    {
     "name": "stderr",
     "output_type": "stream",
     "text": [
      "LOCAL_RANK: 0 - CUDA_VISIBLE_DEVICES: [0]\n"
     ]
    },
    {
     "name": "stdout",
     "output_type": "stream",
     "text": [
      "dn0mhesi\n",
      "Testing DataLoader 0: 100%|██████████| 627/627 [00:16<00:00, 36.90it/s]\n",
      "────────────────────────────────────────────────────────────────────────────────────────────────────────────────────────\n",
      "       Test metric             DataLoader 0\n",
      "────────────────────────────────────────────────────────────────────────────────────────────────────────────────────────\n",
      "        test_hit             32.00474548339844\n",
      "        test_loss            7.939952373504639\n",
      "        test_mrr            20.955114364624023\n",
      "────────────────────────────────────────────────────────────────────────────────────────────────────────────────────────\n",
      "{'dataset': 'otto-recsys', 'batchSize': 100, 'hiddenSize': 100, 'epoch': 30, 'lr': 0.001, 'lr_dc': 0.1, 'lr_dc_step': 2, 'lr_scheduler': 'step', 'lr_milestones': ([2, 5, 8],), 'l2': 1e-05, 'step': 2, 'patience': 5, 'nonhybrid': False, 'validation': True, 'valid_portion': 0.1, 'pretrained_embedings': False, 'unfreeze_epoch': 0, 'gmm': [], 'augment_matrix': False, 'augment_clusters': False, 'augment_old_run_id': '', 'augment_clip': 0, 'augment_normalize': False, 'augment_raw': False, 'weight_init': 'normal', 'augment_categories': False, 'augment_nogmm': 16, 'augment_p': 1.0, 'augment_mean': 0.01, 'augment_std': 0.01, 'augment_gmm_init': 'k-means++', 'augment_prenormalize_distances': False, 'augment_noise_p': 0.5, 'augment_alg': 'gmm', 'gmm_covariance_type': 'full', 'gmm_tol': 0.001}\n"
     ]
    },
    {
     "name": "stderr",
     "output_type": "stream",
     "text": [
      "LOCAL_RANK: 0 - CUDA_VISIBLE_DEVICES: [0]\n"
     ]
    },
    {
     "name": "stdout",
     "output_type": "stream",
     "text": [
      "qpljbobb\n",
      "Testing DataLoader 0: 100%|██████████| 627/627 [00:16<00:00, 37.31it/s]\n",
      "────────────────────────────────────────────────────────────────────────────────────────────────────────────────────────\n",
      "       Test metric             DataLoader 0\n",
      "────────────────────────────────────────────────────────────────────────────────────────────────────────────────────────\n",
      "        test_hit            31.343982696533203\n",
      "        test_loss            7.809231281280518\n",
      "        test_mrr            20.283445358276367\n",
      "────────────────────────────────────────────────────────────────────────────────────────────────────────────────────────\n",
      "{'dataset': 'otto-recsys', 'batchSize': 100, 'hiddenSize': 100, 'epoch': 30, 'lr': 0.001, 'lr_dc': 0.1, 'lr_dc_step': 2, 'lr_scheduler': 'step', 'lr_milestones': ([2, 5, 8],), 'l2': 1e-05, 'step': 2, 'patience': 5, 'nonhybrid': False, 'validation': True, 'valid_portion': 0.1, 'pretrained_embedings': False, 'unfreeze_epoch': 0, 'gmm': [], 'augment_matrix': False, 'augment_clusters': False, 'augment_old_run_id': '', 'augment_clip': 0, 'augment_normalize': False, 'augment_raw': False, 'weight_init': 'normal', 'augment_categories': False, 'augment_nogmm': 16, 'augment_p': 1.0, 'augment_mean': 0.01, 'augment_std': 0.01, 'augment_gmm_init': 'k-means++', 'augment_prenormalize_distances': False, 'augment_noise_p': 0.5, 'augment_alg': 'gmm', 'gmm_covariance_type': 'full', 'gmm_tol': 0.001}\n"
     ]
    },
    {
     "name": "stderr",
     "output_type": "stream",
     "text": [
      "LOCAL_RANK: 0 - CUDA_VISIBLE_DEVICES: [0]\n"
     ]
    },
    {
     "name": "stdout",
     "output_type": "stream",
     "text": [
      "s8wy4wxs\n",
      "Testing DataLoader 0: 100%|██████████| 627/627 [00:16<00:00, 37.16it/s]\n",
      "────────────────────────────────────────────────────────────────────────────────────────────────────────────────────────\n",
      "       Test metric             DataLoader 0\n",
      "────────────────────────────────────────────────────────────────────────────────────────────────────────────────────────\n",
      "        test_hit             31.42213249206543\n",
      "        test_loss            7.875438213348389\n",
      "        test_mrr            20.393234252929688\n",
      "────────────────────────────────────────────────────────────────────────────────────────────────────────────────────────\n"
     ]
    }
   ],
   "source": [
    "res_df=[]\n",
    "for run_id in runs:\n",
    "    try:\n",
    "      model,opt=load_model(run_id)\n",
    "    except IndexError:\n",
    "       continue\n",
    "\n",
    "    print(run_id)\n",
    "    metrics=trainer.test(model, {#'augmented':am_test_dataloader, \n",
    "                                 'normal':normal_test_dataloader})[0 ]\n",
    "    metrics['run_id']=run_id\n",
    "    for k,v in opt.__dict__.items():\n",
    "       metrics[k]=v\n",
    "    res_df.append(metrics)"
   ]
  },
  {
   "cell_type": "code",
   "execution_count": 7,
   "metadata": {},
   "outputs": [],
   "source": [
    "result_df=pd.DataFrame(res_df)"
   ]
  },
  {
   "cell_type": "code",
   "execution_count": 8,
   "metadata": {},
   "outputs": [
    {
     "data": {
      "text/html": [
       "<div>\n",
       "<style scoped>\n",
       "    .dataframe tbody tr th:only-of-type {\n",
       "        vertical-align: middle;\n",
       "    }\n",
       "\n",
       "    .dataframe tbody tr th {\n",
       "        vertical-align: top;\n",
       "    }\n",
       "\n",
       "    .dataframe thead th {\n",
       "        text-align: right;\n",
       "    }\n",
       "</style>\n",
       "<table border=\"1\" class=\"dataframe\">\n",
       "  <thead>\n",
       "    <tr style=\"text-align: right;\">\n",
       "      <th></th>\n",
       "      <th></th>\n",
       "      <th></th>\n",
       "      <th>test_loss</th>\n",
       "      <th>test_hit</th>\n",
       "      <th>test_mrr</th>\n",
       "    </tr>\n",
       "    <tr>\n",
       "      <th>augment_matrix</th>\n",
       "      <th>augment_noise_p</th>\n",
       "      <th>augment_alg</th>\n",
       "      <th></th>\n",
       "      <th></th>\n",
       "      <th></th>\n",
       "    </tr>\n",
       "  </thead>\n",
       "  <tbody>\n",
       "    <tr>\n",
       "      <th rowspan=\"2\" valign=\"top\">False</th>\n",
       "      <th>0.0</th>\n",
       "      <th>gmm</th>\n",
       "      <td>7.810835</td>\n",
       "      <td>31.417475</td>\n",
       "      <td>20.491862</td>\n",
       "    </tr>\n",
       "    <tr>\n",
       "      <th>0.5</th>\n",
       "      <th>gmm</th>\n",
       "      <td>7.858672</td>\n",
       "      <td>31.493632</td>\n",
       "      <td>20.538345</td>\n",
       "    </tr>\n",
       "    <tr>\n",
       "      <th rowspan=\"3\" valign=\"top\">True</th>\n",
       "      <th rowspan=\"3\" valign=\"top\">0.5</th>\n",
       "      <th>gmm</th>\n",
       "      <td>7.819558</td>\n",
       "      <td>32.020105</td>\n",
       "      <td>21.179639</td>\n",
       "    </tr>\n",
       "    <tr>\n",
       "      <th>kmeans</th>\n",
       "      <td>7.823207</td>\n",
       "      <td>32.054985</td>\n",
       "      <td>21.340188</td>\n",
       "    </tr>\n",
       "    <tr>\n",
       "      <th>raw</th>\n",
       "      <td>7.837602</td>\n",
       "      <td>32.048814</td>\n",
       "      <td>21.161132</td>\n",
       "    </tr>\n",
       "  </tbody>\n",
       "</table>\n",
       "</div>"
      ],
      "text/plain": [
       "                                            test_loss   test_hit   test_mrr\n",
       "augment_matrix augment_noise_p augment_alg                                 \n",
       "False          0.0             gmm           7.810835  31.417475  20.491862\n",
       "               0.5             gmm           7.858672  31.493632  20.538345\n",
       "True           0.5             gmm           7.819558  32.020105  21.179639\n",
       "                               kmeans        7.823207  32.054985  21.340188\n",
       "                               raw           7.837602  32.048814  21.161132"
      ]
     },
     "execution_count": 8,
     "metadata": {},
     "output_type": "execute_result"
    }
   ],
   "source": [
    "result_df[['test_loss', 'test_hit', 'test_mrr', 'augment_matrix','augment_noise_p','augment_alg']].groupby(['augment_matrix', 'augment_noise_p', 'augment_alg']).mean()"
   ]
  },
  {
   "cell_type": "markdown",
   "metadata": {},
   "source": [
    "# yoochoose 1/64"
   ]
  },
  {
   "cell_type": "markdown",
   "metadata": {},
   "source": [
    "## baseline models"
   ]
  },
  {
   "cell_type": "code",
   "execution_count": 2,
   "metadata": {},
   "outputs": [
    {
     "name": "stdout",
     "output_type": "stream",
     "text": [
      "{'dataset': 'yoochoose1_64', 'batchSize': 100, 'hiddenSize': 100, 'epoch': 30, 'lr': 0.001, 'lr_dc': 0.1, 'lr_dc_step': 2, 'lr_scheduler': 'step', 'lr_milestones': ([2, 5, 8],), 'l2': 1e-05, 'step': 2, 'patience': 5, 'nonhybrid': False, 'validation': True, 'valid_portion': 0.1, 'pretrained_embedings': False, 'unfreeze_epoch': 0, 'gmm': [], 'augment_matrix': False, 'augment_clusters': False, 'augment_old_run_id': None, 'augment_clip': 0, 'augment_normalize': False, 'augment_raw': False, 'weight_init': 'normal', 'augment_categories': False, 'augment_nogmm': 16, 'augment_p': 1.0, 'augment_mean': 0.01, 'augment_std': 0.0, 'augment_gmm_init': 'k-means++', 'augment_prenormalize_distances': False, 'augment_noise_p': 1.0, 'augment_alg': 'gmm', 'gmm_covariance_type': 'full', 'gmm_tol': 0.001}\n"
     ]
    }
   ],
   "source": [
    "run_id='7zi9x9w8'\n",
    "\n",
    "model,opt=load_model(run_id)\n",
    "test_data = pickle.load(open('../datasets/' + opt.dataset + '/test.txt', 'rb'))"
   ]
  },
  {
   "cell_type": "code",
   "execution_count": 12,
   "metadata": {},
   "outputs": [
    {
     "name": "stdout",
     "output_type": "stream",
     "text": [
      "data masking start\n"
     ]
    },
    {
     "name": "stderr",
     "output_type": "stream",
     "text": [
      "100%|██████████| 64/64 [00:00<00:00, 271.66it/s]"
     ]
    },
    {
     "name": "stdout",
     "output_type": "stream",
     "text": [
      "done masking\n"
     ]
    },
    {
     "name": "stderr",
     "output_type": "stream",
     "text": [
      "\n"
     ]
    }
   ],
   "source": [
    "normal_test_dataset=SRGNN_Map_Dataset(test_data, shuffle=False)\n",
    "\n",
    "normal_test_dataloader=DataLoader(normal_test_dataset, \n",
    "                            num_workers=os.cpu_count(),  \n",
    "                            sampler=SRGNN_sampler(normal_test_dataset, opt.batchSize, shuffle=False, drop_last=False)\n",
    "                            )"
   ]
  },
  {
   "cell_type": "code",
   "execution_count": 13,
   "metadata": {},
   "outputs": [
    {
     "name": "stderr",
     "output_type": "stream",
     "text": [
      "GPU available: True (cuda), used: True\n",
      "TPU available: False, using: 0 TPU cores\n",
      "IPU available: False, using: 0 IPUs\n",
      "HPU available: False, using: 0 HPUs\n",
      "/home/kacper/anaconda3/envs/gpu_torch/lib/python3.12/site-packages/pytorch_lightning/trainer/connectors/logger_connector/logger_connector.py:75: Starting from v1.9.0, `tensorboardX` has been removed as a dependency of the `pytorch_lightning` package, due to potential conflicts with other packages in the ML ecosystem. For this reason, `logger=True` will use `CSVLogger` as the default logger, unless the `tensorboard` or `tensorboardX` packages are found. Please `pip install lightning[extra]` or one of them to enable TensorBoard support by default\n"
     ]
    }
   ],
   "source": [
    "trainer=Trainer(limit_test_batches=ceil(normal_test_dataset.length/opt.batchSize),\n",
    "                limit_predict_batches=ceil(normal_test_dataset.length/opt.batchSize))"
   ]
  },
  {
   "cell_type": "code",
   "execution_count": 9,
   "metadata": {},
   "outputs": [],
   "source": [
    "runs=[\n",
    "    '7zi9x9w8'\n",
    "]"
   ]
  },
  {
   "cell_type": "code",
   "execution_count": 10,
   "metadata": {},
   "outputs": [
    {
     "name": "stdout",
     "output_type": "stream",
     "text": [
      "{'dataset': 'yoochoose1_64', 'batchSize': 100, 'hiddenSize': 100, 'epoch': 30, 'lr': 0.001, 'lr_dc': 0.1, 'lr_dc_step': 2, 'l2': 1e-05, 'step': 2, 'patience': 5, 'nonhybrid': False, 'validation': True, 'valid_portion': 0.1, 'pretrained_embedings': False, 'unfreeze_epoch': 0, 'gmm': [], 'augment_matrix': False, 'augment_clusters': False, 'augment_old_run_id': None, 'augment_clip': 0, 'augment_normalize': False, 'augment_raw': False, 'weight_init': 'normal', 'augment_categories': False, 'augment_nogmm': 16, 'augment_p': 1.0, 'augment_mean': 0.01, 'augment_std': 0.0, 'augment_gmm_init': 'k-means++', 'augment_prenormalize_distances': False, 'augment_noise_p': 1.0}\n",
      "Metrics on normal Adjacency matrix\n",
      "7zi9x9w8\n"
     ]
    },
    {
     "name": "stderr",
     "output_type": "stream",
     "text": [
      "LOCAL_RANK: 0 - CUDA_VISIBLE_DEVICES: [0]\n"
     ]
    },
    {
     "name": "stdout",
     "output_type": "stream",
     "text": [
      "Testing DataLoader 0: 100%|██████████| 559/559 [00:17<00:00, 32.33it/s]\n",
      "────────────────────────────────────────────────────────────────────────────────────────────────────────────────────────\n",
      "       Test metric             DataLoader 0\n",
      "────────────────────────────────────────────────────────────────────────────────────────────────────────────────────────\n",
      "        test_hit             69.87379455566406\n",
      "        test_loss           4.3695454597473145\n",
      "        test_mrr             30.65968894958496\n",
      "────────────────────────────────────────────────────────────────────────────────────────────────────────────────────────\n"
     ]
    }
   ],
   "source": [
    "for run_id in runs:\n",
    "    model,opt=load_model(run_id)\n",
    "    print('Metrics on normal Adjacency matrix')\n",
    "    print(run_id)\n",
    "    trainer.test(model, normal_test_dataloader)"
   ]
  },
  {
   "cell_type": "markdown",
   "metadata": {},
   "source": [
    "## augmented models"
   ]
  },
  {
   "cell_type": "code",
   "execution_count": 12,
   "metadata": {},
   "outputs": [],
   "source": [
    "runs=[ # yoochoose1/64\n",
    "    'qgkxyze7',\n",
    "    'r1xr7g4v',\n",
    "    'itxri54t',\n",
    "    '7vvqd0ib',\n",
    "    'jefoas5f',\n",
    "    'ai6ytfw2',\n",
    "    'xm3z645m',\n",
    "    'zf87zj40',    \n",
    "]"
   ]
  },
  {
   "cell_type": "code",
   "execution_count": 13,
   "metadata": {},
   "outputs": [
    {
     "name": "stderr",
     "output_type": "stream",
     "text": [
      "LOCAL_RANK: 0 - CUDA_VISIBLE_DEVICES: [0]\n"
     ]
    },
    {
     "name": "stdout",
     "output_type": "stream",
     "text": [
      "{'dataset': 'yoochoose1_64', 'batchSize': 100, 'hiddenSize': 100, 'epoch': 30, 'lr': 0.001, 'lr_dc': 0.1, 'lr_dc_step': 2, 'l2': 1e-06, 'step': 2, 'patience': 4, 'nonhybrid': False, 'validation': True, 'valid_portion': 0.1, 'pretrained_embedings': False, 'unfreeze_epoch': 0, 'gmm': [], 'augment_matrix': True, 'augment_clusters': True, 'augment_old_run_id': '7zi9x9w8', 'augment_clip': 0, 'augment_normalize': True, 'augment_raw': False, 'weight_init': 'normal', 'augment_categories': False, 'augment_nogmm': 128, 'augment_p': 0.5, 'augment_mean': 0.01, 'augment_std': 0.01, 'augment_gmm_init': 'k-means++', 'augment_prenormalize_distances': False, 'augment_noise_p': 1.0}\n",
      "qgkxyze7\n",
      "Distnace Augmentation: True Clusters: True Categories: False Noise std:  0.01 base model 7zi9x9w8\n",
      "Testing DataLoader 0: 100%|██████████| 559/559 [00:17<00:00, 32.80it/s]\n",
      "────────────────────────────────────────────────────────────────────────────────────────────────────────────────────────\n",
      "       Test metric             DataLoader 0\n",
      "────────────────────────────────────────────────────────────────────────────────────────────────────────────────────────\n",
      "        test_hit             69.9184799194336\n",
      "        test_loss            4.364502429962158\n",
      "        test_mrr             30.67938995361328\n",
      "────────────────────────────────────────────────────────────────────────────────────────────────────────────────────────\n",
      "{'dataset': 'yoochoose1_64', 'batchSize': 100, 'hiddenSize': 100, 'epoch': 30, 'lr': 0.001, 'lr_dc': 0.1, 'lr_dc_step': 2, 'l2': 1e-06, 'step': 2, 'patience': 4, 'nonhybrid': False, 'validation': True, 'valid_portion': 0.1, 'pretrained_embedings': False, 'unfreeze_epoch': 0, 'gmm': [], 'augment_matrix': True, 'augment_clusters': True, 'augment_old_run_id': '7zi9x9w8', 'augment_clip': 0, 'augment_normalize': True, 'augment_raw': False, 'weight_init': 'normal', 'augment_categories': False, 'augment_nogmm': 128, 'augment_p': 0.5, 'augment_mean': 0.01, 'augment_std': 0.01, 'augment_gmm_init': 'k-means++', 'augment_prenormalize_distances': False, 'augment_noise_p': 1.0}\n"
     ]
    },
    {
     "name": "stderr",
     "output_type": "stream",
     "text": [
      "LOCAL_RANK: 0 - CUDA_VISIBLE_DEVICES: [0]\n"
     ]
    },
    {
     "name": "stdout",
     "output_type": "stream",
     "text": [
      "r1xr7g4v\n",
      "Distnace Augmentation: True Clusters: True Categories: False Noise std:  0.01 base model 7zi9x9w8\n",
      "Testing DataLoader 0: 100%|██████████| 559/559 [00:16<00:00, 33.10it/s]\n",
      "────────────────────────────────────────────────────────────────────────────────────────────────────────────────────────\n",
      "       Test metric             DataLoader 0\n",
      "────────────────────────────────────────────────────────────────────────────────────────────────────────────────────────\n",
      "        test_hit             70.14924621582031\n",
      "        test_loss            4.378706455230713\n",
      "        test_mrr             30.86641502380371\n",
      "────────────────────────────────────────────────────────────────────────────────────────────────────────────────────────\n",
      "{'dataset': 'yoochoose1_64', 'batchSize': 100, 'hiddenSize': 100, 'epoch': 30, 'lr': 0.001, 'lr_dc': 0.1, 'lr_dc_step': 2, 'l2': 1e-06, 'step': 2, 'patience': 4, 'nonhybrid': False, 'validation': True, 'valid_portion': 0.1, 'pretrained_embedings': False, 'unfreeze_epoch': 0, 'gmm': [], 'augment_matrix': True, 'augment_clusters': True, 'augment_old_run_id': '7zi9x9w8', 'augment_clip': 0, 'augment_normalize': True, 'augment_raw': False, 'weight_init': 'normal', 'augment_categories': False, 'augment_nogmm': 32, 'augment_p': 0.5, 'augment_mean': 0.01, 'augment_std': 0.01, 'augment_gmm_init': 'k-means++', 'augment_prenormalize_distances': False, 'augment_noise_p': 1.0}\n"
     ]
    },
    {
     "name": "stderr",
     "output_type": "stream",
     "text": [
      "LOCAL_RANK: 0 - CUDA_VISIBLE_DEVICES: [0]\n"
     ]
    },
    {
     "name": "stdout",
     "output_type": "stream",
     "text": [
      "itxri54t\n",
      "Distnace Augmentation: True Clusters: True Categories: False Noise std:  0.01 base model 7zi9x9w8\n",
      "Testing DataLoader 0: 100%|██████████| 559/559 [00:16<00:00, 33.30it/s]\n",
      "────────────────────────────────────────────────────────────────────────────────────────────────────────────────────────\n",
      "       Test metric             DataLoader 0\n",
      "────────────────────────────────────────────────────────────────────────────────────────────────────────────────────────\n",
      "        test_hit             70.07060241699219\n",
      "        test_loss            4.376307487487793\n",
      "        test_mrr            30.739612579345703\n",
      "────────────────────────────────────────────────────────────────────────────────────────────────────────────────────────\n",
      "{'dataset': 'yoochoose1_64', 'batchSize': 100, 'hiddenSize': 100, 'epoch': 30, 'lr': 0.001, 'lr_dc': 0.1, 'lr_dc_step': 2, 'l2': 1e-06, 'step': 2, 'patience': 4, 'nonhybrid': False, 'validation': True, 'valid_portion': 0.1, 'pretrained_embedings': False, 'unfreeze_epoch': 0, 'gmm': [], 'augment_matrix': True, 'augment_clusters': True, 'augment_old_run_id': '7zi9x9w8', 'augment_clip': 0, 'augment_normalize': True, 'augment_raw': False, 'weight_init': 'normal', 'augment_categories': False, 'augment_nogmm': 32, 'augment_p': 0.5, 'augment_mean': 0.01, 'augment_std': 0.01, 'augment_gmm_init': 'k-means++', 'augment_prenormalize_distances': False, 'augment_noise_p': 1.0}\n",
      "7vvqd0ib\n",
      "Distnace Augmentation: True Clusters: True Categories: False Noise std:  0.01 base model 7zi9x9w8\n"
     ]
    },
    {
     "name": "stderr",
     "output_type": "stream",
     "text": [
      "LOCAL_RANK: 0 - CUDA_VISIBLE_DEVICES: [0]\n"
     ]
    },
    {
     "name": "stdout",
     "output_type": "stream",
     "text": [
      "Testing DataLoader 0: 100%|██████████| 559/559 [00:16<00:00, 33.11it/s]\n",
      "────────────────────────────────────────────────────────────────────────────────────────────────────────────────────────\n",
      "       Test metric             DataLoader 0\n",
      "────────────────────────────────────────────────────────────────────────────────────────────────────────────────────────\n",
      "        test_hit             70.03658294677734\n",
      "        test_loss            4.375029563903809\n",
      "        test_mrr            30.747182846069336\n",
      "────────────────────────────────────────────────────────────────────────────────────────────────────────────────────────\n",
      "{'dataset': 'yoochoose1_64', 'batchSize': 100, 'hiddenSize': 100, 'epoch': 30, 'lr': 0.001, 'lr_dc': 0.1, 'lr_dc_step': 2, 'l2': 1e-06, 'step': 2, 'patience': 4, 'nonhybrid': False, 'validation': True, 'valid_portion': 0.1, 'pretrained_embedings': False, 'unfreeze_epoch': 0, 'gmm': [], 'augment_matrix': True, 'augment_clusters': True, 'augment_old_run_id': '7zi9x9w8', 'augment_clip': 0, 'augment_normalize': True, 'augment_raw': False, 'weight_init': 'normal', 'augment_categories': False, 'augment_nogmm': 8, 'augment_p': 0.5, 'augment_mean': 0.01, 'augment_std': 0.01, 'augment_gmm_init': 'k-means++', 'augment_prenormalize_distances': False, 'augment_noise_p': 1.0}\n"
     ]
    },
    {
     "name": "stderr",
     "output_type": "stream",
     "text": [
      "LOCAL_RANK: 0 - CUDA_VISIBLE_DEVICES: [0]\n"
     ]
    },
    {
     "name": "stdout",
     "output_type": "stream",
     "text": [
      "jefoas5f\n",
      "Distnace Augmentation: True Clusters: True Categories: False Noise std:  0.01 base model 7zi9x9w8\n",
      "Testing DataLoader 0: 100%|██████████| 559/559 [00:16<00:00, 33.31it/s]\n",
      "────────────────────────────────────────────────────────────────────────────────────────────────────────────────────────\n",
      "       Test metric             DataLoader 0\n",
      "────────────────────────────────────────────────────────────────────────────────────────────────────────────────────────\n",
      "        test_hit             70.04373931884766\n",
      "        test_loss            4.374987602233887\n",
      "        test_mrr             30.70441436767578\n",
      "────────────────────────────────────────────────────────────────────────────────────────────────────────────────────────\n",
      "{'dataset': 'yoochoose1_64', 'batchSize': 100, 'hiddenSize': 100, 'epoch': 30, 'lr': 0.001, 'lr_dc': 0.1, 'lr_dc_step': 2, 'l2': 1e-06, 'step': 2, 'patience': 4, 'nonhybrid': False, 'validation': True, 'valid_portion': 0.1, 'pretrained_embedings': False, 'unfreeze_epoch': 0, 'gmm': [], 'augment_matrix': True, 'augment_clusters': True, 'augment_old_run_id': '7zi9x9w8', 'augment_clip': 0, 'augment_normalize': True, 'augment_raw': False, 'weight_init': 'normal', 'augment_categories': False, 'augment_nogmm': 8, 'augment_p': 0.5, 'augment_mean': 0.01, 'augment_std': 0.01, 'augment_gmm_init': 'k-means++', 'augment_prenormalize_distances': False, 'augment_noise_p': 1.0}\n"
     ]
    },
    {
     "name": "stderr",
     "output_type": "stream",
     "text": [
      "LOCAL_RANK: 0 - CUDA_VISIBLE_DEVICES: [0]\n"
     ]
    },
    {
     "name": "stdout",
     "output_type": "stream",
     "text": [
      "ai6ytfw2\n",
      "Distnace Augmentation: True Clusters: True Categories: False Noise std:  0.01 base model 7zi9x9w8\n",
      "Testing DataLoader 0: 100%|██████████| 559/559 [00:17<00:00, 32.82it/s]\n",
      "────────────────────────────────────────────────────────────────────────────────────────────────────────────────────────\n",
      "       Test metric             DataLoader 0\n",
      "────────────────────────────────────────────────────────────────────────────────────────────────────────────────────────\n",
      "        test_hit             70.11174774169922\n",
      "        test_loss            4.379937171936035\n",
      "        test_mrr            30.824819564819336\n",
      "────────────────────────────────────────────────────────────────────────────────────────────────────────────────────────\n",
      "{'dataset': 'yoochoose1_64', 'batchSize': 100, 'hiddenSize': 100, 'epoch': 30, 'lr': 0.001, 'lr_dc': 0.1, 'lr_dc_step': 2, 'l2': 1e-06, 'step': 2, 'patience': 4, 'nonhybrid': False, 'validation': True, 'valid_portion': 0.1, 'pretrained_embedings': False, 'unfreeze_epoch': 0, 'gmm': [], 'augment_matrix': True, 'augment_clusters': True, 'augment_old_run_id': '7zi9x9w8', 'augment_clip': 0, 'augment_normalize': True, 'augment_raw': False, 'weight_init': 'normal', 'augment_categories': False, 'augment_nogmm': 2, 'augment_p': 0.5, 'augment_mean': 0.01, 'augment_std': 0.01, 'augment_gmm_init': 'k-means++', 'augment_prenormalize_distances': False, 'augment_noise_p': 1.0}\n"
     ]
    },
    {
     "name": "stderr",
     "output_type": "stream",
     "text": [
      "LOCAL_RANK: 0 - CUDA_VISIBLE_DEVICES: [0]\n"
     ]
    },
    {
     "name": "stdout",
     "output_type": "stream",
     "text": [
      "xm3z645m\n",
      "Distnace Augmentation: True Clusters: True Categories: False Noise std:  0.01 base model 7zi9x9w8\n",
      "Testing DataLoader 0: 100%|██████████| 559/559 [00:16<00:00, 33.20it/s]\n",
      "────────────────────────────────────────────────────────────────────────────────────────────────────────────────────────\n",
      "       Test metric             DataLoader 0\n",
      "────────────────────────────────────────────────────────────────────────────────────────────────────────────────────────\n",
      "        test_hit             69.93103790283203\n",
      "        test_loss            4.372420787811279\n",
      "        test_mrr            30.606473922729492\n",
      "────────────────────────────────────────────────────────────────────────────────────────────────────────────────────────\n",
      "{'dataset': 'yoochoose1_64', 'batchSize': 100, 'hiddenSize': 100, 'epoch': 30, 'lr': 0.001, 'lr_dc': 0.1, 'lr_dc_step': 2, 'l2': 1e-06, 'step': 2, 'patience': 4, 'nonhybrid': False, 'validation': True, 'valid_portion': 0.1, 'pretrained_embedings': False, 'unfreeze_epoch': 0, 'gmm': [], 'augment_matrix': True, 'augment_clusters': True, 'augment_old_run_id': '7zi9x9w8', 'augment_clip': 0, 'augment_normalize': True, 'augment_raw': False, 'weight_init': 'normal', 'augment_categories': False, 'augment_nogmm': 2, 'augment_p': 0.5, 'augment_mean': 0.01, 'augment_std': 0.01, 'augment_gmm_init': 'k-means++', 'augment_prenormalize_distances': False, 'augment_noise_p': 1.0}\n"
     ]
    },
    {
     "name": "stderr",
     "output_type": "stream",
     "text": [
      "LOCAL_RANK: 0 - CUDA_VISIBLE_DEVICES: [0]\n"
     ]
    },
    {
     "name": "stdout",
     "output_type": "stream",
     "text": [
      "zf87zj40\n",
      "Distnace Augmentation: True Clusters: True Categories: False Noise std:  0.01 base model 7zi9x9w8\n",
      "Testing DataLoader 0: 100%|██████████| 559/559 [00:16<00:00, 32.94it/s]\n",
      "────────────────────────────────────────────────────────────────────────────────────────────────────────────────────────\n",
      "       Test metric             DataLoader 0\n",
      "────────────────────────────────────────────────────────────────────────────────────────────────────────────────────────\n",
      "        test_hit             70.2243423461914\n",
      "        test_loss            4.360525131225586\n",
      "        test_mrr              30.74462890625\n",
      "────────────────────────────────────────────────────────────────────────────────────────────────────────────────────────\n"
     ]
    }
   ],
   "source": [
    "res_df=[]\n",
    "for run_id in runs:\n",
    "    model,opt=load_model(run_id)\n",
    "    #dataset=get_dataset(opt)\n",
    "    #am_test_dataloader=DataLoader(dataset,    num_workers=os.cpu_count(),  \n",
    "    #                       sampler=SRGNN_sampler(dataset, opt.batchSize, shuffle=False, drop_last=False)\n",
    "    #                     )\n",
    "    print(run_id)\n",
    "    print('Distnace Augmentation:', opt.augment_matrix,\n",
    "        'Clusters:', opt.augment_clusters,\n",
    "          'Categories:', opt.augment_categories,\n",
    "          'Noise std: ', opt.augment_std,\n",
    "          'base model', opt.augment_old_run_id,\n",
    "          )\n",
    "    metrics=trainer.test(model, {#'augmented':am_test_dataloader, \n",
    "                                 'normal':normal_test_dataloader})[0 ]\n",
    "    metrics['run_id']=run_id\n",
    "    metrics['augment_nogmm']=opt.augment_nogmm\n",
    "    res_df.append(metrics)"
   ]
  },
  {
   "cell_type": "code",
   "execution_count": 18,
   "metadata": {},
   "outputs": [
    {
     "data": {
      "text/html": [
       "<div>\n",
       "<style scoped>\n",
       "    .dataframe tbody tr th:only-of-type {\n",
       "        vertical-align: middle;\n",
       "    }\n",
       "\n",
       "    .dataframe tbody tr th {\n",
       "        vertical-align: top;\n",
       "    }\n",
       "\n",
       "    .dataframe thead th {\n",
       "        text-align: right;\n",
       "    }\n",
       "</style>\n",
       "<table border=\"1\" class=\"dataframe\">\n",
       "  <thead>\n",
       "    <tr style=\"text-align: right;\">\n",
       "      <th></th>\n",
       "      <th>test_loss</th>\n",
       "      <th>test_hit</th>\n",
       "      <th>test_mrr</th>\n",
       "    </tr>\n",
       "    <tr>\n",
       "      <th>augment_nogmm</th>\n",
       "      <th></th>\n",
       "      <th></th>\n",
       "      <th></th>\n",
       "    </tr>\n",
       "  </thead>\n",
       "  <tbody>\n",
       "    <tr>\n",
       "      <th>2</th>\n",
       "      <td>4.366473</td>\n",
       "      <td>70.077690</td>\n",
       "      <td>30.675551</td>\n",
       "    </tr>\n",
       "    <tr>\n",
       "      <th>8</th>\n",
       "      <td>4.377462</td>\n",
       "      <td>70.077744</td>\n",
       "      <td>30.764617</td>\n",
       "    </tr>\n",
       "    <tr>\n",
       "      <th>32</th>\n",
       "      <td>4.375669</td>\n",
       "      <td>70.053593</td>\n",
       "      <td>30.743398</td>\n",
       "    </tr>\n",
       "    <tr>\n",
       "      <th>128</th>\n",
       "      <td>4.371604</td>\n",
       "      <td>70.033863</td>\n",
       "      <td>30.772902</td>\n",
       "    </tr>\n",
       "  </tbody>\n",
       "</table>\n",
       "</div>"
      ],
      "text/plain": [
       "               test_loss   test_hit   test_mrr\n",
       "augment_nogmm                                 \n",
       "2               4.366473  70.077690  30.675551\n",
       "8               4.377462  70.077744  30.764617\n",
       "32              4.375669  70.053593  30.743398\n",
       "128             4.371604  70.033863  30.772902"
      ]
     },
     "execution_count": 18,
     "metadata": {},
     "output_type": "execute_result"
    }
   ],
   "source": [
    "res_df=pd.DataFrame(res_df)\n",
    "res_df.drop(columns='run_id').groupby('augment_nogmm').mean()"
   ]
  },
  {
   "cell_type": "code",
   "execution_count": 19,
   "metadata": {},
   "outputs": [
    {
     "name": "stdout",
     "output_type": "stream",
     "text": [
      "{'dataset': 'yoochoose1_64', 'batchSize': 100, 'hiddenSize': 100, 'epoch': 30, 'lr': 0.001, 'lr_dc': 0.1, 'lr_dc_step': 2, 'l2': 1e-06, 'step': 2, 'patience': 4, 'nonhybrid': False, 'validation': True, 'valid_portion': 0.1, 'pretrained_embedings': False, 'unfreeze_epoch': 0, 'gmm': [], 'augment_matrix': True, 'augment_clusters': True, 'augment_old_run_id': '7zi9x9w8', 'augment_clip': 0, 'augment_normalize': True, 'augment_raw': False, 'weight_init': 'normal', 'augment_categories': False, 'augment_nogmm': 128, 'augment_p': 0.5, 'augment_mean': 0.01, 'augment_std': 0.01, 'augment_gmm_init': 'k-means++', 'augment_prenormalize_distances': False, 'augment_noise_p': 1.0}\n",
      "qgkxyze7\n",
      "Distnace Augmentation: True Clusters: True Categories: False Noise std:  0.01 base model 7zi9x9w8\n"
     ]
    },
    {
     "name": "stderr",
     "output_type": "stream",
     "text": [
      "100%|██████████| 559/559 [00:18<00:00, 30.40it/s]\n"
     ]
    },
    {
     "name": "stdout",
     "output_type": "stream",
     "text": [
      "{'dataset': 'yoochoose1_64', 'batchSize': 100, 'hiddenSize': 100, 'epoch': 30, 'lr': 0.001, 'lr_dc': 0.1, 'lr_dc_step': 2, 'l2': 1e-06, 'step': 2, 'patience': 4, 'nonhybrid': False, 'validation': True, 'valid_portion': 0.1, 'pretrained_embedings': False, 'unfreeze_epoch': 0, 'gmm': [], 'augment_matrix': True, 'augment_clusters': True, 'augment_old_run_id': '7zi9x9w8', 'augment_clip': 0, 'augment_normalize': True, 'augment_raw': False, 'weight_init': 'normal', 'augment_categories': False, 'augment_nogmm': 128, 'augment_p': 0.5, 'augment_mean': 0.01, 'augment_std': 0.01, 'augment_gmm_init': 'k-means++', 'augment_prenormalize_distances': False, 'augment_noise_p': 1.0}\n",
      "r1xr7g4v\n",
      "Distnace Augmentation: True Clusters: True Categories: False Noise std:  0.01 base model 7zi9x9w8\n"
     ]
    },
    {
     "name": "stderr",
     "output_type": "stream",
     "text": [
      "100%|██████████| 559/559 [00:17<00:00, 31.16it/s]\n"
     ]
    },
    {
     "name": "stdout",
     "output_type": "stream",
     "text": [
      "{'dataset': 'yoochoose1_64', 'batchSize': 100, 'hiddenSize': 100, 'epoch': 30, 'lr': 0.001, 'lr_dc': 0.1, 'lr_dc_step': 2, 'l2': 1e-06, 'step': 2, 'patience': 4, 'nonhybrid': False, 'validation': True, 'valid_portion': 0.1, 'pretrained_embedings': False, 'unfreeze_epoch': 0, 'gmm': [], 'augment_matrix': True, 'augment_clusters': True, 'augment_old_run_id': '7zi9x9w8', 'augment_clip': 0, 'augment_normalize': True, 'augment_raw': False, 'weight_init': 'normal', 'augment_categories': False, 'augment_nogmm': 32, 'augment_p': 0.5, 'augment_mean': 0.01, 'augment_std': 0.01, 'augment_gmm_init': 'k-means++', 'augment_prenormalize_distances': False, 'augment_noise_p': 1.0}\n",
      "itxri54t\n",
      "Distnace Augmentation: True Clusters: True Categories: False Noise std:  0.01 base model 7zi9x9w8\n"
     ]
    },
    {
     "name": "stderr",
     "output_type": "stream",
     "text": [
      "100%|██████████| 559/559 [00:18<00:00, 30.53it/s]\n"
     ]
    },
    {
     "name": "stdout",
     "output_type": "stream",
     "text": [
      "{'dataset': 'yoochoose1_64', 'batchSize': 100, 'hiddenSize': 100, 'epoch': 30, 'lr': 0.001, 'lr_dc': 0.1, 'lr_dc_step': 2, 'l2': 1e-06, 'step': 2, 'patience': 4, 'nonhybrid': False, 'validation': True, 'valid_portion': 0.1, 'pretrained_embedings': False, 'unfreeze_epoch': 0, 'gmm': [], 'augment_matrix': True, 'augment_clusters': True, 'augment_old_run_id': '7zi9x9w8', 'augment_clip': 0, 'augment_normalize': True, 'augment_raw': False, 'weight_init': 'normal', 'augment_categories': False, 'augment_nogmm': 32, 'augment_p': 0.5, 'augment_mean': 0.01, 'augment_std': 0.01, 'augment_gmm_init': 'k-means++', 'augment_prenormalize_distances': False, 'augment_noise_p': 1.0}\n",
      "7vvqd0ib\n",
      "Distnace Augmentation: True Clusters: True Categories: False Noise std:  0.01 base model 7zi9x9w8\n"
     ]
    },
    {
     "name": "stderr",
     "output_type": "stream",
     "text": [
      "100%|██████████| 559/559 [00:18<00:00, 30.88it/s]\n"
     ]
    },
    {
     "name": "stdout",
     "output_type": "stream",
     "text": [
      "{'dataset': 'yoochoose1_64', 'batchSize': 100, 'hiddenSize': 100, 'epoch': 30, 'lr': 0.001, 'lr_dc': 0.1, 'lr_dc_step': 2, 'l2': 1e-06, 'step': 2, 'patience': 4, 'nonhybrid': False, 'validation': True, 'valid_portion': 0.1, 'pretrained_embedings': False, 'unfreeze_epoch': 0, 'gmm': [], 'augment_matrix': True, 'augment_clusters': True, 'augment_old_run_id': '7zi9x9w8', 'augment_clip': 0, 'augment_normalize': True, 'augment_raw': False, 'weight_init': 'normal', 'augment_categories': False, 'augment_nogmm': 8, 'augment_p': 0.5, 'augment_mean': 0.01, 'augment_std': 0.01, 'augment_gmm_init': 'k-means++', 'augment_prenormalize_distances': False, 'augment_noise_p': 1.0}\n",
      "jefoas5f\n",
      "Distnace Augmentation: True Clusters: True Categories: False Noise std:  0.01 base model 7zi9x9w8\n"
     ]
    },
    {
     "name": "stderr",
     "output_type": "stream",
     "text": [
      "100%|██████████| 559/559 [00:17<00:00, 31.57it/s]\n"
     ]
    },
    {
     "name": "stdout",
     "output_type": "stream",
     "text": [
      "{'dataset': 'yoochoose1_64', 'batchSize': 100, 'hiddenSize': 100, 'epoch': 30, 'lr': 0.001, 'lr_dc': 0.1, 'lr_dc_step': 2, 'l2': 1e-06, 'step': 2, 'patience': 4, 'nonhybrid': False, 'validation': True, 'valid_portion': 0.1, 'pretrained_embedings': False, 'unfreeze_epoch': 0, 'gmm': [], 'augment_matrix': True, 'augment_clusters': True, 'augment_old_run_id': '7zi9x9w8', 'augment_clip': 0, 'augment_normalize': True, 'augment_raw': False, 'weight_init': 'normal', 'augment_categories': False, 'augment_nogmm': 8, 'augment_p': 0.5, 'augment_mean': 0.01, 'augment_std': 0.01, 'augment_gmm_init': 'k-means++', 'augment_prenormalize_distances': False, 'augment_noise_p': 1.0}\n",
      "ai6ytfw2\n",
      "Distnace Augmentation: True Clusters: True Categories: False Noise std:  0.01 base model 7zi9x9w8\n"
     ]
    },
    {
     "name": "stderr",
     "output_type": "stream",
     "text": [
      "100%|██████████| 559/559 [00:17<00:00, 31.24it/s]\n"
     ]
    },
    {
     "name": "stdout",
     "output_type": "stream",
     "text": [
      "{'dataset': 'yoochoose1_64', 'batchSize': 100, 'hiddenSize': 100, 'epoch': 30, 'lr': 0.001, 'lr_dc': 0.1, 'lr_dc_step': 2, 'l2': 1e-06, 'step': 2, 'patience': 4, 'nonhybrid': False, 'validation': True, 'valid_portion': 0.1, 'pretrained_embedings': False, 'unfreeze_epoch': 0, 'gmm': [], 'augment_matrix': True, 'augment_clusters': True, 'augment_old_run_id': '7zi9x9w8', 'augment_clip': 0, 'augment_normalize': True, 'augment_raw': False, 'weight_init': 'normal', 'augment_categories': False, 'augment_nogmm': 2, 'augment_p': 0.5, 'augment_mean': 0.01, 'augment_std': 0.01, 'augment_gmm_init': 'k-means++', 'augment_prenormalize_distances': False, 'augment_noise_p': 1.0}\n",
      "xm3z645m\n",
      "Distnace Augmentation: True Clusters: True Categories: False Noise std:  0.01 base model 7zi9x9w8\n"
     ]
    },
    {
     "name": "stderr",
     "output_type": "stream",
     "text": [
      "100%|██████████| 559/559 [00:17<00:00, 31.23it/s]\n"
     ]
    },
    {
     "name": "stdout",
     "output_type": "stream",
     "text": [
      "{'dataset': 'yoochoose1_64', 'batchSize': 100, 'hiddenSize': 100, 'epoch': 30, 'lr': 0.001, 'lr_dc': 0.1, 'lr_dc_step': 2, 'l2': 1e-06, 'step': 2, 'patience': 4, 'nonhybrid': False, 'validation': True, 'valid_portion': 0.1, 'pretrained_embedings': False, 'unfreeze_epoch': 0, 'gmm': [], 'augment_matrix': True, 'augment_clusters': True, 'augment_old_run_id': '7zi9x9w8', 'augment_clip': 0, 'augment_normalize': True, 'augment_raw': False, 'weight_init': 'normal', 'augment_categories': False, 'augment_nogmm': 2, 'augment_p': 0.5, 'augment_mean': 0.01, 'augment_std': 0.01, 'augment_gmm_init': 'k-means++', 'augment_prenormalize_distances': False, 'augment_noise_p': 1.0}\n",
      "zf87zj40\n",
      "Distnace Augmentation: True Clusters: True Categories: False Noise std:  0.01 base model 7zi9x9w8\n"
     ]
    },
    {
     "name": "stderr",
     "output_type": "stream",
     "text": [
      "100%|██████████| 559/559 [00:17<00:00, 31.30it/s]\n"
     ]
    }
   ],
   "source": [
    "results={}\n",
    "for run_id in runs:\n",
    "    model,opt=load_model(run_id)\n",
    "    #dataset=get_dataset(opt)\n",
    "   # am_test_dataloader=DataLoader(dataset,    num_workers=os.cpu_count(),  \n",
    "     #                       sampler=SRGNN_sampler(dataset, opt.batchSize, shuffle=False, drop_last=False)\n",
    "      #                   )\n",
    "    print(run_id)\n",
    "    print('Distnace Augmentation:', opt.augment_matrix,\n",
    "        'Clusters:', opt.augment_clusters,\n",
    "          'Categories:', opt.augment_categories,\n",
    "          'Noise std: ', opt.augment_std,\n",
    "          'base model', opt.augment_old_run_id,\n",
    "          )\n",
    "    results[run_id]=get_metrics_by_hand(model, [normal_test_dataloader])"
   ]
  },
  {
   "cell_type": "code",
   "execution_count": 28,
   "metadata": {},
   "outputs": [],
   "source": [
    "manual_res_df=pd.DataFrame(results).T.reset_index()\n",
    "manual_res_df[['DataLoader_id','hit','mrr']]=pd.DataFrame(manual_res_df[0].to_list(), columns=['DataLoader_id','hit','mrr'])\n",
    "manual_res_df.rename(columns={'index':'run_id'}, inplace=True)\n",
    "manual_res_df.drop(columns=0, inplace=True)"
   ]
  },
  {
   "cell_type": "code",
   "execution_count": 27,
   "metadata": {},
   "outputs": [
    {
     "data": {
      "text/html": [
       "<div>\n",
       "<style scoped>\n",
       "    .dataframe tbody tr th:only-of-type {\n",
       "        vertical-align: middle;\n",
       "    }\n",
       "\n",
       "    .dataframe tbody tr th {\n",
       "        vertical-align: top;\n",
       "    }\n",
       "\n",
       "    .dataframe thead th {\n",
       "        text-align: right;\n",
       "    }\n",
       "</style>\n",
       "<table border=\"1\" class=\"dataframe\">\n",
       "  <thead>\n",
       "    <tr style=\"text-align: right;\">\n",
       "      <th></th>\n",
       "      <th>test_loss</th>\n",
       "      <th>test_hit</th>\n",
       "      <th>test_mrr</th>\n",
       "      <th>run_id</th>\n",
       "      <th>augment_nogmm</th>\n",
       "      <th>DataLoader_id</th>\n",
       "      <th>hit</th>\n",
       "      <th>mrr</th>\n",
       "    </tr>\n",
       "  </thead>\n",
       "  <tbody>\n",
       "    <tr>\n",
       "      <th>0</th>\n",
       "      <td>4.364502</td>\n",
       "      <td>69.918480</td>\n",
       "      <td>30.679390</td>\n",
       "      <td>qgkxyze7</td>\n",
       "      <td>128</td>\n",
       "      <td>0</td>\n",
       "      <td>0.699184</td>\n",
       "      <td>0.306791</td>\n",
       "    </tr>\n",
       "    <tr>\n",
       "      <th>1</th>\n",
       "      <td>4.378706</td>\n",
       "      <td>70.149246</td>\n",
       "      <td>30.866415</td>\n",
       "      <td>r1xr7g4v</td>\n",
       "      <td>128</td>\n",
       "      <td>0</td>\n",
       "      <td>0.701492</td>\n",
       "      <td>0.308662</td>\n",
       "    </tr>\n",
       "    <tr>\n",
       "      <th>2</th>\n",
       "      <td>4.376307</td>\n",
       "      <td>70.070602</td>\n",
       "      <td>30.739613</td>\n",
       "      <td>itxri54t</td>\n",
       "      <td>32</td>\n",
       "      <td>0</td>\n",
       "      <td>0.700705</td>\n",
       "      <td>0.307394</td>\n",
       "    </tr>\n",
       "    <tr>\n",
       "      <th>3</th>\n",
       "      <td>4.375030</td>\n",
       "      <td>70.036583</td>\n",
       "      <td>30.747183</td>\n",
       "      <td>7vvqd0ib</td>\n",
       "      <td>32</td>\n",
       "      <td>0</td>\n",
       "      <td>0.700365</td>\n",
       "      <td>0.307469</td>\n",
       "    </tr>\n",
       "    <tr>\n",
       "      <th>4</th>\n",
       "      <td>4.374988</td>\n",
       "      <td>70.043739</td>\n",
       "      <td>30.704414</td>\n",
       "      <td>jefoas5f</td>\n",
       "      <td>8</td>\n",
       "      <td>0</td>\n",
       "      <td>0.700437</td>\n",
       "      <td>0.307042</td>\n",
       "    </tr>\n",
       "    <tr>\n",
       "      <th>5</th>\n",
       "      <td>4.379937</td>\n",
       "      <td>70.111748</td>\n",
       "      <td>30.824820</td>\n",
       "      <td>ai6ytfw2</td>\n",
       "      <td>8</td>\n",
       "      <td>0</td>\n",
       "      <td>0.701116</td>\n",
       "      <td>0.308246</td>\n",
       "    </tr>\n",
       "    <tr>\n",
       "      <th>6</th>\n",
       "      <td>4.372421</td>\n",
       "      <td>69.931038</td>\n",
       "      <td>30.606474</td>\n",
       "      <td>xm3z645m</td>\n",
       "      <td>2</td>\n",
       "      <td>0</td>\n",
       "      <td>0.699309</td>\n",
       "      <td>0.306063</td>\n",
       "    </tr>\n",
       "    <tr>\n",
       "      <th>7</th>\n",
       "      <td>4.360525</td>\n",
       "      <td>70.224342</td>\n",
       "      <td>30.744629</td>\n",
       "      <td>zf87zj40</td>\n",
       "      <td>2</td>\n",
       "      <td>0</td>\n",
       "      <td>0.702243</td>\n",
       "      <td>0.307444</td>\n",
       "    </tr>\n",
       "  </tbody>\n",
       "</table>\n",
       "</div>"
      ],
      "text/plain": [
       "   test_loss   test_hit   test_mrr    run_id  augment_nogmm  DataLoader_id  \\\n",
       "0   4.364502  69.918480  30.679390  qgkxyze7            128              0   \n",
       "1   4.378706  70.149246  30.866415  r1xr7g4v            128              0   \n",
       "2   4.376307  70.070602  30.739613  itxri54t             32              0   \n",
       "3   4.375030  70.036583  30.747183  7vvqd0ib             32              0   \n",
       "4   4.374988  70.043739  30.704414  jefoas5f              8              0   \n",
       "5   4.379937  70.111748  30.824820  ai6ytfw2              8              0   \n",
       "6   4.372421  69.931038  30.606474  xm3z645m              2              0   \n",
       "7   4.360525  70.224342  30.744629  zf87zj40              2              0   \n",
       "\n",
       "        hit       mrr  \n",
       "0  0.699184  0.306791  \n",
       "1  0.701492  0.308662  \n",
       "2  0.700705  0.307394  \n",
       "3  0.700365  0.307469  \n",
       "4  0.700437  0.307042  \n",
       "5  0.701116  0.308246  \n",
       "6  0.699309  0.306063  \n",
       "7  0.702243  0.307444  "
      ]
     },
     "execution_count": 27,
     "metadata": {},
     "output_type": "execute_result"
    }
   ],
   "source": [
    "fullres_df"
   ]
  },
  {
   "cell_type": "code",
   "execution_count": 26,
   "metadata": {},
   "outputs": [
    {
     "data": {
      "text/html": [
       "<div>\n",
       "<style scoped>\n",
       "    .dataframe tbody tr th:only-of-type {\n",
       "        vertical-align: middle;\n",
       "    }\n",
       "\n",
       "    .dataframe tbody tr th {\n",
       "        vertical-align: top;\n",
       "    }\n",
       "\n",
       "    .dataframe thead th {\n",
       "        text-align: right;\n",
       "    }\n",
       "</style>\n",
       "<table border=\"1\" class=\"dataframe\">\n",
       "  <thead>\n",
       "    <tr style=\"text-align: right;\">\n",
       "      <th></th>\n",
       "      <th>test_loss</th>\n",
       "      <th>test_hit</th>\n",
       "      <th>test_mrr</th>\n",
       "      <th>DataLoader_id</th>\n",
       "      <th>hit</th>\n",
       "      <th>mrr</th>\n",
       "    </tr>\n",
       "    <tr>\n",
       "      <th>augment_nogmm</th>\n",
       "      <th></th>\n",
       "      <th></th>\n",
       "      <th></th>\n",
       "      <th></th>\n",
       "      <th></th>\n",
       "      <th></th>\n",
       "    </tr>\n",
       "  </thead>\n",
       "  <tbody>\n",
       "    <tr>\n",
       "      <th>2</th>\n",
       "      <td>4.366473</td>\n",
       "      <td>70.077690</td>\n",
       "      <td>30.675551</td>\n",
       "      <td>0.0</td>\n",
       "      <td>0.700776</td>\n",
       "      <td>0.306754</td>\n",
       "    </tr>\n",
       "    <tr>\n",
       "      <th>8</th>\n",
       "      <td>4.377462</td>\n",
       "      <td>70.077744</td>\n",
       "      <td>30.764617</td>\n",
       "      <td>0.0</td>\n",
       "      <td>0.700776</td>\n",
       "      <td>0.307644</td>\n",
       "    </tr>\n",
       "    <tr>\n",
       "      <th>32</th>\n",
       "      <td>4.375669</td>\n",
       "      <td>70.053593</td>\n",
       "      <td>30.743398</td>\n",
       "      <td>0.0</td>\n",
       "      <td>0.700535</td>\n",
       "      <td>0.307431</td>\n",
       "    </tr>\n",
       "    <tr>\n",
       "      <th>128</th>\n",
       "      <td>4.371604</td>\n",
       "      <td>70.033863</td>\n",
       "      <td>30.772902</td>\n",
       "      <td>0.0</td>\n",
       "      <td>0.700338</td>\n",
       "      <td>0.307727</td>\n",
       "    </tr>\n",
       "  </tbody>\n",
       "</table>\n",
       "</div>"
      ],
      "text/plain": [
       "               test_loss   test_hit   test_mrr  DataLoader_id       hit  \\\n",
       "augment_nogmm                                                             \n",
       "2               4.366473  70.077690  30.675551            0.0  0.700776   \n",
       "8               4.377462  70.077744  30.764617            0.0  0.700776   \n",
       "32              4.375669  70.053593  30.743398            0.0  0.700535   \n",
       "128             4.371604  70.033863  30.772902            0.0  0.700338   \n",
       "\n",
       "                    mrr  \n",
       "augment_nogmm            \n",
       "2              0.306754  \n",
       "8              0.307644  \n",
       "32             0.307431  \n",
       "128            0.307727  "
      ]
     },
     "execution_count": 26,
     "metadata": {},
     "output_type": "execute_result"
    }
   ],
   "source": [
    "res_df=res_df.merge(manual_res_df,  on='run_id')\n",
    "res_df.drop(columns='run_id').groupby('augment_nogmm').mean()"
   ]
  },
  {
   "cell_type": "markdown",
   "metadata": {},
   "source": [
    "## final comparison "
   ]
  },
  {
   "cell_type": "code",
   "execution_count": 15,
   "metadata": {},
   "outputs": [],
   "source": [
    "runs=\"\"\"jcohtdpz\n",
    "c7lixdzn\n",
    "9r9e7dsx\n",
    "lx4jtu4g\n",
    "au07imlq\n",
    "u337t04h\n",
    "k7eoaxze\n",
    "ln32zyo6\n",
    "ud3mdfu3\n",
    "zw2j8lcv\n",
    "k598voxs\n",
    "r5p9ms90\n",
    "qhcln02h\n",
    "1ttxe7ox\n",
    "cqw7xz4i\n",
    "gd66gitx\n",
    "alh21te8\n",
    "da4ptrb0\n",
    "khflo2wo\n",
    "uyyjj6l8\n",
    "554tdh98\n",
    "eoart48b\n",
    "had1602b\n",
    "0d2jc7tz\n",
    "8r761av3\n",
    "svgb60go\n",
    "4627kuot\n",
    "ye95z6m4\"\"\".split('\\n')\n"
   ]
  },
  {
   "cell_type": "code",
   "execution_count": 27,
   "metadata": {},
   "outputs": [],
   "source": [
    "runs=['ahsuiwog', 'e8j91dlm', 'sn0yz16r', 'zhy3fnyf', 'c31yywda']"
   ]
  },
  {
   "cell_type": "code",
   "execution_count": 28,
   "metadata": {},
   "outputs": [
    {
     "name": "stderr",
     "output_type": "stream",
     "text": [
      "LOCAL_RANK: 0 - CUDA_VISIBLE_DEVICES: [0]\n"
     ]
    },
    {
     "name": "stdout",
     "output_type": "stream",
     "text": [
      "{'dataset': 'yoochoose1_64', 'batchSize': 100, 'hiddenSize': 100, 'epoch': 30, 'lr': 0.001, 'lr_dc': 0.1, 'lr_dc_step': 2, 'lr_scheduler': 'step', 'lr_milestones': ([2, 5, 8],), 'l2': 1e-05, 'step': 2, 'patience': 5, 'nonhybrid': False, 'validation': True, 'valid_portion': 0.1, 'pretrained_embedings': False, 'unfreeze_epoch': 0, 'gmm': [], 'augment_matrix': False, 'augment_clusters': False, 'augment_old_run_id': '', 'augment_clip': 0, 'augment_normalize': False, 'augment_raw': False, 'weight_init': 'normal', 'augment_categories': False, 'augment_nogmm': 16, 'augment_p': 1.0, 'augment_mean': 0.01, 'augment_std': 0.01, 'augment_gmm_init': 'k-means++', 'augment_prenormalize_distances': False, 'augment_noise_p': 0.5, 'augment_alg': 'gmm', 'gmm_covariance_type': 'full', 'gmm_tol': 0.001}\n",
      "ahsuiwog\n",
      "Testing DataLoader 0: 100%|██████████| 559/559 [00:17<00:00, 32.47it/s]\n",
      "────────────────────────────────────────────────────────────────────────────────────────────────────────────────────────\n",
      "       Test metric             DataLoader 0\n",
      "────────────────────────────────────────────────────────────────────────────────────────────────────────────────────────\n",
      "        test_hit             69.98287963867188\n",
      "        test_loss            4.360042095184326\n",
      "        test_mrr            30.569910049438477\n",
      "────────────────────────────────────────────────────────────────────────────────────────────────────────────────────────\n",
      "{'dataset': 'yoochoose1_64', 'batchSize': 100, 'hiddenSize': 100, 'epoch': 30, 'lr': 0.001, 'lr_dc': 0.1, 'lr_dc_step': 2, 'lr_scheduler': 'step', 'lr_milestones': ([2, 5, 8],), 'l2': 1e-05, 'step': 2, 'patience': 5, 'nonhybrid': False, 'validation': True, 'valid_portion': 0.1, 'pretrained_embedings': False, 'unfreeze_epoch': 0, 'gmm': [], 'augment_matrix': False, 'augment_clusters': False, 'augment_old_run_id': '', 'augment_clip': 0, 'augment_normalize': False, 'augment_raw': False, 'weight_init': 'normal', 'augment_categories': False, 'augment_nogmm': 16, 'augment_p': 1.0, 'augment_mean': 0.01, 'augment_std': 0.01, 'augment_gmm_init': 'k-means++', 'augment_prenormalize_distances': False, 'augment_noise_p': 0.5, 'augment_alg': 'gmm', 'gmm_covariance_type': 'full', 'gmm_tol': 0.001}\n"
     ]
    },
    {
     "name": "stderr",
     "output_type": "stream",
     "text": [
      "LOCAL_RANK: 0 - CUDA_VISIBLE_DEVICES: [0]\n"
     ]
    },
    {
     "name": "stdout",
     "output_type": "stream",
     "text": [
      "e8j91dlm\n",
      "Testing DataLoader 0: 100%|██████████| 559/559 [00:16<00:00, 32.94it/s]\n",
      "────────────────────────────────────────────────────────────────────────────────────────────────────────────────────────\n",
      "       Test metric             DataLoader 0\n",
      "────────────────────────────────────────────────────────────────────────────────────────────────────────────────────────\n",
      "        test_hit             70.12599182128906\n",
      "        test_loss            4.360414505004883\n",
      "        test_mrr            30.701974868774414\n",
      "────────────────────────────────────────────────────────────────────────────────────────────────────────────────────────\n",
      "{'dataset': 'yoochoose1_64', 'batchSize': 100, 'hiddenSize': 100, 'epoch': 30, 'lr': 0.001, 'lr_dc': 0.1, 'lr_dc_step': 2, 'lr_scheduler': 'step', 'lr_milestones': ([2, 5, 8],), 'l2': 1e-05, 'step': 2, 'patience': 5, 'nonhybrid': False, 'validation': True, 'valid_portion': 0.1, 'pretrained_embedings': False, 'unfreeze_epoch': 0, 'gmm': [], 'augment_matrix': False, 'augment_clusters': False, 'augment_old_run_id': '', 'augment_clip': 0, 'augment_normalize': False, 'augment_raw': False, 'weight_init': 'normal', 'augment_categories': False, 'augment_nogmm': 16, 'augment_p': 1.0, 'augment_mean': 0.01, 'augment_std': 0.01, 'augment_gmm_init': 'k-means++', 'augment_prenormalize_distances': False, 'augment_noise_p': 0.5, 'augment_alg': 'gmm', 'gmm_covariance_type': 'full', 'gmm_tol': 0.001}\n"
     ]
    },
    {
     "name": "stderr",
     "output_type": "stream",
     "text": [
      "LOCAL_RANK: 0 - CUDA_VISIBLE_DEVICES: [0]\n"
     ]
    },
    {
     "name": "stdout",
     "output_type": "stream",
     "text": [
      "sn0yz16r\n",
      "Testing DataLoader 0: 100%|██████████| 559/559 [00:18<00:00, 30.92it/s]\n",
      "────────────────────────────────────────────────────────────────────────────────────────────────────────────────────────\n",
      "       Test metric             DataLoader 0\n",
      "────────────────────────────────────────────────────────────────────────────────────────────────────────────────────────\n",
      "        test_hit             69.80223083496094\n",
      "        test_loss            4.375327110290527\n",
      "        test_mrr            30.693470001220703\n",
      "────────────────────────────────────────────────────────────────────────────────────────────────────────────────────────\n",
      "{'dataset': 'yoochoose1_64', 'batchSize': 100, 'hiddenSize': 100, 'epoch': 30, 'lr': 0.001, 'lr_dc': 0.1, 'lr_dc_step': 2, 'lr_scheduler': 'step', 'lr_milestones': ([2, 5, 8],), 'l2': 1e-05, 'step': 2, 'patience': 5, 'nonhybrid': False, 'validation': True, 'valid_portion': 0.1, 'pretrained_embedings': False, 'unfreeze_epoch': 0, 'gmm': [], 'augment_matrix': False, 'augment_clusters': False, 'augment_old_run_id': '', 'augment_clip': 0, 'augment_normalize': False, 'augment_raw': False, 'weight_init': 'normal', 'augment_categories': False, 'augment_nogmm': 16, 'augment_p': 1.0, 'augment_mean': 0.01, 'augment_std': 0.01, 'augment_gmm_init': 'k-means++', 'augment_prenormalize_distances': False, 'augment_noise_p': 0.5, 'augment_alg': 'gmm', 'gmm_covariance_type': 'full', 'gmm_tol': 0.001}\n"
     ]
    },
    {
     "name": "stderr",
     "output_type": "stream",
     "text": [
      "LOCAL_RANK: 0 - CUDA_VISIBLE_DEVICES: [0]\n"
     ]
    },
    {
     "name": "stdout",
     "output_type": "stream",
     "text": [
      "zhy3fnyf\n",
      "Testing DataLoader 0: 100%|██████████| 559/559 [00:18<00:00, 29.83it/s]\n",
      "────────────────────────────────────────────────────────────────────────────────────────────────────────────────────────\n",
      "       Test metric             DataLoader 0\n",
      "────────────────────────────────────────────────────────────────────────────────────────────────────────────────────────\n",
      "        test_hit             69.92022705078125\n",
      "        test_loss            4.361334800720215\n",
      "        test_mrr            30.723155975341797\n",
      "────────────────────────────────────────────────────────────────────────────────────────────────────────────────────────\n",
      "{'dataset': 'yoochoose1_64', 'batchSize': 100, 'hiddenSize': 100, 'epoch': 30, 'lr': 0.001, 'lr_dc': 0.1, 'lr_dc_step': 2, 'lr_scheduler': 'step', 'lr_milestones': ([2, 5, 8],), 'l2': 1e-05, 'step': 2, 'patience': 5, 'nonhybrid': False, 'validation': True, 'valid_portion': 0.1, 'pretrained_embedings': False, 'unfreeze_epoch': 0, 'gmm': [], 'augment_matrix': False, 'augment_clusters': False, 'augment_old_run_id': '', 'augment_clip': 0, 'augment_normalize': False, 'augment_raw': False, 'weight_init': 'normal', 'augment_categories': False, 'augment_nogmm': 16, 'augment_p': 1.0, 'augment_mean': 0.01, 'augment_std': 0.01, 'augment_gmm_init': 'k-means++', 'augment_prenormalize_distances': False, 'augment_noise_p': 0.5, 'augment_alg': 'gmm', 'gmm_covariance_type': 'full', 'gmm_tol': 0.001}\n"
     ]
    },
    {
     "name": "stderr",
     "output_type": "stream",
     "text": [
      "LOCAL_RANK: 0 - CUDA_VISIBLE_DEVICES: [0]\n"
     ]
    },
    {
     "name": "stdout",
     "output_type": "stream",
     "text": [
      "c31yywda\n",
      "Testing DataLoader 0: 100%|██████████| 559/559 [00:18<00:00, 30.02it/s]\n",
      "────────────────────────────────────────────────────────────────────────────────────────────────────────────────────────\n",
      "       Test metric             DataLoader 0\n",
      "────────────────────────────────────────────────────────────────────────────────────────────────────────────────────────\n",
      "        test_hit             70.02037048339844\n",
      "        test_loss            4.36799430847168\n",
      "        test_mrr             30.69025993347168\n",
      "────────────────────────────────────────────────────────────────────────────────────────────────────────────────────────\n"
     ]
    }
   ],
   "source": [
    "res_df=[]\n",
    "for run_id in runs:\n",
    "    try:\n",
    "      model,opt=load_model(run_id)\n",
    "    except IndexError:\n",
    "       continue\n",
    "\n",
    "    print(run_id)\n",
    "    metrics=trainer.test(model, {#'augmented':am_test_dataloader, \n",
    "                                 'normal':normal_test_dataloader})[0 ]\n",
    "    metrics['run_id']=run_id\n",
    "    for k,v in opt.__dict__.items():\n",
    "       metrics[k]=v\n",
    "    res_df.append(metrics)"
   ]
  },
  {
   "cell_type": "code",
   "execution_count": 29,
   "metadata": {},
   "outputs": [],
   "source": [
    "result_df=pd.DataFrame(res_df)"
   ]
  },
  {
   "cell_type": "code",
   "execution_count": 30,
   "metadata": {},
   "outputs": [
    {
     "data": {
      "text/html": [
       "<div>\n",
       "<style scoped>\n",
       "    .dataframe tbody tr th:only-of-type {\n",
       "        vertical-align: middle;\n",
       "    }\n",
       "\n",
       "    .dataframe tbody tr th {\n",
       "        vertical-align: top;\n",
       "    }\n",
       "\n",
       "    .dataframe thead th {\n",
       "        text-align: right;\n",
       "    }\n",
       "</style>\n",
       "<table border=\"1\" class=\"dataframe\">\n",
       "  <thead>\n",
       "    <tr style=\"text-align: right;\">\n",
       "      <th></th>\n",
       "      <th></th>\n",
       "      <th>test_loss</th>\n",
       "      <th>test_hit</th>\n",
       "      <th>test_mrr</th>\n",
       "    </tr>\n",
       "    <tr>\n",
       "      <th>augment_matrix</th>\n",
       "      <th>augment_alg</th>\n",
       "      <th></th>\n",
       "      <th></th>\n",
       "      <th></th>\n",
       "    </tr>\n",
       "  </thead>\n",
       "  <tbody>\n",
       "    <tr>\n",
       "      <th>False</th>\n",
       "      <th>gmm</th>\n",
       "      <td>4.365023</td>\n",
       "      <td>69.97034</td>\n",
       "      <td>30.675754</td>\n",
       "    </tr>\n",
       "  </tbody>\n",
       "</table>\n",
       "</div>"
      ],
      "text/plain": [
       "                            test_loss  test_hit   test_mrr\n",
       "augment_matrix augment_alg                                \n",
       "False          gmm           4.365023  69.97034  30.675754"
      ]
     },
     "execution_count": 30,
     "metadata": {},
     "output_type": "execute_result"
    }
   ],
   "source": [
    "# noise only\n",
    "result_df[['test_loss', 'test_hit', 'test_mrr', 'augment_matrix','augment_alg']].groupby(['augment_matrix','augment_alg']).mean()"
   ]
  },
  {
   "cell_type": "code",
   "execution_count": 19,
   "metadata": {},
   "outputs": [
    {
     "data": {
      "text/html": [
       "<div>\n",
       "<style scoped>\n",
       "    .dataframe tbody tr th:only-of-type {\n",
       "        vertical-align: middle;\n",
       "    }\n",
       "\n",
       "    .dataframe tbody tr th {\n",
       "        vertical-align: top;\n",
       "    }\n",
       "\n",
       "    .dataframe thead th {\n",
       "        text-align: right;\n",
       "    }\n",
       "</style>\n",
       "<table border=\"1\" class=\"dataframe\">\n",
       "  <thead>\n",
       "    <tr style=\"text-align: right;\">\n",
       "      <th></th>\n",
       "      <th></th>\n",
       "      <th>test_loss</th>\n",
       "      <th>test_hit</th>\n",
       "      <th>test_mrr</th>\n",
       "    </tr>\n",
       "    <tr>\n",
       "      <th>augment_matrix</th>\n",
       "      <th>augment_alg</th>\n",
       "      <th></th>\n",
       "      <th></th>\n",
       "      <th></th>\n",
       "    </tr>\n",
       "  </thead>\n",
       "  <tbody>\n",
       "    <tr>\n",
       "      <th>False</th>\n",
       "      <th>gmm</th>\n",
       "      <td>4.363266</td>\n",
       "      <td>69.939949</td>\n",
       "      <td>30.681960</td>\n",
       "    </tr>\n",
       "    <tr>\n",
       "      <th rowspan=\"4\" valign=\"top\">True</th>\n",
       "      <th>categories</th>\n",
       "      <td>4.367515</td>\n",
       "      <td>70.021247</td>\n",
       "      <td>30.752016</td>\n",
       "    </tr>\n",
       "    <tr>\n",
       "      <th>gmm</th>\n",
       "      <td>4.366891</td>\n",
       "      <td>70.019025</td>\n",
       "      <td>30.759678</td>\n",
       "    </tr>\n",
       "    <tr>\n",
       "      <th>kmeans</th>\n",
       "      <td>4.365834</td>\n",
       "      <td>70.035826</td>\n",
       "      <td>30.689075</td>\n",
       "    </tr>\n",
       "    <tr>\n",
       "      <th>raw</th>\n",
       "      <td>4.363883</td>\n",
       "      <td>70.090128</td>\n",
       "      <td>30.691610</td>\n",
       "    </tr>\n",
       "  </tbody>\n",
       "</table>\n",
       "</div>"
      ],
      "text/plain": [
       "                            test_loss   test_hit   test_mrr\n",
       "augment_matrix augment_alg                                 \n",
       "False          gmm           4.363266  69.939949  30.681960\n",
       "True           categories    4.367515  70.021247  30.752016\n",
       "               gmm           4.366891  70.019025  30.759678\n",
       "               kmeans        4.365834  70.035826  30.689075\n",
       "               raw           4.363883  70.090128  30.691610"
      ]
     },
     "execution_count": 19,
     "metadata": {},
     "output_type": "execute_result"
    }
   ],
   "source": [
    "result_df[['test_loss', 'test_hit', 'test_mrr', 'augment_matrix','augment_alg']].groupby(['augment_matrix','augment_alg']).mean()"
   ]
  },
  {
   "cell_type": "markdown",
   "metadata": {},
   "source": [
    "# yoochoose 1/4"
   ]
  },
  {
   "cell_type": "code",
   "execution_count": 21,
   "metadata": {},
   "outputs": [],
   "source": [
    "runs=\"\"\"3j5nkw4m\n",
    "fxrwajhe\n",
    "vmbjvdhs\n",
    "6vpf6swz\n",
    "hbuhmnxw\n",
    "za9sjn76\n",
    "bchj1eho\"\"\".split('\\n')\n"
   ]
  },
  {
   "cell_type": "code",
   "execution_count": 22,
   "metadata": {},
   "outputs": [
    {
     "name": "stderr",
     "output_type": "stream",
     "text": [
      "LOCAL_RANK: 0 - CUDA_VISIBLE_DEVICES: [0]\n"
     ]
    },
    {
     "name": "stdout",
     "output_type": "stream",
     "text": [
      "{'dataset': 'yoochoose1_4', 'batchSize': 100, 'hiddenSize': 100, 'epoch': 30, 'lr': 0.001, 'lr_dc': 0.1, 'lr_dc_step': 2, 'lr_scheduler': 'step', 'lr_milestones': ([2, 5, 8],), 'l2': 1e-06, 'step': 2, 'patience': 4, 'nonhybrid': False, 'validation': True, 'valid_portion': 0.1, 'pretrained_embedings': False, 'unfreeze_epoch': 0, 'gmm': [], 'augment_matrix': True, 'augment_clusters': False, 'augment_old_run_id': 'fxrwajhe', 'augment_clip': 0, 'augment_normalize': True, 'augment_raw': False, 'weight_init': 'normal', 'augment_categories': False, 'augment_nogmm': 8, 'augment_p': 0.5, 'augment_mean': 0.01, 'augment_std': 0.01, 'augment_gmm_init': 'k-means++', 'augment_prenormalize_distances': False, 'augment_noise_p': 0.5, 'augment_alg': 'categories', 'gmm_covariance_type': 'full', 'gmm_tol': 0.001}\n",
      "3j5nkw4m\n",
      "Testing DataLoader 0: 100%|██████████| 559/559 [01:02<00:00,  8.96it/s]\n",
      "────────────────────────────────────────────────────────────────────────────────────────────────────────────────────────\n",
      "       Test metric             DataLoader 0\n",
      "────────────────────────────────────────────────────────────────────────────────────────────────────────────────────────\n",
      "        test_hit             71.1939697265625\n",
      "        test_loss            4.211008071899414\n",
      "        test_mrr             31.7108211517334\n",
      "────────────────────────────────────────────────────────────────────────────────────────────────────────────────────────\n",
      "{'dataset': 'yoochoose1_4', 'batchSize': 100, 'hiddenSize': 100, 'epoch': 30, 'lr': 0.001, 'lr_dc': 0.1, 'lr_dc_step': 2, 'lr_scheduler': 'step', 'lr_milestones': ([2, 5, 8],), 'l2': 1e-05, 'step': 2, 'patience': 5, 'nonhybrid': False, 'validation': True, 'valid_portion': 0.1, 'pretrained_embedings': False, 'unfreeze_epoch': 0, 'gmm': [], 'augment_matrix': False, 'augment_clusters': False, 'augment_old_run_id': '', 'augment_clip': 0, 'augment_normalize': False, 'augment_raw': False, 'weight_init': 'normal', 'augment_categories': False, 'augment_nogmm': 16, 'augment_p': 1.0, 'augment_mean': 0.01, 'augment_std': 0.0, 'augment_gmm_init': 'k-means++', 'augment_prenormalize_distances': False, 'augment_noise_p': 0.0, 'augment_alg': 'gmm', 'gmm_covariance_type': 'full', 'gmm_tol': 0.001}\n"
     ]
    },
    {
     "name": "stderr",
     "output_type": "stream",
     "text": [
      "LOCAL_RANK: 0 - CUDA_VISIBLE_DEVICES: [0]\n"
     ]
    },
    {
     "name": "stdout",
     "output_type": "stream",
     "text": [
      "fxrwajhe\n",
      "Testing DataLoader 0: 100%|██████████| 559/559 [00:51<00:00, 10.84it/s]\n",
      "────────────────────────────────────────────────────────────────────────────────────────────────────────────────────────\n",
      "       Test metric             DataLoader 0\n",
      "────────────────────────────────────────────────────────────────────────────────────────────────────────────────────────\n",
      "        test_hit             71.28878021240234\n",
      "        test_loss            4.212982654571533\n",
      "        test_mrr             31.80596160888672\n",
      "────────────────────────────────────────────────────────────────────────────────────────────────────────────────────────\n",
      "{'dataset': 'yoochoose1_4', 'batchSize': 100, 'hiddenSize': 100, 'epoch': 30, 'lr': 0.001, 'lr_dc': 0.1, 'lr_dc_step': 2, 'lr_scheduler': 'step', 'lr_milestones': ([2, 5, 8],), 'l2': 1e-06, 'step': 2, 'patience': 4, 'nonhybrid': False, 'validation': True, 'valid_portion': 0.1, 'pretrained_embedings': False, 'unfreeze_epoch': 0, 'gmm': [], 'augment_matrix': True, 'augment_clusters': False, 'augment_old_run_id': 'bchj1eho', 'augment_clip': 0, 'augment_normalize': True, 'augment_raw': False, 'weight_init': 'normal', 'augment_categories': False, 'augment_nogmm': 8, 'augment_p': 0.5, 'augment_mean': 0.01, 'augment_std': 0.01, 'augment_gmm_init': 'k-means++', 'augment_prenormalize_distances': False, 'augment_noise_p': 0.5, 'augment_alg': 'raw', 'gmm_covariance_type': 'full', 'gmm_tol': 0.001}\n"
     ]
    },
    {
     "name": "stderr",
     "output_type": "stream",
     "text": [
      "LOCAL_RANK: 0 - CUDA_VISIBLE_DEVICES: [0]\n"
     ]
    },
    {
     "name": "stdout",
     "output_type": "stream",
     "text": [
      "vmbjvdhs\n",
      "Testing DataLoader 0: 100%|██████████| 559/559 [01:02<00:00,  8.94it/s]\n",
      "────────────────────────────────────────────────────────────────────────────────────────────────────────────────────────\n",
      "       Test metric             DataLoader 0\n",
      "────────────────────────────────────────────────────────────────────────────────────────────────────────────────────────\n",
      "        test_hit               71.2958984375\n",
      "        test_loss            4.210006237030029\n",
      "        test_mrr            31.704957962036133\n",
      "────────────────────────────────────────────────────────────────────────────────────────────────────────────────────────\n",
      "{'dataset': 'yoochoose1_4', 'batchSize': 100, 'hiddenSize': 100, 'epoch': 30, 'lr': 0.001, 'lr_dc': 0.1, 'lr_dc_step': 2, 'lr_scheduler': 'step', 'lr_milestones': ([2, 5, 8],), 'l2': 1e-06, 'step': 2, 'patience': 4, 'nonhybrid': False, 'validation': True, 'valid_portion': 0.1, 'pretrained_embedings': False, 'unfreeze_epoch': 0, 'gmm': [], 'augment_matrix': True, 'augment_clusters': False, 'augment_old_run_id': 'bchj1eho', 'augment_clip': 0, 'augment_normalize': True, 'augment_raw': False, 'weight_init': 'normal', 'augment_categories': False, 'augment_nogmm': 8, 'augment_p': 0.5, 'augment_mean': 0.01, 'augment_std': 0.01, 'augment_gmm_init': 'k-means++', 'augment_prenormalize_distances': False, 'augment_noise_p': 0.5, 'augment_alg': 'kmeans', 'gmm_covariance_type': 'full', 'gmm_tol': 0.001}\n"
     ]
    },
    {
     "name": "stderr",
     "output_type": "stream",
     "text": [
      "LOCAL_RANK: 0 - CUDA_VISIBLE_DEVICES: [0]\n"
     ]
    },
    {
     "name": "stdout",
     "output_type": "stream",
     "text": [
      "6vpf6swz\n",
      "Testing DataLoader 0: 100%|██████████| 559/559 [00:52<00:00, 10.73it/s]\n",
      "────────────────────────────────────────────────────────────────────────────────────────────────────────────────────────\n",
      "       Test metric             DataLoader 0\n",
      "────────────────────────────────────────────────────────────────────────────────────────────────────────────────────────\n",
      "        test_hit             71.14201354980469\n",
      "        test_loss            4.218857288360596\n",
      "        test_mrr            31.588298797607422\n",
      "────────────────────────────────────────────────────────────────────────────────────────────────────────────────────────\n",
      "{'dataset': 'yoochoose1_4', 'batchSize': 100, 'hiddenSize': 100, 'epoch': 30, 'lr': 0.001, 'lr_dc': 0.1, 'lr_dc_step': 2, 'lr_scheduler': 'step', 'lr_milestones': ([2, 5, 8],), 'l2': 1e-06, 'step': 2, 'patience': 4, 'nonhybrid': False, 'validation': True, 'valid_portion': 0.1, 'pretrained_embedings': False, 'unfreeze_epoch': 0, 'gmm': [], 'augment_matrix': True, 'augment_clusters': False, 'augment_old_run_id': 'bchj1eho', 'augment_clip': 0, 'augment_normalize': True, 'augment_raw': False, 'weight_init': 'normal', 'augment_categories': False, 'augment_nogmm': 8, 'augment_p': 0.5, 'augment_mean': 0.01, 'augment_std': 0.01, 'augment_gmm_init': 'k-means++', 'augment_prenormalize_distances': False, 'augment_noise_p': 0.5, 'augment_alg': 'gmm', 'gmm_covariance_type': 'full', 'gmm_tol': 0.001}\n"
     ]
    },
    {
     "name": "stderr",
     "output_type": "stream",
     "text": [
      "LOCAL_RANK: 0 - CUDA_VISIBLE_DEVICES: [0]\n"
     ]
    },
    {
     "name": "stdout",
     "output_type": "stream",
     "text": [
      "hbuhmnxw\n",
      "Testing DataLoader 0: 100%|██████████| 559/559 [01:01<00:00,  9.02it/s]\n",
      "────────────────────────────────────────────────────────────────────────────────────────────────────────────────────────\n",
      "       Test metric             DataLoader 0\n",
      "────────────────────────────────────────────────────────────────────────────────────────────────────────────────────────\n",
      "        test_hit             71.1151123046875\n",
      "        test_loss            4.214593410491943\n",
      "        test_mrr             31.68343162536621\n",
      "────────────────────────────────────────────────────────────────────────────────────────────────────────────────────────\n",
      "{'dataset': 'yoochoose1_4', 'batchSize': 100, 'hiddenSize': 100, 'epoch': 30, 'lr': 0.001, 'lr_dc': 0.1, 'lr_dc_step': 2, 'lr_scheduler': 'step', 'lr_milestones': ([2, 5, 8],), 'l2': 1e-06, 'step': 2, 'patience': 4, 'nonhybrid': False, 'validation': True, 'valid_portion': 0.1, 'pretrained_embedings': False, 'unfreeze_epoch': 0, 'gmm': [], 'augment_matrix': True, 'augment_clusters': False, 'augment_old_run_id': 'bchj1eho', 'augment_clip': 0, 'augment_normalize': True, 'augment_raw': False, 'weight_init': 'normal', 'augment_categories': False, 'augment_nogmm': 8, 'augment_p': 0.5, 'augment_mean': 0.01, 'augment_std': 0.01, 'augment_gmm_init': 'k-means++', 'augment_prenormalize_distances': False, 'augment_noise_p': 0.5, 'augment_alg': 'categories', 'gmm_covariance_type': 'full', 'gmm_tol': 0.001}\n"
     ]
    },
    {
     "name": "stderr",
     "output_type": "stream",
     "text": [
      "LOCAL_RANK: 0 - CUDA_VISIBLE_DEVICES: [0]\n"
     ]
    },
    {
     "name": "stdout",
     "output_type": "stream",
     "text": [
      "za9sjn76\n",
      "Testing DataLoader 0: 100%|██████████| 559/559 [00:51<00:00, 10.78it/s]\n",
      "────────────────────────────────────────────────────────────────────────────────────────────────────────────────────────\n",
      "       Test metric             DataLoader 0\n",
      "────────────────────────────────────────────────────────────────────────────────────────────────────────────────────────\n",
      "        test_hit             71.3692855834961\n",
      "        test_loss            4.21355676651001\n",
      "        test_mrr             31.82353973388672\n",
      "────────────────────────────────────────────────────────────────────────────────────────────────────────────────────────\n",
      "{'dataset': 'yoochoose1_4', 'batchSize': 100, 'hiddenSize': 100, 'epoch': 30, 'lr': 0.001, 'lr_dc': 0.1, 'lr_dc_step': 2, 'lr_scheduler': 'step', 'lr_milestones': ([2, 5, 8],), 'l2': 1e-05, 'step': 2, 'patience': 5, 'nonhybrid': False, 'validation': True, 'valid_portion': 0.1, 'pretrained_embedings': False, 'unfreeze_epoch': 0, 'gmm': [], 'augment_matrix': False, 'augment_clusters': False, 'augment_old_run_id': '', 'augment_clip': 0, 'augment_normalize': False, 'augment_raw': False, 'weight_init': 'normal', 'augment_categories': False, 'augment_nogmm': 16, 'augment_p': 1.0, 'augment_mean': 0.01, 'augment_std': 0.0, 'augment_gmm_init': 'k-means++', 'augment_prenormalize_distances': False, 'augment_noise_p': 0.0, 'augment_alg': 'gmm', 'gmm_covariance_type': 'full', 'gmm_tol': 0.001}\n"
     ]
    },
    {
     "name": "stderr",
     "output_type": "stream",
     "text": [
      "LOCAL_RANK: 0 - CUDA_VISIBLE_DEVICES: [0]\n"
     ]
    },
    {
     "name": "stdout",
     "output_type": "stream",
     "text": [
      "bchj1eho\n",
      "Testing DataLoader 0: 100%|██████████| 559/559 [01:01<00:00,  9.04it/s]\n",
      "────────────────────────────────────────────────────────────────────────────────────────────────────────────────────────\n",
      "       Test metric             DataLoader 0\n",
      "────────────────────────────────────────────────────────────────────────────────────────────────────────────────────────\n",
      "        test_hit             71.40144348144531\n",
      "        test_loss            4.213388919830322\n",
      "        test_mrr            31.830402374267578\n",
      "────────────────────────────────────────────────────────────────────────────────────────────────────────────────────────\n"
     ]
    }
   ],
   "source": [
    "res_df=[]\n",
    "for run_id in runs:\n",
    "    try:\n",
    "      model,opt=load_model(run_id)\n",
    "    except IndexError:\n",
    "       continue\n",
    "\n",
    "    print(run_id)\n",
    "    metrics=trainer.test(model, {#'augmented':am_test_dataloader, \n",
    "                                 'normal':normal_test_dataloader})[0 ]\n",
    "    metrics['run_id']=run_id\n",
    "    for k,v in opt.__dict__.items():\n",
    "       metrics[k]=v\n",
    "    res_df.append(metrics)"
   ]
  },
  {
   "cell_type": "code",
   "execution_count": 23,
   "metadata": {},
   "outputs": [],
   "source": [
    "result_df=pd.DataFrame(res_df)"
   ]
  },
  {
   "cell_type": "code",
   "execution_count": 26,
   "metadata": {},
   "outputs": [
    {
     "data": {
      "text/html": [
       "<div>\n",
       "<style scoped>\n",
       "    .dataframe tbody tr th:only-of-type {\n",
       "        vertical-align: middle;\n",
       "    }\n",
       "\n",
       "    .dataframe tbody tr th {\n",
       "        vertical-align: top;\n",
       "    }\n",
       "\n",
       "    .dataframe thead th {\n",
       "        text-align: right;\n",
       "    }\n",
       "</style>\n",
       "<table border=\"1\" class=\"dataframe\">\n",
       "  <thead>\n",
       "    <tr style=\"text-align: right;\">\n",
       "      <th></th>\n",
       "      <th>test_loss</th>\n",
       "      <th>test_hit</th>\n",
       "      <th>test_mrr</th>\n",
       "      <th>augment_matrix</th>\n",
       "      <th>augment_alg</th>\n",
       "    </tr>\n",
       "  </thead>\n",
       "  <tbody>\n",
       "    <tr>\n",
       "      <th>0</th>\n",
       "      <td>4.211008</td>\n",
       "      <td>71.193970</td>\n",
       "      <td>31.710821</td>\n",
       "      <td>True</td>\n",
       "      <td>categories</td>\n",
       "    </tr>\n",
       "    <tr>\n",
       "      <th>1</th>\n",
       "      <td>4.212983</td>\n",
       "      <td>71.288780</td>\n",
       "      <td>31.805962</td>\n",
       "      <td>False</td>\n",
       "      <td>gmm</td>\n",
       "    </tr>\n",
       "    <tr>\n",
       "      <th>2</th>\n",
       "      <td>4.210006</td>\n",
       "      <td>71.295898</td>\n",
       "      <td>31.704958</td>\n",
       "      <td>True</td>\n",
       "      <td>raw</td>\n",
       "    </tr>\n",
       "    <tr>\n",
       "      <th>3</th>\n",
       "      <td>4.218857</td>\n",
       "      <td>71.142014</td>\n",
       "      <td>31.588299</td>\n",
       "      <td>True</td>\n",
       "      <td>kmeans</td>\n",
       "    </tr>\n",
       "    <tr>\n",
       "      <th>4</th>\n",
       "      <td>4.214593</td>\n",
       "      <td>71.115112</td>\n",
       "      <td>31.683432</td>\n",
       "      <td>True</td>\n",
       "      <td>gmm</td>\n",
       "    </tr>\n",
       "    <tr>\n",
       "      <th>5</th>\n",
       "      <td>4.213557</td>\n",
       "      <td>71.369286</td>\n",
       "      <td>31.823540</td>\n",
       "      <td>True</td>\n",
       "      <td>categories</td>\n",
       "    </tr>\n",
       "    <tr>\n",
       "      <th>6</th>\n",
       "      <td>4.213389</td>\n",
       "      <td>71.401443</td>\n",
       "      <td>31.830402</td>\n",
       "      <td>False</td>\n",
       "      <td>gmm</td>\n",
       "    </tr>\n",
       "  </tbody>\n",
       "</table>\n",
       "</div>"
      ],
      "text/plain": [
       "   test_loss   test_hit   test_mrr  augment_matrix augment_alg\n",
       "0   4.211008  71.193970  31.710821            True  categories\n",
       "1   4.212983  71.288780  31.805962           False         gmm\n",
       "2   4.210006  71.295898  31.704958            True         raw\n",
       "3   4.218857  71.142014  31.588299            True      kmeans\n",
       "4   4.214593  71.115112  31.683432            True         gmm\n",
       "5   4.213557  71.369286  31.823540            True  categories\n",
       "6   4.213389  71.401443  31.830402           False         gmm"
      ]
     },
     "execution_count": 26,
     "metadata": {},
     "output_type": "execute_result"
    }
   ],
   "source": [
    "result_df[['test_loss', 'test_hit', 'test_mrr', 'augment_matrix','augment_alg']]"
   ]
  },
  {
   "cell_type": "code",
   "execution_count": 24,
   "metadata": {},
   "outputs": [
    {
     "data": {
      "text/html": [
       "<div>\n",
       "<style scoped>\n",
       "    .dataframe tbody tr th:only-of-type {\n",
       "        vertical-align: middle;\n",
       "    }\n",
       "\n",
       "    .dataframe tbody tr th {\n",
       "        vertical-align: top;\n",
       "    }\n",
       "\n",
       "    .dataframe thead th {\n",
       "        text-align: right;\n",
       "    }\n",
       "</style>\n",
       "<table border=\"1\" class=\"dataframe\">\n",
       "  <thead>\n",
       "    <tr style=\"text-align: right;\">\n",
       "      <th></th>\n",
       "      <th></th>\n",
       "      <th>test_loss</th>\n",
       "      <th>test_hit</th>\n",
       "      <th>test_mrr</th>\n",
       "    </tr>\n",
       "    <tr>\n",
       "      <th>augment_matrix</th>\n",
       "      <th>augment_alg</th>\n",
       "      <th></th>\n",
       "      <th></th>\n",
       "      <th></th>\n",
       "    </tr>\n",
       "  </thead>\n",
       "  <tbody>\n",
       "    <tr>\n",
       "      <th>False</th>\n",
       "      <th>gmm</th>\n",
       "      <td>4.213186</td>\n",
       "      <td>71.345112</td>\n",
       "      <td>31.818182</td>\n",
       "    </tr>\n",
       "    <tr>\n",
       "      <th rowspan=\"4\" valign=\"top\">True</th>\n",
       "      <th>categories</th>\n",
       "      <td>4.212282</td>\n",
       "      <td>71.281628</td>\n",
       "      <td>31.767180</td>\n",
       "    </tr>\n",
       "    <tr>\n",
       "      <th>gmm</th>\n",
       "      <td>4.214593</td>\n",
       "      <td>71.115112</td>\n",
       "      <td>31.683432</td>\n",
       "    </tr>\n",
       "    <tr>\n",
       "      <th>kmeans</th>\n",
       "      <td>4.218857</td>\n",
       "      <td>71.142014</td>\n",
       "      <td>31.588299</td>\n",
       "    </tr>\n",
       "    <tr>\n",
       "      <th>raw</th>\n",
       "      <td>4.210006</td>\n",
       "      <td>71.295898</td>\n",
       "      <td>31.704958</td>\n",
       "    </tr>\n",
       "  </tbody>\n",
       "</table>\n",
       "</div>"
      ],
      "text/plain": [
       "                            test_loss   test_hit   test_mrr\n",
       "augment_matrix augment_alg                                 \n",
       "False          gmm           4.213186  71.345112  31.818182\n",
       "True           categories    4.212282  71.281628  31.767180\n",
       "               gmm           4.214593  71.115112  31.683432\n",
       "               kmeans        4.218857  71.142014  31.588299\n",
       "               raw           4.210006  71.295898  31.704958"
      ]
     },
     "execution_count": 24,
     "metadata": {},
     "output_type": "execute_result"
    }
   ],
   "source": [
    "result_df[['test_loss', 'test_hit', 'test_mrr', 'augment_matrix','augment_alg']].groupby(['augment_matrix','augment_alg']).mean()"
   ]
  },
  {
   "cell_type": "markdown",
   "metadata": {},
   "source": [
    "# diginetica"
   ]
  },
  {
   "cell_type": "markdown",
   "metadata": {},
   "source": [
    "## baseline models"
   ]
  },
  {
   "cell_type": "code",
   "execution_count": 4,
   "metadata": {},
   "outputs": [
    {
     "name": "stdout",
     "output_type": "stream",
     "text": [
      "{'dataset': 'diginetica', 'batchSize': 100, 'hiddenSize': 100, 'epoch': 30, 'lr': 0.001, 'lr_dc': 0.1, 'lr_dc_step': 2, 'l2': 1e-05, 'step': 2, 'patience': 5, 'nonhybrid': False, 'validation': True, 'valid_portion': 0.1, 'pretrained_embedings': False, 'unfreeze_epoch': 0, 'gmm': [], 'augment_matrix': False, 'augment_clusters': False, 'augment_old_run_id': None, 'augment_clip': 0, 'augment_normalize': False, 'augment_raw': False, 'weight_init': 'normal', 'augment_categories': False, 'augment_nogmm': 16, 'augment_p': 1.0, 'augment_mean': 0.01, 'augment_std': 0.0, 'augment_gmm_init': 'k-means++', 'augment_prenormalize_distances': False, 'augment_noise_p': 1.0, 'augment_alg': 'gmm', 'gmm_covariance_type': 'full', 'gmm_tol': 0.001}\n"
     ]
    }
   ],
   "source": [
    "run_id='qm2ur7o3'\n",
    "\n",
    "model,opt=load_model(run_id)\n",
    "test_data = pickle.load(open('../datasets/' + opt.dataset + '/test.txt', 'rb'))"
   ]
  },
  {
   "cell_type": "code",
   "execution_count": 5,
   "metadata": {},
   "outputs": [
    {
     "name": "stdout",
     "output_type": "stream",
     "text": [
      "data masking start\n"
     ]
    },
    {
     "name": "stderr",
     "output_type": "stream",
     "text": [
      "100%|██████████| 64/64 [00:00<00:00, 222.72it/s]"
     ]
    },
    {
     "name": "stdout",
     "output_type": "stream",
     "text": [
      "done masking\n"
     ]
    },
    {
     "name": "stderr",
     "output_type": "stream",
     "text": [
      "\n"
     ]
    }
   ],
   "source": [
    "normal_test_dataset=SRGNN_Map_Dataset(test_data, shuffle=False)\n",
    "\n",
    "normal_test_dataloader=DataLoader(normal_test_dataset, \n",
    "                            num_workers=os.cpu_count(),  \n",
    "                            sampler=SRGNN_sampler(normal_test_dataset, opt.batchSize, shuffle=False, drop_last=False)\n",
    "                            )"
   ]
  },
  {
   "cell_type": "code",
   "execution_count": 6,
   "metadata": {},
   "outputs": [
    {
     "name": "stderr",
     "output_type": "stream",
     "text": [
      "GPU available: True (cuda), used: True\n",
      "TPU available: False, using: 0 TPU cores\n",
      "IPU available: False, using: 0 IPUs\n",
      "HPU available: False, using: 0 HPUs\n",
      "/home/kacper/anaconda3/envs/gpu_torch/lib/python3.12/site-packages/pytorch_lightning/trainer/connectors/logger_connector/logger_connector.py:75: Starting from v1.9.0, `tensorboardX` has been removed as a dependency of the `pytorch_lightning` package, due to potential conflicts with other packages in the ML ecosystem. For this reason, `logger=True` will use `CSVLogger` as the default logger, unless the `tensorboard` or `tensorboardX` packages are found. Please `pip install lightning[extra]` or one of them to enable TensorBoard support by default\n"
     ]
    }
   ],
   "source": [
    "trainer=Trainer(limit_test_batches=ceil(normal_test_dataset.length/opt.batchSize),\n",
    "                limit_predict_batches=ceil(normal_test_dataset.length/opt.batchSize))"
   ]
  },
  {
   "cell_type": "code",
   "execution_count": 8,
   "metadata": {},
   "outputs": [],
   "source": [
    "runs=[ ## default hparams, as in paper\n",
    "    'run-20240916_203347-izcd5fci',\n",
    "    'run-20240916_200756-q3fjvapa',\n",
    "]"
   ]
  },
  {
   "cell_type": "code",
   "execution_count": 13,
   "metadata": {},
   "outputs": [],
   "source": [
    "runs=[\n",
    "    ## my hparams\n",
    "    'qm2ur7o3',\n",
    "    '3abge2uq',\n",
    "    '4dm99qnd',\n",
    "    'jxgwsuta',\n",
    "]"
   ]
  },
  {
   "cell_type": "code",
   "execution_count": 16,
   "metadata": {},
   "outputs": [
    {
     "name": "stderr",
     "output_type": "stream",
     "text": [
      "LOCAL_RANK: 0 - CUDA_VISIBLE_DEVICES: [0]\n"
     ]
    },
    {
     "name": "stdout",
     "output_type": "stream",
     "text": [
      "{'dataset': 'diginetica', 'batchSize': 100, 'hiddenSize': 100, 'epoch': 30, 'lr': 0.001, 'lr_dc': 0.1, 'lr_dc_step': 2, 'l2': 1e-05, 'step': 2, 'patience': 5, 'nonhybrid': False, 'validation': True, 'valid_portion': 0.1, 'pretrained_embedings': False, 'unfreeze_epoch': 0, 'gmm': [], 'augment_matrix': False, 'augment_clusters': False, 'augment_old_run_id': None, 'augment_clip': 0, 'augment_normalize': False, 'augment_raw': False, 'weight_init': 'normal', 'augment_categories': False, 'augment_nogmm': 16, 'augment_p': 1.0, 'augment_mean': 0.01, 'augment_std': 0.0, 'augment_gmm_init': 'k-means++', 'augment_prenormalize_distances': False, 'augment_noise_p': 1.0, 'augment_alg': 'gmm'}\n",
      "Metrics on normal Adjacency matrix\n",
      "qm2ur7o3\n",
      "Testing DataLoader 0: 100%|██████████| 609/609 [00:17<00:00, 34.19it/s]\n",
      "────────────────────────────────────────────────────────────────────────────────────────────────────────────────────────\n",
      "       Test metric             DataLoader 0\n",
      "────────────────────────────────────────────────────────────────────────────────────────────────────────────────────────\n",
      "        test_hit             50.84593200683594\n",
      "        test_loss            5.508840560913086\n",
      "        test_mrr             17.79640769958496\n",
      "────────────────────────────────────────────────────────────────────────────────────────────────────────────────────────\n",
      "{'dataset': 'diginetica', 'batchSize': 100, 'hiddenSize': 100, 'epoch': 30, 'lr': 0.001, 'lr_dc': 0.1, 'lr_dc_step': 2, 'l2': 1e-05, 'step': 2, 'patience': 5, 'nonhybrid': False, 'validation': True, 'valid_portion': 0.1, 'pretrained_embedings': False, 'unfreeze_epoch': 0, 'gmm': [2, 4, 8, 16], 'augment_matrix': False, 'augment_clusters': False, 'augment_old_run_id': None, 'augment_clip': 0, 'augment_normalize': False, 'augment_raw': False, 'weight_init': 'normal', 'augment_categories': False, 'augment_nogmm': 16, 'augment_p': 1.0, 'augment_mean': 0.01, 'augment_std': 0.0, 'augment_gmm_init': 'k-means++', 'augment_prenormalize_distances': False, 'augment_noise_p': 1, 'augment_alg': 'gmm'}\n"
     ]
    },
    {
     "name": "stderr",
     "output_type": "stream",
     "text": [
      "LOCAL_RANK: 0 - CUDA_VISIBLE_DEVICES: [0]\n"
     ]
    },
    {
     "name": "stdout",
     "output_type": "stream",
     "text": [
      "Metrics on normal Adjacency matrix\n",
      "3abge2uq\n",
      "Testing DataLoader 0: 100%|██████████| 609/609 [00:17<00:00, 33.84it/s]\n",
      "────────────────────────────────────────────────────────────────────────────────────────────────────────────────────────\n",
      "       Test metric             DataLoader 0\n",
      "────────────────────────────────────────────────────────────────────────────────────────────────────────────────────────\n",
      "        test_hit            50.733821868896484\n",
      "        test_loss            5.508734226226807\n",
      "        test_mrr             17.61170768737793\n",
      "────────────────────────────────────────────────────────────────────────────────────────────────────────────────────────\n",
      "{'dataset': 'diginetica', 'batchSize': 100, 'hiddenSize': 100, 'epoch': 30, 'lr': 0.001, 'lr_dc': 0.1, 'lr_dc_step': 2, 'l2': 1e-05, 'step': 2, 'patience': 5, 'nonhybrid': False, 'validation': True, 'valid_portion': 0.1, 'pretrained_embedings': False, 'unfreeze_epoch': 0, 'gmm': True, 'augment_matrix': False, 'augment_clusters': False, 'augment_old_run_id': None, 'augment_clip': 0, 'augment_normalize': False, 'augment_raw': False, 'weight_init': 'normal', 'augment_categories': False, 'augment_nogmm': 16, 'augment_p': 1.0, 'augment_mean': 0.01, 'augment_std': 0.0, 'augment_gmm_init': 'k-means++', 'augment_prenormalize_distances': False, 'augment_noise_p': 1, 'augment_alg': 'gmm'}\n"
     ]
    },
    {
     "name": "stderr",
     "output_type": "stream",
     "text": [
      "LOCAL_RANK: 0 - CUDA_VISIBLE_DEVICES: [0]\n"
     ]
    },
    {
     "name": "stdout",
     "output_type": "stream",
     "text": [
      "Metrics on normal Adjacency matrix\n",
      "4dm99qnd\n",
      "Testing DataLoader 0: 100%|██████████| 609/609 [00:17<00:00, 33.91it/s]\n",
      "────────────────────────────────────────────────────────────────────────────────────────────────────────────────────────\n",
      "       Test metric             DataLoader 0\n",
      "────────────────────────────────────────────────────────────────────────────────────────────────────────────────────────\n",
      "        test_hit            50.689205169677734\n",
      "        test_loss            5.500315189361572\n",
      "        test_mrr            17.721900939941406\n",
      "────────────────────────────────────────────────────────────────────────────────────────────────────────────────────────\n",
      "{'dataset': 'diginetica', 'batchSize': 100, 'hiddenSize': 100, 'epoch': 30, 'lr': 0.001, 'lr_dc': 0.1, 'lr_dc_step': 2, 'l2': 1e-05, 'step': 2, 'patience': 5, 'nonhybrid': False, 'validation': True, 'valid_portion': 0.1, 'pretrained_embedings': False, 'unfreeze_epoch': 0, 'gmm': True, 'augment_matrix': False, 'augment_clusters': False, 'augment_old_run_id': None, 'augment_clip': 0, 'augment_normalize': False, 'augment_raw': False, 'weight_init': 'normal', 'augment_categories': False, 'augment_nogmm': 16, 'augment_p': 1.0, 'augment_mean': 0.01, 'augment_std': 0.0, 'augment_gmm_init': 'k-means++', 'augment_prenormalize_distances': False, 'augment_noise_p': 1, 'augment_alg': 'gmm'}\n"
     ]
    },
    {
     "name": "stderr",
     "output_type": "stream",
     "text": [
      "LOCAL_RANK: 0 - CUDA_VISIBLE_DEVICES: [0]\n"
     ]
    },
    {
     "name": "stdout",
     "output_type": "stream",
     "text": [
      "Metrics on normal Adjacency matrix\n",
      "jxgwsuta\n",
      "Testing DataLoader 0: 100%|██████████| 609/609 [00:17<00:00, 35.59it/s]\n",
      "────────────────────────────────────────────────────────────────────────────────────────────────────────────────────────\n",
      "       Test metric             DataLoader 0\n",
      "────────────────────────────────────────────────────────────────────────────────────────────────────────────────────────\n",
      "        test_hit             50.92146301269531\n",
      "        test_loss            5.515181541442871\n",
      "        test_mrr            17.742328643798828\n",
      "────────────────────────────────────────────────────────────────────────────────────────────────────────────────────────\n"
     ]
    }
   ],
   "source": [
    "res_df=[]\n",
    "for run_id in runs:\n",
    "    model,opt=load_model(run_id)\n",
    "    print('Metrics on normal Adjacency matrix')\n",
    "    print(run_id)\n",
    "    metrics=trainer.test(model, normal_test_dataloader)[0]\n",
    "    metrics['run_id']=run_id\n",
    "    res_df.append(metrics)"
   ]
  },
  {
   "cell_type": "code",
   "execution_count": 19,
   "metadata": {},
   "outputs": [
    {
     "data": {
      "text/plain": [
       "test_loss     5.508268\n",
       "test_hit     50.797606\n",
       "test_mrr     17.718086\n",
       "dtype: float64"
      ]
     },
     "execution_count": 19,
     "metadata": {},
     "output_type": "execute_result"
    }
   ],
   "source": [
    "pd.DataFrame(res_df)[['test_loss','test_hit','test_mrr']].mean()"
   ]
  },
  {
   "cell_type": "markdown",
   "metadata": {},
   "source": [
    "## only noise"
   ]
  },
  {
   "cell_type": "code",
   "execution_count": 10,
   "metadata": {},
   "outputs": [],
   "source": [
    "runs=['s4uxxqad', 'rbwxpsy6', 'ba46mnkl', 'h2a8ujnt']"
   ]
  },
  {
   "cell_type": "code",
   "execution_count": 11,
   "metadata": {},
   "outputs": [
    {
     "name": "stdout",
     "output_type": "stream",
     "text": [
      "{'dataset': 'diginetica', 'batchSize': 100, 'hiddenSize': 100, 'epoch': 30, 'lr': 0.001, 'lr_dc': 0.1, 'lr_dc_step': 2, 'l2': 1e-05, 'step': 2, 'patience': 5, 'nonhybrid': False, 'validation': True, 'valid_portion': 0.1, 'pretrained_embedings': False, 'unfreeze_epoch': 0, 'gmm': [], 'augment_matrix': False, 'augment_clusters': False, 'augment_old_run_id': '', 'augment_clip': 0, 'augment_normalize': False, 'augment_raw': False, 'weight_init': 'normal', 'augment_categories': False, 'augment_nogmm': 16, 'augment_p': 1.0, 'augment_mean': 0.01, 'augment_std': 0.01, 'augment_gmm_init': 'k-means++', 'augment_prenormalize_distances': False, 'augment_noise_p': 0.5, 'augment_alg': 'gmm', 'gmm_covariance_type': 'full', 'gmm_tol': 0.001}\n"
     ]
    },
    {
     "name": "stderr",
     "output_type": "stream",
     "text": [
      "LOCAL_RANK: 0 - CUDA_VISIBLE_DEVICES: [0]\n"
     ]
    },
    {
     "name": "stdout",
     "output_type": "stream",
     "text": [
      "s4uxxqad\n",
      "Testing DataLoader 0: 100%|██████████| 609/609 [00:20<00:00, 29.83it/s]\n",
      "────────────────────────────────────────────────────────────────────────────────────────────────────────────────────────\n",
      "       Test metric             DataLoader 0\n",
      "────────────────────────────────────────────────────────────────────────────────────────────────────────────────────────\n",
      "        test_hit             50.72368621826172\n",
      "        test_loss            5.51453161239624\n",
      "        test_mrr             17.66588020324707\n",
      "────────────────────────────────────────────────────────────────────────────────────────────────────────────────────────\n",
      "{'dataset': 'diginetica', 'batchSize': 100, 'hiddenSize': 100, 'epoch': 30, 'lr': 0.001, 'lr_dc': 0.1, 'lr_dc_step': 2, 'l2': 1e-05, 'step': 2, 'patience': 5, 'nonhybrid': False, 'validation': True, 'valid_portion': 0.1, 'pretrained_embedings': False, 'unfreeze_epoch': 0, 'gmm': [], 'augment_matrix': False, 'augment_clusters': False, 'augment_old_run_id': '', 'augment_clip': 0, 'augment_normalize': False, 'augment_raw': False, 'weight_init': 'normal', 'augment_categories': False, 'augment_nogmm': 16, 'augment_p': 1.0, 'augment_mean': 0.01, 'augment_std': 0.01, 'augment_gmm_init': 'k-means++', 'augment_prenormalize_distances': False, 'augment_noise_p': 0.5, 'augment_alg': 'gmm', 'gmm_covariance_type': 'full', 'gmm_tol': 0.001}\n"
     ]
    },
    {
     "name": "stderr",
     "output_type": "stream",
     "text": [
      "LOCAL_RANK: 0 - CUDA_VISIBLE_DEVICES: [0]\n"
     ]
    },
    {
     "name": "stdout",
     "output_type": "stream",
     "text": [
      "rbwxpsy6\n",
      "Testing DataLoader 0: 100%|██████████| 609/609 [00:20<00:00, 29.97it/s]\n",
      "────────────────────────────────────────────────────────────────────────────────────────────────────────────────────────\n",
      "       Test metric             DataLoader 0\n",
      "────────────────────────────────────────────────────────────────────────────────────────────────────────────────────────\n",
      "        test_hit            50.624542236328125\n",
      "        test_loss           5.5087385177612305\n",
      "        test_mrr            17.690868377685547\n",
      "────────────────────────────────────────────────────────────────────────────────────────────────────────────────────────\n",
      "{'dataset': 'diginetica', 'batchSize': 100, 'hiddenSize': 100, 'epoch': 30, 'lr': 0.001, 'lr_dc': 0.1, 'lr_dc_step': 2, 'l2': 1e-05, 'step': 2, 'patience': 5, 'nonhybrid': False, 'validation': True, 'valid_portion': 0.1, 'pretrained_embedings': False, 'unfreeze_epoch': 0, 'gmm': [], 'augment_matrix': False, 'augment_clusters': False, 'augment_old_run_id': '', 'augment_clip': 0, 'augment_normalize': False, 'augment_raw': False, 'weight_init': 'normal', 'augment_categories': False, 'augment_nogmm': 16, 'augment_p': 1.0, 'augment_mean': 0.01, 'augment_std': 0.01, 'augment_gmm_init': 'k-means++', 'augment_prenormalize_distances': False, 'augment_noise_p': 0.5, 'augment_alg': 'gmm', 'gmm_covariance_type': 'full', 'gmm_tol': 0.001}\n"
     ]
    },
    {
     "name": "stderr",
     "output_type": "stream",
     "text": [
      "LOCAL_RANK: 0 - CUDA_VISIBLE_DEVICES: [0]\n"
     ]
    },
    {
     "name": "stdout",
     "output_type": "stream",
     "text": [
      "ba46mnkl\n",
      "Testing DataLoader 0: 100%|██████████| 609/609 [00:20<00:00, 30.15it/s]\n",
      "────────────────────────────────────────────────────────────────────────────────────────────────────────────────────────\n",
      "       Test metric             DataLoader 0\n",
      "────────────────────────────────────────────────────────────────────────────────────────────────────────────────────────\n",
      "        test_hit             50.58184814453125\n",
      "        test_loss            5.524074554443359\n",
      "        test_mrr             17.53502655029297\n",
      "────────────────────────────────────────────────────────────────────────────────────────────────────────────────────────\n",
      "{'dataset': 'diginetica', 'batchSize': 100, 'hiddenSize': 100, 'epoch': 30, 'lr': 0.001, 'lr_dc': 0.1, 'lr_dc_step': 2, 'l2': 1e-05, 'step': 2, 'patience': 5, 'nonhybrid': False, 'validation': True, 'valid_portion': 0.1, 'pretrained_embedings': False, 'unfreeze_epoch': 0, 'gmm': [], 'augment_matrix': False, 'augment_clusters': False, 'augment_old_run_id': '', 'augment_clip': 0, 'augment_normalize': False, 'augment_raw': False, 'weight_init': 'normal', 'augment_categories': False, 'augment_nogmm': 16, 'augment_p': 1.0, 'augment_mean': 0.01, 'augment_std': 0.01, 'augment_gmm_init': 'k-means++', 'augment_prenormalize_distances': False, 'augment_noise_p': 0.5, 'augment_alg': 'gmm', 'gmm_covariance_type': 'full', 'gmm_tol': 0.001}\n"
     ]
    },
    {
     "name": "stderr",
     "output_type": "stream",
     "text": [
      "LOCAL_RANK: 0 - CUDA_VISIBLE_DEVICES: [0]\n"
     ]
    },
    {
     "name": "stdout",
     "output_type": "stream",
     "text": [
      "h2a8ujnt\n",
      "Testing DataLoader 0: 100%|██████████| 609/609 [00:19<00:00, 30.56it/s]\n",
      "────────────────────────────────────────────────────────────────────────────────────────────────────────────────────────\n",
      "       Test metric             DataLoader 0\n",
      "────────────────────────────────────────────────────────────────────────────────────────────────────────────────────────\n",
      "        test_hit             50.28316879272461\n",
      "        test_loss            5.53749418258667\n",
      "        test_mrr            17.574359893798828\n",
      "────────────────────────────────────────────────────────────────────────────────────────────────────────────────────────\n"
     ]
    },
    {
     "data": {
      "text/html": [
       "<div>\n",
       "<style scoped>\n",
       "    .dataframe tbody tr th:only-of-type {\n",
       "        vertical-align: middle;\n",
       "    }\n",
       "\n",
       "    .dataframe tbody tr th {\n",
       "        vertical-align: top;\n",
       "    }\n",
       "\n",
       "    .dataframe thead th {\n",
       "        text-align: right;\n",
       "    }\n",
       "</style>\n",
       "<table border=\"1\" class=\"dataframe\">\n",
       "  <thead>\n",
       "    <tr style=\"text-align: right;\">\n",
       "      <th></th>\n",
       "      <th>test_loss</th>\n",
       "      <th>test_hit</th>\n",
       "      <th>test_mrr</th>\n",
       "    </tr>\n",
       "    <tr>\n",
       "      <th>augment_matrix</th>\n",
       "      <th></th>\n",
       "      <th></th>\n",
       "      <th></th>\n",
       "    </tr>\n",
       "  </thead>\n",
       "  <tbody>\n",
       "    <tr>\n",
       "      <th>False</th>\n",
       "      <td>5.52121</td>\n",
       "      <td>50.553311</td>\n",
       "      <td>17.616534</td>\n",
       "    </tr>\n",
       "  </tbody>\n",
       "</table>\n",
       "</div>"
      ],
      "text/plain": [
       "                test_loss   test_hit   test_mrr\n",
       "augment_matrix                                 \n",
       "False             5.52121  50.553311  17.616534"
      ]
     },
     "execution_count": 11,
     "metadata": {},
     "output_type": "execute_result"
    }
   ],
   "source": [
    "res_df=[]\n",
    "for run_id in runs:\n",
    "    try:\n",
    "      model,opt=load_model(run_id)\n",
    "    except IndexError:\n",
    "       continue\n",
    "    #dataset=get_dataset(opt)\n",
    "    #am_test_dataloader=DataLoader(dataset,    num_workers=os.cpu_count(),  \n",
    "    #                       sampler=SRGNN_sampler(dataset, opt.batchSize, shuffle=False, drop_last=False)\n",
    "    #                     )\n",
    "    print(run_id)\n",
    "    metrics=trainer.test(model, {#'augmented':am_test_dataloader, \n",
    "                                 'normal':normal_test_dataloader})[0 ]\n",
    "    metrics['run_id']=run_id\n",
    "    for k,v in opt.__dict__.items():\n",
    "       metrics[k]=v\n",
    "    res_df.append(metrics)\n",
    "res_df=pd.DataFrame(res_df)\n",
    "res_df.groupby('augment_matrix')[['test_loss', 'test_hit', 'test_mrr',]].mean()"
   ]
  },
  {
   "cell_type": "markdown",
   "metadata": {},
   "source": [
    "## augmented models"
   ]
  },
  {
   "cell_type": "code",
   "execution_count": 21,
   "metadata": {},
   "outputs": [],
   "source": [
    "runs=[ \n",
    "    '9kf534bm',\n",
    "    'nbhakjb7',\n",
    "    'fmm07us9',\n",
    "    'wtqp9kti',\n",
    "    'dlnjkkym',\n",
    "    'rrqcjbjh',\n",
    "    '4kxamho0',\n",
    "    'cx8cnx7m',    \n",
    "    'seb1ybp1',    \n",
    "    'bgqjpxh8',    \n",
    "    'r8d4fcqv',    \n",
    "    'ey3bjtz5',    \n",
    "    '8npur3kf',  \n",
    "    '21wtiveg',\n",
    "    'run-20240916_191647-vyrrq40z',\n",
    "    'run-20240916_185628-j8kqiv89',\n",
    "]"
   ]
  },
  {
   "cell_type": "code",
   "execution_count": 12,
   "metadata": {},
   "outputs": [],
   "source": [
    "runs=[\n",
    "    'run-20240916_191647-vyrrq40z',\n",
    "    'run-20240916_185628-j8kqiv89',\n",
    "]"
   ]
  },
  {
   "cell_type": "code",
   "execution_count": 21,
   "metadata": {},
   "outputs": [],
   "source": [
    "### 4 times per each # gmms\n",
    "runs=['yp1n5fb3', 'naj1qrsy', 'pl1wvihn', 's7r181i0', 'fp4lprkj',\n",
    "       'yrq35hmp', 'pxgponas', '31hc2s4t', 'v94f9jmw', '9wa54kna',\n",
    "       'xbpg8ncx', 'kltkp2te', 'z7mdp78e', 'o9t9gt9v', 'qdxqwnrw',\n",
    "       '0zl3ui7x', '7jkmaij6', 'ud4ap40l', '5k1ezsql', 'zkgt4s6x',\n",
    "       'egqyw7yg', '6ixyzjk9', 'ub1h5qr3', '8iea3bxp', '8f9v8z85',\n",
    "       'f80nrp4r', 'b60x4mtc', 'm8n6p80h', '26kyds0s', '628jlwv2',\n",
    "       'dwgw5a3v', '18j6ce86', 'b5pfaja0', 'rwhslx2m', 'gt0rzzmz',\n",
    "       'xscwi8xw', 'kkpuxgtn']+['c7pzwt2z', '17uejl8y', '57zrr3vh', 'op22qkq4']+['uxt9w9tv', '1qly30ga', 'y7yqfh84', '6i71w436']"
   ]
  },
  {
   "cell_type": "code",
   "execution_count": 31,
   "metadata": {},
   "outputs": [],
   "source": [
    "runs=[\n",
    "    'run-20241002_162623-kkpuxgtn',\n",
    "    'run-20241002_160557-9ueod1xy',\n",
    "]"
   ]
  },
  {
   "cell_type": "code",
   "execution_count": 22,
   "metadata": {},
   "outputs": [
    {
     "name": "stderr",
     "output_type": "stream",
     "text": [
      "LOCAL_RANK: 0 - CUDA_VISIBLE_DEVICES: [0]\n"
     ]
    },
    {
     "name": "stdout",
     "output_type": "stream",
     "text": [
      "{'dataset': 'diginetica', 'batchSize': 100, 'hiddenSize': 100, 'epoch': 30, 'lr': 0.001, 'lr_dc': 0.1, 'lr_dc_step': 2, 'l2': 1e-06, 'step': 2, 'patience': 4, 'nonhybrid': False, 'validation': True, 'valid_portion': 0.1, 'pretrained_embedings': False, 'unfreeze_epoch': 0, 'gmm': [], 'augment_matrix': True, 'augment_clusters': False, 'augment_old_run_id': 'jxgwsuta', 'augment_clip': 0, 'augment_normalize': True, 'augment_raw': False, 'weight_init': 'normal', 'augment_categories': False, 'augment_nogmm': 128, 'augment_p': 0.5, 'augment_mean': 0.01, 'augment_std': 0.01, 'augment_gmm_init': 'k-means++', 'augment_prenormalize_distances': False, 'augment_noise_p': 0.5, 'augment_alg': 'gmm'}\n",
      "yp1n5fb3\n",
      "Testing DataLoader 0: 100%|██████████| 609/609 [00:20<00:00, 30.13it/s]\n",
      "────────────────────────────────────────────────────────────────────────────────────────────────────────────────────────\n",
      "       Test metric             DataLoader 0\n",
      "────────────────────────────────────────────────────────────────────────────────────────────────────────────────────────\n",
      "        test_hit            51.115962982177734\n",
      "        test_loss            5.498108863830566\n",
      "        test_mrr             18.0069580078125\n",
      "────────────────────────────────────────────────────────────────────────────────────────────────────────────────────────\n",
      "{'dataset': 'diginetica', 'batchSize': 100, 'hiddenSize': 100, 'epoch': 30, 'lr': 0.001, 'lr_dc': 0.1, 'lr_dc_step': 2, 'l2': 1e-06, 'step': 2, 'patience': 4, 'nonhybrid': False, 'validation': True, 'valid_portion': 0.1, 'pretrained_embedings': False, 'unfreeze_epoch': 0, 'gmm': [], 'augment_matrix': True, 'augment_clusters': False, 'augment_old_run_id': 'jxgwsuta', 'augment_clip': 0, 'augment_normalize': True, 'augment_raw': False, 'weight_init': 'normal', 'augment_categories': False, 'augment_nogmm': 64, 'augment_p': 0.5, 'augment_mean': 0.01, 'augment_std': 0.01, 'augment_gmm_init': 'k-means++', 'augment_prenormalize_distances': False, 'augment_noise_p': 0.5, 'augment_alg': 'gmm'}\n"
     ]
    },
    {
     "name": "stderr",
     "output_type": "stream",
     "text": [
      "LOCAL_RANK: 0 - CUDA_VISIBLE_DEVICES: [0]\n"
     ]
    },
    {
     "name": "stdout",
     "output_type": "stream",
     "text": [
      "naj1qrsy\n",
      "Testing DataLoader 0: 100%|██████████| 609/609 [00:19<00:00, 30.52it/s]\n",
      "────────────────────────────────────────────────────────────────────────────────────────────────────────────────────────\n",
      "       Test metric             DataLoader 0\n",
      "────────────────────────────────────────────────────────────────────────────────────────────────────────────────────────\n",
      "        test_hit             51.04846954345703\n",
      "        test_loss            5.495818138122559\n",
      "        test_mrr            18.010406494140625\n",
      "────────────────────────────────────────────────────────────────────────────────────────────────────────────────────────\n",
      "{'dataset': 'diginetica', 'batchSize': 100, 'hiddenSize': 100, 'epoch': 30, 'lr': 0.001, 'lr_dc': 0.1, 'lr_dc_step': 2, 'l2': 1e-06, 'step': 2, 'patience': 4, 'nonhybrid': False, 'validation': True, 'valid_portion': 0.1, 'pretrained_embedings': False, 'unfreeze_epoch': 0, 'gmm': [], 'augment_matrix': True, 'augment_clusters': False, 'augment_old_run_id': 'jxgwsuta', 'augment_clip': 0, 'augment_normalize': True, 'augment_raw': False, 'weight_init': 'normal', 'augment_categories': False, 'augment_nogmm': 32, 'augment_p': 0.5, 'augment_mean': 0.01, 'augment_std': 0.01, 'augment_gmm_init': 'k-means++', 'augment_prenormalize_distances': False, 'augment_noise_p': 0.5, 'augment_alg': 'gmm'}\n"
     ]
    },
    {
     "name": "stderr",
     "output_type": "stream",
     "text": [
      "LOCAL_RANK: 0 - CUDA_VISIBLE_DEVICES: [0]\n"
     ]
    },
    {
     "name": "stdout",
     "output_type": "stream",
     "text": [
      "pl1wvihn\n",
      "Testing DataLoader 0: 100%|██████████| 609/609 [00:19<00:00, 30.85it/s]\n",
      "────────────────────────────────────────────────────────────────────────────────────────────────────────────────────────\n",
      "       Test metric             DataLoader 0\n",
      "────────────────────────────────────────────────────────────────────────────────────────────────────────────────────────\n",
      "        test_hit             51.30077362060547\n",
      "        test_loss            5.480462551116943\n",
      "        test_mrr            18.113754272460938\n",
      "────────────────────────────────────────────────────────────────────────────────────────────────────────────────────────\n",
      "{'dataset': 'diginetica', 'batchSize': 100, 'hiddenSize': 100, 'epoch': 30, 'lr': 0.001, 'lr_dc': 0.1, 'lr_dc_step': 2, 'l2': 1e-06, 'step': 2, 'patience': 4, 'nonhybrid': False, 'validation': True, 'valid_portion': 0.1, 'pretrained_embedings': False, 'unfreeze_epoch': 0, 'gmm': [], 'augment_matrix': True, 'augment_clusters': False, 'augment_old_run_id': 'jxgwsuta', 'augment_clip': 0, 'augment_normalize': True, 'augment_raw': False, 'weight_init': 'normal', 'augment_categories': False, 'augment_nogmm': 16, 'augment_p': 0.5, 'augment_mean': 0.01, 'augment_std': 0.01, 'augment_gmm_init': 'k-means++', 'augment_prenormalize_distances': False, 'augment_noise_p': 0.5, 'augment_alg': 'gmm'}\n"
     ]
    },
    {
     "name": "stderr",
     "output_type": "stream",
     "text": [
      "LOCAL_RANK: 0 - CUDA_VISIBLE_DEVICES: [0]\n"
     ]
    },
    {
     "name": "stdout",
     "output_type": "stream",
     "text": [
      "s7r181i0\n",
      "Testing DataLoader 0: 100%|██████████| 609/609 [00:19<00:00, 31.03it/s]\n",
      "────────────────────────────────────────────────────────────────────────────────────────────────────────────────────────\n",
      "       Test metric             DataLoader 0\n",
      "────────────────────────────────────────────────────────────────────────────────────────────────────────────────────────\n",
      "        test_hit            50.868919372558594\n",
      "        test_loss            5.503562927246094\n",
      "        test_mrr            18.040006637573242\n",
      "────────────────────────────────────────────────────────────────────────────────────────────────────────────────────────\n",
      "{'dataset': 'diginetica', 'batchSize': 100, 'hiddenSize': 100, 'epoch': 30, 'lr': 0.001, 'lr_dc': 0.1, 'lr_dc_step': 2, 'l2': 1e-06, 'step': 2, 'patience': 4, 'nonhybrid': False, 'validation': True, 'valid_portion': 0.1, 'pretrained_embedings': False, 'unfreeze_epoch': 0, 'gmm': [], 'augment_matrix': True, 'augment_clusters': False, 'augment_old_run_id': 'jxgwsuta', 'augment_clip': 0, 'augment_normalize': True, 'augment_raw': False, 'weight_init': 'normal', 'augment_categories': False, 'augment_nogmm': 8, 'augment_p': 0.5, 'augment_mean': 0.01, 'augment_std': 0.01, 'augment_gmm_init': 'k-means++', 'augment_prenormalize_distances': False, 'augment_noise_p': 0.5, 'augment_alg': 'gmm'}\n"
     ]
    },
    {
     "name": "stderr",
     "output_type": "stream",
     "text": [
      "LOCAL_RANK: 0 - CUDA_VISIBLE_DEVICES: [0]\n"
     ]
    },
    {
     "name": "stdout",
     "output_type": "stream",
     "text": [
      "fp4lprkj\n",
      "Testing DataLoader 0: 100%|██████████| 609/609 [00:19<00:00, 30.86it/s]\n",
      "────────────────────────────────────────────────────────────────────────────────────────────────────────────────────────\n",
      "       Test metric             DataLoader 0\n",
      "────────────────────────────────────────────────────────────────────────────────────────────────────────────────────────\n",
      "        test_hit            51.053565979003906\n",
      "        test_loss            5.491194725036621\n",
      "        test_mrr             17.95117950439453\n",
      "────────────────────────────────────────────────────────────────────────────────────────────────────────────────────────\n",
      "{'dataset': 'diginetica', 'batchSize': 100, 'hiddenSize': 100, 'epoch': 30, 'lr': 0.001, 'lr_dc': 0.1, 'lr_dc_step': 2, 'l2': 1e-06, 'step': 2, 'patience': 4, 'nonhybrid': False, 'validation': True, 'valid_portion': 0.1, 'pretrained_embedings': False, 'unfreeze_epoch': 0, 'gmm': [], 'augment_matrix': True, 'augment_clusters': False, 'augment_old_run_id': 'jxgwsuta', 'augment_clip': 0, 'augment_normalize': True, 'augment_raw': False, 'weight_init': 'normal', 'augment_categories': False, 'augment_nogmm': 4, 'augment_p': 0.5, 'augment_mean': 0.01, 'augment_std': 0.01, 'augment_gmm_init': 'k-means++', 'augment_prenormalize_distances': False, 'augment_noise_p': 0.5, 'augment_alg': 'gmm'}\n"
     ]
    },
    {
     "name": "stderr",
     "output_type": "stream",
     "text": [
      "LOCAL_RANK: 0 - CUDA_VISIBLE_DEVICES: [0]\n"
     ]
    },
    {
     "name": "stdout",
     "output_type": "stream",
     "text": [
      "yrq35hmp\n",
      "Testing DataLoader 0: 100%|██████████| 609/609 [00:19<00:00, 30.54it/s]\n",
      "────────────────────────────────────────────────────────────────────────────────────────────────────────────────────────\n",
      "       Test metric             DataLoader 0\n",
      "────────────────────────────────────────────────────────────────────────────────────────────────────────────────────────\n",
      "        test_hit            50.985050201416016\n",
      "        test_loss            5.50588846206665\n",
      "        test_mrr            17.990795135498047\n",
      "────────────────────────────────────────────────────────────────────────────────────────────────────────────────────────\n",
      "{'dataset': 'diginetica', 'batchSize': 100, 'hiddenSize': 100, 'epoch': 30, 'lr': 0.001, 'lr_dc': 0.1, 'lr_dc_step': 2, 'l2': 1e-06, 'step': 2, 'patience': 4, 'nonhybrid': False, 'validation': True, 'valid_portion': 0.1, 'pretrained_embedings': False, 'unfreeze_epoch': 0, 'gmm': [], 'augment_matrix': True, 'augment_clusters': False, 'augment_old_run_id': '4dm99qnd', 'augment_clip': 0, 'augment_normalize': True, 'augment_raw': False, 'weight_init': 'normal', 'augment_categories': False, 'augment_nogmm': 128, 'augment_p': 0.5, 'augment_mean': 0.01, 'augment_std': 0.01, 'augment_gmm_init': 'k-means++', 'augment_prenormalize_distances': False, 'augment_noise_p': 0.5, 'augment_alg': 'gmm'}\n"
     ]
    },
    {
     "name": "stderr",
     "output_type": "stream",
     "text": [
      "LOCAL_RANK: 0 - CUDA_VISIBLE_DEVICES: [0]\n"
     ]
    },
    {
     "name": "stdout",
     "output_type": "stream",
     "text": [
      "pxgponas\n",
      "Testing DataLoader 0: 100%|██████████| 609/609 [00:19<00:00, 30.66it/s]\n",
      "────────────────────────────────────────────────────────────────────────────────────────────────────────────────────────\n",
      "       Test metric             DataLoader 0\n",
      "────────────────────────────────────────────────────────────────────────────────────────────────────────────────────────\n",
      "        test_hit             50.96133041381836\n",
      "        test_loss            5.500284671783447\n",
      "        test_mrr            18.010942459106445\n",
      "────────────────────────────────────────────────────────────────────────────────────────────────────────────────────────\n",
      "{'dataset': 'diginetica', 'batchSize': 100, 'hiddenSize': 100, 'epoch': 30, 'lr': 0.001, 'lr_dc': 0.1, 'lr_dc_step': 2, 'l2': 1e-06, 'step': 2, 'patience': 4, 'nonhybrid': False, 'validation': True, 'valid_portion': 0.1, 'pretrained_embedings': False, 'unfreeze_epoch': 0, 'gmm': [], 'augment_matrix': True, 'augment_clusters': False, 'augment_old_run_id': '4dm99qnd', 'augment_clip': 0, 'augment_normalize': True, 'augment_raw': False, 'weight_init': 'normal', 'augment_categories': False, 'augment_nogmm': 64, 'augment_p': 0.5, 'augment_mean': 0.01, 'augment_std': 0.01, 'augment_gmm_init': 'k-means++', 'augment_prenormalize_distances': False, 'augment_noise_p': 0.5, 'augment_alg': 'gmm'}\n"
     ]
    },
    {
     "name": "stderr",
     "output_type": "stream",
     "text": [
      "LOCAL_RANK: 0 - CUDA_VISIBLE_DEVICES: [0]\n"
     ]
    },
    {
     "name": "stdout",
     "output_type": "stream",
     "text": [
      "31hc2s4t\n",
      "Testing DataLoader 0: 100%|██████████| 609/609 [00:19<00:00, 31.04it/s]\n",
      "────────────────────────────────────────────────────────────────────────────────────────────────────────────────────────\n",
      "       Test metric             DataLoader 0\n",
      "────────────────────────────────────────────────────────────────────────────────────────────────────────────────────────\n",
      "        test_hit            51.138214111328125\n",
      "        test_loss           5.4966888427734375\n",
      "        test_mrr            17.988704681396484\n",
      "────────────────────────────────────────────────────────────────────────────────────────────────────────────────────────\n",
      "{'dataset': 'diginetica', 'batchSize': 100, 'hiddenSize': 100, 'epoch': 30, 'lr': 0.001, 'lr_dc': 0.1, 'lr_dc_step': 2, 'l2': 1e-06, 'step': 2, 'patience': 4, 'nonhybrid': False, 'validation': True, 'valid_portion': 0.1, 'pretrained_embedings': False, 'unfreeze_epoch': 0, 'gmm': [], 'augment_matrix': True, 'augment_clusters': False, 'augment_old_run_id': '4dm99qnd', 'augment_clip': 0, 'augment_normalize': True, 'augment_raw': False, 'weight_init': 'normal', 'augment_categories': False, 'augment_nogmm': 32, 'augment_p': 0.5, 'augment_mean': 0.01, 'augment_std': 0.01, 'augment_gmm_init': 'k-means++', 'augment_prenormalize_distances': False, 'augment_noise_p': 0.5, 'augment_alg': 'gmm'}\n"
     ]
    },
    {
     "name": "stderr",
     "output_type": "stream",
     "text": [
      "LOCAL_RANK: 0 - CUDA_VISIBLE_DEVICES: [0]\n"
     ]
    },
    {
     "name": "stdout",
     "output_type": "stream",
     "text": [
      "v94f9jmw\n",
      "Testing DataLoader 0: 100%|██████████| 609/609 [00:19<00:00, 30.79it/s]\n",
      "────────────────────────────────────────────────────────────────────────────────────────────────────────────────────────\n",
      "       Test metric             DataLoader 0\n",
      "────────────────────────────────────────────────────────────────────────────────────────────────────────────────────────\n",
      "        test_hit             50.93013000488281\n",
      "        test_loss            5.506217002868652\n",
      "        test_mrr            18.019054412841797\n",
      "────────────────────────────────────────────────────────────────────────────────────────────────────────────────────────\n",
      "{'dataset': 'diginetica', 'batchSize': 100, 'hiddenSize': 100, 'epoch': 30, 'lr': 0.001, 'lr_dc': 0.1, 'lr_dc_step': 2, 'l2': 1e-06, 'step': 2, 'patience': 4, 'nonhybrid': False, 'validation': True, 'valid_portion': 0.1, 'pretrained_embedings': False, 'unfreeze_epoch': 0, 'gmm': [], 'augment_matrix': True, 'augment_clusters': False, 'augment_old_run_id': '4dm99qnd', 'augment_clip': 0, 'augment_normalize': True, 'augment_raw': False, 'weight_init': 'normal', 'augment_categories': False, 'augment_nogmm': 16, 'augment_p': 0.5, 'augment_mean': 0.01, 'augment_std': 0.01, 'augment_gmm_init': 'k-means++', 'augment_prenormalize_distances': False, 'augment_noise_p': 0.5, 'augment_alg': 'gmm'}\n"
     ]
    },
    {
     "name": "stderr",
     "output_type": "stream",
     "text": [
      "LOCAL_RANK: 0 - CUDA_VISIBLE_DEVICES: [0]\n"
     ]
    },
    {
     "name": "stdout",
     "output_type": "stream",
     "text": [
      "9wa54kna\n",
      "Testing DataLoader 0: 100%|██████████| 609/609 [00:19<00:00, 31.25it/s]\n",
      "────────────────────────────────────────────────────────────────────────────────────────────────────────────────────────\n",
      "       Test metric             DataLoader 0\n",
      "────────────────────────────────────────────────────────────────────────────────────────────────────────────────────────\n",
      "        test_hit             50.93205642700195\n",
      "        test_loss            5.494093894958496\n",
      "        test_mrr            17.878902435302734\n",
      "────────────────────────────────────────────────────────────────────────────────────────────────────────────────────────\n",
      "{'dataset': 'diginetica', 'batchSize': 100, 'hiddenSize': 100, 'epoch': 30, 'lr': 0.001, 'lr_dc': 0.1, 'lr_dc_step': 2, 'l2': 1e-06, 'step': 2, 'patience': 4, 'nonhybrid': False, 'validation': True, 'valid_portion': 0.1, 'pretrained_embedings': False, 'unfreeze_epoch': 0, 'gmm': [], 'augment_matrix': True, 'augment_clusters': False, 'augment_old_run_id': '4dm99qnd', 'augment_clip': 0, 'augment_normalize': True, 'augment_raw': False, 'weight_init': 'normal', 'augment_categories': False, 'augment_nogmm': 8, 'augment_p': 0.5, 'augment_mean': 0.01, 'augment_std': 0.01, 'augment_gmm_init': 'k-means++', 'augment_prenormalize_distances': False, 'augment_noise_p': 0.5, 'augment_alg': 'gmm'}\n"
     ]
    },
    {
     "name": "stderr",
     "output_type": "stream",
     "text": [
      "LOCAL_RANK: 0 - CUDA_VISIBLE_DEVICES: [0]\n"
     ]
    },
    {
     "name": "stdout",
     "output_type": "stream",
     "text": [
      "xbpg8ncx\n",
      "Testing DataLoader 0: 100%|██████████| 609/609 [00:19<00:00, 30.87it/s]\n",
      "────────────────────────────────────────────────────────────────────────────────────────────────────────────────────────\n",
      "       Test metric             DataLoader 0\n",
      "────────────────────────────────────────────────────────────────────────────────────────────────────────────────────────\n",
      "        test_hit             51.15016174316406\n",
      "        test_loss           5.4890546798706055\n",
      "        test_mrr             18.0369873046875\n",
      "────────────────────────────────────────────────────────────────────────────────────────────────────────────────────────\n",
      "{'dataset': 'diginetica', 'batchSize': 100, 'hiddenSize': 100, 'epoch': 30, 'lr': 0.001, 'lr_dc': 0.1, 'lr_dc_step': 2, 'l2': 1e-06, 'step': 2, 'patience': 4, 'nonhybrid': False, 'validation': True, 'valid_portion': 0.1, 'pretrained_embedings': False, 'unfreeze_epoch': 0, 'gmm': [], 'augment_matrix': True, 'augment_clusters': False, 'augment_old_run_id': '4dm99qnd', 'augment_clip': 0, 'augment_normalize': True, 'augment_raw': False, 'weight_init': 'normal', 'augment_categories': False, 'augment_nogmm': 4, 'augment_p': 0.5, 'augment_mean': 0.01, 'augment_std': 0.01, 'augment_gmm_init': 'k-means++', 'augment_prenormalize_distances': False, 'augment_noise_p': 0.5, 'augment_alg': 'gmm'}\n"
     ]
    },
    {
     "name": "stderr",
     "output_type": "stream",
     "text": [
      "LOCAL_RANK: 0 - CUDA_VISIBLE_DEVICES: [0]\n"
     ]
    },
    {
     "name": "stdout",
     "output_type": "stream",
     "text": [
      "kltkp2te\n",
      "Testing DataLoader 0: 100%|██████████| 609/609 [00:19<00:00, 31.16it/s]\n",
      "────────────────────────────────────────────────────────────────────────────────────────────────────────────────────────\n",
      "       Test metric             DataLoader 0\n",
      "────────────────────────────────────────────────────────────────────────────────────────────────────────────────────────\n",
      "        test_hit            51.045806884765625\n",
      "        test_loss           5.5018439292907715\n",
      "        test_mrr             18.07237434387207\n",
      "────────────────────────────────────────────────────────────────────────────────────────────────────────────────────────\n",
      "{'dataset': 'diginetica', 'batchSize': 100, 'hiddenSize': 100, 'epoch': 30, 'lr': 0.001, 'lr_dc': 0.1, 'lr_dc_step': 2, 'l2': 1e-06, 'step': 2, 'patience': 4, 'nonhybrid': False, 'validation': True, 'valid_portion': 0.1, 'pretrained_embedings': False, 'unfreeze_epoch': 0, 'gmm': [], 'augment_matrix': True, 'augment_clusters': False, 'augment_old_run_id': 'jxgwsuta', 'augment_clip': 0, 'augment_normalize': True, 'augment_raw': False, 'weight_init': 'normal', 'augment_categories': False, 'augment_nogmm': 128, 'augment_p': 0.5, 'augment_mean': 0.01, 'augment_std': 0.01, 'augment_gmm_init': 'k-means++', 'augment_prenormalize_distances': False, 'augment_noise_p': 0.5, 'augment_alg': 'gmm'}\n",
      "z7mdp78e\n"
     ]
    },
    {
     "name": "stderr",
     "output_type": "stream",
     "text": [
      "LOCAL_RANK: 0 - CUDA_VISIBLE_DEVICES: [0]\n"
     ]
    },
    {
     "name": "stdout",
     "output_type": "stream",
     "text": [
      "Testing DataLoader 0: 100%|██████████| 609/609 [00:19<00:00, 31.13it/s]\n",
      "────────────────────────────────────────────────────────────────────────────────────────────────────────────────────────\n",
      "       Test metric             DataLoader 0\n",
      "────────────────────────────────────────────────────────────────────────────────────────────────────────────────────────\n",
      "        test_hit             51.0917854309082\n",
      "        test_loss            5.489565849304199\n",
      "        test_mrr             18.0550594329834\n",
      "────────────────────────────────────────────────────────────────────────────────────────────────────────────────────────\n",
      "{'dataset': 'diginetica', 'batchSize': 100, 'hiddenSize': 100, 'epoch': 30, 'lr': 0.001, 'lr_dc': 0.1, 'lr_dc_step': 2, 'l2': 1e-06, 'step': 2, 'patience': 4, 'nonhybrid': False, 'validation': True, 'valid_portion': 0.1, 'pretrained_embedings': False, 'unfreeze_epoch': 0, 'gmm': [], 'augment_matrix': True, 'augment_clusters': False, 'augment_old_run_id': 'jxgwsuta', 'augment_clip': 0, 'augment_normalize': True, 'augment_raw': False, 'weight_init': 'normal', 'augment_categories': False, 'augment_nogmm': 64, 'augment_p': 0.5, 'augment_mean': 0.01, 'augment_std': 0.01, 'augment_gmm_init': 'k-means++', 'augment_prenormalize_distances': False, 'augment_noise_p': 0.5, 'augment_alg': 'gmm'}\n"
     ]
    },
    {
     "name": "stderr",
     "output_type": "stream",
     "text": [
      "LOCAL_RANK: 0 - CUDA_VISIBLE_DEVICES: [0]\n"
     ]
    },
    {
     "name": "stdout",
     "output_type": "stream",
     "text": [
      "o9t9gt9v\n",
      "Testing DataLoader 0: 100%|██████████| 609/609 [00:19<00:00, 31.01it/s]\n",
      "────────────────────────────────────────────────────────────────────────────────────────────────────────────────────────\n",
      "       Test metric             DataLoader 0\n",
      "────────────────────────────────────────────────────────────────────────────────────────────────────────────────────────\n",
      "        test_hit             50.8816032409668\n",
      "        test_loss            5.507044315338135\n",
      "        test_mrr            17.952159881591797\n",
      "────────────────────────────────────────────────────────────────────────────────────────────────────────────────────────\n",
      "{'dataset': 'diginetica', 'batchSize': 100, 'hiddenSize': 100, 'epoch': 30, 'lr': 0.001, 'lr_dc': 0.1, 'lr_dc_step': 2, 'l2': 1e-06, 'step': 2, 'patience': 4, 'nonhybrid': False, 'validation': True, 'valid_portion': 0.1, 'pretrained_embedings': False, 'unfreeze_epoch': 0, 'gmm': [], 'augment_matrix': True, 'augment_clusters': False, 'augment_old_run_id': 'jxgwsuta', 'augment_clip': 0, 'augment_normalize': True, 'augment_raw': False, 'weight_init': 'normal', 'augment_categories': False, 'augment_nogmm': 32, 'augment_p': 0.5, 'augment_mean': 0.01, 'augment_std': 0.01, 'augment_gmm_init': 'k-means++', 'augment_prenormalize_distances': False, 'augment_noise_p': 0.5, 'augment_alg': 'gmm'}\n"
     ]
    },
    {
     "name": "stderr",
     "output_type": "stream",
     "text": [
      "LOCAL_RANK: 0 - CUDA_VISIBLE_DEVICES: [0]\n"
     ]
    },
    {
     "name": "stdout",
     "output_type": "stream",
     "text": [
      "qdxqwnrw\n",
      "Testing DataLoader 0: 100%|██████████| 609/609 [00:19<00:00, 31.01it/s]\n",
      "────────────────────────────────────────────────────────────────────────────────────────────────────────────────────────\n",
      "       Test metric             DataLoader 0\n",
      "────────────────────────────────────────────────────────────────────────────────────────────────────────────────────────\n",
      "        test_hit             51.01551818847656\n",
      "        test_loss            5.491670608520508\n",
      "        test_mrr            17.979694366455078\n",
      "────────────────────────────────────────────────────────────────────────────────────────────────────────────────────────\n",
      "{'dataset': 'diginetica', 'batchSize': 100, 'hiddenSize': 100, 'epoch': 30, 'lr': 0.001, 'lr_dc': 0.1, 'lr_dc_step': 2, 'l2': 1e-06, 'step': 2, 'patience': 4, 'nonhybrid': False, 'validation': True, 'valid_portion': 0.1, 'pretrained_embedings': False, 'unfreeze_epoch': 0, 'gmm': [], 'augment_matrix': True, 'augment_clusters': False, 'augment_old_run_id': 'jxgwsuta', 'augment_clip': 0, 'augment_normalize': True, 'augment_raw': False, 'weight_init': 'normal', 'augment_categories': False, 'augment_nogmm': 16, 'augment_p': 0.5, 'augment_mean': 0.01, 'augment_std': 0.01, 'augment_gmm_init': 'k-means++', 'augment_prenormalize_distances': False, 'augment_noise_p': 0.5, 'augment_alg': 'gmm'}\n"
     ]
    },
    {
     "name": "stderr",
     "output_type": "stream",
     "text": [
      "LOCAL_RANK: 0 - CUDA_VISIBLE_DEVICES: [0]\n"
     ]
    },
    {
     "name": "stdout",
     "output_type": "stream",
     "text": [
      "0zl3ui7x\n",
      "Testing DataLoader 0: 100%|██████████| 609/609 [00:19<00:00, 31.35it/s]\n",
      "────────────────────────────────────────────────────────────────────────────────────────────────────────────────────────\n",
      "       Test metric             DataLoader 0\n",
      "────────────────────────────────────────────────────────────────────────────────────────────────────────────────────────\n",
      "        test_hit             50.9701042175293\n",
      "        test_loss            5.498654365539551\n",
      "        test_mrr            17.954479217529297\n",
      "────────────────────────────────────────────────────────────────────────────────────────────────────────────────────────\n",
      "{'dataset': 'diginetica', 'batchSize': 100, 'hiddenSize': 100, 'epoch': 30, 'lr': 0.001, 'lr_dc': 0.1, 'lr_dc_step': 2, 'l2': 1e-06, 'step': 2, 'patience': 4, 'nonhybrid': False, 'validation': True, 'valid_portion': 0.1, 'pretrained_embedings': False, 'unfreeze_epoch': 0, 'gmm': [], 'augment_matrix': True, 'augment_clusters': False, 'augment_old_run_id': 'jxgwsuta', 'augment_clip': 0, 'augment_normalize': True, 'augment_raw': False, 'weight_init': 'normal', 'augment_categories': False, 'augment_nogmm': 8, 'augment_p': 0.5, 'augment_mean': 0.01, 'augment_std': 0.01, 'augment_gmm_init': 'k-means++', 'augment_prenormalize_distances': False, 'augment_noise_p': 0.5, 'augment_alg': 'gmm'}\n"
     ]
    },
    {
     "name": "stderr",
     "output_type": "stream",
     "text": [
      "LOCAL_RANK: 0 - CUDA_VISIBLE_DEVICES: [0]\n"
     ]
    },
    {
     "name": "stdout",
     "output_type": "stream",
     "text": [
      "7jkmaij6\n",
      "Testing DataLoader 0: 100%|██████████| 609/609 [00:19<00:00, 31.03it/s]\n",
      "────────────────────────────────────────────────────────────────────────────────────────────────────────────────────────\n",
      "       Test metric             DataLoader 0\n",
      "────────────────────────────────────────────────────────────────────────────────────────────────────────────────────────\n",
      "        test_hit            51.151634216308594\n",
      "        test_loss            5.496679782867432\n",
      "        test_mrr            18.045398712158203\n",
      "────────────────────────────────────────────────────────────────────────────────────────────────────────────────────────\n",
      "{'dataset': 'diginetica', 'batchSize': 100, 'hiddenSize': 100, 'epoch': 30, 'lr': 0.001, 'lr_dc': 0.1, 'lr_dc_step': 2, 'l2': 1e-06, 'step': 2, 'patience': 4, 'nonhybrid': False, 'validation': True, 'valid_portion': 0.1, 'pretrained_embedings': False, 'unfreeze_epoch': 0, 'gmm': [], 'augment_matrix': True, 'augment_clusters': False, 'augment_old_run_id': 'jxgwsuta', 'augment_clip': 0, 'augment_normalize': True, 'augment_raw': False, 'weight_init': 'normal', 'augment_categories': False, 'augment_nogmm': 4, 'augment_p': 0.5, 'augment_mean': 0.01, 'augment_std': 0.01, 'augment_gmm_init': 'k-means++', 'augment_prenormalize_distances': False, 'augment_noise_p': 0.5, 'augment_alg': 'gmm'}\n"
     ]
    },
    {
     "name": "stderr",
     "output_type": "stream",
     "text": [
      "LOCAL_RANK: 0 - CUDA_VISIBLE_DEVICES: [0]\n"
     ]
    },
    {
     "name": "stdout",
     "output_type": "stream",
     "text": [
      "ud4ap40l\n",
      "Testing DataLoader 0: 100%|██████████| 609/609 [00:19<00:00, 30.95it/s]\n",
      "────────────────────────────────────────────────────────────────────────────────────────────────────────────────────────\n",
      "       Test metric             DataLoader 0\n",
      "────────────────────────────────────────────────────────────────────────────────────────────────────────────────────────\n",
      "        test_hit             51.1300048828125\n",
      "        test_loss            5.490065097808838\n",
      "        test_mrr            18.040489196777344\n",
      "────────────────────────────────────────────────────────────────────────────────────────────────────────────────────────\n",
      "{'dataset': 'diginetica', 'batchSize': 100, 'hiddenSize': 100, 'epoch': 30, 'lr': 0.001, 'lr_dc': 0.1, 'lr_dc_step': 2, 'l2': 1e-06, 'step': 2, 'patience': 4, 'nonhybrid': False, 'validation': True, 'valid_portion': 0.1, 'pretrained_embedings': False, 'unfreeze_epoch': 0, 'gmm': [], 'augment_matrix': True, 'augment_clusters': False, 'augment_old_run_id': '4dm99qnd', 'augment_clip': 0, 'augment_normalize': True, 'augment_raw': False, 'weight_init': 'normal', 'augment_categories': False, 'augment_nogmm': 128, 'augment_p': 0.5, 'augment_mean': 0.01, 'augment_std': 0.01, 'augment_gmm_init': 'k-means++', 'augment_prenormalize_distances': False, 'augment_noise_p': 0.5, 'augment_alg': 'gmm'}\n"
     ]
    },
    {
     "name": "stderr",
     "output_type": "stream",
     "text": [
      "LOCAL_RANK: 0 - CUDA_VISIBLE_DEVICES: [0]\n"
     ]
    },
    {
     "name": "stdout",
     "output_type": "stream",
     "text": [
      "5k1ezsql\n",
      "Testing DataLoader 0: 100%|██████████| 609/609 [00:19<00:00, 30.77it/s]\n",
      "────────────────────────────────────────────────────────────────────────────────────────────────────────────────────────\n",
      "       Test metric             DataLoader 0\n",
      "────────────────────────────────────────────────────────────────────────────────────────────────────────────────────────\n",
      "        test_hit             51.21165466308594\n",
      "        test_loss            5.490223407745361\n",
      "        test_mrr             18.0040340423584\n",
      "────────────────────────────────────────────────────────────────────────────────────────────────────────────────────────\n",
      "{'dataset': 'diginetica', 'batchSize': 100, 'hiddenSize': 100, 'epoch': 30, 'lr': 0.001, 'lr_dc': 0.1, 'lr_dc_step': 2, 'l2': 1e-06, 'step': 2, 'patience': 4, 'nonhybrid': False, 'validation': True, 'valid_portion': 0.1, 'pretrained_embedings': False, 'unfreeze_epoch': 0, 'gmm': [], 'augment_matrix': True, 'augment_clusters': False, 'augment_old_run_id': '4dm99qnd', 'augment_clip': 0, 'augment_normalize': True, 'augment_raw': False, 'weight_init': 'normal', 'augment_categories': False, 'augment_nogmm': 64, 'augment_p': 0.5, 'augment_mean': 0.01, 'augment_std': 0.01, 'augment_gmm_init': 'k-means++', 'augment_prenormalize_distances': False, 'augment_noise_p': 0.5, 'augment_alg': 'gmm'}\n"
     ]
    },
    {
     "name": "stderr",
     "output_type": "stream",
     "text": [
      "LOCAL_RANK: 0 - CUDA_VISIBLE_DEVICES: [0]\n"
     ]
    },
    {
     "name": "stdout",
     "output_type": "stream",
     "text": [
      "zkgt4s6x\n",
      "Testing DataLoader 0: 100%|██████████| 609/609 [00:19<00:00, 30.47it/s]\n",
      "────────────────────────────────────────────────────────────────────────────────────────────────────────────────────────\n",
      "       Test metric             DataLoader 0\n",
      "────────────────────────────────────────────────────────────────────────────────────────────────────────────────────────\n",
      "        test_hit             51.1426887512207\n",
      "        test_loss            5.497321605682373\n",
      "        test_mrr            17.958505630493164\n",
      "────────────────────────────────────────────────────────────────────────────────────────────────────────────────────────\n",
      "{'dataset': 'diginetica', 'batchSize': 100, 'hiddenSize': 100, 'epoch': 30, 'lr': 0.001, 'lr_dc': 0.1, 'lr_dc_step': 2, 'l2': 1e-06, 'step': 2, 'patience': 4, 'nonhybrid': False, 'validation': True, 'valid_portion': 0.1, 'pretrained_embedings': False, 'unfreeze_epoch': 0, 'gmm': [], 'augment_matrix': True, 'augment_clusters': False, 'augment_old_run_id': '4dm99qnd', 'augment_clip': 0, 'augment_normalize': True, 'augment_raw': False, 'weight_init': 'normal', 'augment_categories': False, 'augment_nogmm': 32, 'augment_p': 0.5, 'augment_mean': 0.01, 'augment_std': 0.01, 'augment_gmm_init': 'k-means++', 'augment_prenormalize_distances': False, 'augment_noise_p': 0.5, 'augment_alg': 'gmm'}\n"
     ]
    },
    {
     "name": "stderr",
     "output_type": "stream",
     "text": [
      "LOCAL_RANK: 0 - CUDA_VISIBLE_DEVICES: [0]\n"
     ]
    },
    {
     "name": "stdout",
     "output_type": "stream",
     "text": [
      "egqyw7yg\n",
      "Testing DataLoader 0: 100%|██████████| 609/609 [00:19<00:00, 30.62it/s]\n",
      "────────────────────────────────────────────────────────────────────────────────────────────────────────────────────────\n",
      "       Test metric             DataLoader 0\n",
      "────────────────────────────────────────────────────────────────────────────────────────────────────────────────────────\n",
      "        test_hit             50.92803192138672\n",
      "        test_loss            5.503471374511719\n",
      "        test_mrr            17.961885452270508\n",
      "────────────────────────────────────────────────────────────────────────────────────────────────────────────────────────\n",
      "{'dataset': 'diginetica', 'batchSize': 100, 'hiddenSize': 100, 'epoch': 30, 'lr': 0.001, 'lr_dc': 0.1, 'lr_dc_step': 2, 'l2': 1e-06, 'step': 2, 'patience': 4, 'nonhybrid': False, 'validation': True, 'valid_portion': 0.1, 'pretrained_embedings': False, 'unfreeze_epoch': 0, 'gmm': [], 'augment_matrix': True, 'augment_clusters': False, 'augment_old_run_id': '4dm99qnd', 'augment_clip': 0, 'augment_normalize': True, 'augment_raw': False, 'weight_init': 'normal', 'augment_categories': False, 'augment_nogmm': 16, 'augment_p': 0.5, 'augment_mean': 0.01, 'augment_std': 0.01, 'augment_gmm_init': 'k-means++', 'augment_prenormalize_distances': False, 'augment_noise_p': 0.5, 'augment_alg': 'gmm'}\n",
      "6ixyzjk9\n"
     ]
    },
    {
     "name": "stderr",
     "output_type": "stream",
     "text": [
      "LOCAL_RANK: 0 - CUDA_VISIBLE_DEVICES: [0]\n"
     ]
    },
    {
     "name": "stdout",
     "output_type": "stream",
     "text": [
      "Testing DataLoader 0: 100%|██████████| 609/609 [00:19<00:00, 30.71it/s]\n",
      "────────────────────────────────────────────────────────────────────────────────────────────────────────────────────────\n",
      "       Test metric             DataLoader 0\n",
      "────────────────────────────────────────────────────────────────────────────────────────────────────────────────────────\n",
      "        test_hit            51.010135650634766\n",
      "        test_loss            5.503054618835449\n",
      "        test_mrr            17.945274353027344\n",
      "────────────────────────────────────────────────────────────────────────────────────────────────────────────────────────\n",
      "{'dataset': 'diginetica', 'batchSize': 100, 'hiddenSize': 100, 'epoch': 30, 'lr': 0.001, 'lr_dc': 0.1, 'lr_dc_step': 2, 'l2': 1e-06, 'step': 2, 'patience': 4, 'nonhybrid': False, 'validation': True, 'valid_portion': 0.1, 'pretrained_embedings': False, 'unfreeze_epoch': 0, 'gmm': [], 'augment_matrix': True, 'augment_clusters': False, 'augment_old_run_id': '4dm99qnd', 'augment_clip': 0, 'augment_normalize': True, 'augment_raw': False, 'weight_init': 'normal', 'augment_categories': False, 'augment_nogmm': 8, 'augment_p': 0.5, 'augment_mean': 0.01, 'augment_std': 0.01, 'augment_gmm_init': 'k-means++', 'augment_prenormalize_distances': False, 'augment_noise_p': 0.5, 'augment_alg': 'gmm'}\n"
     ]
    },
    {
     "name": "stderr",
     "output_type": "stream",
     "text": [
      "LOCAL_RANK: 0 - CUDA_VISIBLE_DEVICES: [0]\n"
     ]
    },
    {
     "name": "stdout",
     "output_type": "stream",
     "text": [
      "ub1h5qr3\n",
      "Testing DataLoader 0: 100%|██████████| 609/609 [00:20<00:00, 30.43it/s]\n",
      "────────────────────────────────────────────────────────────────────────────────────────────────────────────────────────\n",
      "       Test metric             DataLoader 0\n",
      "────────────────────────────────────────────────────────────────────────────────────────────────────────────────────────\n",
      "        test_hit             51.33480453491211\n",
      "        test_loss            5.497160911560059\n",
      "        test_mrr            18.090160369873047\n",
      "────────────────────────────────────────────────────────────────────────────────────────────────────────────────────────\n",
      "{'dataset': 'diginetica', 'batchSize': 100, 'hiddenSize': 100, 'epoch': 30, 'lr': 0.001, 'lr_dc': 0.1, 'lr_dc_step': 2, 'l2': 1e-06, 'step': 2, 'patience': 4, 'nonhybrid': False, 'validation': True, 'valid_portion': 0.1, 'pretrained_embedings': False, 'unfreeze_epoch': 0, 'gmm': [], 'augment_matrix': True, 'augment_clusters': False, 'augment_old_run_id': '4dm99qnd', 'augment_clip': 0, 'augment_normalize': True, 'augment_raw': False, 'weight_init': 'normal', 'augment_categories': False, 'augment_nogmm': 4, 'augment_p': 0.5, 'augment_mean': 0.01, 'augment_std': 0.01, 'augment_gmm_init': 'k-means++', 'augment_prenormalize_distances': False, 'augment_noise_p': 0.5, 'augment_alg': 'gmm'}\n"
     ]
    },
    {
     "name": "stderr",
     "output_type": "stream",
     "text": [
      "LOCAL_RANK: 0 - CUDA_VISIBLE_DEVICES: [0]\n"
     ]
    },
    {
     "name": "stdout",
     "output_type": "stream",
     "text": [
      "8iea3bxp\n",
      "Testing DataLoader 0: 100%|██████████| 609/609 [00:19<00:00, 30.48it/s]\n",
      "────────────────────────────────────────────────────────────────────────────────────────────────────────────────────────\n",
      "       Test metric             DataLoader 0\n",
      "────────────────────────────────────────────────────────────────────────────────────────────────────────────────────────\n",
      "        test_hit             51.10565948486328\n",
      "        test_loss            5.498854637145996\n",
      "        test_mrr            17.992856979370117\n",
      "────────────────────────────────────────────────────────────────────────────────────────────────────────────────────────\n",
      "{'dataset': 'diginetica', 'batchSize': 100, 'hiddenSize': 100, 'epoch': 30, 'lr': 0.001, 'lr_dc': 0.1, 'lr_dc_step': 2, 'l2': 1e-06, 'step': 2, 'patience': 4, 'nonhybrid': False, 'validation': True, 'valid_portion': 0.1, 'pretrained_embedings': False, 'unfreeze_epoch': 0, 'gmm': [], 'augment_matrix': True, 'augment_clusters': False, 'augment_old_run_id': '3abge2uq', 'augment_clip': 0, 'augment_normalize': True, 'augment_raw': False, 'weight_init': 'normal', 'augment_categories': False, 'augment_nogmm': 128, 'augment_p': 0.5, 'augment_mean': 0.01, 'augment_std': 0.01, 'augment_gmm_init': 'k-means++', 'augment_prenormalize_distances': False, 'augment_noise_p': 0.5, 'augment_alg': 'gmm'}\n"
     ]
    },
    {
     "name": "stderr",
     "output_type": "stream",
     "text": [
      "LOCAL_RANK: 0 - CUDA_VISIBLE_DEVICES: [0]\n"
     ]
    },
    {
     "name": "stdout",
     "output_type": "stream",
     "text": [
      "8f9v8z85\n",
      "Testing DataLoader 0: 100%|██████████| 609/609 [00:19<00:00, 30.74it/s]\n",
      "────────────────────────────────────────────────────────────────────────────────────────────────────────────────────────\n",
      "       Test metric             DataLoader 0\n",
      "────────────────────────────────────────────────────────────────────────────────────────────────────────────────────────\n",
      "        test_hit             50.9866943359375\n",
      "        test_loss            5.496711730957031\n",
      "        test_mrr             18.06210708618164\n",
      "────────────────────────────────────────────────────────────────────────────────────────────────────────────────────────\n",
      "{'dataset': 'diginetica', 'batchSize': 100, 'hiddenSize': 100, 'epoch': 30, 'lr': 0.001, 'lr_dc': 0.1, 'lr_dc_step': 2, 'l2': 1e-06, 'step': 2, 'patience': 4, 'nonhybrid': False, 'validation': True, 'valid_portion': 0.1, 'pretrained_embedings': False, 'unfreeze_epoch': 0, 'gmm': [], 'augment_matrix': True, 'augment_clusters': False, 'augment_old_run_id': '3abge2uq', 'augment_clip': 0, 'augment_normalize': True, 'augment_raw': False, 'weight_init': 'normal', 'augment_categories': False, 'augment_nogmm': 64, 'augment_p': 0.5, 'augment_mean': 0.01, 'augment_std': 0.01, 'augment_gmm_init': 'k-means++', 'augment_prenormalize_distances': False, 'augment_noise_p': 0.5, 'augment_alg': 'gmm'}\n"
     ]
    },
    {
     "name": "stderr",
     "output_type": "stream",
     "text": [
      "LOCAL_RANK: 0 - CUDA_VISIBLE_DEVICES: [0]\n"
     ]
    },
    {
     "name": "stdout",
     "output_type": "stream",
     "text": [
      "f80nrp4r\n",
      "Testing DataLoader 0: 100%|██████████| 609/609 [00:19<00:00, 30.53it/s]\n",
      "────────────────────────────────────────────────────────────────────────────────────────────────────────────────────────\n",
      "       Test metric             DataLoader 0\n",
      "────────────────────────────────────────────────────────────────────────────────────────────────────────────────────────\n",
      "        test_hit             51.09387969970703\n",
      "        test_loss            5.508236885070801\n",
      "        test_mrr            18.020320892333984\n",
      "────────────────────────────────────────────────────────────────────────────────────────────────────────────────────────\n",
      "{'dataset': 'diginetica', 'batchSize': 100, 'hiddenSize': 100, 'epoch': 30, 'lr': 0.001, 'lr_dc': 0.1, 'lr_dc_step': 2, 'l2': 1e-06, 'step': 2, 'patience': 4, 'nonhybrid': False, 'validation': True, 'valid_portion': 0.1, 'pretrained_embedings': False, 'unfreeze_epoch': 0, 'gmm': [], 'augment_matrix': True, 'augment_clusters': False, 'augment_old_run_id': '3abge2uq', 'augment_clip': 0, 'augment_normalize': True, 'augment_raw': False, 'weight_init': 'normal', 'augment_categories': False, 'augment_nogmm': 32, 'augment_p': 0.5, 'augment_mean': 0.01, 'augment_std': 0.01, 'augment_gmm_init': 'k-means++', 'augment_prenormalize_distances': False, 'augment_noise_p': 0.5, 'augment_alg': 'gmm'}\n"
     ]
    },
    {
     "name": "stderr",
     "output_type": "stream",
     "text": [
      "LOCAL_RANK: 0 - CUDA_VISIBLE_DEVICES: [0]\n"
     ]
    },
    {
     "name": "stdout",
     "output_type": "stream",
     "text": [
      "b60x4mtc\n",
      "Testing DataLoader 0: 100%|██████████| 609/609 [00:19<00:00, 30.96it/s]\n",
      "────────────────────────────────────────────────────────────────────────────────────────────────────────────────────────\n",
      "       Test metric             DataLoader 0\n",
      "────────────────────────────────────────────────────────────────────────────────────────────────────────────────────────\n",
      "        test_hit             51.26091384887695\n",
      "        test_loss            5.493802547454834\n",
      "        test_mrr             18.04354476928711\n",
      "────────────────────────────────────────────────────────────────────────────────────────────────────────────────────────\n",
      "{'dataset': 'diginetica', 'batchSize': 100, 'hiddenSize': 100, 'epoch': 30, 'lr': 0.001, 'lr_dc': 0.1, 'lr_dc_step': 2, 'l2': 1e-06, 'step': 2, 'patience': 4, 'nonhybrid': False, 'validation': True, 'valid_portion': 0.1, 'pretrained_embedings': False, 'unfreeze_epoch': 0, 'gmm': [], 'augment_matrix': True, 'augment_clusters': False, 'augment_old_run_id': '3abge2uq', 'augment_clip': 0, 'augment_normalize': True, 'augment_raw': False, 'weight_init': 'normal', 'augment_categories': False, 'augment_nogmm': 16, 'augment_p': 0.5, 'augment_mean': 0.01, 'augment_std': 0.01, 'augment_gmm_init': 'k-means++', 'augment_prenormalize_distances': False, 'augment_noise_p': 0.5, 'augment_alg': 'gmm'}\n"
     ]
    },
    {
     "name": "stderr",
     "output_type": "stream",
     "text": [
      "LOCAL_RANK: 0 - CUDA_VISIBLE_DEVICES: [0]\n"
     ]
    },
    {
     "name": "stdout",
     "output_type": "stream",
     "text": [
      "m8n6p80h\n",
      "Testing DataLoader 0: 100%|██████████| 609/609 [00:19<00:00, 30.85it/s]\n",
      "────────────────────────────────────────────────────────────────────────────────────────────────────────────────────────\n",
      "       Test metric             DataLoader 0\n",
      "────────────────────────────────────────────────────────────────────────────────────────────────────────────────────────\n",
      "        test_hit            51.219295501708984\n",
      "        test_loss           5.4952311515808105\n",
      "        test_mrr            18.068702697753906\n",
      "────────────────────────────────────────────────────────────────────────────────────────────────────────────────────────\n",
      "{'dataset': 'diginetica', 'batchSize': 100, 'hiddenSize': 100, 'epoch': 30, 'lr': 0.001, 'lr_dc': 0.1, 'lr_dc_step': 2, 'l2': 1e-06, 'step': 2, 'patience': 4, 'nonhybrid': False, 'validation': True, 'valid_portion': 0.1, 'pretrained_embedings': False, 'unfreeze_epoch': 0, 'gmm': [], 'augment_matrix': True, 'augment_clusters': False, 'augment_old_run_id': '3abge2uq', 'augment_clip': 0, 'augment_normalize': True, 'augment_raw': False, 'weight_init': 'normal', 'augment_categories': False, 'augment_nogmm': 8, 'augment_p': 0.5, 'augment_mean': 0.01, 'augment_std': 0.01, 'augment_gmm_init': 'k-means++', 'augment_prenormalize_distances': False, 'augment_noise_p': 0.5, 'augment_alg': 'gmm'}\n"
     ]
    },
    {
     "name": "stderr",
     "output_type": "stream",
     "text": [
      "LOCAL_RANK: 0 - CUDA_VISIBLE_DEVICES: [0]\n"
     ]
    },
    {
     "name": "stdout",
     "output_type": "stream",
     "text": [
      "26kyds0s\n",
      "Testing DataLoader 0: 100%|██████████| 609/609 [00:19<00:00, 30.90it/s]\n",
      "────────────────────────────────────────────────────────────────────────────────────────────────────────────────────────\n",
      "       Test metric             DataLoader 0\n",
      "────────────────────────────────────────────────────────────────────────────────────────────────────────────────────────\n",
      "        test_hit             51.03176498413086\n",
      "        test_loss            5.499100685119629\n",
      "        test_mrr            17.970355987548828\n",
      "────────────────────────────────────────────────────────────────────────────────────────────────────────────────────────\n",
      "{'dataset': 'diginetica', 'batchSize': 100, 'hiddenSize': 100, 'epoch': 30, 'lr': 0.001, 'lr_dc': 0.1, 'lr_dc_step': 2, 'l2': 1e-06, 'step': 2, 'patience': 4, 'nonhybrid': False, 'validation': True, 'valid_portion': 0.1, 'pretrained_embedings': False, 'unfreeze_epoch': 0, 'gmm': [], 'augment_matrix': True, 'augment_clusters': False, 'augment_old_run_id': '3abge2uq', 'augment_clip': 0, 'augment_normalize': True, 'augment_raw': False, 'weight_init': 'normal', 'augment_categories': False, 'augment_nogmm': 4, 'augment_p': 0.5, 'augment_mean': 0.01, 'augment_std': 0.01, 'augment_gmm_init': 'k-means++', 'augment_prenormalize_distances': False, 'augment_noise_p': 0.5, 'augment_alg': 'gmm'}\n",
      "628jlwv2\n"
     ]
    },
    {
     "name": "stderr",
     "output_type": "stream",
     "text": [
      "LOCAL_RANK: 0 - CUDA_VISIBLE_DEVICES: [0]\n"
     ]
    },
    {
     "name": "stdout",
     "output_type": "stream",
     "text": [
      "Testing DataLoader 0: 100%|██████████| 609/609 [00:19<00:00, 31.49it/s]\n",
      "────────────────────────────────────────────────────────────────────────────────────────────────────────────────────────\n",
      "       Test metric             DataLoader 0\n",
      "────────────────────────────────────────────────────────────────────────────────────────────────────────────────────────\n",
      "        test_hit             50.86263656616211\n",
      "        test_loss            5.506083965301514\n",
      "        test_mrr            17.898969650268555\n",
      "────────────────────────────────────────────────────────────────────────────────────────────────────────────────────────\n",
      "{'dataset': 'diginetica', 'batchSize': 100, 'hiddenSize': 100, 'epoch': 30, 'lr': 0.001, 'lr_dc': 0.1, 'lr_dc_step': 2, 'l2': 1e-06, 'step': 2, 'patience': 4, 'nonhybrid': False, 'validation': True, 'valid_portion': 0.1, 'pretrained_embedings': False, 'unfreeze_epoch': 0, 'gmm': [], 'augment_matrix': True, 'augment_clusters': False, 'augment_old_run_id': 'qm2ur7o3', 'augment_clip': 0, 'augment_normalize': True, 'augment_raw': False, 'weight_init': 'normal', 'augment_categories': False, 'augment_nogmm': 128, 'augment_p': 0.5, 'augment_mean': 0.01, 'augment_std': 0.01, 'augment_gmm_init': 'k-means++', 'augment_prenormalize_distances': False, 'augment_noise_p': 0.5, 'augment_alg': 'gmm'}\n"
     ]
    },
    {
     "name": "stderr",
     "output_type": "stream",
     "text": [
      "LOCAL_RANK: 0 - CUDA_VISIBLE_DEVICES: [0]\n"
     ]
    },
    {
     "name": "stdout",
     "output_type": "stream",
     "text": [
      "dwgw5a3v\n",
      "Testing DataLoader 0: 100%|██████████| 609/609 [00:19<00:00, 31.31it/s]\n",
      "────────────────────────────────────────────────────────────────────────────────────────────────────────────────────────\n",
      "       Test metric             DataLoader 0\n",
      "────────────────────────────────────────────────────────────────────────────────────────────────────────────────────────\n",
      "        test_hit             51.01670455932617\n",
      "        test_loss            5.489110946655273\n",
      "        test_mrr             17.98014259338379\n",
      "────────────────────────────────────────────────────────────────────────────────────────────────────────────────────────\n",
      "{'dataset': 'diginetica', 'batchSize': 100, 'hiddenSize': 100, 'epoch': 30, 'lr': 0.001, 'lr_dc': 0.1, 'lr_dc_step': 2, 'l2': 1e-06, 'step': 2, 'patience': 4, 'nonhybrid': False, 'validation': True, 'valid_portion': 0.1, 'pretrained_embedings': False, 'unfreeze_epoch': 0, 'gmm': [], 'augment_matrix': True, 'augment_clusters': False, 'augment_old_run_id': 'qm2ur7o3', 'augment_clip': 0, 'augment_normalize': True, 'augment_raw': False, 'weight_init': 'normal', 'augment_categories': False, 'augment_nogmm': 64, 'augment_p': 0.5, 'augment_mean': 0.01, 'augment_std': 0.01, 'augment_gmm_init': 'k-means++', 'augment_prenormalize_distances': False, 'augment_noise_p': 0.5, 'augment_alg': 'gmm'}\n"
     ]
    },
    {
     "name": "stderr",
     "output_type": "stream",
     "text": [
      "LOCAL_RANK: 0 - CUDA_VISIBLE_DEVICES: [0]\n"
     ]
    },
    {
     "name": "stdout",
     "output_type": "stream",
     "text": [
      "18j6ce86\n",
      "Testing DataLoader 0: 100%|██████████| 609/609 [00:19<00:00, 31.51it/s]\n",
      "────────────────────────────────────────────────────────────────────────────────────────────────────────────────────────\n",
      "       Test metric             DataLoader 0\n",
      "────────────────────────────────────────────────────────────────────────────────────────────────────────────────────────\n",
      "        test_hit            51.079383850097656\n",
      "        test_loss            5.499536514282227\n",
      "        test_mrr            18.044710159301758\n",
      "────────────────────────────────────────────────────────────────────────────────────────────────────────────────────────\n",
      "{'dataset': 'diginetica', 'batchSize': 100, 'hiddenSize': 100, 'epoch': 30, 'lr': 0.001, 'lr_dc': 0.1, 'lr_dc_step': 2, 'l2': 1e-06, 'step': 2, 'patience': 4, 'nonhybrid': False, 'validation': True, 'valid_portion': 0.1, 'pretrained_embedings': False, 'unfreeze_epoch': 0, 'gmm': [], 'augment_matrix': True, 'augment_clusters': False, 'augment_old_run_id': 'qm2ur7o3', 'augment_clip': 0, 'augment_normalize': True, 'augment_raw': False, 'weight_init': 'normal', 'augment_categories': False, 'augment_nogmm': 32, 'augment_p': 0.5, 'augment_mean': 0.01, 'augment_std': 0.01, 'augment_gmm_init': 'k-means++', 'augment_prenormalize_distances': False, 'augment_noise_p': 0.5, 'augment_alg': 'gmm'}\n"
     ]
    },
    {
     "name": "stderr",
     "output_type": "stream",
     "text": [
      "LOCAL_RANK: 0 - CUDA_VISIBLE_DEVICES: [0]\n"
     ]
    },
    {
     "name": "stdout",
     "output_type": "stream",
     "text": [
      "b5pfaja0\n",
      "Testing DataLoader 0: 100%|██████████| 609/609 [00:19<00:00, 32.01it/s]\n",
      "────────────────────────────────────────────────────────────────────────────────────────────────────────────────────────\n",
      "       Test metric             DataLoader 0\n",
      "────────────────────────────────────────────────────────────────────────────────────────────────────────────────────────\n",
      "        test_hit             51.05758285522461\n",
      "        test_loss            5.495518684387207\n",
      "        test_mrr            18.090490341186523\n",
      "────────────────────────────────────────────────────────────────────────────────────────────────────────────────────────\n",
      "{'dataset': 'diginetica', 'batchSize': 100, 'hiddenSize': 100, 'epoch': 30, 'lr': 0.001, 'lr_dc': 0.1, 'lr_dc_step': 2, 'l2': 1e-06, 'step': 2, 'patience': 4, 'nonhybrid': False, 'validation': True, 'valid_portion': 0.1, 'pretrained_embedings': False, 'unfreeze_epoch': 0, 'gmm': [], 'augment_matrix': True, 'augment_clusters': False, 'augment_old_run_id': 'qm2ur7o3', 'augment_clip': 0, 'augment_normalize': True, 'augment_raw': False, 'weight_init': 'normal', 'augment_categories': False, 'augment_nogmm': 16, 'augment_p': 0.5, 'augment_mean': 0.01, 'augment_std': 0.01, 'augment_gmm_init': 'k-means++', 'augment_prenormalize_distances': False, 'augment_noise_p': 0.5, 'augment_alg': 'gmm'}\n"
     ]
    },
    {
     "name": "stderr",
     "output_type": "stream",
     "text": [
      "LOCAL_RANK: 0 - CUDA_VISIBLE_DEVICES: [0]\n"
     ]
    },
    {
     "name": "stdout",
     "output_type": "stream",
     "text": [
      "rwhslx2m\n",
      "Testing DataLoader 0: 100%|██████████| 609/609 [00:18<00:00, 33.72it/s]\n",
      "────────────────────────────────────────────────────────────────────────────────────────────────────────────────────────\n",
      "       Test metric             DataLoader 0\n",
      "────────────────────────────────────────────────────────────────────────────────────────────────────────────────────────\n",
      "        test_hit             51.03267288208008\n",
      "        test_loss            5.502841472625732\n",
      "        test_mrr            17.906478881835938\n",
      "────────────────────────────────────────────────────────────────────────────────────────────────────────────────────────\n",
      "{'dataset': 'diginetica', 'batchSize': 100, 'hiddenSize': 100, 'epoch': 30, 'lr': 0.001, 'lr_dc': 0.1, 'lr_dc_step': 2, 'l2': 1e-06, 'step': 2, 'patience': 4, 'nonhybrid': False, 'validation': True, 'valid_portion': 0.1, 'pretrained_embedings': False, 'unfreeze_epoch': 0, 'gmm': [], 'augment_matrix': True, 'augment_clusters': False, 'augment_old_run_id': 'qm2ur7o3', 'augment_clip': 0, 'augment_normalize': True, 'augment_raw': False, 'weight_init': 'normal', 'augment_categories': False, 'augment_nogmm': 8, 'augment_p': 0.5, 'augment_mean': 0.01, 'augment_std': 0.01, 'augment_gmm_init': 'k-means++', 'augment_prenormalize_distances': False, 'augment_noise_p': 0.5, 'augment_alg': 'gmm'}\n"
     ]
    },
    {
     "name": "stderr",
     "output_type": "stream",
     "text": [
      "LOCAL_RANK: 0 - CUDA_VISIBLE_DEVICES: [0]\n"
     ]
    },
    {
     "name": "stdout",
     "output_type": "stream",
     "text": [
      "gt0rzzmz\n",
      "Testing DataLoader 0: 100%|██████████| 609/609 [00:18<00:00, 33.11it/s]\n",
      "────────────────────────────────────────────────────────────────────────────────────────────────────────────────────────\n",
      "       Test metric             DataLoader 0\n",
      "────────────────────────────────────────────────────────────────────────────────────────────────────────────────────────\n",
      "        test_hit            51.008323669433594\n",
      "        test_loss            5.510464191436768\n",
      "        test_mrr            17.987401962280273\n",
      "────────────────────────────────────────────────────────────────────────────────────────────────────────────────────────\n",
      "{'dataset': 'diginetica', 'batchSize': 100, 'hiddenSize': 100, 'epoch': 30, 'lr': 0.001, 'lr_dc': 0.1, 'lr_dc_step': 2, 'l2': 1e-06, 'step': 2, 'patience': 4, 'nonhybrid': False, 'validation': True, 'valid_portion': 0.1, 'pretrained_embedings': False, 'unfreeze_epoch': 0, 'gmm': [], 'augment_matrix': True, 'augment_clusters': False, 'augment_old_run_id': 'qm2ur7o3', 'augment_clip': 0, 'augment_normalize': True, 'augment_raw': False, 'weight_init': 'normal', 'augment_categories': False, 'augment_nogmm': 4, 'augment_p': 0.5, 'augment_mean': 0.01, 'augment_std': 0.01, 'augment_gmm_init': 'k-means++', 'augment_prenormalize_distances': False, 'augment_noise_p': 0.5, 'augment_alg': 'gmm'}\n"
     ]
    },
    {
     "name": "stderr",
     "output_type": "stream",
     "text": [
      "LOCAL_RANK: 0 - CUDA_VISIBLE_DEVICES: [0]\n"
     ]
    },
    {
     "name": "stdout",
     "output_type": "stream",
     "text": [
      "xscwi8xw\n",
      "Testing DataLoader 0: 100%|██████████| 609/609 [00:18<00:00, 33.52it/s]\n",
      "────────────────────────────────────────────────────────────────────────────────────────────────────────────────────────\n",
      "       Test metric             DataLoader 0\n",
      "────────────────────────────────────────────────────────────────────────────────────────────────────────────────────────\n",
      "        test_hit            51.285545349121094\n",
      "        test_loss            5.508249282836914\n",
      "        test_mrr            18.009550094604492\n",
      "────────────────────────────────────────────────────────────────────────────────────────────────────────────────────────\n",
      "{'dataset': 'diginetica', 'batchSize': 100, 'hiddenSize': 100, 'epoch': 30, 'lr': 0.001, 'lr_dc': 0.1, 'lr_dc_step': 3, 'l2': 1e-05, 'step': 2, 'patience': 5, 'nonhybrid': False, 'validation': True, 'valid_portion': 0.1, 'pretrained_embedings': False, 'unfreeze_epoch': 0, 'gmm': [], 'augment_matrix': True, 'augment_clusters': False, 'augment_old_run_id': 'qm2ur7o3', 'augment_clip': 0, 'augment_normalize': True, 'augment_raw': False, 'weight_init': 'normal', 'augment_categories': False, 'augment_nogmm': 32, 'augment_p': 0.5, 'augment_mean': 0.01, 'augment_std': 0.01, 'augment_gmm_init': 'k-means++', 'augment_prenormalize_distances': False, 'augment_noise_p': 0.5, 'augment_alg': 'gmm'}\n"
     ]
    },
    {
     "name": "stderr",
     "output_type": "stream",
     "text": [
      "LOCAL_RANK: 0 - CUDA_VISIBLE_DEVICES: [0]\n"
     ]
    },
    {
     "name": "stdout",
     "output_type": "stream",
     "text": [
      "kkpuxgtn\n",
      "Testing DataLoader 0: 100%|██████████| 609/609 [00:18<00:00, 33.65it/s]\n",
      "────────────────────────────────────────────────────────────────────────────────────────────────────────────────────────\n",
      "       Test metric             DataLoader 0\n",
      "────────────────────────────────────────────────────────────────────────────────────────────────────────────────────────\n",
      "        test_hit             50.18283462524414\n",
      "        test_loss            5.594403266906738\n",
      "        test_mrr            17.447221755981445\n",
      "────────────────────────────────────────────────────────────────────────────────────────────────────────────────────────\n",
      "{'dataset': 'diginetica', 'batchSize': 100, 'hiddenSize': 100, 'epoch': 30, 'lr': 0.001, 'lr_dc': 0.1, 'lr_dc_step': 2, 'l2': 1e-06, 'step': 2, 'patience': 4, 'nonhybrid': False, 'validation': True, 'valid_portion': 0.1, 'pretrained_embedings': False, 'unfreeze_epoch': 0, 'gmm': [], 'augment_matrix': True, 'augment_clusters': False, 'augment_old_run_id': 'qm2ur7o3', 'augment_clip': 0, 'augment_normalize': True, 'augment_raw': False, 'weight_init': 'normal', 'augment_categories': False, 'augment_nogmm': 16, 'augment_p': 0.5, 'augment_mean': 0.01, 'augment_std': 0.01, 'augment_gmm_init': 'k-means++', 'augment_prenormalize_distances': False, 'augment_noise_p': 0.5, 'augment_alg': 'categories'}\n"
     ]
    },
    {
     "name": "stderr",
     "output_type": "stream",
     "text": [
      "LOCAL_RANK: 0 - CUDA_VISIBLE_DEVICES: [0]\n"
     ]
    },
    {
     "name": "stdout",
     "output_type": "stream",
     "text": [
      "c7pzwt2z\n",
      "Testing DataLoader 0: 100%|██████████| 609/609 [00:17<00:00, 34.03it/s]\n",
      "────────────────────────────────────────────────────────────────────────────────────────────────────────────────────────\n",
      "       Test metric             DataLoader 0\n",
      "────────────────────────────────────────────────────────────────────────────────────────────────────────────────────────\n",
      "        test_hit            50.927127838134766\n",
      "        test_loss            5.484939098358154\n",
      "        test_mrr            17.949098587036133\n",
      "────────────────────────────────────────────────────────────────────────────────────────────────────────────────────────\n",
      "{'dataset': 'diginetica', 'batchSize': 100, 'hiddenSize': 100, 'epoch': 30, 'lr': 0.001, 'lr_dc': 0.1, 'lr_dc_step': 2, 'l2': 1e-06, 'step': 2, 'patience': 4, 'nonhybrid': False, 'validation': True, 'valid_portion': 0.1, 'pretrained_embedings': False, 'unfreeze_epoch': 0, 'gmm': [], 'augment_matrix': True, 'augment_clusters': False, 'augment_old_run_id': '3abge2uq', 'augment_clip': 0, 'augment_normalize': True, 'augment_raw': False, 'weight_init': 'normal', 'augment_categories': False, 'augment_nogmm': 16, 'augment_p': 0.5, 'augment_mean': 0.01, 'augment_std': 0.01, 'augment_gmm_init': 'k-means++', 'augment_prenormalize_distances': False, 'augment_noise_p': 0.5, 'augment_alg': 'categories'}\n",
      "17uejl8y\n"
     ]
    },
    {
     "name": "stderr",
     "output_type": "stream",
     "text": [
      "LOCAL_RANK: 0 - CUDA_VISIBLE_DEVICES: [0]\n"
     ]
    },
    {
     "name": "stdout",
     "output_type": "stream",
     "text": [
      "Testing DataLoader 0: 100%|██████████| 609/609 [00:18<00:00, 33.26it/s]\n",
      "────────────────────────────────────────────────────────────────────────────────────────────────────────────────────────\n",
      "       Test metric             DataLoader 0\n",
      "────────────────────────────────────────────────────────────────────────────────────────────────────────────────────────\n",
      "        test_hit             51.25361251831055\n",
      "        test_loss            5.490333557128906\n",
      "        test_mrr            18.101985931396484\n",
      "────────────────────────────────────────────────────────────────────────────────────────────────────────────────────────\n",
      "{'dataset': 'diginetica', 'batchSize': 100, 'hiddenSize': 100, 'epoch': 30, 'lr': 0.001, 'lr_dc': 0.1, 'lr_dc_step': 2, 'l2': 1e-06, 'step': 2, 'patience': 4, 'nonhybrid': False, 'validation': True, 'valid_portion': 0.1, 'pretrained_embedings': False, 'unfreeze_epoch': 0, 'gmm': [], 'augment_matrix': True, 'augment_clusters': False, 'augment_old_run_id': '4dm99qnd', 'augment_clip': 0, 'augment_normalize': True, 'augment_raw': False, 'weight_init': 'normal', 'augment_categories': False, 'augment_nogmm': 16, 'augment_p': 0.5, 'augment_mean': 0.01, 'augment_std': 0.01, 'augment_gmm_init': 'k-means++', 'augment_prenormalize_distances': False, 'augment_noise_p': 0.5, 'augment_alg': 'categories'}\n"
     ]
    },
    {
     "name": "stderr",
     "output_type": "stream",
     "text": [
      "LOCAL_RANK: 0 - CUDA_VISIBLE_DEVICES: [0]\n"
     ]
    },
    {
     "name": "stdout",
     "output_type": "stream",
     "text": [
      "57zrr3vh\n",
      "Testing DataLoader 0: 100%|██████████| 609/609 [00:18<00:00, 33.71it/s]\n",
      "────────────────────────────────────────────────────────────────────────────────────────────────────────────────────────\n",
      "       Test metric             DataLoader 0\n",
      "────────────────────────────────────────────────────────────────────────────────────────────────────────────────────────\n",
      "        test_hit               51.0791015625\n",
      "        test_loss            5.497370719909668\n",
      "        test_mrr             18.04535484313965\n",
      "────────────────────────────────────────────────────────────────────────────────────────────────────────────────────────\n",
      "{'dataset': 'diginetica', 'batchSize': 100, 'hiddenSize': 100, 'epoch': 30, 'lr': 0.001, 'lr_dc': 0.1, 'lr_dc_step': 2, 'l2': 1e-06, 'step': 2, 'patience': 4, 'nonhybrid': False, 'validation': True, 'valid_portion': 0.1, 'pretrained_embedings': False, 'unfreeze_epoch': 0, 'gmm': [], 'augment_matrix': True, 'augment_clusters': False, 'augment_old_run_id': 'jxgwsuta', 'augment_clip': 0, 'augment_normalize': True, 'augment_raw': False, 'weight_init': 'normal', 'augment_categories': False, 'augment_nogmm': 16, 'augment_p': 0.5, 'augment_mean': 0.01, 'augment_std': 0.01, 'augment_gmm_init': 'k-means++', 'augment_prenormalize_distances': False, 'augment_noise_p': 0.5, 'augment_alg': 'categories'}\n"
     ]
    },
    {
     "name": "stderr",
     "output_type": "stream",
     "text": [
      "LOCAL_RANK: 0 - CUDA_VISIBLE_DEVICES: [0]\n"
     ]
    },
    {
     "name": "stdout",
     "output_type": "stream",
     "text": [
      "op22qkq4\n",
      "Testing DataLoader 0: 100%|██████████| 609/609 [00:18<00:00, 33.55it/s]\n",
      "────────────────────────────────────────────────────────────────────────────────────────────────────────────────────────\n",
      "       Test metric             DataLoader 0\n",
      "────────────────────────────────────────────────────────────────────────────────────────────────────────────────────────\n",
      "        test_hit             51.06669998168945\n",
      "        test_loss            5.495656490325928\n",
      "        test_mrr             17.98778533935547\n",
      "────────────────────────────────────────────────────────────────────────────────────────────────────────────────────────\n",
      "{'dataset': 'diginetica', 'batchSize': 100, 'hiddenSize': 100, 'epoch': 30, 'lr': 0.001, 'lr_dc': 0.1, 'lr_dc_step': 2, 'l2': 1e-06, 'step': 2, 'patience': 4, 'nonhybrid': False, 'validation': True, 'valid_portion': 0.1, 'pretrained_embedings': False, 'unfreeze_epoch': 0, 'gmm': [], 'augment_matrix': True, 'augment_clusters': False, 'augment_old_run_id': 'qm2ur7o3', 'augment_clip': 0, 'augment_normalize': True, 'augment_raw': False, 'weight_init': 'normal', 'augment_categories': False, 'augment_nogmm': 8, 'augment_p': 0.5, 'augment_mean': 0.01, 'augment_std': 0.01, 'augment_gmm_init': 'k-means++', 'augment_prenormalize_distances': False, 'augment_noise_p': 0.5, 'augment_alg': 'kmeans'}\n"
     ]
    },
    {
     "name": "stderr",
     "output_type": "stream",
     "text": [
      "LOCAL_RANK: 0 - CUDA_VISIBLE_DEVICES: [0]\n"
     ]
    },
    {
     "name": "stdout",
     "output_type": "stream",
     "text": [
      "uxt9w9tv\n",
      "Testing DataLoader 0: 100%|██████████| 609/609 [00:18<00:00, 33.61it/s]\n",
      "────────────────────────────────────────────────────────────────────────────────────────────────────────────────────────\n",
      "       Test metric             DataLoader 0\n",
      "────────────────────────────────────────────────────────────────────────────────────────────────────────────────────────\n",
      "        test_hit             51.12434387207031\n",
      "        test_loss            5.496450901031494\n",
      "        test_mrr             18.09821128845215\n",
      "────────────────────────────────────────────────────────────────────────────────────────────────────────────────────────\n",
      "{'dataset': 'diginetica', 'batchSize': 100, 'hiddenSize': 100, 'epoch': 30, 'lr': 0.001, 'lr_dc': 0.1, 'lr_dc_step': 2, 'l2': 1e-06, 'step': 2, 'patience': 4, 'nonhybrid': False, 'validation': True, 'valid_portion': 0.1, 'pretrained_embedings': False, 'unfreeze_epoch': 0, 'gmm': [], 'augment_matrix': True, 'augment_clusters': False, 'augment_old_run_id': '3abge2uq', 'augment_clip': 0, 'augment_normalize': True, 'augment_raw': False, 'weight_init': 'normal', 'augment_categories': False, 'augment_nogmm': 8, 'augment_p': 0.5, 'augment_mean': 0.01, 'augment_std': 0.01, 'augment_gmm_init': 'k-means++', 'augment_prenormalize_distances': False, 'augment_noise_p': 0.5, 'augment_alg': 'kmeans'}\n"
     ]
    },
    {
     "name": "stderr",
     "output_type": "stream",
     "text": [
      "LOCAL_RANK: 0 - CUDA_VISIBLE_DEVICES: [0]\n"
     ]
    },
    {
     "name": "stdout",
     "output_type": "stream",
     "text": [
      "1qly30ga\n",
      "Testing DataLoader 0: 100%|██████████| 609/609 [00:18<00:00, 33.38it/s]\n",
      "────────────────────────────────────────────────────────────────────────────────────────────────────────────────────────\n",
      "       Test metric             DataLoader 0\n",
      "────────────────────────────────────────────────────────────────────────────────────────────────────────────────────────\n",
      "        test_hit             51.17955017089844\n",
      "        test_loss            5.481403350830078\n",
      "        test_mrr            17.958845138549805\n",
      "────────────────────────────────────────────────────────────────────────────────────────────────────────────────────────\n",
      "{'dataset': 'diginetica', 'batchSize': 100, 'hiddenSize': 100, 'epoch': 30, 'lr': 0.001, 'lr_dc': 0.1, 'lr_dc_step': 2, 'l2': 1e-06, 'step': 2, 'patience': 4, 'nonhybrid': False, 'validation': True, 'valid_portion': 0.1, 'pretrained_embedings': False, 'unfreeze_epoch': 0, 'gmm': [], 'augment_matrix': True, 'augment_clusters': False, 'augment_old_run_id': '4dm99qnd', 'augment_clip': 0, 'augment_normalize': True, 'augment_raw': False, 'weight_init': 'normal', 'augment_categories': False, 'augment_nogmm': 8, 'augment_p': 0.5, 'augment_mean': 0.01, 'augment_std': 0.01, 'augment_gmm_init': 'k-means++', 'augment_prenormalize_distances': False, 'augment_noise_p': 0.5, 'augment_alg': 'kmeans'}\n"
     ]
    },
    {
     "name": "stderr",
     "output_type": "stream",
     "text": [
      "LOCAL_RANK: 0 - CUDA_VISIBLE_DEVICES: [0]\n"
     ]
    },
    {
     "name": "stdout",
     "output_type": "stream",
     "text": [
      "y7yqfh84\n",
      "Testing DataLoader 0: 100%|██████████| 609/609 [00:17<00:00, 34.01it/s]\n",
      "────────────────────────────────────────────────────────────────────────────────────────────────────────────────────────\n",
      "       Test metric             DataLoader 0\n",
      "────────────────────────────────────────────────────────────────────────────────────────────────────────────────────────\n",
      "        test_hit            51.176719665527344\n",
      "        test_loss            5.494831562042236\n",
      "        test_mrr            18.133237838745117\n",
      "────────────────────────────────────────────────────────────────────────────────────────────────────────────────────────\n",
      "{'dataset': 'diginetica', 'batchSize': 100, 'hiddenSize': 100, 'epoch': 30, 'lr': 0.001, 'lr_dc': 0.1, 'lr_dc_step': 2, 'l2': 1e-06, 'step': 2, 'patience': 4, 'nonhybrid': False, 'validation': True, 'valid_portion': 0.1, 'pretrained_embedings': False, 'unfreeze_epoch': 0, 'gmm': [], 'augment_matrix': True, 'augment_clusters': False, 'augment_old_run_id': 'jxgwsuta', 'augment_clip': 0, 'augment_normalize': True, 'augment_raw': False, 'weight_init': 'normal', 'augment_categories': False, 'augment_nogmm': 8, 'augment_p': 0.5, 'augment_mean': 0.01, 'augment_std': 0.01, 'augment_gmm_init': 'k-means++', 'augment_prenormalize_distances': False, 'augment_noise_p': 0.5, 'augment_alg': 'kmeans'}\n"
     ]
    },
    {
     "name": "stderr",
     "output_type": "stream",
     "text": [
      "LOCAL_RANK: 0 - CUDA_VISIBLE_DEVICES: [0]\n"
     ]
    },
    {
     "name": "stdout",
     "output_type": "stream",
     "text": [
      "6i71w436\n",
      "Testing DataLoader 0: 100%|██████████| 609/609 [00:18<00:00, 33.37it/s]\n",
      "────────────────────────────────────────────────────────────────────────────────────────────────────────────────────────\n",
      "       Test metric             DataLoader 0\n",
      "────────────────────────────────────────────────────────────────────────────────────────────────────────────────────────\n",
      "        test_hit             51.01042175292969\n",
      "        test_loss            5.497133255004883\n",
      "        test_mrr             18.04057502746582\n",
      "────────────────────────────────────────────────────────────────────────────────────────────────────────────────────────\n"
     ]
    }
   ],
   "source": [
    "res_df=[]\n",
    "for run_id in runs:\n",
    "    try:\n",
    "      model,opt=load_model(run_id)\n",
    "    except IndexError:\n",
    "       continue\n",
    "    #dataset=get_dataset(opt)\n",
    "    #am_test_dataloader=DataLoader(dataset,    num_workers=os.cpu_count(),  \n",
    "    #                       sampler=SRGNN_sampler(dataset, opt.batchSize, shuffle=False, drop_last=False)\n",
    "    #                     )\n",
    "    print(run_id)\n",
    "    metrics=trainer.test(model, {#'augmented':am_test_dataloader, \n",
    "                                 'normal':normal_test_dataloader})[0 ]\n",
    "    metrics['run_id']=run_id\n",
    "    for k,v in opt.__dict__.items():\n",
    "       metrics[k]=v\n",
    "    res_df.append(metrics)"
   ]
  },
  {
   "cell_type": "code",
   "execution_count": 23,
   "metadata": {},
   "outputs": [],
   "source": [
    "res_df=pd.DataFrame(res_df)"
   ]
  },
  {
   "cell_type": "code",
   "execution_count": 12,
   "metadata": {},
   "outputs": [
    {
     "data": {
      "text/html": [
       "<div>\n",
       "<style scoped>\n",
       "    .dataframe tbody tr th:only-of-type {\n",
       "        vertical-align: middle;\n",
       "    }\n",
       "\n",
       "    .dataframe tbody tr th {\n",
       "        vertical-align: top;\n",
       "    }\n",
       "\n",
       "    .dataframe thead th {\n",
       "        text-align: right;\n",
       "    }\n",
       "</style>\n",
       "<table border=\"1\" class=\"dataframe\">\n",
       "  <thead>\n",
       "    <tr style=\"text-align: right;\">\n",
       "      <th></th>\n",
       "      <th></th>\n",
       "      <th>test_loss</th>\n",
       "      <th>test_hit</th>\n",
       "      <th>test_mrr</th>\n",
       "    </tr>\n",
       "    <tr>\n",
       "      <th>augment_nogmm</th>\n",
       "      <th>augment_old_run_id</th>\n",
       "      <th></th>\n",
       "      <th></th>\n",
       "      <th></th>\n",
       "    </tr>\n",
       "  </thead>\n",
       "  <tbody>\n",
       "    <tr>\n",
       "      <th rowspan=\"4\" valign=\"top\">4</th>\n",
       "      <th>3abge2uq</th>\n",
       "      <td>5.506084</td>\n",
       "      <td>50.862637</td>\n",
       "      <td>17.898970</td>\n",
       "    </tr>\n",
       "    <tr>\n",
       "      <th>4dm99qnd</th>\n",
       "      <td>5.500349</td>\n",
       "      <td>51.075733</td>\n",
       "      <td>18.032616</td>\n",
       "    </tr>\n",
       "    <tr>\n",
       "      <th>jxgwsuta</th>\n",
       "      <td>5.497977</td>\n",
       "      <td>51.057528</td>\n",
       "      <td>18.015642</td>\n",
       "    </tr>\n",
       "    <tr>\n",
       "      <th>qm2ur7o3</th>\n",
       "      <td>5.508249</td>\n",
       "      <td>51.285545</td>\n",
       "      <td>18.009550</td>\n",
       "    </tr>\n",
       "    <tr>\n",
       "      <th rowspan=\"4\" valign=\"top\">8</th>\n",
       "      <th>3abge2uq</th>\n",
       "      <td>5.499101</td>\n",
       "      <td>51.031765</td>\n",
       "      <td>17.970356</td>\n",
       "    </tr>\n",
       "    <tr>\n",
       "      <th>4dm99qnd</th>\n",
       "      <td>5.493108</td>\n",
       "      <td>51.242483</td>\n",
       "      <td>18.063574</td>\n",
       "    </tr>\n",
       "    <tr>\n",
       "      <th>jxgwsuta</th>\n",
       "      <td>5.493937</td>\n",
       "      <td>51.102600</td>\n",
       "      <td>17.998289</td>\n",
       "    </tr>\n",
       "    <tr>\n",
       "      <th>qm2ur7o3</th>\n",
       "      <td>5.510464</td>\n",
       "      <td>51.008324</td>\n",
       "      <td>17.987402</td>\n",
       "    </tr>\n",
       "    <tr>\n",
       "      <th rowspan=\"4\" valign=\"top\">16</th>\n",
       "      <th>3abge2uq</th>\n",
       "      <td>5.495231</td>\n",
       "      <td>51.219296</td>\n",
       "      <td>18.068703</td>\n",
       "    </tr>\n",
       "    <tr>\n",
       "      <th>4dm99qnd</th>\n",
       "      <td>5.498574</td>\n",
       "      <td>50.971096</td>\n",
       "      <td>17.912088</td>\n",
       "    </tr>\n",
       "    <tr>\n",
       "      <th>jxgwsuta</th>\n",
       "      <td>5.501109</td>\n",
       "      <td>50.919512</td>\n",
       "      <td>17.997243</td>\n",
       "    </tr>\n",
       "    <tr>\n",
       "      <th>qm2ur7o3</th>\n",
       "      <td>5.502841</td>\n",
       "      <td>51.032673</td>\n",
       "      <td>17.906479</td>\n",
       "    </tr>\n",
       "    <tr>\n",
       "      <th rowspan=\"4\" valign=\"top\">32</th>\n",
       "      <th>3abge2uq</th>\n",
       "      <td>5.493803</td>\n",
       "      <td>51.260914</td>\n",
       "      <td>18.043545</td>\n",
       "    </tr>\n",
       "    <tr>\n",
       "      <th>4dm99qnd</th>\n",
       "      <td>5.504844</td>\n",
       "      <td>50.929081</td>\n",
       "      <td>17.990470</td>\n",
       "    </tr>\n",
       "    <tr>\n",
       "      <th>jxgwsuta</th>\n",
       "      <td>5.486067</td>\n",
       "      <td>51.158146</td>\n",
       "      <td>18.046724</td>\n",
       "    </tr>\n",
       "    <tr>\n",
       "      <th>qm2ur7o3</th>\n",
       "      <td>5.544961</td>\n",
       "      <td>50.620209</td>\n",
       "      <td>17.768856</td>\n",
       "    </tr>\n",
       "    <tr>\n",
       "      <th rowspan=\"4\" valign=\"top\">64</th>\n",
       "      <th>3abge2uq</th>\n",
       "      <td>5.508237</td>\n",
       "      <td>51.093880</td>\n",
       "      <td>18.020321</td>\n",
       "    </tr>\n",
       "    <tr>\n",
       "      <th>4dm99qnd</th>\n",
       "      <td>5.497005</td>\n",
       "      <td>51.140451</td>\n",
       "      <td>17.973605</td>\n",
       "    </tr>\n",
       "    <tr>\n",
       "      <th>jxgwsuta</th>\n",
       "      <td>5.501431</td>\n",
       "      <td>50.965036</td>\n",
       "      <td>17.981283</td>\n",
       "    </tr>\n",
       "    <tr>\n",
       "      <th>qm2ur7o3</th>\n",
       "      <td>5.499537</td>\n",
       "      <td>51.079384</td>\n",
       "      <td>18.044710</td>\n",
       "    </tr>\n",
       "    <tr>\n",
       "      <th rowspan=\"4\" valign=\"top\">128</th>\n",
       "      <th>3abge2uq</th>\n",
       "      <td>5.496712</td>\n",
       "      <td>50.986694</td>\n",
       "      <td>18.062107</td>\n",
       "    </tr>\n",
       "    <tr>\n",
       "      <th>4dm99qnd</th>\n",
       "      <td>5.495254</td>\n",
       "      <td>51.086493</td>\n",
       "      <td>18.007488</td>\n",
       "    </tr>\n",
       "    <tr>\n",
       "      <th>jxgwsuta</th>\n",
       "      <td>5.493837</td>\n",
       "      <td>51.103874</td>\n",
       "      <td>18.031009</td>\n",
       "    </tr>\n",
       "    <tr>\n",
       "      <th>qm2ur7o3</th>\n",
       "      <td>5.489111</td>\n",
       "      <td>51.016705</td>\n",
       "      <td>17.980143</td>\n",
       "    </tr>\n",
       "  </tbody>\n",
       "</table>\n",
       "</div>"
      ],
      "text/plain": [
       "                                  test_loss   test_hit   test_mrr\n",
       "augment_nogmm augment_old_run_id                                 \n",
       "4             3abge2uq             5.506084  50.862637  17.898970\n",
       "              4dm99qnd             5.500349  51.075733  18.032616\n",
       "              jxgwsuta             5.497977  51.057528  18.015642\n",
       "              qm2ur7o3             5.508249  51.285545  18.009550\n",
       "8             3abge2uq             5.499101  51.031765  17.970356\n",
       "              4dm99qnd             5.493108  51.242483  18.063574\n",
       "              jxgwsuta             5.493937  51.102600  17.998289\n",
       "              qm2ur7o3             5.510464  51.008324  17.987402\n",
       "16            3abge2uq             5.495231  51.219296  18.068703\n",
       "              4dm99qnd             5.498574  50.971096  17.912088\n",
       "              jxgwsuta             5.501109  50.919512  17.997243\n",
       "              qm2ur7o3             5.502841  51.032673  17.906479\n",
       "32            3abge2uq             5.493803  51.260914  18.043545\n",
       "              4dm99qnd             5.504844  50.929081  17.990470\n",
       "              jxgwsuta             5.486067  51.158146  18.046724\n",
       "              qm2ur7o3             5.544961  50.620209  17.768856\n",
       "64            3abge2uq             5.508237  51.093880  18.020321\n",
       "              4dm99qnd             5.497005  51.140451  17.973605\n",
       "              jxgwsuta             5.501431  50.965036  17.981283\n",
       "              qm2ur7o3             5.499537  51.079384  18.044710\n",
       "128           3abge2uq             5.496712  50.986694  18.062107\n",
       "              4dm99qnd             5.495254  51.086493  18.007488\n",
       "              jxgwsuta             5.493837  51.103874  18.031009\n",
       "              qm2ur7o3             5.489111  51.016705  17.980143"
      ]
     },
     "execution_count": 12,
     "metadata": {},
     "output_type": "execute_result"
    }
   ],
   "source": [
    "res_df.drop(columns='run_id').groupby(['augment_nogmm','augment_old_run_id'])[['test_loss', 'test_hit', 'test_mrr',]].mean()"
   ]
  },
  {
   "cell_type": "code",
   "execution_count": 24,
   "metadata": {},
   "outputs": [
    {
     "data": {
      "text/html": [
       "<div>\n",
       "<style scoped>\n",
       "    .dataframe tbody tr th:only-of-type {\n",
       "        vertical-align: middle;\n",
       "    }\n",
       "\n",
       "    .dataframe tbody tr th {\n",
       "        vertical-align: top;\n",
       "    }\n",
       "\n",
       "    .dataframe thead th {\n",
       "        text-align: right;\n",
       "    }\n",
       "</style>\n",
       "<table border=\"1\" class=\"dataframe\">\n",
       "  <thead>\n",
       "    <tr style=\"text-align: right;\">\n",
       "      <th></th>\n",
       "      <th></th>\n",
       "      <th>test_loss</th>\n",
       "      <th>test_hit</th>\n",
       "      <th>test_mrr</th>\n",
       "    </tr>\n",
       "    <tr>\n",
       "      <th>augment_alg</th>\n",
       "      <th>augment_nogmm</th>\n",
       "      <th></th>\n",
       "      <th></th>\n",
       "      <th></th>\n",
       "    </tr>\n",
       "  </thead>\n",
       "  <tbody>\n",
       "    <tr>\n",
       "      <th>categories</th>\n",
       "      <th>16</th>\n",
       "      <td>5.492075</td>\n",
       "      <td>51.081635</td>\n",
       "      <td>18.021056</td>\n",
       "    </tr>\n",
       "    <tr>\n",
       "      <th rowspan=\"6\" valign=\"top\">gmm</th>\n",
       "      <th>4</th>\n",
       "      <td>5.501831</td>\n",
       "      <td>51.069117</td>\n",
       "      <td>18.000839</td>\n",
       "    </tr>\n",
       "    <tr>\n",
       "      <th>8</th>\n",
       "      <td>5.497276</td>\n",
       "      <td>51.121709</td>\n",
       "      <td>18.013581</td>\n",
       "    </tr>\n",
       "    <tr>\n",
       "      <th>16</th>\n",
       "      <td>5.499573</td>\n",
       "      <td>51.005531</td>\n",
       "      <td>17.965641</td>\n",
       "    </tr>\n",
       "    <tr>\n",
       "      <th>32</th>\n",
       "      <td>5.509364</td>\n",
       "      <td>50.953684</td>\n",
       "      <td>17.950806</td>\n",
       "    </tr>\n",
       "    <tr>\n",
       "      <th>64</th>\n",
       "      <td>5.500774</td>\n",
       "      <td>51.064040</td>\n",
       "      <td>17.995801</td>\n",
       "    </tr>\n",
       "    <tr>\n",
       "      <th>128</th>\n",
       "      <td>5.494001</td>\n",
       "      <td>51.064022</td>\n",
       "      <td>18.019874</td>\n",
       "    </tr>\n",
       "    <tr>\n",
       "      <th>kmeans</th>\n",
       "      <th>8</th>\n",
       "      <td>5.492455</td>\n",
       "      <td>51.122759</td>\n",
       "      <td>18.057717</td>\n",
       "    </tr>\n",
       "  </tbody>\n",
       "</table>\n",
       "</div>"
      ],
      "text/plain": [
       "                           test_loss   test_hit   test_mrr\n",
       "augment_alg augment_nogmm                                 \n",
       "categories  16              5.492075  51.081635  18.021056\n",
       "gmm         4               5.501831  51.069117  18.000839\n",
       "            8               5.497276  51.121709  18.013581\n",
       "            16              5.499573  51.005531  17.965641\n",
       "            32              5.509364  50.953684  17.950806\n",
       "            64              5.500774  51.064040  17.995801\n",
       "            128             5.494001  51.064022  18.019874\n",
       "kmeans      8               5.492455  51.122759  18.057717"
      ]
     },
     "execution_count": 24,
     "metadata": {},
     "output_type": "execute_result"
    }
   ],
   "source": [
    "res_df.drop(columns='run_id').groupby(['augment_alg','augment_nogmm'])[['test_loss', 'test_hit', 'test_mrr',]].mean()"
   ]
  },
  {
   "cell_type": "code",
   "execution_count": 27,
   "metadata": {},
   "outputs": [
    {
     "data": {
      "text/html": [
       "<div>\n",
       "<style scoped>\n",
       "    .dataframe tbody tr th:only-of-type {\n",
       "        vertical-align: middle;\n",
       "    }\n",
       "\n",
       "    .dataframe tbody tr th {\n",
       "        vertical-align: top;\n",
       "    }\n",
       "\n",
       "    .dataframe thead th {\n",
       "        text-align: right;\n",
       "    }\n",
       "</style>\n",
       "<table border=\"1\" class=\"dataframe\">\n",
       "  <thead>\n",
       "    <tr style=\"text-align: right;\">\n",
       "      <th></th>\n",
       "      <th>test_loss</th>\n",
       "      <th>test_hit</th>\n",
       "      <th>test_mrr</th>\n",
       "      <th>augment_alg</th>\n",
       "      <th>augment_old_run_id</th>\n",
       "    </tr>\n",
       "  </thead>\n",
       "  <tbody>\n",
       "    <tr>\n",
       "      <th>4</th>\n",
       "      <td>5.491195</td>\n",
       "      <td>51.053566</td>\n",
       "      <td>17.951180</td>\n",
       "      <td>gmm</td>\n",
       "      <td>jxgwsuta</td>\n",
       "    </tr>\n",
       "    <tr>\n",
       "      <th>10</th>\n",
       "      <td>5.489055</td>\n",
       "      <td>51.150162</td>\n",
       "      <td>18.036987</td>\n",
       "      <td>gmm</td>\n",
       "      <td>4dm99qnd</td>\n",
       "    </tr>\n",
       "    <tr>\n",
       "      <th>16</th>\n",
       "      <td>5.496680</td>\n",
       "      <td>51.151634</td>\n",
       "      <td>18.045399</td>\n",
       "      <td>gmm</td>\n",
       "      <td>jxgwsuta</td>\n",
       "    </tr>\n",
       "    <tr>\n",
       "      <th>22</th>\n",
       "      <td>5.497161</td>\n",
       "      <td>51.334805</td>\n",
       "      <td>18.090160</td>\n",
       "      <td>gmm</td>\n",
       "      <td>4dm99qnd</td>\n",
       "    </tr>\n",
       "    <tr>\n",
       "      <th>28</th>\n",
       "      <td>5.499101</td>\n",
       "      <td>51.031765</td>\n",
       "      <td>17.970356</td>\n",
       "      <td>gmm</td>\n",
       "      <td>3abge2uq</td>\n",
       "    </tr>\n",
       "    <tr>\n",
       "      <th>34</th>\n",
       "      <td>5.510464</td>\n",
       "      <td>51.008324</td>\n",
       "      <td>17.987402</td>\n",
       "      <td>gmm</td>\n",
       "      <td>qm2ur7o3</td>\n",
       "    </tr>\n",
       "    <tr>\n",
       "      <th>41</th>\n",
       "      <td>5.496451</td>\n",
       "      <td>51.124344</td>\n",
       "      <td>18.098211</td>\n",
       "      <td>kmeans</td>\n",
       "      <td>qm2ur7o3</td>\n",
       "    </tr>\n",
       "    <tr>\n",
       "      <th>42</th>\n",
       "      <td>5.481403</td>\n",
       "      <td>51.179550</td>\n",
       "      <td>17.958845</td>\n",
       "      <td>kmeans</td>\n",
       "      <td>3abge2uq</td>\n",
       "    </tr>\n",
       "    <tr>\n",
       "      <th>43</th>\n",
       "      <td>5.494832</td>\n",
       "      <td>51.176720</td>\n",
       "      <td>18.133238</td>\n",
       "      <td>kmeans</td>\n",
       "      <td>4dm99qnd</td>\n",
       "    </tr>\n",
       "    <tr>\n",
       "      <th>44</th>\n",
       "      <td>5.497133</td>\n",
       "      <td>51.010422</td>\n",
       "      <td>18.040575</td>\n",
       "      <td>kmeans</td>\n",
       "      <td>jxgwsuta</td>\n",
       "    </tr>\n",
       "  </tbody>\n",
       "</table>\n",
       "</div>"
      ],
      "text/plain": [
       "    test_loss   test_hit   test_mrr augment_alg augment_old_run_id\n",
       "4    5.491195  51.053566  17.951180         gmm           jxgwsuta\n",
       "10   5.489055  51.150162  18.036987         gmm           4dm99qnd\n",
       "16   5.496680  51.151634  18.045399         gmm           jxgwsuta\n",
       "22   5.497161  51.334805  18.090160         gmm           4dm99qnd\n",
       "28   5.499101  51.031765  17.970356         gmm           3abge2uq\n",
       "34   5.510464  51.008324  17.987402         gmm           qm2ur7o3\n",
       "41   5.496451  51.124344  18.098211      kmeans           qm2ur7o3\n",
       "42   5.481403  51.179550  17.958845      kmeans           3abge2uq\n",
       "43   5.494832  51.176720  18.133238      kmeans           4dm99qnd\n",
       "44   5.497133  51.010422  18.040575      kmeans           jxgwsuta"
      ]
     },
     "execution_count": 27,
     "metadata": {},
     "output_type": "execute_result"
    }
   ],
   "source": [
    "res_df.loc[res_df.augment_nogmm==8][['test_loss', 'test_hit', 'test_mrr','augment_alg', 'augment_old_run_id']]"
   ]
  },
  {
   "cell_type": "code",
   "execution_count": 13,
   "metadata": {},
   "outputs": [
    {
     "data": {
      "text/html": [
       "<div>\n",
       "<style scoped>\n",
       "    .dataframe tbody tr th:only-of-type {\n",
       "        vertical-align: middle;\n",
       "    }\n",
       "\n",
       "    .dataframe tbody tr th {\n",
       "        vertical-align: top;\n",
       "    }\n",
       "\n",
       "    .dataframe thead th {\n",
       "        text-align: right;\n",
       "    }\n",
       "</style>\n",
       "<table border=\"1\" class=\"dataframe\">\n",
       "  <thead>\n",
       "    <tr style=\"text-align: right;\">\n",
       "      <th></th>\n",
       "      <th>test_loss</th>\n",
       "      <th>test_hit</th>\n",
       "      <th>test_mrr</th>\n",
       "      <th>run_id</th>\n",
       "      <th>dataset</th>\n",
       "      <th>batchSize</th>\n",
       "      <th>hiddenSize</th>\n",
       "      <th>epoch</th>\n",
       "      <th>lr</th>\n",
       "      <th>lr_dc</th>\n",
       "      <th>...</th>\n",
       "      <th>weight_init</th>\n",
       "      <th>augment_categories</th>\n",
       "      <th>augment_nogmm</th>\n",
       "      <th>augment_p</th>\n",
       "      <th>augment_mean</th>\n",
       "      <th>augment_std</th>\n",
       "      <th>augment_gmm_init</th>\n",
       "      <th>augment_prenormalize_distances</th>\n",
       "      <th>augment_noise_p</th>\n",
       "      <th>augment_alg</th>\n",
       "    </tr>\n",
       "  </thead>\n",
       "  <tbody>\n",
       "    <tr>\n",
       "      <th>0</th>\n",
       "      <td>5.498109</td>\n",
       "      <td>51.115963</td>\n",
       "      <td>18.006958</td>\n",
       "      <td>yp1n5fb3</td>\n",
       "      <td>diginetica</td>\n",
       "      <td>100</td>\n",
       "      <td>100</td>\n",
       "      <td>30</td>\n",
       "      <td>0.001</td>\n",
       "      <td>0.1</td>\n",
       "      <td>...</td>\n",
       "      <td>normal</td>\n",
       "      <td>False</td>\n",
       "      <td>128</td>\n",
       "      <td>0.5</td>\n",
       "      <td>0.01</td>\n",
       "      <td>0.01</td>\n",
       "      <td>k-means++</td>\n",
       "      <td>False</td>\n",
       "      <td>0.5</td>\n",
       "      <td>gmm</td>\n",
       "    </tr>\n",
       "    <tr>\n",
       "      <th>1</th>\n",
       "      <td>5.495818</td>\n",
       "      <td>51.048470</td>\n",
       "      <td>18.010406</td>\n",
       "      <td>naj1qrsy</td>\n",
       "      <td>diginetica</td>\n",
       "      <td>100</td>\n",
       "      <td>100</td>\n",
       "      <td>30</td>\n",
       "      <td>0.001</td>\n",
       "      <td>0.1</td>\n",
       "      <td>...</td>\n",
       "      <td>normal</td>\n",
       "      <td>False</td>\n",
       "      <td>64</td>\n",
       "      <td>0.5</td>\n",
       "      <td>0.01</td>\n",
       "      <td>0.01</td>\n",
       "      <td>k-means++</td>\n",
       "      <td>False</td>\n",
       "      <td>0.5</td>\n",
       "      <td>gmm</td>\n",
       "    </tr>\n",
       "    <tr>\n",
       "      <th>2</th>\n",
       "      <td>5.480463</td>\n",
       "      <td>51.300774</td>\n",
       "      <td>18.113754</td>\n",
       "      <td>pl1wvihn</td>\n",
       "      <td>diginetica</td>\n",
       "      <td>100</td>\n",
       "      <td>100</td>\n",
       "      <td>30</td>\n",
       "      <td>0.001</td>\n",
       "      <td>0.1</td>\n",
       "      <td>...</td>\n",
       "      <td>normal</td>\n",
       "      <td>False</td>\n",
       "      <td>32</td>\n",
       "      <td>0.5</td>\n",
       "      <td>0.01</td>\n",
       "      <td>0.01</td>\n",
       "      <td>k-means++</td>\n",
       "      <td>False</td>\n",
       "      <td>0.5</td>\n",
       "      <td>gmm</td>\n",
       "    </tr>\n",
       "    <tr>\n",
       "      <th>3</th>\n",
       "      <td>5.503563</td>\n",
       "      <td>50.868919</td>\n",
       "      <td>18.040007</td>\n",
       "      <td>s7r181i0</td>\n",
       "      <td>diginetica</td>\n",
       "      <td>100</td>\n",
       "      <td>100</td>\n",
       "      <td>30</td>\n",
       "      <td>0.001</td>\n",
       "      <td>0.1</td>\n",
       "      <td>...</td>\n",
       "      <td>normal</td>\n",
       "      <td>False</td>\n",
       "      <td>16</td>\n",
       "      <td>0.5</td>\n",
       "      <td>0.01</td>\n",
       "      <td>0.01</td>\n",
       "      <td>k-means++</td>\n",
       "      <td>False</td>\n",
       "      <td>0.5</td>\n",
       "      <td>gmm</td>\n",
       "    </tr>\n",
       "    <tr>\n",
       "      <th>4</th>\n",
       "      <td>5.491195</td>\n",
       "      <td>51.053566</td>\n",
       "      <td>17.951180</td>\n",
       "      <td>fp4lprkj</td>\n",
       "      <td>diginetica</td>\n",
       "      <td>100</td>\n",
       "      <td>100</td>\n",
       "      <td>30</td>\n",
       "      <td>0.001</td>\n",
       "      <td>0.1</td>\n",
       "      <td>...</td>\n",
       "      <td>normal</td>\n",
       "      <td>False</td>\n",
       "      <td>8</td>\n",
       "      <td>0.5</td>\n",
       "      <td>0.01</td>\n",
       "      <td>0.01</td>\n",
       "      <td>k-means++</td>\n",
       "      <td>False</td>\n",
       "      <td>0.5</td>\n",
       "      <td>gmm</td>\n",
       "    </tr>\n",
       "    <tr>\n",
       "      <th>5</th>\n",
       "      <td>5.505888</td>\n",
       "      <td>50.985050</td>\n",
       "      <td>17.990795</td>\n",
       "      <td>yrq35hmp</td>\n",
       "      <td>diginetica</td>\n",
       "      <td>100</td>\n",
       "      <td>100</td>\n",
       "      <td>30</td>\n",
       "      <td>0.001</td>\n",
       "      <td>0.1</td>\n",
       "      <td>...</td>\n",
       "      <td>normal</td>\n",
       "      <td>False</td>\n",
       "      <td>4</td>\n",
       "      <td>0.5</td>\n",
       "      <td>0.01</td>\n",
       "      <td>0.01</td>\n",
       "      <td>k-means++</td>\n",
       "      <td>False</td>\n",
       "      <td>0.5</td>\n",
       "      <td>gmm</td>\n",
       "    </tr>\n",
       "    <tr>\n",
       "      <th>6</th>\n",
       "      <td>5.500285</td>\n",
       "      <td>50.961330</td>\n",
       "      <td>18.010942</td>\n",
       "      <td>pxgponas</td>\n",
       "      <td>diginetica</td>\n",
       "      <td>100</td>\n",
       "      <td>100</td>\n",
       "      <td>30</td>\n",
       "      <td>0.001</td>\n",
       "      <td>0.1</td>\n",
       "      <td>...</td>\n",
       "      <td>normal</td>\n",
       "      <td>False</td>\n",
       "      <td>128</td>\n",
       "      <td>0.5</td>\n",
       "      <td>0.01</td>\n",
       "      <td>0.01</td>\n",
       "      <td>k-means++</td>\n",
       "      <td>False</td>\n",
       "      <td>0.5</td>\n",
       "      <td>gmm</td>\n",
       "    </tr>\n",
       "    <tr>\n",
       "      <th>7</th>\n",
       "      <td>5.496689</td>\n",
       "      <td>51.138214</td>\n",
       "      <td>17.988705</td>\n",
       "      <td>31hc2s4t</td>\n",
       "      <td>diginetica</td>\n",
       "      <td>100</td>\n",
       "      <td>100</td>\n",
       "      <td>30</td>\n",
       "      <td>0.001</td>\n",
       "      <td>0.1</td>\n",
       "      <td>...</td>\n",
       "      <td>normal</td>\n",
       "      <td>False</td>\n",
       "      <td>64</td>\n",
       "      <td>0.5</td>\n",
       "      <td>0.01</td>\n",
       "      <td>0.01</td>\n",
       "      <td>k-means++</td>\n",
       "      <td>False</td>\n",
       "      <td>0.5</td>\n",
       "      <td>gmm</td>\n",
       "    </tr>\n",
       "    <tr>\n",
       "      <th>8</th>\n",
       "      <td>5.506217</td>\n",
       "      <td>50.930130</td>\n",
       "      <td>18.019054</td>\n",
       "      <td>v94f9jmw</td>\n",
       "      <td>diginetica</td>\n",
       "      <td>100</td>\n",
       "      <td>100</td>\n",
       "      <td>30</td>\n",
       "      <td>0.001</td>\n",
       "      <td>0.1</td>\n",
       "      <td>...</td>\n",
       "      <td>normal</td>\n",
       "      <td>False</td>\n",
       "      <td>32</td>\n",
       "      <td>0.5</td>\n",
       "      <td>0.01</td>\n",
       "      <td>0.01</td>\n",
       "      <td>k-means++</td>\n",
       "      <td>False</td>\n",
       "      <td>0.5</td>\n",
       "      <td>gmm</td>\n",
       "    </tr>\n",
       "    <tr>\n",
       "      <th>9</th>\n",
       "      <td>5.494094</td>\n",
       "      <td>50.932056</td>\n",
       "      <td>17.878902</td>\n",
       "      <td>9wa54kna</td>\n",
       "      <td>diginetica</td>\n",
       "      <td>100</td>\n",
       "      <td>100</td>\n",
       "      <td>30</td>\n",
       "      <td>0.001</td>\n",
       "      <td>0.1</td>\n",
       "      <td>...</td>\n",
       "      <td>normal</td>\n",
       "      <td>False</td>\n",
       "      <td>16</td>\n",
       "      <td>0.5</td>\n",
       "      <td>0.01</td>\n",
       "      <td>0.01</td>\n",
       "      <td>k-means++</td>\n",
       "      <td>False</td>\n",
       "      <td>0.5</td>\n",
       "      <td>gmm</td>\n",
       "    </tr>\n",
       "    <tr>\n",
       "      <th>10</th>\n",
       "      <td>5.489055</td>\n",
       "      <td>51.150162</td>\n",
       "      <td>18.036987</td>\n",
       "      <td>xbpg8ncx</td>\n",
       "      <td>diginetica</td>\n",
       "      <td>100</td>\n",
       "      <td>100</td>\n",
       "      <td>30</td>\n",
       "      <td>0.001</td>\n",
       "      <td>0.1</td>\n",
       "      <td>...</td>\n",
       "      <td>normal</td>\n",
       "      <td>False</td>\n",
       "      <td>8</td>\n",
       "      <td>0.5</td>\n",
       "      <td>0.01</td>\n",
       "      <td>0.01</td>\n",
       "      <td>k-means++</td>\n",
       "      <td>False</td>\n",
       "      <td>0.5</td>\n",
       "      <td>gmm</td>\n",
       "    </tr>\n",
       "    <tr>\n",
       "      <th>11</th>\n",
       "      <td>5.501844</td>\n",
       "      <td>51.045807</td>\n",
       "      <td>18.072374</td>\n",
       "      <td>kltkp2te</td>\n",
       "      <td>diginetica</td>\n",
       "      <td>100</td>\n",
       "      <td>100</td>\n",
       "      <td>30</td>\n",
       "      <td>0.001</td>\n",
       "      <td>0.1</td>\n",
       "      <td>...</td>\n",
       "      <td>normal</td>\n",
       "      <td>False</td>\n",
       "      <td>4</td>\n",
       "      <td>0.5</td>\n",
       "      <td>0.01</td>\n",
       "      <td>0.01</td>\n",
       "      <td>k-means++</td>\n",
       "      <td>False</td>\n",
       "      <td>0.5</td>\n",
       "      <td>gmm</td>\n",
       "    </tr>\n",
       "    <tr>\n",
       "      <th>12</th>\n",
       "      <td>5.489566</td>\n",
       "      <td>51.091785</td>\n",
       "      <td>18.055059</td>\n",
       "      <td>z7mdp78e</td>\n",
       "      <td>diginetica</td>\n",
       "      <td>100</td>\n",
       "      <td>100</td>\n",
       "      <td>30</td>\n",
       "      <td>0.001</td>\n",
       "      <td>0.1</td>\n",
       "      <td>...</td>\n",
       "      <td>normal</td>\n",
       "      <td>False</td>\n",
       "      <td>128</td>\n",
       "      <td>0.5</td>\n",
       "      <td>0.01</td>\n",
       "      <td>0.01</td>\n",
       "      <td>k-means++</td>\n",
       "      <td>False</td>\n",
       "      <td>0.5</td>\n",
       "      <td>gmm</td>\n",
       "    </tr>\n",
       "    <tr>\n",
       "      <th>13</th>\n",
       "      <td>5.507044</td>\n",
       "      <td>50.881603</td>\n",
       "      <td>17.952160</td>\n",
       "      <td>o9t9gt9v</td>\n",
       "      <td>diginetica</td>\n",
       "      <td>100</td>\n",
       "      <td>100</td>\n",
       "      <td>30</td>\n",
       "      <td>0.001</td>\n",
       "      <td>0.1</td>\n",
       "      <td>...</td>\n",
       "      <td>normal</td>\n",
       "      <td>False</td>\n",
       "      <td>64</td>\n",
       "      <td>0.5</td>\n",
       "      <td>0.01</td>\n",
       "      <td>0.01</td>\n",
       "      <td>k-means++</td>\n",
       "      <td>False</td>\n",
       "      <td>0.5</td>\n",
       "      <td>gmm</td>\n",
       "    </tr>\n",
       "    <tr>\n",
       "      <th>14</th>\n",
       "      <td>5.491671</td>\n",
       "      <td>51.015518</td>\n",
       "      <td>17.979694</td>\n",
       "      <td>qdxqwnrw</td>\n",
       "      <td>diginetica</td>\n",
       "      <td>100</td>\n",
       "      <td>100</td>\n",
       "      <td>30</td>\n",
       "      <td>0.001</td>\n",
       "      <td>0.1</td>\n",
       "      <td>...</td>\n",
       "      <td>normal</td>\n",
       "      <td>False</td>\n",
       "      <td>32</td>\n",
       "      <td>0.5</td>\n",
       "      <td>0.01</td>\n",
       "      <td>0.01</td>\n",
       "      <td>k-means++</td>\n",
       "      <td>False</td>\n",
       "      <td>0.5</td>\n",
       "      <td>gmm</td>\n",
       "    </tr>\n",
       "    <tr>\n",
       "      <th>15</th>\n",
       "      <td>5.498654</td>\n",
       "      <td>50.970104</td>\n",
       "      <td>17.954479</td>\n",
       "      <td>0zl3ui7x</td>\n",
       "      <td>diginetica</td>\n",
       "      <td>100</td>\n",
       "      <td>100</td>\n",
       "      <td>30</td>\n",
       "      <td>0.001</td>\n",
       "      <td>0.1</td>\n",
       "      <td>...</td>\n",
       "      <td>normal</td>\n",
       "      <td>False</td>\n",
       "      <td>16</td>\n",
       "      <td>0.5</td>\n",
       "      <td>0.01</td>\n",
       "      <td>0.01</td>\n",
       "      <td>k-means++</td>\n",
       "      <td>False</td>\n",
       "      <td>0.5</td>\n",
       "      <td>gmm</td>\n",
       "    </tr>\n",
       "    <tr>\n",
       "      <th>16</th>\n",
       "      <td>5.496680</td>\n",
       "      <td>51.151634</td>\n",
       "      <td>18.045399</td>\n",
       "      <td>7jkmaij6</td>\n",
       "      <td>diginetica</td>\n",
       "      <td>100</td>\n",
       "      <td>100</td>\n",
       "      <td>30</td>\n",
       "      <td>0.001</td>\n",
       "      <td>0.1</td>\n",
       "      <td>...</td>\n",
       "      <td>normal</td>\n",
       "      <td>False</td>\n",
       "      <td>8</td>\n",
       "      <td>0.5</td>\n",
       "      <td>0.01</td>\n",
       "      <td>0.01</td>\n",
       "      <td>k-means++</td>\n",
       "      <td>False</td>\n",
       "      <td>0.5</td>\n",
       "      <td>gmm</td>\n",
       "    </tr>\n",
       "    <tr>\n",
       "      <th>17</th>\n",
       "      <td>5.490065</td>\n",
       "      <td>51.130005</td>\n",
       "      <td>18.040489</td>\n",
       "      <td>ud4ap40l</td>\n",
       "      <td>diginetica</td>\n",
       "      <td>100</td>\n",
       "      <td>100</td>\n",
       "      <td>30</td>\n",
       "      <td>0.001</td>\n",
       "      <td>0.1</td>\n",
       "      <td>...</td>\n",
       "      <td>normal</td>\n",
       "      <td>False</td>\n",
       "      <td>4</td>\n",
       "      <td>0.5</td>\n",
       "      <td>0.01</td>\n",
       "      <td>0.01</td>\n",
       "      <td>k-means++</td>\n",
       "      <td>False</td>\n",
       "      <td>0.5</td>\n",
       "      <td>gmm</td>\n",
       "    </tr>\n",
       "    <tr>\n",
       "      <th>18</th>\n",
       "      <td>5.490223</td>\n",
       "      <td>51.211655</td>\n",
       "      <td>18.004034</td>\n",
       "      <td>5k1ezsql</td>\n",
       "      <td>diginetica</td>\n",
       "      <td>100</td>\n",
       "      <td>100</td>\n",
       "      <td>30</td>\n",
       "      <td>0.001</td>\n",
       "      <td>0.1</td>\n",
       "      <td>...</td>\n",
       "      <td>normal</td>\n",
       "      <td>False</td>\n",
       "      <td>128</td>\n",
       "      <td>0.5</td>\n",
       "      <td>0.01</td>\n",
       "      <td>0.01</td>\n",
       "      <td>k-means++</td>\n",
       "      <td>False</td>\n",
       "      <td>0.5</td>\n",
       "      <td>gmm</td>\n",
       "    </tr>\n",
       "    <tr>\n",
       "      <th>19</th>\n",
       "      <td>5.497322</td>\n",
       "      <td>51.142689</td>\n",
       "      <td>17.958506</td>\n",
       "      <td>zkgt4s6x</td>\n",
       "      <td>diginetica</td>\n",
       "      <td>100</td>\n",
       "      <td>100</td>\n",
       "      <td>30</td>\n",
       "      <td>0.001</td>\n",
       "      <td>0.1</td>\n",
       "      <td>...</td>\n",
       "      <td>normal</td>\n",
       "      <td>False</td>\n",
       "      <td>64</td>\n",
       "      <td>0.5</td>\n",
       "      <td>0.01</td>\n",
       "      <td>0.01</td>\n",
       "      <td>k-means++</td>\n",
       "      <td>False</td>\n",
       "      <td>0.5</td>\n",
       "      <td>gmm</td>\n",
       "    </tr>\n",
       "    <tr>\n",
       "      <th>20</th>\n",
       "      <td>5.503471</td>\n",
       "      <td>50.928032</td>\n",
       "      <td>17.961885</td>\n",
       "      <td>egqyw7yg</td>\n",
       "      <td>diginetica</td>\n",
       "      <td>100</td>\n",
       "      <td>100</td>\n",
       "      <td>30</td>\n",
       "      <td>0.001</td>\n",
       "      <td>0.1</td>\n",
       "      <td>...</td>\n",
       "      <td>normal</td>\n",
       "      <td>False</td>\n",
       "      <td>32</td>\n",
       "      <td>0.5</td>\n",
       "      <td>0.01</td>\n",
       "      <td>0.01</td>\n",
       "      <td>k-means++</td>\n",
       "      <td>False</td>\n",
       "      <td>0.5</td>\n",
       "      <td>gmm</td>\n",
       "    </tr>\n",
       "    <tr>\n",
       "      <th>21</th>\n",
       "      <td>5.503055</td>\n",
       "      <td>51.010136</td>\n",
       "      <td>17.945274</td>\n",
       "      <td>6ixyzjk9</td>\n",
       "      <td>diginetica</td>\n",
       "      <td>100</td>\n",
       "      <td>100</td>\n",
       "      <td>30</td>\n",
       "      <td>0.001</td>\n",
       "      <td>0.1</td>\n",
       "      <td>...</td>\n",
       "      <td>normal</td>\n",
       "      <td>False</td>\n",
       "      <td>16</td>\n",
       "      <td>0.5</td>\n",
       "      <td>0.01</td>\n",
       "      <td>0.01</td>\n",
       "      <td>k-means++</td>\n",
       "      <td>False</td>\n",
       "      <td>0.5</td>\n",
       "      <td>gmm</td>\n",
       "    </tr>\n",
       "    <tr>\n",
       "      <th>22</th>\n",
       "      <td>5.497161</td>\n",
       "      <td>51.334805</td>\n",
       "      <td>18.090160</td>\n",
       "      <td>ub1h5qr3</td>\n",
       "      <td>diginetica</td>\n",
       "      <td>100</td>\n",
       "      <td>100</td>\n",
       "      <td>30</td>\n",
       "      <td>0.001</td>\n",
       "      <td>0.1</td>\n",
       "      <td>...</td>\n",
       "      <td>normal</td>\n",
       "      <td>False</td>\n",
       "      <td>8</td>\n",
       "      <td>0.5</td>\n",
       "      <td>0.01</td>\n",
       "      <td>0.01</td>\n",
       "      <td>k-means++</td>\n",
       "      <td>False</td>\n",
       "      <td>0.5</td>\n",
       "      <td>gmm</td>\n",
       "    </tr>\n",
       "    <tr>\n",
       "      <th>23</th>\n",
       "      <td>5.498855</td>\n",
       "      <td>51.105659</td>\n",
       "      <td>17.992857</td>\n",
       "      <td>8iea3bxp</td>\n",
       "      <td>diginetica</td>\n",
       "      <td>100</td>\n",
       "      <td>100</td>\n",
       "      <td>30</td>\n",
       "      <td>0.001</td>\n",
       "      <td>0.1</td>\n",
       "      <td>...</td>\n",
       "      <td>normal</td>\n",
       "      <td>False</td>\n",
       "      <td>4</td>\n",
       "      <td>0.5</td>\n",
       "      <td>0.01</td>\n",
       "      <td>0.01</td>\n",
       "      <td>k-means++</td>\n",
       "      <td>False</td>\n",
       "      <td>0.5</td>\n",
       "      <td>gmm</td>\n",
       "    </tr>\n",
       "    <tr>\n",
       "      <th>24</th>\n",
       "      <td>5.496712</td>\n",
       "      <td>50.986694</td>\n",
       "      <td>18.062107</td>\n",
       "      <td>8f9v8z85</td>\n",
       "      <td>diginetica</td>\n",
       "      <td>100</td>\n",
       "      <td>100</td>\n",
       "      <td>30</td>\n",
       "      <td>0.001</td>\n",
       "      <td>0.1</td>\n",
       "      <td>...</td>\n",
       "      <td>normal</td>\n",
       "      <td>False</td>\n",
       "      <td>128</td>\n",
       "      <td>0.5</td>\n",
       "      <td>0.01</td>\n",
       "      <td>0.01</td>\n",
       "      <td>k-means++</td>\n",
       "      <td>False</td>\n",
       "      <td>0.5</td>\n",
       "      <td>gmm</td>\n",
       "    </tr>\n",
       "    <tr>\n",
       "      <th>25</th>\n",
       "      <td>5.508237</td>\n",
       "      <td>51.093880</td>\n",
       "      <td>18.020321</td>\n",
       "      <td>f80nrp4r</td>\n",
       "      <td>diginetica</td>\n",
       "      <td>100</td>\n",
       "      <td>100</td>\n",
       "      <td>30</td>\n",
       "      <td>0.001</td>\n",
       "      <td>0.1</td>\n",
       "      <td>...</td>\n",
       "      <td>normal</td>\n",
       "      <td>False</td>\n",
       "      <td>64</td>\n",
       "      <td>0.5</td>\n",
       "      <td>0.01</td>\n",
       "      <td>0.01</td>\n",
       "      <td>k-means++</td>\n",
       "      <td>False</td>\n",
       "      <td>0.5</td>\n",
       "      <td>gmm</td>\n",
       "    </tr>\n",
       "    <tr>\n",
       "      <th>26</th>\n",
       "      <td>5.493803</td>\n",
       "      <td>51.260914</td>\n",
       "      <td>18.043545</td>\n",
       "      <td>b60x4mtc</td>\n",
       "      <td>diginetica</td>\n",
       "      <td>100</td>\n",
       "      <td>100</td>\n",
       "      <td>30</td>\n",
       "      <td>0.001</td>\n",
       "      <td>0.1</td>\n",
       "      <td>...</td>\n",
       "      <td>normal</td>\n",
       "      <td>False</td>\n",
       "      <td>32</td>\n",
       "      <td>0.5</td>\n",
       "      <td>0.01</td>\n",
       "      <td>0.01</td>\n",
       "      <td>k-means++</td>\n",
       "      <td>False</td>\n",
       "      <td>0.5</td>\n",
       "      <td>gmm</td>\n",
       "    </tr>\n",
       "    <tr>\n",
       "      <th>27</th>\n",
       "      <td>5.495231</td>\n",
       "      <td>51.219296</td>\n",
       "      <td>18.068703</td>\n",
       "      <td>m8n6p80h</td>\n",
       "      <td>diginetica</td>\n",
       "      <td>100</td>\n",
       "      <td>100</td>\n",
       "      <td>30</td>\n",
       "      <td>0.001</td>\n",
       "      <td>0.1</td>\n",
       "      <td>...</td>\n",
       "      <td>normal</td>\n",
       "      <td>False</td>\n",
       "      <td>16</td>\n",
       "      <td>0.5</td>\n",
       "      <td>0.01</td>\n",
       "      <td>0.01</td>\n",
       "      <td>k-means++</td>\n",
       "      <td>False</td>\n",
       "      <td>0.5</td>\n",
       "      <td>gmm</td>\n",
       "    </tr>\n",
       "    <tr>\n",
       "      <th>28</th>\n",
       "      <td>5.499101</td>\n",
       "      <td>51.031765</td>\n",
       "      <td>17.970356</td>\n",
       "      <td>26kyds0s</td>\n",
       "      <td>diginetica</td>\n",
       "      <td>100</td>\n",
       "      <td>100</td>\n",
       "      <td>30</td>\n",
       "      <td>0.001</td>\n",
       "      <td>0.1</td>\n",
       "      <td>...</td>\n",
       "      <td>normal</td>\n",
       "      <td>False</td>\n",
       "      <td>8</td>\n",
       "      <td>0.5</td>\n",
       "      <td>0.01</td>\n",
       "      <td>0.01</td>\n",
       "      <td>k-means++</td>\n",
       "      <td>False</td>\n",
       "      <td>0.5</td>\n",
       "      <td>gmm</td>\n",
       "    </tr>\n",
       "    <tr>\n",
       "      <th>29</th>\n",
       "      <td>5.506084</td>\n",
       "      <td>50.862637</td>\n",
       "      <td>17.898970</td>\n",
       "      <td>628jlwv2</td>\n",
       "      <td>diginetica</td>\n",
       "      <td>100</td>\n",
       "      <td>100</td>\n",
       "      <td>30</td>\n",
       "      <td>0.001</td>\n",
       "      <td>0.1</td>\n",
       "      <td>...</td>\n",
       "      <td>normal</td>\n",
       "      <td>False</td>\n",
       "      <td>4</td>\n",
       "      <td>0.5</td>\n",
       "      <td>0.01</td>\n",
       "      <td>0.01</td>\n",
       "      <td>k-means++</td>\n",
       "      <td>False</td>\n",
       "      <td>0.5</td>\n",
       "      <td>gmm</td>\n",
       "    </tr>\n",
       "    <tr>\n",
       "      <th>30</th>\n",
       "      <td>5.489111</td>\n",
       "      <td>51.016705</td>\n",
       "      <td>17.980143</td>\n",
       "      <td>dwgw5a3v</td>\n",
       "      <td>diginetica</td>\n",
       "      <td>100</td>\n",
       "      <td>100</td>\n",
       "      <td>30</td>\n",
       "      <td>0.001</td>\n",
       "      <td>0.1</td>\n",
       "      <td>...</td>\n",
       "      <td>normal</td>\n",
       "      <td>False</td>\n",
       "      <td>128</td>\n",
       "      <td>0.5</td>\n",
       "      <td>0.01</td>\n",
       "      <td>0.01</td>\n",
       "      <td>k-means++</td>\n",
       "      <td>False</td>\n",
       "      <td>0.5</td>\n",
       "      <td>gmm</td>\n",
       "    </tr>\n",
       "    <tr>\n",
       "      <th>31</th>\n",
       "      <td>5.499537</td>\n",
       "      <td>51.079384</td>\n",
       "      <td>18.044710</td>\n",
       "      <td>18j6ce86</td>\n",
       "      <td>diginetica</td>\n",
       "      <td>100</td>\n",
       "      <td>100</td>\n",
       "      <td>30</td>\n",
       "      <td>0.001</td>\n",
       "      <td>0.1</td>\n",
       "      <td>...</td>\n",
       "      <td>normal</td>\n",
       "      <td>False</td>\n",
       "      <td>64</td>\n",
       "      <td>0.5</td>\n",
       "      <td>0.01</td>\n",
       "      <td>0.01</td>\n",
       "      <td>k-means++</td>\n",
       "      <td>False</td>\n",
       "      <td>0.5</td>\n",
       "      <td>gmm</td>\n",
       "    </tr>\n",
       "    <tr>\n",
       "      <th>32</th>\n",
       "      <td>5.495519</td>\n",
       "      <td>51.057583</td>\n",
       "      <td>18.090490</td>\n",
       "      <td>b5pfaja0</td>\n",
       "      <td>diginetica</td>\n",
       "      <td>100</td>\n",
       "      <td>100</td>\n",
       "      <td>30</td>\n",
       "      <td>0.001</td>\n",
       "      <td>0.1</td>\n",
       "      <td>...</td>\n",
       "      <td>normal</td>\n",
       "      <td>False</td>\n",
       "      <td>32</td>\n",
       "      <td>0.5</td>\n",
       "      <td>0.01</td>\n",
       "      <td>0.01</td>\n",
       "      <td>k-means++</td>\n",
       "      <td>False</td>\n",
       "      <td>0.5</td>\n",
       "      <td>gmm</td>\n",
       "    </tr>\n",
       "    <tr>\n",
       "      <th>33</th>\n",
       "      <td>5.502841</td>\n",
       "      <td>51.032673</td>\n",
       "      <td>17.906479</td>\n",
       "      <td>rwhslx2m</td>\n",
       "      <td>diginetica</td>\n",
       "      <td>100</td>\n",
       "      <td>100</td>\n",
       "      <td>30</td>\n",
       "      <td>0.001</td>\n",
       "      <td>0.1</td>\n",
       "      <td>...</td>\n",
       "      <td>normal</td>\n",
       "      <td>False</td>\n",
       "      <td>16</td>\n",
       "      <td>0.5</td>\n",
       "      <td>0.01</td>\n",
       "      <td>0.01</td>\n",
       "      <td>k-means++</td>\n",
       "      <td>False</td>\n",
       "      <td>0.5</td>\n",
       "      <td>gmm</td>\n",
       "    </tr>\n",
       "    <tr>\n",
       "      <th>34</th>\n",
       "      <td>5.510464</td>\n",
       "      <td>51.008324</td>\n",
       "      <td>17.987402</td>\n",
       "      <td>gt0rzzmz</td>\n",
       "      <td>diginetica</td>\n",
       "      <td>100</td>\n",
       "      <td>100</td>\n",
       "      <td>30</td>\n",
       "      <td>0.001</td>\n",
       "      <td>0.1</td>\n",
       "      <td>...</td>\n",
       "      <td>normal</td>\n",
       "      <td>False</td>\n",
       "      <td>8</td>\n",
       "      <td>0.5</td>\n",
       "      <td>0.01</td>\n",
       "      <td>0.01</td>\n",
       "      <td>k-means++</td>\n",
       "      <td>False</td>\n",
       "      <td>0.5</td>\n",
       "      <td>gmm</td>\n",
       "    </tr>\n",
       "    <tr>\n",
       "      <th>35</th>\n",
       "      <td>5.508249</td>\n",
       "      <td>51.285545</td>\n",
       "      <td>18.009550</td>\n",
       "      <td>xscwi8xw</td>\n",
       "      <td>diginetica</td>\n",
       "      <td>100</td>\n",
       "      <td>100</td>\n",
       "      <td>30</td>\n",
       "      <td>0.001</td>\n",
       "      <td>0.1</td>\n",
       "      <td>...</td>\n",
       "      <td>normal</td>\n",
       "      <td>False</td>\n",
       "      <td>4</td>\n",
       "      <td>0.5</td>\n",
       "      <td>0.01</td>\n",
       "      <td>0.01</td>\n",
       "      <td>k-means++</td>\n",
       "      <td>False</td>\n",
       "      <td>0.5</td>\n",
       "      <td>gmm</td>\n",
       "    </tr>\n",
       "    <tr>\n",
       "      <th>36</th>\n",
       "      <td>5.594403</td>\n",
       "      <td>50.182835</td>\n",
       "      <td>17.447222</td>\n",
       "      <td>kkpuxgtn</td>\n",
       "      <td>diginetica</td>\n",
       "      <td>100</td>\n",
       "      <td>100</td>\n",
       "      <td>30</td>\n",
       "      <td>0.001</td>\n",
       "      <td>0.1</td>\n",
       "      <td>...</td>\n",
       "      <td>normal</td>\n",
       "      <td>False</td>\n",
       "      <td>32</td>\n",
       "      <td>0.5</td>\n",
       "      <td>0.01</td>\n",
       "      <td>0.01</td>\n",
       "      <td>k-means++</td>\n",
       "      <td>False</td>\n",
       "      <td>0.5</td>\n",
       "      <td>gmm</td>\n",
       "    </tr>\n",
       "  </tbody>\n",
       "</table>\n",
       "<p>37 rows × 36 columns</p>\n",
       "</div>"
      ],
      "text/plain": [
       "    test_loss   test_hit   test_mrr    run_id     dataset  batchSize  \\\n",
       "0    5.498109  51.115963  18.006958  yp1n5fb3  diginetica        100   \n",
       "1    5.495818  51.048470  18.010406  naj1qrsy  diginetica        100   \n",
       "2    5.480463  51.300774  18.113754  pl1wvihn  diginetica        100   \n",
       "3    5.503563  50.868919  18.040007  s7r181i0  diginetica        100   \n",
       "4    5.491195  51.053566  17.951180  fp4lprkj  diginetica        100   \n",
       "5    5.505888  50.985050  17.990795  yrq35hmp  diginetica        100   \n",
       "6    5.500285  50.961330  18.010942  pxgponas  diginetica        100   \n",
       "7    5.496689  51.138214  17.988705  31hc2s4t  diginetica        100   \n",
       "8    5.506217  50.930130  18.019054  v94f9jmw  diginetica        100   \n",
       "9    5.494094  50.932056  17.878902  9wa54kna  diginetica        100   \n",
       "10   5.489055  51.150162  18.036987  xbpg8ncx  diginetica        100   \n",
       "11   5.501844  51.045807  18.072374  kltkp2te  diginetica        100   \n",
       "12   5.489566  51.091785  18.055059  z7mdp78e  diginetica        100   \n",
       "13   5.507044  50.881603  17.952160  o9t9gt9v  diginetica        100   \n",
       "14   5.491671  51.015518  17.979694  qdxqwnrw  diginetica        100   \n",
       "15   5.498654  50.970104  17.954479  0zl3ui7x  diginetica        100   \n",
       "16   5.496680  51.151634  18.045399  7jkmaij6  diginetica        100   \n",
       "17   5.490065  51.130005  18.040489  ud4ap40l  diginetica        100   \n",
       "18   5.490223  51.211655  18.004034  5k1ezsql  diginetica        100   \n",
       "19   5.497322  51.142689  17.958506  zkgt4s6x  diginetica        100   \n",
       "20   5.503471  50.928032  17.961885  egqyw7yg  diginetica        100   \n",
       "21   5.503055  51.010136  17.945274  6ixyzjk9  diginetica        100   \n",
       "22   5.497161  51.334805  18.090160  ub1h5qr3  diginetica        100   \n",
       "23   5.498855  51.105659  17.992857  8iea3bxp  diginetica        100   \n",
       "24   5.496712  50.986694  18.062107  8f9v8z85  diginetica        100   \n",
       "25   5.508237  51.093880  18.020321  f80nrp4r  diginetica        100   \n",
       "26   5.493803  51.260914  18.043545  b60x4mtc  diginetica        100   \n",
       "27   5.495231  51.219296  18.068703  m8n6p80h  diginetica        100   \n",
       "28   5.499101  51.031765  17.970356  26kyds0s  diginetica        100   \n",
       "29   5.506084  50.862637  17.898970  628jlwv2  diginetica        100   \n",
       "30   5.489111  51.016705  17.980143  dwgw5a3v  diginetica        100   \n",
       "31   5.499537  51.079384  18.044710  18j6ce86  diginetica        100   \n",
       "32   5.495519  51.057583  18.090490  b5pfaja0  diginetica        100   \n",
       "33   5.502841  51.032673  17.906479  rwhslx2m  diginetica        100   \n",
       "34   5.510464  51.008324  17.987402  gt0rzzmz  diginetica        100   \n",
       "35   5.508249  51.285545  18.009550  xscwi8xw  diginetica        100   \n",
       "36   5.594403  50.182835  17.447222  kkpuxgtn  diginetica        100   \n",
       "\n",
       "    hiddenSize  epoch     lr  lr_dc  ...  weight_init  augment_categories  \\\n",
       "0          100     30  0.001    0.1  ...       normal               False   \n",
       "1          100     30  0.001    0.1  ...       normal               False   \n",
       "2          100     30  0.001    0.1  ...       normal               False   \n",
       "3          100     30  0.001    0.1  ...       normal               False   \n",
       "4          100     30  0.001    0.1  ...       normal               False   \n",
       "5          100     30  0.001    0.1  ...       normal               False   \n",
       "6          100     30  0.001    0.1  ...       normal               False   \n",
       "7          100     30  0.001    0.1  ...       normal               False   \n",
       "8          100     30  0.001    0.1  ...       normal               False   \n",
       "9          100     30  0.001    0.1  ...       normal               False   \n",
       "10         100     30  0.001    0.1  ...       normal               False   \n",
       "11         100     30  0.001    0.1  ...       normal               False   \n",
       "12         100     30  0.001    0.1  ...       normal               False   \n",
       "13         100     30  0.001    0.1  ...       normal               False   \n",
       "14         100     30  0.001    0.1  ...       normal               False   \n",
       "15         100     30  0.001    0.1  ...       normal               False   \n",
       "16         100     30  0.001    0.1  ...       normal               False   \n",
       "17         100     30  0.001    0.1  ...       normal               False   \n",
       "18         100     30  0.001    0.1  ...       normal               False   \n",
       "19         100     30  0.001    0.1  ...       normal               False   \n",
       "20         100     30  0.001    0.1  ...       normal               False   \n",
       "21         100     30  0.001    0.1  ...       normal               False   \n",
       "22         100     30  0.001    0.1  ...       normal               False   \n",
       "23         100     30  0.001    0.1  ...       normal               False   \n",
       "24         100     30  0.001    0.1  ...       normal               False   \n",
       "25         100     30  0.001    0.1  ...       normal               False   \n",
       "26         100     30  0.001    0.1  ...       normal               False   \n",
       "27         100     30  0.001    0.1  ...       normal               False   \n",
       "28         100     30  0.001    0.1  ...       normal               False   \n",
       "29         100     30  0.001    0.1  ...       normal               False   \n",
       "30         100     30  0.001    0.1  ...       normal               False   \n",
       "31         100     30  0.001    0.1  ...       normal               False   \n",
       "32         100     30  0.001    0.1  ...       normal               False   \n",
       "33         100     30  0.001    0.1  ...       normal               False   \n",
       "34         100     30  0.001    0.1  ...       normal               False   \n",
       "35         100     30  0.001    0.1  ...       normal               False   \n",
       "36         100     30  0.001    0.1  ...       normal               False   \n",
       "\n",
       "    augment_nogmm  augment_p  augment_mean  augment_std  augment_gmm_init  \\\n",
       "0             128        0.5          0.01         0.01         k-means++   \n",
       "1              64        0.5          0.01         0.01         k-means++   \n",
       "2              32        0.5          0.01         0.01         k-means++   \n",
       "3              16        0.5          0.01         0.01         k-means++   \n",
       "4               8        0.5          0.01         0.01         k-means++   \n",
       "5               4        0.5          0.01         0.01         k-means++   \n",
       "6             128        0.5          0.01         0.01         k-means++   \n",
       "7              64        0.5          0.01         0.01         k-means++   \n",
       "8              32        0.5          0.01         0.01         k-means++   \n",
       "9              16        0.5          0.01         0.01         k-means++   \n",
       "10              8        0.5          0.01         0.01         k-means++   \n",
       "11              4        0.5          0.01         0.01         k-means++   \n",
       "12            128        0.5          0.01         0.01         k-means++   \n",
       "13             64        0.5          0.01         0.01         k-means++   \n",
       "14             32        0.5          0.01         0.01         k-means++   \n",
       "15             16        0.5          0.01         0.01         k-means++   \n",
       "16              8        0.5          0.01         0.01         k-means++   \n",
       "17              4        0.5          0.01         0.01         k-means++   \n",
       "18            128        0.5          0.01         0.01         k-means++   \n",
       "19             64        0.5          0.01         0.01         k-means++   \n",
       "20             32        0.5          0.01         0.01         k-means++   \n",
       "21             16        0.5          0.01         0.01         k-means++   \n",
       "22              8        0.5          0.01         0.01         k-means++   \n",
       "23              4        0.5          0.01         0.01         k-means++   \n",
       "24            128        0.5          0.01         0.01         k-means++   \n",
       "25             64        0.5          0.01         0.01         k-means++   \n",
       "26             32        0.5          0.01         0.01         k-means++   \n",
       "27             16        0.5          0.01         0.01         k-means++   \n",
       "28              8        0.5          0.01         0.01         k-means++   \n",
       "29              4        0.5          0.01         0.01         k-means++   \n",
       "30            128        0.5          0.01         0.01         k-means++   \n",
       "31             64        0.5          0.01         0.01         k-means++   \n",
       "32             32        0.5          0.01         0.01         k-means++   \n",
       "33             16        0.5          0.01         0.01         k-means++   \n",
       "34              8        0.5          0.01         0.01         k-means++   \n",
       "35              4        0.5          0.01         0.01         k-means++   \n",
       "36             32        0.5          0.01         0.01         k-means++   \n",
       "\n",
       "    augment_prenormalize_distances  augment_noise_p augment_alg  \n",
       "0                            False              0.5         gmm  \n",
       "1                            False              0.5         gmm  \n",
       "2                            False              0.5         gmm  \n",
       "3                            False              0.5         gmm  \n",
       "4                            False              0.5         gmm  \n",
       "5                            False              0.5         gmm  \n",
       "6                            False              0.5         gmm  \n",
       "7                            False              0.5         gmm  \n",
       "8                            False              0.5         gmm  \n",
       "9                            False              0.5         gmm  \n",
       "10                           False              0.5         gmm  \n",
       "11                           False              0.5         gmm  \n",
       "12                           False              0.5         gmm  \n",
       "13                           False              0.5         gmm  \n",
       "14                           False              0.5         gmm  \n",
       "15                           False              0.5         gmm  \n",
       "16                           False              0.5         gmm  \n",
       "17                           False              0.5         gmm  \n",
       "18                           False              0.5         gmm  \n",
       "19                           False              0.5         gmm  \n",
       "20                           False              0.5         gmm  \n",
       "21                           False              0.5         gmm  \n",
       "22                           False              0.5         gmm  \n",
       "23                           False              0.5         gmm  \n",
       "24                           False              0.5         gmm  \n",
       "25                           False              0.5         gmm  \n",
       "26                           False              0.5         gmm  \n",
       "27                           False              0.5         gmm  \n",
       "28                           False              0.5         gmm  \n",
       "29                           False              0.5         gmm  \n",
       "30                           False              0.5         gmm  \n",
       "31                           False              0.5         gmm  \n",
       "32                           False              0.5         gmm  \n",
       "33                           False              0.5         gmm  \n",
       "34                           False              0.5         gmm  \n",
       "35                           False              0.5         gmm  \n",
       "36                           False              0.5         gmm  \n",
       "\n",
       "[37 rows x 36 columns]"
      ]
     },
     "metadata": {},
     "output_type": "display_data"
    }
   ],
   "source": [
    "display(res_df)"
   ]
  },
  {
   "cell_type": "code",
   "execution_count": 14,
   "metadata": {},
   "outputs": [
    {
     "name": "stdout",
     "output_type": "stream",
     "text": [
      "{'dataset': 'diginetica', 'batchSize': 100, 'hiddenSize': 100, 'epoch': 30, 'lr': 0.001, 'lr_dc': 0.1, 'lr_dc_step': 2, 'l2': 1e-06, 'step': 2, 'patience': 4, 'nonhybrid': False, 'validation': True, 'valid_portion': 0.1, 'pretrained_embedings': False, 'unfreeze_epoch': 0, 'gmm': [], 'augment_matrix': True, 'augment_clusters': False, 'augment_old_run_id': 'jxgwsuta', 'augment_clip': 0, 'augment_normalize': True, 'augment_raw': False, 'weight_init': 'normal', 'augment_categories': False, 'augment_nogmm': 128, 'augment_p': 0.5, 'augment_mean': 0.01, 'augment_std': 0.01, 'augment_gmm_init': 'k-means++', 'augment_prenormalize_distances': False, 'augment_noise_p': 0.5, 'augment_alg': 'gmm'}\n"
     ]
    },
    {
     "name": "stdout",
     "output_type": "stream",
     "text": [
      "yp1n5fb3\n",
      "Distnace Augmentation: True Clusters: False Categories: False Noise std:  0.01 base model jxgwsuta\n"
     ]
    },
    {
     "name": "stderr",
     "output_type": "stream",
     "text": [
      "100%|██████████| 609/609 [00:21<00:00, 27.72it/s]\n"
     ]
    },
    {
     "name": "stdout",
     "output_type": "stream",
     "text": [
      "[(0, 0.511107824772421, 0.18002728628510217)]\n",
      "{'dataset': 'diginetica', 'batchSize': 100, 'hiddenSize': 100, 'epoch': 30, 'lr': 0.001, 'lr_dc': 0.1, 'lr_dc_step': 2, 'l2': 1e-06, 'step': 2, 'patience': 4, 'nonhybrid': False, 'validation': True, 'valid_portion': 0.1, 'pretrained_embedings': False, 'unfreeze_epoch': 0, 'gmm': [], 'augment_matrix': True, 'augment_clusters': False, 'augment_old_run_id': 'jxgwsuta', 'augment_clip': 0, 'augment_normalize': True, 'augment_raw': False, 'weight_init': 'normal', 'augment_categories': False, 'augment_nogmm': 64, 'augment_p': 0.5, 'augment_mean': 0.01, 'augment_std': 0.01, 'augment_gmm_init': 'k-means++', 'augment_prenormalize_distances': False, 'augment_noise_p': 0.5, 'augment_alg': 'gmm'}\n",
      "naj1qrsy\n",
      "Distnace Augmentation: True Clusters: False Categories: False Noise std:  0.01 base model jxgwsuta\n"
     ]
    },
    {
     "name": "stderr",
     "output_type": "stream",
     "text": [
      "100%|██████████| 609/609 [00:21<00:00, 27.81it/s]\n"
     ]
    },
    {
     "name": "stdout",
     "output_type": "stream",
     "text": [
      "[(0, 0.5103848302606067, 0.1800530208180911)]\n",
      "{'dataset': 'diginetica', 'batchSize': 100, 'hiddenSize': 100, 'epoch': 30, 'lr': 0.001, 'lr_dc': 0.1, 'lr_dc_step': 2, 'l2': 1e-06, 'step': 2, 'patience': 4, 'nonhybrid': False, 'validation': True, 'valid_portion': 0.1, 'pretrained_embedings': False, 'unfreeze_epoch': 0, 'gmm': [], 'augment_matrix': True, 'augment_clusters': False, 'augment_old_run_id': 'jxgwsuta', 'augment_clip': 0, 'augment_normalize': True, 'augment_raw': False, 'weight_init': 'normal', 'augment_categories': False, 'augment_nogmm': 32, 'augment_p': 0.5, 'augment_mean': 0.01, 'augment_std': 0.01, 'augment_gmm_init': 'k-means++', 'augment_prenormalize_distances': False, 'augment_noise_p': 0.5, 'augment_alg': 'gmm'}\n",
      "pl1wvihn\n",
      "Distnace Augmentation: True Clusters: False Categories: False Noise std:  0.01 base model jxgwsuta\n"
     ]
    },
    {
     "name": "stderr",
     "output_type": "stream",
     "text": [
      "100%|██████████| 609/609 [00:22<00:00, 27.59it/s]\n"
     ]
    },
    {
     "name": "stdout",
     "output_type": "stream",
     "text": [
      "[(0, 0.5129810378257583, 0.18112262076516733)]\n",
      "{'dataset': 'diginetica', 'batchSize': 100, 'hiddenSize': 100, 'epoch': 30, 'lr': 0.001, 'lr_dc': 0.1, 'lr_dc_step': 2, 'l2': 1e-06, 'step': 2, 'patience': 4, 'nonhybrid': False, 'validation': True, 'valid_portion': 0.1, 'pretrained_embedings': False, 'unfreeze_epoch': 0, 'gmm': [], 'augment_matrix': True, 'augment_clusters': False, 'augment_old_run_id': 'jxgwsuta', 'augment_clip': 0, 'augment_normalize': True, 'augment_raw': False, 'weight_init': 'normal', 'augment_categories': False, 'augment_nogmm': 16, 'augment_p': 0.5, 'augment_mean': 0.01, 'augment_std': 0.01, 'augment_gmm_init': 'k-means++', 'augment_prenormalize_distances': False, 'augment_noise_p': 0.5, 'augment_alg': 'gmm'}\n",
      "s7r181i0\n",
      "Distnace Augmentation: True Clusters: False Categories: False Noise std:  0.01 base model jxgwsuta\n"
     ]
    },
    {
     "name": "stderr",
     "output_type": "stream",
     "text": [
      "100%|██████████| 609/609 [00:21<00:00, 27.84it/s]\n"
     ]
    },
    {
     "name": "stdout",
     "output_type": "stream",
     "text": [
      "[(0, 0.5086595024483224, 0.18036167402984687)]\n",
      "{'dataset': 'diginetica', 'batchSize': 100, 'hiddenSize': 100, 'epoch': 30, 'lr': 0.001, 'lr_dc': 0.1, 'lr_dc_step': 2, 'l2': 1e-06, 'step': 2, 'patience': 4, 'nonhybrid': False, 'validation': True, 'valid_portion': 0.1, 'pretrained_embedings': False, 'unfreeze_epoch': 0, 'gmm': [], 'augment_matrix': True, 'augment_clusters': False, 'augment_old_run_id': 'jxgwsuta', 'augment_clip': 0, 'augment_normalize': True, 'augment_raw': False, 'weight_init': 'normal', 'augment_categories': False, 'augment_nogmm': 8, 'augment_p': 0.5, 'augment_mean': 0.01, 'augment_std': 0.01, 'augment_gmm_init': 'k-means++', 'augment_prenormalize_distances': False, 'augment_noise_p': 0.5, 'augment_alg': 'gmm'}\n",
      "fp4lprkj\n",
      "Distnace Augmentation: True Clusters: False Categories: False Noise std:  0.01 base model jxgwsuta\n"
     ]
    },
    {
     "name": "stderr",
     "output_type": "stream",
     "text": [
      "100%|██████████| 609/609 [00:22<00:00, 27.50it/s]\n"
     ]
    },
    {
     "name": "stdout",
     "output_type": "stream",
     "text": [
      "[(0, 0.5104834204213086, 0.1794831246276012)]\n",
      "{'dataset': 'diginetica', 'batchSize': 100, 'hiddenSize': 100, 'epoch': 30, 'lr': 0.001, 'lr_dc': 0.1, 'lr_dc_step': 2, 'l2': 1e-06, 'step': 2, 'patience': 4, 'nonhybrid': False, 'validation': True, 'valid_portion': 0.1, 'pretrained_embedings': False, 'unfreeze_epoch': 0, 'gmm': [], 'augment_matrix': True, 'augment_clusters': False, 'augment_old_run_id': 'jxgwsuta', 'augment_clip': 0, 'augment_normalize': True, 'augment_raw': False, 'weight_init': 'normal', 'augment_categories': False, 'augment_nogmm': 4, 'augment_p': 0.5, 'augment_mean': 0.01, 'augment_std': 0.01, 'augment_gmm_init': 'k-means++', 'augment_prenormalize_distances': False, 'augment_noise_p': 0.5, 'augment_alg': 'gmm'}\n",
      "yrq35hmp\n",
      "Distnace Augmentation: True Clusters: False Categories: False Noise std:  0.01 base model jxgwsuta\n"
     ]
    },
    {
     "name": "stderr",
     "output_type": "stream",
     "text": [
      "100%|██████████| 609/609 [00:22<00:00, 27.62it/s]\n"
     ]
    },
    {
     "name": "stdout",
     "output_type": "stream",
     "text": [
      "[(0, 0.5098097209898452, 0.17986652826323252)]\n",
      "{'dataset': 'diginetica', 'batchSize': 100, 'hiddenSize': 100, 'epoch': 30, 'lr': 0.001, 'lr_dc': 0.1, 'lr_dc_step': 2, 'l2': 1e-06, 'step': 2, 'patience': 4, 'nonhybrid': False, 'validation': True, 'valid_portion': 0.1, 'pretrained_embedings': False, 'unfreeze_epoch': 0, 'gmm': [], 'augment_matrix': True, 'augment_clusters': False, 'augment_old_run_id': '4dm99qnd', 'augment_clip': 0, 'augment_normalize': True, 'augment_raw': False, 'weight_init': 'normal', 'augment_categories': False, 'augment_nogmm': 128, 'augment_p': 0.5, 'augment_mean': 0.01, 'augment_std': 0.01, 'augment_gmm_init': 'k-means++', 'augment_prenormalize_distances': False, 'augment_noise_p': 0.5, 'augment_alg': 'gmm'}\n",
      "pxgponas\n",
      "Distnace Augmentation: True Clusters: False Categories: False Noise std:  0.01 base model 4dm99qnd\n"
     ]
    },
    {
     "name": "stderr",
     "output_type": "stream",
     "text": [
      "100%|██████████| 609/609 [00:23<00:00, 26.34it/s]\n"
     ]
    },
    {
     "name": "stdout",
     "output_type": "stream",
     "text": [
      "[(0, 0.509596108974991, 0.1800706452921267)]\n",
      "{'dataset': 'diginetica', 'batchSize': 100, 'hiddenSize': 100, 'epoch': 30, 'lr': 0.001, 'lr_dc': 0.1, 'lr_dc_step': 2, 'l2': 1e-06, 'step': 2, 'patience': 4, 'nonhybrid': False, 'validation': True, 'valid_portion': 0.1, 'pretrained_embedings': False, 'unfreeze_epoch': 0, 'gmm': [], 'augment_matrix': True, 'augment_clusters': False, 'augment_old_run_id': '4dm99qnd', 'augment_clip': 0, 'augment_normalize': True, 'augment_raw': False, 'weight_init': 'normal', 'augment_categories': False, 'augment_nogmm': 64, 'augment_p': 0.5, 'augment_mean': 0.01, 'augment_std': 0.01, 'augment_gmm_init': 'k-means++', 'augment_prenormalize_distances': False, 'augment_noise_p': 0.5, 'augment_alg': 'gmm'}\n",
      "31hc2s4t\n",
      "Distnace Augmentation: True Clusters: False Categories: False Noise std:  0.01 base model 4dm99qnd\n"
     ]
    },
    {
     "name": "stderr",
     "output_type": "stream",
     "text": [
      "100%|██████████| 609/609 [00:21<00:00, 27.79it/s]\n"
     ]
    },
    {
     "name": "stdout",
     "output_type": "stream",
     "text": [
      "[(0, 0.5113543001741759, 0.17986228573734173)]\n",
      "{'dataset': 'diginetica', 'batchSize': 100, 'hiddenSize': 100, 'epoch': 30, 'lr': 0.001, 'lr_dc': 0.1, 'lr_dc_step': 2, 'l2': 1e-06, 'step': 2, 'patience': 4, 'nonhybrid': False, 'validation': True, 'valid_portion': 0.1, 'pretrained_embedings': False, 'unfreeze_epoch': 0, 'gmm': [], 'augment_matrix': True, 'augment_clusters': False, 'augment_old_run_id': '4dm99qnd', 'augment_clip': 0, 'augment_normalize': True, 'augment_raw': False, 'weight_init': 'normal', 'augment_categories': False, 'augment_nogmm': 32, 'augment_p': 0.5, 'augment_mean': 0.01, 'augment_std': 0.01, 'augment_gmm_init': 'k-means++', 'augment_prenormalize_distances': False, 'augment_noise_p': 0.5, 'augment_alg': 'gmm'}\n",
      "v94f9jmw\n",
      "Distnace Augmentation: True Clusters: False Categories: False Noise std:  0.01 base model 4dm99qnd\n"
     ]
    },
    {
     "name": "stderr",
     "output_type": "stream",
     "text": [
      "100%|██████████| 609/609 [00:22<00:00, 27.65it/s]\n"
     ]
    },
    {
     "name": "stdout",
     "output_type": "stream",
     "text": [
      "[(0, 0.5092839067994348, 0.18018084903153384)]\n",
      "{'dataset': 'diginetica', 'batchSize': 100, 'hiddenSize': 100, 'epoch': 30, 'lr': 0.001, 'lr_dc': 0.1, 'lr_dc_step': 2, 'l2': 1e-06, 'step': 2, 'patience': 4, 'nonhybrid': False, 'validation': True, 'valid_portion': 0.1, 'pretrained_embedings': False, 'unfreeze_epoch': 0, 'gmm': [], 'augment_matrix': True, 'augment_clusters': False, 'augment_old_run_id': '4dm99qnd', 'augment_clip': 0, 'augment_normalize': True, 'augment_raw': False, 'weight_init': 'normal', 'augment_categories': False, 'augment_nogmm': 16, 'augment_p': 0.5, 'augment_mean': 0.01, 'augment_std': 0.01, 'augment_gmm_init': 'k-means++', 'augment_prenormalize_distances': False, 'augment_noise_p': 0.5, 'augment_alg': 'gmm'}\n",
      "9wa54kna\n",
      "Distnace Augmentation: True Clusters: False Categories: False Noise std:  0.01 base model 4dm99qnd\n"
     ]
    },
    {
     "name": "stderr",
     "output_type": "stream",
     "text": [
      "100%|██████████| 609/609 [00:22<00:00, 27.57it/s]\n"
     ]
    },
    {
     "name": "stdout",
     "output_type": "stream",
     "text": [
      "[(0, 0.5092674751059845, 0.17878138802623778)]\n",
      "{'dataset': 'diginetica', 'batchSize': 100, 'hiddenSize': 100, 'epoch': 30, 'lr': 0.001, 'lr_dc': 0.1, 'lr_dc_step': 2, 'l2': 1e-06, 'step': 2, 'patience': 4, 'nonhybrid': False, 'validation': True, 'valid_portion': 0.1, 'pretrained_embedings': False, 'unfreeze_epoch': 0, 'gmm': [], 'augment_matrix': True, 'augment_clusters': False, 'augment_old_run_id': '4dm99qnd', 'augment_clip': 0, 'augment_normalize': True, 'augment_raw': False, 'weight_init': 'normal', 'augment_categories': False, 'augment_nogmm': 8, 'augment_p': 0.5, 'augment_mean': 0.01, 'augment_std': 0.01, 'augment_gmm_init': 'k-means++', 'augment_prenormalize_distances': False, 'augment_noise_p': 0.5, 'augment_alg': 'gmm'}\n",
      "xbpg8ncx\n",
      "Distnace Augmentation: True Clusters: False Categories: False Noise std:  0.01 base model 4dm99qnd\n"
     ]
    },
    {
     "name": "stderr",
     "output_type": "stream",
     "text": [
      "100%|██████████| 609/609 [00:22<00:00, 27.48it/s]\n"
     ]
    },
    {
     "name": "stdout",
     "output_type": "stream",
     "text": [
      "[(0, 0.5114857537217785, 0.1803357965530729)]\n",
      "{'dataset': 'diginetica', 'batchSize': 100, 'hiddenSize': 100, 'epoch': 30, 'lr': 0.001, 'lr_dc': 0.1, 'lr_dc_step': 2, 'l2': 1e-06, 'step': 2, 'patience': 4, 'nonhybrid': False, 'validation': True, 'valid_portion': 0.1, 'pretrained_embedings': False, 'unfreeze_epoch': 0, 'gmm': [], 'augment_matrix': True, 'augment_clusters': False, 'augment_old_run_id': '4dm99qnd', 'augment_clip': 0, 'augment_normalize': True, 'augment_raw': False, 'weight_init': 'normal', 'augment_categories': False, 'augment_nogmm': 4, 'augment_p': 0.5, 'augment_mean': 0.01, 'augment_std': 0.01, 'augment_gmm_init': 'k-means++', 'augment_prenormalize_distances': False, 'augment_noise_p': 0.5, 'augment_alg': 'gmm'}\n",
      "kltkp2te\n",
      "Distnace Augmentation: True Clusters: False Categories: False Noise std:  0.01 base model 4dm99qnd\n"
     ]
    },
    {
     "name": "stderr",
     "output_type": "stream",
     "text": [
      "100%|██████████| 609/609 [00:22<00:00, 27.55it/s]\n"
     ]
    },
    {
     "name": "stdout",
     "output_type": "stream",
     "text": [
      "[(0, 0.5104176936475073, 0.18067243717475207)]\n",
      "{'dataset': 'diginetica', 'batchSize': 100, 'hiddenSize': 100, 'epoch': 30, 'lr': 0.001, 'lr_dc': 0.1, 'lr_dc_step': 2, 'l2': 1e-06, 'step': 2, 'patience': 4, 'nonhybrid': False, 'validation': True, 'valid_portion': 0.1, 'pretrained_embedings': False, 'unfreeze_epoch': 0, 'gmm': [], 'augment_matrix': True, 'augment_clusters': False, 'augment_old_run_id': 'jxgwsuta', 'augment_clip': 0, 'augment_normalize': True, 'augment_raw': False, 'weight_init': 'normal', 'augment_categories': False, 'augment_nogmm': 128, 'augment_p': 0.5, 'augment_mean': 0.01, 'augment_std': 0.01, 'augment_gmm_init': 'k-means++', 'augment_prenormalize_distances': False, 'augment_noise_p': 0.5, 'augment_alg': 'gmm'}\n",
      "z7mdp78e\n",
      "Distnace Augmentation: True Clusters: False Categories: False Noise std:  0.01 base model jxgwsuta\n"
     ]
    },
    {
     "name": "stderr",
     "output_type": "stream",
     "text": [
      "100%|██████████| 609/609 [00:22<00:00, 27.13it/s]\n"
     ]
    },
    {
     "name": "stdout",
     "output_type": "stream",
     "text": [
      "[(0, 0.5108777810641165, 0.18052806097730204)]\n",
      "{'dataset': 'diginetica', 'batchSize': 100, 'hiddenSize': 100, 'epoch': 30, 'lr': 0.001, 'lr_dc': 0.1, 'lr_dc_step': 2, 'l2': 1e-06, 'step': 2, 'patience': 4, 'nonhybrid': False, 'validation': True, 'valid_portion': 0.1, 'pretrained_embedings': False, 'unfreeze_epoch': 0, 'gmm': [], 'augment_matrix': True, 'augment_clusters': False, 'augment_old_run_id': 'jxgwsuta', 'augment_clip': 0, 'augment_normalize': True, 'augment_raw': False, 'weight_init': 'normal', 'augment_categories': False, 'augment_nogmm': 64, 'augment_p': 0.5, 'augment_mean': 0.01, 'augment_std': 0.01, 'augment_gmm_init': 'k-means++', 'augment_prenormalize_distances': False, 'augment_noise_p': 0.5, 'augment_alg': 'gmm'}\n",
      "o9t9gt9v\n",
      "Distnace Augmentation: True Clusters: False Categories: False Noise std:  0.01 base model jxgwsuta\n"
     ]
    },
    {
     "name": "stderr",
     "output_type": "stream",
     "text": [
      "100%|██████████| 609/609 [00:22<00:00, 27.63it/s]\n"
     ]
    },
    {
     "name": "stdout",
     "output_type": "stream",
     "text": [
      "[(0, 0.5087745243024746, 0.17948330373666638)]\n",
      "{'dataset': 'diginetica', 'batchSize': 100, 'hiddenSize': 100, 'epoch': 30, 'lr': 0.001, 'lr_dc': 0.1, 'lr_dc_step': 2, 'l2': 1e-06, 'step': 2, 'patience': 4, 'nonhybrid': False, 'validation': True, 'valid_portion': 0.1, 'pretrained_embedings': False, 'unfreeze_epoch': 0, 'gmm': [], 'augment_matrix': True, 'augment_clusters': False, 'augment_old_run_id': 'jxgwsuta', 'augment_clip': 0, 'augment_normalize': True, 'augment_raw': False, 'weight_init': 'normal', 'augment_categories': False, 'augment_nogmm': 32, 'augment_p': 0.5, 'augment_mean': 0.01, 'augment_std': 0.01, 'augment_gmm_init': 'k-means++', 'augment_prenormalize_distances': False, 'augment_noise_p': 0.5, 'augment_alg': 'gmm'}\n",
      "qdxqwnrw\n",
      "Distnace Augmentation: True Clusters: False Categories: False Noise std:  0.01 base model jxgwsuta\n"
     ]
    },
    {
     "name": "stderr",
     "output_type": "stream",
     "text": [
      "100%|██████████| 609/609 [00:22<00:00, 27.58it/s]\n"
     ]
    },
    {
     "name": "stdout",
     "output_type": "stream",
     "text": [
      "[(0, 0.5101383548588517, 0.17973410899964817)]\n",
      "{'dataset': 'diginetica', 'batchSize': 100, 'hiddenSize': 100, 'epoch': 30, 'lr': 0.001, 'lr_dc': 0.1, 'lr_dc_step': 2, 'l2': 1e-06, 'step': 2, 'patience': 4, 'nonhybrid': False, 'validation': True, 'valid_portion': 0.1, 'pretrained_embedings': False, 'unfreeze_epoch': 0, 'gmm': [], 'augment_matrix': True, 'augment_clusters': False, 'augment_old_run_id': 'jxgwsuta', 'augment_clip': 0, 'augment_normalize': True, 'augment_raw': False, 'weight_init': 'normal', 'augment_categories': False, 'augment_nogmm': 16, 'augment_p': 0.5, 'augment_mean': 0.01, 'augment_std': 0.01, 'augment_gmm_init': 'k-means++', 'augment_prenormalize_distances': False, 'augment_noise_p': 0.5, 'augment_alg': 'gmm'}\n",
      "0zl3ui7x\n",
      "Distnace Augmentation: True Clusters: False Categories: False Noise std:  0.01 base model jxgwsuta\n"
     ]
    },
    {
     "name": "stderr",
     "output_type": "stream",
     "text": [
      "100%|██████████| 609/609 [00:21<00:00, 27.75it/s]\n"
     ]
    },
    {
     "name": "stdout",
     "output_type": "stream",
     "text": [
      "[(0, 0.5096125406684413, 0.1794866839962853)]\n",
      "{'dataset': 'diginetica', 'batchSize': 100, 'hiddenSize': 100, 'epoch': 30, 'lr': 0.001, 'lr_dc': 0.1, 'lr_dc_step': 2, 'l2': 1e-06, 'step': 2, 'patience': 4, 'nonhybrid': False, 'validation': True, 'valid_portion': 0.1, 'pretrained_embedings': False, 'unfreeze_epoch': 0, 'gmm': [], 'augment_matrix': True, 'augment_clusters': False, 'augment_old_run_id': 'jxgwsuta', 'augment_clip': 0, 'augment_normalize': True, 'augment_raw': False, 'weight_init': 'normal', 'augment_categories': False, 'augment_nogmm': 8, 'augment_p': 0.5, 'augment_mean': 0.01, 'augment_std': 0.01, 'augment_gmm_init': 'k-means++', 'augment_prenormalize_distances': False, 'augment_noise_p': 0.5, 'augment_alg': 'gmm'}\n",
      "7jkmaij6\n",
      "Distnace Augmentation: True Clusters: False Categories: False Noise std:  0.01 base model jxgwsuta\n"
     ]
    },
    {
     "name": "stderr",
     "output_type": "stream",
     "text": [
      "100%|██████████| 609/609 [00:21<00:00, 27.72it/s]\n"
     ]
    },
    {
     "name": "stdout",
     "output_type": "stream",
     "text": [
      "[(0, 0.511452890334878, 0.1804021706933253)]\n",
      "{'dataset': 'diginetica', 'batchSize': 100, 'hiddenSize': 100, 'epoch': 30, 'lr': 0.001, 'lr_dc': 0.1, 'lr_dc_step': 2, 'l2': 1e-06, 'step': 2, 'patience': 4, 'nonhybrid': False, 'validation': True, 'valid_portion': 0.1, 'pretrained_embedings': False, 'unfreeze_epoch': 0, 'gmm': [], 'augment_matrix': True, 'augment_clusters': False, 'augment_old_run_id': 'jxgwsuta', 'augment_clip': 0, 'augment_normalize': True, 'augment_raw': False, 'weight_init': 'normal', 'augment_categories': False, 'augment_nogmm': 4, 'augment_p': 0.5, 'augment_mean': 0.01, 'augment_std': 0.01, 'augment_gmm_init': 'k-means++', 'augment_prenormalize_distances': False, 'augment_noise_p': 0.5, 'augment_alg': 'gmm'}\n",
      "ud4ap40l\n",
      "Distnace Augmentation: True Clusters: False Categories: False Noise std:  0.01 base model jxgwsuta\n"
     ]
    },
    {
     "name": "stderr",
     "output_type": "stream",
     "text": [
      "100%|██████████| 609/609 [00:22<00:00, 27.15it/s]\n"
     ]
    },
    {
     "name": "stdout",
     "output_type": "stream",
     "text": [
      "[(0, 0.5112721417069244, 0.18038653826616421)]\n",
      "{'dataset': 'diginetica', 'batchSize': 100, 'hiddenSize': 100, 'epoch': 30, 'lr': 0.001, 'lr_dc': 0.1, 'lr_dc_step': 2, 'l2': 1e-06, 'step': 2, 'patience': 4, 'nonhybrid': False, 'validation': True, 'valid_portion': 0.1, 'pretrained_embedings': False, 'unfreeze_epoch': 0, 'gmm': [], 'augment_matrix': True, 'augment_clusters': False, 'augment_old_run_id': '4dm99qnd', 'augment_clip': 0, 'augment_normalize': True, 'augment_raw': False, 'weight_init': 'normal', 'augment_categories': False, 'augment_nogmm': 128, 'augment_p': 0.5, 'augment_mean': 0.01, 'augment_std': 0.01, 'augment_gmm_init': 'k-means++', 'augment_prenormalize_distances': False, 'augment_noise_p': 0.5, 'augment_alg': 'gmm'}\n",
      "5k1ezsql\n",
      "Distnace Augmentation: True Clusters: False Categories: False Noise std:  0.01 base model 4dm99qnd\n"
     ]
    },
    {
     "name": "stderr",
     "output_type": "stream",
     "text": [
      "100%|██████████| 609/609 [00:22<00:00, 27.49it/s]\n"
     ]
    },
    {
     "name": "stdout",
     "output_type": "stream",
     "text": [
      "[(0, 0.5120772946859904, 0.18001090757165156)]\n",
      "{'dataset': 'diginetica', 'batchSize': 100, 'hiddenSize': 100, 'epoch': 30, 'lr': 0.001, 'lr_dc': 0.1, 'lr_dc_step': 2, 'l2': 1e-06, 'step': 2, 'patience': 4, 'nonhybrid': False, 'validation': True, 'valid_portion': 0.1, 'pretrained_embedings': False, 'unfreeze_epoch': 0, 'gmm': [], 'augment_matrix': True, 'augment_clusters': False, 'augment_old_run_id': '4dm99qnd', 'augment_clip': 0, 'augment_normalize': True, 'augment_raw': False, 'weight_init': 'normal', 'augment_categories': False, 'augment_nogmm': 64, 'augment_p': 0.5, 'augment_mean': 0.01, 'augment_std': 0.01, 'augment_gmm_init': 'k-means++', 'augment_prenormalize_distances': False, 'augment_noise_p': 0.5, 'augment_alg': 'gmm'}\n",
      "zkgt4s6x\n",
      "Distnace Augmentation: True Clusters: False Categories: False Noise std:  0.01 base model 4dm99qnd\n"
     ]
    },
    {
     "name": "stderr",
     "output_type": "stream",
     "text": [
      "100%|██████████| 609/609 [00:21<00:00, 27.92it/s]\n"
     ]
    },
    {
     "name": "stdout",
     "output_type": "stream",
     "text": [
      "[(0, 0.5113871635610766, 0.17958141458522162)]\n",
      "{'dataset': 'diginetica', 'batchSize': 100, 'hiddenSize': 100, 'epoch': 30, 'lr': 0.001, 'lr_dc': 0.1, 'lr_dc_step': 2, 'l2': 1e-06, 'step': 2, 'patience': 4, 'nonhybrid': False, 'validation': True, 'valid_portion': 0.1, 'pretrained_embedings': False, 'unfreeze_epoch': 0, 'gmm': [], 'augment_matrix': True, 'augment_clusters': False, 'augment_old_run_id': '4dm99qnd', 'augment_clip': 0, 'augment_normalize': True, 'augment_raw': False, 'weight_init': 'normal', 'augment_categories': False, 'augment_nogmm': 32, 'augment_p': 0.5, 'augment_mean': 0.01, 'augment_std': 0.01, 'augment_gmm_init': 'k-means++', 'augment_prenormalize_distances': False, 'augment_noise_p': 0.5, 'augment_alg': 'gmm'}\n",
      "egqyw7yg\n",
      "Distnace Augmentation: True Clusters: False Categories: False Noise std:  0.01 base model 4dm99qnd\n"
     ]
    },
    {
     "name": "stderr",
     "output_type": "stream",
     "text": [
      "100%|██████████| 609/609 [00:22<00:00, 27.55it/s]\n"
     ]
    },
    {
     "name": "stdout",
     "output_type": "stream",
     "text": [
      "[(0, 0.5092510434125341, 0.17959419701537602)]\n",
      "{'dataset': 'diginetica', 'batchSize': 100, 'hiddenSize': 100, 'epoch': 30, 'lr': 0.001, 'lr_dc': 0.1, 'lr_dc_step': 2, 'l2': 1e-06, 'step': 2, 'patience': 4, 'nonhybrid': False, 'validation': True, 'valid_portion': 0.1, 'pretrained_embedings': False, 'unfreeze_epoch': 0, 'gmm': [], 'augment_matrix': True, 'augment_clusters': False, 'augment_old_run_id': '4dm99qnd', 'augment_clip': 0, 'augment_normalize': True, 'augment_raw': False, 'weight_init': 'normal', 'augment_categories': False, 'augment_nogmm': 16, 'augment_p': 0.5, 'augment_mean': 0.01, 'augment_std': 0.01, 'augment_gmm_init': 'k-means++', 'augment_prenormalize_distances': False, 'augment_noise_p': 0.5, 'augment_alg': 'gmm'}\n",
      "6ixyzjk9\n",
      "Distnace Augmentation: True Clusters: False Categories: False Noise std:  0.01 base model 4dm99qnd\n"
     ]
    },
    {
     "name": "stderr",
     "output_type": "stream",
     "text": [
      "100%|██████████| 609/609 [00:21<00:00, 27.83it/s]\n"
     ]
    },
    {
     "name": "stdout",
     "output_type": "stream",
     "text": [
      "[(0, 0.5100726280850505, 0.17942251998872932)]\n",
      "{'dataset': 'diginetica', 'batchSize': 100, 'hiddenSize': 100, 'epoch': 30, 'lr': 0.001, 'lr_dc': 0.1, 'lr_dc_step': 2, 'l2': 1e-06, 'step': 2, 'patience': 4, 'nonhybrid': False, 'validation': True, 'valid_portion': 0.1, 'pretrained_embedings': False, 'unfreeze_epoch': 0, 'gmm': [], 'augment_matrix': True, 'augment_clusters': False, 'augment_old_run_id': '4dm99qnd', 'augment_clip': 0, 'augment_normalize': True, 'augment_raw': False, 'weight_init': 'normal', 'augment_categories': False, 'augment_nogmm': 8, 'augment_p': 0.5, 'augment_mean': 0.01, 'augment_std': 0.01, 'augment_gmm_init': 'k-means++', 'augment_prenormalize_distances': False, 'augment_noise_p': 0.5, 'augment_alg': 'gmm'}\n",
      "ub1h5qr3\n",
      "Distnace Augmentation: True Clusters: False Categories: False Noise std:  0.01 base model 4dm99qnd\n"
     ]
    },
    {
     "name": "stderr",
     "output_type": "stream",
     "text": [
      "100%|██████████| 609/609 [00:22<00:00, 27.62it/s]\n"
     ]
    },
    {
     "name": "stdout",
     "output_type": "stream",
     "text": [
      "[(0, 0.5133096716947648, 0.1808560849124233)]\n",
      "{'dataset': 'diginetica', 'batchSize': 100, 'hiddenSize': 100, 'epoch': 30, 'lr': 0.001, 'lr_dc': 0.1, 'lr_dc_step': 2, 'l2': 1e-06, 'step': 2, 'patience': 4, 'nonhybrid': False, 'validation': True, 'valid_portion': 0.1, 'pretrained_embedings': False, 'unfreeze_epoch': 0, 'gmm': [], 'augment_matrix': True, 'augment_clusters': False, 'augment_old_run_id': '4dm99qnd', 'augment_clip': 0, 'augment_normalize': True, 'augment_raw': False, 'weight_init': 'normal', 'augment_categories': False, 'augment_nogmm': 4, 'augment_p': 0.5, 'augment_mean': 0.01, 'augment_std': 0.01, 'augment_gmm_init': 'k-means++', 'augment_prenormalize_distances': False, 'augment_noise_p': 0.5, 'augment_alg': 'gmm'}\n",
      "8iea3bxp\n",
      "Distnace Augmentation: True Clusters: False Categories: False Noise std:  0.01 base model 4dm99qnd\n"
     ]
    },
    {
     "name": "stderr",
     "output_type": "stream",
     "text": [
      "100%|██████████| 609/609 [00:22<00:00, 27.66it/s]\n"
     ]
    },
    {
     "name": "stdout",
     "output_type": "stream",
     "text": [
      "[(0, 0.5109928029182688, 0.17986037558397203)]\n",
      "{'dataset': 'diginetica', 'batchSize': 100, 'hiddenSize': 100, 'epoch': 30, 'lr': 0.001, 'lr_dc': 0.1, 'lr_dc_step': 2, 'l2': 1e-06, 'step': 2, 'patience': 4, 'nonhybrid': False, 'validation': True, 'valid_portion': 0.1, 'pretrained_embedings': False, 'unfreeze_epoch': 0, 'gmm': [], 'augment_matrix': True, 'augment_clusters': False, 'augment_old_run_id': '3abge2uq', 'augment_clip': 0, 'augment_normalize': True, 'augment_raw': False, 'weight_init': 'normal', 'augment_categories': False, 'augment_nogmm': 128, 'augment_p': 0.5, 'augment_mean': 0.01, 'augment_std': 0.01, 'augment_gmm_init': 'k-means++', 'augment_prenormalize_distances': False, 'augment_noise_p': 0.5, 'augment_alg': 'gmm'}\n",
      "8f9v8z85\n",
      "Distnace Augmentation: True Clusters: False Categories: False Noise std:  0.01 base model 3abge2uq\n"
     ]
    },
    {
     "name": "stderr",
     "output_type": "stream",
     "text": [
      "100%|██████████| 609/609 [00:22<00:00, 27.60it/s]\n"
     ]
    },
    {
     "name": "stdout",
     "output_type": "stream",
     "text": [
      "[(0, 0.5098261526832956, 0.1805682397039611)]\n",
      "{'dataset': 'diginetica', 'batchSize': 100, 'hiddenSize': 100, 'epoch': 30, 'lr': 0.001, 'lr_dc': 0.1, 'lr_dc_step': 2, 'l2': 1e-06, 'step': 2, 'patience': 4, 'nonhybrid': False, 'validation': True, 'valid_portion': 0.1, 'pretrained_embedings': False, 'unfreeze_epoch': 0, 'gmm': [], 'augment_matrix': True, 'augment_clusters': False, 'augment_old_run_id': '3abge2uq', 'augment_clip': 0, 'augment_normalize': True, 'augment_raw': False, 'weight_init': 'normal', 'augment_categories': False, 'augment_nogmm': 64, 'augment_p': 0.5, 'augment_mean': 0.01, 'augment_std': 0.01, 'augment_gmm_init': 'k-means++', 'augment_prenormalize_distances': False, 'augment_noise_p': 0.5, 'augment_alg': 'gmm'}\n",
      "f80nrp4r\n",
      "Distnace Augmentation: True Clusters: False Categories: False Noise std:  0.01 base model 3abge2uq\n"
     ]
    },
    {
     "name": "stderr",
     "output_type": "stream",
     "text": [
      "100%|██████████| 609/609 [00:22<00:00, 27.64it/s]\n"
     ]
    },
    {
     "name": "stdout",
     "output_type": "stream",
     "text": [
      "[(0, 0.5109106444510171, 0.18017708797098925)]\n",
      "{'dataset': 'diginetica', 'batchSize': 100, 'hiddenSize': 100, 'epoch': 30, 'lr': 0.001, 'lr_dc': 0.1, 'lr_dc_step': 2, 'l2': 1e-06, 'step': 2, 'patience': 4, 'nonhybrid': False, 'validation': True, 'valid_portion': 0.1, 'pretrained_embedings': False, 'unfreeze_epoch': 0, 'gmm': [], 'augment_matrix': True, 'augment_clusters': False, 'augment_old_run_id': '3abge2uq', 'augment_clip': 0, 'augment_normalize': True, 'augment_raw': False, 'weight_init': 'normal', 'augment_categories': False, 'augment_nogmm': 32, 'augment_p': 0.5, 'augment_mean': 0.01, 'augment_std': 0.01, 'augment_gmm_init': 'k-means++', 'augment_prenormalize_distances': False, 'augment_noise_p': 0.5, 'augment_alg': 'gmm'}\n",
      "b60x4mtc\n",
      "Distnace Augmentation: True Clusters: False Categories: False Noise std:  0.01 base model 3abge2uq\n"
     ]
    },
    {
     "name": "stderr",
     "output_type": "stream",
     "text": [
      "100%|██████████| 609/609 [00:21<00:00, 27.72it/s]\n"
     ]
    },
    {
     "name": "stdout",
     "output_type": "stream",
     "text": [
      "[(0, 0.5125702454895001, 0.18039679175578233)]\n",
      "{'dataset': 'diginetica', 'batchSize': 100, 'hiddenSize': 100, 'epoch': 30, 'lr': 0.001, 'lr_dc': 0.1, 'lr_dc_step': 2, 'l2': 1e-06, 'step': 2, 'patience': 4, 'nonhybrid': False, 'validation': True, 'valid_portion': 0.1, 'pretrained_embedings': False, 'unfreeze_epoch': 0, 'gmm': [], 'augment_matrix': True, 'augment_clusters': False, 'augment_old_run_id': '3abge2uq', 'augment_clip': 0, 'augment_normalize': True, 'augment_raw': False, 'weight_init': 'normal', 'augment_categories': False, 'augment_nogmm': 16, 'augment_p': 0.5, 'augment_mean': 0.01, 'augment_std': 0.01, 'augment_gmm_init': 'k-means++', 'augment_prenormalize_distances': False, 'augment_noise_p': 0.5, 'augment_alg': 'gmm'}\n",
      "m8n6p80h\n",
      "Distnace Augmentation: True Clusters: False Categories: False Noise std:  0.01 base model 3abge2uq\n"
     ]
    },
    {
     "name": "stderr",
     "output_type": "stream",
     "text": [
      "100%|██████████| 609/609 [00:21<00:00, 27.86it/s]\n"
     ]
    },
    {
     "name": "stdout",
     "output_type": "stream",
     "text": [
      "[(0, 0.5122251799270433, 0.18066357159746807)]\n",
      "{'dataset': 'diginetica', 'batchSize': 100, 'hiddenSize': 100, 'epoch': 30, 'lr': 0.001, 'lr_dc': 0.1, 'lr_dc_step': 2, 'l2': 1e-06, 'step': 2, 'patience': 4, 'nonhybrid': False, 'validation': True, 'valid_portion': 0.1, 'pretrained_embedings': False, 'unfreeze_epoch': 0, 'gmm': [], 'augment_matrix': True, 'augment_clusters': False, 'augment_old_run_id': '3abge2uq', 'augment_clip': 0, 'augment_normalize': True, 'augment_raw': False, 'weight_init': 'normal', 'augment_categories': False, 'augment_nogmm': 8, 'augment_p': 0.5, 'augment_mean': 0.01, 'augment_std': 0.01, 'augment_gmm_init': 'k-means++', 'augment_prenormalize_distances': False, 'augment_noise_p': 0.5, 'augment_alg': 'gmm'}\n",
      "26kyds0s\n",
      "Distnace Augmentation: True Clusters: False Categories: False Noise std:  0.01 base model 3abge2uq\n"
     ]
    },
    {
     "name": "stderr",
     "output_type": "stream",
     "text": [
      "100%|██████████| 609/609 [00:22<00:00, 27.30it/s]\n"
     ]
    },
    {
     "name": "stdout",
     "output_type": "stream",
     "text": [
      "[(0, 0.5102533767130041, 0.17965640035488953)]\n",
      "{'dataset': 'diginetica', 'batchSize': 100, 'hiddenSize': 100, 'epoch': 30, 'lr': 0.001, 'lr_dc': 0.1, 'lr_dc_step': 2, 'l2': 1e-06, 'step': 2, 'patience': 4, 'nonhybrid': False, 'validation': True, 'valid_portion': 0.1, 'pretrained_embedings': False, 'unfreeze_epoch': 0, 'gmm': [], 'augment_matrix': True, 'augment_clusters': False, 'augment_old_run_id': '3abge2uq', 'augment_clip': 0, 'augment_normalize': True, 'augment_raw': False, 'weight_init': 'normal', 'augment_categories': False, 'augment_nogmm': 4, 'augment_p': 0.5, 'augment_mean': 0.01, 'augment_std': 0.01, 'augment_gmm_init': 'k-means++', 'augment_prenormalize_distances': False, 'augment_noise_p': 0.5, 'augment_alg': 'gmm'}\n",
      "628jlwv2\n",
      "Distnace Augmentation: True Clusters: False Categories: False Noise std:  0.01 base model 3abge2uq\n"
     ]
    },
    {
     "name": "stderr",
     "output_type": "stream",
     "text": [
      "100%|██████████| 609/609 [00:20<00:00, 30.24it/s]\n"
     ]
    },
    {
     "name": "stdout",
     "output_type": "stream",
     "text": [
      "[(0, 0.5085609122876203, 0.17896482730575788)]\n",
      "{'dataset': 'diginetica', 'batchSize': 100, 'hiddenSize': 100, 'epoch': 30, 'lr': 0.001, 'lr_dc': 0.1, 'lr_dc_step': 2, 'l2': 1e-06, 'step': 2, 'patience': 4, 'nonhybrid': False, 'validation': True, 'valid_portion': 0.1, 'pretrained_embedings': False, 'unfreeze_epoch': 0, 'gmm': [], 'augment_matrix': True, 'augment_clusters': False, 'augment_old_run_id': 'qm2ur7o3', 'augment_clip': 0, 'augment_normalize': True, 'augment_raw': False, 'weight_init': 'normal', 'augment_categories': False, 'augment_nogmm': 128, 'augment_p': 0.5, 'augment_mean': 0.01, 'augment_std': 0.01, 'augment_gmm_init': 'k-means++', 'augment_prenormalize_distances': False, 'augment_noise_p': 0.5, 'augment_alg': 'gmm'}\n",
      "dwgw5a3v\n",
      "Distnace Augmentation: True Clusters: False Categories: False Noise std:  0.01 base model qm2ur7o3\n"
     ]
    },
    {
     "name": "stderr",
     "output_type": "stream",
     "text": [
      "100%|██████████| 609/609 [00:21<00:00, 28.74it/s]\n"
     ]
    },
    {
     "name": "stdout",
     "output_type": "stream",
     "text": [
      "[(0, 0.5101383548588517, 0.17975118332667528)]\n",
      "{'dataset': 'diginetica', 'batchSize': 100, 'hiddenSize': 100, 'epoch': 30, 'lr': 0.001, 'lr_dc': 0.1, 'lr_dc_step': 2, 'l2': 1e-06, 'step': 2, 'patience': 4, 'nonhybrid': False, 'validation': True, 'valid_portion': 0.1, 'pretrained_embedings': False, 'unfreeze_epoch': 0, 'gmm': [], 'augment_matrix': True, 'augment_clusters': False, 'augment_old_run_id': 'qm2ur7o3', 'augment_clip': 0, 'augment_normalize': True, 'augment_raw': False, 'weight_init': 'normal', 'augment_categories': False, 'augment_nogmm': 64, 'augment_p': 0.5, 'augment_mean': 0.01, 'augment_std': 0.01, 'augment_gmm_init': 'k-means++', 'augment_prenormalize_distances': False, 'augment_noise_p': 0.5, 'augment_alg': 'gmm'}\n",
      "18j6ce86\n",
      "Distnace Augmentation: True Clusters: False Categories: False Noise std:  0.01 base model qm2ur7o3\n"
     ]
    },
    {
     "name": "stderr",
     "output_type": "stream",
     "text": [
      "100%|██████████| 609/609 [00:22<00:00, 27.60it/s]\n"
     ]
    },
    {
     "name": "stdout",
     "output_type": "stream",
     "text": [
      "[(0, 0.5107298958230635, 0.18040133415095758)]\n",
      "{'dataset': 'diginetica', 'batchSize': 100, 'hiddenSize': 100, 'epoch': 30, 'lr': 0.001, 'lr_dc': 0.1, 'lr_dc_step': 2, 'l2': 1e-06, 'step': 2, 'patience': 4, 'nonhybrid': False, 'validation': True, 'valid_portion': 0.1, 'pretrained_embedings': False, 'unfreeze_epoch': 0, 'gmm': [], 'augment_matrix': True, 'augment_clusters': False, 'augment_old_run_id': 'qm2ur7o3', 'augment_clip': 0, 'augment_normalize': True, 'augment_raw': False, 'weight_init': 'normal', 'augment_categories': False, 'augment_nogmm': 32, 'augment_p': 0.5, 'augment_mean': 0.01, 'augment_std': 0.01, 'augment_gmm_init': 'k-means++', 'augment_prenormalize_distances': False, 'augment_noise_p': 0.5, 'augment_alg': 'gmm'}\n",
      "b5pfaja0\n",
      "Distnace Augmentation: True Clusters: False Categories: False Noise std:  0.01 base model qm2ur7o3\n"
     ]
    },
    {
     "name": "stderr",
     "output_type": "stream",
     "text": [
      "100%|██████████| 609/609 [00:21<00:00, 27.71it/s]\n"
     ]
    },
    {
     "name": "stdout",
     "output_type": "stream",
     "text": [
      "[(0, 0.5104998521147589, 0.1808619193771119)]\n",
      "{'dataset': 'diginetica', 'batchSize': 100, 'hiddenSize': 100, 'epoch': 30, 'lr': 0.001, 'lr_dc': 0.1, 'lr_dc_step': 2, 'l2': 1e-06, 'step': 2, 'patience': 4, 'nonhybrid': False, 'validation': True, 'valid_portion': 0.1, 'pretrained_embedings': False, 'unfreeze_epoch': 0, 'gmm': [], 'augment_matrix': True, 'augment_clusters': False, 'augment_old_run_id': 'qm2ur7o3', 'augment_clip': 0, 'augment_normalize': True, 'augment_raw': False, 'weight_init': 'normal', 'augment_categories': False, 'augment_nogmm': 16, 'augment_p': 0.5, 'augment_mean': 0.01, 'augment_std': 0.01, 'augment_gmm_init': 'k-means++', 'augment_prenormalize_distances': False, 'augment_noise_p': 0.5, 'augment_alg': 'gmm'}\n",
      "rwhslx2m\n",
      "Distnace Augmentation: True Clusters: False Categories: False Noise std:  0.01 base model qm2ur7o3\n"
     ]
    },
    {
     "name": "stderr",
     "output_type": "stream",
     "text": [
      "100%|██████████| 609/609 [00:21<00:00, 27.77it/s]\n"
     ]
    },
    {
     "name": "stdout",
     "output_type": "stream",
     "text": [
      "[(0, 0.5102862400999046, 0.17902550461046973)]\n",
      "{'dataset': 'diginetica', 'batchSize': 100, 'hiddenSize': 100, 'epoch': 30, 'lr': 0.001, 'lr_dc': 0.1, 'lr_dc_step': 2, 'l2': 1e-06, 'step': 2, 'patience': 4, 'nonhybrid': False, 'validation': True, 'valid_portion': 0.1, 'pretrained_embedings': False, 'unfreeze_epoch': 0, 'gmm': [], 'augment_matrix': True, 'augment_clusters': False, 'augment_old_run_id': 'qm2ur7o3', 'augment_clip': 0, 'augment_normalize': True, 'augment_raw': False, 'weight_init': 'normal', 'augment_categories': False, 'augment_nogmm': 8, 'augment_p': 0.5, 'augment_mean': 0.01, 'augment_std': 0.01, 'augment_gmm_init': 'k-means++', 'augment_prenormalize_distances': False, 'augment_noise_p': 0.5, 'augment_alg': 'gmm'}\n",
      "gt0rzzmz\n",
      "Distnace Augmentation: True Clusters: False Categories: False Noise std:  0.01 base model qm2ur7o3\n"
     ]
    },
    {
     "name": "stderr",
     "output_type": "stream",
     "text": [
      "100%|██████████| 609/609 [00:21<00:00, 27.73it/s]\n"
     ]
    },
    {
     "name": "stdout",
     "output_type": "stream",
     "text": [
      "[(0, 0.5100069013112492, 0.17980339839575524)]\n",
      "{'dataset': 'diginetica', 'batchSize': 100, 'hiddenSize': 100, 'epoch': 30, 'lr': 0.001, 'lr_dc': 0.1, 'lr_dc_step': 2, 'l2': 1e-06, 'step': 2, 'patience': 4, 'nonhybrid': False, 'validation': True, 'valid_portion': 0.1, 'pretrained_embedings': False, 'unfreeze_epoch': 0, 'gmm': [], 'augment_matrix': True, 'augment_clusters': False, 'augment_old_run_id': 'qm2ur7o3', 'augment_clip': 0, 'augment_normalize': True, 'augment_raw': False, 'weight_init': 'normal', 'augment_categories': False, 'augment_nogmm': 4, 'augment_p': 0.5, 'augment_mean': 0.01, 'augment_std': 0.01, 'augment_gmm_init': 'k-means++', 'augment_prenormalize_distances': False, 'augment_noise_p': 0.5, 'augment_alg': 'gmm'}\n",
      "xscwi8xw\n",
      "Distnace Augmentation: True Clusters: False Categories: False Noise std:  0.01 base model qm2ur7o3\n"
     ]
    },
    {
     "name": "stderr",
     "output_type": "stream",
     "text": [
      "100%|██████████| 609/609 [00:22<00:00, 27.57it/s]\n"
     ]
    },
    {
     "name": "stdout",
     "output_type": "stream",
     "text": [
      "[(0, 0.5128167208912551, 0.18006235085203398)]\n",
      "{'dataset': 'diginetica', 'batchSize': 100, 'hiddenSize': 100, 'epoch': 30, 'lr': 0.001, 'lr_dc': 0.1, 'lr_dc_step': 3, 'l2': 1e-05, 'step': 2, 'patience': 5, 'nonhybrid': False, 'validation': True, 'valid_portion': 0.1, 'pretrained_embedings': False, 'unfreeze_epoch': 0, 'gmm': [], 'augment_matrix': True, 'augment_clusters': False, 'augment_old_run_id': 'qm2ur7o3', 'augment_clip': 0, 'augment_normalize': True, 'augment_raw': False, 'weight_init': 'normal', 'augment_categories': False, 'augment_nogmm': 32, 'augment_p': 0.5, 'augment_mean': 0.01, 'augment_std': 0.01, 'augment_gmm_init': 'k-means++', 'augment_prenormalize_distances': False, 'augment_noise_p': 0.5, 'augment_alg': 'gmm'}\n",
      "kkpuxgtn\n",
      "Distnace Augmentation: True Clusters: False Categories: False Noise std:  0.01 base model qm2ur7o3\n"
     ]
    },
    {
     "name": "stderr",
     "output_type": "stream",
     "text": [
      "100%|██████████| 609/609 [00:21<00:00, 27.74it/s]\n"
     ]
    },
    {
     "name": "stdout",
     "output_type": "stream",
     "text": [
      "[(0, 0.501758191199185, 0.17445833306371644)]\n"
     ]
    }
   ],
   "source": [
    "results={}\n",
    "for run_id in runs:\n",
    "  try:\n",
    "    model,opt=load_model(run_id)\n",
    "  except IndexError:\n",
    "      continue    #dataset=get_dataset(opt)\n",
    "  # am_test_dataloader=DataLoader(dataset,    num_workers=os.cpu_count(),  \n",
    "  #                       sampler=SRGNN_sampler(dataset, opt.batchSize, shuffle=False, drop_last=False)\n",
    "  #                   )\n",
    "  print(run_id)\n",
    "  print('Distnace Augmentation:', opt.augment_matrix,\n",
    "      'Clusters:', opt.augment_clusters,\n",
    "        'Categories:', opt.augment_categories,\n",
    "        'Noise std: ', opt.augment_std,\n",
    "        'base model', opt.augment_old_run_id,\n",
    "        )\n",
    "  metrics=get_metrics_by_hand(model, [normal_test_dataloader])\n",
    "  results[run_id]=metrics\n",
    "  print(metrics)"
   ]
  },
  {
   "cell_type": "code",
   "execution_count": 16,
   "metadata": {},
   "outputs": [],
   "source": [
    "manual_res_df=pd.DataFrame(results).T.reset_index()\n",
    "manual_res_df[['DataLoader_id','hit','mrr']]=pd.DataFrame(manual_res_df[0].to_list(), columns=['DataLoader_id','hit','mrr'])\n",
    "manual_res_df.rename(columns={'index':'run_id'}, inplace=True)\n",
    "manual_res_df.drop(columns=0, inplace=True)"
   ]
  },
  {
   "cell_type": "code",
   "execution_count": 20,
   "metadata": {},
   "outputs": [
    {
     "data": {
      "text/html": [
       "<div>\n",
       "<style scoped>\n",
       "    .dataframe tbody tr th:only-of-type {\n",
       "        vertical-align: middle;\n",
       "    }\n",
       "\n",
       "    .dataframe tbody tr th {\n",
       "        vertical-align: top;\n",
       "    }\n",
       "\n",
       "    .dataframe thead th {\n",
       "        text-align: right;\n",
       "    }\n",
       "</style>\n",
       "<table border=\"1\" class=\"dataframe\">\n",
       "  <thead>\n",
       "    <tr style=\"text-align: right;\">\n",
       "      <th></th>\n",
       "      <th>run_id</th>\n",
       "      <th>DataLoader_id</th>\n",
       "      <th>hit</th>\n",
       "      <th>mrr</th>\n",
       "    </tr>\n",
       "  </thead>\n",
       "  <tbody>\n",
       "    <tr>\n",
       "      <th>0</th>\n",
       "      <td>yp1n5fb3</td>\n",
       "      <td>0</td>\n",
       "      <td>0.511108</td>\n",
       "      <td>0.180027</td>\n",
       "    </tr>\n",
       "    <tr>\n",
       "      <th>1</th>\n",
       "      <td>naj1qrsy</td>\n",
       "      <td>0</td>\n",
       "      <td>0.510385</td>\n",
       "      <td>0.180053</td>\n",
       "    </tr>\n",
       "    <tr>\n",
       "      <th>2</th>\n",
       "      <td>pl1wvihn</td>\n",
       "      <td>0</td>\n",
       "      <td>0.512981</td>\n",
       "      <td>0.181123</td>\n",
       "    </tr>\n",
       "    <tr>\n",
       "      <th>3</th>\n",
       "      <td>s7r181i0</td>\n",
       "      <td>0</td>\n",
       "      <td>0.508660</td>\n",
       "      <td>0.180362</td>\n",
       "    </tr>\n",
       "    <tr>\n",
       "      <th>4</th>\n",
       "      <td>fp4lprkj</td>\n",
       "      <td>0</td>\n",
       "      <td>0.510483</td>\n",
       "      <td>0.179483</td>\n",
       "    </tr>\n",
       "    <tr>\n",
       "      <th>5</th>\n",
       "      <td>yrq35hmp</td>\n",
       "      <td>0</td>\n",
       "      <td>0.509810</td>\n",
       "      <td>0.179867</td>\n",
       "    </tr>\n",
       "    <tr>\n",
       "      <th>6</th>\n",
       "      <td>pxgponas</td>\n",
       "      <td>0</td>\n",
       "      <td>0.509596</td>\n",
       "      <td>0.180071</td>\n",
       "    </tr>\n",
       "    <tr>\n",
       "      <th>7</th>\n",
       "      <td>31hc2s4t</td>\n",
       "      <td>0</td>\n",
       "      <td>0.511354</td>\n",
       "      <td>0.179862</td>\n",
       "    </tr>\n",
       "    <tr>\n",
       "      <th>8</th>\n",
       "      <td>v94f9jmw</td>\n",
       "      <td>0</td>\n",
       "      <td>0.509284</td>\n",
       "      <td>0.180181</td>\n",
       "    </tr>\n",
       "    <tr>\n",
       "      <th>9</th>\n",
       "      <td>9wa54kna</td>\n",
       "      <td>0</td>\n",
       "      <td>0.509267</td>\n",
       "      <td>0.178781</td>\n",
       "    </tr>\n",
       "    <tr>\n",
       "      <th>10</th>\n",
       "      <td>xbpg8ncx</td>\n",
       "      <td>0</td>\n",
       "      <td>0.511486</td>\n",
       "      <td>0.180336</td>\n",
       "    </tr>\n",
       "    <tr>\n",
       "      <th>11</th>\n",
       "      <td>kltkp2te</td>\n",
       "      <td>0</td>\n",
       "      <td>0.510418</td>\n",
       "      <td>0.180672</td>\n",
       "    </tr>\n",
       "    <tr>\n",
       "      <th>12</th>\n",
       "      <td>z7mdp78e</td>\n",
       "      <td>0</td>\n",
       "      <td>0.510878</td>\n",
       "      <td>0.180528</td>\n",
       "    </tr>\n",
       "    <tr>\n",
       "      <th>13</th>\n",
       "      <td>o9t9gt9v</td>\n",
       "      <td>0</td>\n",
       "      <td>0.508775</td>\n",
       "      <td>0.179483</td>\n",
       "    </tr>\n",
       "    <tr>\n",
       "      <th>14</th>\n",
       "      <td>qdxqwnrw</td>\n",
       "      <td>0</td>\n",
       "      <td>0.510138</td>\n",
       "      <td>0.179734</td>\n",
       "    </tr>\n",
       "    <tr>\n",
       "      <th>15</th>\n",
       "      <td>0zl3ui7x</td>\n",
       "      <td>0</td>\n",
       "      <td>0.509613</td>\n",
       "      <td>0.179487</td>\n",
       "    </tr>\n",
       "    <tr>\n",
       "      <th>16</th>\n",
       "      <td>7jkmaij6</td>\n",
       "      <td>0</td>\n",
       "      <td>0.511453</td>\n",
       "      <td>0.180402</td>\n",
       "    </tr>\n",
       "    <tr>\n",
       "      <th>17</th>\n",
       "      <td>ud4ap40l</td>\n",
       "      <td>0</td>\n",
       "      <td>0.511272</td>\n",
       "      <td>0.180387</td>\n",
       "    </tr>\n",
       "    <tr>\n",
       "      <th>18</th>\n",
       "      <td>5k1ezsql</td>\n",
       "      <td>0</td>\n",
       "      <td>0.512077</td>\n",
       "      <td>0.180011</td>\n",
       "    </tr>\n",
       "    <tr>\n",
       "      <th>19</th>\n",
       "      <td>zkgt4s6x</td>\n",
       "      <td>0</td>\n",
       "      <td>0.511387</td>\n",
       "      <td>0.179581</td>\n",
       "    </tr>\n",
       "    <tr>\n",
       "      <th>20</th>\n",
       "      <td>egqyw7yg</td>\n",
       "      <td>0</td>\n",
       "      <td>0.509251</td>\n",
       "      <td>0.179594</td>\n",
       "    </tr>\n",
       "    <tr>\n",
       "      <th>21</th>\n",
       "      <td>6ixyzjk9</td>\n",
       "      <td>0</td>\n",
       "      <td>0.510073</td>\n",
       "      <td>0.179423</td>\n",
       "    </tr>\n",
       "    <tr>\n",
       "      <th>22</th>\n",
       "      <td>ub1h5qr3</td>\n",
       "      <td>0</td>\n",
       "      <td>0.513310</td>\n",
       "      <td>0.180856</td>\n",
       "    </tr>\n",
       "    <tr>\n",
       "      <th>23</th>\n",
       "      <td>8iea3bxp</td>\n",
       "      <td>0</td>\n",
       "      <td>0.510993</td>\n",
       "      <td>0.179860</td>\n",
       "    </tr>\n",
       "    <tr>\n",
       "      <th>24</th>\n",
       "      <td>8f9v8z85</td>\n",
       "      <td>0</td>\n",
       "      <td>0.509826</td>\n",
       "      <td>0.180568</td>\n",
       "    </tr>\n",
       "    <tr>\n",
       "      <th>25</th>\n",
       "      <td>f80nrp4r</td>\n",
       "      <td>0</td>\n",
       "      <td>0.510911</td>\n",
       "      <td>0.180177</td>\n",
       "    </tr>\n",
       "    <tr>\n",
       "      <th>26</th>\n",
       "      <td>b60x4mtc</td>\n",
       "      <td>0</td>\n",
       "      <td>0.512570</td>\n",
       "      <td>0.180397</td>\n",
       "    </tr>\n",
       "    <tr>\n",
       "      <th>27</th>\n",
       "      <td>m8n6p80h</td>\n",
       "      <td>0</td>\n",
       "      <td>0.512225</td>\n",
       "      <td>0.180664</td>\n",
       "    </tr>\n",
       "    <tr>\n",
       "      <th>28</th>\n",
       "      <td>26kyds0s</td>\n",
       "      <td>0</td>\n",
       "      <td>0.510253</td>\n",
       "      <td>0.179656</td>\n",
       "    </tr>\n",
       "    <tr>\n",
       "      <th>29</th>\n",
       "      <td>628jlwv2</td>\n",
       "      <td>0</td>\n",
       "      <td>0.508561</td>\n",
       "      <td>0.178965</td>\n",
       "    </tr>\n",
       "    <tr>\n",
       "      <th>30</th>\n",
       "      <td>dwgw5a3v</td>\n",
       "      <td>0</td>\n",
       "      <td>0.510138</td>\n",
       "      <td>0.179751</td>\n",
       "    </tr>\n",
       "    <tr>\n",
       "      <th>31</th>\n",
       "      <td>18j6ce86</td>\n",
       "      <td>0</td>\n",
       "      <td>0.510730</td>\n",
       "      <td>0.180401</td>\n",
       "    </tr>\n",
       "    <tr>\n",
       "      <th>32</th>\n",
       "      <td>b5pfaja0</td>\n",
       "      <td>0</td>\n",
       "      <td>0.510500</td>\n",
       "      <td>0.180862</td>\n",
       "    </tr>\n",
       "    <tr>\n",
       "      <th>33</th>\n",
       "      <td>rwhslx2m</td>\n",
       "      <td>0</td>\n",
       "      <td>0.510286</td>\n",
       "      <td>0.179026</td>\n",
       "    </tr>\n",
       "    <tr>\n",
       "      <th>34</th>\n",
       "      <td>gt0rzzmz</td>\n",
       "      <td>0</td>\n",
       "      <td>0.510007</td>\n",
       "      <td>0.179803</td>\n",
       "    </tr>\n",
       "    <tr>\n",
       "      <th>35</th>\n",
       "      <td>xscwi8xw</td>\n",
       "      <td>0</td>\n",
       "      <td>0.512817</td>\n",
       "      <td>0.180062</td>\n",
       "    </tr>\n",
       "    <tr>\n",
       "      <th>36</th>\n",
       "      <td>kkpuxgtn</td>\n",
       "      <td>0</td>\n",
       "      <td>0.501758</td>\n",
       "      <td>0.174458</td>\n",
       "    </tr>\n",
       "  </tbody>\n",
       "</table>\n",
       "</div>"
      ],
      "text/plain": [
       "      run_id  DataLoader_id       hit       mrr\n",
       "0   yp1n5fb3              0  0.511108  0.180027\n",
       "1   naj1qrsy              0  0.510385  0.180053\n",
       "2   pl1wvihn              0  0.512981  0.181123\n",
       "3   s7r181i0              0  0.508660  0.180362\n",
       "4   fp4lprkj              0  0.510483  0.179483\n",
       "5   yrq35hmp              0  0.509810  0.179867\n",
       "6   pxgponas              0  0.509596  0.180071\n",
       "7   31hc2s4t              0  0.511354  0.179862\n",
       "8   v94f9jmw              0  0.509284  0.180181\n",
       "9   9wa54kna              0  0.509267  0.178781\n",
       "10  xbpg8ncx              0  0.511486  0.180336\n",
       "11  kltkp2te              0  0.510418  0.180672\n",
       "12  z7mdp78e              0  0.510878  0.180528\n",
       "13  o9t9gt9v              0  0.508775  0.179483\n",
       "14  qdxqwnrw              0  0.510138  0.179734\n",
       "15  0zl3ui7x              0  0.509613  0.179487\n",
       "16  7jkmaij6              0  0.511453  0.180402\n",
       "17  ud4ap40l              0  0.511272  0.180387\n",
       "18  5k1ezsql              0  0.512077  0.180011\n",
       "19  zkgt4s6x              0  0.511387  0.179581\n",
       "20  egqyw7yg              0  0.509251  0.179594\n",
       "21  6ixyzjk9              0  0.510073  0.179423\n",
       "22  ub1h5qr3              0  0.513310  0.180856\n",
       "23  8iea3bxp              0  0.510993  0.179860\n",
       "24  8f9v8z85              0  0.509826  0.180568\n",
       "25  f80nrp4r              0  0.510911  0.180177\n",
       "26  b60x4mtc              0  0.512570  0.180397\n",
       "27  m8n6p80h              0  0.512225  0.180664\n",
       "28  26kyds0s              0  0.510253  0.179656\n",
       "29  628jlwv2              0  0.508561  0.178965\n",
       "30  dwgw5a3v              0  0.510138  0.179751\n",
       "31  18j6ce86              0  0.510730  0.180401\n",
       "32  b5pfaja0              0  0.510500  0.180862\n",
       "33  rwhslx2m              0  0.510286  0.179026\n",
       "34  gt0rzzmz              0  0.510007  0.179803\n",
       "35  xscwi8xw              0  0.512817  0.180062\n",
       "36  kkpuxgtn              0  0.501758  0.174458"
      ]
     },
     "execution_count": 20,
     "metadata": {},
     "output_type": "execute_result"
    }
   ],
   "source": [
    "res_df=res_df.merge(manual_res_df,  on='run_id')"
   ]
  },
  {
   "cell_type": "code",
   "execution_count": 22,
   "metadata": {},
   "outputs": [
    {
     "data": {
      "text/html": [
       "<div>\n",
       "<style scoped>\n",
       "    .dataframe tbody tr th:only-of-type {\n",
       "        vertical-align: middle;\n",
       "    }\n",
       "\n",
       "    .dataframe tbody tr th {\n",
       "        vertical-align: top;\n",
       "    }\n",
       "\n",
       "    .dataframe thead th {\n",
       "        text-align: right;\n",
       "    }\n",
       "</style>\n",
       "<table border=\"1\" class=\"dataframe\">\n",
       "  <thead>\n",
       "    <tr style=\"text-align: right;\">\n",
       "      <th></th>\n",
       "      <th>test_loss</th>\n",
       "      <th>test_hit</th>\n",
       "      <th>test_mrr</th>\n",
       "      <th>run_id</th>\n",
       "      <th>dataset</th>\n",
       "      <th>batchSize</th>\n",
       "      <th>hiddenSize</th>\n",
       "      <th>epoch</th>\n",
       "      <th>lr</th>\n",
       "      <th>lr_dc</th>\n",
       "      <th>...</th>\n",
       "      <th>augment_gmm_init</th>\n",
       "      <th>augment_prenormalize_distances</th>\n",
       "      <th>augment_noise_p</th>\n",
       "      <th>augment_alg</th>\n",
       "      <th>DataLoader_id_x</th>\n",
       "      <th>hit_x</th>\n",
       "      <th>mrr_x</th>\n",
       "      <th>DataLoader_id_y</th>\n",
       "      <th>hit_y</th>\n",
       "      <th>mrr_y</th>\n",
       "    </tr>\n",
       "  </thead>\n",
       "  <tbody>\n",
       "    <tr>\n",
       "      <th>0</th>\n",
       "      <td>5.498109</td>\n",
       "      <td>51.115963</td>\n",
       "      <td>18.006958</td>\n",
       "      <td>yp1n5fb3</td>\n",
       "      <td>diginetica</td>\n",
       "      <td>100</td>\n",
       "      <td>100</td>\n",
       "      <td>30</td>\n",
       "      <td>0.001</td>\n",
       "      <td>0.1</td>\n",
       "      <td>...</td>\n",
       "      <td>k-means++</td>\n",
       "      <td>False</td>\n",
       "      <td>0.5</td>\n",
       "      <td>gmm</td>\n",
       "      <td>0</td>\n",
       "      <td>0.511108</td>\n",
       "      <td>0.180027</td>\n",
       "      <td>0</td>\n",
       "      <td>0.511108</td>\n",
       "      <td>0.180027</td>\n",
       "    </tr>\n",
       "    <tr>\n",
       "      <th>1</th>\n",
       "      <td>5.495818</td>\n",
       "      <td>51.048470</td>\n",
       "      <td>18.010406</td>\n",
       "      <td>naj1qrsy</td>\n",
       "      <td>diginetica</td>\n",
       "      <td>100</td>\n",
       "      <td>100</td>\n",
       "      <td>30</td>\n",
       "      <td>0.001</td>\n",
       "      <td>0.1</td>\n",
       "      <td>...</td>\n",
       "      <td>k-means++</td>\n",
       "      <td>False</td>\n",
       "      <td>0.5</td>\n",
       "      <td>gmm</td>\n",
       "      <td>0</td>\n",
       "      <td>0.510385</td>\n",
       "      <td>0.180053</td>\n",
       "      <td>0</td>\n",
       "      <td>0.510385</td>\n",
       "      <td>0.180053</td>\n",
       "    </tr>\n",
       "    <tr>\n",
       "      <th>2</th>\n",
       "      <td>5.480463</td>\n",
       "      <td>51.300774</td>\n",
       "      <td>18.113754</td>\n",
       "      <td>pl1wvihn</td>\n",
       "      <td>diginetica</td>\n",
       "      <td>100</td>\n",
       "      <td>100</td>\n",
       "      <td>30</td>\n",
       "      <td>0.001</td>\n",
       "      <td>0.1</td>\n",
       "      <td>...</td>\n",
       "      <td>k-means++</td>\n",
       "      <td>False</td>\n",
       "      <td>0.5</td>\n",
       "      <td>gmm</td>\n",
       "      <td>0</td>\n",
       "      <td>0.512981</td>\n",
       "      <td>0.181123</td>\n",
       "      <td>0</td>\n",
       "      <td>0.512981</td>\n",
       "      <td>0.181123</td>\n",
       "    </tr>\n",
       "    <tr>\n",
       "      <th>3</th>\n",
       "      <td>5.503563</td>\n",
       "      <td>50.868919</td>\n",
       "      <td>18.040007</td>\n",
       "      <td>s7r181i0</td>\n",
       "      <td>diginetica</td>\n",
       "      <td>100</td>\n",
       "      <td>100</td>\n",
       "      <td>30</td>\n",
       "      <td>0.001</td>\n",
       "      <td>0.1</td>\n",
       "      <td>...</td>\n",
       "      <td>k-means++</td>\n",
       "      <td>False</td>\n",
       "      <td>0.5</td>\n",
       "      <td>gmm</td>\n",
       "      <td>0</td>\n",
       "      <td>0.508660</td>\n",
       "      <td>0.180362</td>\n",
       "      <td>0</td>\n",
       "      <td>0.508660</td>\n",
       "      <td>0.180362</td>\n",
       "    </tr>\n",
       "    <tr>\n",
       "      <th>4</th>\n",
       "      <td>5.491195</td>\n",
       "      <td>51.053566</td>\n",
       "      <td>17.951180</td>\n",
       "      <td>fp4lprkj</td>\n",
       "      <td>diginetica</td>\n",
       "      <td>100</td>\n",
       "      <td>100</td>\n",
       "      <td>30</td>\n",
       "      <td>0.001</td>\n",
       "      <td>0.1</td>\n",
       "      <td>...</td>\n",
       "      <td>k-means++</td>\n",
       "      <td>False</td>\n",
       "      <td>0.5</td>\n",
       "      <td>gmm</td>\n",
       "      <td>0</td>\n",
       "      <td>0.510483</td>\n",
       "      <td>0.179483</td>\n",
       "      <td>0</td>\n",
       "      <td>0.510483</td>\n",
       "      <td>0.179483</td>\n",
       "    </tr>\n",
       "  </tbody>\n",
       "</table>\n",
       "<p>5 rows × 42 columns</p>\n",
       "</div>"
      ],
      "text/plain": [
       "   test_loss   test_hit   test_mrr    run_id     dataset  batchSize  \\\n",
       "0   5.498109  51.115963  18.006958  yp1n5fb3  diginetica        100   \n",
       "1   5.495818  51.048470  18.010406  naj1qrsy  diginetica        100   \n",
       "2   5.480463  51.300774  18.113754  pl1wvihn  diginetica        100   \n",
       "3   5.503563  50.868919  18.040007  s7r181i0  diginetica        100   \n",
       "4   5.491195  51.053566  17.951180  fp4lprkj  diginetica        100   \n",
       "\n",
       "   hiddenSize  epoch     lr  lr_dc  ...  augment_gmm_init  \\\n",
       "0         100     30  0.001    0.1  ...         k-means++   \n",
       "1         100     30  0.001    0.1  ...         k-means++   \n",
       "2         100     30  0.001    0.1  ...         k-means++   \n",
       "3         100     30  0.001    0.1  ...         k-means++   \n",
       "4         100     30  0.001    0.1  ...         k-means++   \n",
       "\n",
       "   augment_prenormalize_distances  augment_noise_p  augment_alg  \\\n",
       "0                           False              0.5          gmm   \n",
       "1                           False              0.5          gmm   \n",
       "2                           False              0.5          gmm   \n",
       "3                           False              0.5          gmm   \n",
       "4                           False              0.5          gmm   \n",
       "\n",
       "   DataLoader_id_x     hit_x     mrr_x  DataLoader_id_y     hit_y     mrr_y  \n",
       "0                0  0.511108  0.180027                0  0.511108  0.180027  \n",
       "1                0  0.510385  0.180053                0  0.510385  0.180053  \n",
       "2                0  0.512981  0.181123                0  0.512981  0.181123  \n",
       "3                0  0.508660  0.180362                0  0.508660  0.180362  \n",
       "4                0  0.510483  0.179483                0  0.510483  0.179483  \n",
       "\n",
       "[5 rows x 42 columns]"
      ]
     },
     "execution_count": 22,
     "metadata": {},
     "output_type": "execute_result"
    }
   ],
   "source": [
    "res_df.head()"
   ]
  },
  {
   "cell_type": "code",
   "execution_count": 26,
   "metadata": {},
   "outputs": [
    {
     "data": {
      "text/html": [
       "<div>\n",
       "<style scoped>\n",
       "    .dataframe tbody tr th:only-of-type {\n",
       "        vertical-align: middle;\n",
       "    }\n",
       "\n",
       "    .dataframe tbody tr th {\n",
       "        vertical-align: top;\n",
       "    }\n",
       "\n",
       "    .dataframe thead th {\n",
       "        text-align: right;\n",
       "    }\n",
       "</style>\n",
       "<table border=\"1\" class=\"dataframe\">\n",
       "  <thead>\n",
       "    <tr style=\"text-align: right;\">\n",
       "      <th></th>\n",
       "      <th>test_loss</th>\n",
       "      <th>test_hit</th>\n",
       "      <th>hit_x</th>\n",
       "      <th>test_mrr</th>\n",
       "      <th>mrr_x</th>\n",
       "    </tr>\n",
       "    <tr>\n",
       "      <th>augment_nogmm</th>\n",
       "      <th></th>\n",
       "      <th></th>\n",
       "      <th></th>\n",
       "      <th></th>\n",
       "      <th></th>\n",
       "    </tr>\n",
       "  </thead>\n",
       "  <tbody>\n",
       "    <tr>\n",
       "      <th>4</th>\n",
       "      <td>5.501831</td>\n",
       "      <td>51.069117</td>\n",
       "      <td>51.064500</td>\n",
       "      <td>18.000839</td>\n",
       "      <td>17.996884</td>\n",
       "    </tr>\n",
       "    <tr>\n",
       "      <th>8</th>\n",
       "      <td>5.497276</td>\n",
       "      <td>51.121709</td>\n",
       "      <td>51.116534</td>\n",
       "      <td>18.013581</td>\n",
       "      <td>18.008950</td>\n",
       "    </tr>\n",
       "    <tr>\n",
       "      <th>16</th>\n",
       "      <td>5.499573</td>\n",
       "      <td>51.005531</td>\n",
       "      <td>51.002059</td>\n",
       "      <td>17.965641</td>\n",
       "      <td>17.962356</td>\n",
       "    </tr>\n",
       "    <tr>\n",
       "      <th>32</th>\n",
       "      <td>5.509364</td>\n",
       "      <td>50.953684</td>\n",
       "      <td>50.949752</td>\n",
       "      <td>17.950806</td>\n",
       "      <td>17.947840</td>\n",
       "    </tr>\n",
       "    <tr>\n",
       "      <th>64</th>\n",
       "      <td>5.500774</td>\n",
       "      <td>51.064040</td>\n",
       "      <td>51.059023</td>\n",
       "      <td>17.995801</td>\n",
       "      <td>17.992641</td>\n",
       "    </tr>\n",
       "    <tr>\n",
       "      <th>128</th>\n",
       "      <td>5.494001</td>\n",
       "      <td>51.064022</td>\n",
       "      <td>51.060392</td>\n",
       "      <td>18.019874</td>\n",
       "      <td>18.015939</td>\n",
       "    </tr>\n",
       "  </tbody>\n",
       "</table>\n",
       "</div>"
      ],
      "text/plain": [
       "               test_loss   test_hit      hit_x   test_mrr      mrr_x\n",
       "augment_nogmm                                                       \n",
       "4               5.501831  51.069117  51.064500  18.000839  17.996884\n",
       "8               5.497276  51.121709  51.116534  18.013581  18.008950\n",
       "16              5.499573  51.005531  51.002059  17.965641  17.962356\n",
       "32              5.509364  50.953684  50.949752  17.950806  17.947840\n",
       "64              5.500774  51.064040  51.059023  17.995801  17.992641\n",
       "128             5.494001  51.064022  51.060392  18.019874  18.015939"
      ]
     },
     "execution_count": 26,
     "metadata": {},
     "output_type": "execute_result"
    }
   ],
   "source": [
    "res_df.drop(columns='run_id').groupby('augment_nogmm')[['test_loss', 'test_hit', 'hit_x','test_mrr','mrr_x']].mean()"
   ]
  },
  {
   "cell_type": "markdown",
   "metadata": {},
   "source": [
    "## categories runs for comparison"
   ]
  },
  {
   "cell_type": "code",
   "execution_count": 2,
   "metadata": {},
   "outputs": [],
   "source": [
    "runs=['c7pzwt2z', '17uejl8y', '57zrr3vh', 'op22qkq4']"
   ]
  },
  {
   "cell_type": "code",
   "execution_count": 9,
   "metadata": {},
   "outputs": [
    {
     "name": "stdout",
     "output_type": "stream",
     "text": [
      "{'dataset': 'diginetica', 'batchSize': 100, 'hiddenSize': 100, 'epoch': 30, 'lr': 0.001, 'lr_dc': 0.1, 'lr_dc_step': 2, 'l2': 1e-06, 'step': 2, 'patience': 4, 'nonhybrid': False, 'validation': True, 'valid_portion': 0.1, 'pretrained_embedings': False, 'unfreeze_epoch': 0, 'gmm': [], 'augment_matrix': True, 'augment_clusters': False, 'augment_old_run_id': 'qm2ur7o3', 'augment_clip': 0, 'augment_normalize': True, 'augment_raw': False, 'weight_init': 'normal', 'augment_categories': False, 'augment_nogmm': 16, 'augment_p': 0.5, 'augment_mean': 0.01, 'augment_std': 0.01, 'augment_gmm_init': 'k-means++', 'augment_prenormalize_distances': False, 'augment_noise_p': 0.5, 'augment_alg': 'categories'}\n",
      "c7pzwt2z\n"
     ]
    },
    {
     "name": "stderr",
     "output_type": "stream",
     "text": [
      "LOCAL_RANK: 0 - CUDA_VISIBLE_DEVICES: [0]\n"
     ]
    },
    {
     "name": "stdout",
     "output_type": "stream",
     "text": [
      "Testing DataLoader 0: 100%|██████████| 609/609 [00:19<00:00, 31.41it/s]\n",
      "────────────────────────────────────────────────────────────────────────────────────────────────────────────────────────\n",
      "       Test metric             DataLoader 0\n",
      "────────────────────────────────────────────────────────────────────────────────────────────────────────────────────────\n",
      "        test_hit            50.927127838134766\n",
      "        test_loss            5.484939098358154\n",
      "        test_mrr            17.949098587036133\n",
      "────────────────────────────────────────────────────────────────────────────────────────────────────────────────────────\n",
      "{'dataset': 'diginetica', 'batchSize': 100, 'hiddenSize': 100, 'epoch': 30, 'lr': 0.001, 'lr_dc': 0.1, 'lr_dc_step': 2, 'l2': 1e-06, 'step': 2, 'patience': 4, 'nonhybrid': False, 'validation': True, 'valid_portion': 0.1, 'pretrained_embedings': False, 'unfreeze_epoch': 0, 'gmm': [], 'augment_matrix': True, 'augment_clusters': False, 'augment_old_run_id': '3abge2uq', 'augment_clip': 0, 'augment_normalize': True, 'augment_raw': False, 'weight_init': 'normal', 'augment_categories': False, 'augment_nogmm': 16, 'augment_p': 0.5, 'augment_mean': 0.01, 'augment_std': 0.01, 'augment_gmm_init': 'k-means++', 'augment_prenormalize_distances': False, 'augment_noise_p': 0.5, 'augment_alg': 'categories'}\n"
     ]
    },
    {
     "name": "stderr",
     "output_type": "stream",
     "text": [
      "LOCAL_RANK: 0 - CUDA_VISIBLE_DEVICES: [0]\n"
     ]
    },
    {
     "name": "stdout",
     "output_type": "stream",
     "text": [
      "17uejl8y\n",
      "Testing DataLoader 0: 100%|██████████| 609/609 [00:19<00:00, 31.65it/s]\n",
      "────────────────────────────────────────────────────────────────────────────────────────────────────────────────────────\n",
      "       Test metric             DataLoader 0\n",
      "────────────────────────────────────────────────────────────────────────────────────────────────────────────────────────\n",
      "        test_hit             51.25361251831055\n",
      "        test_loss            5.490333557128906\n",
      "        test_mrr            18.101985931396484\n",
      "────────────────────────────────────────────────────────────────────────────────────────────────────────────────────────\n",
      "{'dataset': 'diginetica', 'batchSize': 100, 'hiddenSize': 100, 'epoch': 30, 'lr': 0.001, 'lr_dc': 0.1, 'lr_dc_step': 2, 'l2': 1e-06, 'step': 2, 'patience': 4, 'nonhybrid': False, 'validation': True, 'valid_portion': 0.1, 'pretrained_embedings': False, 'unfreeze_epoch': 0, 'gmm': [], 'augment_matrix': True, 'augment_clusters': False, 'augment_old_run_id': '4dm99qnd', 'augment_clip': 0, 'augment_normalize': True, 'augment_raw': False, 'weight_init': 'normal', 'augment_categories': False, 'augment_nogmm': 16, 'augment_p': 0.5, 'augment_mean': 0.01, 'augment_std': 0.01, 'augment_gmm_init': 'k-means++', 'augment_prenormalize_distances': False, 'augment_noise_p': 0.5, 'augment_alg': 'categories'}\n"
     ]
    },
    {
     "name": "stderr",
     "output_type": "stream",
     "text": [
      "LOCAL_RANK: 0 - CUDA_VISIBLE_DEVICES: [0]\n"
     ]
    },
    {
     "name": "stdout",
     "output_type": "stream",
     "text": [
      "57zrr3vh\n",
      "Testing DataLoader 0: 100%|██████████| 609/609 [00:19<00:00, 31.96it/s]\n",
      "────────────────────────────────────────────────────────────────────────────────────────────────────────────────────────\n",
      "       Test metric             DataLoader 0\n",
      "────────────────────────────────────────────────────────────────────────────────────────────────────────────────────────\n",
      "        test_hit               51.0791015625\n",
      "        test_loss            5.497370719909668\n",
      "        test_mrr             18.04535484313965\n",
      "────────────────────────────────────────────────────────────────────────────────────────────────────────────────────────\n",
      "{'dataset': 'diginetica', 'batchSize': 100, 'hiddenSize': 100, 'epoch': 30, 'lr': 0.001, 'lr_dc': 0.1, 'lr_dc_step': 2, 'l2': 1e-06, 'step': 2, 'patience': 4, 'nonhybrid': False, 'validation': True, 'valid_portion': 0.1, 'pretrained_embedings': False, 'unfreeze_epoch': 0, 'gmm': [], 'augment_matrix': True, 'augment_clusters': False, 'augment_old_run_id': 'jxgwsuta', 'augment_clip': 0, 'augment_normalize': True, 'augment_raw': False, 'weight_init': 'normal', 'augment_categories': False, 'augment_nogmm': 16, 'augment_p': 0.5, 'augment_mean': 0.01, 'augment_std': 0.01, 'augment_gmm_init': 'k-means++', 'augment_prenormalize_distances': False, 'augment_noise_p': 0.5, 'augment_alg': 'categories'}\n"
     ]
    },
    {
     "name": "stderr",
     "output_type": "stream",
     "text": [
      "LOCAL_RANK: 0 - CUDA_VISIBLE_DEVICES: [0]\n"
     ]
    },
    {
     "name": "stdout",
     "output_type": "stream",
     "text": [
      "op22qkq4\n",
      "Testing DataLoader 0: 100%|██████████| 609/609 [00:18<00:00, 32.48it/s]\n",
      "────────────────────────────────────────────────────────────────────────────────────────────────────────────────────────\n",
      "       Test metric             DataLoader 0\n",
      "────────────────────────────────────────────────────────────────────────────────────────────────────────────────────────\n",
      "        test_hit             51.06669998168945\n",
      "        test_loss            5.495656490325928\n",
      "        test_mrr             17.98778533935547\n",
      "────────────────────────────────────────────────────────────────────────────────────────────────────────────────────────\n"
     ]
    }
   ],
   "source": [
    "res_df=[]\n",
    "for run_id in runs:\n",
    "    try:\n",
    "      model,opt=load_model(run_id)\n",
    "    except IndexError:\n",
    "       continue\n",
    "    #dataset=get_dataset(opt)\n",
    "    #am_test_dataloader=DataLoader(dataset,    num_workers=os.cpu_count(),  \n",
    "    #                       sampler=SRGNN_sampler(dataset, opt.batchSize, shuffle=False, drop_last=False)\n",
    "    #                     )\n",
    "    print(run_id)\n",
    "    metrics=trainer.test(model, {#'augmented':am_test_dataloader, \n",
    "                                 'normal':normal_test_dataloader})[0 ]\n",
    "    metrics['run_id']=run_id\n",
    "    for k,v in opt.__dict__.items():\n",
    "       metrics[k]=v\n",
    "    res_df.append(metrics)"
   ]
  },
  {
   "cell_type": "code",
   "execution_count": 10,
   "metadata": {},
   "outputs": [],
   "source": [
    "res_df=pd.DataFrame(res_df)"
   ]
  },
  {
   "cell_type": "code",
   "execution_count": 11,
   "metadata": {},
   "outputs": [
    {
     "data": {
      "text/html": [
       "<div>\n",
       "<style scoped>\n",
       "    .dataframe tbody tr th:only-of-type {\n",
       "        vertical-align: middle;\n",
       "    }\n",
       "\n",
       "    .dataframe tbody tr th {\n",
       "        vertical-align: top;\n",
       "    }\n",
       "\n",
       "    .dataframe thead th {\n",
       "        text-align: right;\n",
       "    }\n",
       "</style>\n",
       "<table border=\"1\" class=\"dataframe\">\n",
       "  <thead>\n",
       "    <tr style=\"text-align: right;\">\n",
       "      <th></th>\n",
       "      <th>test_loss</th>\n",
       "      <th>test_hit</th>\n",
       "      <th>test_mrr</th>\n",
       "    </tr>\n",
       "    <tr>\n",
       "      <th>augment_nogmm</th>\n",
       "      <th></th>\n",
       "      <th></th>\n",
       "      <th></th>\n",
       "    </tr>\n",
       "  </thead>\n",
       "  <tbody>\n",
       "    <tr>\n",
       "      <th>16</th>\n",
       "      <td>5.492075</td>\n",
       "      <td>51.081635</td>\n",
       "      <td>18.021056</td>\n",
       "    </tr>\n",
       "  </tbody>\n",
       "</table>\n",
       "</div>"
      ],
      "text/plain": [
       "               test_loss   test_hit   test_mrr\n",
       "augment_nogmm                                 \n",
       "16              5.492075  51.081635  18.021056"
      ]
     },
     "execution_count": 11,
     "metadata": {},
     "output_type": "execute_result"
    }
   ],
   "source": [
    "res_df.drop(columns='run_id').groupby(['augment_nogmm'])[['test_loss', 'test_hit', 'test_mrr',]].mean()"
   ]
  },
  {
   "cell_type": "markdown",
   "metadata": {},
   "source": [
    "## i2i distance"
   ]
  },
  {
   "cell_type": "code",
   "execution_count": 18,
   "metadata": {},
   "outputs": [],
   "source": [
    "runs=['yfd2pi3n', 'ss45a3b3', 'nwgcf1hh', '8llxhkxm']"
   ]
  },
  {
   "cell_type": "code",
   "execution_count": 19,
   "metadata": {},
   "outputs": [
    {
     "name": "stderr",
     "output_type": "stream",
     "text": [
      "LOCAL_RANK: 0 - CUDA_VISIBLE_DEVICES: [0]\n"
     ]
    },
    {
     "name": "stdout",
     "output_type": "stream",
     "text": [
      "{'dataset': 'diginetica', 'batchSize': 100, 'hiddenSize': 100, 'epoch': 30, 'lr': 0.001, 'lr_dc': 0.1, 'lr_dc_step': 2, 'l2': 1e-06, 'step': 2, 'patience': 4, 'nonhybrid': False, 'validation': True, 'valid_portion': 0.1, 'pretrained_embedings': False, 'unfreeze_epoch': 0, 'gmm': [], 'augment_matrix': True, 'augment_clusters': False, 'augment_old_run_id': 'qm2ur7o3', 'augment_clip': 0, 'augment_normalize': True, 'augment_raw': False, 'weight_init': 'normal', 'augment_categories': False, 'augment_nogmm': 16, 'augment_p': 0.5, 'augment_mean': 0.01, 'augment_std': 0.01, 'augment_gmm_init': 'k-means++', 'augment_prenormalize_distances': False, 'augment_noise_p': 0.5, 'augment_alg': 'raw', 'gmm_covariance_type': 'full', 'gmm_tol': 0.001}\n",
      "yfd2pi3n\n",
      "Testing DataLoader 0: 100%|██████████| 609/609 [00:20<00:00, 29.01it/s]\n",
      "────────────────────────────────────────────────────────────────────────────────────────────────────────────────────────\n",
      "       Test metric             DataLoader 0\n",
      "────────────────────────────────────────────────────────────────────────────────────────────────────────────────────────\n",
      "        test_hit             50.94371795654297\n",
      "        test_loss            5.496809959411621\n",
      "        test_mrr            18.000885009765625\n",
      "────────────────────────────────────────────────────────────────────────────────────────────────────────────────────────\n",
      "{'dataset': 'diginetica', 'batchSize': 100, 'hiddenSize': 100, 'epoch': 30, 'lr': 0.001, 'lr_dc': 0.1, 'lr_dc_step': 2, 'l2': 1e-06, 'step': 2, 'patience': 4, 'nonhybrid': False, 'validation': True, 'valid_portion': 0.1, 'pretrained_embedings': False, 'unfreeze_epoch': 0, 'gmm': [], 'augment_matrix': True, 'augment_clusters': False, 'augment_old_run_id': '3abge2uq', 'augment_clip': 0, 'augment_normalize': True, 'augment_raw': False, 'weight_init': 'normal', 'augment_categories': False, 'augment_nogmm': 16, 'augment_p': 0.5, 'augment_mean': 0.01, 'augment_std': 0.01, 'augment_gmm_init': 'k-means++', 'augment_prenormalize_distances': False, 'augment_noise_p': 0.5, 'augment_alg': 'raw', 'gmm_covariance_type': 'full', 'gmm_tol': 0.001}\n"
     ]
    },
    {
     "name": "stderr",
     "output_type": "stream",
     "text": [
      "LOCAL_RANK: 0 - CUDA_VISIBLE_DEVICES: [0]\n"
     ]
    },
    {
     "name": "stdout",
     "output_type": "stream",
     "text": [
      "ss45a3b3\n",
      "Testing DataLoader 0: 100%|██████████| 609/609 [00:19<00:00, 32.04it/s]\n",
      "────────────────────────────────────────────────────────────────────────────────────────────────────────────────────────\n",
      "       Test metric             DataLoader 0\n",
      "────────────────────────────────────────────────────────────────────────────────────────────────────────────────────────\n",
      "        test_hit             51.25015640258789\n",
      "        test_loss            5.510570526123047\n",
      "        test_mrr            18.078449249267578\n",
      "────────────────────────────────────────────────────────────────────────────────────────────────────────────────────────\n",
      "{'dataset': 'diginetica', 'batchSize': 100, 'hiddenSize': 100, 'epoch': 30, 'lr': 0.001, 'lr_dc': 0.1, 'lr_dc_step': 2, 'l2': 1e-06, 'step': 2, 'patience': 4, 'nonhybrid': False, 'validation': True, 'valid_portion': 0.1, 'pretrained_embedings': False, 'unfreeze_epoch': 0, 'gmm': [], 'augment_matrix': True, 'augment_clusters': False, 'augment_old_run_id': '4dm99qnd', 'augment_clip': 0, 'augment_normalize': True, 'augment_raw': False, 'weight_init': 'normal', 'augment_categories': False, 'augment_nogmm': 16, 'augment_p': 0.5, 'augment_mean': 0.01, 'augment_std': 0.01, 'augment_gmm_init': 'k-means++', 'augment_prenormalize_distances': False, 'augment_noise_p': 0.5, 'augment_alg': 'raw', 'gmm_covariance_type': 'full', 'gmm_tol': 0.001}\n"
     ]
    },
    {
     "name": "stderr",
     "output_type": "stream",
     "text": [
      "LOCAL_RANK: 0 - CUDA_VISIBLE_DEVICES: [0]\n"
     ]
    },
    {
     "name": "stdout",
     "output_type": "stream",
     "text": [
      "nwgcf1hh\n",
      "Testing DataLoader 0: 100%|██████████| 609/609 [00:17<00:00, 34.02it/s]\n",
      "────────────────────────────────────────────────────────────────────────────────────────────────────────────────────────\n",
      "       Test metric             DataLoader 0\n",
      "────────────────────────────────────────────────────────────────────────────────────────────────────────────────────────\n",
      "        test_hit            51.276145935058594\n",
      "        test_loss            5.499122142791748\n",
      "        test_mrr             18.04974365234375\n",
      "────────────────────────────────────────────────────────────────────────────────────────────────────────────────────────\n",
      "{'dataset': 'diginetica', 'batchSize': 100, 'hiddenSize': 100, 'epoch': 30, 'lr': 0.001, 'lr_dc': 0.1, 'lr_dc_step': 2, 'l2': 1e-06, 'step': 2, 'patience': 4, 'nonhybrid': False, 'validation': True, 'valid_portion': 0.1, 'pretrained_embedings': False, 'unfreeze_epoch': 0, 'gmm': [], 'augment_matrix': True, 'augment_clusters': False, 'augment_old_run_id': 'jxgwsuta', 'augment_clip': 0, 'augment_normalize': True, 'augment_raw': False, 'weight_init': 'normal', 'augment_categories': False, 'augment_nogmm': 16, 'augment_p': 0.5, 'augment_mean': 0.01, 'augment_std': 0.01, 'augment_gmm_init': 'k-means++', 'augment_prenormalize_distances': False, 'augment_noise_p': 0.5, 'augment_alg': 'raw', 'gmm_covariance_type': 'full', 'gmm_tol': 0.001}\n"
     ]
    },
    {
     "name": "stderr",
     "output_type": "stream",
     "text": [
      "LOCAL_RANK: 0 - CUDA_VISIBLE_DEVICES: [0]\n"
     ]
    },
    {
     "name": "stdout",
     "output_type": "stream",
     "text": [
      "8llxhkxm\n",
      "Testing DataLoader 0: 100%|██████████| 609/609 [00:17<00:00, 34.17it/s]\n",
      "────────────────────────────────────────────────────────────────────────────────────────────────────────────────────────\n",
      "       Test metric             DataLoader 0\n",
      "────────────────────────────────────────────────────────────────────────────────────────────────────────────────────────\n",
      "        test_hit             51.24868392944336\n",
      "        test_loss            5.488428115844727\n",
      "        test_mrr            18.089075088500977\n",
      "────────────────────────────────────────────────────────────────────────────────────────────────────────────────────────\n"
     ]
    }
   ],
   "source": [
    "res_df=[]\n",
    "for run_id in runs:\n",
    "    try:\n",
    "      model,opt=load_model(run_id)\n",
    "    except IndexError:\n",
    "       continue\n",
    "    #dataset=get_dataset(opt)\n",
    "    #am_test_dataloader=DataLoader(dataset,    num_workers=os.cpu_count(),  \n",
    "    #                       sampler=SRGNN_sampler(dataset, opt.batchSize, shuffle=False, drop_last=False)\n",
    "    #                     )\n",
    "    print(run_id)\n",
    "    metrics=trainer.test(model, {#'augmented':am_test_dataloader, \n",
    "                                 'normal':normal_test_dataloader})[0 ]\n",
    "    metrics['run_id']=run_id\n",
    "    for k,v in opt.__dict__.items():\n",
    "       metrics[k]=v\n",
    "    res_df.append(metrics)"
   ]
  },
  {
   "cell_type": "code",
   "execution_count": 20,
   "metadata": {},
   "outputs": [],
   "source": [
    "res_df=pd.DataFrame(res_df)"
   ]
  },
  {
   "cell_type": "code",
   "execution_count": 21,
   "metadata": {},
   "outputs": [
    {
     "data": {
      "text/html": [
       "<div>\n",
       "<style scoped>\n",
       "    .dataframe tbody tr th:only-of-type {\n",
       "        vertical-align: middle;\n",
       "    }\n",
       "\n",
       "    .dataframe tbody tr th {\n",
       "        vertical-align: top;\n",
       "    }\n",
       "\n",
       "    .dataframe thead th {\n",
       "        text-align: right;\n",
       "    }\n",
       "</style>\n",
       "<table border=\"1\" class=\"dataframe\">\n",
       "  <thead>\n",
       "    <tr style=\"text-align: right;\">\n",
       "      <th></th>\n",
       "      <th>test_loss</th>\n",
       "      <th>test_hit</th>\n",
       "      <th>test_mrr</th>\n",
       "    </tr>\n",
       "    <tr>\n",
       "      <th>augment_nogmm</th>\n",
       "      <th></th>\n",
       "      <th></th>\n",
       "      <th></th>\n",
       "    </tr>\n",
       "  </thead>\n",
       "  <tbody>\n",
       "    <tr>\n",
       "      <th>16</th>\n",
       "      <td>5.498733</td>\n",
       "      <td>51.179676</td>\n",
       "      <td>18.054538</td>\n",
       "    </tr>\n",
       "  </tbody>\n",
       "</table>\n",
       "</div>"
      ],
      "text/plain": [
       "               test_loss   test_hit   test_mrr\n",
       "augment_nogmm                                 \n",
       "16              5.498733  51.179676  18.054538"
      ]
     },
     "execution_count": 21,
     "metadata": {},
     "output_type": "execute_result"
    }
   ],
   "source": [
    "res_df.drop(columns='run_id').groupby(['augment_nogmm'])[['test_loss', 'test_hit', 'test_mrr',]].mean()"
   ]
  },
  {
   "cell_type": "code",
   "execution_count": 22,
   "metadata": {},
   "outputs": [
    {
     "name": "stdout",
     "output_type": "stream",
     "text": [
      "{'dataset': 'diginetica', 'batchSize': 100, 'hiddenSize': 100, 'epoch': 30, 'lr': 0.001, 'lr_dc': 0.1, 'lr_dc_step': 2, 'l2': 1e-06, 'step': 2, 'patience': 4, 'nonhybrid': False, 'validation': True, 'valid_portion': 0.1, 'pretrained_embedings': False, 'unfreeze_epoch': 0, 'gmm': [], 'augment_matrix': True, 'augment_clusters': False, 'augment_old_run_id': 'qm2ur7o3', 'augment_clip': 0, 'augment_normalize': True, 'augment_raw': False, 'weight_init': 'normal', 'augment_categories': False, 'augment_nogmm': 16, 'augment_p': 0.5, 'augment_mean': 0.01, 'augment_std': 0.01, 'augment_gmm_init': 'k-means++', 'augment_prenormalize_distances': False, 'augment_noise_p': 0.5, 'augment_alg': 'raw', 'gmm_covariance_type': 'full', 'gmm_tol': 0.001}\n",
      "yfd2pi3n\n",
      "Distnace Augmentation: True Clusters: False Categories: False Noise std:  0.01 base model qm2ur7o3\n"
     ]
    },
    {
     "name": "stderr",
     "output_type": "stream",
     "text": [
      "100%|██████████| 609/609 [00:21<00:00, 28.71it/s]\n"
     ]
    },
    {
     "name": "stdout",
     "output_type": "stream",
     "text": [
      "[(0, 50.943179204048775, 17.997264953220483)]\n",
      "{'dataset': 'diginetica', 'batchSize': 100, 'hiddenSize': 100, 'epoch': 30, 'lr': 0.001, 'lr_dc': 0.1, 'lr_dc_step': 2, 'l2': 1e-06, 'step': 2, 'patience': 4, 'nonhybrid': False, 'validation': True, 'valid_portion': 0.1, 'pretrained_embedings': False, 'unfreeze_epoch': 0, 'gmm': [], 'augment_matrix': True, 'augment_clusters': False, 'augment_old_run_id': '3abge2uq', 'augment_clip': 0, 'augment_normalize': True, 'augment_raw': False, 'weight_init': 'normal', 'augment_categories': False, 'augment_nogmm': 16, 'augment_p': 0.5, 'augment_mean': 0.01, 'augment_std': 0.01, 'augment_gmm_init': 'k-means++', 'augment_prenormalize_distances': False, 'augment_noise_p': 0.5, 'augment_alg': 'raw', 'gmm_covariance_type': 'full', 'gmm_tol': 0.001}\n",
      "ss45a3b3\n",
      "Distnace Augmentation: True Clusters: False Categories: False Noise std:  0.01 base model 3abge2uq\n"
     ]
    },
    {
     "name": "stderr",
     "output_type": "stream",
     "text": [
      "100%|██████████| 609/609 [00:22<00:00, 27.27it/s]\n"
     ]
    },
    {
     "name": "stdout",
     "output_type": "stream",
     "text": [
      "[(0, 51.24387919418976, 18.071916962386005)]\n",
      "{'dataset': 'diginetica', 'batchSize': 100, 'hiddenSize': 100, 'epoch': 30, 'lr': 0.001, 'lr_dc': 0.1, 'lr_dc_step': 2, 'l2': 1e-06, 'step': 2, 'patience': 4, 'nonhybrid': False, 'validation': True, 'valid_portion': 0.1, 'pretrained_embedings': False, 'unfreeze_epoch': 0, 'gmm': [], 'augment_matrix': True, 'augment_clusters': False, 'augment_old_run_id': '4dm99qnd', 'augment_clip': 0, 'augment_normalize': True, 'augment_raw': False, 'weight_init': 'normal', 'augment_categories': False, 'augment_nogmm': 16, 'augment_p': 0.5, 'augment_mean': 0.01, 'augment_std': 0.01, 'augment_gmm_init': 'k-means++', 'augment_prenormalize_distances': False, 'augment_noise_p': 0.5, 'augment_alg': 'raw', 'gmm_covariance_type': 'full', 'gmm_tol': 0.001}\n",
      "nwgcf1hh\n",
      "Distnace Augmentation: True Clusters: False Categories: False Noise std:  0.01 base model 4dm99qnd\n"
     ]
    },
    {
     "name": "stderr",
     "output_type": "stream",
     "text": [
      "100%|██████████| 609/609 [00:24<00:00, 24.77it/s]\n"
     ]
    },
    {
     "name": "stdout",
     "output_type": "stream",
     "text": [
      "[(0, 51.27345624240034, 18.04877398974439)]\n",
      "{'dataset': 'diginetica', 'batchSize': 100, 'hiddenSize': 100, 'epoch': 30, 'lr': 0.001, 'lr_dc': 0.1, 'lr_dc_step': 2, 'l2': 1e-06, 'step': 2, 'patience': 4, 'nonhybrid': False, 'validation': True, 'valid_portion': 0.1, 'pretrained_embedings': False, 'unfreeze_epoch': 0, 'gmm': [], 'augment_matrix': True, 'augment_clusters': False, 'augment_old_run_id': 'jxgwsuta', 'augment_clip': 0, 'augment_normalize': True, 'augment_raw': False, 'weight_init': 'normal', 'augment_categories': False, 'augment_nogmm': 16, 'augment_p': 0.5, 'augment_mean': 0.01, 'augment_std': 0.01, 'augment_gmm_init': 'k-means++', 'augment_prenormalize_distances': False, 'augment_noise_p': 0.5, 'augment_alg': 'raw', 'gmm_covariance_type': 'full', 'gmm_tol': 0.001}\n",
      "8llxhkxm\n",
      "Distnace Augmentation: True Clusters: False Categories: False Noise std:  0.01 base model jxgwsuta\n"
     ]
    },
    {
     "name": "stderr",
     "output_type": "stream",
     "text": [
      "100%|██████████| 609/609 [00:23<00:00, 25.81it/s]\n"
     ]
    },
    {
     "name": "stdout",
     "output_type": "stream",
     "text": [
      "[(0, 51.247165532879826, 18.086323592674873)]\n"
     ]
    }
   ],
   "source": [
    "results={}\n",
    "for run_id in runs:\n",
    "  try:\n",
    "    model,opt=load_model(run_id)\n",
    "  except IndexError:\n",
    "      continue    #dataset=get_dataset(opt)\n",
    "  # am_test_dataloader=DataLoader(dataset,    num_workers=os.cpu_count(),  \n",
    "  #                       sampler=SRGNN_sampler(dataset, opt.batchSize, shuffle=False, drop_last=False)\n",
    "  #                   )\n",
    "  print(run_id)\n",
    "  print('Distnace Augmentation:', opt.augment_matrix,\n",
    "      'Clusters:', opt.augment_clusters,\n",
    "        'Categories:', opt.augment_categories,\n",
    "        'Noise std: ', opt.augment_std,\n",
    "        'base model', opt.augment_old_run_id,\n",
    "        )\n",
    "  metrics=get_metrics_by_hand(model, [normal_test_dataloader])\n",
    "  results[run_id]=metrics\n",
    "  print(metrics)\n",
    "manual_res_df=pd.DataFrame(results).T.reset_index()\n",
    "manual_res_df[['DataLoader_id','hit','mrr']]=pd.DataFrame(manual_res_df[0].to_list(), columns=['DataLoader_id','hit','mrr'])\n",
    "manual_res_df.rename(columns={'index':'run_id'}, inplace=True)\n",
    "manual_res_df.drop(columns=0, inplace=True)\n",
    "res_df=res_df.merge(manual_res_df,  on='run_id')"
   ]
  },
  {
   "cell_type": "code",
   "execution_count": 23,
   "metadata": {},
   "outputs": [
    {
     "data": {
      "text/html": [
       "<div>\n",
       "<style scoped>\n",
       "    .dataframe tbody tr th:only-of-type {\n",
       "        vertical-align: middle;\n",
       "    }\n",
       "\n",
       "    .dataframe tbody tr th {\n",
       "        vertical-align: top;\n",
       "    }\n",
       "\n",
       "    .dataframe thead th {\n",
       "        text-align: right;\n",
       "    }\n",
       "</style>\n",
       "<table border=\"1\" class=\"dataframe\">\n",
       "  <thead>\n",
       "    <tr style=\"text-align: right;\">\n",
       "      <th></th>\n",
       "      <th>test_loss</th>\n",
       "      <th>test_hit</th>\n",
       "      <th>hit</th>\n",
       "      <th>test_mrr</th>\n",
       "      <th>mrr</th>\n",
       "    </tr>\n",
       "    <tr>\n",
       "      <th>augment_nogmm</th>\n",
       "      <th></th>\n",
       "      <th></th>\n",
       "      <th></th>\n",
       "      <th></th>\n",
       "      <th></th>\n",
       "    </tr>\n",
       "  </thead>\n",
       "  <tbody>\n",
       "    <tr>\n",
       "      <th>16</th>\n",
       "      <td>5.498733</td>\n",
       "      <td>51.179676</td>\n",
       "      <td>51.17692</td>\n",
       "      <td>18.054538</td>\n",
       "      <td>18.05107</td>\n",
       "    </tr>\n",
       "  </tbody>\n",
       "</table>\n",
       "</div>"
      ],
      "text/plain": [
       "               test_loss   test_hit       hit   test_mrr       mrr\n",
       "augment_nogmm                                                     \n",
       "16              5.498733  51.179676  51.17692  18.054538  18.05107"
      ]
     },
     "execution_count": 23,
     "metadata": {},
     "output_type": "execute_result"
    }
   ],
   "source": [
    "res_df.drop(columns='run_id').groupby('augment_nogmm')[['test_loss', 'test_hit', 'hit','test_mrr','mrr']].mean()"
   ]
  },
  {
   "cell_type": "markdown",
   "metadata": {},
   "source": [
    "## i2i no normalization aug_p=1"
   ]
  },
  {
   "cell_type": "code",
   "execution_count": 8,
   "metadata": {},
   "outputs": [],
   "source": [
    "runs=['s2qhugqc', '1jvw1mc3', 'gpx6kyhh', 'vx4bvbxf']"
   ]
  },
  {
   "cell_type": "code",
   "execution_count": 9,
   "metadata": {},
   "outputs": [
    {
     "name": "stdout",
     "output_type": "stream",
     "text": [
      "{'dataset': 'diginetica', 'batchSize': 100, 'hiddenSize': 100, 'epoch': 30, 'lr': 0.001, 'lr_dc': 0.1, 'lr_dc_step': 2, 'l2': 1e-06, 'step': 2, 'patience': 4, 'nonhybrid': False, 'validation': True, 'valid_portion': 0.1, 'pretrained_embedings': False, 'unfreeze_epoch': 0, 'gmm': [], 'augment_matrix': True, 'augment_clusters': False, 'augment_old_run_id': 'qm2ur7o3', 'augment_clip': 0, 'augment_normalize': False, 'augment_raw': False, 'weight_init': 'normal', 'augment_categories': False, 'augment_nogmm': 16, 'augment_p': 1.0, 'augment_mean': 0.01, 'augment_std': 0.01, 'augment_gmm_init': 'k-means++', 'augment_prenormalize_distances': False, 'augment_noise_p': 0.5, 'augment_alg': 'raw', 'gmm_covariance_type': 'full', 'gmm_tol': 0.001}\n",
      "s2qhugqc\n"
     ]
    },
    {
     "name": "stderr",
     "output_type": "stream",
     "text": [
      "LOCAL_RANK: 0 - CUDA_VISIBLE_DEVICES: [0]\n"
     ]
    },
    {
     "name": "stdout",
     "output_type": "stream",
     "text": [
      "Testing DataLoader 0: 100%|██████████| 609/609 [00:21<00:00, 28.10it/s]\n",
      "────────────────────────────────────────────────────────────────────────────────────────────────────────────────────────\n",
      "       Test metric             DataLoader 0\n",
      "────────────────────────────────────────────────────────────────────────────────────────────────────────────────────────\n",
      "        test_hit             50.3122673034668\n",
      "        test_loss            5.534583568572998\n",
      "        test_mrr            17.871023178100586\n",
      "────────────────────────────────────────────────────────────────────────────────────────────────────────────────────────\n",
      "{'dataset': 'diginetica', 'batchSize': 100, 'hiddenSize': 100, 'epoch': 30, 'lr': 0.001, 'lr_dc': 0.1, 'lr_dc_step': 2, 'l2': 1e-06, 'step': 2, 'patience': 4, 'nonhybrid': False, 'validation': True, 'valid_portion': 0.1, 'pretrained_embedings': False, 'unfreeze_epoch': 0, 'gmm': [], 'augment_matrix': True, 'augment_clusters': False, 'augment_old_run_id': '3abge2uq', 'augment_clip': 0, 'augment_normalize': False, 'augment_raw': False, 'weight_init': 'normal', 'augment_categories': False, 'augment_nogmm': 16, 'augment_p': 1.0, 'augment_mean': 0.01, 'augment_std': 0.01, 'augment_gmm_init': 'k-means++', 'augment_prenormalize_distances': False, 'augment_noise_p': 0.5, 'augment_alg': 'raw', 'gmm_covariance_type': 'full', 'gmm_tol': 0.001}\n"
     ]
    },
    {
     "name": "stderr",
     "output_type": "stream",
     "text": [
      "LOCAL_RANK: 0 - CUDA_VISIBLE_DEVICES: [0]\n"
     ]
    },
    {
     "name": "stdout",
     "output_type": "stream",
     "text": [
      "1jvw1mc3\n",
      "Testing DataLoader 0: 100%|██████████| 609/609 [00:21<00:00, 28.91it/s]\n",
      "────────────────────────────────────────────────────────────────────────────────────────────────────────────────────────\n",
      "       Test metric             DataLoader 0\n",
      "────────────────────────────────────────────────────────────────────────────────────────────────────────────────────────\n",
      "        test_hit             51.04954528808594\n",
      "        test_loss            5.510757923126221\n",
      "        test_mrr            18.006027221679688\n",
      "────────────────────────────────────────────────────────────────────────────────────────────────────────────────────────\n",
      "{'dataset': 'diginetica', 'batchSize': 100, 'hiddenSize': 100, 'epoch': 30, 'lr': 0.001, 'lr_dc': 0.1, 'lr_dc_step': 2, 'l2': 1e-06, 'step': 2, 'patience': 4, 'nonhybrid': False, 'validation': True, 'valid_portion': 0.1, 'pretrained_embedings': False, 'unfreeze_epoch': 0, 'gmm': [], 'augment_matrix': True, 'augment_clusters': False, 'augment_old_run_id': '4dm99qnd', 'augment_clip': 0, 'augment_normalize': False, 'augment_raw': False, 'weight_init': 'normal', 'augment_categories': False, 'augment_nogmm': 16, 'augment_p': 1.0, 'augment_mean': 0.01, 'augment_std': 0.01, 'augment_gmm_init': 'k-means++', 'augment_prenormalize_distances': False, 'augment_noise_p': 0.5, 'augment_alg': 'raw', 'gmm_covariance_type': 'full', 'gmm_tol': 0.001}\n"
     ]
    },
    {
     "name": "stderr",
     "output_type": "stream",
     "text": [
      "LOCAL_RANK: 0 - CUDA_VISIBLE_DEVICES: [0]\n"
     ]
    },
    {
     "name": "stdout",
     "output_type": "stream",
     "text": [
      "gpx6kyhh\n",
      "Testing DataLoader 0: 100%|██████████| 609/609 [00:20<00:00, 29.32it/s]\n",
      "────────────────────────────────────────────────────────────────────────────────────────────────────────────────────────\n",
      "       Test metric             DataLoader 0\n",
      "────────────────────────────────────────────────────────────────────────────────────────────────────────────────────────\n",
      "        test_hit             50.89785385131836\n",
      "        test_loss           5.5169572830200195\n",
      "        test_mrr            18.005224227905273\n",
      "────────────────────────────────────────────────────────────────────────────────────────────────────────────────────────\n",
      "{'dataset': 'diginetica', 'batchSize': 100, 'hiddenSize': 100, 'epoch': 30, 'lr': 0.001, 'lr_dc': 0.1, 'lr_dc_step': 2, 'l2': 1e-06, 'step': 2, 'patience': 4, 'nonhybrid': False, 'validation': True, 'valid_portion': 0.1, 'pretrained_embedings': False, 'unfreeze_epoch': 0, 'gmm': [], 'augment_matrix': True, 'augment_clusters': False, 'augment_old_run_id': 'jxgwsuta', 'augment_clip': 0, 'augment_normalize': False, 'augment_raw': False, 'weight_init': 'normal', 'augment_categories': False, 'augment_nogmm': 16, 'augment_p': 1.0, 'augment_mean': 0.01, 'augment_std': 0.01, 'augment_gmm_init': 'k-means++', 'augment_prenormalize_distances': False, 'augment_noise_p': 0.5, 'augment_alg': 'raw', 'gmm_covariance_type': 'full', 'gmm_tol': 0.001}\n"
     ]
    },
    {
     "name": "stderr",
     "output_type": "stream",
     "text": [
      "LOCAL_RANK: 0 - CUDA_VISIBLE_DEVICES: [0]\n"
     ]
    },
    {
     "name": "stdout",
     "output_type": "stream",
     "text": [
      "vx4bvbxf\n",
      "Testing DataLoader 0: 100%|██████████| 609/609 [00:20<00:00, 29.53it/s]\n",
      "────────────────────────────────────────────────────────────────────────────────────────────────────────────────────────\n",
      "       Test metric             DataLoader 0\n",
      "────────────────────────────────────────────────────────────────────────────────────────────────────────────────────────\n",
      "        test_hit             50.84100341796875\n",
      "        test_loss            5.507208347320557\n",
      "        test_mrr            17.996774673461914\n",
      "────────────────────────────────────────────────────────────────────────────────────────────────────────────────────────\n"
     ]
    },
    {
     "data": {
      "text/html": [
       "<div>\n",
       "<style scoped>\n",
       "    .dataframe tbody tr th:only-of-type {\n",
       "        vertical-align: middle;\n",
       "    }\n",
       "\n",
       "    .dataframe tbody tr th {\n",
       "        vertical-align: top;\n",
       "    }\n",
       "\n",
       "    .dataframe thead th {\n",
       "        text-align: right;\n",
       "    }\n",
       "</style>\n",
       "<table border=\"1\" class=\"dataframe\">\n",
       "  <thead>\n",
       "    <tr style=\"text-align: right;\">\n",
       "      <th></th>\n",
       "      <th>test_loss</th>\n",
       "      <th>test_hit</th>\n",
       "      <th>test_mrr</th>\n",
       "    </tr>\n",
       "    <tr>\n",
       "      <th>augment_matrix</th>\n",
       "      <th></th>\n",
       "      <th></th>\n",
       "      <th></th>\n",
       "    </tr>\n",
       "  </thead>\n",
       "  <tbody>\n",
       "    <tr>\n",
       "      <th>True</th>\n",
       "      <td>5.517377</td>\n",
       "      <td>50.775167</td>\n",
       "      <td>17.969762</td>\n",
       "    </tr>\n",
       "  </tbody>\n",
       "</table>\n",
       "</div>"
      ],
      "text/plain": [
       "                test_loss   test_hit   test_mrr\n",
       "augment_matrix                                 \n",
       "True             5.517377  50.775167  17.969762"
      ]
     },
     "execution_count": 9,
     "metadata": {},
     "output_type": "execute_result"
    }
   ],
   "source": [
    "res_df=[]\n",
    "for run_id in runs:\n",
    "    try:\n",
    "      model,opt=load_model(run_id)\n",
    "    except IndexError:\n",
    "       continue\n",
    "    #dataset=get_dataset(opt)\n",
    "    #am_test_dataloader=DataLoader(dataset,    num_workers=os.cpu_count(),  \n",
    "    #                       sampler=SRGNN_sampler(dataset, opt.batchSize, shuffle=False, drop_last=False)\n",
    "    #                     )\n",
    "    print(run_id)\n",
    "    metrics=trainer.test(model, {#'augmented':am_test_dataloader, \n",
    "                                 'normal':normal_test_dataloader})[0 ]\n",
    "    metrics['run_id']=run_id\n",
    "    for k,v in opt.__dict__.items():\n",
    "       metrics[k]=v\n",
    "    res_df.append(metrics)\n",
    "res_df=pd.DataFrame(res_df)\n",
    "res_df.groupby('augment_matrix')[['test_loss', 'test_hit', 'test_mrr',]].mean()"
   ]
  },
  {
   "cell_type": "markdown",
   "metadata": {},
   "source": [
    "## i2i no normalization"
   ]
  },
  {
   "cell_type": "code",
   "execution_count": 7,
   "metadata": {},
   "outputs": [],
   "source": [
    "runs=['o6eky4nz', '0todhcp5', 'czhmlmnc', 'cc0e54iw']"
   ]
  },
  {
   "cell_type": "code",
   "execution_count": 8,
   "metadata": {},
   "outputs": [
    {
     "name": "stdout",
     "output_type": "stream",
     "text": [
      "{'dataset': 'diginetica', 'batchSize': 100, 'hiddenSize': 100, 'epoch': 30, 'lr': 0.001, 'lr_dc': 0.1, 'lr_dc_step': 2, 'l2': 1e-06, 'step': 2, 'patience': 4, 'nonhybrid': False, 'validation': True, 'valid_portion': 0.1, 'pretrained_embedings': False, 'unfreeze_epoch': 0, 'gmm': [], 'augment_matrix': True, 'augment_clusters': False, 'augment_old_run_id': 'qm2ur7o3', 'augment_clip': 0, 'augment_normalize': False, 'augment_raw': False, 'weight_init': 'normal', 'augment_categories': False, 'augment_nogmm': 16, 'augment_p': 0.5, 'augment_mean': 0.01, 'augment_std': 0.01, 'augment_gmm_init': 'k-means++', 'augment_prenormalize_distances': False, 'augment_noise_p': 0.5, 'augment_alg': 'raw', 'gmm_covariance_type': 'full', 'gmm_tol': 0.001}\n",
      "o6eky4nz\n"
     ]
    },
    {
     "name": "stderr",
     "output_type": "stream",
     "text": [
      "LOCAL_RANK: 0 - CUDA_VISIBLE_DEVICES: [0]\n"
     ]
    },
    {
     "name": "stdout",
     "output_type": "stream",
     "text": [
      "Testing DataLoader 0: 100%|██████████| 609/609 [00:19<00:00, 31.22it/s]\n",
      "────────────────────────────────────────────────────────────────────────────────────────────────────────────────────────\n",
      "       Test metric             DataLoader 0\n",
      "────────────────────────────────────────────────────────────────────────────────────────────────────────────────────────\n",
      "        test_hit             50.89994812011719\n",
      "        test_loss            5.515530586242676\n",
      "        test_mrr            17.970956802368164\n",
      "────────────────────────────────────────────────────────────────────────────────────────────────────────────────────────\n",
      "{'dataset': 'diginetica', 'batchSize': 100, 'hiddenSize': 100, 'epoch': 30, 'lr': 0.001, 'lr_dc': 0.1, 'lr_dc_step': 2, 'l2': 1e-06, 'step': 2, 'patience': 4, 'nonhybrid': False, 'validation': True, 'valid_portion': 0.1, 'pretrained_embedings': False, 'unfreeze_epoch': 0, 'gmm': [], 'augment_matrix': True, 'augment_clusters': False, 'augment_old_run_id': '3abge2uq', 'augment_clip': 0, 'augment_normalize': False, 'augment_raw': False, 'weight_init': 'normal', 'augment_categories': False, 'augment_nogmm': 16, 'augment_p': 0.5, 'augment_mean': 0.01, 'augment_std': 0.01, 'augment_gmm_init': 'k-means++', 'augment_prenormalize_distances': False, 'augment_noise_p': 0.5, 'augment_alg': 'raw', 'gmm_covariance_type': 'full', 'gmm_tol': 0.001}\n"
     ]
    },
    {
     "name": "stderr",
     "output_type": "stream",
     "text": [
      "LOCAL_RANK: 0 - CUDA_VISIBLE_DEVICES: [0]\n"
     ]
    },
    {
     "name": "stdout",
     "output_type": "stream",
     "text": [
      "0todhcp5\n",
      "Testing DataLoader 0: 100%|██████████| 609/609 [00:21<00:00, 27.81it/s]\n",
      "────────────────────────────────────────────────────────────────────────────────────────────────────────────────────────\n",
      "       Test metric             DataLoader 0\n",
      "────────────────────────────────────────────────────────────────────────────────────────────────────────────────────────\n",
      "        test_hit             51.02610397338867\n",
      "        test_loss            5.518783092498779\n",
      "        test_mrr             17.98603630065918\n",
      "────────────────────────────────────────────────────────────────────────────────────────────────────────────────────────\n",
      "{'dataset': 'diginetica', 'batchSize': 100, 'hiddenSize': 100, 'epoch': 30, 'lr': 0.001, 'lr_dc': 0.1, 'lr_dc_step': 2, 'l2': 1e-06, 'step': 2, 'patience': 4, 'nonhybrid': False, 'validation': True, 'valid_portion': 0.1, 'pretrained_embedings': False, 'unfreeze_epoch': 0, 'gmm': [], 'augment_matrix': True, 'augment_clusters': False, 'augment_old_run_id': '4dm99qnd', 'augment_clip': 0, 'augment_normalize': False, 'augment_raw': False, 'weight_init': 'normal', 'augment_categories': False, 'augment_nogmm': 16, 'augment_p': 0.5, 'augment_mean': 0.01, 'augment_std': 0.01, 'augment_gmm_init': 'k-means++', 'augment_prenormalize_distances': False, 'augment_noise_p': 0.5, 'augment_alg': 'raw', 'gmm_covariance_type': 'full', 'gmm_tol': 0.001}\n",
      "czhmlmnc\n"
     ]
    },
    {
     "name": "stderr",
     "output_type": "stream",
     "text": [
      "LOCAL_RANK: 0 - CUDA_VISIBLE_DEVICES: [0]\n"
     ]
    },
    {
     "name": "stdout",
     "output_type": "stream",
     "text": [
      "Testing DataLoader 0: 100%|██████████| 609/609 [00:21<00:00, 28.68it/s]\n",
      "────────────────────────────────────────────────────────────────────────────────────────────────────────────────────────\n",
      "       Test metric             DataLoader 0\n",
      "────────────────────────────────────────────────────────────────────────────────────────────────────────────────────────\n",
      "        test_hit             50.85396957397461\n",
      "        test_loss            5.511118412017822\n",
      "        test_mrr            18.009906768798828\n",
      "────────────────────────────────────────────────────────────────────────────────────────────────────────────────────────\n",
      "{'dataset': 'diginetica', 'batchSize': 100, 'hiddenSize': 100, 'epoch': 30, 'lr': 0.001, 'lr_dc': 0.1, 'lr_dc_step': 2, 'l2': 1e-06, 'step': 2, 'patience': 4, 'nonhybrid': False, 'validation': True, 'valid_portion': 0.1, 'pretrained_embedings': False, 'unfreeze_epoch': 0, 'gmm': [], 'augment_matrix': True, 'augment_clusters': False, 'augment_old_run_id': 'jxgwsuta', 'augment_clip': 0, 'augment_normalize': False, 'augment_raw': False, 'weight_init': 'normal', 'augment_categories': False, 'augment_nogmm': 16, 'augment_p': 0.5, 'augment_mean': 0.01, 'augment_std': 0.01, 'augment_gmm_init': 'k-means++', 'augment_prenormalize_distances': False, 'augment_noise_p': 0.5, 'augment_alg': 'raw', 'gmm_covariance_type': 'full', 'gmm_tol': 0.001}\n"
     ]
    },
    {
     "name": "stderr",
     "output_type": "stream",
     "text": [
      "LOCAL_RANK: 0 - CUDA_VISIBLE_DEVICES: [0]\n"
     ]
    },
    {
     "name": "stdout",
     "output_type": "stream",
     "text": [
      "cc0e54iw\n",
      "Testing DataLoader 0: 100%|██████████| 609/609 [00:19<00:00, 30.61it/s]\n",
      "────────────────────────────────────────────────────────────────────────────────────────────────────────────────────────\n",
      "       Test metric             DataLoader 0\n",
      "────────────────────────────────────────────────────────────────────────────────────────────────────────────────────────\n",
      "        test_hit            51.077457427978516\n",
      "        test_loss            5.496988296508789\n",
      "        test_mrr            18.073209762573242\n",
      "────────────────────────────────────────────────────────────────────────────────────────────────────────────────────────\n"
     ]
    },
    {
     "data": {
      "text/html": [
       "<div>\n",
       "<style scoped>\n",
       "    .dataframe tbody tr th:only-of-type {\n",
       "        vertical-align: middle;\n",
       "    }\n",
       "\n",
       "    .dataframe tbody tr th {\n",
       "        vertical-align: top;\n",
       "    }\n",
       "\n",
       "    .dataframe thead th {\n",
       "        text-align: right;\n",
       "    }\n",
       "</style>\n",
       "<table border=\"1\" class=\"dataframe\">\n",
       "  <thead>\n",
       "    <tr style=\"text-align: right;\">\n",
       "      <th></th>\n",
       "      <th>test_loss</th>\n",
       "      <th>test_hit</th>\n",
       "      <th>test_mrr</th>\n",
       "    </tr>\n",
       "    <tr>\n",
       "      <th>augment_matrix</th>\n",
       "      <th></th>\n",
       "      <th></th>\n",
       "      <th></th>\n",
       "    </tr>\n",
       "  </thead>\n",
       "  <tbody>\n",
       "    <tr>\n",
       "      <th>True</th>\n",
       "      <td>5.510605</td>\n",
       "      <td>50.96437</td>\n",
       "      <td>18.010027</td>\n",
       "    </tr>\n",
       "  </tbody>\n",
       "</table>\n",
       "</div>"
      ],
      "text/plain": [
       "                test_loss  test_hit   test_mrr\n",
       "augment_matrix                                \n",
       "True             5.510605  50.96437  18.010027"
      ]
     },
     "execution_count": 8,
     "metadata": {},
     "output_type": "execute_result"
    }
   ],
   "source": [
    "res_df=[]\n",
    "for run_id in runs:\n",
    "    try:\n",
    "      model,opt=load_model(run_id)\n",
    "    except IndexError:\n",
    "       continue\n",
    "    #dataset=get_dataset(opt)\n",
    "    #am_test_dataloader=DataLoader(dataset,    num_workers=os.cpu_count(),  \n",
    "    #                       sampler=SRGNN_sampler(dataset, opt.batchSize, shuffle=False, drop_last=False)\n",
    "    #                     )\n",
    "    print(run_id)\n",
    "    metrics=trainer.test(model, {#'augmented':am_test_dataloader, \n",
    "                                 'normal':normal_test_dataloader})[0 ]\n",
    "    metrics['run_id']=run_id\n",
    "    for k,v in opt.__dict__.items():\n",
    "       metrics[k]=v\n",
    "    res_df.append(metrics)\n",
    "res_df=pd.DataFrame(res_df)\n",
    "res_df.groupby('augment_matrix')[['test_loss', 'test_hit', 'test_mrr',]].mean()"
   ]
  },
  {
   "cell_type": "markdown",
   "metadata": {},
   "source": [
    "## kmeans augmented runs"
   ]
  },
  {
   "cell_type": "code",
   "execution_count": 12,
   "metadata": {},
   "outputs": [],
   "source": [
    "runs=['uxt9w9tv', '1qly30ga', 'y7yqfh84', '6i71w436']"
   ]
  },
  {
   "cell_type": "code",
   "execution_count": 13,
   "metadata": {},
   "outputs": [
    {
     "name": "stdout",
     "output_type": "stream",
     "text": [
      "{'dataset': 'diginetica', 'batchSize': 100, 'hiddenSize': 100, 'epoch': 30, 'lr': 0.001, 'lr_dc': 0.1, 'lr_dc_step': 2, 'l2': 1e-06, 'step': 2, 'patience': 4, 'nonhybrid': False, 'validation': True, 'valid_portion': 0.1, 'pretrained_embedings': False, 'unfreeze_epoch': 0, 'gmm': [], 'augment_matrix': True, 'augment_clusters': False, 'augment_old_run_id': 'qm2ur7o3', 'augment_clip': 0, 'augment_normalize': True, 'augment_raw': False, 'weight_init': 'normal', 'augment_categories': False, 'augment_nogmm': 8, 'augment_p': 0.5, 'augment_mean': 0.01, 'augment_std': 0.01, 'augment_gmm_init': 'k-means++', 'augment_prenormalize_distances': False, 'augment_noise_p': 0.5, 'augment_alg': 'kmeans'}\n"
     ]
    },
    {
     "name": "stderr",
     "output_type": "stream",
     "text": [
      "LOCAL_RANK: 0 - CUDA_VISIBLE_DEVICES: [0]\n"
     ]
    },
    {
     "name": "stdout",
     "output_type": "stream",
     "text": [
      "uxt9w9tv\n",
      "Testing DataLoader 0: 100%|██████████| 609/609 [00:18<00:00, 32.41it/s]\n",
      "────────────────────────────────────────────────────────────────────────────────────────────────────────────────────────\n",
      "       Test metric             DataLoader 0\n",
      "────────────────────────────────────────────────────────────────────────────────────────────────────────────────────────\n",
      "        test_hit             51.12434387207031\n",
      "        test_loss            5.496450901031494\n",
      "        test_mrr             18.09821128845215\n",
      "────────────────────────────────────────────────────────────────────────────────────────────────────────────────────────\n",
      "{'dataset': 'diginetica', 'batchSize': 100, 'hiddenSize': 100, 'epoch': 30, 'lr': 0.001, 'lr_dc': 0.1, 'lr_dc_step': 2, 'l2': 1e-06, 'step': 2, 'patience': 4, 'nonhybrid': False, 'validation': True, 'valid_portion': 0.1, 'pretrained_embedings': False, 'unfreeze_epoch': 0, 'gmm': [], 'augment_matrix': True, 'augment_clusters': False, 'augment_old_run_id': '3abge2uq', 'augment_clip': 0, 'augment_normalize': True, 'augment_raw': False, 'weight_init': 'normal', 'augment_categories': False, 'augment_nogmm': 8, 'augment_p': 0.5, 'augment_mean': 0.01, 'augment_std': 0.01, 'augment_gmm_init': 'k-means++', 'augment_prenormalize_distances': False, 'augment_noise_p': 0.5, 'augment_alg': 'kmeans'}\n"
     ]
    },
    {
     "name": "stderr",
     "output_type": "stream",
     "text": [
      "LOCAL_RANK: 0 - CUDA_VISIBLE_DEVICES: [0]\n"
     ]
    },
    {
     "name": "stdout",
     "output_type": "stream",
     "text": [
      "1qly30ga\n",
      "Testing DataLoader 0: 100%|██████████| 609/609 [00:18<00:00, 32.27it/s]\n",
      "────────────────────────────────────────────────────────────────────────────────────────────────────────────────────────\n",
      "       Test metric             DataLoader 0\n",
      "────────────────────────────────────────────────────────────────────────────────────────────────────────────────────────\n",
      "        test_hit             51.17955017089844\n",
      "        test_loss            5.481403350830078\n",
      "        test_mrr            17.958845138549805\n",
      "────────────────────────────────────────────────────────────────────────────────────────────────────────────────────────\n",
      "{'dataset': 'diginetica', 'batchSize': 100, 'hiddenSize': 100, 'epoch': 30, 'lr': 0.001, 'lr_dc': 0.1, 'lr_dc_step': 2, 'l2': 1e-06, 'step': 2, 'patience': 4, 'nonhybrid': False, 'validation': True, 'valid_portion': 0.1, 'pretrained_embedings': False, 'unfreeze_epoch': 0, 'gmm': [], 'augment_matrix': True, 'augment_clusters': False, 'augment_old_run_id': '4dm99qnd', 'augment_clip': 0, 'augment_normalize': True, 'augment_raw': False, 'weight_init': 'normal', 'augment_categories': False, 'augment_nogmm': 8, 'augment_p': 0.5, 'augment_mean': 0.01, 'augment_std': 0.01, 'augment_gmm_init': 'k-means++', 'augment_prenormalize_distances': False, 'augment_noise_p': 0.5, 'augment_alg': 'kmeans'}\n"
     ]
    },
    {
     "name": "stderr",
     "output_type": "stream",
     "text": [
      "LOCAL_RANK: 0 - CUDA_VISIBLE_DEVICES: [0]\n"
     ]
    },
    {
     "name": "stdout",
     "output_type": "stream",
     "text": [
      "y7yqfh84\n",
      "Testing DataLoader 0: 100%|██████████| 609/609 [00:18<00:00, 32.23it/s]\n",
      "────────────────────────────────────────────────────────────────────────────────────────────────────────────────────────\n",
      "       Test metric             DataLoader 0\n",
      "────────────────────────────────────────────────────────────────────────────────────────────────────────────────────────\n",
      "        test_hit            51.176719665527344\n",
      "        test_loss            5.494831562042236\n",
      "        test_mrr            18.133237838745117\n",
      "────────────────────────────────────────────────────────────────────────────────────────────────────────────────────────\n",
      "{'dataset': 'diginetica', 'batchSize': 100, 'hiddenSize': 100, 'epoch': 30, 'lr': 0.001, 'lr_dc': 0.1, 'lr_dc_step': 2, 'l2': 1e-06, 'step': 2, 'patience': 4, 'nonhybrid': False, 'validation': True, 'valid_portion': 0.1, 'pretrained_embedings': False, 'unfreeze_epoch': 0, 'gmm': [], 'augment_matrix': True, 'augment_clusters': False, 'augment_old_run_id': 'jxgwsuta', 'augment_clip': 0, 'augment_normalize': True, 'augment_raw': False, 'weight_init': 'normal', 'augment_categories': False, 'augment_nogmm': 8, 'augment_p': 0.5, 'augment_mean': 0.01, 'augment_std': 0.01, 'augment_gmm_init': 'k-means++', 'augment_prenormalize_distances': False, 'augment_noise_p': 0.5, 'augment_alg': 'kmeans'}\n"
     ]
    },
    {
     "name": "stderr",
     "output_type": "stream",
     "text": [
      "LOCAL_RANK: 0 - CUDA_VISIBLE_DEVICES: [0]\n"
     ]
    },
    {
     "name": "stdout",
     "output_type": "stream",
     "text": [
      "6i71w436\n",
      "Testing DataLoader 0: 100%|██████████| 609/609 [00:18<00:00, 32.27it/s]\n",
      "────────────────────────────────────────────────────────────────────────────────────────────────────────────────────────\n",
      "       Test metric             DataLoader 0\n",
      "────────────────────────────────────────────────────────────────────────────────────────────────────────────────────────\n",
      "        test_hit             51.01042175292969\n",
      "        test_loss            5.497133255004883\n",
      "        test_mrr             18.04057502746582\n",
      "────────────────────────────────────────────────────────────────────────────────────────────────────────────────────────\n"
     ]
    }
   ],
   "source": [
    "res_df=[]\n",
    "for run_id in runs:\n",
    "    try:\n",
    "      model,opt=load_model(run_id)\n",
    "    except IndexError:\n",
    "       continue\n",
    "    #dataset=get_dataset(opt)\n",
    "    #am_test_dataloader=DataLoader(dataset,    num_workers=os.cpu_count(),  \n",
    "    #                       sampler=SRGNN_sampler(dataset, opt.batchSize, shuffle=False, drop_last=False)\n",
    "    #                     )\n",
    "    print(run_id)\n",
    "    metrics=trainer.test(model, {#'augmented':am_test_dataloader, \n",
    "                                 'normal':normal_test_dataloader})[0 ]\n",
    "    metrics['run_id']=run_id\n",
    "    for k,v in opt.__dict__.items():\n",
    "       metrics[k]=v\n",
    "    res_df.append(metrics)"
   ]
  },
  {
   "cell_type": "code",
   "execution_count": 14,
   "metadata": {},
   "outputs": [],
   "source": [
    "res_df=pd.DataFrame(res_df)"
   ]
  },
  {
   "cell_type": "code",
   "execution_count": 15,
   "metadata": {},
   "outputs": [
    {
     "data": {
      "text/html": [
       "<div>\n",
       "<style scoped>\n",
       "    .dataframe tbody tr th:only-of-type {\n",
       "        vertical-align: middle;\n",
       "    }\n",
       "\n",
       "    .dataframe tbody tr th {\n",
       "        vertical-align: top;\n",
       "    }\n",
       "\n",
       "    .dataframe thead th {\n",
       "        text-align: right;\n",
       "    }\n",
       "</style>\n",
       "<table border=\"1\" class=\"dataframe\">\n",
       "  <thead>\n",
       "    <tr style=\"text-align: right;\">\n",
       "      <th></th>\n",
       "      <th>test_loss</th>\n",
       "      <th>test_hit</th>\n",
       "      <th>test_mrr</th>\n",
       "    </tr>\n",
       "    <tr>\n",
       "      <th>augment_nogmm</th>\n",
       "      <th></th>\n",
       "      <th></th>\n",
       "      <th></th>\n",
       "    </tr>\n",
       "  </thead>\n",
       "  <tbody>\n",
       "    <tr>\n",
       "      <th>8</th>\n",
       "      <td>5.492455</td>\n",
       "      <td>51.122759</td>\n",
       "      <td>18.057717</td>\n",
       "    </tr>\n",
       "  </tbody>\n",
       "</table>\n",
       "</div>"
      ],
      "text/plain": [
       "               test_loss   test_hit   test_mrr\n",
       "augment_nogmm                                 \n",
       "8               5.492455  51.122759  18.057717"
      ]
     },
     "execution_count": 15,
     "metadata": {},
     "output_type": "execute_result"
    }
   ],
   "source": [
    "res_df.drop(columns='run_id').groupby(['augment_nogmm'])[['test_loss', 'test_hit', 'test_mrr',]].mean()"
   ]
  },
  {
   "cell_type": "code",
   "execution_count": 18,
   "metadata": {},
   "outputs": [
    {
     "name": "stdout",
     "output_type": "stream",
     "text": [
      "{'dataset': 'diginetica', 'batchSize': 100, 'hiddenSize': 100, 'epoch': 30, 'lr': 0.001, 'lr_dc': 0.1, 'lr_dc_step': 2, 'l2': 1e-06, 'step': 2, 'patience': 4, 'nonhybrid': False, 'validation': True, 'valid_portion': 0.1, 'pretrained_embedings': False, 'unfreeze_epoch': 0, 'gmm': [], 'augment_matrix': True, 'augment_clusters': False, 'augment_old_run_id': 'qm2ur7o3', 'augment_clip': 0, 'augment_normalize': True, 'augment_raw': False, 'weight_init': 'normal', 'augment_categories': False, 'augment_nogmm': 8, 'augment_p': 0.5, 'augment_mean': 0.01, 'augment_std': 0.01, 'augment_gmm_init': 'k-means++', 'augment_prenormalize_distances': False, 'augment_noise_p': 0.5, 'augment_alg': 'kmeans'}\n",
      "uxt9w9tv\n",
      "Distnace Augmentation: True Clusters: False Categories: False Noise std:  0.01 base model qm2ur7o3\n"
     ]
    },
    {
     "name": "stderr",
     "output_type": "stream",
     "text": [
      "100%|██████████| 609/609 [00:20<00:00, 29.95it/s]\n"
     ]
    },
    {
     "name": "stdout",
     "output_type": "stream",
     "text": [
      "[(0, 51.123927832002366, 18.092726716649587)]\n",
      "{'dataset': 'diginetica', 'batchSize': 100, 'hiddenSize': 100, 'epoch': 30, 'lr': 0.001, 'lr_dc': 0.1, 'lr_dc_step': 2, 'l2': 1e-06, 'step': 2, 'patience': 4, 'nonhybrid': False, 'validation': True, 'valid_portion': 0.1, 'pretrained_embedings': False, 'unfreeze_epoch': 0, 'gmm': [], 'augment_matrix': True, 'augment_clusters': False, 'augment_old_run_id': '3abge2uq', 'augment_clip': 0, 'augment_normalize': True, 'augment_raw': False, 'weight_init': 'normal', 'augment_categories': False, 'augment_nogmm': 8, 'augment_p': 0.5, 'augment_mean': 0.01, 'augment_std': 0.01, 'augment_gmm_init': 'k-means++', 'augment_prenormalize_distances': False, 'augment_noise_p': 0.5, 'augment_alg': 'kmeans'}\n",
      "1qly30ga\n",
      "Distnace Augmentation: True Clusters: False Categories: False Noise std:  0.01 base model 3abge2uq\n"
     ]
    },
    {
     "name": "stderr",
     "output_type": "stream",
     "text": [
      "100%|██████████| 609/609 [00:20<00:00, 30.41it/s]\n"
     ]
    },
    {
     "name": "stdout",
     "output_type": "stream",
     "text": [
      "[(0, 51.173222912353346, 17.95476602952377)]\n",
      "{'dataset': 'diginetica', 'batchSize': 100, 'hiddenSize': 100, 'epoch': 30, 'lr': 0.001, 'lr_dc': 0.1, 'lr_dc_step': 2, 'l2': 1e-06, 'step': 2, 'patience': 4, 'nonhybrid': False, 'validation': True, 'valid_portion': 0.1, 'pretrained_embedings': False, 'unfreeze_epoch': 0, 'gmm': [], 'augment_matrix': True, 'augment_clusters': False, 'augment_old_run_id': '4dm99qnd', 'augment_clip': 0, 'augment_normalize': True, 'augment_raw': False, 'weight_init': 'normal', 'augment_categories': False, 'augment_nogmm': 8, 'augment_p': 0.5, 'augment_mean': 0.01, 'augment_std': 0.01, 'augment_gmm_init': 'k-means++', 'augment_prenormalize_distances': False, 'augment_noise_p': 0.5, 'augment_alg': 'kmeans'}\n",
      "y7yqfh84\n",
      "Distnace Augmentation: True Clusters: False Categories: False Noise std:  0.01 base model 4dm99qnd\n"
     ]
    },
    {
     "name": "stderr",
     "output_type": "stream",
     "text": [
      "100%|██████████| 609/609 [00:19<00:00, 30.50it/s]\n"
     ]
    },
    {
     "name": "stdout",
     "output_type": "stream",
     "text": [
      "[(0, 51.17157974300831, 18.128069937516443)]\n",
      "{'dataset': 'diginetica', 'batchSize': 100, 'hiddenSize': 100, 'epoch': 30, 'lr': 0.001, 'lr_dc': 0.1, 'lr_dc_step': 2, 'l2': 1e-06, 'step': 2, 'patience': 4, 'nonhybrid': False, 'validation': True, 'valid_portion': 0.1, 'pretrained_embedings': False, 'unfreeze_epoch': 0, 'gmm': [], 'augment_matrix': True, 'augment_clusters': False, 'augment_old_run_id': 'jxgwsuta', 'augment_clip': 0, 'augment_normalize': True, 'augment_raw': False, 'weight_init': 'normal', 'augment_categories': False, 'augment_nogmm': 8, 'augment_p': 0.5, 'augment_mean': 0.01, 'augment_std': 0.01, 'augment_gmm_init': 'k-means++', 'augment_prenormalize_distances': False, 'augment_noise_p': 0.5, 'augment_alg': 'kmeans'}\n",
      "6i71w436\n",
      "Distnace Augmentation: True Clusters: False Categories: False Noise std:  0.01 base model jxgwsuta\n"
     ]
    },
    {
     "name": "stderr",
     "output_type": "stream",
     "text": [
      "100%|██████████| 609/609 [00:20<00:00, 30.25it/s]"
     ]
    },
    {
     "name": "stdout",
     "output_type": "stream",
     "text": [
      "[(0, 51.00397646981498, 18.036856236887587)]\n"
     ]
    },
    {
     "name": "stderr",
     "output_type": "stream",
     "text": [
      "\n"
     ]
    }
   ],
   "source": [
    "results={}\n",
    "for run_id in runs:\n",
    "  try:\n",
    "    model,opt=load_model(run_id)\n",
    "  except IndexError:\n",
    "      continue    #dataset=get_dataset(opt)\n",
    "  # am_test_dataloader=DataLoader(dataset,    num_workers=os.cpu_count(),  \n",
    "  #                       sampler=SRGNN_sampler(dataset, opt.batchSize, shuffle=False, drop_last=False)\n",
    "  #                   )\n",
    "  print(run_id)\n",
    "  print('Distnace Augmentation:', opt.augment_matrix,\n",
    "      'Clusters:', opt.augment_clusters,\n",
    "        'Categories:', opt.augment_categories,\n",
    "        'Noise std: ', opt.augment_std,\n",
    "        'base model', opt.augment_old_run_id,\n",
    "        )\n",
    "  metrics=get_metrics_by_hand(model, [normal_test_dataloader])\n",
    "  results[run_id]=metrics\n",
    "  print(metrics)\n",
    "manual_res_df=pd.DataFrame(results).T.reset_index()\n",
    "manual_res_df[['DataLoader_id','hit','mrr']]=pd.DataFrame(manual_res_df[0].to_list(), columns=['DataLoader_id','hit','mrr'])\n",
    "manual_res_df.rename(columns={'index':'run_id'}, inplace=True)\n",
    "manual_res_df.drop(columns=0, inplace=True)\n",
    "res_df=res_df.merge(manual_res_df,  on='run_id')"
   ]
  },
  {
   "cell_type": "code",
   "execution_count": 20,
   "metadata": {},
   "outputs": [
    {
     "data": {
      "text/html": [
       "<div>\n",
       "<style scoped>\n",
       "    .dataframe tbody tr th:only-of-type {\n",
       "        vertical-align: middle;\n",
       "    }\n",
       "\n",
       "    .dataframe tbody tr th {\n",
       "        vertical-align: top;\n",
       "    }\n",
       "\n",
       "    .dataframe thead th {\n",
       "        text-align: right;\n",
       "    }\n",
       "</style>\n",
       "<table border=\"1\" class=\"dataframe\">\n",
       "  <thead>\n",
       "    <tr style=\"text-align: right;\">\n",
       "      <th></th>\n",
       "      <th>test_loss</th>\n",
       "      <th>test_hit</th>\n",
       "      <th>hit</th>\n",
       "      <th>test_mrr</th>\n",
       "      <th>mrr</th>\n",
       "    </tr>\n",
       "    <tr>\n",
       "      <th>augment_nogmm</th>\n",
       "      <th></th>\n",
       "      <th></th>\n",
       "      <th></th>\n",
       "      <th></th>\n",
       "      <th></th>\n",
       "    </tr>\n",
       "  </thead>\n",
       "  <tbody>\n",
       "    <tr>\n",
       "      <th>8</th>\n",
       "      <td>5.492455</td>\n",
       "      <td>51.122759</td>\n",
       "      <td>51.118177</td>\n",
       "      <td>18.057717</td>\n",
       "      <td>18.053105</td>\n",
       "    </tr>\n",
       "  </tbody>\n",
       "</table>\n",
       "</div>"
      ],
      "text/plain": [
       "               test_loss   test_hit        hit   test_mrr        mrr\n",
       "augment_nogmm                                                       \n",
       "8               5.492455  51.122759  51.118177  18.057717  18.053105"
      ]
     },
     "execution_count": 20,
     "metadata": {},
     "output_type": "execute_result"
    }
   ],
   "source": [
    "res_df.drop(columns='run_id').groupby('augment_nogmm')[['test_loss', 'test_hit', 'hit','test_mrr','mrr']].mean()"
   ]
  },
  {
   "cell_type": "markdown",
   "metadata": {},
   "source": [
    "## hidden size = 16"
   ]
  },
  {
   "cell_type": "code",
   "execution_count": 4,
   "metadata": {},
   "outputs": [],
   "source": [
    "run_id='run-20240930_183501-kmnrqi6i'\n",
    "\n",
    "aug_run_ids=[\n",
    "    'run-20241002_140249-xros8ub6',\n",
    "    'run-20241002_131153-wijus07w',\n",
    "    'run-20241002_124004-pkv65nix',\n",
    "    'run-20241002_121528-v3ukvj2b',\n",
    "]"
   ]
  },
  {
   "cell_type": "code",
   "execution_count": 5,
   "metadata": {},
   "outputs": [
    {
     "name": "stdout",
     "output_type": "stream",
     "text": [
      "{'dataset': 'diginetica', 'batchSize': 100, 'hiddenSize': 16, 'epoch': 30, 'lr': 0.001, 'lr_dc': 0.1, 'lr_dc_step': 3, 'l2': 1e-05, 'step': 2, 'patience': 5, 'nonhybrid': False, 'validation': True, 'valid_portion': 0.1, 'pretrained_embedings': False, 'unfreeze_epoch': 0, 'gmm': [], 'augment_matrix': False, 'augment_clusters': False, 'augment_old_run_id': '', 'augment_clip': 0, 'augment_normalize': False, 'augment_raw': False, 'weight_init': 'normal', 'augment_categories': False, 'augment_nogmm': 16, 'augment_p': 1.0, 'augment_mean': 0.01, 'augment_std': 0.0, 'augment_gmm_init': 'k-means++', 'augment_prenormalize_distances': False, 'augment_noise_p': 0.0, 'augment_alg': 'gmm'}\n",
      "data masking start\n"
     ]
    },
    {
     "name": "stderr",
     "output_type": "stream",
     "text": [
      "100%|██████████| 64/64 [00:00<00:00, 253.36it/s]"
     ]
    },
    {
     "name": "stdout",
     "output_type": "stream",
     "text": [
      "done masking\n"
     ]
    },
    {
     "name": "stderr",
     "output_type": "stream",
     "text": [
      "\n"
     ]
    }
   ],
   "source": [
    "model,opt=load_model(run_id)\n",
    "test_data = pickle.load(open('../datasets/' + opt.dataset + '/test.txt', 'rb'))\n",
    "normal_test_dataset=SRGNN_Map_Dataset(test_data, shuffle=False)\n",
    "\n",
    "normal_test_dataloader=DataLoader(normal_test_dataset, \n",
    "                            num_workers=os.cpu_count(),  \n",
    "                            sampler=SRGNN_sampler(normal_test_dataset, opt.batchSize, shuffle=False, drop_last=False)\n",
    "                            )"
   ]
  },
  {
   "cell_type": "code",
   "execution_count": 6,
   "metadata": {},
   "outputs": [
    {
     "name": "stderr",
     "output_type": "stream",
     "text": [
      "GPU available: True (cuda), used: True\n",
      "TPU available: False, using: 0 TPU cores\n",
      "IPU available: False, using: 0 IPUs\n",
      "HPU available: False, using: 0 HPUs\n",
      "/home/kacper/anaconda3/envs/gpu_torch/lib/python3.12/site-packages/pytorch_lightning/trainer/connectors/logger_connector/logger_connector.py:75: Starting from v1.9.0, `tensorboardX` has been removed as a dependency of the `pytorch_lightning` package, due to potential conflicts with other packages in the ML ecosystem. For this reason, `logger=True` will use `CSVLogger` as the default logger, unless the `tensorboard` or `tensorboardX` packages are found. Please `pip install lightning[extra]` or one of them to enable TensorBoard support by default\n"
     ]
    }
   ],
   "source": [
    "trainer=Trainer(limit_test_batches=ceil(normal_test_dataset.length/opt.batchSize),\n",
    "                limit_predict_batches=ceil(normal_test_dataset.length/opt.batchSize))"
   ]
  },
  {
   "cell_type": "code",
   "execution_count": 7,
   "metadata": {},
   "outputs": [
    {
     "name": "stdout",
     "output_type": "stream",
     "text": [
      "{'dataset': 'diginetica', 'batchSize': 100, 'hiddenSize': 16, 'epoch': 30, 'lr': 0.001, 'lr_dc': 0.1, 'lr_dc_step': 3, 'l2': 1e-05, 'step': 2, 'patience': 5, 'nonhybrid': False, 'validation': True, 'valid_portion': 0.1, 'pretrained_embedings': False, 'unfreeze_epoch': 0, 'gmm': [], 'augment_matrix': False, 'augment_clusters': False, 'augment_old_run_id': '', 'augment_clip': 0, 'augment_normalize': False, 'augment_raw': False, 'weight_init': 'normal', 'augment_categories': False, 'augment_nogmm': 16, 'augment_p': 1.0, 'augment_mean': 0.01, 'augment_std': 0.0, 'augment_gmm_init': 'k-means++', 'augment_prenormalize_distances': False, 'augment_noise_p': 0.0, 'augment_alg': 'gmm'}\n",
      "run-20240930_183501-kmnrqi6i False gmm\n"
     ]
    },
    {
     "name": "stderr",
     "output_type": "stream",
     "text": [
      "LOCAL_RANK: 0 - CUDA_VISIBLE_DEVICES: [0]\n"
     ]
    },
    {
     "name": "stdout",
     "output_type": "stream",
     "text": [
      "Testing DataLoader 0: 100%|██████████| 609/609 [00:17<00:00, 34.57it/s]\n",
      "────────────────────────────────────────────────────────────────────────────────────────────────────────────────────────\n",
      "       Test metric             DataLoader 0\n",
      "────────────────────────────────────────────────────────────────────────────────────────────────────────────────────────\n",
      "        test_hit             45.66830825805664\n",
      "        test_loss            6.029724597930908\n",
      "        test_mrr            14.656782150268555\n",
      "────────────────────────────────────────────────────────────────────────────────────────────────────────────────────────\n",
      "{'dataset': 'diginetica', 'batchSize': 100, 'hiddenSize': 16, 'epoch': 30, 'lr': 0.001, 'lr_dc': 0.1, 'lr_dc_step': 3, 'l2': 1e-05, 'step': 2, 'patience': 5, 'nonhybrid': False, 'validation': True, 'valid_portion': 0.1, 'pretrained_embedings': False, 'unfreeze_epoch': 0, 'gmm': [], 'augment_matrix': True, 'augment_clusters': False, 'augment_old_run_id': 'kmnrqi6i', 'augment_clip': 0, 'augment_normalize': True, 'augment_raw': False, 'weight_init': 'normal', 'augment_categories': False, 'augment_nogmm': 16, 'augment_p': 0.5, 'augment_mean': 0.01, 'augment_std': 0.01, 'augment_gmm_init': 'k-means++', 'augment_prenormalize_distances': False, 'augment_noise_p': 0.0, 'augment_alg': 'kmeans'}\n"
     ]
    },
    {
     "name": "stderr",
     "output_type": "stream",
     "text": [
      "LOCAL_RANK: 0 - CUDA_VISIBLE_DEVICES: [0]\n"
     ]
    },
    {
     "name": "stdout",
     "output_type": "stream",
     "text": [
      "run-20241002_140249-xros8ub6 True kmeans\n",
      "Testing DataLoader 0: 100%|██████████| 609/609 [00:16<00:00, 37.46it/s]\n",
      "────────────────────────────────────────────────────────────────────────────────────────────────────────────────────────\n",
      "       Test metric             DataLoader 0\n",
      "────────────────────────────────────────────────────────────────────────────────────────────────────────────────────────\n",
      "        test_hit            44.556819915771484\n",
      "        test_loss            6.107140064239502\n",
      "        test_mrr            13.926748275756836\n",
      "────────────────────────────────────────────────────────────────────────────────────────────────────────────────────────\n",
      "{'dataset': 'diginetica', 'batchSize': 100, 'hiddenSize': 16, 'epoch': 30, 'lr': 0.001, 'lr_dc': 0.1, 'lr_dc_step': 3, 'l2': 1e-05, 'step': 2, 'patience': 5, 'nonhybrid': False, 'validation': True, 'valid_portion': 0.1, 'pretrained_embedings': False, 'unfreeze_epoch': 0, 'gmm': [], 'augment_matrix': True, 'augment_clusters': True, 'augment_old_run_id': 'kmnrqi6i', 'augment_clip': 0, 'augment_normalize': True, 'augment_raw': False, 'weight_init': 'normal', 'augment_categories': False, 'augment_nogmm': 16, 'augment_p': 0.5, 'augment_mean': 0.01, 'augment_std': 0.01, 'augment_gmm_init': 'k-means++', 'augment_prenormalize_distances': False, 'augment_noise_p': 0.0, 'augment_alg': 'gmm'}\n"
     ]
    },
    {
     "name": "stderr",
     "output_type": "stream",
     "text": [
      "LOCAL_RANK: 0 - CUDA_VISIBLE_DEVICES: [0]\n"
     ]
    },
    {
     "name": "stdout",
     "output_type": "stream",
     "text": [
      "run-20241002_131153-wijus07w True gmm\n",
      "Testing DataLoader 0: 100%|██████████| 609/609 [00:16<00:00, 36.59it/s]\n",
      "────────────────────────────────────────────────────────────────────────────────────────────────────────────────────────\n",
      "       Test metric             DataLoader 0\n",
      "────────────────────────────────────────────────────────────────────────────────────────────────────────────────────────\n",
      "        test_hit             45.28990173339844\n",
      "        test_loss            6.080326080322266\n",
      "        test_mrr            14.271702766418457\n",
      "────────────────────────────────────────────────────────────────────────────────────────────────────────────────────────\n",
      "{'dataset': 'diginetica', 'batchSize': 100, 'hiddenSize': 16, 'epoch': 30, 'lr': 0.001, 'lr_dc': 0.1, 'lr_dc_step': 2, 'l2': 1e-06, 'step': 2, 'patience': 4, 'nonhybrid': False, 'validation': True, 'valid_portion': 0.1, 'pretrained_embedings': False, 'unfreeze_epoch': 0, 'gmm': [], 'augment_matrix': True, 'augment_clusters': True, 'augment_old_run_id': 'kmnrqi6i', 'augment_clip': 0, 'augment_normalize': True, 'augment_raw': False, 'weight_init': 'normal', 'augment_categories': False, 'augment_nogmm': 16, 'augment_p': 0.5, 'augment_mean': 0.01, 'augment_std': 0.01, 'augment_gmm_init': 'k-means++', 'augment_prenormalize_distances': False, 'augment_noise_p': 0.0, 'augment_alg': 'gmm'}\n"
     ]
    },
    {
     "name": "stderr",
     "output_type": "stream",
     "text": [
      "LOCAL_RANK: 0 - CUDA_VISIBLE_DEVICES: [0]\n"
     ]
    },
    {
     "name": "stdout",
     "output_type": "stream",
     "text": [
      "run-20241002_124004-pkv65nix True gmm\n",
      "Testing DataLoader 0: 100%|██████████| 609/609 [00:17<00:00, 35.59it/s]\n",
      "────────────────────────────────────────────────────────────────────────────────────────────────────────────────────────\n",
      "       Test metric             DataLoader 0\n",
      "────────────────────────────────────────────────────────────────────────────────────────────────────────────────────────\n",
      "        test_hit             42.88568115234375\n",
      "        test_loss            6.296449661254883\n",
      "        test_mrr            13.708586692810059\n",
      "────────────────────────────────────────────────────────────────────────────────────────────────────────────────────────\n",
      "{'dataset': 'diginetica', 'batchSize': 100, 'hiddenSize': 16, 'epoch': 30, 'lr': 0.001, 'lr_dc': 0.1, 'lr_dc_step': 2, 'l2': 1e-06, 'step': 2, 'patience': 4, 'nonhybrid': False, 'validation': True, 'valid_portion': 0.1, 'pretrained_embedings': False, 'unfreeze_epoch': 0, 'gmm': [], 'augment_matrix': True, 'augment_clusters': True, 'augment_old_run_id': 'kmnrqi6i', 'augment_clip': 0, 'augment_normalize': True, 'augment_raw': False, 'weight_init': 'normal', 'augment_categories': False, 'augment_nogmm': 128, 'augment_p': 0.5, 'augment_mean': 0.01, 'augment_std': 0.01, 'augment_gmm_init': 'k-means++', 'augment_prenormalize_distances': False, 'augment_noise_p': 0.0, 'augment_alg': 'gmm'}\n"
     ]
    },
    {
     "name": "stderr",
     "output_type": "stream",
     "text": [
      "LOCAL_RANK: 0 - CUDA_VISIBLE_DEVICES: [0]\n"
     ]
    },
    {
     "name": "stdout",
     "output_type": "stream",
     "text": [
      "run-20241002_121528-v3ukvj2b True gmm\n",
      "Testing DataLoader 0: 100%|██████████| 609/609 [00:18<00:00, 33.49it/s]\n",
      "────────────────────────────────────────────────────────────────────────────────────────────────────────────────────────\n",
      "       Test metric             DataLoader 0\n",
      "────────────────────────────────────────────────────────────────────────────────────────────────────────────────────────\n",
      "        test_hit            42.846553802490234\n",
      "        test_loss            6.29763650894165\n",
      "        test_mrr            13.632750511169434\n",
      "────────────────────────────────────────────────────────────────────────────────────────────────────────────────────────\n"
     ]
    }
   ],
   "source": [
    "for test_run_id in [run_id]+aug_run_ids:\n",
    "    model,opt=load_model(test_run_id)\n",
    "\n",
    "    print(test_run_id, opt.augment_matrix, opt.augment_alg)\n",
    "    trainer.test(model, normal_test_dataloader)"
   ]
  },
  {
   "cell_type": "markdown",
   "metadata": {},
   "source": [
    "## augment + GM layer"
   ]
  },
  {
   "cell_type": "code",
   "execution_count": 7,
   "metadata": {},
   "outputs": [
    {
     "name": "stdout",
     "output_type": "stream",
     "text": [
      "{'dataset': 'diginetica', 'batchSize': 100, 'hiddenSize': 100, 'epoch': 30, 'lr': 0.001, 'lr_dc': 0.1, 'lr_dc_step': 3, 'l2': 1e-05, 'step': 2, 'patience': 5, 'nonhybrid': False, 'validation': True, 'valid_portion': 0.1, 'pretrained_embedings': False, 'unfreeze_epoch': 0, 'gmm': [], 'augment_matrix': False, 'augment_clusters': False, 'augment_old_run_id': 'qm2ur7o3', 'augment_clip': 0, 'augment_normalize': False, 'augment_raw': False, 'weight_init': 'normal', 'augment_categories': False, 'augment_nogmm': 8, 'augment_p': 1.0, 'augment_mean': 0.01, 'augment_std': 0.0, 'augment_gmm_init': 'k-means++', 'augment_prenormalize_distances': False, 'augment_noise_p': 0.0, 'augment_alg': 'gmm', 'gmm_covariance_type': 'full', 'gmm_tol': 0.001}\n",
      "v9h49456\n"
     ]
    },
    {
     "name": "stderr",
     "output_type": "stream",
     "text": [
      "LOCAL_RANK: 0 - CUDA_VISIBLE_DEVICES: [0]\n"
     ]
    },
    {
     "name": "stdout",
     "output_type": "stream",
     "text": [
      "Testing DataLoader 0: 100%|██████████| 609/609 [00:42<00:00, 14.20it/s]\n",
      "────────────────────────────────────────────────────────────────────────────────────────────────────────────────────────\n",
      "       Test metric             DataLoader 0\n",
      "────────────────────────────────────────────────────────────────────────────────────────────────────────────────────────\n",
      "        test_hit            50.240020751953125\n",
      "        test_loss            5.570756435394287\n",
      "        test_mrr            17.456981658935547\n",
      "────────────────────────────────────────────────────────────────────────────────────────────────────────────────────────\n",
      "{'dataset': 'diginetica', 'batchSize': 100, 'hiddenSize': 100, 'epoch': 30, 'lr': 0.001, 'lr_dc': 0.1, 'lr_dc_step': 3, 'l2': 1e-05, 'step': 2, 'patience': 5, 'nonhybrid': False, 'validation': True, 'valid_portion': 0.1, 'pretrained_embedings': False, 'unfreeze_epoch': 0, 'gmm': [], 'augment_matrix': False, 'augment_clusters': False, 'augment_old_run_id': '3abge2uq', 'augment_clip': 0, 'augment_normalize': False, 'augment_raw': False, 'weight_init': 'normal', 'augment_categories': False, 'augment_nogmm': 8, 'augment_p': 1.0, 'augment_mean': 0.01, 'augment_std': 0.0, 'augment_gmm_init': 'k-means++', 'augment_prenormalize_distances': False, 'augment_noise_p': 0.0, 'augment_alg': 'gmm', 'gmm_covariance_type': 'full', 'gmm_tol': 0.001}\n"
     ]
    },
    {
     "name": "stderr",
     "output_type": "stream",
     "text": [
      "LOCAL_RANK: 0 - CUDA_VISIBLE_DEVICES: [0]\n"
     ]
    },
    {
     "name": "stdout",
     "output_type": "stream",
     "text": [
      "c7ihc3ll\n",
      "Testing DataLoader 0: 100%|██████████| 609/609 [00:40<00:00, 14.92it/s]\n",
      "────────────────────────────────────────────────────────────────────────────────────────────────────────────────────────\n",
      "       Test metric             DataLoader 0\n",
      "────────────────────────────────────────────────────────────────────────────────────────────────────────────────────────\n",
      "        test_hit             50.01477813720703\n",
      "        test_loss            5.594357967376709\n",
      "        test_mrr            17.473312377929688\n",
      "────────────────────────────────────────────────────────────────────────────────────────────────────────────────────────\n",
      "{'dataset': 'diginetica', 'batchSize': 100, 'hiddenSize': 100, 'epoch': 30, 'lr': 0.001, 'lr_dc': 0.1, 'lr_dc_step': 3, 'l2': 1e-05, 'step': 2, 'patience': 5, 'nonhybrid': False, 'validation': True, 'valid_portion': 0.1, 'pretrained_embedings': False, 'unfreeze_epoch': 0, 'gmm': [], 'augment_matrix': False, 'augment_clusters': False, 'augment_old_run_id': '4dm99qnd', 'augment_clip': 0, 'augment_normalize': False, 'augment_raw': False, 'weight_init': 'normal', 'augment_categories': False, 'augment_nogmm': 8, 'augment_p': 1.0, 'augment_mean': 0.01, 'augment_std': 0.0, 'augment_gmm_init': 'k-means++', 'augment_prenormalize_distances': False, 'augment_noise_p': 0.0, 'augment_alg': 'gmm', 'gmm_covariance_type': 'full', 'gmm_tol': 0.001}\n"
     ]
    },
    {
     "name": "stderr",
     "output_type": "stream",
     "text": [
      "LOCAL_RANK: 0 - CUDA_VISIBLE_DEVICES: [0]\n"
     ]
    },
    {
     "name": "stdout",
     "output_type": "stream",
     "text": [
      "jadnjsru\n",
      "Testing DataLoader 0: 100%|██████████| 609/609 [00:42<00:00, 14.24it/s]\n",
      "────────────────────────────────────────────────────────────────────────────────────────────────────────────────────────\n",
      "       Test metric             DataLoader 0\n",
      "────────────────────────────────────────────────────────────────────────────────────────────────────────────────────────\n",
      "        test_hit            49.979393005371094\n",
      "        test_loss            5.582583904266357\n",
      "        test_mrr            17.552082061767578\n",
      "────────────────────────────────────────────────────────────────────────────────────────────────────────────────────────\n",
      "{'dataset': 'diginetica', 'batchSize': 100, 'hiddenSize': 100, 'epoch': 30, 'lr': 0.001, 'lr_dc': 0.1, 'lr_dc_step': 3, 'l2': 1e-05, 'step': 2, 'patience': 5, 'nonhybrid': False, 'validation': True, 'valid_portion': 0.1, 'pretrained_embedings': False, 'unfreeze_epoch': 0, 'gmm': [], 'augment_matrix': False, 'augment_clusters': False, 'augment_old_run_id': 'jxgwsuta', 'augment_clip': 0, 'augment_normalize': False, 'augment_raw': False, 'weight_init': 'normal', 'augment_categories': False, 'augment_nogmm': 8, 'augment_p': 1.0, 'augment_mean': 0.01, 'augment_std': 0.0, 'augment_gmm_init': 'k-means++', 'augment_prenormalize_distances': False, 'augment_noise_p': 0.0, 'augment_alg': 'gmm', 'gmm_covariance_type': 'full', 'gmm_tol': 0.001}\n"
     ]
    },
    {
     "name": "stderr",
     "output_type": "stream",
     "text": [
      "LOCAL_RANK: 0 - CUDA_VISIBLE_DEVICES: [0]\n"
     ]
    },
    {
     "name": "stdout",
     "output_type": "stream",
     "text": [
      "pbreuu0o\n",
      "Testing DataLoader 0: 100%|██████████| 609/609 [00:42<00:00, 14.50it/s]\n",
      "────────────────────────────────────────────────────────────────────────────────────────────────────────────────────────\n",
      "       Test metric             DataLoader 0\n",
      "────────────────────────────────────────────────────────────────────────────────────────────────────────────────────────\n",
      "        test_hit             49.90504455566406\n",
      "        test_loss            5.582030773162842\n",
      "        test_mrr             17.40863037109375\n",
      "────────────────────────────────────────────────────────────────────────────────────────────────────────────────────────\n"
     ]
    },
    {
     "data": {
      "text/html": [
       "<div>\n",
       "<style scoped>\n",
       "    .dataframe tbody tr th:only-of-type {\n",
       "        vertical-align: middle;\n",
       "    }\n",
       "\n",
       "    .dataframe tbody tr th {\n",
       "        vertical-align: top;\n",
       "    }\n",
       "\n",
       "    .dataframe thead th {\n",
       "        text-align: right;\n",
       "    }\n",
       "</style>\n",
       "<table border=\"1\" class=\"dataframe\">\n",
       "  <thead>\n",
       "    <tr style=\"text-align: right;\">\n",
       "      <th></th>\n",
       "      <th>test_loss</th>\n",
       "      <th>test_hit</th>\n",
       "      <th>test_mrr</th>\n",
       "    </tr>\n",
       "    <tr>\n",
       "      <th>augment_matrix</th>\n",
       "      <th></th>\n",
       "      <th></th>\n",
       "      <th></th>\n",
       "    </tr>\n",
       "  </thead>\n",
       "  <tbody>\n",
       "    <tr>\n",
       "      <th>False</th>\n",
       "      <td>5.582432</td>\n",
       "      <td>50.034809</td>\n",
       "      <td>17.472752</td>\n",
       "    </tr>\n",
       "  </tbody>\n",
       "</table>\n",
       "</div>"
      ],
      "text/plain": [
       "                test_loss   test_hit   test_mrr\n",
       "augment_matrix                                 \n",
       "False            5.582432  50.034809  17.472752"
      ]
     },
     "execution_count": 7,
     "metadata": {},
     "output_type": "execute_result"
    }
   ],
   "source": [
    "runs=['v9h49456', 'c7ihc3ll', 'jadnjsru', 'pbreuu0o']\n",
    "res_df=[]\n",
    "for run_id in runs:\n",
    "    try:\n",
    "      model,opt=load_model_gm(run_id)\n",
    "    except IndexError:\n",
    "       continue\n",
    "    #dataset=get_dataset(opt)\n",
    "    #am_test_dataloader=DataLoader(dataset,    num_workers=os.cpu_count(),  \n",
    "    #                       sampler=SRGNN_sampler(dataset, opt.batchSize, shuffle=False, drop_last=False)\n",
    "    #                     )\n",
    "    print(run_id)\n",
    "    metrics=trainer.test(model, {#'augmented':am_test_dataloader, \n",
    "                                 'normal':normal_test_dataloader})[0 ]\n",
    "    metrics['run_id']=run_id\n",
    "    for k,v in opt.__dict__.items():\n",
    "       metrics[k]=v\n",
    "    res_df.append(metrics)\n",
    "res_df=pd.DataFrame(res_df)\n",
    "res_df.groupby('augment_matrix')[['test_loss', 'test_hit', 'test_mrr',]].mean()"
   ]
  },
  {
   "cell_type": "code",
   "execution_count": 11,
   "metadata": {},
   "outputs": [],
   "source": [
    "runs=['zq77vmnb','fpu7ucbf']+['12bdl9rw', 'wsix33ma', '1lh9waxz', 'nqk6cfps']+['n02c6569', 'q9w5okna', 'ltt7vsmv', '7o8vwuxv']"
   ]
  },
  {
   "cell_type": "code",
   "execution_count": 14,
   "metadata": {},
   "outputs": [
    {
     "name": "stderr",
     "output_type": "stream",
     "text": [
      "LOCAL_RANK: 0 - CUDA_VISIBLE_DEVICES: [0]\n"
     ]
    },
    {
     "name": "stdout",
     "output_type": "stream",
     "text": [
      "{'dataset': 'diginetica', 'batchSize': 100, 'hiddenSize': 100, 'epoch': 30, 'lr': 0.001, 'lr_dc': 0.1, 'lr_dc_step': 2, 'l2': 1e-06, 'step': 2, 'patience': 4, 'nonhybrid': False, 'validation': True, 'valid_portion': 0.1, 'pretrained_embedings': False, 'unfreeze_epoch': 0, 'gmm': [], 'augment_matrix': True, 'augment_clusters': False, 'augment_old_run_id': 'qm2ur7o3', 'augment_clip': 0, 'augment_normalize': True, 'augment_raw': False, 'weight_init': 'normal', 'augment_categories': False, 'augment_nogmm': 8, 'augment_p': 0.5, 'augment_mean': 0.01, 'augment_std': 0.01, 'augment_gmm_init': 'k-means++', 'augment_prenormalize_distances': False, 'augment_noise_p': 0.5, 'augment_alg': 'raw', 'gmm_covariance_type': 'full', 'gmm_tol': 0.001}\n",
      "zq77vmnb\n",
      "Testing DataLoader 0: 100%|██████████| 609/609 [00:38<00:00, 15.96it/s]\n",
      "────────────────────────────────────────────────────────────────────────────────────────────────────────────────────────\n",
      "       Test metric             DataLoader 0\n",
      "────────────────────────────────────────────────────────────────────────────────────────────────────────────────────────\n",
      "        test_hit             50.99699783325195\n",
      "        test_loss            5.507059097290039\n",
      "        test_mrr            17.954378128051758\n",
      "────────────────────────────────────────────────────────────────────────────────────────────────────────────────────────\n",
      "{'dataset': 'diginetica', 'batchSize': 100, 'hiddenSize': 100, 'epoch': 30, 'lr': 0.001, 'lr_dc': 0.1, 'lr_dc_step': 2, 'l2': 1e-06, 'step': 2, 'patience': 4, 'nonhybrid': False, 'validation': True, 'valid_portion': 0.1, 'pretrained_embedings': False, 'unfreeze_epoch': 0, 'gmm': [], 'augment_matrix': True, 'augment_clusters': False, 'augment_old_run_id': '3abge2uq', 'augment_clip': 0, 'augment_normalize': True, 'augment_raw': False, 'weight_init': 'normal', 'augment_categories': False, 'augment_nogmm': 8, 'augment_p': 0.5, 'augment_mean': 0.01, 'augment_std': 0.01, 'augment_gmm_init': 'k-means++', 'augment_prenormalize_distances': False, 'augment_noise_p': 0.5, 'augment_alg': 'raw', 'gmm_covariance_type': 'full', 'gmm_tol': 0.001}\n"
     ]
    },
    {
     "name": "stderr",
     "output_type": "stream",
     "text": [
      "LOCAL_RANK: 0 - CUDA_VISIBLE_DEVICES: [0]\n"
     ]
    },
    {
     "name": "stdout",
     "output_type": "stream",
     "text": [
      "fpu7ucbf\n",
      "Testing DataLoader 0: 100%|██████████| 609/609 [00:38<00:00, 15.92it/s]\n",
      "────────────────────────────────────────────────────────────────────────────────────────────────────────────────────────\n",
      "       Test metric             DataLoader 0\n",
      "────────────────────────────────────────────────────────────────────────────────────────────────────────────────────────\n",
      "        test_hit             51.45914840698242\n",
      "        test_loss            5.489494800567627\n",
      "        test_mrr             17.94986343383789\n",
      "────────────────────────────────────────────────────────────────────────────────────────────────────────────────────────\n",
      "{'dataset': 'diginetica', 'batchSize': 100, 'hiddenSize': 100, 'epoch': 30, 'lr': 0.001, 'lr_dc': 0.1, 'lr_dc_step': 2, 'l2': 1e-06, 'step': 2, 'patience': 4, 'nonhybrid': False, 'validation': True, 'valid_portion': 0.1, 'pretrained_embedings': False, 'unfreeze_epoch': 0, 'gmm': [], 'augment_matrix': True, 'augment_clusters': False, 'augment_old_run_id': 'qm2ur7o3', 'augment_clip': 0, 'augment_normalize': True, 'augment_raw': False, 'weight_init': 'normal', 'augment_categories': False, 'augment_nogmm': 8, 'augment_p': 0.5, 'augment_mean': 0.01, 'augment_std': 0.01, 'augment_gmm_init': 'k-means++', 'augment_prenormalize_distances': False, 'augment_noise_p': 0.5, 'augment_alg': 'raw', 'gmm_covariance_type': 'full', 'gmm_tol': 0.001}\n"
     ]
    },
    {
     "name": "stderr",
     "output_type": "stream",
     "text": [
      "LOCAL_RANK: 0 - CUDA_VISIBLE_DEVICES: [0]\n"
     ]
    },
    {
     "name": "stdout",
     "output_type": "stream",
     "text": [
      "12bdl9rw\n",
      "Testing DataLoader 0: 100%|██████████| 609/609 [00:37<00:00, 16.21it/s]\n",
      "────────────────────────────────────────────────────────────────────────────────────────────────────────────────────────\n",
      "       Test metric             DataLoader 0\n",
      "────────────────────────────────────────────────────────────────────────────────────────────────────────────────────────\n",
      "        test_hit             51.09342575073242\n",
      "        test_loss            5.505617618560791\n",
      "        test_mrr             17.96576690673828\n",
      "────────────────────────────────────────────────────────────────────────────────────────────────────────────────────────\n",
      "{'dataset': 'diginetica', 'batchSize': 100, 'hiddenSize': 100, 'epoch': 30, 'lr': 0.001, 'lr_dc': 0.1, 'lr_dc_step': 2, 'l2': 1e-06, 'step': 2, 'patience': 4, 'nonhybrid': False, 'validation': True, 'valid_portion': 0.1, 'pretrained_embedings': False, 'unfreeze_epoch': 0, 'gmm': [], 'augment_matrix': True, 'augment_clusters': False, 'augment_old_run_id': '3abge2uq', 'augment_clip': 0, 'augment_normalize': True, 'augment_raw': False, 'weight_init': 'normal', 'augment_categories': False, 'augment_nogmm': 8, 'augment_p': 0.5, 'augment_mean': 0.01, 'augment_std': 0.01, 'augment_gmm_init': 'k-means++', 'augment_prenormalize_distances': False, 'augment_noise_p': 0.5, 'augment_alg': 'raw', 'gmm_covariance_type': 'full', 'gmm_tol': 0.001}\n"
     ]
    },
    {
     "name": "stderr",
     "output_type": "stream",
     "text": [
      "LOCAL_RANK: 0 - CUDA_VISIBLE_DEVICES: [0]\n"
     ]
    },
    {
     "name": "stdout",
     "output_type": "stream",
     "text": [
      "wsix33ma\n",
      "Testing DataLoader 0: 100%|██████████| 609/609 [00:38<00:00, 15.99it/s]\n",
      "────────────────────────────────────────────────────────────────────────────────────────────────────────────────────────\n",
      "       Test metric             DataLoader 0\n",
      "────────────────────────────────────────────────────────────────────────────────────────────────────────────────────────\n",
      "        test_hit             51.17343521118164\n",
      "        test_loss            5.497803211212158\n",
      "        test_mrr             17.93375015258789\n",
      "────────────────────────────────────────────────────────────────────────────────────────────────────────────────────────\n",
      "{'dataset': 'diginetica', 'batchSize': 100, 'hiddenSize': 100, 'epoch': 30, 'lr': 0.001, 'lr_dc': 0.1, 'lr_dc_step': 2, 'l2': 1e-06, 'step': 2, 'patience': 4, 'nonhybrid': False, 'validation': True, 'valid_portion': 0.1, 'pretrained_embedings': False, 'unfreeze_epoch': 0, 'gmm': [], 'augment_matrix': True, 'augment_clusters': False, 'augment_old_run_id': '4dm99qnd', 'augment_clip': 0, 'augment_normalize': True, 'augment_raw': False, 'weight_init': 'normal', 'augment_categories': False, 'augment_nogmm': 8, 'augment_p': 0.5, 'augment_mean': 0.01, 'augment_std': 0.01, 'augment_gmm_init': 'k-means++', 'augment_prenormalize_distances': False, 'augment_noise_p': 0.5, 'augment_alg': 'raw', 'gmm_covariance_type': 'full', 'gmm_tol': 0.001}\n"
     ]
    },
    {
     "name": "stderr",
     "output_type": "stream",
     "text": [
      "LOCAL_RANK: 0 - CUDA_VISIBLE_DEVICES: [0]\n"
     ]
    },
    {
     "name": "stdout",
     "output_type": "stream",
     "text": [
      "1lh9waxz\n",
      "Testing DataLoader 0: 100%|██████████| 609/609 [00:37<00:00, 16.07it/s]\n",
      "────────────────────────────────────────────────────────────────────────────────────────────────────────────────────────\n",
      "       Test metric             DataLoader 0\n",
      "────────────────────────────────────────────────────────────────────────────────────────────────────────────────────────\n",
      "        test_hit            51.251800537109375\n",
      "        test_loss            5.504984378814697\n",
      "        test_mrr             18.04973030090332\n",
      "────────────────────────────────────────────────────────────────────────────────────────────────────────────────────────\n",
      "{'dataset': 'diginetica', 'batchSize': 100, 'hiddenSize': 100, 'epoch': 30, 'lr': 0.001, 'lr_dc': 0.1, 'lr_dc_step': 2, 'l2': 1e-06, 'step': 2, 'patience': 4, 'nonhybrid': False, 'validation': True, 'valid_portion': 0.1, 'pretrained_embedings': False, 'unfreeze_epoch': 0, 'gmm': [], 'augment_matrix': True, 'augment_clusters': False, 'augment_old_run_id': 'jxgwsuta', 'augment_clip': 0, 'augment_normalize': True, 'augment_raw': False, 'weight_init': 'normal', 'augment_categories': False, 'augment_nogmm': 8, 'augment_p': 0.5, 'augment_mean': 0.01, 'augment_std': 0.01, 'augment_gmm_init': 'k-means++', 'augment_prenormalize_distances': False, 'augment_noise_p': 0.5, 'augment_alg': 'raw', 'gmm_covariance_type': 'full', 'gmm_tol': 0.001}\n"
     ]
    },
    {
     "name": "stderr",
     "output_type": "stream",
     "text": [
      "LOCAL_RANK: 0 - CUDA_VISIBLE_DEVICES: [0]\n"
     ]
    },
    {
     "name": "stdout",
     "output_type": "stream",
     "text": [
      "nqk6cfps\n",
      "Testing DataLoader 0: 100%|██████████| 609/609 [00:38<00:00, 15.95it/s]\n",
      "────────────────────────────────────────────────────────────────────────────────────────────────────────────────────────\n",
      "       Test metric             DataLoader 0\n",
      "────────────────────────────────────────────────────────────────────────────────────────────────────────────────────────\n",
      "        test_hit            51.034767150878906\n",
      "        test_loss            5.504435062408447\n",
      "        test_mrr            17.922393798828125\n",
      "────────────────────────────────────────────────────────────────────────────────────────────────────────────────────────\n",
      "{'dataset': 'diginetica', 'batchSize': 100, 'hiddenSize': 100, 'epoch': 30, 'lr': 0.001, 'lr_dc': 0.1, 'lr_dc_step': 2, 'l2': 1e-05, 'step': 2, 'patience': 5, 'nonhybrid': False, 'validation': True, 'valid_portion': 0.1, 'pretrained_embedings': False, 'unfreeze_epoch': 0, 'gmm': [], 'augment_matrix': False, 'augment_clusters': False, 'augment_old_run_id': 'qm2ur7o3', 'augment_clip': 0, 'augment_normalize': False, 'augment_raw': False, 'weight_init': 'normal', 'augment_categories': False, 'augment_nogmm': 8, 'augment_p': 1.0, 'augment_mean': 0.01, 'augment_std': 0.0, 'augment_gmm_init': 'k-means++', 'augment_prenormalize_distances': False, 'augment_noise_p': 0.0, 'augment_alg': 'gmm', 'gmm_covariance_type': 'full', 'gmm_tol': 0.001}\n"
     ]
    },
    {
     "name": "stderr",
     "output_type": "stream",
     "text": [
      "LOCAL_RANK: 0 - CUDA_VISIBLE_DEVICES: [0]\n"
     ]
    },
    {
     "name": "stdout",
     "output_type": "stream",
     "text": [
      "n02c6569\n",
      "Testing DataLoader 0: 100%|██████████| 609/609 [00:37<00:00, 16.11it/s]\n",
      "────────────────────────────────────────────────────────────────────────────────────────────────────────────────────────\n",
      "       Test metric             DataLoader 0\n",
      "────────────────────────────────────────────────────────────────────────────────────────────────────────────────────────\n",
      "        test_hit             50.50156021118164\n",
      "        test_loss            5.52696418762207\n",
      "        test_mrr            17.626205444335938\n",
      "────────────────────────────────────────────────────────────────────────────────────────────────────────────────────────\n",
      "{'dataset': 'diginetica', 'batchSize': 100, 'hiddenSize': 100, 'epoch': 30, 'lr': 0.001, 'lr_dc': 0.1, 'lr_dc_step': 2, 'l2': 1e-05, 'step': 2, 'patience': 5, 'nonhybrid': False, 'validation': True, 'valid_portion': 0.1, 'pretrained_embedings': False, 'unfreeze_epoch': 0, 'gmm': [], 'augment_matrix': False, 'augment_clusters': False, 'augment_old_run_id': '3abge2uq', 'augment_clip': 0, 'augment_normalize': False, 'augment_raw': False, 'weight_init': 'normal', 'augment_categories': False, 'augment_nogmm': 8, 'augment_p': 1.0, 'augment_mean': 0.01, 'augment_std': 0.0, 'augment_gmm_init': 'k-means++', 'augment_prenormalize_distances': False, 'augment_noise_p': 0.0, 'augment_alg': 'gmm', 'gmm_covariance_type': 'full', 'gmm_tol': 0.001}\n"
     ]
    },
    {
     "name": "stderr",
     "output_type": "stream",
     "text": [
      "LOCAL_RANK: 0 - CUDA_VISIBLE_DEVICES: [0]\n"
     ]
    },
    {
     "name": "stdout",
     "output_type": "stream",
     "text": [
      "q9w5okna\n",
      "Testing DataLoader 0: 100%|██████████| 609/609 [00:38<00:00, 15.90it/s]\n",
      "────────────────────────────────────────────────────────────────────────────────────────────────────────────────────────\n",
      "       Test metric             DataLoader 0\n",
      "────────────────────────────────────────────────────────────────────────────────────────────────────────────────────────\n",
      "        test_hit             50.87010955810547\n",
      "        test_loss            5.494775295257568\n",
      "        test_mrr             17.70394515991211\n",
      "────────────────────────────────────────────────────────────────────────────────────────────────────────────────────────\n",
      "{'dataset': 'diginetica', 'batchSize': 100, 'hiddenSize': 100, 'epoch': 30, 'lr': 0.001, 'lr_dc': 0.1, 'lr_dc_step': 2, 'l2': 1e-05, 'step': 2, 'patience': 5, 'nonhybrid': False, 'validation': True, 'valid_portion': 0.1, 'pretrained_embedings': False, 'unfreeze_epoch': 0, 'gmm': [], 'augment_matrix': False, 'augment_clusters': False, 'augment_old_run_id': '4dm99qnd', 'augment_clip': 0, 'augment_normalize': False, 'augment_raw': False, 'weight_init': 'normal', 'augment_categories': False, 'augment_nogmm': 8, 'augment_p': 1.0, 'augment_mean': 0.01, 'augment_std': 0.0, 'augment_gmm_init': 'k-means++', 'augment_prenormalize_distances': False, 'augment_noise_p': 0.0, 'augment_alg': 'gmm', 'gmm_covariance_type': 'full', 'gmm_tol': 0.001}\n"
     ]
    },
    {
     "name": "stderr",
     "output_type": "stream",
     "text": [
      "LOCAL_RANK: 0 - CUDA_VISIBLE_DEVICES: [0]\n"
     ]
    },
    {
     "name": "stdout",
     "output_type": "stream",
     "text": [
      "ltt7vsmv\n",
      "Testing DataLoader 0: 100%|██████████| 609/609 [00:37<00:00, 16.07it/s]\n",
      "────────────────────────────────────────────────────────────────────────────────────────────────────────────────────────\n",
      "       Test metric             DataLoader 0\n",
      "────────────────────────────────────────────────────────────────────────────────────────────────────────────────────────\n",
      "        test_hit             50.67634963989258\n",
      "        test_loss           5.5109429359436035\n",
      "        test_mrr            17.650726318359375\n",
      "────────────────────────────────────────────────────────────────────────────────────────────────────────────────────────\n",
      "{'dataset': 'diginetica', 'batchSize': 100, 'hiddenSize': 100, 'epoch': 30, 'lr': 0.001, 'lr_dc': 0.1, 'lr_dc_step': 2, 'l2': 1e-05, 'step': 2, 'patience': 5, 'nonhybrid': False, 'validation': True, 'valid_portion': 0.1, 'pretrained_embedings': False, 'unfreeze_epoch': 0, 'gmm': [], 'augment_matrix': False, 'augment_clusters': False, 'augment_old_run_id': 'jxgwsuta', 'augment_clip': 0, 'augment_normalize': False, 'augment_raw': False, 'weight_init': 'normal', 'augment_categories': False, 'augment_nogmm': 8, 'augment_p': 1.0, 'augment_mean': 0.01, 'augment_std': 0.0, 'augment_gmm_init': 'k-means++', 'augment_prenormalize_distances': False, 'augment_noise_p': 0.0, 'augment_alg': 'gmm', 'gmm_covariance_type': 'full', 'gmm_tol': 0.001}\n"
     ]
    },
    {
     "name": "stderr",
     "output_type": "stream",
     "text": [
      "LOCAL_RANK: 0 - CUDA_VISIBLE_DEVICES: [0]\n"
     ]
    },
    {
     "name": "stdout",
     "output_type": "stream",
     "text": [
      "7o8vwuxv\n",
      "Testing DataLoader 0: 100%|██████████| 609/609 [00:38<00:00, 15.87it/s]\n",
      "────────────────────────────────────────────────────────────────────────────────────────────────────────────────────────\n",
      "       Test metric             DataLoader 0\n",
      "────────────────────────────────────────────────────────────────────────────────────────────────────────────────────────\n",
      "        test_hit             50.51378631591797\n",
      "        test_loss            5.514265060424805\n",
      "        test_mrr            17.573287963867188\n",
      "────────────────────────────────────────────────────────────────────────────────────────────────────────────────────────\n"
     ]
    }
   ],
   "source": [
    "res_df=[]\n",
    "for run_id in runs:\n",
    "    try:\n",
    "      model,opt=load_model_gm(run_id)\n",
    "    except IndexError:\n",
    "       continue\n",
    "    #dataset=get_dataset(opt)\n",
    "    #am_test_dataloader=DataLoader(dataset,    num_workers=os.cpu_count(),  \n",
    "    #                       sampler=SRGNN_sampler(dataset, opt.batchSize, shuffle=False, drop_last=False)\n",
    "    #                     )\n",
    "    print(run_id)\n",
    "    metrics=trainer.test(model, {#'augmented':am_test_dataloader, \n",
    "                                 'normal':normal_test_dataloader})[0 ]\n",
    "    metrics['run_id']=run_id\n",
    "    for k,v in opt.__dict__.items():\n",
    "       metrics[k]=v\n",
    "    res_df.append(metrics)"
   ]
  },
  {
   "cell_type": "code",
   "execution_count": 15,
   "metadata": {},
   "outputs": [],
   "source": [
    "res_df=pd.DataFrame(res_df)"
   ]
  },
  {
   "cell_type": "code",
   "execution_count": 16,
   "metadata": {},
   "outputs": [
    {
     "data": {
      "text/html": [
       "<div>\n",
       "<style scoped>\n",
       "    .dataframe tbody tr th:only-of-type {\n",
       "        vertical-align: middle;\n",
       "    }\n",
       "\n",
       "    .dataframe tbody tr th {\n",
       "        vertical-align: top;\n",
       "    }\n",
       "\n",
       "    .dataframe thead th {\n",
       "        text-align: right;\n",
       "    }\n",
       "</style>\n",
       "<table border=\"1\" class=\"dataframe\">\n",
       "  <thead>\n",
       "    <tr style=\"text-align: right;\">\n",
       "      <th></th>\n",
       "      <th>test_loss</th>\n",
       "      <th>test_hit</th>\n",
       "      <th>test_mrr</th>\n",
       "    </tr>\n",
       "    <tr>\n",
       "      <th>augment_matrix</th>\n",
       "      <th></th>\n",
       "      <th></th>\n",
       "      <th></th>\n",
       "    </tr>\n",
       "  </thead>\n",
       "  <tbody>\n",
       "    <tr>\n",
       "      <th>False</th>\n",
       "      <td>5.511737</td>\n",
       "      <td>50.640451</td>\n",
       "      <td>17.638541</td>\n",
       "    </tr>\n",
       "    <tr>\n",
       "      <th>True</th>\n",
       "      <td>5.501566</td>\n",
       "      <td>51.168262</td>\n",
       "      <td>17.962647</td>\n",
       "    </tr>\n",
       "  </tbody>\n",
       "</table>\n",
       "</div>"
      ],
      "text/plain": [
       "                test_loss   test_hit   test_mrr\n",
       "augment_matrix                                 \n",
       "False            5.511737  50.640451  17.638541\n",
       "True             5.501566  51.168262  17.962647"
      ]
     },
     "execution_count": 16,
     "metadata": {},
     "output_type": "execute_result"
    }
   ],
   "source": [
    "res_df.groupby('augment_matrix')[['test_loss', 'test_hit', 'test_mrr',]].mean()"
   ]
  },
  {
   "cell_type": "code",
   "execution_count": 17,
   "metadata": {},
   "outputs": [
    {
     "data": {
      "text/html": [
       "<div>\n",
       "<style scoped>\n",
       "    .dataframe tbody tr th:only-of-type {\n",
       "        vertical-align: middle;\n",
       "    }\n",
       "\n",
       "    .dataframe tbody tr th {\n",
       "        vertical-align: top;\n",
       "    }\n",
       "\n",
       "    .dataframe thead th {\n",
       "        text-align: right;\n",
       "    }\n",
       "</style>\n",
       "<table border=\"1\" class=\"dataframe\">\n",
       "  <thead>\n",
       "    <tr style=\"text-align: right;\">\n",
       "      <th></th>\n",
       "      <th>test_loss</th>\n",
       "      <th>test_hit</th>\n",
       "      <th>test_mrr</th>\n",
       "      <th>run_id</th>\n",
       "      <th>dataset</th>\n",
       "      <th>batchSize</th>\n",
       "      <th>hiddenSize</th>\n",
       "      <th>epoch</th>\n",
       "      <th>lr</th>\n",
       "      <th>lr_dc</th>\n",
       "      <th>...</th>\n",
       "      <th>augment_nogmm</th>\n",
       "      <th>augment_p</th>\n",
       "      <th>augment_mean</th>\n",
       "      <th>augment_std</th>\n",
       "      <th>augment_gmm_init</th>\n",
       "      <th>augment_prenormalize_distances</th>\n",
       "      <th>augment_noise_p</th>\n",
       "      <th>augment_alg</th>\n",
       "      <th>gmm_covariance_type</th>\n",
       "      <th>gmm_tol</th>\n",
       "    </tr>\n",
       "  </thead>\n",
       "  <tbody>\n",
       "    <tr>\n",
       "      <th>0</th>\n",
       "      <td>5.507059</td>\n",
       "      <td>50.996998</td>\n",
       "      <td>17.954378</td>\n",
       "      <td>zq77vmnb</td>\n",
       "      <td>diginetica</td>\n",
       "      <td>100</td>\n",
       "      <td>100</td>\n",
       "      <td>30</td>\n",
       "      <td>0.001</td>\n",
       "      <td>0.1</td>\n",
       "      <td>...</td>\n",
       "      <td>8</td>\n",
       "      <td>0.5</td>\n",
       "      <td>0.01</td>\n",
       "      <td>0.01</td>\n",
       "      <td>k-means++</td>\n",
       "      <td>False</td>\n",
       "      <td>0.5</td>\n",
       "      <td>raw</td>\n",
       "      <td>full</td>\n",
       "      <td>0.001</td>\n",
       "    </tr>\n",
       "    <tr>\n",
       "      <th>1</th>\n",
       "      <td>5.489495</td>\n",
       "      <td>51.459148</td>\n",
       "      <td>17.949863</td>\n",
       "      <td>fpu7ucbf</td>\n",
       "      <td>diginetica</td>\n",
       "      <td>100</td>\n",
       "      <td>100</td>\n",
       "      <td>30</td>\n",
       "      <td>0.001</td>\n",
       "      <td>0.1</td>\n",
       "      <td>...</td>\n",
       "      <td>8</td>\n",
       "      <td>0.5</td>\n",
       "      <td>0.01</td>\n",
       "      <td>0.01</td>\n",
       "      <td>k-means++</td>\n",
       "      <td>False</td>\n",
       "      <td>0.5</td>\n",
       "      <td>raw</td>\n",
       "      <td>full</td>\n",
       "      <td>0.001</td>\n",
       "    </tr>\n",
       "    <tr>\n",
       "      <th>2</th>\n",
       "      <td>5.505618</td>\n",
       "      <td>51.093426</td>\n",
       "      <td>17.965767</td>\n",
       "      <td>12bdl9rw</td>\n",
       "      <td>diginetica</td>\n",
       "      <td>100</td>\n",
       "      <td>100</td>\n",
       "      <td>30</td>\n",
       "      <td>0.001</td>\n",
       "      <td>0.1</td>\n",
       "      <td>...</td>\n",
       "      <td>8</td>\n",
       "      <td>0.5</td>\n",
       "      <td>0.01</td>\n",
       "      <td>0.01</td>\n",
       "      <td>k-means++</td>\n",
       "      <td>False</td>\n",
       "      <td>0.5</td>\n",
       "      <td>raw</td>\n",
       "      <td>full</td>\n",
       "      <td>0.001</td>\n",
       "    </tr>\n",
       "    <tr>\n",
       "      <th>3</th>\n",
       "      <td>5.497803</td>\n",
       "      <td>51.173435</td>\n",
       "      <td>17.933750</td>\n",
       "      <td>wsix33ma</td>\n",
       "      <td>diginetica</td>\n",
       "      <td>100</td>\n",
       "      <td>100</td>\n",
       "      <td>30</td>\n",
       "      <td>0.001</td>\n",
       "      <td>0.1</td>\n",
       "      <td>...</td>\n",
       "      <td>8</td>\n",
       "      <td>0.5</td>\n",
       "      <td>0.01</td>\n",
       "      <td>0.01</td>\n",
       "      <td>k-means++</td>\n",
       "      <td>False</td>\n",
       "      <td>0.5</td>\n",
       "      <td>raw</td>\n",
       "      <td>full</td>\n",
       "      <td>0.001</td>\n",
       "    </tr>\n",
       "    <tr>\n",
       "      <th>4</th>\n",
       "      <td>5.504984</td>\n",
       "      <td>51.251801</td>\n",
       "      <td>18.049730</td>\n",
       "      <td>1lh9waxz</td>\n",
       "      <td>diginetica</td>\n",
       "      <td>100</td>\n",
       "      <td>100</td>\n",
       "      <td>30</td>\n",
       "      <td>0.001</td>\n",
       "      <td>0.1</td>\n",
       "      <td>...</td>\n",
       "      <td>8</td>\n",
       "      <td>0.5</td>\n",
       "      <td>0.01</td>\n",
       "      <td>0.01</td>\n",
       "      <td>k-means++</td>\n",
       "      <td>False</td>\n",
       "      <td>0.5</td>\n",
       "      <td>raw</td>\n",
       "      <td>full</td>\n",
       "      <td>0.001</td>\n",
       "    </tr>\n",
       "    <tr>\n",
       "      <th>5</th>\n",
       "      <td>5.504435</td>\n",
       "      <td>51.034767</td>\n",
       "      <td>17.922394</td>\n",
       "      <td>nqk6cfps</td>\n",
       "      <td>diginetica</td>\n",
       "      <td>100</td>\n",
       "      <td>100</td>\n",
       "      <td>30</td>\n",
       "      <td>0.001</td>\n",
       "      <td>0.1</td>\n",
       "      <td>...</td>\n",
       "      <td>8</td>\n",
       "      <td>0.5</td>\n",
       "      <td>0.01</td>\n",
       "      <td>0.01</td>\n",
       "      <td>k-means++</td>\n",
       "      <td>False</td>\n",
       "      <td>0.5</td>\n",
       "      <td>raw</td>\n",
       "      <td>full</td>\n",
       "      <td>0.001</td>\n",
       "    </tr>\n",
       "    <tr>\n",
       "      <th>6</th>\n",
       "      <td>5.526964</td>\n",
       "      <td>50.501560</td>\n",
       "      <td>17.626205</td>\n",
       "      <td>n02c6569</td>\n",
       "      <td>diginetica</td>\n",
       "      <td>100</td>\n",
       "      <td>100</td>\n",
       "      <td>30</td>\n",
       "      <td>0.001</td>\n",
       "      <td>0.1</td>\n",
       "      <td>...</td>\n",
       "      <td>8</td>\n",
       "      <td>1.0</td>\n",
       "      <td>0.01</td>\n",
       "      <td>0.00</td>\n",
       "      <td>k-means++</td>\n",
       "      <td>False</td>\n",
       "      <td>0.0</td>\n",
       "      <td>gmm</td>\n",
       "      <td>full</td>\n",
       "      <td>0.001</td>\n",
       "    </tr>\n",
       "    <tr>\n",
       "      <th>7</th>\n",
       "      <td>5.494775</td>\n",
       "      <td>50.870110</td>\n",
       "      <td>17.703945</td>\n",
       "      <td>q9w5okna</td>\n",
       "      <td>diginetica</td>\n",
       "      <td>100</td>\n",
       "      <td>100</td>\n",
       "      <td>30</td>\n",
       "      <td>0.001</td>\n",
       "      <td>0.1</td>\n",
       "      <td>...</td>\n",
       "      <td>8</td>\n",
       "      <td>1.0</td>\n",
       "      <td>0.01</td>\n",
       "      <td>0.00</td>\n",
       "      <td>k-means++</td>\n",
       "      <td>False</td>\n",
       "      <td>0.0</td>\n",
       "      <td>gmm</td>\n",
       "      <td>full</td>\n",
       "      <td>0.001</td>\n",
       "    </tr>\n",
       "    <tr>\n",
       "      <th>8</th>\n",
       "      <td>5.510943</td>\n",
       "      <td>50.676350</td>\n",
       "      <td>17.650726</td>\n",
       "      <td>ltt7vsmv</td>\n",
       "      <td>diginetica</td>\n",
       "      <td>100</td>\n",
       "      <td>100</td>\n",
       "      <td>30</td>\n",
       "      <td>0.001</td>\n",
       "      <td>0.1</td>\n",
       "      <td>...</td>\n",
       "      <td>8</td>\n",
       "      <td>1.0</td>\n",
       "      <td>0.01</td>\n",
       "      <td>0.00</td>\n",
       "      <td>k-means++</td>\n",
       "      <td>False</td>\n",
       "      <td>0.0</td>\n",
       "      <td>gmm</td>\n",
       "      <td>full</td>\n",
       "      <td>0.001</td>\n",
       "    </tr>\n",
       "    <tr>\n",
       "      <th>9</th>\n",
       "      <td>5.514265</td>\n",
       "      <td>50.513786</td>\n",
       "      <td>17.573288</td>\n",
       "      <td>7o8vwuxv</td>\n",
       "      <td>diginetica</td>\n",
       "      <td>100</td>\n",
       "      <td>100</td>\n",
       "      <td>30</td>\n",
       "      <td>0.001</td>\n",
       "      <td>0.1</td>\n",
       "      <td>...</td>\n",
       "      <td>8</td>\n",
       "      <td>1.0</td>\n",
       "      <td>0.01</td>\n",
       "      <td>0.00</td>\n",
       "      <td>k-means++</td>\n",
       "      <td>False</td>\n",
       "      <td>0.0</td>\n",
       "      <td>gmm</td>\n",
       "      <td>full</td>\n",
       "      <td>0.001</td>\n",
       "    </tr>\n",
       "  </tbody>\n",
       "</table>\n",
       "<p>10 rows × 38 columns</p>\n",
       "</div>"
      ],
      "text/plain": [
       "   test_loss   test_hit   test_mrr    run_id     dataset  batchSize  \\\n",
       "0   5.507059  50.996998  17.954378  zq77vmnb  diginetica        100   \n",
       "1   5.489495  51.459148  17.949863  fpu7ucbf  diginetica        100   \n",
       "2   5.505618  51.093426  17.965767  12bdl9rw  diginetica        100   \n",
       "3   5.497803  51.173435  17.933750  wsix33ma  diginetica        100   \n",
       "4   5.504984  51.251801  18.049730  1lh9waxz  diginetica        100   \n",
       "5   5.504435  51.034767  17.922394  nqk6cfps  diginetica        100   \n",
       "6   5.526964  50.501560  17.626205  n02c6569  diginetica        100   \n",
       "7   5.494775  50.870110  17.703945  q9w5okna  diginetica        100   \n",
       "8   5.510943  50.676350  17.650726  ltt7vsmv  diginetica        100   \n",
       "9   5.514265  50.513786  17.573288  7o8vwuxv  diginetica        100   \n",
       "\n",
       "   hiddenSize  epoch     lr  lr_dc  ...  augment_nogmm  augment_p  \\\n",
       "0         100     30  0.001    0.1  ...              8        0.5   \n",
       "1         100     30  0.001    0.1  ...              8        0.5   \n",
       "2         100     30  0.001    0.1  ...              8        0.5   \n",
       "3         100     30  0.001    0.1  ...              8        0.5   \n",
       "4         100     30  0.001    0.1  ...              8        0.5   \n",
       "5         100     30  0.001    0.1  ...              8        0.5   \n",
       "6         100     30  0.001    0.1  ...              8        1.0   \n",
       "7         100     30  0.001    0.1  ...              8        1.0   \n",
       "8         100     30  0.001    0.1  ...              8        1.0   \n",
       "9         100     30  0.001    0.1  ...              8        1.0   \n",
       "\n",
       "   augment_mean  augment_std  augment_gmm_init  \\\n",
       "0          0.01         0.01         k-means++   \n",
       "1          0.01         0.01         k-means++   \n",
       "2          0.01         0.01         k-means++   \n",
       "3          0.01         0.01         k-means++   \n",
       "4          0.01         0.01         k-means++   \n",
       "5          0.01         0.01         k-means++   \n",
       "6          0.01         0.00         k-means++   \n",
       "7          0.01         0.00         k-means++   \n",
       "8          0.01         0.00         k-means++   \n",
       "9          0.01         0.00         k-means++   \n",
       "\n",
       "   augment_prenormalize_distances  augment_noise_p  augment_alg  \\\n",
       "0                           False              0.5          raw   \n",
       "1                           False              0.5          raw   \n",
       "2                           False              0.5          raw   \n",
       "3                           False              0.5          raw   \n",
       "4                           False              0.5          raw   \n",
       "5                           False              0.5          raw   \n",
       "6                           False              0.0          gmm   \n",
       "7                           False              0.0          gmm   \n",
       "8                           False              0.0          gmm   \n",
       "9                           False              0.0          gmm   \n",
       "\n",
       "   gmm_covariance_type gmm_tol  \n",
       "0                 full   0.001  \n",
       "1                 full   0.001  \n",
       "2                 full   0.001  \n",
       "3                 full   0.001  \n",
       "4                 full   0.001  \n",
       "5                 full   0.001  \n",
       "6                 full   0.001  \n",
       "7                 full   0.001  \n",
       "8                 full   0.001  \n",
       "9                 full   0.001  \n",
       "\n",
       "[10 rows x 38 columns]"
      ]
     },
     "execution_count": 17,
     "metadata": {},
     "output_type": "execute_result"
    }
   ],
   "source": [
    "res_df"
   ]
  },
  {
   "cell_type": "markdown",
   "metadata": {},
   "source": [
    "# TAGNN"
   ]
  },
  {
   "cell_type": "markdown",
   "metadata": {},
   "source": [
    "## otto-recsys"
   ]
  },
  {
   "cell_type": "code",
   "execution_count": 6,
   "metadata": {},
   "outputs": [],
   "source": [
    "runs = ['5f8cxkla', 'bqpaq7d1', 'onjpsmm2',\n",
    "        '14oq6k8n',\n",
    "  'uebl28zc',\n",
    "  'tfeek0n2',\n",
    "  '6u14u7kn',\n",
    "  'gcvf1rcu',\n",
    "  'ih8175d2',\n",
    "  'l2w97z5v',\n",
    "  '1uwq99zx',\n",
    "  '4l1c4ls3']"
   ]
  },
  {
   "cell_type": "code",
   "execution_count": 7,
   "metadata": {},
   "outputs": [
    {
     "name": "stdout",
     "output_type": "stream",
     "text": [
      "{'dataset': 'otto-recsys', 'batchSize': 64, 'hiddenSize': 100, 'epoch': 30, 'lr': 0.001, 'lr_dc': 0.1, 'lr_dc_step': 2, 'lr_scheduler': 'step', 'lr_milestones': ([2, 5, 8],), 'l2': 1e-05, 'step': 2, 'patience': 3, 'nonhybrid': False, 'validation': True, 'valid_portion': 0.1, 'pretrained_embedings': False, 'unfreeze_epoch': 0, 'gmm': [], 'augment_matrix': False, 'augment_clusters': False, 'augment_old_run_id': '', 'augment_clip': 0, 'augment_normalize': False, 'augment_raw': False, 'weight_init': 'normal', 'augment_categories': False, 'augment_nogmm': 16, 'augment_p': 1.0, 'augment_mean': 0.01, 'augment_std': 0.0, 'augment_gmm_init': 'k-means++', 'augment_prenormalize_distances': False, 'augment_noise_p': 0.0, 'augment_alg': 'gmm', 'gmm_covariance_type': 'full', 'gmm_tol': 0.001}\n",
      "data masking start\n"
     ]
    },
    {
     "name": "stderr",
     "output_type": "stream",
     "text": [
      "100%|██████████| 64/64 [00:00<00:00, 300.93it/s]\n",
      "GPU available: True (cuda), used: True\n",
      "TPU available: False, using: 0 TPU cores\n",
      "IPU available: False, using: 0 IPUs\n",
      "HPU available: False, using: 0 HPUs\n"
     ]
    },
    {
     "name": "stdout",
     "output_type": "stream",
     "text": [
      "done masking\n"
     ]
    },
    {
     "name": "stderr",
     "output_type": "stream",
     "text": [
      "/home/kacper/anaconda3/envs/gpu_torch/lib/python3.12/site-packages/pytorch_lightning/trainer/connectors/logger_connector/logger_connector.py:75: Starting from v1.9.0, `tensorboardX` has been removed as a dependency of the `pytorch_lightning` package, due to potential conflicts with other packages in the ML ecosystem. For this reason, `logger=True` will use `CSVLogger` as the default logger, unless the `tensorboard` or `tensorboardX` packages are found. Please `pip install lightning[extra]` or one of them to enable TensorBoard support by default\n"
     ]
    }
   ],
   "source": [
    "run_id=runs[0]\n",
    "\n",
    "model,opt=load_model(run_id)\n",
    "test_data = pickle.load(open('../datasets/' + opt.dataset + '/test.txt', 'rb'))\n",
    "normal_test_dataset=SRGNN_Map_Dataset(test_data, shuffle=False)\n",
    "\n",
    "normal_test_dataloader=DataLoader(normal_test_dataset, \n",
    "                            num_workers=os.cpu_count(),  \n",
    "                            sampler=SRGNN_sampler(normal_test_dataset, opt.batchSize, shuffle=False, drop_last=False)\n",
    "                            )\n",
    "trainer=Trainer(limit_test_batches=ceil(normal_test_dataset.length/opt.batchSize),\n",
    "                limit_predict_batches=ceil(normal_test_dataset.length/opt.batchSize))"
   ]
  },
  {
   "cell_type": "code",
   "execution_count": 8,
   "metadata": {},
   "outputs": [
    {
     "name": "stdout",
     "output_type": "stream",
     "text": [
      "{'dataset': 'otto-recsys', 'batchSize': 64, 'hiddenSize': 100, 'epoch': 30, 'lr': 0.001, 'lr_dc': 0.1, 'lr_dc_step': 2, 'lr_scheduler': 'step', 'lr_milestones': ([2, 5, 8],), 'l2': 1e-05, 'step': 2, 'patience': 3, 'nonhybrid': False, 'validation': True, 'valid_portion': 0.1, 'pretrained_embedings': False, 'unfreeze_epoch': 0, 'gmm': [], 'augment_matrix': False, 'augment_clusters': False, 'augment_old_run_id': '', 'augment_clip': 0, 'augment_normalize': False, 'augment_raw': False, 'weight_init': 'normal', 'augment_categories': False, 'augment_nogmm': 16, 'augment_p': 1.0, 'augment_mean': 0.01, 'augment_std': 0.0, 'augment_gmm_init': 'k-means++', 'augment_prenormalize_distances': False, 'augment_noise_p': 0.0, 'augment_alg': 'gmm', 'gmm_covariance_type': 'full', 'gmm_tol': 0.001}\n",
      "5f8cxkla\n"
     ]
    },
    {
     "name": "stderr",
     "output_type": "stream",
     "text": [
      "LOCAL_RANK: 0 - CUDA_VISIBLE_DEVICES: [0]\n"
     ]
    },
    {
     "name": "stdout",
     "output_type": "stream",
     "text": [
      "Testing DataLoader 0: 100%|██████████| 980/980 [00:39<00:00, 24.60it/s]\n",
      "────────────────────────────────────────────────────────────────────────────────────────────────────────────────────────\n",
      "       Test metric             DataLoader 0\n",
      "────────────────────────────────────────────────────────────────────────────────────────────────────────────────────────\n",
      "        test_hit             34.12760925292969\n",
      "        test_loss            7.512598037719727\n",
      "        test_mrr            21.321727752685547\n",
      "────────────────────────────────────────────────────────────────────────────────────────────────────────────────────────\n",
      "{'dataset': 'otto-recsys', 'batchSize': 64, 'hiddenSize': 100, 'epoch': 30, 'lr': 0.001, 'lr_dc': 0.1, 'lr_dc_step': 2, 'lr_scheduler': 'step', 'lr_milestones': ([2, 5, 8],), 'l2': 1e-05, 'step': 2, 'patience': 3, 'nonhybrid': False, 'validation': True, 'valid_portion': 0.1, 'pretrained_embedings': False, 'unfreeze_epoch': 0, 'gmm': [], 'augment_matrix': False, 'augment_clusters': False, 'augment_old_run_id': '', 'augment_clip': 0, 'augment_normalize': False, 'augment_raw': False, 'weight_init': 'normal', 'augment_categories': False, 'augment_nogmm': 16, 'augment_p': 1.0, 'augment_mean': 0.01, 'augment_std': 0.0, 'augment_gmm_init': 'k-means++', 'augment_prenormalize_distances': False, 'augment_noise_p': 0.0, 'augment_alg': 'gmm', 'gmm_covariance_type': 'full', 'gmm_tol': 0.001}\n"
     ]
    },
    {
     "name": "stderr",
     "output_type": "stream",
     "text": [
      "LOCAL_RANK: 0 - CUDA_VISIBLE_DEVICES: [0]\n"
     ]
    },
    {
     "name": "stdout",
     "output_type": "stream",
     "text": [
      "bqpaq7d1\n",
      "Testing DataLoader 0: 100%|██████████| 980/980 [00:39<00:00, 24.96it/s]\n",
      "────────────────────────────────────────────────────────────────────────────────────────────────────────────────────────\n",
      "       Test metric             DataLoader 0\n",
      "────────────────────────────────────────────────────────────────────────────────────────────────────────────────────────\n",
      "        test_hit            34.087955474853516\n",
      "        test_loss            7.474574565887451\n",
      "        test_mrr            21.635311126708984\n",
      "────────────────────────────────────────────────────────────────────────────────────────────────────────────────────────\n",
      "{'dataset': 'otto-recsys', 'batchSize': 64, 'hiddenSize': 100, 'epoch': 30, 'lr': 0.001, 'lr_dc': 0.1, 'lr_dc_step': 2, 'lr_scheduler': 'step', 'lr_milestones': ([2, 5, 8],), 'l2': 1e-05, 'step': 2, 'patience': 3, 'nonhybrid': False, 'validation': True, 'valid_portion': 0.1, 'pretrained_embedings': False, 'unfreeze_epoch': 0, 'gmm': [], 'augment_matrix': False, 'augment_clusters': False, 'augment_old_run_id': '', 'augment_clip': 0, 'augment_normalize': False, 'augment_raw': False, 'weight_init': 'normal', 'augment_categories': False, 'augment_nogmm': 16, 'augment_p': 1.0, 'augment_mean': 0.01, 'augment_std': 0.0, 'augment_gmm_init': 'k-means++', 'augment_prenormalize_distances': False, 'augment_noise_p': 0.0, 'augment_alg': 'gmm', 'gmm_covariance_type': 'full', 'gmm_tol': 0.001}\n"
     ]
    },
    {
     "name": "stderr",
     "output_type": "stream",
     "text": [
      "LOCAL_RANK: 0 - CUDA_VISIBLE_DEVICES: [0]\n"
     ]
    },
    {
     "name": "stdout",
     "output_type": "stream",
     "text": [
      "onjpsmm2\n",
      "Testing DataLoader 0: 100%|██████████| 980/980 [00:39<00:00, 24.79it/s]\n",
      "────────────────────────────────────────────────────────────────────────────────────────────────────────────────────────\n",
      "       Test metric             DataLoader 0\n",
      "────────────────────────────────────────────────────────────────────────────────────────────────────────────────────────\n",
      "        test_hit             34.07520294189453\n",
      "        test_loss            7.520420074462891\n",
      "        test_mrr              21.34326171875\n",
      "────────────────────────────────────────────────────────────────────────────────────────────────────────────────────────\n",
      "{'dataset': 'otto-recsys', 'batchSize': 64, 'hiddenSize': 100, 'epoch': 30, 'lr': 0.001, 'lr_dc': 0.1, 'lr_dc_step': 2, 'lr_scheduler': 'step', 'lr_milestones': ([2, 5, 8],), 'l2': 1e-06, 'step': 2, 'patience': 3, 'nonhybrid': False, 'validation': True, 'valid_portion': 0.1, 'pretrained_embedings': False, 'unfreeze_epoch': 0, 'gmm': [], 'augment_matrix': True, 'augment_clusters': False, 'augment_old_run_id': '5f8cxkla', 'augment_clip': 0, 'augment_normalize': True, 'augment_raw': False, 'weight_init': 'normal', 'augment_categories': False, 'augment_nogmm': 8, 'augment_p': 0.5, 'augment_mean': 0.01, 'augment_std': 0.01, 'augment_gmm_init': 'k-means++', 'augment_prenormalize_distances': False, 'augment_noise_p': 0.5, 'augment_alg': 'gmm', 'gmm_covariance_type': 'full', 'gmm_tol': 0.001}\n"
     ]
    },
    {
     "name": "stderr",
     "output_type": "stream",
     "text": [
      "LOCAL_RANK: 0 - CUDA_VISIBLE_DEVICES: [0]\n"
     ]
    },
    {
     "name": "stdout",
     "output_type": "stream",
     "text": [
      "14oq6k8n\n",
      "Testing DataLoader 0: 100%|██████████| 980/980 [00:40<00:00, 24.38it/s]\n",
      "────────────────────────────────────────────────────────────────────────────────────────────────────────────────────────\n",
      "       Test metric             DataLoader 0\n",
      "────────────────────────────────────────────────────────────────────────────────────────────────────────────────────────\n",
      "        test_hit             34.98719024658203\n",
      "        test_loss            7.453999996185303\n",
      "        test_mrr            22.893783569335938\n",
      "────────────────────────────────────────────────────────────────────────────────────────────────────────────────────────\n",
      "{'dataset': 'otto-recsys', 'batchSize': 64, 'hiddenSize': 100, 'epoch': 30, 'lr': 0.001, 'lr_dc': 0.1, 'lr_dc_step': 2, 'lr_scheduler': 'step', 'lr_milestones': ([2, 5, 8],), 'l2': 1e-06, 'step': 2, 'patience': 3, 'nonhybrid': False, 'validation': True, 'valid_portion': 0.1, 'pretrained_embedings': False, 'unfreeze_epoch': 0, 'gmm': [], 'augment_matrix': True, 'augment_clusters': False, 'augment_old_run_id': '5f8cxkla', 'augment_clip': 0, 'augment_normalize': True, 'augment_raw': False, 'weight_init': 'normal', 'augment_categories': False, 'augment_nogmm': 8, 'augment_p': 0.5, 'augment_mean': 0.01, 'augment_std': 0.01, 'augment_gmm_init': 'k-means++', 'augment_prenormalize_distances': False, 'augment_noise_p': 0.5, 'augment_alg': 'kmeans', 'gmm_covariance_type': 'full', 'gmm_tol': 0.001}\n"
     ]
    },
    {
     "name": "stderr",
     "output_type": "stream",
     "text": [
      "LOCAL_RANK: 0 - CUDA_VISIBLE_DEVICES: [0]\n"
     ]
    },
    {
     "name": "stdout",
     "output_type": "stream",
     "text": [
      "uebl28zc\n",
      "Testing DataLoader 0: 100%|██████████| 980/980 [00:39<00:00, 24.74it/s]\n",
      "────────────────────────────────────────────────────────────────────────────────────────────────────────────────────────\n",
      "       Test metric             DataLoader 0\n",
      "────────────────────────────────────────────────────────────────────────────────────────────────────────────────────────\n",
      "        test_hit             35.05713653564453\n",
      "        test_loss            7.468803405761719\n",
      "        test_mrr             22.77815818786621\n",
      "────────────────────────────────────────────────────────────────────────────────────────────────────────────────────────\n",
      "{'dataset': 'otto-recsys', 'batchSize': 64, 'hiddenSize': 100, 'epoch': 30, 'lr': 0.001, 'lr_dc': 0.1, 'lr_dc_step': 2, 'lr_scheduler': 'step', 'lr_milestones': ([2, 5, 8],), 'l2': 1e-06, 'step': 2, 'patience': 3, 'nonhybrid': False, 'validation': True, 'valid_portion': 0.1, 'pretrained_embedings': False, 'unfreeze_epoch': 0, 'gmm': [], 'augment_matrix': True, 'augment_clusters': False, 'augment_old_run_id': '5f8cxkla', 'augment_clip': 0, 'augment_normalize': True, 'augment_raw': False, 'weight_init': 'normal', 'augment_categories': False, 'augment_nogmm': 8, 'augment_p': 0.5, 'augment_mean': 0.01, 'augment_std': 0.01, 'augment_gmm_init': 'k-means++', 'augment_prenormalize_distances': False, 'augment_noise_p': 0.5, 'augment_alg': 'raw', 'gmm_covariance_type': 'full', 'gmm_tol': 0.001}\n"
     ]
    },
    {
     "name": "stderr",
     "output_type": "stream",
     "text": [
      "LOCAL_RANK: 0 - CUDA_VISIBLE_DEVICES: [0]\n"
     ]
    },
    {
     "name": "stdout",
     "output_type": "stream",
     "text": [
      "tfeek0n2\n",
      "Testing DataLoader 0: 100%|██████████| 980/980 [00:37<00:00, 25.91it/s]\n",
      "────────────────────────────────────────────────────────────────────────────────────────────────────────────────────────\n",
      "       Test metric             DataLoader 0\n",
      "────────────────────────────────────────────────────────────────────────────────────────────────────────────────────────\n",
      "        test_hit            34.963069915771484\n",
      "        test_loss            7.450283527374268\n",
      "        test_mrr            22.778200149536133\n",
      "────────────────────────────────────────────────────────────────────────────────────────────────────────────────────────\n",
      "{'dataset': 'otto-recsys', 'batchSize': 64, 'hiddenSize': 100, 'epoch': 30, 'lr': 0.001, 'lr_dc': 0.1, 'lr_dc_step': 2, 'lr_scheduler': 'step', 'lr_milestones': ([2, 5, 8],), 'l2': 1e-06, 'step': 2, 'patience': 3, 'nonhybrid': False, 'validation': True, 'valid_portion': 0.1, 'pretrained_embedings': False, 'unfreeze_epoch': 0, 'gmm': [], 'augment_matrix': True, 'augment_clusters': False, 'augment_old_run_id': 'bqpaq7d1', 'augment_clip': 0, 'augment_normalize': True, 'augment_raw': False, 'weight_init': 'normal', 'augment_categories': False, 'augment_nogmm': 8, 'augment_p': 0.5, 'augment_mean': 0.01, 'augment_std': 0.01, 'augment_gmm_init': 'k-means++', 'augment_prenormalize_distances': False, 'augment_noise_p': 0.5, 'augment_alg': 'gmm', 'gmm_covariance_type': 'full', 'gmm_tol': 0.001}\n"
     ]
    },
    {
     "name": "stderr",
     "output_type": "stream",
     "text": [
      "LOCAL_RANK: 0 - CUDA_VISIBLE_DEVICES: [0]\n"
     ]
    },
    {
     "name": "stdout",
     "output_type": "stream",
     "text": [
      "6u14u7kn\n",
      "Testing DataLoader 0: 100%|██████████| 980/980 [00:37<00:00, 26.32it/s]\n",
      "────────────────────────────────────────────────────────────────────────────────────────────────────────────────────────\n",
      "       Test metric             DataLoader 0\n",
      "────────────────────────────────────────────────────────────────────────────────────────────────────────────────────────\n",
      "        test_hit            35.039703369140625\n",
      "        test_loss            7.433713912963867\n",
      "        test_mrr            22.779773712158203\n",
      "────────────────────────────────────────────────────────────────────────────────────────────────────────────────────────\n",
      "{'dataset': 'otto-recsys', 'batchSize': 64, 'hiddenSize': 100, 'epoch': 30, 'lr': 0.001, 'lr_dc': 0.1, 'lr_dc_step': 2, 'lr_scheduler': 'step', 'lr_milestones': ([2, 5, 8],), 'l2': 1e-06, 'step': 2, 'patience': 3, 'nonhybrid': False, 'validation': True, 'valid_portion': 0.1, 'pretrained_embedings': False, 'unfreeze_epoch': 0, 'gmm': [], 'augment_matrix': True, 'augment_clusters': False, 'augment_old_run_id': 'bqpaq7d1', 'augment_clip': 0, 'augment_normalize': True, 'augment_raw': False, 'weight_init': 'normal', 'augment_categories': False, 'augment_nogmm': 8, 'augment_p': 0.5, 'augment_mean': 0.01, 'augment_std': 0.01, 'augment_gmm_init': 'k-means++', 'augment_prenormalize_distances': False, 'augment_noise_p': 0.5, 'augment_alg': 'kmeans', 'gmm_covariance_type': 'full', 'gmm_tol': 0.001}\n"
     ]
    },
    {
     "name": "stderr",
     "output_type": "stream",
     "text": [
      "LOCAL_RANK: 0 - CUDA_VISIBLE_DEVICES: [0]\n"
     ]
    },
    {
     "name": "stdout",
     "output_type": "stream",
     "text": [
      "gcvf1rcu\n",
      "Testing DataLoader 0: 100%|██████████| 980/980 [00:37<00:00, 26.47it/s]\n",
      "────────────────────────────────────────────────────────────────────────────────────────────────────────────────────────\n",
      "       Test metric             DataLoader 0\n",
      "────────────────────────────────────────────────────────────────────────────────────────────────────────────────────────\n",
      "        test_hit             35.22454833984375\n",
      "        test_loss            7.397702693939209\n",
      "        test_mrr             22.80823516845703\n",
      "────────────────────────────────────────────────────────────────────────────────────────────────────────────────────────\n",
      "{'dataset': 'otto-recsys', 'batchSize': 64, 'hiddenSize': 100, 'epoch': 30, 'lr': 0.001, 'lr_dc': 0.1, 'lr_dc_step': 2, 'lr_scheduler': 'step', 'lr_milestones': ([2, 5, 8],), 'l2': 1e-06, 'step': 2, 'patience': 3, 'nonhybrid': False, 'validation': True, 'valid_portion': 0.1, 'pretrained_embedings': False, 'unfreeze_epoch': 0, 'gmm': [], 'augment_matrix': True, 'augment_clusters': False, 'augment_old_run_id': 'bqpaq7d1', 'augment_clip': 0, 'augment_normalize': True, 'augment_raw': False, 'weight_init': 'normal', 'augment_categories': False, 'augment_nogmm': 8, 'augment_p': 0.5, 'augment_mean': 0.01, 'augment_std': 0.01, 'augment_gmm_init': 'k-means++', 'augment_prenormalize_distances': False, 'augment_noise_p': 0.5, 'augment_alg': 'raw', 'gmm_covariance_type': 'full', 'gmm_tol': 0.001}\n"
     ]
    },
    {
     "name": "stderr",
     "output_type": "stream",
     "text": [
      "LOCAL_RANK: 0 - CUDA_VISIBLE_DEVICES: [0]\n"
     ]
    },
    {
     "name": "stdout",
     "output_type": "stream",
     "text": [
      "ih8175d2\n",
      "Testing DataLoader 0: 100%|██████████| 980/980 [00:39<00:00, 24.61it/s]\n",
      "────────────────────────────────────────────────────────────────────────────────────────────────────────────────────────\n",
      "       Test metric             DataLoader 0\n",
      "────────────────────────────────────────────────────────────────────────────────────────────────────────────────────────\n",
      "        test_hit             35.20233154296875\n",
      "        test_loss            7.43412971496582\n",
      "        test_mrr             22.8499813079834\n",
      "────────────────────────────────────────────────────────────────────────────────────────────────────────────────────────\n",
      "{'dataset': 'otto-recsys', 'batchSize': 64, 'hiddenSize': 100, 'epoch': 30, 'lr': 0.001, 'lr_dc': 0.1, 'lr_dc_step': 2, 'lr_scheduler': 'step', 'lr_milestones': ([2, 5, 8],), 'l2': 1e-06, 'step': 2, 'patience': 3, 'nonhybrid': False, 'validation': True, 'valid_portion': 0.1, 'pretrained_embedings': False, 'unfreeze_epoch': 0, 'gmm': [], 'augment_matrix': True, 'augment_clusters': False, 'augment_old_run_id': 'onjpsmm2', 'augment_clip': 0, 'augment_normalize': True, 'augment_raw': False, 'weight_init': 'normal', 'augment_categories': False, 'augment_nogmm': 8, 'augment_p': 0.5, 'augment_mean': 0.01, 'augment_std': 0.01, 'augment_gmm_init': 'k-means++', 'augment_prenormalize_distances': False, 'augment_noise_p': 0.5, 'augment_alg': 'gmm', 'gmm_covariance_type': 'full', 'gmm_tol': 0.001}\n",
      "l2w97z5v\n"
     ]
    },
    {
     "name": "stderr",
     "output_type": "stream",
     "text": [
      "LOCAL_RANK: 0 - CUDA_VISIBLE_DEVICES: [0]\n"
     ]
    },
    {
     "name": "stdout",
     "output_type": "stream",
     "text": [
      "Testing DataLoader 0: 100%|██████████| 980/980 [00:39<00:00, 24.90it/s]\n",
      "────────────────────────────────────────────────────────────────────────────────────────────────────────────────────────\n",
      "       Test metric             DataLoader 0\n",
      "────────────────────────────────────────────────────────────────────────────────────────────────────────────────────────\n",
      "        test_hit             35.04438400268555\n",
      "        test_loss            7.434382915496826\n",
      "        test_mrr            22.800670623779297\n",
      "────────────────────────────────────────────────────────────────────────────────────────────────────────────────────────\n",
      "{'dataset': 'otto-recsys', 'batchSize': 64, 'hiddenSize': 100, 'epoch': 30, 'lr': 0.001, 'lr_dc': 0.1, 'lr_dc_step': 2, 'lr_scheduler': 'step', 'lr_milestones': ([2, 5, 8],), 'l2': 1e-06, 'step': 2, 'patience': 3, 'nonhybrid': False, 'validation': True, 'valid_portion': 0.1, 'pretrained_embedings': False, 'unfreeze_epoch': 0, 'gmm': [], 'augment_matrix': True, 'augment_clusters': False, 'augment_old_run_id': 'onjpsmm2', 'augment_clip': 0, 'augment_normalize': True, 'augment_raw': False, 'weight_init': 'normal', 'augment_categories': False, 'augment_nogmm': 8, 'augment_p': 0.5, 'augment_mean': 0.01, 'augment_std': 0.01, 'augment_gmm_init': 'k-means++', 'augment_prenormalize_distances': False, 'augment_noise_p': 0.5, 'augment_alg': 'kmeans', 'gmm_covariance_type': 'full', 'gmm_tol': 0.001}\n"
     ]
    },
    {
     "name": "stderr",
     "output_type": "stream",
     "text": [
      "LOCAL_RANK: 0 - CUDA_VISIBLE_DEVICES: [0]\n"
     ]
    },
    {
     "name": "stdout",
     "output_type": "stream",
     "text": [
      "1uwq99zx\n",
      "Testing DataLoader 0: 100%|██████████| 980/980 [00:39<00:00, 24.98it/s]\n",
      "────────────────────────────────────────────────────────────────────────────────────────────────────────────────────────\n",
      "       Test metric             DataLoader 0\n",
      "────────────────────────────────────────────────────────────────────────────────────────────────────────────────────────\n",
      "        test_hit             34.95679473876953\n",
      "        test_loss           7.4169511795043945\n",
      "        test_mrr             22.72024917602539\n",
      "────────────────────────────────────────────────────────────────────────────────────────────────────────────────────────\n",
      "{'dataset': 'otto-recsys', 'batchSize': 64, 'hiddenSize': 100, 'epoch': 30, 'lr': 0.001, 'lr_dc': 0.1, 'lr_dc_step': 2, 'lr_scheduler': 'step', 'lr_milestones': ([2, 5, 8],), 'l2': 1e-06, 'step': 2, 'patience': 3, 'nonhybrid': False, 'validation': True, 'valid_portion': 0.1, 'pretrained_embedings': False, 'unfreeze_epoch': 0, 'gmm': [], 'augment_matrix': True, 'augment_clusters': False, 'augment_old_run_id': 'onjpsmm2', 'augment_clip': 0, 'augment_normalize': True, 'augment_raw': False, 'weight_init': 'normal', 'augment_categories': False, 'augment_nogmm': 8, 'augment_p': 0.5, 'augment_mean': 0.01, 'augment_std': 0.01, 'augment_gmm_init': 'k-means++', 'augment_prenormalize_distances': False, 'augment_noise_p': 0.5, 'augment_alg': 'raw', 'gmm_covariance_type': 'full', 'gmm_tol': 0.001}\n",
      "4l1c4ls3\n"
     ]
    },
    {
     "name": "stderr",
     "output_type": "stream",
     "text": [
      "LOCAL_RANK: 0 - CUDA_VISIBLE_DEVICES: [0]\n"
     ]
    },
    {
     "name": "stdout",
     "output_type": "stream",
     "text": [
      "Testing DataLoader 0: 100%|██████████| 980/980 [00:39<00:00, 24.99it/s]\n",
      "────────────────────────────────────────────────────────────────────────────────────────────────────────────────────────\n",
      "       Test metric             DataLoader 0\n",
      "────────────────────────────────────────────────────────────────────────────────────────────────────────────────────────\n",
      "        test_hit            34.947025299072266\n",
      "        test_loss            7.417011260986328\n",
      "        test_mrr            22.516698837280273\n",
      "────────────────────────────────────────────────────────────────────────────────────────────────────────────────────────\n"
     ]
    }
   ],
   "source": [
    "res_df=[]\n",
    "for run_id in runs:\n",
    "    try:\n",
    "      model,opt=load_model(run_id)\n",
    "    except IndexError:\n",
    "       continue\n",
    "\n",
    "    print(run_id)\n",
    "    metrics=trainer.test(model, {#'augmented':am_test_dataloader, \n",
    "                                 'normal':normal_test_dataloader})[0 ]\n",
    "    metrics['run_id']=run_id\n",
    "    for k,v in opt.__dict__.items():\n",
    "       metrics[k]=v\n",
    "    res_df.append(metrics)"
   ]
  },
  {
   "cell_type": "code",
   "execution_count": 9,
   "metadata": {},
   "outputs": [],
   "source": [
    "result_df=pd.DataFrame(res_df)"
   ]
  },
  {
   "cell_type": "code",
   "execution_count": 10,
   "metadata": {},
   "outputs": [
    {
     "data": {
      "text/html": [
       "<div>\n",
       "<style scoped>\n",
       "    .dataframe tbody tr th:only-of-type {\n",
       "        vertical-align: middle;\n",
       "    }\n",
       "\n",
       "    .dataframe tbody tr th {\n",
       "        vertical-align: top;\n",
       "    }\n",
       "\n",
       "    .dataframe thead th {\n",
       "        text-align: right;\n",
       "    }\n",
       "</style>\n",
       "<table border=\"1\" class=\"dataframe\">\n",
       "  <thead>\n",
       "    <tr style=\"text-align: right;\">\n",
       "      <th></th>\n",
       "      <th></th>\n",
       "      <th></th>\n",
       "      <th>test_loss</th>\n",
       "      <th>test_hit</th>\n",
       "      <th>test_mrr</th>\n",
       "    </tr>\n",
       "    <tr>\n",
       "      <th>augment_matrix</th>\n",
       "      <th>augment_noise_p</th>\n",
       "      <th>augment_alg</th>\n",
       "      <th></th>\n",
       "      <th></th>\n",
       "      <th></th>\n",
       "    </tr>\n",
       "  </thead>\n",
       "  <tbody>\n",
       "    <tr>\n",
       "      <th>False</th>\n",
       "      <th>0.0</th>\n",
       "      <th>gmm</th>\n",
       "      <td>7.502531</td>\n",
       "      <td>34.096923</td>\n",
       "      <td>21.433434</td>\n",
       "    </tr>\n",
       "    <tr>\n",
       "      <th rowspan=\"3\" valign=\"top\">True</th>\n",
       "      <th rowspan=\"3\" valign=\"top\">0.5</th>\n",
       "      <th>gmm</th>\n",
       "      <td>7.440699</td>\n",
       "      <td>35.023759</td>\n",
       "      <td>22.824743</td>\n",
       "    </tr>\n",
       "    <tr>\n",
       "      <th>kmeans</th>\n",
       "      <td>7.427819</td>\n",
       "      <td>35.079493</td>\n",
       "      <td>22.768881</td>\n",
       "    </tr>\n",
       "    <tr>\n",
       "      <th>raw</th>\n",
       "      <td>7.433808</td>\n",
       "      <td>35.037476</td>\n",
       "      <td>22.714960</td>\n",
       "    </tr>\n",
       "  </tbody>\n",
       "</table>\n",
       "</div>"
      ],
      "text/plain": [
       "                                            test_loss   test_hit   test_mrr\n",
       "augment_matrix augment_noise_p augment_alg                                 \n",
       "False          0.0             gmm           7.502531  34.096923  21.433434\n",
       "True           0.5             gmm           7.440699  35.023759  22.824743\n",
       "                               kmeans        7.427819  35.079493  22.768881\n",
       "                               raw           7.433808  35.037476  22.714960"
      ]
     },
     "execution_count": 10,
     "metadata": {},
     "output_type": "execute_result"
    }
   ],
   "source": [
    "result_df[['test_loss', 'test_hit', 'test_mrr', 'augment_matrix','augment_noise_p','augment_alg']].groupby(['augment_matrix', 'augment_noise_p', 'augment_alg']).mean()"
   ]
  },
  {
   "cell_type": "markdown",
   "metadata": {},
   "source": [
    "## yoochoose 1/64"
   ]
  },
  {
   "cell_type": "code",
   "execution_count": 4,
   "metadata": {},
   "outputs": [],
   "source": [
    "runs = [\n",
    " 'r7bs25i7',\n",
    " '2ssf7s2q',\n",
    " 'hucuxl8g',\n",
    " '1iwv7ul8',\n",
    " 'sqvv043i',\n",
    " '6hkj647n'   \n",
    "]"
   ]
  },
  {
   "cell_type": "code",
   "execution_count": 5,
   "metadata": {},
   "outputs": [
    {
     "name": "stdout",
     "output_type": "stream",
     "text": [
      "{'dataset': 'yoochoose1_64', 'batchSize': 48, 'hiddenSize': 100, 'epoch': 30, 'lr': 0.001, 'lr_dc': 0.1, 'lr_dc_step': 2, 'lr_scheduler': 'step', 'lr_milestones': ([2, 5, 8],), 'l2': 1e-05, 'step': 2, 'patience': 3, 'nonhybrid': False, 'validation': True, 'valid_portion': 0.1, 'pretrained_embedings': False, 'unfreeze_epoch': 0, 'gmm': [], 'augment_matrix': False, 'augment_clusters': False, 'augment_old_run_id': '', 'augment_clip': 0, 'augment_normalize': False, 'augment_raw': False, 'weight_init': 'normal', 'augment_categories': False, 'augment_nogmm': 16, 'augment_p': 1.0, 'augment_mean': 0.01, 'augment_std': 0.0, 'augment_gmm_init': 'k-means++', 'augment_prenormalize_distances': False, 'augment_noise_p': 0.0, 'augment_alg': 'gmm', 'gmm_covariance_type': 'full', 'gmm_tol': 0.001}\n",
      "data masking start\n"
     ]
    },
    {
     "name": "stderr",
     "output_type": "stream",
     "text": [
      "100%|██████████| 64/64 [00:00<00:00, 182.21it/s]\n",
      "GPU available: True (cuda), used: True\n",
      "TPU available: False, using: 0 TPU cores\n",
      "IPU available: False, using: 0 IPUs\n",
      "HPU available: False, using: 0 HPUs\n"
     ]
    },
    {
     "name": "stdout",
     "output_type": "stream",
     "text": [
      "done masking\n"
     ]
    },
    {
     "name": "stderr",
     "output_type": "stream",
     "text": [
      "/home/kacper/anaconda3/envs/gpu_torch/lib/python3.12/site-packages/pytorch_lightning/trainer/connectors/logger_connector/logger_connector.py:75: Starting from v1.9.0, `tensorboardX` has been removed as a dependency of the `pytorch_lightning` package, due to potential conflicts with other packages in the ML ecosystem. For this reason, `logger=True` will use `CSVLogger` as the default logger, unless the `tensorboard` or `tensorboardX` packages are found. Please `pip install lightning[extra]` or one of them to enable TensorBoard support by default\n"
     ]
    }
   ],
   "source": [
    "run_id=runs[0]\n",
    "\n",
    "model,opt=load_model(run_id)\n",
    "opt.batchSize=32\n",
    "test_data = pickle.load(open('../datasets/' + opt.dataset + '/test.txt', 'rb'))\n",
    "normal_test_dataset=SRGNN_Map_Dataset(test_data, shuffle=False)\n",
    "\n",
    "normal_test_dataloader=DataLoader(normal_test_dataset, \n",
    "                            num_workers=os.cpu_count(),  \n",
    "                            sampler=SRGNN_sampler(normal_test_dataset, opt.batchSize, shuffle=False, drop_last=False)\n",
    "                            )\n",
    "trainer=Trainer(limit_test_batches=ceil(normal_test_dataset.length/opt.batchSize),\n",
    "                limit_predict_batches=ceil(normal_test_dataset.length/opt.batchSize))"
   ]
  },
  {
   "cell_type": "code",
   "execution_count": 6,
   "metadata": {},
   "outputs": [
    {
     "name": "stdout",
     "output_type": "stream",
     "text": [
      "{'dataset': 'yoochoose1_64', 'batchSize': 48, 'hiddenSize': 100, 'epoch': 30, 'lr': 0.001, 'lr_dc': 0.1, 'lr_dc_step': 2, 'lr_scheduler': 'step', 'lr_milestones': ([2, 5, 8],), 'l2': 1e-05, 'step': 2, 'patience': 3, 'nonhybrid': False, 'validation': True, 'valid_portion': 0.1, 'pretrained_embedings': False, 'unfreeze_epoch': 0, 'gmm': [], 'augment_matrix': False, 'augment_clusters': False, 'augment_old_run_id': '', 'augment_clip': 0, 'augment_normalize': False, 'augment_raw': False, 'weight_init': 'normal', 'augment_categories': False, 'augment_nogmm': 16, 'augment_p': 1.0, 'augment_mean': 0.01, 'augment_std': 0.0, 'augment_gmm_init': 'k-means++', 'augment_prenormalize_distances': False, 'augment_noise_p': 0.0, 'augment_alg': 'gmm', 'gmm_covariance_type': 'full', 'gmm_tol': 0.001}\n",
      "r7bs25i7\n"
     ]
    },
    {
     "name": "stderr",
     "output_type": "stream",
     "text": [
      "LOCAL_RANK: 0 - CUDA_VISIBLE_DEVICES: [0]\n"
     ]
    },
    {
     "name": "stdout",
     "output_type": "stream",
     "text": [
      "Testing DataLoader 0: 100%|██████████| 1747/1747 [00:49<00:00, 35.17it/s]\n",
      "────────────────────────────────────────────────────────────────────────────────────────────────────────────────────────\n",
      "       Test metric             DataLoader 0\n",
      "────────────────────────────────────────────────────────────────────────────────────────────────────────────────────────\n",
      "        test_hit             70.45759582519531\n",
      "        test_loss            4.322422027587891\n",
      "        test_mrr            30.673080444335938\n",
      "────────────────────────────────────────────────────────────────────────────────────────────────────────────────────────\n",
      "{'dataset': 'yoochoose1_64', 'batchSize': 48, 'hiddenSize': 100, 'epoch': 30, 'lr': 0.001, 'lr_dc': 0.1, 'lr_dc_step': 2, 'lr_scheduler': 'step', 'lr_milestones': ([2, 5, 8],), 'l2': 1e-06, 'step': 2, 'patience': 3, 'nonhybrid': False, 'validation': True, 'valid_portion': 0.1, 'pretrained_embedings': False, 'unfreeze_epoch': 0, 'gmm': [], 'augment_matrix': True, 'augment_clusters': False, 'augment_old_run_id': '6hkj647n', 'augment_clip': 0, 'augment_normalize': True, 'augment_raw': False, 'weight_init': 'normal', 'augment_categories': False, 'augment_nogmm': 8, 'augment_p': 0.5, 'augment_mean': 0.01, 'augment_std': 0.01, 'augment_gmm_init': 'k-means++', 'augment_prenormalize_distances': False, 'augment_noise_p': 0.5, 'augment_alg': 'raw', 'gmm_covariance_type': 'full', 'gmm_tol': 0.001}\n"
     ]
    },
    {
     "name": "stderr",
     "output_type": "stream",
     "text": [
      "LOCAL_RANK: 0 - CUDA_VISIBLE_DEVICES: [0]\n"
     ]
    },
    {
     "name": "stdout",
     "output_type": "stream",
     "text": [
      "2ssf7s2q\n",
      "Testing DataLoader 0: 100%|██████████| 1747/1747 [00:49<00:00, 35.58it/s]\n",
      "────────────────────────────────────────────────────────────────────────────────────────────────────────────────────────\n",
      "       Test metric             DataLoader 0\n",
      "────────────────────────────────────────────────────────────────────────────────────────────────────────────────────────\n",
      "        test_hit             70.5144271850586\n",
      "        test_loss            4.308393478393555\n",
      "        test_mrr            30.786468505859375\n",
      "────────────────────────────────────────────────────────────────────────────────────────────────────────────────────────\n",
      "{'dataset': 'yoochoose1_64', 'batchSize': 48, 'hiddenSize': 100, 'epoch': 30, 'lr': 0.001, 'lr_dc': 0.1, 'lr_dc_step': 2, 'lr_scheduler': 'step', 'lr_milestones': ([2, 5, 8],), 'l2': 1e-06, 'step': 2, 'patience': 3, 'nonhybrid': False, 'validation': True, 'valid_portion': 0.1, 'pretrained_embedings': False, 'unfreeze_epoch': 0, 'gmm': [], 'augment_matrix': True, 'augment_clusters': False, 'augment_old_run_id': '6hkj647n', 'augment_clip': 0, 'augment_normalize': True, 'augment_raw': False, 'weight_init': 'normal', 'augment_categories': False, 'augment_nogmm': 8, 'augment_p': 0.5, 'augment_mean': 0.01, 'augment_std': 0.01, 'augment_gmm_init': 'k-means++', 'augment_prenormalize_distances': False, 'augment_noise_p': 0.5, 'augment_alg': 'kmeans', 'gmm_covariance_type': 'full', 'gmm_tol': 0.001}\n"
     ]
    },
    {
     "name": "stderr",
     "output_type": "stream",
     "text": [
      "LOCAL_RANK: 0 - CUDA_VISIBLE_DEVICES: [0]\n"
     ]
    },
    {
     "name": "stdout",
     "output_type": "stream",
     "text": [
      "hucuxl8g\n",
      "Testing DataLoader 0: 100%|██████████| 1747/1747 [00:49<00:00, 35.55it/s]\n",
      "────────────────────────────────────────────────────────────────────────────────────────────────────────────────────────\n",
      "       Test metric             DataLoader 0\n",
      "────────────────────────────────────────────────────────────────────────────────────────────────────────────────────────\n",
      "        test_hit              70.721923828125\n",
      "        test_loss            4.302582263946533\n",
      "        test_mrr            30.863203048706055\n",
      "────────────────────────────────────────────────────────────────────────────────────────────────────────────────────────\n",
      "{'dataset': 'yoochoose1_64', 'batchSize': 48, 'hiddenSize': 100, 'epoch': 30, 'lr': 0.001, 'lr_dc': 0.1, 'lr_dc_step': 2, 'lr_scheduler': 'step', 'lr_milestones': ([2, 5, 8],), 'l2': 1e-06, 'step': 2, 'patience': 3, 'nonhybrid': False, 'validation': True, 'valid_portion': 0.1, 'pretrained_embedings': False, 'unfreeze_epoch': 0, 'gmm': [], 'augment_matrix': True, 'augment_clusters': False, 'augment_old_run_id': '6hkj647n', 'augment_clip': 0, 'augment_normalize': True, 'augment_raw': False, 'weight_init': 'normal', 'augment_categories': False, 'augment_nogmm': 8, 'augment_p': 0.5, 'augment_mean': 0.01, 'augment_std': 0.01, 'augment_gmm_init': 'k-means++', 'augment_prenormalize_distances': False, 'augment_noise_p': 0.5, 'augment_alg': 'gmm', 'gmm_covariance_type': 'full', 'gmm_tol': 0.001}\n"
     ]
    },
    {
     "name": "stderr",
     "output_type": "stream",
     "text": [
      "LOCAL_RANK: 0 - CUDA_VISIBLE_DEVICES: [0]\n"
     ]
    },
    {
     "name": "stdout",
     "output_type": "stream",
     "text": [
      "1iwv7ul8\n",
      "Testing DataLoader 0: 100%|██████████| 1747/1747 [00:49<00:00, 35.63it/s]\n",
      "────────────────────────────────────────────────────────────────────────────────────────────────────────────────────────\n",
      "       Test metric             DataLoader 0\n",
      "────────────────────────────────────────────────────────────────────────────────────────────────────────────────────────\n",
      "        test_hit             70.78411865234375\n",
      "        test_loss            4.299348831176758\n",
      "        test_mrr             31.04060173034668\n",
      "────────────────────────────────────────────────────────────────────────────────────────────────────────────────────────\n",
      "{'dataset': 'yoochoose1_64', 'batchSize': 48, 'hiddenSize': 100, 'epoch': 30, 'lr': 0.001, 'lr_dc': 0.1, 'lr_dc_step': 2, 'lr_scheduler': 'step', 'lr_milestones': ([2, 5, 8],), 'l2': 1e-06, 'step': 2, 'patience': 3, 'nonhybrid': False, 'validation': True, 'valid_portion': 0.1, 'pretrained_embedings': False, 'unfreeze_epoch': 0, 'gmm': [], 'augment_matrix': True, 'augment_clusters': False, 'augment_old_run_id': '6hkj647n', 'augment_clip': 0, 'augment_normalize': True, 'augment_raw': False, 'weight_init': 'normal', 'augment_categories': False, 'augment_nogmm': 8, 'augment_p': 0.5, 'augment_mean': 0.01, 'augment_std': 0.01, 'augment_gmm_init': 'k-means++', 'augment_prenormalize_distances': False, 'augment_noise_p': 0.5, 'augment_alg': 'categories', 'gmm_covariance_type': 'full', 'gmm_tol': 0.001}\n"
     ]
    },
    {
     "name": "stderr",
     "output_type": "stream",
     "text": [
      "LOCAL_RANK: 0 - CUDA_VISIBLE_DEVICES: [0]\n"
     ]
    },
    {
     "name": "stdout",
     "output_type": "stream",
     "text": [
      "sqvv043i\n",
      "Testing DataLoader 0: 100%|██████████| 1747/1747 [00:48<00:00, 35.87it/s]\n",
      "────────────────────────────────────────────────────────────────────────────────────────────────────────────────────────\n",
      "       Test metric             DataLoader 0\n",
      "────────────────────────────────────────────────────────────────────────────────────────────────────────────────────────\n",
      "        test_hit             70.51580047607422\n",
      "        test_loss           4.3084282875061035\n",
      "        test_mrr             30.61737823486328\n",
      "────────────────────────────────────────────────────────────────────────────────────────────────────────────────────────\n",
      "{'dataset': 'yoochoose1_64', 'batchSize': 48, 'hiddenSize': 100, 'epoch': 30, 'lr': 0.001, 'lr_dc': 0.1, 'lr_dc_step': 2, 'lr_scheduler': 'step', 'lr_milestones': ([2, 5, 8],), 'l2': 1e-05, 'step': 2, 'patience': 3, 'nonhybrid': False, 'validation': True, 'valid_portion': 0.1, 'pretrained_embedings': False, 'unfreeze_epoch': 0, 'gmm': [], 'augment_matrix': False, 'augment_clusters': False, 'augment_old_run_id': '', 'augment_clip': 0, 'augment_normalize': False, 'augment_raw': False, 'weight_init': 'normal', 'augment_categories': False, 'augment_nogmm': 16, 'augment_p': 1.0, 'augment_mean': 0.01, 'augment_std': 0.0, 'augment_gmm_init': 'k-means++', 'augment_prenormalize_distances': False, 'augment_noise_p': 0.0, 'augment_alg': 'gmm', 'gmm_covariance_type': 'full', 'gmm_tol': 0.001}\n"
     ]
    },
    {
     "name": "stderr",
     "output_type": "stream",
     "text": [
      "LOCAL_RANK: 0 - CUDA_VISIBLE_DEVICES: [0]\n"
     ]
    },
    {
     "name": "stdout",
     "output_type": "stream",
     "text": [
      "6hkj647n\n",
      "Testing DataLoader 0: 100%|██████████| 1747/1747 [00:47<00:00, 36.56it/s]\n",
      "────────────────────────────────────────────────────────────────────────────────────────────────────────────────────────\n",
      "       Test metric             DataLoader 0\n",
      "────────────────────────────────────────────────────────────────────────────────────────────────────────────────────────\n",
      "        test_hit             70.55377960205078\n",
      "        test_loss            4.317729949951172\n",
      "        test_mrr            30.842527389526367\n",
      "────────────────────────────────────────────────────────────────────────────────────────────────────────────────────────\n"
     ]
    }
   ],
   "source": [
    "res_df=[]\n",
    "for run_id in runs:\n",
    "    try:\n",
    "      model,opt=load_model(run_id)\n",
    "    except IndexError:\n",
    "       continue\n",
    "\n",
    "    print(run_id)\n",
    "    metrics=trainer.test(model, {#'augmented':am_test_dataloader, \n",
    "                                 'normal':normal_test_dataloader})[0 ]\n",
    "    metrics['run_id']=run_id\n",
    "    for k,v in opt.__dict__.items():\n",
    "       metrics[k]=v\n",
    "    res_df.append(metrics)"
   ]
  },
  {
   "cell_type": "code",
   "execution_count": 7,
   "metadata": {},
   "outputs": [],
   "source": [
    "result_df=pd.DataFrame(res_df)"
   ]
  },
  {
   "cell_type": "code",
   "execution_count": 8,
   "metadata": {},
   "outputs": [
    {
     "data": {
      "text/html": [
       "<div>\n",
       "<style scoped>\n",
       "    .dataframe tbody tr th:only-of-type {\n",
       "        vertical-align: middle;\n",
       "    }\n",
       "\n",
       "    .dataframe tbody tr th {\n",
       "        vertical-align: top;\n",
       "    }\n",
       "\n",
       "    .dataframe thead th {\n",
       "        text-align: right;\n",
       "    }\n",
       "</style>\n",
       "<table border=\"1\" class=\"dataframe\">\n",
       "  <thead>\n",
       "    <tr style=\"text-align: right;\">\n",
       "      <th></th>\n",
       "      <th>test_loss</th>\n",
       "      <th>test_hit</th>\n",
       "      <th>test_mrr</th>\n",
       "      <th>run_id</th>\n",
       "      <th>dataset</th>\n",
       "      <th>batchSize</th>\n",
       "      <th>hiddenSize</th>\n",
       "      <th>epoch</th>\n",
       "      <th>lr</th>\n",
       "      <th>lr_dc</th>\n",
       "      <th>...</th>\n",
       "      <th>augment_nogmm</th>\n",
       "      <th>augment_p</th>\n",
       "      <th>augment_mean</th>\n",
       "      <th>augment_std</th>\n",
       "      <th>augment_gmm_init</th>\n",
       "      <th>augment_prenormalize_distances</th>\n",
       "      <th>augment_noise_p</th>\n",
       "      <th>augment_alg</th>\n",
       "      <th>gmm_covariance_type</th>\n",
       "      <th>gmm_tol</th>\n",
       "    </tr>\n",
       "  </thead>\n",
       "  <tbody>\n",
       "    <tr>\n",
       "      <th>0</th>\n",
       "      <td>4.322422</td>\n",
       "      <td>70.457596</td>\n",
       "      <td>30.673080</td>\n",
       "      <td>r7bs25i7</td>\n",
       "      <td>yoochoose1_64</td>\n",
       "      <td>48</td>\n",
       "      <td>100</td>\n",
       "      <td>30</td>\n",
       "      <td>0.001</td>\n",
       "      <td>0.1</td>\n",
       "      <td>...</td>\n",
       "      <td>16</td>\n",
       "      <td>1.0</td>\n",
       "      <td>0.01</td>\n",
       "      <td>0.00</td>\n",
       "      <td>k-means++</td>\n",
       "      <td>False</td>\n",
       "      <td>0.0</td>\n",
       "      <td>gmm</td>\n",
       "      <td>full</td>\n",
       "      <td>0.001</td>\n",
       "    </tr>\n",
       "    <tr>\n",
       "      <th>1</th>\n",
       "      <td>4.308393</td>\n",
       "      <td>70.514427</td>\n",
       "      <td>30.786469</td>\n",
       "      <td>2ssf7s2q</td>\n",
       "      <td>yoochoose1_64</td>\n",
       "      <td>48</td>\n",
       "      <td>100</td>\n",
       "      <td>30</td>\n",
       "      <td>0.001</td>\n",
       "      <td>0.1</td>\n",
       "      <td>...</td>\n",
       "      <td>8</td>\n",
       "      <td>0.5</td>\n",
       "      <td>0.01</td>\n",
       "      <td>0.01</td>\n",
       "      <td>k-means++</td>\n",
       "      <td>False</td>\n",
       "      <td>0.5</td>\n",
       "      <td>raw</td>\n",
       "      <td>full</td>\n",
       "      <td>0.001</td>\n",
       "    </tr>\n",
       "    <tr>\n",
       "      <th>2</th>\n",
       "      <td>4.302582</td>\n",
       "      <td>70.721924</td>\n",
       "      <td>30.863203</td>\n",
       "      <td>hucuxl8g</td>\n",
       "      <td>yoochoose1_64</td>\n",
       "      <td>48</td>\n",
       "      <td>100</td>\n",
       "      <td>30</td>\n",
       "      <td>0.001</td>\n",
       "      <td>0.1</td>\n",
       "      <td>...</td>\n",
       "      <td>8</td>\n",
       "      <td>0.5</td>\n",
       "      <td>0.01</td>\n",
       "      <td>0.01</td>\n",
       "      <td>k-means++</td>\n",
       "      <td>False</td>\n",
       "      <td>0.5</td>\n",
       "      <td>kmeans</td>\n",
       "      <td>full</td>\n",
       "      <td>0.001</td>\n",
       "    </tr>\n",
       "    <tr>\n",
       "      <th>3</th>\n",
       "      <td>4.299349</td>\n",
       "      <td>70.784119</td>\n",
       "      <td>31.040602</td>\n",
       "      <td>1iwv7ul8</td>\n",
       "      <td>yoochoose1_64</td>\n",
       "      <td>48</td>\n",
       "      <td>100</td>\n",
       "      <td>30</td>\n",
       "      <td>0.001</td>\n",
       "      <td>0.1</td>\n",
       "      <td>...</td>\n",
       "      <td>8</td>\n",
       "      <td>0.5</td>\n",
       "      <td>0.01</td>\n",
       "      <td>0.01</td>\n",
       "      <td>k-means++</td>\n",
       "      <td>False</td>\n",
       "      <td>0.5</td>\n",
       "      <td>gmm</td>\n",
       "      <td>full</td>\n",
       "      <td>0.001</td>\n",
       "    </tr>\n",
       "    <tr>\n",
       "      <th>4</th>\n",
       "      <td>4.308428</td>\n",
       "      <td>70.515800</td>\n",
       "      <td>30.617378</td>\n",
       "      <td>sqvv043i</td>\n",
       "      <td>yoochoose1_64</td>\n",
       "      <td>48</td>\n",
       "      <td>100</td>\n",
       "      <td>30</td>\n",
       "      <td>0.001</td>\n",
       "      <td>0.1</td>\n",
       "      <td>...</td>\n",
       "      <td>8</td>\n",
       "      <td>0.5</td>\n",
       "      <td>0.01</td>\n",
       "      <td>0.01</td>\n",
       "      <td>k-means++</td>\n",
       "      <td>False</td>\n",
       "      <td>0.5</td>\n",
       "      <td>categories</td>\n",
       "      <td>full</td>\n",
       "      <td>0.001</td>\n",
       "    </tr>\n",
       "    <tr>\n",
       "      <th>5</th>\n",
       "      <td>4.317730</td>\n",
       "      <td>70.553780</td>\n",
       "      <td>30.842527</td>\n",
       "      <td>6hkj647n</td>\n",
       "      <td>yoochoose1_64</td>\n",
       "      <td>48</td>\n",
       "      <td>100</td>\n",
       "      <td>30</td>\n",
       "      <td>0.001</td>\n",
       "      <td>0.1</td>\n",
       "      <td>...</td>\n",
       "      <td>16</td>\n",
       "      <td>1.0</td>\n",
       "      <td>0.01</td>\n",
       "      <td>0.00</td>\n",
       "      <td>k-means++</td>\n",
       "      <td>False</td>\n",
       "      <td>0.0</td>\n",
       "      <td>gmm</td>\n",
       "      <td>full</td>\n",
       "      <td>0.001</td>\n",
       "    </tr>\n",
       "  </tbody>\n",
       "</table>\n",
       "<p>6 rows × 40 columns</p>\n",
       "</div>"
      ],
      "text/plain": [
       "   test_loss   test_hit   test_mrr    run_id        dataset  batchSize  \\\n",
       "0   4.322422  70.457596  30.673080  r7bs25i7  yoochoose1_64         48   \n",
       "1   4.308393  70.514427  30.786469  2ssf7s2q  yoochoose1_64         48   \n",
       "2   4.302582  70.721924  30.863203  hucuxl8g  yoochoose1_64         48   \n",
       "3   4.299349  70.784119  31.040602  1iwv7ul8  yoochoose1_64         48   \n",
       "4   4.308428  70.515800  30.617378  sqvv043i  yoochoose1_64         48   \n",
       "5   4.317730  70.553780  30.842527  6hkj647n  yoochoose1_64         48   \n",
       "\n",
       "   hiddenSize  epoch     lr  lr_dc  ...  augment_nogmm augment_p augment_mean  \\\n",
       "0         100     30  0.001    0.1  ...             16       1.0         0.01   \n",
       "1         100     30  0.001    0.1  ...              8       0.5         0.01   \n",
       "2         100     30  0.001    0.1  ...              8       0.5         0.01   \n",
       "3         100     30  0.001    0.1  ...              8       0.5         0.01   \n",
       "4         100     30  0.001    0.1  ...              8       0.5         0.01   \n",
       "5         100     30  0.001    0.1  ...             16       1.0         0.01   \n",
       "\n",
       "   augment_std  augment_gmm_init  augment_prenormalize_distances  \\\n",
       "0         0.00         k-means++                           False   \n",
       "1         0.01         k-means++                           False   \n",
       "2         0.01         k-means++                           False   \n",
       "3         0.01         k-means++                           False   \n",
       "4         0.01         k-means++                           False   \n",
       "5         0.00         k-means++                           False   \n",
       "\n",
       "   augment_noise_p  augment_alg  gmm_covariance_type  gmm_tol  \n",
       "0              0.0          gmm                 full    0.001  \n",
       "1              0.5          raw                 full    0.001  \n",
       "2              0.5       kmeans                 full    0.001  \n",
       "3              0.5          gmm                 full    0.001  \n",
       "4              0.5   categories                 full    0.001  \n",
       "5              0.0          gmm                 full    0.001  \n",
       "\n",
       "[6 rows x 40 columns]"
      ]
     },
     "execution_count": 8,
     "metadata": {},
     "output_type": "execute_result"
    }
   ],
   "source": [
    "result_df"
   ]
  },
  {
   "cell_type": "code",
   "execution_count": 9,
   "metadata": {},
   "outputs": [
    {
     "data": {
      "text/html": [
       "<div>\n",
       "<style scoped>\n",
       "    .dataframe tbody tr th:only-of-type {\n",
       "        vertical-align: middle;\n",
       "    }\n",
       "\n",
       "    .dataframe tbody tr th {\n",
       "        vertical-align: top;\n",
       "    }\n",
       "\n",
       "    .dataframe thead th {\n",
       "        text-align: right;\n",
       "    }\n",
       "</style>\n",
       "<table border=\"1\" class=\"dataframe\">\n",
       "  <thead>\n",
       "    <tr style=\"text-align: right;\">\n",
       "      <th></th>\n",
       "      <th></th>\n",
       "      <th></th>\n",
       "      <th>test_loss</th>\n",
       "      <th>test_hit</th>\n",
       "      <th>test_mrr</th>\n",
       "    </tr>\n",
       "    <tr>\n",
       "      <th>augment_matrix</th>\n",
       "      <th>augment_noise_p</th>\n",
       "      <th>augment_alg</th>\n",
       "      <th></th>\n",
       "      <th></th>\n",
       "      <th></th>\n",
       "    </tr>\n",
       "  </thead>\n",
       "  <tbody>\n",
       "    <tr>\n",
       "      <th>False</th>\n",
       "      <th>0.0</th>\n",
       "      <th>gmm</th>\n",
       "      <td>4.320076</td>\n",
       "      <td>70.505688</td>\n",
       "      <td>30.757804</td>\n",
       "    </tr>\n",
       "    <tr>\n",
       "      <th rowspan=\"4\" valign=\"top\">True</th>\n",
       "      <th rowspan=\"4\" valign=\"top\">0.5</th>\n",
       "      <th>categories</th>\n",
       "      <td>4.308428</td>\n",
       "      <td>70.515800</td>\n",
       "      <td>30.617378</td>\n",
       "    </tr>\n",
       "    <tr>\n",
       "      <th>gmm</th>\n",
       "      <td>4.299349</td>\n",
       "      <td>70.784119</td>\n",
       "      <td>31.040602</td>\n",
       "    </tr>\n",
       "    <tr>\n",
       "      <th>kmeans</th>\n",
       "      <td>4.302582</td>\n",
       "      <td>70.721924</td>\n",
       "      <td>30.863203</td>\n",
       "    </tr>\n",
       "    <tr>\n",
       "      <th>raw</th>\n",
       "      <td>4.308393</td>\n",
       "      <td>70.514427</td>\n",
       "      <td>30.786469</td>\n",
       "    </tr>\n",
       "  </tbody>\n",
       "</table>\n",
       "</div>"
      ],
      "text/plain": [
       "                                            test_loss   test_hit   test_mrr\n",
       "augment_matrix augment_noise_p augment_alg                                 \n",
       "False          0.0             gmm           4.320076  70.505688  30.757804\n",
       "True           0.5             categories    4.308428  70.515800  30.617378\n",
       "                               gmm           4.299349  70.784119  31.040602\n",
       "                               kmeans        4.302582  70.721924  30.863203\n",
       "                               raw           4.308393  70.514427  30.786469"
      ]
     },
     "execution_count": 9,
     "metadata": {},
     "output_type": "execute_result"
    }
   ],
   "source": [
    "result_df[['test_loss', 'test_hit', 'test_mrr', 'augment_matrix','augment_noise_p','augment_alg']].groupby(['augment_matrix', 'augment_noise_p', 'augment_alg']).mean()"
   ]
  },
  {
   "cell_type": "markdown",
   "metadata": {},
   "source": [
    "## Diginetica"
   ]
  },
  {
   "cell_type": "code",
   "execution_count": 4,
   "metadata": {},
   "outputs": [],
   "source": [
    "runs = ['uasx1mwm', 'kig9t38y', 'i0o5vrfp', 'keifx1eb','w0dp5onn','paiznfvc']"
   ]
  },
  {
   "cell_type": "code",
   "execution_count": 5,
   "metadata": {},
   "outputs": [
    {
     "name": "stdout",
     "output_type": "stream",
     "text": [
      "{'dataset': 'diginetica', 'batchSize': 64, 'hiddenSize': 100, 'epoch': 30, 'lr': 0.001, 'lr_dc': 0.1, 'lr_dc_step': 2, 'lr_scheduler': 'step', 'lr_milestones': ([2, 5, 8],), 'l2': 1e-06, 'step': 2, 'patience': 3, 'nonhybrid': False, 'validation': True, 'valid_portion': 0.1, 'pretrained_embedings': False, 'unfreeze_epoch': 0, 'gmm': [], 'augment_matrix': True, 'augment_clusters': False, 'augment_old_run_id': 'paiznfvc', 'augment_clip': 0, 'augment_normalize': True, 'augment_raw': False, 'weight_init': 'normal', 'augment_categories': False, 'augment_nogmm': 8, 'augment_p': 0.5, 'augment_mean': 0.01, 'augment_std': 0.01, 'augment_gmm_init': 'k-means++', 'augment_prenormalize_distances': False, 'augment_noise_p': 0.5, 'augment_alg': 'gmm', 'gmm_covariance_type': 'full', 'gmm_tol': 0.001}\n",
      "data masking start\n"
     ]
    },
    {
     "name": "stderr",
     "output_type": "stream",
     "text": [
      "100%|██████████| 64/64 [00:00<00:00, 256.67it/s]\n",
      "GPU available: True (cuda), used: True\n",
      "TPU available: False, using: 0 TPU cores\n",
      "IPU available: False, using: 0 IPUs\n",
      "HPU available: False, using: 0 HPUs\n"
     ]
    },
    {
     "name": "stdout",
     "output_type": "stream",
     "text": [
      "done masking\n"
     ]
    },
    {
     "name": "stderr",
     "output_type": "stream",
     "text": [
      "/home/kacper/anaconda3/envs/gpu_torch/lib/python3.12/site-packages/pytorch_lightning/trainer/connectors/logger_connector/logger_connector.py:75: Starting from v1.9.0, `tensorboardX` has been removed as a dependency of the `pytorch_lightning` package, due to potential conflicts with other packages in the ML ecosystem. For this reason, `logger=True` will use `CSVLogger` as the default logger, unless the `tensorboard` or `tensorboardX` packages are found. Please `pip install lightning[extra]` or one of them to enable TensorBoard support by default\n"
     ]
    }
   ],
   "source": [
    "run_id=runs[0]\n",
    "\n",
    "model,opt=load_model(run_id)\n",
    "opt.batchSize=32\n",
    "test_data = pickle.load(open('../datasets/' + opt.dataset + '/test.txt', 'rb'))\n",
    "normal_test_dataset=SRGNN_Map_Dataset(test_data, shuffle=False)\n",
    "\n",
    "normal_test_dataloader=DataLoader(normal_test_dataset, \n",
    "                            num_workers=os.cpu_count(),  \n",
    "                            sampler=SRGNN_sampler(normal_test_dataset, opt.batchSize, shuffle=False, drop_last=False)\n",
    "                            )\n",
    "trainer=Trainer(limit_test_batches=ceil(normal_test_dataset.length/opt.batchSize),\n",
    "                limit_predict_batches=ceil(normal_test_dataset.length/opt.batchSize))"
   ]
  },
  {
   "cell_type": "code",
   "execution_count": 6,
   "metadata": {},
   "outputs": [
    {
     "name": "stdout",
     "output_type": "stream",
     "text": [
      "{'dataset': 'diginetica', 'batchSize': 64, 'hiddenSize': 100, 'epoch': 30, 'lr': 0.001, 'lr_dc': 0.1, 'lr_dc_step': 2, 'lr_scheduler': 'step', 'lr_milestones': ([2, 5, 8],), 'l2': 1e-06, 'step': 2, 'patience': 3, 'nonhybrid': False, 'validation': True, 'valid_portion': 0.1, 'pretrained_embedings': False, 'unfreeze_epoch': 0, 'gmm': [], 'augment_matrix': True, 'augment_clusters': False, 'augment_old_run_id': 'paiznfvc', 'augment_clip': 0, 'augment_normalize': True, 'augment_raw': False, 'weight_init': 'normal', 'augment_categories': False, 'augment_nogmm': 8, 'augment_p': 0.5, 'augment_mean': 0.01, 'augment_std': 0.01, 'augment_gmm_init': 'k-means++', 'augment_prenormalize_distances': False, 'augment_noise_p': 0.5, 'augment_alg': 'gmm', 'gmm_covariance_type': 'full', 'gmm_tol': 0.001}\n",
      "uasx1mwm\n"
     ]
    },
    {
     "name": "stderr",
     "output_type": "stream",
     "text": [
      "LOCAL_RANK: 0 - CUDA_VISIBLE_DEVICES: [0]\n"
     ]
    },
    {
     "name": "stdout",
     "output_type": "stream",
     "text": [
      "Testing DataLoader 0: 100%|██████████| 1902/1902 [00:56<00:00, 33.41it/s]\n",
      "────────────────────────────────────────────────────────────────────────────────────────────────────────────────────────\n",
      "       Test metric             DataLoader 0\n",
      "────────────────────────────────────────────────────────────────────────────────────────────────────────────────────────\n",
      "        test_hit             51.13443374633789\n",
      "        test_loss            5.567941665649414\n",
      "        test_mrr            18.053564071655273\n",
      "────────────────────────────────────────────────────────────────────────────────────────────────────────────────────────\n",
      "{'dataset': 'diginetica', 'batchSize': 64, 'hiddenSize': 100, 'epoch': 30, 'lr': 0.001, 'lr_dc': 0.1, 'lr_dc_step': 2, 'lr_scheduler': 'step', 'lr_milestones': ([2, 5, 8],), 'l2': 1e-06, 'step': 2, 'patience': 3, 'nonhybrid': False, 'validation': True, 'valid_portion': 0.1, 'pretrained_embedings': False, 'unfreeze_epoch': 0, 'gmm': [], 'augment_matrix': True, 'augment_clusters': False, 'augment_old_run_id': 'paiznfvc', 'augment_clip': 0, 'augment_normalize': True, 'augment_raw': False, 'weight_init': 'normal', 'augment_categories': False, 'augment_nogmm': 8, 'augment_p': 0.5, 'augment_mean': 0.01, 'augment_std': 0.01, 'augment_gmm_init': 'k-means++', 'augment_prenormalize_distances': False, 'augment_noise_p': 0.5, 'augment_alg': 'kmeans', 'gmm_covariance_type': 'full', 'gmm_tol': 0.001}\n"
     ]
    },
    {
     "name": "stderr",
     "output_type": "stream",
     "text": [
      "LOCAL_RANK: 0 - CUDA_VISIBLE_DEVICES: [0]\n"
     ]
    },
    {
     "name": "stdout",
     "output_type": "stream",
     "text": [
      "kig9t38y\n",
      "Testing DataLoader 0: 100%|██████████| 1902/1902 [00:56<00:00, 33.59it/s]\n",
      "────────────────────────────────────────────────────────────────────────────────────────────────────────────────────────\n",
      "       Test metric             DataLoader 0\n",
      "────────────────────────────────────────────────────────────────────────────────────────────────────────────────────────\n",
      "        test_hit             51.1052360534668\n",
      "        test_loss            5.585332870483398\n",
      "        test_mrr            18.082056045532227\n",
      "────────────────────────────────────────────────────────────────────────────────────────────────────────────────────────\n",
      "{'dataset': 'diginetica', 'batchSize': 64, 'hiddenSize': 100, 'epoch': 30, 'lr': 0.001, 'lr_dc': 0.1, 'lr_dc_step': 2, 'lr_scheduler': 'step', 'lr_milestones': ([2, 5, 8],), 'l2': 1e-06, 'step': 2, 'patience': 3, 'nonhybrid': False, 'validation': True, 'valid_portion': 0.1, 'pretrained_embedings': False, 'unfreeze_epoch': 0, 'gmm': [], 'augment_matrix': True, 'augment_clusters': False, 'augment_old_run_id': 'paiznfvc', 'augment_clip': 0, 'augment_normalize': True, 'augment_raw': False, 'weight_init': 'normal', 'augment_categories': False, 'augment_nogmm': 8, 'augment_p': 0.5, 'augment_mean': 0.01, 'augment_std': 0.01, 'augment_gmm_init': 'k-means++', 'augment_prenormalize_distances': False, 'augment_noise_p': 0.5, 'augment_alg': 'raw', 'gmm_covariance_type': 'full', 'gmm_tol': 0.001}\n"
     ]
    },
    {
     "name": "stderr",
     "output_type": "stream",
     "text": [
      "LOCAL_RANK: 0 - CUDA_VISIBLE_DEVICES: [0]\n"
     ]
    },
    {
     "name": "stdout",
     "output_type": "stream",
     "text": [
      "i0o5vrfp\n",
      "Testing DataLoader 0: 100%|██████████| 1902/1902 [00:56<00:00, 33.55it/s]\n",
      "────────────────────────────────────────────────────────────────────────────────────────────────────────────────────────\n",
      "       Test metric             DataLoader 0\n",
      "────────────────────────────────────────────────────────────────────────────────────────────────────────────────────────\n",
      "        test_hit             51.03749465942383\n",
      "        test_loss            5.572648048400879\n",
      "        test_mrr             18.17098617553711\n",
      "────────────────────────────────────────────────────────────────────────────────────────────────────────────────────────\n",
      "{'dataset': 'diginetica', 'batchSize': 64, 'hiddenSize': 100, 'epoch': 30, 'lr': 0.001, 'lr_dc': 0.1, 'lr_dc_step': 2, 'lr_scheduler': 'step', 'lr_milestones': ([2, 5, 8],), 'l2': 1e-06, 'step': 2, 'patience': 3, 'nonhybrid': False, 'validation': True, 'valid_portion': 0.1, 'pretrained_embedings': False, 'unfreeze_epoch': 0, 'gmm': [], 'augment_matrix': True, 'augment_clusters': False, 'augment_old_run_id': 'paiznfvc', 'augment_clip': 0, 'augment_normalize': True, 'augment_raw': False, 'weight_init': 'normal', 'augment_categories': False, 'augment_nogmm': 8, 'augment_p': 0.5, 'augment_mean': 0.01, 'augment_std': 0.01, 'augment_gmm_init': 'k-means++', 'augment_prenormalize_distances': False, 'augment_noise_p': 0.5, 'augment_alg': 'gmm', 'gmm_covariance_type': 'full', 'gmm_tol': 0.001}\n"
     ]
    },
    {
     "name": "stderr",
     "output_type": "stream",
     "text": [
      "LOCAL_RANK: 0 - CUDA_VISIBLE_DEVICES: [0]\n"
     ]
    },
    {
     "name": "stdout",
     "output_type": "stream",
     "text": [
      "keifx1eb\n",
      "Testing DataLoader 0: 100%|██████████| 1902/1902 [00:57<00:00, 33.20it/s]\n",
      "────────────────────────────────────────────────────────────────────────────────────────────────────────────────────────\n",
      "       Test metric             DataLoader 0\n",
      "────────────────────────────────────────────────────────────────────────────────────────────────────────────────────────\n",
      "        test_hit             51.11104965209961\n",
      "        test_loss           5.5915656089782715\n",
      "        test_mrr            17.968429565429688\n",
      "────────────────────────────────────────────────────────────────────────────────────────────────────────────────────────\n",
      "{'dataset': 'diginetica', 'batchSize': 64, 'hiddenSize': 100, 'epoch': 30, 'lr': 0.001, 'lr_dc': 0.1, 'lr_dc_step': 2, 'lr_scheduler': 'step', 'lr_milestones': ([2, 5, 8],), 'l2': 1e-06, 'step': 2, 'patience': 3, 'nonhybrid': False, 'validation': True, 'valid_portion': 0.1, 'pretrained_embedings': False, 'unfreeze_epoch': 0, 'gmm': [], 'augment_matrix': True, 'augment_clusters': False, 'augment_old_run_id': 'paiznfvc', 'augment_clip': 0, 'augment_normalize': True, 'augment_raw': False, 'weight_init': 'normal', 'augment_categories': False, 'augment_nogmm': 8, 'augment_p': 0.5, 'augment_mean': 0.01, 'augment_std': 0.01, 'augment_gmm_init': 'k-means++', 'augment_prenormalize_distances': False, 'augment_noise_p': 0.5, 'augment_alg': 'categories', 'gmm_covariance_type': 'full', 'gmm_tol': 0.001}\n"
     ]
    },
    {
     "name": "stderr",
     "output_type": "stream",
     "text": [
      "LOCAL_RANK: 0 - CUDA_VISIBLE_DEVICES: [0]\n"
     ]
    },
    {
     "name": "stdout",
     "output_type": "stream",
     "text": [
      "w0dp5onn\n",
      "Testing DataLoader 0: 100%|██████████| 1902/1902 [00:58<00:00, 32.60it/s]\n",
      "────────────────────────────────────────────────────────────────────────────────────────────────────────────────────────\n",
      "       Test metric             DataLoader 0\n",
      "────────────────────────────────────────────────────────────────────────────────────────────────────────────────────────\n",
      "        test_hit             51.08552169799805\n",
      "        test_loss            5.575977325439453\n",
      "        test_mrr             18.00004005432129\n",
      "────────────────────────────────────────────────────────────────────────────────────────────────────────────────────────\n",
      "{'dataset': 'diginetica', 'batchSize': 64, 'hiddenSize': 100, 'epoch': 30, 'lr': 0.001, 'lr_dc': 0.1, 'lr_dc_step': 2, 'lr_scheduler': 'step', 'lr_milestones': ([2, 5, 8],), 'l2': 1e-05, 'step': 2, 'patience': 3, 'nonhybrid': False, 'validation': True, 'valid_portion': 0.1, 'pretrained_embedings': False, 'unfreeze_epoch': 0, 'gmm': [], 'augment_matrix': False, 'augment_clusters': False, 'augment_old_run_id': '', 'augment_clip': 0, 'augment_normalize': False, 'augment_raw': False, 'weight_init': 'normal', 'augment_categories': False, 'augment_nogmm': 16, 'augment_p': 1.0, 'augment_mean': 0.01, 'augment_std': 0.0, 'augment_gmm_init': 'k-means++', 'augment_prenormalize_distances': False, 'augment_noise_p': 0.0, 'augment_alg': 'gmm', 'gmm_covariance_type': 'full', 'gmm_tol': 0.001}\n"
     ]
    },
    {
     "name": "stderr",
     "output_type": "stream",
     "text": [
      "LOCAL_RANK: 0 - CUDA_VISIBLE_DEVICES: [0]\n"
     ]
    },
    {
     "name": "stdout",
     "output_type": "stream",
     "text": [
      "paiznfvc\n",
      "Testing DataLoader 0: 100%|██████████| 1902/1902 [01:01<00:00, 30.88it/s]\n",
      "────────────────────────────────────────────────────────────────────────────────────────────────────────────────────────\n",
      "       Test metric             DataLoader 0\n",
      "────────────────────────────────────────────────────────────────────────────────────────────────────────────────────────\n",
      "        test_hit             50.34490203857422\n",
      "        test_loss            5.572190284729004\n",
      "        test_mrr             17.65895652770996\n",
      "────────────────────────────────────────────────────────────────────────────────────────────────────────────────────────\n"
     ]
    }
   ],
   "source": [
    "res_df=[]\n",
    "for run_id in runs:\n",
    "    try:\n",
    "      model,opt=load_model(run_id)\n",
    "    except IndexError:\n",
    "       continue\n",
    "\n",
    "    print(run_id)\n",
    "    metrics=trainer.test(model, {#'augmented':am_test_dataloader, \n",
    "                                 'normal':normal_test_dataloader})[0 ]\n",
    "    metrics['run_id']=run_id\n",
    "    for k,v in opt.__dict__.items():\n",
    "       metrics[k]=v\n",
    "    res_df.append(metrics)"
   ]
  },
  {
   "cell_type": "code",
   "execution_count": 7,
   "metadata": {},
   "outputs": [],
   "source": [
    "result_df=pd.DataFrame(res_df)"
   ]
  },
  {
   "cell_type": "code",
   "execution_count": 11,
   "metadata": {},
   "outputs": [
    {
     "data": {
      "text/html": [
       "<div>\n",
       "<style scoped>\n",
       "    .dataframe tbody tr th:only-of-type {\n",
       "        vertical-align: middle;\n",
       "    }\n",
       "\n",
       "    .dataframe tbody tr th {\n",
       "        vertical-align: top;\n",
       "    }\n",
       "\n",
       "    .dataframe thead th {\n",
       "        text-align: right;\n",
       "    }\n",
       "</style>\n",
       "<table border=\"1\" class=\"dataframe\">\n",
       "  <thead>\n",
       "    <tr style=\"text-align: right;\">\n",
       "      <th></th>\n",
       "      <th>test_loss</th>\n",
       "      <th>test_hit</th>\n",
       "      <th>test_mrr</th>\n",
       "      <th>run_id</th>\n",
       "      <th>augment_matrix</th>\n",
       "      <th>augment_alg</th>\n",
       "    </tr>\n",
       "  </thead>\n",
       "  <tbody>\n",
       "    <tr>\n",
       "      <th>0</th>\n",
       "      <td>5.567942</td>\n",
       "      <td>51.134434</td>\n",
       "      <td>18.053564</td>\n",
       "      <td>uasx1mwm</td>\n",
       "      <td>True</td>\n",
       "      <td>gmm</td>\n",
       "    </tr>\n",
       "    <tr>\n",
       "      <th>1</th>\n",
       "      <td>5.585333</td>\n",
       "      <td>51.105236</td>\n",
       "      <td>18.082056</td>\n",
       "      <td>kig9t38y</td>\n",
       "      <td>True</td>\n",
       "      <td>kmeans</td>\n",
       "    </tr>\n",
       "    <tr>\n",
       "      <th>2</th>\n",
       "      <td>5.572648</td>\n",
       "      <td>51.037495</td>\n",
       "      <td>18.170986</td>\n",
       "      <td>i0o5vrfp</td>\n",
       "      <td>True</td>\n",
       "      <td>raw</td>\n",
       "    </tr>\n",
       "    <tr>\n",
       "      <th>3</th>\n",
       "      <td>5.591566</td>\n",
       "      <td>51.111050</td>\n",
       "      <td>17.968430</td>\n",
       "      <td>keifx1eb</td>\n",
       "      <td>True</td>\n",
       "      <td>gmm</td>\n",
       "    </tr>\n",
       "    <tr>\n",
       "      <th>4</th>\n",
       "      <td>5.575977</td>\n",
       "      <td>51.085522</td>\n",
       "      <td>18.000040</td>\n",
       "      <td>w0dp5onn</td>\n",
       "      <td>True</td>\n",
       "      <td>categories</td>\n",
       "    </tr>\n",
       "    <tr>\n",
       "      <th>5</th>\n",
       "      <td>5.572190</td>\n",
       "      <td>50.344902</td>\n",
       "      <td>17.658957</td>\n",
       "      <td>paiznfvc</td>\n",
       "      <td>False</td>\n",
       "      <td>gmm</td>\n",
       "    </tr>\n",
       "  </tbody>\n",
       "</table>\n",
       "</div>"
      ],
      "text/plain": [
       "   test_loss   test_hit   test_mrr    run_id  augment_matrix augment_alg\n",
       "0   5.567942  51.134434  18.053564  uasx1mwm            True         gmm\n",
       "1   5.585333  51.105236  18.082056  kig9t38y            True      kmeans\n",
       "2   5.572648  51.037495  18.170986  i0o5vrfp            True         raw\n",
       "3   5.591566  51.111050  17.968430  keifx1eb            True         gmm\n",
       "4   5.575977  51.085522  18.000040  w0dp5onn            True  categories\n",
       "5   5.572190  50.344902  17.658957  paiznfvc           False         gmm"
      ]
     },
     "execution_count": 11,
     "metadata": {},
     "output_type": "execute_result"
    }
   ],
   "source": [
    "result_df[['test_loss', 'test_hit', 'test_mrr', 'run_id','augment_matrix','augment_alg']]"
   ]
  },
  {
   "cell_type": "code",
   "execution_count": 9,
   "metadata": {},
   "outputs": [
    {
     "data": {
      "text/html": [
       "<div>\n",
       "<style scoped>\n",
       "    .dataframe tbody tr th:only-of-type {\n",
       "        vertical-align: middle;\n",
       "    }\n",
       "\n",
       "    .dataframe tbody tr th {\n",
       "        vertical-align: top;\n",
       "    }\n",
       "\n",
       "    .dataframe thead th {\n",
       "        text-align: right;\n",
       "    }\n",
       "</style>\n",
       "<table border=\"1\" class=\"dataframe\">\n",
       "  <thead>\n",
       "    <tr style=\"text-align: right;\">\n",
       "      <th></th>\n",
       "      <th></th>\n",
       "      <th></th>\n",
       "      <th>test_loss</th>\n",
       "      <th>test_hit</th>\n",
       "      <th>test_mrr</th>\n",
       "    </tr>\n",
       "    <tr>\n",
       "      <th>augment_matrix</th>\n",
       "      <th>augment_noise_p</th>\n",
       "      <th>augment_alg</th>\n",
       "      <th></th>\n",
       "      <th></th>\n",
       "      <th></th>\n",
       "    </tr>\n",
       "  </thead>\n",
       "  <tbody>\n",
       "    <tr>\n",
       "      <th>False</th>\n",
       "      <th>0.0</th>\n",
       "      <th>gmm</th>\n",
       "      <td>5.572190</td>\n",
       "      <td>50.344902</td>\n",
       "      <td>17.658957</td>\n",
       "    </tr>\n",
       "    <tr>\n",
       "      <th rowspan=\"4\" valign=\"top\">True</th>\n",
       "      <th rowspan=\"4\" valign=\"top\">0.5</th>\n",
       "      <th>categories</th>\n",
       "      <td>5.575977</td>\n",
       "      <td>51.085522</td>\n",
       "      <td>18.000040</td>\n",
       "    </tr>\n",
       "    <tr>\n",
       "      <th>gmm</th>\n",
       "      <td>5.579754</td>\n",
       "      <td>51.122742</td>\n",
       "      <td>18.010997</td>\n",
       "    </tr>\n",
       "    <tr>\n",
       "      <th>kmeans</th>\n",
       "      <td>5.585333</td>\n",
       "      <td>51.105236</td>\n",
       "      <td>18.082056</td>\n",
       "    </tr>\n",
       "    <tr>\n",
       "      <th>raw</th>\n",
       "      <td>5.572648</td>\n",
       "      <td>51.037495</td>\n",
       "      <td>18.170986</td>\n",
       "    </tr>\n",
       "  </tbody>\n",
       "</table>\n",
       "</div>"
      ],
      "text/plain": [
       "                                            test_loss   test_hit   test_mrr\n",
       "augment_matrix augment_noise_p augment_alg                                 \n",
       "False          0.0             gmm           5.572190  50.344902  17.658957\n",
       "True           0.5             categories    5.575977  51.085522  18.000040\n",
       "                               gmm           5.579754  51.122742  18.010997\n",
       "                               kmeans        5.585333  51.105236  18.082056\n",
       "                               raw           5.572648  51.037495  18.170986"
      ]
     },
     "execution_count": 9,
     "metadata": {},
     "output_type": "execute_result"
    }
   ],
   "source": [
    "result_df[['test_loss', 'test_hit', 'test_mrr', 'augment_matrix','augment_noise_p','augment_alg']].groupby(['augment_matrix', 'augment_noise_p', 'augment_alg']).mean()"
   ]
  },
  {
   "cell_type": "code",
   "execution_count": null,
   "metadata": {},
   "outputs": [],
   "source": []
  }
 ],
 "metadata": {
  "kernelspec": {
   "display_name": "gpu_torch",
   "language": "python",
   "name": "python3"
  },
  "language_info": {
   "codemirror_mode": {
    "name": "ipython",
    "version": 3
   },
   "file_extension": ".py",
   "mimetype": "text/x-python",
   "name": "python",
   "nbconvert_exporter": "python",
   "pygments_lexer": "ipython3",
   "version": "3.12.1"
  }
 },
 "nbformat": 4,
 "nbformat_minor": 2
}
